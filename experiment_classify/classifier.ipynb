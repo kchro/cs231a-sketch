{
 "cells": [
  {
   "cell_type": "markdown",
   "metadata": {},
   "source": [
    "# Experimental Classifications"
   ]
  },
  {
   "cell_type": "code",
   "execution_count": 1,
   "metadata": {},
   "outputs": [],
   "source": [
    "# Imports\n",
    "import numpy as np\n",
    "import pandas as pd\n",
    "import itertools\n",
    "\n",
    "%matplotlib inline\n",
    "import matplotlib.pyplot as plt\n",
    "\n",
    "from sklearn.ensemble import RandomForestClassifier\n",
    "from sklearn.neighbors import KNeighborsClassifier\n",
    "from sklearn.svm import SVC, LinearSVC\n",
    "from sklearn.linear_model import SGDClassifier\n",
    "from sklearn.neural_network import MLPClassifier\n",
    "\n",
    "from sklearn.metrics import accuracy_score, confusion_matrix, roc_curve, roc_auc_score\n",
    "from sklearn.model_selection import train_test_split, GridSearchCV"
   ]
  },
  {
   "cell_type": "code",
   "execution_count": 2,
   "metadata": {},
   "outputs": [
    {
     "name": "stderr",
     "output_type": "stream",
     "text": [
      "/Users/xihua/ENV/lib/python2.7/site-packages/h5py/__init__.py:36: FutureWarning: Conversion of the second argument of issubdtype from `float` to `np.floating` is deprecated. In future, it will be treated as `np.float64 == np.dtype(float).type`.\n",
      "  from ._conv import register_converters as _register_converters\n",
      "Using TensorFlow backend.\n"
     ]
    }
   ],
   "source": [
    "import keras\n",
    "from keras.models import Sequential\n",
    "from keras.layers import Dense, Dropout, Flatten\n",
    "from keras.layers.convolutional import Conv2D, MaxPooling2D\n",
    "from keras.utils import np_utils\n",
    "from keras import backend as K\n",
    "K.set_image_dim_ordering('th')\n",
    "from keras.models import load_model"
   ]
  },
  {
   "cell_type": "markdown",
   "metadata": {},
   "source": [
    "Two useful functions: I wrote one to plot 28x28 pixel images from numpy arrays and will use one to plot the confusion matrix from the [scikit-learn documentation](http://scikit-learn.org/stable/auto_examples/model_selection/plot_confusion_matrix.html#sphx-glr-auto-examples-model-selection-plot-confusion-matrix-py)."
   ]
  },
  {
   "cell_type": "code",
   "execution_count": null,
   "metadata": {},
   "outputs": [],
   "source": [
    "def plot_samples(input_array, rows=4, cols=5, title=''):\n",
    "    '''\n",
    "    Function to plot 28x28 pixel drawings that are stored in a numpy array.\n",
    "    Specify how many rows and cols of pictures to display (default 4x5).  \n",
    "    If the array contains less images than subplots selected, surplus subplots remain empty.\n",
    "    '''\n",
    "    \n",
    "    fig, ax = plt.subplots(figsize=(cols,rows))\n",
    "    ax.axis('off')\n",
    "    plt.title(title)\n",
    "\n",
    "    for i in list(range(0, min(len(input_array),(rows*cols)) )):      \n",
    "        a = fig.add_subplot(rows,cols,i+1)\n",
    "        imgplot = plt.imshow(input_array[i,:784].reshape((28,28)), cmap='gray_r', interpolation='nearest')\n",
    "        plt.xticks([])\n",
    "        plt.yticks([])"
   ]
  },
  {
   "cell_type": "code",
   "execution_count": null,
   "metadata": {},
   "outputs": [],
   "source": [
    "#ALLOWS YOU TO SEE SAMPLES\n",
    "plot_samples(ear, title='Sample ear drawings\\n')"
   ]
  },
  {
   "cell_type": "code",
   "execution_count": null,
   "metadata": {},
   "outputs": [],
   "source": [
    "# K MEANS"
   ]
  },
  {
   "cell_type": "code",
   "execution_count": null,
   "metadata": {},
   "outputs": [],
   "source": [
    "#DATA PREPROCESSING\n",
    "\n",
    "# load the data\n",
    "ear = np.load('datasets/ear.npy')\n",
    "eye = np.load('datasets/eye.npy')\n",
    "mouth = np.load('datasets/mouth.npy')\n",
    "nose = np.load('datasets/nose.npy')\n",
    "\n",
    "# add a column with labels\n",
    "ear = np.c_[ear, np.zeros(len(ear))]\n",
    "eye = np.c_[eye, np.ones(len(eye))]\n",
    "mouth = np.c_[mouth, 2*np.ones(len(mouth))]\n",
    "nose = np.c_[nose, 3*np.ones(len(nose))]\n",
    "\n",
    "# store the label codes in a dictionary\n",
    "label_dict = {0:'ear', 1:'eye', 2:'mouth', 3:'nose'}\n",
    "\n",
    "#PREPARE DATA FOR SCIKIT-LEARN\n",
    "\n",
    "X = np.concatenate((ear[:72500,:-1], eye[:72500,:-1], mouth[:72500,:-1], nose[:72500,:-1]), axis=0).astype('float32') # all columns but the last\n",
    "y = np.concatenate((ear[:72500,-1], eye[:72500,-1], mouth[:72500,-1], nose[:72500,-1]), axis=0).astype('float32') # the last column\n",
    "\n",
    "# train/test split (divide by 255 to obtain normalized values between 0 and 1)\n",
    "# I will use a 50:50 split, since I want to start by training the models on 5'000 samples and thus have plenty of samples to spare for testing.\n",
    "X_train, X_test, y_train, y_test = train_test_split(X/255.,y,test_size=0.2,random_state=0)"
   ]
  },
  {
   "cell_type": "code",
   "execution_count": null,
   "metadata": {},
   "outputs": [],
   "source": [
    "ear0=ear[0:1,:-1]/255.\n",
    "eye0=eye[0:1,:-1]/255.\n",
    "mouth0=mouth[0:1,:-1]/255.\n",
    "nose0=nose[0:1,:-1]/255.\n",
    "print np.shape(X_train[0])\n",
    "print np.shape(ear0)\n",
    "init_c = np.vstack((ear0,eye0,mouth0,nose0))\n",
    "print np.shape(init_c)"
   ]
  },
  {
   "cell_type": "code",
   "execution_count": null,
   "metadata": {},
   "outputs": [],
   "source": [
    "from sklearn.cluster import KMeans\n",
    "kmeans = KMeans(n_clusters=4, init = init_c, random_state=0).fit(X_train)"
   ]
  },
  {
   "cell_type": "code",
   "execution_count": null,
   "metadata": {},
   "outputs": [],
   "source": [
    "l = kmeans.labels_\n",
    "c = kmeans.cluster_centers_\n",
    "print np.shape(l)\n",
    "print np.shape(c)"
   ]
  },
  {
   "cell_type": "code",
   "execution_count": null,
   "metadata": {},
   "outputs": [],
   "source": [
    "sample = mouth[7:8,:-1]/255\n",
    "kmeans.predict(sample)[0]"
   ]
  },
  {
   "cell_type": "code",
   "execution_count": null,
   "metadata": {},
   "outputs": [],
   "source": [
    "preds = [0,0,0,0]\n",
    "for i in range(20000,20625):\n",
    "    j = i + 1\n",
    "    #to read in a sample, divide by 255\n",
    "    sample = mouth[i:j,:-1]/255\n",
    "    #print np.shape(sample)\n",
    "    sample_pred = int(kmeans.predict(sample)[0])\n",
    "    count = preds[sample_pred]\n",
    "    preds[sample_pred] += 1\n",
    "    if count < 3:\n",
    "        outfile = \"kmeans/mouth_\" + str(i) + \"_\" + str(int(sample_pred)) + \".png\"\n",
    "        imgplot = plt.imshow(sample.reshape((28,28)), cmap='gray_r', interpolation='nearest')\n",
    "        plt.savefig(outfile)\n",
    "print preds"
   ]
  },
  {
   "cell_type": "markdown",
   "metadata": {
    "collapsed": true
   },
   "source": [
    "## K Nearest Neighbors"
   ]
  },
  {
   "cell_type": "code",
   "execution_count": null,
   "metadata": {},
   "outputs": [],
   "source": [
    "#DATA PREPROCESSING\n",
    "\n",
    "# load the data\n",
    "ear = np.load('datasets/ear.npy')\n",
    "eye = np.load('datasets/eye.npy')\n",
    "mouth = np.load('datasets/mouth.npy')\n",
    "nose = np.load('datasets/nose.npy')\n",
    "\n",
    "# add a column with labels\n",
    "ear = np.c_[ear, np.zeros(len(ear))]\n",
    "eye = np.c_[eye, np.ones(len(eye))]\n",
    "mouth = np.c_[mouth, 2*np.ones(len(mouth))]\n",
    "nose = np.c_[nose, 3*np.ones(len(nose))]\n",
    "\n",
    "# store the label codes in a dictionary\n",
    "label_dict = {0:'ear', 1:'eye', 2:'mouth', 3:'nose'}"
   ]
  },
  {
   "cell_type": "code",
   "execution_count": null,
   "metadata": {},
   "outputs": [],
   "source": [
    "#PREPARE DATA FOR SCIKIT-LEARN\n",
    "\n",
    "X = np.concatenate((ear[:72500,:-1], eye[:72500,:-1], mouth[:72500,:-1], nose[:72500,:-1]), axis=0).astype('float32') # all columns but the last\n",
    "y = np.concatenate((ear[:72500,-1], eye[:72500,-1], mouth[:72500,-1], nose[:72500,-1]), axis=0).astype('float32') # the last column\n",
    "\n",
    "# train/test split (divide by 255 to obtain normalized values between 0 and 1)\n",
    "# I will use a 50:50 split, since I want to start by training the models on 5'000 samples and thus have plenty of samples to spare for testing.\n",
    "X_train, X_test, y_train, y_test = train_test_split(X/255.,y,test_size=0.2,random_state=0)"
   ]
  },
  {
   "cell_type": "code",
   "execution_count": null,
   "metadata": {},
   "outputs": [],
   "source": [
    "%%time \n",
    "\n",
    "#RUN KNN ALGORITHM\n",
    "clf_knn = KNeighborsClassifier(n_neighbors = 4,n_jobs=-1)\n",
    "clf_knn.fit(X_train, y_train)\n",
    "y_pred_knn = clf_knn.predict(X_test)\n",
    "acc_knn = accuracy_score(y_test, y_pred_knn)\n",
    "print ('KNN accuracy: ',acc_knn)"
   ]
  },
  {
   "cell_type": "code",
   "execution_count": null,
   "metadata": {},
   "outputs": [],
   "source": [
    "#GET INDIVIDUAL PREDICTIVE SCORE\n",
    "#read in data file or choose one:\n",
    "print np.shape(X_test)\n",
    "print np.shape(y_pred_knn)\n",
    "test_sample = X_test[0:1]\n",
    "print np.shape(test_sample)\n",
    "test_pred = clf_knn.predict(test_sample)\n",
    "print test_pred\n",
    "imgplot = plt.imshow(test_sample.reshape((28,28)), cmap='gray_r', interpolation='nearest')\n",
    "plt.savefig(\"test.png\")\n",
    "print np.shape(ear[:12500,:-1])"
   ]
  },
  {
   "cell_type": "code",
   "execution_count": null,
   "metadata": {},
   "outputs": [],
   "source": [
    "errors = 0\n",
    "for i in range(20000,20625):\n",
    "    j = i + 1\n",
    "    #to read in a sample, divide by 255\n",
    "    sample = mouth[i:j,:-1]/255\n",
    "    #print np.shape(sample)\n",
    "    sample_pred = clf_knn.predict(sample)\n",
    "    if not(sample_pred == 2):\n",
    "        errors += 1\n",
    "        #print i, sample_pred\n",
    "        #if errors <= 25:\n",
    "            #outfile = \"knnerrors/nose_\" + str(i) + \"_\" + str(int(sample_pred[0])) + \".png\"\n",
    "            #imgplot = plt.imshow(sample.reshape((28,28)), cmap='gray_r', interpolation='nearest')\n",
    "            #plt.savefig(outfile)\n",
    "print errors"
   ]
  },
  {
   "cell_type": "markdown",
   "metadata": {
    "collapsed": true
   },
   "source": [
    "## Convolutional Neural Network (CNN)"
   ]
  },
  {
   "cell_type": "markdown",
   "metadata": {},
   "source": [
    "Let's try out a Convolutional Neural Network (CNN) with Keras. I will use a model from this [tutorial](http://machinelearningmastery.com/handwritten-digit-recognition-using-convolutional-neural-networks-python-keras/) by Jason Brownlee. It has the following 9 layers:\n",
    "\n",
    "1. Convolutional layer with 30 feature maps of size 5×5. \n",
    "2. Pooling layer taking the max over 2*2 patches. \n",
    "3. Convolutional layer with 15 feature maps of size 3×3.\n",
    "4. Pooling layer taking the max over 2*2 patches.\n",
    "5. Dropout layer with a probability of 20%. \n",
    "6. Flatten layer. \n",
    "7. Fully connected layer with 128 neurons and rectifier activation. \n",
    "8. Fully connected layer with 50 neurons and rectifier activation. \n",
    "9. Output layer.\n",
    "\n",
    "Keras requires one hot encoding of the y labels:"
   ]
  },
  {
   "cell_type": "code",
   "execution_count": 15,
   "metadata": {},
   "outputs": [],
   "source": [
    "# define the CNN model\n",
    "def cnn_model():\n",
    "    # create model\n",
    "    model = Sequential()\n",
    "    model.add(Conv2D(30, (5, 5), input_shape=(1, 28, 28), activation='relu'))\n",
    "    model.add(MaxPooling2D(pool_size=(2, 2)))\n",
    "    model.add(Dropout(0.2))\n",
    "    model.add(Flatten())\n",
    "    model.add(Dense(128, activation='relu'))\n",
    "    model.add(Dense(num_classes, activation='softmax'))\n",
    "    # Compile model\n",
    "    model.compile(loss='categorical_crossentropy', optimizer='adam', metrics=['accuracy'])\n",
    "    return model"
   ]
  },
  {
   "cell_type": "code",
   "execution_count": 16,
   "metadata": {},
   "outputs": [
    {
     "name": "stdout",
     "output_type": "stream",
     "text": [
      "(58000, 1, 28, 28)\n"
     ]
    },
    {
     "ename": "NameError",
     "evalue": "name 'y_pred_cnn' is not defined",
     "output_type": "error",
     "traceback": [
      "\u001b[0;31m---------------------------------------------------------------------------\u001b[0m",
      "\u001b[0;31mNameError\u001b[0m                                 Traceback (most recent call last)",
      "\u001b[0;32m<ipython-input-16-2f427a9ecffd>\u001b[0m in \u001b[0;36m<module>\u001b[0;34m()\u001b[0m\n\u001b[1;32m      1\u001b[0m \u001b[0;32mprint\u001b[0m \u001b[0mnp\u001b[0m\u001b[0;34m.\u001b[0m\u001b[0mshape\u001b[0m\u001b[0;34m(\u001b[0m\u001b[0mX_test_cnn\u001b[0m\u001b[0;34m)\u001b[0m\u001b[0;34m\u001b[0m\u001b[0m\n\u001b[0;32m----> 2\u001b[0;31m \u001b[0;32mprint\u001b[0m \u001b[0mnp\u001b[0m\u001b[0;34m.\u001b[0m\u001b[0mshape\u001b[0m\u001b[0;34m(\u001b[0m\u001b[0my_pred_cnn\u001b[0m\u001b[0;34m)\u001b[0m\u001b[0;34m\u001b[0m\u001b[0m\n\u001b[0m\u001b[1;32m      3\u001b[0m \u001b[0mtest_sample\u001b[0m \u001b[0;34m=\u001b[0m \u001b[0mX_test_cnn\u001b[0m\u001b[0;34m[\u001b[0m\u001b[0;36m0\u001b[0m\u001b[0;34m:\u001b[0m\u001b[0;36m1\u001b[0m\u001b[0;34m]\u001b[0m\u001b[0;34m\u001b[0m\u001b[0m\n\u001b[1;32m      4\u001b[0m \u001b[0;32mprint\u001b[0m \u001b[0mnp\u001b[0m\u001b[0;34m.\u001b[0m\u001b[0mshape\u001b[0m\u001b[0;34m(\u001b[0m\u001b[0mtest_sample\u001b[0m\u001b[0;34m)\u001b[0m\u001b[0;34m\u001b[0m\u001b[0m\n\u001b[1;32m      5\u001b[0m \u001b[0mtest_pred\u001b[0m \u001b[0;34m=\u001b[0m \u001b[0mmodel\u001b[0m\u001b[0;34m.\u001b[0m\u001b[0mpredict_classes\u001b[0m\u001b[0;34m(\u001b[0m\u001b[0mtest_sample\u001b[0m\u001b[0;34m,\u001b[0m \u001b[0mverbose\u001b[0m\u001b[0;34m=\u001b[0m\u001b[0;36m0\u001b[0m\u001b[0;34m)\u001b[0m\u001b[0;34m\u001b[0m\u001b[0m\n",
      "\u001b[0;31mNameError\u001b[0m: name 'y_pred_cnn' is not defined"
     ]
    }
   ],
   "source": [
    "print np.shape(X_test_cnn)\n",
    "print np.shape(y_pred_cnn)\n",
    "test_sample = X_test_cnn[0:1]\n",
    "print np.shape(test_sample)\n",
    "test_pred = model.predict_classes(test_sample, verbose=0)\n",
    "print test_pred"
   ]
  },
  {
   "cell_type": "markdown",
   "metadata": {
    "collapsed": true
   },
   "source": [
    "CNN CODE : Preprocessing for Keras:"
   ]
  },
  {
   "cell_type": "code",
   "execution_count": 5,
   "metadata": {},
   "outputs": [],
   "source": [
    "#DATA PREPROCESSING\n",
    "\n",
    "# load the data\n",
    "ear = np.load('datasets/ear.npy')\n",
    "eye = np.load('datasets/eye.npy')\n",
    "mouth = np.load('datasets/mouth.npy')\n",
    "nose = np.load('datasets/nose.npy')\n",
    "\n",
    "# add a column with labels\n",
    "ear = np.c_[ear, np.zeros(len(ear))]\n",
    "eye = np.c_[eye, np.ones(len(eye))]\n",
    "mouth = np.c_[mouth, 2*np.ones(len(mouth))]\n",
    "nose = np.c_[nose, 3*np.ones(len(nose))]\n",
    "\n",
    "# store the label codes in a dictionary\n",
    "label_dict = {0:'ear', 1:'eye', 2:'mouth', 3:'nose'}\n",
    "\n",
    "#PREPARE DATA FOR SCIKIT-LEARN\n",
    "\n",
    "X = np.concatenate((ear[:72500,:-1], eye[:72500,:-1], mouth[:72500,:-1], nose[:72500,:-1]), axis=0).astype('float32') # all columns but the last\n",
    "y = np.concatenate((ear[:72500,-1], eye[:72500,-1], mouth[:72500,-1], nose[:72500,-1]), axis=0).astype('float32') # the last column\n",
    "\n",
    "# train/test split (divide by 255 to obtain normalized values between 0 and 1)\n",
    "# I will use a 50:50 split, since I want to start by training the models on 5'000 samples and thus have plenty of samples to spare for testing.\n",
    "X_train, X_test, y_train, y_test = train_test_split(X/255.,y,test_size=0.2,random_state=0)"
   ]
  },
  {
   "cell_type": "code",
   "execution_count": 6,
   "metadata": {},
   "outputs": [],
   "source": [
    "# one hot encode outputs\n",
    "y_train_cnn = np_utils.to_categorical(y_train)\n",
    "y_test_cnn = np_utils.to_categorical(y_test)\n",
    "num_classes = y_test_cnn.shape[1]"
   ]
  },
  {
   "cell_type": "code",
   "execution_count": 7,
   "metadata": {},
   "outputs": [],
   "source": [
    "# reshape to be [samples][pixels][width][height]\n",
    "X_train_cnn = X_train.reshape(X_train.shape[0], 1, 28, 28).astype('float32')\n",
    "X_test_cnn = X_test.reshape(X_test.shape[0], 1, 28, 28).astype('float32')"
   ]
  },
  {
   "cell_type": "code",
   "execution_count": null,
   "metadata": {},
   "outputs": [],
   "source": [
    "%%time\n",
    "\n",
    "# build the model\n",
    "model = cnn_model()\n",
    "# Fit the model\n",
    "model.fit(X_train_cnn, y_train_cnn, validation_data=(X_test_cnn, y_test_cnn), epochs=30, batch_size=100)\n",
    "#save the model\n",
    "model.save(\"checkpoint/checkpoint_300K.h5\")\n",
    "#model = load_model('my_model.h5')"
   ]
  },
  {
   "cell_type": "code",
   "execution_count": 8,
   "metadata": {},
   "outputs": [],
   "source": [
    "model = cnn_model()\n",
    "model = load_model(\"checkpoint/checkpoint_300K.h5\")"
   ]
  },
  {
   "cell_type": "markdown",
   "metadata": {},
   "source": [
    "Again, the CNN with Keras performed best.\n",
    "\n",
    "Let's take a look at the predictions of the CNN:"
   ]
  },
  {
   "cell_type": "code",
   "execution_count": null,
   "metadata": {},
   "outputs": [],
   "source": [
    "# Final evaluation of the model\n",
    "scores = model.evaluate(X_test_cnn, y_test_cnn, verbose=0)\n",
    "print('Final CNN accuracy: ', scores[1])"
   ]
  },
  {
   "cell_type": "code",
   "execution_count": null,
   "metadata": {},
   "outputs": [],
   "source": [
    "print np.shape(X_test_cnn)\n",
    "test_sample = X_test_cnn[0:1]\n",
    "print np.shape(test_sample)\n",
    "test_pred = model.predict_classes(test_sample)\n",
    "test_pred = model.predict(test_sample)\n",
    "conf = max(test_pred[0])\n",
    "print test_pred\n",
    "print conf"
   ]
  },
  {
   "cell_type": "code",
   "execution_count": 14,
   "metadata": {
    "scrolled": true
   },
   "outputs": [
    {
     "name": "stdout",
     "output_type": "stream",
     "text": [
      "[1, 7, 0, 2]\n"
     ]
    },
    {
     "data": {
      "image/png": "[encoded data removed]",
      "text/plain": [
       "<Figure size 432x288 with 1 Axes>"
      ]
     },
     "metadata": {},
     "output_type": "display_data"
    }
   ],
   "source": [
    "errors = [0,0,0,0]\n",
    "for i in range(20000,20625):\n",
    "    j = i + 1\n",
    "    #to read in a sample, divide by 255\n",
    "    sample = mouth[i:j,:-1]/255\n",
    "    sample = np.reshape(sample,(1,1,28,28))\n",
    "    #print np.shape(sample)\n",
    "    sample_pred = model.predict_classes(sample,verbose=0)\n",
    "    if not(sample_pred == 2):\n",
    "        errors[int(sample_pred)] = errors[int(sample_pred)] + 1\n",
    "        #print i, sample_pred\n",
    "        if sum(errors) <= 5:\n",
    "            outfile = \"cnnerrors/mouth_\" + str(i) + \"_\" + str(int(sample_pred[0])) + \".png\"\n",
    "            imgplot = plt.imshow(sample.reshape((28,28)), cmap='gray_r', interpolation='nearest')\n",
    "            plt.savefig(outfile)\n",
    "print errors"
   ]
  },
  {
   "cell_type": "code",
   "execution_count": null,
   "metadata": {},
   "outputs": [],
   "source": [
    "# Compute confusion matrix\n",
    "cnf_matrix = confusion_matrix(y_test, y_pred_cnn)\n",
    "np.set_printoptions(precision=2)\n",
    "\n",
    "# Plot non-normalized confusion matrix\n",
    "plt.figure()\n",
    "plot_confusion_matrix(cnf_matrix, classes=['dog','octopus','bee','hedgehog','giraffe'],\n",
    "                      title='Confusion matrix, without normalization')\n",
    "\n",
    "plt.show()"
   ]
  },
  {
   "cell_type": "markdown",
   "metadata": {},
   "source": [
    "Let's see what probabilities were predicted by the model:"
   ]
  },
  {
   "cell_type": "code",
   "execution_count": null,
   "metadata": {},
   "outputs": [],
   "source": [
    "cnn_probab = model.predict(X_test_cnn, batch_size=32, verbose=0)\n",
    "\n",
    "# extract the probability for the label that was predicted:\n",
    "p_max = np.amax(cnn_probab, axis=1)\n",
    "\n",
    "plt.hist(p_max, normed=True, bins=list(np.linspace(0,1,11)));\n",
    "plt.xlabel('p of predicted class');"
   ]
  },
  {
   "cell_type": "markdown",
   "metadata": {},
   "source": [
    "For about 70% of the pictures, the CNN predicted the label with > 90% certainty.\n",
    "\n",
    "If the predictions of the CNN are well calibrated, the average prediction certainty should be equal to the accuracy (90%), which is indeed the case:"
   ]
  },
  {
   "cell_type": "code",
   "execution_count": null,
   "metadata": {},
   "outputs": [],
   "source": [
    "np.mean(p_max)"
   ]
  },
  {
   "cell_type": "markdown",
   "metadata": {},
   "source": [
    "The lowest certainty of a prediction is about 25%:"
   ]
  },
  {
   "cell_type": "code",
   "execution_count": null,
   "metadata": {},
   "outputs": [],
   "source": [
    "np.amin(p_max)"
   ]
  },
  {
   "cell_type": "markdown",
   "metadata": {},
   "source": [
    "Let's take a look at some predictions in detail:"
   ]
  },
  {
   "cell_type": "code",
   "execution_count": null,
   "metadata": {},
   "outputs": [],
   "source": [
    "fig, ax = plt.subplots(figsize=(6,15))\n",
    "\n",
    "for i in list(range(10)):\n",
    "\n",
    "    # plot probabilities:\n",
    "    ax = plt.subplot2grid((10, 5), (i, 0), colspan=4);\n",
    "    plt.bar(np.arange(5), cnn_probab[i], 0.35, align='center');\n",
    "    plt.xticks(np.arange(5), ['dog','octopus','bee','hedgehog','giraffe'])\n",
    "    plt.tick_params(axis='x', bottom='off', top='off')\n",
    "    plt.ylabel('Probability')\n",
    "    plt.ylim(0,1)\n",
    "    plt.subplots_adjust(hspace = 0.5)\n",
    "\n",
    "    # plot picture:\n",
    "    ax = plt.subplot2grid((10, 5), (i, 4));\n",
    "    plt.imshow(X_test[i].reshape((28,28)),cmap='gray_r', interpolation='nearest');\n",
    "    plt.xlabel(label_dict[y_test[i]]); # get the label from the dict\n",
    "    plt.xticks([])\n",
    "    plt.yticks([])"
   ]
  },
  {
   "cell_type": "markdown",
   "metadata": {},
   "source": [
    "Let's take a look at some pictures where the CNN was very unsure about the label by filtering with [p_max<0.4]:"
   ]
  },
  {
   "cell_type": "code",
   "execution_count": null,
   "metadata": {
    "scrolled": false
   },
   "outputs": [],
   "source": [
    "fig, ax = plt.subplots(figsize=(6,15))\n",
    "\n",
    "for i in list(range(10)):\n",
    "    \n",
    "    # plot probabilities:\n",
    "    ax = plt.subplot2grid((10, 5), (i, 0), colspan=4);\n",
    "    plt.bar(np.arange(5), cnn_probab[p_max<0.4][i], 0.35, align='center');\n",
    "    plt.xticks(np.arange(5), ['dog','octopus','bee','hedgehog','giraffe'])\n",
    "    plt.tick_params(axis='x', bottom='off', top='off')\n",
    "    plt.ylabel('Probability')\n",
    "    plt.ylim(0,1)\n",
    "    plt.subplots_adjust(hspace = 0.5)\n",
    "\n",
    "    # plot picture:\n",
    "    ax = plt.subplot2grid((10, 5), (i, 4));\n",
    "    plt.imshow(X_test[p_max<0.4][i].reshape((28,28)),cmap='gray_r', interpolation='nearest');\n",
    "    plt.xlabel(label_dict[y_test[p_max<0.4][i]]); # get the label from the dict\n",
    "    plt.xticks([])\n",
    "    plt.yticks([])"
   ]
  },
  {
   "cell_type": "markdown",
   "metadata": {},
   "source": [
    "It seems that there is still some room for improvement. Notably, I have used just about 2% of the pictures for training. By increasing that number, big increases in accuracy would certainly be possible."
   ]
  }
 ],
 "metadata": {
  "anaconda-cloud": {},
  "kernelspec": {
   "display_name": "Python 2",
   "language": "python",
   "name": "python2"
  },
  "language_info": {
   "codemirror_mode": {
    "name": "ipython",
    "version": 2
   },
   "file_extension": ".py",
   "mimetype": "text/x-python",
   "name": "python",
   "nbconvert_exporter": "python",
   "pygments_lexer": "ipython2",
   "version": "2.7.10"
  }
 },
 "nbformat": 4,
 "nbformat_minor": 1
}
