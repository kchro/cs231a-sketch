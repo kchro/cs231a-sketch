{
 "cells": [
  {
   "cell_type": "code",
   "execution_count": 1,
   "metadata": {},
   "outputs": [],
   "source": [
    "%matplotlib inline\n",
    "import numpy as np\n",
    "import tensorflow as tf\n",
    "import cv2\n",
    "import matplotlib\n",
    "import matplotlib.pyplot as plt\n",
    "from conversion import convert_to_3_stroke\n",
    "from face_data import load_faces\n",
    "from tqdm import tqdm\n",
    "from svg_util import draw_strokes, make_grid_svg\n",
    "from neuralnet import load_trained_classifier\n",
    "from neuralnet.sketch_rnn_class import predict_model, pred"
   ]
  },
  {
   "cell_type": "code",
   "execution_count": 2,
   "metadata": {},
   "outputs": [
    {
     "name": "stdout",
     "output_type": "stream",
     "text": [
      "loading datasets...\n",
      "INFO:tensorflow:Loaded 70000/2500/2500 from ear.npz\n",
      "INFO:tensorflow:Loaded 70000/2500/2500 from eye.npz\n",
      "INFO:tensorflow:Loaded 70000/2500/2500 from mouth.npz\n",
      "INFO:tensorflow:Loaded 70000/2500/2500 from nose.npz\n",
      "INFO:tensorflow:Dataset combined: 300000 (280000/10000/10000), avg len 37\n",
      "INFO:tensorflow:model_params.max_seq_len 125.\n",
      "total images <= max_seq_len is 280000\n",
      "total images <= max_seq_len is 10000\n",
      "total images <= max_seq_len is 10000\n",
      "INFO:tensorflow:normalizing_scale_factor 45.8033.\n",
      "loaded datasets.\n",
      "INFO:tensorflow:Model using gpu.\n",
      "INFO:tensorflow:Loading model neuralnet/checkpoint_path/classifier/vector-50000.\n",
      "INFO:tensorflow:Restoring parameters from neuralnet/checkpoint_path/classifier/vector-50000\n"
     ]
    }
   ],
   "source": [
    "sess, eval_model, test_set = load_trained_classifier()"
   ]
  },
  {
   "cell_type": "code",
   "execution_count": 3,
   "metadata": {},
   "outputs": [
    {
     "data": {
      "image/svg+xml": [
       "<svg baseProfile=\"full\" height=\"71.9416284561\" version=\"1.1\" width=\"60.8070707321\" xmlns=\"http://www.w3.org/2000/svg\" xmlns:ev=\"http://www.w3.org/2001/xml-events\" xmlns:xlink=\"http://www.w3.org/1999/xlink\"><defs/><rect fill=\"white\" height=\"71.9416284561\" width=\"60.8070707321\" x=\"0\" y=\"0\"/><path d=\"M27.2924089432,25 m-1.30994796753,0.982460975647 l-0.545811653137,1.2007856369 0.0,2.72905826569 l3.05654525757,5.02146720886 0.545811653137,1.74659729004 l0.0,1.2007856369 -0.654973983765,1.30994796753 l-1.96492195129,1.41911029816 -0.87329864502,1.09162330627 l-0.545811653137,1.30994796753 0.0,1.74659729004 l1.30994796753,1.63743495941 2.18324661255,0.545811653137 l4.91230487823,-0.218324661255 0.545811653137,-0.327486991882 l0.545811653137,-1.74659729004 -0.109162330627,-2.29240894318 l1.09162330627,-0.764136314392 0.327486991882,-1.74659729004 l-2.83822059631,-3.49319458008 \" fill=\"none\" stroke=\"black\" stroke-width=\"1\"/></svg>"
      ],
      "text/plain": [
       "<IPython.core.display.SVG object>"
      ]
     },
     "metadata": {},
     "output_type": "display_data"
    }
   ],
   "source": [
    "stroke = test_set.random_sample()\n",
    "draw_strokes(stroke)\n",
    "# print stroke"
   ]
  },
  {
   "cell_type": "code",
   "execution_count": 4,
   "metadata": {},
   "outputs": [
    {
     "data": {
      "text/plain": [
       "array([[-0.262,  0.196,  0.   ],\n",
       "       [-0.109,  0.24 ,  0.   ],\n",
       "       [ 0.   ,  0.546,  0.   ],\n",
       "       [ 0.611,  1.004,  0.   ],\n",
       "       [ 0.109,  0.349,  0.   ],\n",
       "       [ 0.   ,  0.24 ,  0.   ],\n",
       "       [-0.131,  0.262,  0.   ],\n",
       "       [-0.393,  0.284,  0.   ],\n",
       "       [-0.175,  0.218,  0.   ],\n",
       "       [-0.109,  0.262,  0.   ],\n",
       "       [ 0.   ,  0.349,  0.   ],\n",
       "       [ 0.262,  0.327,  0.   ],\n",
       "       [ 0.437,  0.109,  0.   ],\n",
       "       [ 0.982, -0.044,  0.   ],\n",
       "       [ 0.109, -0.065,  0.   ],\n",
       "       [ 0.109, -0.349,  0.   ],\n",
       "       [-0.022, -0.458,  0.   ],\n",
       "       [ 0.218, -0.153,  0.   ],\n",
       "       [ 0.065, -0.349,  0.   ],\n",
       "       [-0.568, -0.699,  1.   ]], dtype=float32)"
      ]
     },
     "execution_count": 4,
     "metadata": {},
     "output_type": "execute_result"
    }
   ],
   "source": [
    "stroke"
   ]
  },
  {
   "cell_type": "code",
   "execution_count": null,
   "metadata": {},
   "outputs": [],
   "source": []
  }
 ],
 "metadata": {
  "kernelspec": {
   "display_name": "Python 2",
   "language": "python",
   "name": "python2"
  },
  "language_info": {
   "codemirror_mode": {
    "name": "ipython",
    "version": 2
   },
   "file_extension": ".py",
   "mimetype": "text/x-python",
   "name": "python",
   "nbconvert_exporter": "python",
   "pygments_lexer": "ipython2",
   "version": "2.7.10"
  }
 },
 "nbformat": 4,
 "nbformat_minor": 2
}
