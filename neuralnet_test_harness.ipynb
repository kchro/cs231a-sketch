{
 "cells": [
  {
   "cell_type": "code",
   "execution_count": 1,
   "metadata": {},
   "outputs": [],
   "source": [
    "%matplotlib inline\n",
    "import numpy as np\n",
    "import cv2\n",
    "import matplotlib\n",
    "import matplotlib.pyplot as plt\n",
    "from face_data import load_faces"
   ]
  },
  {
   "cell_type": "markdown",
   "metadata": {},
   "source": [
    "load the classifier"
   ]
  },
  {
   "cell_type": "code",
   "execution_count": 8,
   "metadata": {
    "scrolled": true
   },
   "outputs": [
    {
     "name": "stdout",
     "output_type": "stream",
     "text": [
      "INFO:tensorflow:Model using gpu.\n",
      "INFO:tensorflow:Loading model four_class_checkpoint/vector-110000.\n",
      "INFO:tensorflow:Restoring parameters from four_class_checkpoint/vector-110000\n"
     ]
    }
   ],
   "source": [
    "import neuralnet\n",
    "neuralnet = reload(neuralnet)\n",
    "from neuralnet import FeatureClassifier\n",
    "\n",
    "model = FeatureClassifier()"
   ]
  },
  {
   "cell_type": "code",
   "execution_count": 9,
   "metadata": {},
   "outputs": [
    {
     "data": {
      "image/png": "[encoded data removed]",
      "text/plain": [
       "<matplotlib.figure.Figure at 0x12001d650>"
      ]
     },
     "metadata": {},
     "output_type": "display_data"
    }
   ],
   "source": [
    "im = cv2.imread('faces/face_85.png', 0)\n",
    "plt.imshow(im, cmap=plt.cm.gray)\n",
    "plt.show()"
   ]
  },
  {
   "cell_type": "markdown",
   "metadata": {},
   "source": [
    "**Method 1: sliding window**\n",
    "- slide a small window across the image\n",
    "- for each window, convert to 3-stroke format\n",
    "- classify as a eye, nose, mouth"
   ]
  },
  {
   "cell_type": "code",
   "execution_count": 16,
   "metadata": {},
   "outputs": [
    {
     "name": "stdout",
     "output_type": "stream",
     "text": [
      "eye 1.2815382\n"
     ]
    },
    {
     "data": {
      "image/svg+xml": [
       "<svg baseProfile=\"full\" height=\"91.25\" version=\"1.1\" width=\"90.625\" xmlns=\"http://www.w3.org/2000/svg\" xmlns:ev=\"http://www.w3.org/2001/xml-events\" xmlns:xlink=\"http://www.w3.org/1999/xlink\"><defs/><rect fill=\"white\" height=\"91.25\" width=\"90.625\" x=\"0\" y=\"0\"/><path d=\"M25,49.375 m0.0,0.0 l2.5,16.875 m-1.875,-29.375 l3.125,-8.75 8.125,-3.125 l14.375,0.0 9.375,3.125 m-16.875,15.0 l2.5,-4.375 4.375,1.875 l-3.125,3.125 -3.125,0.0 l-1.25,5.625 6.875,5.0 l6.25,0.0 -1.875,1.875 l-10.625,0.625 -6.875,-5.0 l-1.875,-8.125 11.25,-8.125 l13.125,-1.25 6.25,6.25 l0.0,6.875 -3.125,4.375 l-5.0,2.5 -1.25,-1.25 l5.625,-6.25 0.625,-5.0 l-7.5,-5.0 -5.0,5.625 l2.5,2.5 -1.25,1.25 l3.125,-1.875 m5.625,18.125 l0.0,3.75 \" fill=\"none\" stroke=\"black\" stroke-width=\"1\"/></svg>"
      ],
      "text/plain": [
       "<IPython.core.display.SVG object>"
      ]
     },
     "metadata": {},
     "output_type": "display_data"
    },
    {
     "name": "stdout",
     "output_type": "stream",
     "text": [
      "None 3.2037315\n"
     ]
    },
    {
     "data": {
      "image/svg+xml": [
       "<svg baseProfile=\"full\" height=\"91.875\" version=\"1.1\" width=\"111.875\" xmlns=\"http://www.w3.org/2000/svg\" xmlns:ev=\"http://www.w3.org/2001/xml-events\" xmlns:xlink=\"http://www.w3.org/1999/xlink\"><defs/><rect fill=\"white\" height=\"91.875\" width=\"111.875\" x=\"0\" y=\"0\"/><path d=\"M60.0,28.75 m0.0,0.0 l-9.375,-3.125 -11.875,-0.625 l-10.0,3.125 -3.75,9.375 m0.0,11.875 l0.0,13.75 1.875,3.75 m16.25,-23.125 l2.5,-4.375 4.375,1.875 l-3.125,3.125 -3.125,0.0 l-1.25,5.625 6.875,5.0 l6.25,0.0 -1.875,1.875 l-10.625,0.625 -6.875,-5.0 l-1.875,-8.125 11.25,-8.125 l13.125,-1.25 6.25,6.25 l0.0,6.875 -3.125,4.375 l-5.0,2.5 -1.25,-1.25 l5.625,-6.25 0.625,-5.0 l-7.5,-5.0 -5.0,5.625 l2.5,2.5 -1.25,1.25 l3.125,-1.875 m5.625,18.125 l0.0,3.75 m21.875,-39.375 l5.625,-2.5 \" fill=\"none\" stroke=\"black\" stroke-width=\"1\"/></svg>"
      ],
      "text/plain": [
       "<IPython.core.display.SVG object>"
      ]
     },
     "metadata": {},
     "output_type": "display_data"
    },
    {
     "name": "stdout",
     "output_type": "stream",
     "text": [
      "no classification\n",
      "nose 0.065127075\n"
     ]
    },
    {
     "data": {
      "image/svg+xml": [
       "<svg baseProfile=\"full\" height=\"96.25\" version=\"1.1\" width=\"111.875\" xmlns=\"http://www.w3.org/2000/svg\" xmlns:ev=\"http://www.w3.org/2001/xml-events\" xmlns:xlink=\"http://www.w3.org/1999/xlink\"><defs/><rect fill=\"white\" height=\"96.25\" width=\"111.875\" x=\"0\" y=\"0\"/><path d=\"M25,29.375 m0.0,0.0 l10.0,0.625 8.75,3.125 m-3.125,24.375 l5.625,-7.5 -2.5,-6.25 l-5.0,-1.875 -7.5,6.875 l-1.875,0.0 -1.25,-3.125 l1.875,-1.875 3.125,1.25 l-5.625,3.125 -0.625,6.25 l6.875,5.0 6.875,-0.625 l-5.625,3.125 -7.5,0.0 l-2.5,-1.875 16.875,-0.625 l4.375,-2.5 3.75,-6.25 l-1.875,-7.5 -5.0,-3.75 l-8.125,0.0 -10.0,3.125 l0.0,1.875 11.25,5.625 l1.875,-1.25 -3.125,2.5 m8.75,16.25 l0.0,3.75 m21.875,-39.375 l12.5,-5.625 8.75,-1.25 m0.0,13.75 l-5.0,5.625 0.625,5.0 l4.375,5.625 \" fill=\"none\" stroke=\"black\" stroke-width=\"1\"/></svg>"
      ],
      "text/plain": [
       "<IPython.core.display.SVG object>"
      ]
     },
     "metadata": {},
     "output_type": "display_data"
    },
    {
     "name": "stdout",
     "output_type": "stream",
     "text": [
      "None 1.1487877\n"
     ]
    },
    {
     "data": {
      "image/svg+xml": [
       "<svg baseProfile=\"full\" height=\"96.25\" version=\"1.1\" width=\"111.875\" xmlns=\"http://www.w3.org/2000/svg\" xmlns:ev=\"http://www.w3.org/2001/xml-events\" xmlns:xlink=\"http://www.w3.org/1999/xlink\"><defs/><rect fill=\"white\" height=\"96.25\" width=\"111.875\" x=\"0\" y=\"0\"/><path d=\"M25,31.25 m0.0,0.0 l3.125,1.875 m-3.125,8.75 l5.625,5.0 -0.625,5.0 l-5.0,5.0 0.0,3.125 l5.625,-3.125 3.75,-6.25 l-1.875,-7.5 -7.5,-3.75 m3.125,28.125 l0.0,3.75 m21.875,-39.375 l18.125,-6.875 18.75,0.0 m0.0,11.25 l0.0,1.875 -4.375,2.5 l-5.0,-1.875 2.5,3.75 l1.25,-1.25 -4.375,2.5 l-0.625,-3.125 -1.25,5.625 l0.0,3.75 2.5,2.5 l3.125,1.875 6.25,-0.625 l0.0,2.5 -10.0,1.25 l-5.0,-1.875 -5.625,-8.125 l0.625,-4.375 6.25,-5.625 l13.75,-4.375 m-2.5,12.5 l2.5,-1.875 \" fill=\"none\" stroke=\"black\" stroke-width=\"1\"/></svg>"
      ],
      "text/plain": [
       "<IPython.core.display.SVG object>"
      ]
     },
     "metadata": {},
     "output_type": "display_data"
    },
    {
     "name": "stdout",
     "output_type": "stream",
     "text": [
      "no classification\n",
      "eye 4.790533\n"
     ]
    },
    {
     "data": {
      "image/svg+xml": [
       "<svg baseProfile=\"full\" height=\"83.75\" version=\"1.1\" width=\"102.5\" xmlns=\"http://www.w3.org/2000/svg\" xmlns:ev=\"http://www.w3.org/2001/xml-events\" xmlns:xlink=\"http://www.w3.org/1999/xlink\"><defs/><rect fill=\"white\" height=\"83.75\" width=\"102.5\" x=\"0\" y=\"0\"/><path d=\"M25,33.125 m0.0,0.0 l12.5,-5.625 19.375,-2.5 l10.0,1.875 10.625,8.125 m-12.5,18.125 l4.375,-5.0 0.625,-5.625 l-6.25,-4.375 -6.25,3.75 l-5.0,-1.875 2.5,3.75 l1.25,-1.25 -1.875,2.5 l-2.5,0.0 -1.25,-2.5 l-0.625,8.75 5.625,4.375 l7.5,-0.625 1.25,1.25 l-4.375,1.875 -8.125,0.625 l-5.0,-1.875 -3.75,-3.75 l-1.875,-7.5 10.625,-8.75 l14.375,-1.875 5.625,3.75 l1.875,8.75 -5.625,6.875 l-6.25,1.875 2.5,-1.875 m-5.0,-7.5 l2.5,-1.25 \" fill=\"none\" stroke=\"black\" stroke-width=\"1\"/></svg>"
      ],
      "text/plain": [
       "<IPython.core.display.SVG object>"
      ]
     },
     "metadata": {},
     "output_type": "display_data"
    },
    {
     "name": "stdout",
     "output_type": "stream",
     "text": [
      "eye 2.284093\n"
     ]
    },
    {
     "data": {
      "image/svg+xml": [
       "<svg baseProfile=\"full\" height=\"83.75\" version=\"1.1\" width=\"96.25\" xmlns=\"http://www.w3.org/2000/svg\" xmlns:ev=\"http://www.w3.org/2001/xml-events\" xmlns:xlink=\"http://www.w3.org/1999/xlink\"><defs/><rect fill=\"white\" height=\"83.75\" width=\"96.25\" x=\"0\" y=\"0\"/><path d=\"M25,29.375 m0.0,0.0 l25.625,-4.375 10.0,1.875 l10.625,8.125 m-12.5,18.125 l4.375,-5.0 0.625,-5.625 l-6.25,-4.375 -6.25,3.75 l-5.0,-1.875 2.5,3.75 l1.25,-1.25 -1.875,2.5 l-2.5,0.0 -1.25,-2.5 l-0.625,8.75 5.625,4.375 l7.5,-0.625 1.25,1.25 l-4.375,1.875 -8.125,0.625 l-5.0,-1.875 -3.75,-3.75 l-1.875,-7.5 10.625,-8.75 l14.375,-1.875 5.625,3.75 l1.875,8.75 -5.625,6.875 l-6.25,1.875 2.5,-1.875 m-5.0,-7.5 l2.5,-1.25 \" fill=\"none\" stroke=\"black\" stroke-width=\"1\"/></svg>"
      ],
      "text/plain": [
       "<IPython.core.display.SVG object>"
      ]
     },
     "metadata": {},
     "output_type": "display_data"
    },
    {
     "name": "stdout",
     "output_type": "stream",
     "text": [
      "nose 1.2107531\n"
     ]
    },
    {
     "data": {
      "image/svg+xml": [
       "<svg baseProfile=\"full\" height=\"97.5\" version=\"1.1\" width=\"100.0\" xmlns=\"http://www.w3.org/2000/svg\" xmlns:ev=\"http://www.w3.org/2001/xml-events\" xmlns:xlink=\"http://www.w3.org/1999/xlink\"><defs/><rect fill=\"white\" height=\"97.5\" width=\"100.0\" x=\"0\" y=\"0\"/><path d=\"M25,25 m0.0,0.0 l20.0,1.875 10.625,8.125 m-30.625,21.25 l5.0,2.5 12.5,-2.5 l-8.75,-0.625 -5.625,-4.375 l1.875,-6.25 -1.25,-2.5 l1.25,-1.25 3.125,2.5 l7.5,-5.625 7.5,4.375 l-0.625,5.625 -5.625,6.25 l2.5,1.25 5.0,-3.75 l2.5,-4.375 0.0,-5.0 l-1.875,-3.75 -5.625,-3.75 l-12.5,1.25 -6.875,3.125 l9.375,1.875 -3.75,-1.25 l2.5,4.375 -2.5,0.625 l9.375,11.25 m-2.5,-9.375 l2.5,-1.25 m35.0,1.25 l-2.5,25.625 \" fill=\"none\" stroke=\"black\" stroke-width=\"1\"/></svg>"
      ],
      "text/plain": [
       "<IPython.core.display.SVG object>"
      ]
     },
     "metadata": {},
     "output_type": "display_data"
    },
    {
     "name": "stdout",
     "output_type": "stream",
     "text": [
      "None 2.0111265\n"
     ]
    },
    {
     "data": {
      "image/svg+xml": [
       "<svg baseProfile=\"full\" height=\"106.875\" version=\"1.1\" width=\"96.875\" xmlns=\"http://www.w3.org/2000/svg\" xmlns:ev=\"http://www.w3.org/2001/xml-events\" xmlns:xlink=\"http://www.w3.org/1999/xlink\"><defs/><rect fill=\"white\" height=\"106.875\" width=\"96.875\" x=\"0\" y=\"0\"/><path d=\"M25,49.375 m0.0,0.0 l1.25,15.0 5.625,17.5 m-6.25,-45.0 l3.125,-8.75 8.125,-3.125 l14.375,0.0 9.375,3.125 m-16.875,15.0 l2.5,-4.375 4.375,1.875 l-3.125,3.125 -3.125,0.0 l-1.25,5.625 6.875,5.0 l6.25,0.0 -1.875,1.875 l-10.625,0.625 -6.875,-5.0 l-1.875,-8.125 11.25,-8.125 l13.125,-1.25 6.25,6.25 l0.0,6.875 -3.125,4.375 l-5.0,2.5 -1.25,-1.25 l5.625,-6.25 0.625,-5.0 l-7.5,-5.0 -5.0,5.625 l2.5,2.5 -1.25,1.25 l3.125,-1.875 m5.625,18.125 l3.125,17.5 8.75,-1.25 l-8.125,3.125 \" fill=\"none\" stroke=\"black\" stroke-width=\"1\"/></svg>"
      ],
      "text/plain": [
       "<IPython.core.display.SVG object>"
      ]
     },
     "metadata": {},
     "output_type": "display_data"
    },
    {
     "name": "stdout",
     "output_type": "stream",
     "text": [
      "no classification\n",
      "None 2.8542385\n"
     ]
    },
    {
     "data": {
      "image/svg+xml": [
       "<svg baseProfile=\"full\" height=\"107.5\" version=\"1.1\" width=\"111.875\" xmlns=\"http://www.w3.org/2000/svg\" xmlns:ev=\"http://www.w3.org/2001/xml-events\" xmlns:xlink=\"http://www.w3.org/1999/xlink\"><defs/><rect fill=\"white\" height=\"107.5\" width=\"111.875\" x=\"0\" y=\"0\"/><path d=\"M60.0,28.75 m0.0,0.0 l-9.375,-3.125 -11.875,-0.625 l-10.0,3.125 -3.75,9.375 m0.0,11.875 l0.0,13.75 6.25,19.375 m11.875,-38.75 l2.5,-4.375 4.375,1.875 l-3.125,3.125 -3.125,0.0 l-1.25,5.625 6.875,5.0 l6.25,0.0 -1.875,1.875 l-10.625,0.625 -6.875,-5.0 l-1.875,-8.125 11.25,-8.125 l13.125,-1.25 6.25,6.25 l0.0,6.875 -3.125,4.375 l-5.0,2.5 -1.25,-1.25 l5.625,-6.25 0.625,-5.0 l-7.5,-5.0 -5.0,5.625 l2.5,2.5 -1.25,1.25 l3.125,-1.875 m10.625,36.25 l-2.5,-1.875 -2.5,-16.25 l3.75,19.375 9.375,-3.125 l8.75,0.0 5.0,3.125 m-5.0,-55.0 l5.625,-2.5 \" fill=\"none\" stroke=\"black\" stroke-width=\"1\"/></svg>"
      ],
      "text/plain": [
       "<IPython.core.display.SVG object>"
      ]
     },
     "metadata": {},
     "output_type": "display_data"
    },
    {
     "name": "stdout",
     "output_type": "stream",
     "text": [
      "no classification\n",
      "mouth 1.5760896\n"
     ]
    },
    {
     "data": {
      "image/svg+xml": [
       "<svg baseProfile=\"full\" height=\"111.875\" version=\"1.1\" width=\"111.875\" xmlns=\"http://www.w3.org/2000/svg\" xmlns:ev=\"http://www.w3.org/2001/xml-events\" xmlns:xlink=\"http://www.w3.org/1999/xlink\"><defs/><rect fill=\"white\" height=\"111.875\" width=\"111.875\" x=\"0\" y=\"0\"/><path d=\"M25,29.375 m0.0,0.0 l10.0,0.625 8.75,3.125 m-3.125,24.375 l5.625,-7.5 -2.5,-6.25 l-5.0,-1.875 -7.5,6.875 l-1.875,0.0 -1.25,-3.125 l1.875,-1.875 3.125,1.25 l-5.625,3.125 -0.625,6.25 l6.875,5.0 6.875,-0.625 l-5.625,3.125 -7.5,0.0 l-2.5,-1.875 16.875,-0.625 l4.375,-2.5 3.75,-6.25 l-1.875,-7.5 -5.0,-3.75 l-8.125,0.0 -10.0,3.125 l0.0,1.875 11.25,5.625 l1.875,-1.25 -3.125,2.5 m13.75,34.375 l-2.5,-1.875 -2.5,-16.25 l3.75,19.375 9.375,-3.125 l8.75,0.0 5.0,3.125 m-5.0,-55.0 l15.625,-6.875 5.625,0.0 m0.0,13.75 l-5.0,5.625 0.625,5.0 l4.375,5.625 \" fill=\"none\" stroke=\"black\" stroke-width=\"1\"/></svg>"
      ],
      "text/plain": [
       "<IPython.core.display.SVG object>"
      ]
     },
     "metadata": {},
     "output_type": "display_data"
    },
    {
     "name": "stdout",
     "output_type": "stream",
     "text": [
      "None 0.7889948\n"
     ]
    },
    {
     "data": {
      "image/svg+xml": [
       "<svg baseProfile=\"full\" height=\"111.875\" version=\"1.1\" width=\"111.875\" xmlns=\"http://www.w3.org/2000/svg\" xmlns:ev=\"http://www.w3.org/2001/xml-events\" xmlns:xlink=\"http://www.w3.org/1999/xlink\"><defs/><rect fill=\"white\" height=\"111.875\" width=\"111.875\" x=\"0\" y=\"0\"/><path d=\"M25,31.25 m0.0,0.0 l3.125,1.875 m-3.125,8.75 l5.625,5.0 -0.625,5.0 l-5.0,5.0 0.0,3.125 l5.625,-3.125 3.75,-6.25 l-1.875,-7.5 -7.5,-3.75 m8.125,46.25 l-2.5,-1.875 -2.5,-16.25 l3.75,19.375 9.375,-3.125 l8.75,0.0 5.0,3.125 m-5.0,-55.0 l15.625,-6.875 6.25,0.0 m15.0,11.25 l0.0,1.875 -4.375,2.5 l-5.0,-1.875 2.5,3.75 l1.25,-1.25 -4.375,2.5 l-0.625,-3.125 -1.25,5.625 l0.0,3.75 2.5,2.5 l3.125,1.875 6.25,-0.625 l0.0,2.5 -10.0,1.25 l-5.0,-1.875 -5.625,-8.125 l0.625,-4.375 6.25,-5.625 l13.75,-4.375 m-2.5,12.5 l2.5,-1.875 m-1.875,-18.75 l1.875,0.0 \" fill=\"none\" stroke=\"black\" stroke-width=\"1\"/></svg>"
      ],
      "text/plain": [
       "<IPython.core.display.SVG object>"
      ]
     },
     "metadata": {},
     "output_type": "display_data"
    },
    {
     "name": "stdout",
     "output_type": "stream",
     "text": [
      "no classification\n",
      "None 0.524941\n"
     ]
    },
    {
     "data": {
      "image/svg+xml": [
       "<svg baseProfile=\"full\" height=\"111.875\" version=\"1.1\" width=\"111.875\" xmlns=\"http://www.w3.org/2000/svg\" xmlns:ev=\"http://www.w3.org/2001/xml-events\" xmlns:xlink=\"http://www.w3.org/1999/xlink\"><defs/><rect fill=\"white\" height=\"111.875\" width=\"111.875\" x=\"0\" y=\"0\"/><path d=\"M25,84.375 m0.0,0.0 l9.375,-0.625 5.0,3.125 m-5.0,-55.0 l15.625,-6.875 6.25,0.0 m18.125,26.875 l4.375,-5.0 0.625,-5.625 l-6.25,-4.375 -6.25,3.75 l-5.0,-1.875 2.5,3.75 l1.25,-1.25 -1.875,2.5 l-2.5,0.0 -1.25,-2.5 l-0.625,8.75 5.625,4.375 l7.5,-0.625 1.25,1.25 l-4.375,1.875 -8.125,0.625 l-5.0,-1.875 -3.75,-3.75 l-1.875,-7.5 10.625,-8.75 l14.375,-1.875 5.625,3.75 l1.875,8.75 -5.625,6.875 l-6.25,1.875 2.5,-1.875 m-5.0,-7.5 l2.5,-1.25 m-1.875,-19.375 l6.875,0.0 10.625,8.75 \" fill=\"none\" stroke=\"black\" stroke-width=\"1\"/></svg>"
      ],
      "text/plain": [
       "<IPython.core.display.SVG object>"
      ]
     },
     "metadata": {},
     "output_type": "display_data"
    },
    {
     "name": "stdout",
     "output_type": "stream",
     "text": [
      "no classification\n",
      "eye 0.5013891\n"
     ]
    },
    {
     "data": {
      "image/svg+xml": [
       "<svg baseProfile=\"full\" height=\"111.875\" version=\"1.1\" width=\"111.875\" xmlns=\"http://www.w3.org/2000/svg\" xmlns:ev=\"http://www.w3.org/2001/xml-events\" xmlns:xlink=\"http://www.w3.org/1999/xlink\"><defs/><rect fill=\"white\" height=\"111.875\" width=\"111.875\" x=\"0\" y=\"0\"/><path d=\"M25,28.125 m0.0,0.0 l15.625,-3.125 m18.125,26.875 l4.375,-5.0 0.625,-5.625 l-6.25,-4.375 -6.25,3.75 l-5.0,-1.875 2.5,3.75 l1.25,-1.25 -1.875,2.5 l-2.5,0.0 -1.25,-2.5 l-0.625,8.75 5.625,4.375 l7.5,-0.625 1.25,1.25 l-4.375,1.875 -8.125,0.625 l-5.0,-1.875 -3.75,-3.75 l-1.875,-7.5 10.625,-8.75 l14.375,-1.875 5.625,3.75 l1.875,8.75 -5.625,6.875 l-6.25,1.875 2.5,-1.875 m-5.0,-7.5 l2.5,-1.25 m-1.875,-19.375 l6.875,0.0 10.625,8.75 m15.625,40.625 l-1.25,12.5 \" fill=\"none\" stroke=\"black\" stroke-width=\"1\"/></svg>"
      ],
      "text/plain": [
       "<IPython.core.display.SVG object>"
      ]
     },
     "metadata": {},
     "output_type": "display_data"
    },
    {
     "name": "stdout",
     "output_type": "stream",
     "text": [
      "mouth 0.38990983\n"
     ]
    },
    {
     "data": {
      "image/svg+xml": [
       "<svg baseProfile=\"full\" height=\"111.875\" version=\"1.1\" width=\"100.0\" xmlns=\"http://www.w3.org/2000/svg\" xmlns:ev=\"http://www.w3.org/2001/xml-events\" xmlns:xlink=\"http://www.w3.org/1999/xlink\"><defs/><rect fill=\"white\" height=\"111.875\" width=\"100.0\" x=\"0\" y=\"0\"/><path d=\"M25,55.0 m0.0,0.0 l5.0,2.5 12.5,-2.5 l-8.75,-0.625 -5.625,-4.375 l1.875,-6.25 -1.25,-2.5 l1.25,-1.25 3.125,2.5 l7.5,-5.625 7.5,4.375 l-0.625,5.625 -5.625,6.25 l2.5,1.25 5.0,-3.75 l2.5,-4.375 0.0,-5.0 l-1.875,-3.75 -5.625,-3.75 l-12.5,1.25 -6.875,3.125 l9.375,1.875 -3.75,-1.25 l2.5,4.375 -2.5,0.625 l9.375,11.25 m-2.5,-9.375 l2.5,-1.25 m-1.875,-19.375 l6.875,0.0 10.625,8.75 m13.125,53.125 l4.375,-18.75 1.875,-21.875 \" fill=\"none\" stroke=\"black\" stroke-width=\"1\"/></svg>"
      ],
      "text/plain": [
       "<IPython.core.display.SVG object>"
      ]
     },
     "metadata": {},
     "output_type": "display_data"
    },
    {
     "name": "stdout",
     "output_type": "stream",
     "text": [
      "nose 2.2720504\n"
     ]
    },
    {
     "data": {
      "image/svg+xml": [
       "<svg baseProfile=\"full\" height=\"111.875\" version=\"1.1\" width=\"96.875\" xmlns=\"http://www.w3.org/2000/svg\" xmlns:ev=\"http://www.w3.org/2001/xml-events\" xmlns:xlink=\"http://www.w3.org/1999/xlink\"><defs/><rect fill=\"white\" height=\"111.875\" width=\"96.875\" x=\"0\" y=\"0\"/><path d=\"M25,38.75 m0.0,0.0 l4.375,28.125 8.125,20.0 m23.75,-61.875 l3.125,2.5 1.875,7.5 l-2.5,5.0 -5.625,3.75 l-1.875,-1.25 5.625,-6.25 l0.0,-6.25 -6.875,-3.75 l-7.5,6.875 -1.875,0.0 l-1.25,-3.125 1.875,-1.875 l3.125,1.25 -5.625,3.125 l-0.625,6.25 6.875,5.0 l5.625,-0.625 -5.625,-11.25 l2.5,2.5 -1.25,1.25 l3.125,-2.5 1.875,10.625 l-5.0,2.5 -10.0,-1.25 l-6.25,-7.5 0.0,-4.375 l3.125,-3.125 6.875,-5.0 l3.125,0.0 m11.875,26.875 l3.75,18.75 8.125,-1.875 m-8.125,11.25 l8.125,3.125 m-45.625,-58.125 l-0.625,1.25 \" fill=\"none\" stroke=\"black\" stroke-width=\"1\"/></svg>"
      ],
      "text/plain": [
       "<IPython.core.display.SVG object>"
      ]
     },
     "metadata": {},
     "output_type": "display_data"
    },
    {
     "name": "stdout",
     "output_type": "stream",
     "text": [
      "nose 2.2664933\n"
     ]
    },
    {
     "data": {
      "image/svg+xml": [
       "<svg baseProfile=\"full\" height=\"111.875\" version=\"1.1\" width=\"111.875\" xmlns=\"http://www.w3.org/2000/svg\" xmlns:ev=\"http://www.w3.org/2001/xml-events\" xmlns:xlink=\"http://www.w3.org/1999/xlink\"><defs/><rect fill=\"white\" height=\"111.875\" width=\"111.875\" x=\"0\" y=\"0\"/><path d=\"M25,38.125 m0.0,0.0 l0.0,13.75 10.625,35.0 m25.0,-61.875 l3.125,2.5 1.875,7.5 l-2.5,5.0 -5.625,3.75 l-1.875,-1.25 5.625,-6.25 l0.0,-6.25 -6.875,-3.75 l-7.5,6.875 -1.875,0.0 l-1.25,-3.125 1.875,-1.875 l3.125,1.25 -5.625,3.125 l-0.625,6.25 6.875,5.0 l5.625,-0.625 -5.625,-11.25 l2.5,2.5 -1.25,1.25 l3.125,-2.5 1.875,10.625 l-5.0,2.5 -10.0,-1.25 l-6.25,-7.5 0.0,-4.375 l3.125,-3.125 6.875,-5.0 l3.125,0.0 m11.875,26.875 l3.75,18.125 18.125,-1.875 l5.625,5.0 0.0,2.5 l-5.0,5.625 -10.625,1.875 l-8.125,-3.125 0.0,-9.375 m-37.5,-45.625 l-0.625,1.25 \" fill=\"none\" stroke=\"black\" stroke-width=\"1\"/></svg>"
      ],
      "text/plain": [
       "<IPython.core.display.SVG object>"
      ]
     },
     "metadata": {},
     "output_type": "display_data"
    },
    {
     "name": "stdout",
     "output_type": "stream",
     "text": [
      "nose 4.5653443\n"
     ]
    },
    {
     "data": {
      "image/svg+xml": [
       "<svg baseProfile=\"full\" height=\"108.125\" version=\"1.1\" width=\"111.875\" xmlns=\"http://www.w3.org/2000/svg\" xmlns:ev=\"http://www.w3.org/2001/xml-events\" xmlns:xlink=\"http://www.w3.org/1999/xlink\"><defs/><rect fill=\"white\" height=\"108.125\" width=\"111.875\" x=\"0\" y=\"0\"/><path d=\"M32.5,25 m0.0,0.0 l-3.75,0.0 -3.75,1.875 l0.0,1.875 m18.75,23.125 l3.75,18.125 18.125,-1.875 l5.0,5.0 -4.375,8.125 l-10.625,1.875 -8.125,-3.125 l0.0,-9.375 m39.375,-31.25 l-5.0,-7.5 0.625,-4.375 l3.125,-2.5 \" fill=\"none\" stroke=\"black\" stroke-width=\"1\"/></svg>"
      ],
      "text/plain": [
       "<IPython.core.display.SVG object>"
      ]
     },
     "metadata": {},
     "output_type": "display_data"
    },
    {
     "name": "stdout",
     "output_type": "stream",
     "text": [
      "nose 4.6121306\n"
     ]
    },
    {
     "data": {
      "image/svg+xml": [
       "<svg baseProfile=\"full\" height=\"108.125\" version=\"1.1\" width=\"111.875\" xmlns=\"http://www.w3.org/2000/svg\" xmlns:ev=\"http://www.w3.org/2001/xml-events\" xmlns:xlink=\"http://www.w3.org/1999/xlink\"><defs/><rect fill=\"white\" height=\"108.125\" width=\"111.875\" x=\"0\" y=\"0\"/><path d=\"M25,26.25 m0.0,0.0 l5.625,5.0 -0.625,5.0 l-5.0,5.0 0.0,3.125 l5.625,-3.125 3.75,-6.25 l-0.625,-5.0 -4.375,-5.0 m-1.25,26.875 l3.75,18.125 18.125,-1.875 l5.0,5.0 -4.375,8.125 l-10.625,1.875 -8.125,-3.125 l0.0,-9.375 m36.875,-45.0 l-2.5,3.125 1.875,7.5 l3.75,3.75 8.125,1.875 l6.875,-1.25 0.0,-2.5 l-6.25,0.625 -5.625,-4.375 l1.875,-6.25 -1.25,-3.125 l5.625,0.0 -1.875,3.125 l-1.875,0.0 4.375,-3.125 l3.125,0.0 \" fill=\"none\" stroke=\"black\" stroke-width=\"1\"/></svg>"
      ],
      "text/plain": [
       "<IPython.core.display.SVG object>"
      ]
     },
     "metadata": {},
     "output_type": "display_data"
    },
    {
     "name": "stdout",
     "output_type": "stream",
     "text": [
      "nose 0.37480164\n"
     ]
    },
    {
     "data": {
      "image/svg+xml": [
       "<svg baseProfile=\"full\" height=\"107.5\" version=\"1.1\" width=\"108.125\" xmlns=\"http://www.w3.org/2000/svg\" xmlns:ev=\"http://www.w3.org/2001/xml-events\" xmlns:xlink=\"http://www.w3.org/1999/xlink\"><defs/><rect fill=\"white\" height=\"107.5\" width=\"108.125\" x=\"0\" y=\"0\"/><path d=\"M25,82.5 m0.0,0.0 l7.5,0.0 6.875,-6.875 l-3.125,-6.875 -11.25,0.0 m45.0,-43.75 l-4.375,0.0 -1.875,3.125 l-2.5,0.0 -1.25,-3.125 l5.0,0.0 -5.625,5.625 l0.0,3.75 5.625,4.375 l8.75,0.625 -1.25,-1.25 l6.875,-8.75 -1.25,-4.375 l-3.75,13.75 5.625,-3.125 l3.125,-5.0 -0.625,-5.625 l-11.875,15.625 -6.25,1.25 l-8.125,-1.875 -3.75,-3.75 l-1.875,-7.5 3.75,-3.75 m14.375,5.0 l2.5,-1.25 \" fill=\"none\" stroke=\"black\" stroke-width=\"1\"/></svg>"
      ],
      "text/plain": [
       "<IPython.core.display.SVG object>"
      ]
     },
     "metadata": {},
     "output_type": "display_data"
    },
    {
     "name": "stdout",
     "output_type": "stream",
     "text": [
      "mouth 2.9910016\n"
     ]
    },
    {
     "data": {
      "image/svg+xml": [
       "<svg baseProfile=\"full\" height=\"111.875\" version=\"1.1\" width=\"101.875\" xmlns=\"http://www.w3.org/2000/svg\" xmlns:ev=\"http://www.w3.org/2001/xml-events\" xmlns:xlink=\"http://www.w3.org/1999/xlink\"><defs/><rect fill=\"white\" height=\"111.875\" width=\"101.875\" x=\"0\" y=\"0\"/><path d=\"M44.375,25 m0.0,0.0 l-4.375,0.0 -1.875,3.125 l-2.5,0.0 -1.25,-3.125 l5.0,0.0 -5.625,5.625 l0.0,3.75 5.625,4.375 l8.75,0.625 -1.25,-1.25 l6.875,-8.75 -1.25,-4.375 l-3.75,13.75 5.625,-3.125 l3.125,-5.0 -0.625,-5.625 l-11.875,15.625 -6.25,1.25 l-8.125,-1.875 -3.75,-3.75 l-1.875,-7.5 3.75,-3.75 m14.375,5.0 l2.5,-1.25 m31.25,30.0 l0.0,8.125 -5.0,20.0 \" fill=\"none\" stroke=\"black\" stroke-width=\"1\"/></svg>"
      ],
      "text/plain": [
       "<IPython.core.display.SVG object>"
      ]
     },
     "metadata": {},
     "output_type": "display_data"
    },
    {
     "name": "stdout",
     "output_type": "stream",
     "text": [
      "nose 3.2711768\n"
     ]
    },
    {
     "data": {
      "image/svg+xml": [
       "<svg baseProfile=\"full\" height=\"111.875\" version=\"1.1\" width=\"100.0\" xmlns=\"http://www.w3.org/2000/svg\" xmlns:ev=\"http://www.w3.org/2001/xml-events\" xmlns:xlink=\"http://www.w3.org/1999/xlink\"><defs/><rect fill=\"white\" height=\"111.875\" width=\"100.0\" x=\"0\" y=\"0\"/><path d=\"M46.875,25 m0.0,0.0 l0.625,6.25 -5.625,8.125 l-8.75,2.5 -8.125,-2.5 l15.0,-0.625 -6.25,0.0 l-5.625,-4.375 0.625,-5.0 l5.625,-3.125 -5.625,-1.25 l0.625,2.5 9.375,-2.5 l1.875,13.125 1.875,1.25 l0.0,-1.875 1.875,1.25 l5.0,-3.75 2.5,-4.375 l-0.625,-5.625 m-13.75,5.0 l2.5,-1.25 m35.0,1.25 l-1.875,22.5 -6.875,34.375 \" fill=\"none\" stroke=\"black\" stroke-width=\"1\"/></svg>"
      ],
      "text/plain": [
       "<IPython.core.display.SVG object>"
      ]
     },
     "metadata": {},
     "output_type": "display_data"
    },
    {
     "name": "stdout",
     "output_type": "stream",
     "text": [
      "nose 1.7760302\n"
     ]
    },
    {
     "data": {
      "image/svg+xml": [
       "<svg baseProfile=\"full\" height=\"111.875\" version=\"1.1\" width=\"96.875\" xmlns=\"http://www.w3.org/2000/svg\" xmlns:ev=\"http://www.w3.org/2001/xml-events\" xmlns:xlink=\"http://www.w3.org/1999/xlink\"><defs/><rect fill=\"white\" height=\"111.875\" width=\"96.875\" x=\"0\" y=\"0\"/><path d=\"M25,25 m0.0,0.0 l4.375,26.25 9.375,28.125 l4.375,7.5 m1.25,-61.875 l5.625,3.125 5.625,-0.625 l1.875,-2.5 0.625,3.125 l5.0,-3.125 -11.875,5.625 l-7.5,0.0 -6.25,-5.625 m23.75,61.25 l-1.875,-0.625 -0.625,-3.75 l-0.625,2.5 -3.125,-1.25 l4.375,3.125 -1.25,0.625 l7.5,0.0 m-5.625,-50.625 l3.75,18.75 8.125,-1.875 m-8.125,11.25 l8.125,3.125 \" fill=\"none\" stroke=\"black\" stroke-width=\"1\"/></svg>"
      ],
      "text/plain": [
       "<IPython.core.display.SVG object>"
      ]
     },
     "metadata": {},
     "output_type": "display_data"
    },
    {
     "name": "stdout",
     "output_type": "stream",
     "text": [
      "mouth 0.96671903\n"
     ]
    },
    {
     "data": {
      "image/svg+xml": [
       "<svg baseProfile=\"full\" height=\"111.875\" version=\"1.1\" width=\"111.875\" xmlns=\"http://www.w3.org/2000/svg\" xmlns:ev=\"http://www.w3.org/2001/xml-events\" xmlns:xlink=\"http://www.w3.org/1999/xlink\"><defs/><rect fill=\"white\" height=\"111.875\" width=\"111.875\" x=\"0\" y=\"0\"/><path d=\"M25.625,25 m0.0,0.0 l-0.625,11.25 3.75,15.0 l9.375,28.125 4.375,7.5 m1.25,-61.875 l5.625,3.125 5.625,-0.625 l1.875,-2.5 0.625,3.125 l5.0,-3.125 -11.875,5.625 l-7.5,0.0 -6.25,-5.625 m23.75,61.25 l-1.875,-0.625 -0.625,-3.75 l-0.625,2.5 -3.125,-1.25 l4.375,3.125 -1.25,0.625 l7.5,0.0 m-5.625,-50.625 l3.75,18.125 18.125,-1.875 l5.625,5.0 0.0,2.5 l-5.0,5.625 -10.625,1.875 l-8.125,-3.125 0.0,-9.375 \" fill=\"none\" stroke=\"black\" stroke-width=\"1\"/></svg>"
      ],
      "text/plain": [
       "<IPython.core.display.SVG object>"
      ]
     },
     "metadata": {},
     "output_type": "display_data"
    },
    {
     "name": "stdout",
     "output_type": "stream",
     "text": [
      "nose 4.265525\n"
     ]
    },
    {
     "data": {
      "image/svg+xml": [
       "<svg baseProfile=\"full\" height=\"111.875\" version=\"1.1\" width=\"111.875\" xmlns=\"http://www.w3.org/2000/svg\" xmlns:ev=\"http://www.w3.org/2001/xml-events\" xmlns:xlink=\"http://www.w3.org/1999/xlink\"><defs/><rect fill=\"white\" height=\"111.875\" width=\"111.875\" x=\"0\" y=\"0\"/><path d=\"M41.25,25.625 m0.0,0.0 l-1.25,1.25 1.875,1.25 l3.75,-3.125 -5.625,3.125 l-6.25,0.0 -5.625,-3.125 l11.25,3.75 -4.375,1.875 l-10.0,-1.25 m0.0,53.125 l1.875,4.375 m18.125,-0.625 l-1.875,-0.625 -0.625,-3.75 l-0.625,2.5 -3.125,-1.25 l4.375,3.125 -1.25,0.625 l7.5,0.0 m-5.625,-50.625 l3.75,18.125 18.125,-1.875 l5.0,5.0 -4.375,8.125 l-10.625,1.875 -8.125,-3.125 l0.0,-9.375 m39.375,25.625 l-2.5,6.25 -3.125,-2.5 l-5.0,2.5 5.0,-3.125 l5.625,-11.25 \" fill=\"none\" stroke=\"black\" stroke-width=\"1\"/></svg>"
      ],
      "text/plain": [
       "<IPython.core.display.SVG object>"
      ]
     },
     "metadata": {},
     "output_type": "display_data"
    },
    {
     "name": "stdout",
     "output_type": "stream",
     "text": [
      "nose 4.615621\n"
     ]
    },
    {
     "data": {
      "image/svg+xml": [
       "<svg baseProfile=\"full\" height=\"111.875\" version=\"1.1\" width=\"111.875\" xmlns=\"http://www.w3.org/2000/svg\" xmlns:ev=\"http://www.w3.org/2001/xml-events\" xmlns:xlink=\"http://www.w3.org/1999/xlink\"><defs/><rect fill=\"white\" height=\"111.875\" width=\"111.875\" x=\"0\" y=\"0\"/><path d=\"M26.875,25 m0.0,0.0 l-1.875,0.625 0.0,3.125 l6.25,-3.75 m-6.25,58.125 l1.875,1.25 0.0,-2.5 l-0.625,5.0 7.5,0.0 m-5.625,-50.625 l3.75,18.125 18.125,-1.875 l5.0,5.0 -4.375,8.125 l-10.625,1.875 -8.125,-3.125 l0.0,-9.375 m43.75,20.625 l-3.75,5.625 0.625,5.625 l-1.25,-4.375 -2.5,4.375 l-3.125,-2.5 -5.0,2.5 l5.0,-3.125 5.625,-11.875 m1.875,-46.875 l13.75,0.0 \" fill=\"none\" stroke=\"black\" stroke-width=\"1\"/></svg>"
      ],
      "text/plain": [
       "<IPython.core.display.SVG object>"
      ]
     },
     "metadata": {},
     "output_type": "display_data"
    },
    {
     "name": "stdout",
     "output_type": "stream",
     "text": [
      "nose 1.8002859\n"
     ]
    },
    {
     "data": {
      "image/svg+xml": [
       "<svg baseProfile=\"full\" height=\"111.875\" version=\"1.1\" width=\"96.25\" xmlns=\"http://www.w3.org/2000/svg\" xmlns:ev=\"http://www.w3.org/2001/xml-events\" xmlns:xlink=\"http://www.w3.org/1999/xlink\"><defs/><rect fill=\"white\" height=\"111.875\" width=\"96.25\" x=\"0\" y=\"0\"/><path d=\"M25,66.875 m0.0,0.0 l7.5,0.0 6.875,-6.875 l-3.125,-6.875 -11.25,0.0 m35.0,22.5 l-3.75,5.625 0.625,5.625 l-1.25,-4.375 -2.5,4.375 l-3.125,-2.5 -5.0,2.5 l5.0,-3.125 5.625,-11.875 m1.875,-46.875 l13.75,0.0 \" fill=\"none\" stroke=\"black\" stroke-width=\"1\"/></svg>"
      ],
      "text/plain": [
       "<IPython.core.display.SVG object>"
      ]
     },
     "metadata": {},
     "output_type": "display_data"
    },
    {
     "name": "stdout",
     "output_type": "stream",
     "text": [
      "nose 6.85941\n"
     ]
    },
    {
     "data": {
      "image/svg+xml": [
       "<svg baseProfile=\"full\" height=\"111.875\" version=\"1.1\" width=\"107.5\" xmlns=\"http://www.w3.org/2000/svg\" xmlns:ev=\"http://www.w3.org/2001/xml-events\" xmlns:xlink=\"http://www.w3.org/1999/xlink\"><defs/><rect fill=\"white\" height=\"111.875\" width=\"107.5\" x=\"0\" y=\"0\"/><path d=\"M40.0,75.625 m0.0,0.0 l-3.75,5.625 0.625,5.625 l-1.25,-4.375 -2.5,4.375 l-3.125,-2.5 -5.0,2.5 l5.0,-3.125 5.625,-11.875 m1.875,-46.875 l13.75,0.0 m31.25,18.125 l0.0,8.125 -3.75,15.625 l-8.75,20.0 \" fill=\"none\" stroke=\"black\" stroke-width=\"1\"/></svg>"
      ],
      "text/plain": [
       "<IPython.core.display.SVG object>"
      ]
     },
     "metadata": {},
     "output_type": "display_data"
    },
    {
     "name": "stdout",
     "output_type": "stream",
     "text": [
      "nose 6.339002\n"
     ]
    },
    {
     "data": {
      "image/svg+xml": [
       "<svg baseProfile=\"full\" height=\"111.875\" version=\"1.1\" width=\"99.375\" xmlns=\"http://www.w3.org/2000/svg\" xmlns:ev=\"http://www.w3.org/2001/xml-events\" xmlns:xlink=\"http://www.w3.org/1999/xlink\"><defs/><rect fill=\"white\" height=\"111.875\" width=\"99.375\" x=\"0\" y=\"0\"/><path d=\"M25.625,83.75 m0.0,0.0 l-0.625,-3.125 4.375,-5.625 m-3.125,-50.0 l13.75,0.0 m18.75,61.875 l8.75,-20.0 6.875,-41.875 \" fill=\"none\" stroke=\"black\" stroke-width=\"1\"/></svg>"
      ],
      "text/plain": [
       "<IPython.core.display.SVG object>"
      ]
     },
     "metadata": {},
     "output_type": "display_data"
    },
    {
     "name": "stdout",
     "output_type": "stream",
     "text": [
      "nose 4.0022473\n"
     ]
    },
    {
     "data": {
      "image/svg+xml": [
       "<svg baseProfile=\"full\" height=\"111.875\" version=\"1.1\" width=\"95.0\" xmlns=\"http://www.w3.org/2000/svg\" xmlns:ev=\"http://www.w3.org/2001/xml-events\" xmlns:xlink=\"http://www.w3.org/1999/xlink\"><defs/><rect fill=\"white\" height=\"111.875\" width=\"95.0\" x=\"0\" y=\"0\"/><path d=\"M25,25 m0.0,0.0 l11.875,38.75 11.875,23.125 m8.125,-16.875 l0.625,9.375 3.125,5.625 l3.125,1.875 -0.625,-1.875 l3.75,-6.25 3.125,2.5 l-3.125,-3.125 3.125,-6.25 l-1.875,1.875 -6.875,-1.875 l4.375,6.25 -8.75,-9.375 l0.0,-2.5 -0.625,2.5 l-2.5,-1.875 m5.625,-41.875 l2.5,14.375 8.125,-1.875 m-8.125,11.25 l8.125,3.125 \" fill=\"none\" stroke=\"black\" stroke-width=\"1\"/></svg>"
      ],
      "text/plain": [
       "<IPython.core.display.SVG object>"
      ]
     },
     "metadata": {},
     "output_type": "display_data"
    },
    {
     "name": "stdout",
     "output_type": "stream",
     "text": [
      "nose 4.357808\n"
     ]
    },
    {
     "data": {
      "image/svg+xml": [
       "<svg baseProfile=\"full\" height=\"111.875\" version=\"1.1\" width=\"110.625\" xmlns=\"http://www.w3.org/2000/svg\" xmlns:ev=\"http://www.w3.org/2001/xml-events\" xmlns:xlink=\"http://www.w3.org/1999/xlink\"><defs/><rect fill=\"white\" height=\"111.875\" width=\"110.625\" x=\"0\" y=\"0\"/><path d=\"M25,25 m0.0,0.0 l11.875,38.75 11.875,23.125 m36.875,-13.75 l-13.125,1.25 0.0,7.5 l-5.625,-3.125 -4.375,7.5 l-5.0,-6.875 -0.625,-13.125 l-0.625,2.5 -2.5,-1.875 l6.875,4.375 5.0,6.875 l3.75,-5.0 2.5,0.625 l-10.0,-1.875 1.875,15.0 m-1.875,-38.125 l8.125,3.125 8.125,-0.625 l5.0,-3.75 2.5,-5.625 l-5.625,-5.0 -14.375,0.625 l-3.75,1.875 -2.5,-14.375 \" fill=\"none\" stroke=\"black\" stroke-width=\"1\"/></svg>"
      ],
      "text/plain": [
       "<IPython.core.display.SVG object>"
      ]
     },
     "metadata": {},
     "output_type": "display_data"
    },
    {
     "name": "stdout",
     "output_type": "stream",
     "text": [
      "mouth 5.079978\n"
     ]
    },
    {
     "data": {
      "image/svg+xml": [
       "<svg baseProfile=\"full\" height=\"111.875\" version=\"1.1\" width=\"111.875\" xmlns=\"http://www.w3.org/2000/svg\" xmlns:ev=\"http://www.w3.org/2001/xml-events\" xmlns:xlink=\"http://www.w3.org/1999/xlink\"><defs/><rect fill=\"white\" height=\"111.875\" width=\"111.875\" x=\"0\" y=\"0\"/><path d=\"M25,66.875 m0.0,0.0 l8.125,20.0 m25.0,-6.25 l0.0,-6.25 15.625,0.0 l6.25,-5.625 3.125,2.5 l3.75,-3.75 0.0,-2.5 l-5.625,9.375 -5.0,3.75 l3.75,5.0 6.875,-6.25 l-3.125,-4.375 3.125,1.875 l0.0,-1.875 0.0,5.0 l-10.625,9.375 -1.875,0.0 l1.25,-8.75 -8.125,4.375 l-5.0,0.0 0.0,-1.875 l-0.625,6.25 0.0,-4.375 l-9.375,-3.125 1.875,-5.625 l2.5,-0.625 -10.0,-1.25 l4.375,6.25 -8.75,-9.375 l0.0,-2.5 -0.625,2.5 l-2.5,-1.875 3.125,3.125 l1.875,12.5 3.75,4.375 l3.75,-6.875 6.875,4.375 l10.0,-2.5 0.0,3.125 l-1.25,-8.75 8.125,1.25 l-1.25,-2.5 6.875,-6.875 l5.625,-8.75 0.0,-3.125 m-39.375,-7.5 l8.125,3.125 8.125,-0.625 l5.0,-3.75 1.875,-5.625 l-5.0,-5.0 -14.375,0.625 l-3.75,1.875 -2.5,-14.375 \" fill=\"none\" stroke=\"black\" stroke-width=\"1\"/></svg>"
      ],
      "text/plain": [
       "<IPython.core.display.SVG object>"
      ]
     },
     "metadata": {},
     "output_type": "display_data"
    },
    {
     "name": "stdout",
     "output_type": "stream",
     "text": [
      "mouth 4.194952\n"
     ]
    },
    {
     "data": {
      "image/svg+xml": [
       "<svg baseProfile=\"full\" height=\"111.875\" version=\"1.1\" width=\"101.25\" xmlns=\"http://www.w3.org/2000/svg\" xmlns:ev=\"http://www.w3.org/2001/xml-events\" xmlns:xlink=\"http://www.w3.org/1999/xlink\"><defs/><rect fill=\"white\" height=\"111.875\" width=\"101.25\" x=\"0\" y=\"0\"/><path d=\"M63.125,76.25 m0.0,0.0 l4.375,-4.375 -1.875,-5.0 l5.625,-10.625 -6.25,12.5 l-6.875,5.625 1.875,2.5 l-1.25,2.5 -5.625,2.5 l-1.25,-5.625 0.625,5.625 l-5.625,0.625 0.0,4.375 l-0.625,-4.375 -3.125,0.0 l0.0,1.875 3.75,-3.75 l6.25,1.875 0.0,2.5 l7.5,-6.875 3.75,5.0 l6.875,-6.25 0.625,-11.25 l4.375,-6.25 -8.125,11.25 l1.875,4.375 -1.875,-2.5 l-7.5,14.375 -1.875,0.0 l3.75,-10.0 -5.625,-3.75 l-17.5,0.0 -3.75,5.0 l-5.0,-6.875 -5.625,-3.125 l1.875,0.0 0.0,-1.875 l0.625,13.125 3.75,6.25 l1.875,0.0 3.75,-6.25 l5.625,1.875 0.0,-6.25 l0.0,6.875 -5.625,-3.125 l-4.375,8.125 -0.625,-15.0 l6.25,1.875 m-6.25,-25.0 l8.125,3.125 8.125,-0.625 l5.0,-3.75 1.875,-5.625 l-5.0,-5.0 -14.375,0.625 l-3.75,1.875 -2.5,-14.375 \" fill=\"none\" stroke=\"black\" stroke-width=\"1\"/></svg>"
      ],
      "text/plain": [
       "<IPython.core.display.SVG object>"
      ]
     },
     "metadata": {},
     "output_type": "display_data"
    },
    {
     "name": "stdout",
     "output_type": "stream",
     "text": [
      "nose 2.6680436\n"
     ]
    },
    {
     "data": {
      "image/svg+xml": [
       "<svg baseProfile=\"full\" height=\"99.375\" version=\"1.1\" width=\"111.875\" xmlns=\"http://www.w3.org/2000/svg\" xmlns:ev=\"http://www.w3.org/2001/xml-events\" xmlns:xlink=\"http://www.w3.org/1999/xlink\"><defs/><rect fill=\"white\" height=\"99.375\" width=\"111.875\" x=\"0\" y=\"0\"/><path d=\"M25,38.75 m0.0,0.0 l7.5,0.0 6.875,-6.875 l-3.125,-6.875 -11.25,0.0 m27.5,35.0 l3.125,1.875 0.625,-7.5 l-4.375,4.375 -3.125,-2.5 l-6.25,5.625 -15.625,0.0 l-1.875,-2.5 0.0,2.5 l1.875,0.625 0.0,6.25 l-1.875,0.0 1.875,0.625 l16.25,-6.875 1.25,1.875 l-1.25,2.5 -5.625,2.5 l0.0,3.125 -0.625,-3.125 l-5.625,0.625 0.0,-1.875 l-0.625,6.25 0.0,-4.375 l-3.125,0.0 0.0,1.875 l10.0,-3.125 -1.25,-5.0 l8.75,2.5 3.75,4.375 l6.25,-7.5 0.625,1.25 l-10.625,10.0 -1.875,0.0 l1.875,-8.75 6.875,-6.25 l-1.875,-5.0 5.625,-10.625 l0.625,10.0 4.375,-6.875 m26.25,15.0 l-8.125,12.5 \" fill=\"none\" stroke=\"black\" stroke-width=\"1\"/></svg>"
      ],
      "text/plain": [
       "<IPython.core.display.SVG object>"
      ]
     },
     "metadata": {},
     "output_type": "display_data"
    },
    {
     "name": "stdout",
     "output_type": "stream",
     "text": [
      "nose 2.8687272\n"
     ]
    },
    {
     "data": {
      "image/svg+xml": [
       "<svg baseProfile=\"full\" height=\"109.375\" version=\"1.1\" width=\"111.875\" xmlns=\"http://www.w3.org/2000/svg\" xmlns:ev=\"http://www.w3.org/2001/xml-events\" xmlns:xlink=\"http://www.w3.org/1999/xlink\"><defs/><rect fill=\"white\" height=\"109.375\" width=\"111.875\" x=\"0\" y=\"0\"/><path d=\"M44.375,57.5 m0.0,0.0 l-3.75,5.625 -0.625,11.25 l-6.875,6.25 -3.75,-5.0 l6.875,-6.25 2.5,3.125 l-2.5,-3.75 3.75,-4.375 l-4.375,3.75 -1.25,-3.75 l5.625,-10.625 -6.25,12.5 l-6.875,5.625 1.875,3.75 l-3.75,3.125 0.0,-8.125 l6.875,10.625 -4.375,3.125 m59.375,-59.375 l0.0,8.125 -5.625,20.625 l-5.0,11.875 -13.125,18.75 \" fill=\"none\" stroke=\"black\" stroke-width=\"1\"/></svg>"
      ],
      "text/plain": [
       "<IPython.core.display.SVG object>"
      ]
     },
     "metadata": {},
     "output_type": "display_data"
    },
    {
     "name": "stdout",
     "output_type": "stream",
     "text": [
      "nose 8.689356\n"
     ]
    },
    {
     "data": {
      "image/svg+xml": [
       "<svg baseProfile=\"full\" height=\"111.875\" version=\"1.1\" width=\"97.5\" xmlns=\"http://www.w3.org/2000/svg\" xmlns:ev=\"http://www.w3.org/2001/xml-events\" xmlns:xlink=\"http://www.w3.org/1999/xlink\"><defs/><rect fill=\"white\" height=\"111.875\" width=\"97.5\" x=\"0\" y=\"0\"/><path d=\"M29.375,59.375 m0.0,0.0 l-4.375,5.625 0.0,12.5 m21.25,9.375 l5.0,-4.375 10.0,-15.625 l6.25,-15.625 5.0,-26.25 \" fill=\"none\" stroke=\"black\" stroke-width=\"1\"/></svg>"
      ],
      "text/plain": [
       "<IPython.core.display.SVG object>"
      ]
     },
     "metadata": {},
     "output_type": "display_data"
    },
    {
     "name": "stdout",
     "output_type": "stream",
     "text": [
      "mouth 1.0262157\n"
     ]
    },
    {
     "data": {
      "image/svg+xml": [
       "<svg baseProfile=\"full\" height=\"111.875\" version=\"1.1\" width=\"90.0\" xmlns=\"http://www.w3.org/2000/svg\" xmlns:ev=\"http://www.w3.org/2001/xml-events\" xmlns:xlink=\"http://www.w3.org/1999/xlink\"><defs/><rect fill=\"white\" height=\"111.875\" width=\"90.0\" x=\"0\" y=\"0\"/><path d=\"M25,25 m0.0,0.0 l13.125,37.5 9.375,16.25 l8.125,8.125 m0.625,-28.75 l5.625,4.375 3.125,-6.25 l0.0,2.5 -6.25,-2.5 l-2.5,1.25 -4.375,-4.375 l0.0,-2.5 -0.625,2.5 l-3.125,-1.25 3.75,2.5 l0.625,9.375 3.75,6.25 l1.875,0.0 3.75,-6.875 l3.125,1.875 -6.875,6.25 l6.875,3.75 m-8.125,-41.875 l8.125,3.125 \" fill=\"none\" stroke=\"black\" stroke-width=\"1\"/></svg>"
      ],
      "text/plain": [
       "<IPython.core.display.SVG object>"
      ]
     },
     "metadata": {},
     "output_type": "display_data"
    },
    {
     "name": "stdout",
     "output_type": "stream",
     "text": [
      "mouth 0.5172566\n"
     ]
    },
    {
     "data": {
      "image/svg+xml": [
       "<svg baseProfile=\"full\" height=\"111.875\" version=\"1.1\" width=\"105.625\" xmlns=\"http://www.w3.org/2000/svg\" xmlns:ev=\"http://www.w3.org/2001/xml-events\" xmlns:xlink=\"http://www.w3.org/1999/xlink\"><defs/><rect fill=\"white\" height=\"111.875\" width=\"105.625\" x=\"0\" y=\"0\"/><path d=\"M25,25 m0.0,0.0 l13.125,37.5 9.375,16.25 l8.125,8.125 m0.625,-16.875 l-3.75,-6.25 -0.625,-13.125 l-0.625,2.5 -2.5,-1.875 l6.875,4.375 5.0,6.875 l3.125,-4.375 -6.875,-1.875 l10.625,2.5 13.125,-1.25 l-13.125,1.875 0.0,6.875 l-5.625,-3.125 -5.0,6.875 l3.125,3.125 8.125,2.5 l12.5,-1.25 -9.375,-1.875 l0.625,-5.625 6.25,-1.25 l-1.25,-5.0 1.25,5.625 l2.5,-1.25 -2.5,4.375 l-6.875,-2.5 -3.125,0.0 l0.0,1.875 3.75,-3.125 m-15.0,-32.5 l8.125,3.125 8.125,-0.625 l7.5,-6.875 -1.25,-3.75 \" fill=\"none\" stroke=\"black\" stroke-width=\"1\"/></svg>"
      ],
      "text/plain": [
       "<IPython.core.display.SVG object>"
      ]
     },
     "metadata": {},
     "output_type": "display_data"
    },
    {
     "name": "stdout",
     "output_type": "stream",
     "text": [
      "mouth 2.787147\n"
     ]
    },
    {
     "data": {
      "image/svg+xml": [
       "<svg baseProfile=\"full\" height=\"111.875\" version=\"1.1\" width=\"111.875\" xmlns=\"http://www.w3.org/2000/svg\" xmlns:ev=\"http://www.w3.org/2001/xml-events\" xmlns:xlink=\"http://www.w3.org/1999/xlink\"><defs/><rect fill=\"white\" height=\"111.875\" width=\"111.875\" x=\"0\" y=\"0\"/><path d=\"M25,51.25 m0.0,0.0 l3.75,11.25 8.125,14.375 l9.375,10.0 m6.25,-23.75 l1.875,-5.0 -7.5,-1.875 l4.375,6.25 -8.75,-9.375 l0.0,-2.5 -0.625,2.5 l-2.5,-1.875 3.125,3.125 l1.875,12.5 3.75,3.75 l4.375,-6.875 5.625,2.5 l0.0,-7.5 -3.125,-1.25 l18.75,1.25 6.25,-5.625 l3.125,2.5 3.75,-3.75 l0.0,-2.5 -5.625,9.375 l-5.625,3.75 4.375,5.0 l6.875,-6.25 -3.125,-4.375 l3.125,1.875 0.0,-1.875 l0.0,5.0 -11.875,10.0 l-6.25,3.125 -10.0,0.625 l-10.0,-4.375 13.75,2.5 l0.0,-6.875 6.25,-0.625 l-1.25,-5.625 1.875,5.625 l5.625,-3.125 -6.25,3.75 l0.0,2.5 -10.0,-2.5 l0.0,1.875 3.75,-3.75 l13.125,-3.125 -1.25,-2.5 l6.875,-6.875 5.625,-8.75 l0.0,-3.125 m-39.375,-7.5 l8.125,3.125 8.125,-0.625 l6.25,-5.625 0.0,-5.0 \" fill=\"none\" stroke=\"black\" stroke-width=\"1\"/></svg>"
      ],
      "text/plain": [
       "<IPython.core.display.SVG object>"
      ]
     },
     "metadata": {},
     "output_type": "display_data"
    },
    {
     "name": "stdout",
     "output_type": "stream",
     "text": [
      "mouth 3.9645886\n"
     ]
    },
    {
     "data": {
      "image/svg+xml": [
       "<svg baseProfile=\"full\" height=\"111.875\" version=\"1.1\" width=\"111.875\" xmlns=\"http://www.w3.org/2000/svg\" xmlns:ev=\"http://www.w3.org/2001/xml-events\" xmlns:xlink=\"http://www.w3.org/1999/xlink\"><defs/><rect fill=\"white\" height=\"111.875\" width=\"111.875\" x=\"0\" y=\"0\"/><path d=\"M71.25,40.625 m0.0,0.0 l-5.625,10.625 1.875,5.0 l-6.875,6.25 3.75,5.0 l6.875,-6.25 0.625,-11.25 l4.375,-6.25 -8.125,11.25 l1.875,4.375 -1.875,-2.5 l-5.0,11.25 -10.0,6.875 l-10.0,0.625 -8.125,-2.5 l-2.5,-2.5 4.375,-8.125 l-11.875,-10.625 1.875,0.625 l0.0,-1.875 0.625,13.125 l3.75,6.25 0.625,-13.75 l5.625,1.25 0.0,4.375 l1.875,-4.375 3.75,1.25 l-0.625,6.875 -5.0,-1.875 l5.0,2.5 1.25,-8.125 l14.375,0.625 6.875,-5.625 l-6.25,6.25 1.25,3.125 l-4.375,3.125 -2.5,0.0 l-1.25,-5.0 1.25,8.75 l-0.625,-3.125 -9.375,0.625 l0.0,1.875 3.75,-3.75 l0.0,8.75 m-21.875,6.875 l5.625,6.25 m1.25,-53.75 l8.125,3.125 8.125,-0.625 l6.25,-5.625 0.0,-5.0 m18.125,61.875 l10.0,-5.0 4.375,-5.0 \" fill=\"none\" stroke=\"black\" stroke-width=\"1\"/></svg>"
      ],
      "text/plain": [
       "<IPython.core.display.SVG object>"
      ]
     },
     "metadata": {},
     "output_type": "display_data"
    },
    {
     "name": "stdout",
     "output_type": "stream",
     "text": [
      "mouth 1.737827\n"
     ]
    },
    {
     "data": {
      "image/svg+xml": [
       "<svg baseProfile=\"full\" height=\"111.875\" version=\"1.1\" width=\"111.875\" xmlns=\"http://www.w3.org/2000/svg\" xmlns:ev=\"http://www.w3.org/2001/xml-events\" xmlns:xlink=\"http://www.w3.org/1999/xlink\"><defs/><rect fill=\"white\" height=\"111.875\" width=\"111.875\" x=\"0\" y=\"0\"/><path d=\"M25,35.625 m0.0,0.0 l10.0,-1.25 4.375,-5.625 l0.0,-3.75 m-13.125,33.125 l-1.25,-1.875 0.0,2.5 l1.875,0.0 0.0,7.5 l-1.875,-1.25 3.125,-6.875 l13.125,-0.625 3.125,5.0 l7.5,-6.25 3.125,3.125 l1.25,-8.125 -4.375,4.375 l-3.125,-2.5 -5.625,5.0 l6.875,-5.625 5.625,-11.875 l0.625,10.0 4.375,-6.875 l-5.0,17.5 -6.875,6.25 l-3.75,-4.375 2.5,5.0 l-3.75,3.75 -6.25,3.125 l-6.25,-0.625 0.0,-7.5 l-3.75,0.0 0.0,1.875 l3.75,-3.75 0.625,1.875 l4.375,0.0 7.5,-3.75 l-6.25,2.5 -1.25,-5.0 l1.25,8.75 -7.5,6.25 l-5.0,-1.25 m31.875,12.5 l12.5,-6.875 13.125,-13.125 l4.375,-7.5 \" fill=\"none\" stroke=\"black\" stroke-width=\"1\"/></svg>"
      ],
      "text/plain": [
       "<IPython.core.display.SVG object>"
      ]
     },
     "metadata": {},
     "output_type": "display_data"
    },
    {
     "name": "stdout",
     "output_type": "stream",
     "text": [
      "nose 4.888302\n"
     ]
    },
    {
     "data": {
      "image/svg+xml": [
       "<svg baseProfile=\"full\" height=\"111.875\" version=\"1.1\" width=\"109.375\" xmlns=\"http://www.w3.org/2000/svg\" xmlns:ev=\"http://www.w3.org/2001/xml-events\" xmlns:xlink=\"http://www.w3.org/1999/xlink\"><defs/><rect fill=\"white\" height=\"111.875\" width=\"109.375\" x=\"0\" y=\"0\"/><path d=\"M25,58.125 m0.0,0.0 l1.875,0.625 7.5,-5.625 l5.625,-12.5 -5.0,13.125 l1.25,2.5 -6.875,6.875 l-4.375,1.25 3.75,-2.5 l-1.25,-2.5 5.625,8.125 l6.875,-6.25 0.625,-11.25 l4.375,-6.25 -8.125,11.25 l1.875,4.375 -1.875,-2.5 l-5.0,11.25 -6.875,5.625 m16.25,13.125 l12.5,-6.875 13.125,-13.125 l10.0,-15.625 6.25,-15.625 l1.25,-10.625 \" fill=\"none\" stroke=\"black\" stroke-width=\"1\"/></svg>"
      ],
      "text/plain": [
       "<IPython.core.display.SVG object>"
      ]
     },
     "metadata": {},
     "output_type": "display_data"
    },
    {
     "name": "stdout",
     "output_type": "stream",
     "text": [
      "nose 7.8878045\n"
     ]
    },
    {
     "data": {
      "image/svg+xml": [
       "<svg baseProfile=\"full\" height=\"111.875\" version=\"1.1\" width=\"93.75\" xmlns=\"http://www.w3.org/2000/svg\" xmlns:ev=\"http://www.w3.org/2001/xml-events\" xmlns:xlink=\"http://www.w3.org/1999/xlink\"><defs/><rect fill=\"white\" height=\"111.875\" width=\"93.75\" x=\"0\" y=\"0\"/><path d=\"M29.375,43.75 m0.0,0.0 l-4.375,5.625 0.0,12.5 m0.625,25.0 l12.5,-6.875 13.125,-13.125 l10.0,-15.625 6.25,-15.625 l1.25,-10.625 \" fill=\"none\" stroke=\"black\" stroke-width=\"1\"/></svg>"
      ],
      "text/plain": [
       "<IPython.core.display.SVG object>"
      ]
     },
     "metadata": {},
     "output_type": "display_data"
    },
    {
     "name": "stdout",
     "output_type": "stream",
     "text": [
      "nose 1.4803059\n"
     ]
    },
    {
     "data": {
      "image/svg+xml": [
       "<svg baseProfile=\"full\" height=\"100.625\" version=\"1.1\" width=\"84.375\" xmlns=\"http://www.w3.org/2000/svg\" xmlns:ev=\"http://www.w3.org/2001/xml-events\" xmlns:xlink=\"http://www.w3.org/1999/xlink\"><defs/><rect fill=\"white\" height=\"100.625\" width=\"84.375\" x=\"0\" y=\"0\"/><path d=\"M25,25 m0.0,0.0 l7.5,21.875 9.375,16.25 l10.625,11.25 6.875,1.25 m-8.75,-33.125 l5.625,4.375 3.125,-6.25 l0.0,2.5 -6.25,-2.5 l-2.5,1.25 -4.375,-4.375 l0.0,-2.5 -0.625,2.5 l-3.125,-1.25 3.75,2.5 l0.625,9.375 3.75,6.25 l1.875,0.0 3.75,-6.875 l3.125,1.875 -6.875,6.25 l6.875,3.75 \" fill=\"none\" stroke=\"black\" stroke-width=\"1\"/></svg>"
      ],
      "text/plain": [
       "<IPython.core.display.SVG object>"
      ]
     },
     "metadata": {},
     "output_type": "display_data"
    },
    {
     "name": "stdout",
     "output_type": "stream",
     "text": [
      "nose 1.8683192\n"
     ]
    },
    {
     "data": {
      "image/svg+xml": [
       "<svg baseProfile=\"full\" height=\"101.875\" version=\"1.1\" width=\"100.0\" xmlns=\"http://www.w3.org/2000/svg\" xmlns:ev=\"http://www.w3.org/2001/xml-events\" xmlns:xlink=\"http://www.w3.org/1999/xlink\"><defs/><rect fill=\"white\" height=\"101.875\" width=\"100.0\" x=\"0\" y=\"0\"/><path d=\"M25,25 m0.0,0.0 l1.25,7.5 8.125,18.125 l14.375,20.0 8.125,5.0 l18.125,1.25 m-24.375,-22.5 l-3.75,-6.25 -0.625,-13.125 l-0.625,2.5 -2.5,-1.875 l6.875,4.375 5.0,6.875 l3.125,-4.375 -6.875,-1.875 l10.625,2.5 13.125,-1.25 l-13.125,1.875 0.0,6.875 l-5.625,-3.125 -5.0,6.875 l3.125,3.125 8.125,2.5 l12.5,-1.25 -9.375,-1.875 l0.625,-5.625 6.25,-1.25 l-1.25,-5.0 1.25,5.625 l2.5,-1.25 -2.5,4.375 l-6.875,-2.5 -3.125,0.0 l0.0,1.875 3.75,-3.125 \" fill=\"none\" stroke=\"black\" stroke-width=\"1\"/></svg>"
      ],
      "text/plain": [
       "<IPython.core.display.SVG object>"
      ]
     },
     "metadata": {},
     "output_type": "display_data"
    },
    {
     "name": "stdout",
     "output_type": "stream",
     "text": [
      "mouth 1.305193\n"
     ]
    },
    {
     "data": {
      "image/svg+xml": [
       "<svg baseProfile=\"full\" height=\"102.5\" version=\"1.1\" width=\"111.875\" xmlns=\"http://www.w3.org/2000/svg\" xmlns:ev=\"http://www.w3.org/2001/xml-events\" xmlns:xlink=\"http://www.w3.org/1999/xlink\"><defs/><rect fill=\"white\" height=\"102.5\" width=\"111.875\" x=\"0\" y=\"0\"/><path d=\"M25,35.625 m0.0,0.0 l3.75,11.25 8.125,14.375 l11.875,13.125 16.875,3.125 l15.625,-1.875 5.625,-2.5 m-34.375,-25.625 l1.875,-5.0 -7.5,-1.875 l4.375,6.25 -8.75,-9.375 l0.0,-2.5 -0.625,2.5 l-2.5,-1.875 3.125,3.125 l1.875,12.5 3.75,3.75 l4.375,-6.875 5.625,2.5 l0.0,-7.5 -3.125,-1.25 l18.75,1.25 6.25,-5.625 l3.125,2.5 3.75,-3.75 l0.0,-2.5 -5.625,9.375 l-5.625,3.75 4.375,5.0 l6.875,-6.25 -3.125,-4.375 l3.125,1.875 0.0,-1.875 l0.0,5.0 -11.875,10.0 l-6.25,3.125 -10.0,0.625 l-10.0,-4.375 13.75,2.5 l0.0,-6.875 6.25,-0.625 l-1.25,-5.625 1.875,5.625 l5.625,-3.125 -6.25,3.75 l0.0,2.5 -10.0,-2.5 l0.0,1.875 3.75,-3.75 l13.125,-3.125 -1.25,-2.5 l6.875,-6.875 5.625,-8.75 l0.0,-3.125 \" fill=\"none\" stroke=\"black\" stroke-width=\"1\"/></svg>"
      ],
      "text/plain": [
       "<IPython.core.display.SVG object>"
      ]
     },
     "metadata": {},
     "output_type": "display_data"
    },
    {
     "name": "stdout",
     "output_type": "stream",
     "text": [
      "mouth 2.763901\n"
     ]
    },
    {
     "data": {
      "image/svg+xml": [
       "<svg baseProfile=\"full\" height=\"102.5\" version=\"1.1\" width=\"111.875\" xmlns=\"http://www.w3.org/2000/svg\" xmlns:ev=\"http://www.w3.org/2001/xml-events\" xmlns:xlink=\"http://www.w3.org/1999/xlink\"><defs/><rect fill=\"white\" height=\"102.5\" width=\"111.875\" x=\"0\" y=\"0\"/><path d=\"M71.25,25 m0.0,0.0 l-5.625,10.625 1.875,5.0 l-6.875,6.25 3.75,5.0 l6.875,-6.25 0.625,-11.25 l4.375,-6.25 -8.125,11.25 l1.875,4.375 -1.875,-2.5 l-5.0,11.25 -10.0,6.875 l-10.0,0.625 -8.125,-2.5 l-2.5,-2.5 4.375,-8.125 l-11.875,-10.625 1.875,0.625 l0.0,-1.875 0.625,13.125 l3.75,6.25 0.625,-13.75 l5.625,1.25 0.0,4.375 l1.875,-4.375 3.75,1.25 l-0.625,6.875 -5.0,-1.875 l5.0,2.5 1.25,-8.125 l14.375,0.625 6.875,-5.625 l-6.25,6.25 1.25,3.125 l-4.375,3.125 -2.5,0.0 l-1.25,-5.0 1.25,8.75 l-0.625,-3.125 -9.375,0.625 l0.0,1.875 3.75,-3.75 l0.0,8.75 m-21.875,6.875 l8.125,9.375 16.875,3.125 l18.125,-2.5 18.75,-13.125 \" fill=\"none\" stroke=\"black\" stroke-width=\"1\"/></svg>"
      ],
      "text/plain": [
       "<IPython.core.display.SVG object>"
      ]
     },
     "metadata": {},
     "output_type": "display_data"
    },
    {
     "name": "stdout",
     "output_type": "stream",
     "text": [
      "mouth 2.3384452\n"
     ]
    },
    {
     "data": {
      "image/svg+xml": [
       "<svg baseProfile=\"full\" height=\"102.5\" version=\"1.1\" width=\"111.875\" xmlns=\"http://www.w3.org/2000/svg\" xmlns:ev=\"http://www.w3.org/2001/xml-events\" xmlns:xlink=\"http://www.w3.org/1999/xlink\"><defs/><rect fill=\"white\" height=\"102.5\" width=\"111.875\" x=\"0\" y=\"0\"/><path d=\"M26.25,42.5 m0.0,0.0 l-1.25,-1.875 0.0,2.5 l1.875,0.0 0.0,7.5 l-1.875,-1.25 3.125,-6.875 l13.125,-0.625 3.125,5.0 l7.5,-6.25 3.125,3.125 l1.25,-8.125 -4.375,4.375 l-3.125,-2.5 -5.625,5.0 l6.875,-5.625 5.625,-11.875 l0.625,10.0 4.375,-6.875 l-5.0,17.5 -6.875,6.25 l-3.75,-4.375 2.5,5.0 l-3.75,3.75 -6.25,3.125 l-6.25,-0.625 0.0,-7.5 l-3.75,0.0 0.0,1.875 l3.75,-3.75 0.625,1.875 l4.375,0.0 7.5,-3.75 l-6.25,2.5 -1.25,-5.0 l1.25,8.75 -7.5,6.25 l-5.0,-1.25 m61.875,-15.625 l-4.375,8.125 -13.125,13.125 l-15.625,10.0 -19.375,3.125 l-9.375,-1.875 \" fill=\"none\" stroke=\"black\" stroke-width=\"1\"/></svg>"
      ],
      "text/plain": [
       "<IPython.core.display.SVG object>"
      ]
     },
     "metadata": {},
     "output_type": "display_data"
    },
    {
     "name": "stdout",
     "output_type": "stream",
     "text": [
      "nose 4.20437\n"
     ]
    },
    {
     "data": {
      "image/svg+xml": [
       "<svg baseProfile=\"full\" height=\"101.875\" version=\"1.1\" width=\"106.875\" xmlns=\"http://www.w3.org/2000/svg\" xmlns:ev=\"http://www.w3.org/2001/xml-events\" xmlns:xlink=\"http://www.w3.org/1999/xlink\"><defs/><rect fill=\"white\" height=\"101.875\" width=\"106.875\" x=\"0\" y=\"0\"/><path d=\"M25,42.5 m0.0,0.0 l1.875,0.625 7.5,-5.625 l5.625,-12.5 -5.0,13.125 l1.25,2.5 -6.875,6.875 l-4.375,1.25 3.75,-2.5 l-1.25,-2.5 5.625,8.125 l6.875,-6.25 0.625,-11.25 l4.375,-6.25 -8.125,11.25 l1.875,4.375 -1.875,-2.5 l-5.0,11.25 -6.875,5.625 m0.0,18.75 l11.875,-1.875 16.875,-10.625 l13.125,-13.125 15.0,-26.25 \" fill=\"none\" stroke=\"black\" stroke-width=\"1\"/></svg>"
      ],
      "text/plain": [
       "<IPython.core.display.SVG object>"
      ]
     },
     "metadata": {},
     "output_type": "display_data"
    },
    {
     "name": "stdout",
     "output_type": "stream",
     "text": [
      "nose 13.603005\n"
     ]
    },
    {
     "data": {
      "image/svg+xml": [
       "<svg baseProfile=\"full\" height=\"98.125\" version=\"1.1\" width=\"91.25\" xmlns=\"http://www.w3.org/2000/svg\" xmlns:ev=\"http://www.w3.org/2001/xml-events\" xmlns:xlink=\"http://www.w3.org/1999/xlink\"><defs/><rect fill=\"white\" height=\"98.125\" width=\"91.25\" x=\"0\" y=\"0\"/><path d=\"M29.375,28.125 m0.0,0.0 l-4.375,5.625 0.0,12.5 m41.25,-21.25 l-15.0,26.25 -13.125,13.125 l-13.125,8.75 \" fill=\"none\" stroke=\"black\" stroke-width=\"1\"/></svg>"
      ],
      "text/plain": [
       "<IPython.core.display.SVG object>"
      ]
     },
     "metadata": {},
     "output_type": "display_data"
    },
    {
     "data": {
      "image/png": "[encoded data removed]",
      "text/plain": [
       "<matplotlib.figure.Figure at 0x1088ab090>"
      ]
     },
     "metadata": {},
     "output_type": "display_data"
    }
   ],
   "source": [
    "import classify\n",
    "classify = reload(classify)\n",
    "from classify import get_bounding_boxes, non_maximal_suppression\n",
    "from plotting import plot_img_with_bbox\n",
    "\n",
    "window_size = 100\n",
    "shift_size = 25\n",
    "scale_factor = 8\n",
    "H, W = im.shape\n",
    "\n",
    "bboxes = get_bounding_boxes(im, model,\n",
    "                            window_size=window_size,\n",
    "                            shift_size=shift_size,\n",
    "                            scale_factor=scale_factor,\n",
    "                            verbose=True)\n",
    "bboxes = non_maximal_suppression(bboxes)\n",
    "plot_img_with_bbox(im, bboxes)\n",
    "plt.show()\n"
   ]
  },
  {
   "cell_type": "code",
   "execution_count": null,
   "metadata": {},
   "outputs": [],
   "source": []
  },
  {
   "cell_type": "code",
   "execution_count": null,
   "metadata": {},
   "outputs": [],
   "source": []
  }
 ],
 "metadata": {
  "kernelspec": {
   "display_name": "Python 2",
   "language": "python",
   "name": "python2"
  },
  "language_info": {
   "codemirror_mode": {
    "name": "ipython",
    "version": 2
   },
   "file_extension": ".py",
   "mimetype": "text/x-python",
   "name": "python",
   "nbconvert_exporter": "python",
   "pygments_lexer": "ipython2",
   "version": "2.7.10"
  }
 },
 "nbformat": 4,
 "nbformat_minor": 2
}
