{
 "cells": [
  {
   "cell_type": "code",
   "execution_count": 1,
   "metadata": {},
   "outputs": [],
   "source": [
    "%matplotlib inline\n",
    "import numpy as np\n",
    "import cv2\n",
    "import matplotlib\n",
    "import matplotlib.pyplot as plt\n",
    "from face_data import load_faces"
   ]
  },
  {
   "cell_type": "markdown",
   "metadata": {},
   "source": [
    "load the classifier"
   ]
  },
  {
   "cell_type": "code",
   "execution_count": 2,
   "metadata": {
    "scrolled": true
   },
   "outputs": [
    {
     "name": "stdout",
     "output_type": "stream",
     "text": [
      "INFO:tensorflow:Model using gpu.\n",
      "INFO:tensorflow:Loading model four_class_checkpoint/vector-110000.\n",
      "INFO:tensorflow:Restoring parameters from four_class_checkpoint/vector-110000\n"
     ]
    }
   ],
   "source": [
    "import neuralnet\n",
    "neuralnet = reload(neuralnet)\n",
    "from neuralnet import FeatureClassifier\n",
    "\n",
    "model = FeatureClassifier()"
   ]
  },
  {
   "cell_type": "code",
   "execution_count": 3,
   "metadata": {},
   "outputs": [
    {
     "data": {
      "image/png": "[encoded data removed]",
      "text/plain": [
       "<matplotlib.figure.Figure at 0x11b04e650>"
      ]
     },
     "metadata": {},
     "output_type": "display_data"
    }
   ],
   "source": [
    "im = cv2.imread('faces/face_85.png', 0)\n",
    "plt.imshow(im, cmap=plt.cm.gray)\n",
    "plt.show()"
   ]
  },
  {
   "cell_type": "markdown",
   "metadata": {},
   "source": [
    "**Method 1: sliding window**\n",
    "- slide a small window across the image\n",
    "- for each window, convert to 3-stroke format\n",
    "- classify as a eye, nose, mouth"
   ]
  },
  {
   "cell_type": "code",
   "execution_count": 4,
   "metadata": {},
   "outputs": [
    {
     "name": "stdout",
     "output_type": "stream",
     "text": [
      "INFO:tensorflow:Model using gpu.\n",
      "INFO:tensorflow:Loading model four_class_checkpoint/vector-110000.\n",
      "INFO:tensorflow:Restoring parameters from four_class_checkpoint/vector-110000\n",
      "nose 0.91039264\n"
     ]
    },
    {
     "data": {
      "image/svg+xml": [
       "<svg baseProfile=\"full\" height=\"93.125\" version=\"1.1\" width=\"95.625\" xmlns=\"http://www.w3.org/2000/svg\" xmlns:ev=\"http://www.w3.org/2001/xml-events\" xmlns:xlink=\"http://www.w3.org/1999/xlink\"><defs/><rect fill=\"white\" height=\"93.125\" width=\"95.625\" x=\"0\" y=\"0\"/><path d=\"M25,47.5 m0.0,0.0 l3.125,16.25 2.5,4.375 m6.25,-30.0 l9.375,-10.0 11.25,-3.125 l13.125,0.0 m-10.0,26.25 l6.875,-0.625 1.875,-1.875 l1.25,1.25 0.0,-13.125 l-10.0,0.625 -2.5,3.125 l-2.5,-1.875 -8.75,6.25 l5.0,5.0 8.125,1.25 l-2.5,-4.375 0.0,-5.625 \" fill=\"none\" stroke=\"black\" stroke-width=\"1\"/></svg>"
      ],
      "text/plain": [
       "<IPython.core.display.SVG object>"
      ]
     },
     "metadata": {},
     "output_type": "display_data"
    },
    {
     "name": "stdout",
     "output_type": "stream",
     "text": [
      "eye 0.7811077\n"
     ]
    },
    {
     "data": {
      "image/svg+xml": [
       "<svg baseProfile=\"full\" height=\"93.125\" version=\"1.1\" width=\"111.875\" xmlns=\"http://www.w3.org/2000/svg\" xmlns:ev=\"http://www.w3.org/2001/xml-events\" xmlns:xlink=\"http://www.w3.org/1999/xlink\"><defs/><rect fill=\"white\" height=\"93.125\" width=\"111.875\" x=\"0\" y=\"0\"/><path d=\"M25,46.875 m0.0,0.0 l6.25,21.25 m6.25,-30.0 l9.375,-10.0 11.25,-3.125 l18.75,1.25 10.0,3.75 m-16.875,18.125 l0.0,-10.0 1.875,-0.625 l7.5,5.0 -5.0,6.25 l-4.375,0.0 -1.875,1.875 l-13.125,0.0 -7.5,-5.625 l10.625,-6.25 1.25,10.625 l-1.25,-9.375 3.125,-2.5 l8.125,0.0 m9.375,30.625 l8.125,-0.625 \" fill=\"none\" stroke=\"black\" stroke-width=\"1\"/></svg>"
      ],
      "text/plain": [
       "<IPython.core.display.SVG object>"
      ]
     },
     "metadata": {},
     "output_type": "display_data"
    },
    {
     "name": "stdout",
     "output_type": "stream",
     "text": [
      "eye 0.46206826\n"
     ]
    },
    {
     "data": {
      "image/svg+xml": [
       "<svg baseProfile=\"full\" height=\"93.125\" version=\"1.1\" width=\"108.75\" xmlns=\"http://www.w3.org/2000/svg\" xmlns:ev=\"http://www.w3.org/2001/xml-events\" xmlns:xlink=\"http://www.w3.org/1999/xlink\"><defs/><rect fill=\"white\" height=\"93.125\" width=\"108.75\" x=\"0\" y=\"0\"/><path d=\"M73.125,29.375 m0.0,0.0 l-11.875,-3.125 -18.75,-1.25 l-11.25,3.125 -6.25,7.5 m29.375,12.5 l0.0,-10.0 1.875,-0.625 l7.5,5.0 -5.0,6.25 l-4.375,0.0 -1.875,1.875 l-13.125,0.0 -7.5,-5.625 l10.625,-6.25 1.25,10.625 l-1.25,-9.375 3.125,-2.5 l8.125,0.0 m9.375,30.625 l20.625,-0.625 \" fill=\"none\" stroke=\"black\" stroke-width=\"1\"/></svg>"
      ],
      "text/plain": [
       "<IPython.core.display.SVG object>"
      ]
     },
     "metadata": {},
     "output_type": "display_data"
    },
    {
     "name": "stdout",
     "output_type": "stream",
     "text": [
      "mouth 2.611649\n"
     ]
    },
    {
     "data": {
      "image/svg+xml": [
       "<svg baseProfile=\"full\" height=\"93.75\" version=\"1.1\" width=\"111.875\" xmlns=\"http://www.w3.org/2000/svg\" xmlns:ev=\"http://www.w3.org/2001/xml-events\" xmlns:xlink=\"http://www.w3.org/1999/xlink\"><defs/><rect fill=\"white\" height=\"93.75\" width=\"111.875\" x=\"0\" y=\"0\"/><path d=\"M25,25.625 m0.0,0.0 l20.625,1.25 11.875,3.125 m-18.75,18.75 l0.0,-10.0 5.0,0.625 l4.375,4.375 -5.0,5.625 l-13.125,2.5 -5.0,-0.625 l3.125,-1.25 -1.875,-10.0 l3.75,-1.875 8.125,0.0 l-13.125,1.875 m22.5,28.75 l20.625,-0.625 m18.75,-33.125 l-10.0,6.25 4.375,4.375 l5.625,1.875 m-9.375,-17.5 l9.375,-5.0 \" fill=\"none\" stroke=\"black\" stroke-width=\"1\"/></svg>"
      ],
      "text/plain": [
       "<IPython.core.display.SVG object>"
      ]
     },
     "metadata": {},
     "output_type": "display_data"
    },
    {
     "name": "stdout",
     "output_type": "stream",
     "text": [
      "nose 1.9101399\n"
     ]
    },
    {
     "data": {
      "image/svg+xml": [
       "<svg baseProfile=\"full\" height=\"96.875\" version=\"1.1\" width=\"111.875\" xmlns=\"http://www.w3.org/2000/svg\" xmlns:ev=\"http://www.w3.org/2001/xml-events\" xmlns:xlink=\"http://www.w3.org/1999/xlink\"><defs/><rect fill=\"white\" height=\"96.875\" width=\"111.875\" x=\"0\" y=\"0\"/><path d=\"M25,29.375 m0.0,0.0 l16.875,3.75 m-16.875,7.5 l7.5,5.625 -7.5,6.875 m6.875,18.75 l20.625,-0.625 m20.625,-31.875 l0.625,10.625 9.375,0.0 l-0.625,1.875 1.875,-3.125 l2.5,0.625 -2.5,-1.25 l0.0,-10.625 2.5,-1.25 l-9.375,0.0 -9.375,3.125 l-6.875,5.0 4.375,4.375 l7.5,1.875 m-11.25,-17.5 l13.75,-6.25 11.25,-1.875 m-8.75,17.5 l1.25,0.0 \" fill=\"none\" stroke=\"black\" stroke-width=\"1\"/></svg>"
      ],
      "text/plain": [
       "<IPython.core.display.SVG object>"
      ]
     },
     "metadata": {},
     "output_type": "display_data"
    },
    {
     "name": "stdout",
     "output_type": "stream",
     "text": [
      "nose 1.7806386\n"
     ]
    },
    {
     "data": {
      "image/svg+xml": [
       "<svg baseProfile=\"full\" height=\"96.875\" version=\"1.1\" width=\"111.875\" xmlns=\"http://www.w3.org/2000/svg\" xmlns:ev=\"http://www.w3.org/2001/xml-events\" xmlns:xlink=\"http://www.w3.org/1999/xlink\"><defs/><rect fill=\"white\" height=\"96.875\" width=\"111.875\" x=\"0\" y=\"0\"/><path d=\"M25,32.5 m0.0,0.0 l1.25,0.625 m-1.25,37.5 l11.875,0.625 m20.625,-33.125 l-11.875,6.25 9.375,6.25 l3.125,-0.625 -1.25,-8.75 l3.125,-4.375 11.25,0.0 l7.5,5.0 -4.375,5.625 l-5.625,1.25 -1.875,3.125 l0.0,-1.875 -8.125,0.0 l10.0,-1.875 0.0,-10.0 m-22.5,-5.0 l13.75,-6.25 13.125,-1.875 l8.125,0.625 5.625,8.75 m-24.375,8.125 l24.375,29.375 \" fill=\"none\" stroke=\"black\" stroke-width=\"1\"/></svg>"
      ],
      "text/plain": [
       "<IPython.core.display.SVG object>"
      ]
     },
     "metadata": {},
     "output_type": "display_data"
    },
    {
     "name": "stdout",
     "output_type": "stream",
     "text": [
      "nose 1.2974707\n"
     ]
    },
    {
     "data": {
      "image/svg+xml": [
       "<svg baseProfile=\"full\" height=\"96.875\" version=\"1.1\" width=\"94.375\" xmlns=\"http://www.w3.org/2000/svg\" xmlns:ev=\"http://www.w3.org/2001/xml-events\" xmlns:xlink=\"http://www.w3.org/1999/xlink\"><defs/><rect fill=\"white\" height=\"96.875\" width=\"94.375\" x=\"0\" y=\"0\"/><path d=\"M36.875,38.125 m0.0,0.0 l-11.875,6.25 9.375,6.25 l3.125,-0.625 -1.25,-8.75 l3.125,-4.375 11.25,0.0 l7.5,5.0 -4.375,5.625 l-5.625,1.25 -1.875,3.125 l0.0,-1.875 -8.125,0.0 l10.0,-1.875 0.0,-10.0 m-22.5,-5.0 l13.75,-6.25 13.125,-1.875 l8.125,0.625 5.625,9.375 m0.0,36.875 l2.5,-10.625 0.625,-16.875 m-27.5,-1.875 l1.25,0.0 \" fill=\"none\" stroke=\"black\" stroke-width=\"1\"/></svg>"
      ],
      "text/plain": [
       "<IPython.core.display.SVG object>"
      ]
     },
     "metadata": {},
     "output_type": "display_data"
    },
    {
     "name": "stdout",
     "output_type": "stream",
     "text": [
      "nose 0.8515307\n"
     ]
    },
    {
     "data": {
      "image/svg+xml": [
       "<svg baseProfile=\"full\" height=\"108.75\" version=\"1.1\" width=\"95.625\" xmlns=\"http://www.w3.org/2000/svg\" xmlns:ev=\"http://www.w3.org/2001/xml-events\" xmlns:xlink=\"http://www.w3.org/1999/xlink\"><defs/><rect fill=\"white\" height=\"108.75\" width=\"95.625\" x=\"0\" y=\"0\"/><path d=\"M25,47.5 m0.0,0.0 l5.0,23.125 5.625,13.125 m1.25,-45.625 l9.375,-10.0 11.25,-3.125 l13.125,0.0 m-10.0,26.25 l6.875,-0.625 1.875,-1.875 l1.25,1.25 0.0,-13.125 l-10.0,0.625 -2.5,3.125 l-2.5,-1.875 -8.75,6.25 l5.0,5.0 8.125,1.25 l-2.5,-4.375 0.0,-5.625 \" fill=\"none\" stroke=\"black\" stroke-width=\"1\"/></svg>"
      ],
      "text/plain": [
       "<IPython.core.display.SVG object>"
      ]
     },
     "metadata": {},
     "output_type": "display_data"
    },
    {
     "name": "stdout",
     "output_type": "stream",
     "text": [
      "mouth 0.44541594\n"
     ]
    },
    {
     "data": {
      "image/svg+xml": [
       "<svg baseProfile=\"full\" height=\"108.75\" version=\"1.1\" width=\"111.875\" xmlns=\"http://www.w3.org/2000/svg\" xmlns:ev=\"http://www.w3.org/2001/xml-events\" xmlns:xlink=\"http://www.w3.org/1999/xlink\"><defs/><rect fill=\"white\" height=\"108.75\" width=\"111.875\" x=\"0\" y=\"0\"/><path d=\"M25,46.875 m0.0,0.0 l5.625,23.75 5.625,13.125 m1.25,-45.625 l9.375,-10.0 11.25,-3.125 l18.75,1.25 10.0,3.75 m-16.875,18.125 l0.0,-10.0 1.875,-0.625 l7.5,5.0 -5.0,6.25 l-4.375,0.0 -1.875,1.875 l-13.125,0.0 -7.5,-5.625 l10.625,-6.25 1.25,10.625 l-1.25,-9.375 3.125,-2.5 l8.125,0.0 m16.25,30.625 l-6.875,0.625 -4.375,3.75 l-0.625,7.5 6.25,3.75 \" fill=\"none\" stroke=\"black\" stroke-width=\"1\"/></svg>"
      ],
      "text/plain": [
       "<IPython.core.display.SVG object>"
      ]
     },
     "metadata": {},
     "output_type": "display_data"
    },
    {
     "name": "stdout",
     "output_type": "stream",
     "text": [
      "eye 1.7987318\n"
     ]
    },
    {
     "data": {
      "image/svg+xml": [
       "<svg baseProfile=\"full\" height=\"108.75\" version=\"1.1\" width=\"108.75\" xmlns=\"http://www.w3.org/2000/svg\" xmlns:ev=\"http://www.w3.org/2001/xml-events\" xmlns:xlink=\"http://www.w3.org/1999/xlink\"><defs/><rect fill=\"white\" height=\"108.75\" width=\"108.75\" x=\"0\" y=\"0\"/><path d=\"M73.125,29.375 m0.0,0.0 l-11.875,-3.125 -18.75,-1.25 l-11.25,3.125 -6.25,7.5 m29.375,12.5 l0.0,-10.0 1.875,-0.625 l7.5,5.0 -5.0,6.25 l-4.375,0.0 -1.875,1.875 l-13.125,0.0 -7.5,-5.625 l10.625,-6.25 1.25,10.625 l-1.25,-9.375 3.125,-2.5 l8.125,0.0 m8.75,46.25 l1.875,0.0 -3.75,-1.25 l-3.125,-5.625 3.75,-6.875 l3.75,-1.875 18.75,-0.625 m-8.75,16.25 l3.75,0.0 \" fill=\"none\" stroke=\"black\" stroke-width=\"1\"/></svg>"
      ],
      "text/plain": [
       "<IPython.core.display.SVG object>"
      ]
     },
     "metadata": {},
     "output_type": "display_data"
    },
    {
     "name": "stdout",
     "output_type": "stream",
     "text": [
      "mouth 2.6134646\n"
     ]
    },
    {
     "data": {
      "image/svg+xml": [
       "<svg baseProfile=\"full\" height=\"109.375\" version=\"1.1\" width=\"111.875\" xmlns=\"http://www.w3.org/2000/svg\" xmlns:ev=\"http://www.w3.org/2001/xml-events\" xmlns:xlink=\"http://www.w3.org/1999/xlink\"><defs/><rect fill=\"white\" height=\"109.375\" width=\"111.875\" x=\"0\" y=\"0\"/><path d=\"M25,25.625 m0.0,0.0 l20.625,1.25 11.875,3.125 m-18.75,18.75 l0.0,-10.0 5.0,0.625 l4.375,4.375 -5.0,5.625 l-13.125,2.5 -5.0,-0.625 l3.125,-1.25 -1.875,-10.0 l3.75,-1.875 8.125,0.0 l-13.125,1.875 m21.875,44.375 l1.875,0.0 -3.75,-1.25 l-3.125,-5.625 3.75,-6.875 l3.75,-1.875 18.75,-0.625 m-8.75,16.25 l3.75,0.0 m23.75,-49.375 l-10.0,6.25 4.375,4.375 l5.625,1.875 m-9.375,-17.5 l9.375,-5.0 \" fill=\"none\" stroke=\"black\" stroke-width=\"1\"/></svg>"
      ],
      "text/plain": [
       "<IPython.core.display.SVG object>"
      ]
     },
     "metadata": {},
     "output_type": "display_data"
    },
    {
     "name": "stdout",
     "output_type": "stream",
     "text": [
      "nose 1.995454\n"
     ]
    },
    {
     "data": {
      "image/svg+xml": [
       "<svg baseProfile=\"full\" height=\"111.875\" version=\"1.1\" width=\"111.875\" xmlns=\"http://www.w3.org/2000/svg\" xmlns:ev=\"http://www.w3.org/2001/xml-events\" xmlns:xlink=\"http://www.w3.org/1999/xlink\"><defs/><rect fill=\"white\" height=\"111.875\" width=\"111.875\" x=\"0\" y=\"0\"/><path d=\"M25,28.75 m0.0,0.0 l16.875,3.75 m-16.875,7.5 l7.5,5.625 -7.5,6.875 m6.25,34.375 l1.875,0.0 -3.75,-1.25 l-3.125,-5.625 3.75,-6.875 l3.75,-1.875 18.75,-0.625 m-8.75,16.25 l3.75,0.0 m25.625,-48.125 l0.625,10.625 9.375,0.0 l-0.625,1.875 1.875,-3.125 l2.5,0.625 -2.5,-1.25 l0.0,-10.625 2.5,-1.25 l-9.375,0.0 -9.375,3.125 l-6.875,5.0 4.375,4.375 l7.5,1.875 m-11.25,-17.5 l16.875,-7.5 4.375,0.0 m-5.0,16.875 l1.25,0.0 \" fill=\"none\" stroke=\"black\" stroke-width=\"1\"/></svg>"
      ],
      "text/plain": [
       "<IPython.core.display.SVG object>"
      ]
     },
     "metadata": {},
     "output_type": "display_data"
    },
    {
     "name": "stdout",
     "output_type": "stream",
     "text": [
      "nose 1.888214\n"
     ]
    },
    {
     "data": {
      "image/svg+xml": [
       "<svg baseProfile=\"full\" height=\"111.875\" version=\"1.1\" width=\"111.875\" xmlns=\"http://www.w3.org/2000/svg\" xmlns:ev=\"http://www.w3.org/2001/xml-events\" xmlns:xlink=\"http://www.w3.org/1999/xlink\"><defs/><rect fill=\"white\" height=\"111.875\" width=\"111.875\" x=\"0\" y=\"0\"/><path d=\"M25,31.875 m0.0,0.0 l1.25,0.625 m-1.25,37.5 l11.875,0.625 m-8.75,16.25 l3.75,0.0 m25.625,-49.375 l-11.875,6.25 9.375,6.25 l3.125,-0.625 -1.25,-8.75 l3.125,-4.375 11.25,0.0 l7.5,5.0 -4.375,5.625 l-5.625,1.25 -1.875,3.125 l0.0,-1.875 -8.125,0.0 l10.0,-1.875 0.0,-10.0 m-22.5,-5.0 l16.875,-7.5 4.375,0.0 m6.25,0.0 l8.125,0.0 5.0,9.375 m0.0,36.875 l-0.625,15.625 m-23.75,-45.0 l1.25,0.0 \" fill=\"none\" stroke=\"black\" stroke-width=\"1\"/></svg>"
      ],
      "text/plain": [
       "<IPython.core.display.SVG object>"
      ]
     },
     "metadata": {},
     "output_type": "display_data"
    },
    {
     "name": "stdout",
     "output_type": "stream",
     "text": [
      "nose 0.7327974\n"
     ]
    },
    {
     "data": {
      "image/svg+xml": [
       "<svg baseProfile=\"full\" height=\"111.875\" version=\"1.1\" width=\"94.375\" xmlns=\"http://www.w3.org/2000/svg\" xmlns:ev=\"http://www.w3.org/2001/xml-events\" xmlns:xlink=\"http://www.w3.org/1999/xlink\"><defs/><rect fill=\"white\" height=\"111.875\" width=\"94.375\" x=\"0\" y=\"0\"/><path d=\"M36.875,37.5 m0.0,0.0 l-11.875,6.25 9.375,6.25 l3.125,-0.625 -1.25,-8.75 l3.125,-4.375 11.25,0.0 l7.5,5.0 -4.375,5.625 l-5.625,1.25 -1.875,3.125 l0.0,-1.875 -8.125,0.0 l10.0,-1.875 0.0,-10.0 m-22.5,-5.0 l16.875,-7.5 4.375,0.0 m6.25,0.0 l8.125,0.0 5.0,9.375 m3.125,8.75 l-3.75,43.75 m-23.75,-45.0 l1.25,0.0 \" fill=\"none\" stroke=\"black\" stroke-width=\"1\"/></svg>"
      ],
      "text/plain": [
       "<IPython.core.display.SVG object>"
      ]
     },
     "metadata": {},
     "output_type": "display_data"
    },
    {
     "name": "stdout",
     "output_type": "stream",
     "text": [
      "nose 4.52968\n"
     ]
    },
    {
     "data": {
      "image/svg+xml": [
       "<svg baseProfile=\"full\" height=\"111.875\" version=\"1.1\" width=\"95.625\" xmlns=\"http://www.w3.org/2000/svg\" xmlns:ev=\"http://www.w3.org/2001/xml-events\" xmlns:xlink=\"http://www.w3.org/1999/xlink\"><defs/><rect fill=\"white\" height=\"111.875\" width=\"95.625\" x=\"0\" y=\"0\"/><path d=\"M25,35.0 m0.0,0.0 l5.0,23.125 11.25,28.75 m29.375,-61.875 l-12.5,0.0 0.0,13.125 l-6.25,-0.625 -5.0,-5.0 l9.375,-6.25 3.75,12.5 l7.5,-0.625 1.875,-1.875 l1.25,1.25 -1.25,-11.875 m-32.5,-0.625 l1.25,0.0 \" fill=\"none\" stroke=\"black\" stroke-width=\"1\"/></svg>"
      ],
      "text/plain": [
       "<IPython.core.display.SVG object>"
      ]
     },
     "metadata": {},
     "output_type": "display_data"
    },
    {
     "name": "stdout",
     "output_type": "stream",
     "text": [
      "mouth 2.205942\n"
     ]
    },
    {
     "data": {
      "image/svg+xml": [
       "<svg baseProfile=\"full\" height=\"111.875\" version=\"1.1\" width=\"111.875\" xmlns=\"http://www.w3.org/2000/svg\" xmlns:ev=\"http://www.w3.org/2001/xml-events\" xmlns:xlink=\"http://www.w3.org/1999/xlink\"><defs/><rect fill=\"white\" height=\"111.875\" width=\"111.875\" x=\"0\" y=\"0\"/><path d=\"M25,34.375 m0.0,0.0 l5.625,23.75 11.25,28.75 m16.875,-60.0 l0.0,-1.875 11.25,0.0 l0.625,6.875 -2.5,6.25 l-15.625,-0.625 -5.0,-5.0 l10.625,-6.25 1.25,10.625 l15.0,-0.625 5.0,-6.25 l-8.75,-5.0 2.5,0.0 m13.75,48.125 l-3.125,0.625 -7.5,-3.75 l-3.125,-5.625 1.25,-4.375 l4.375,-3.75 8.125,-0.625 m-49.375,-30.625 l1.25,0.0 \" fill=\"none\" stroke=\"black\" stroke-width=\"1\"/></svg>"
      ],
      "text/plain": [
       "<IPython.core.display.SVG object>"
      ]
     },
     "metadata": {},
     "output_type": "display_data"
    },
    {
     "name": "stdout",
     "output_type": "stream",
     "text": [
      "nose 2.2829905\n"
     ]
    },
    {
     "data": {
      "image/svg+xml": [
       "<svg baseProfile=\"full\" height=\"111.875\" version=\"1.1\" width=\"111.875\" xmlns=\"http://www.w3.org/2000/svg\" xmlns:ev=\"http://www.w3.org/2001/xml-events\" xmlns:xlink=\"http://www.w3.org/1999/xlink\"><defs/><rect fill=\"white\" height=\"111.875\" width=\"111.875\" x=\"0\" y=\"0\"/><path d=\"M25,82.5 m0.0,0.0 l0.625,4.375 m17.5,-60.0 l0.0,-1.875 11.25,0.0 l0.625,6.875 -2.5,6.25 l-15.625,-0.625 -5.0,-5.0 l10.625,-6.25 1.25,10.625 l15.0,-0.625 5.0,-6.25 l-8.75,-5.0 2.5,0.0 m24.375,30.0 l-18.75,1.25 -4.375,3.75 l-0.625,7.5 10.0,6.25 l9.375,-2.5 3.125,3.75 l6.25,0.0 \" fill=\"none\" stroke=\"black\" stroke-width=\"1\"/></svg>"
      ],
      "text/plain": [
       "<IPython.core.display.SVG object>"
      ]
     },
     "metadata": {},
     "output_type": "display_data"
    },
    {
     "name": "stdout",
     "output_type": "stream",
     "text": [
      "nose 1.6571399\n"
     ]
    },
    {
     "data": {
      "image/svg+xml": [
       "<svg baseProfile=\"full\" height=\"100.0\" version=\"1.1\" width=\"111.875\" xmlns=\"http://www.w3.org/2000/svg\" xmlns:ev=\"http://www.w3.org/2001/xml-events\" xmlns:xlink=\"http://www.w3.org/1999/xlink\"><defs/><rect fill=\"white\" height=\"100.0\" width=\"111.875\" x=\"0\" y=\"0\"/><path d=\"M25,37.5 m0.0,0.0 l3.125,0.0 -0.625,-12.5 l14.375,0.0 6.25,5.625 l-5.0,5.625 -13.75,2.5 l9.375,-3.125 0.0,-10.0 l-13.75,0.0 1.875,1.875 m39.375,27.5 l-18.75,1.25 -4.375,3.75 l-0.625,7.5 10.0,6.25 l4.375,0.0 3.75,-2.5 l4.375,3.75 12.5,-1.25 m3.75,-48.75 l-4.375,3.125 4.375,4.375 l5.625,1.875 \" fill=\"none\" stroke=\"black\" stroke-width=\"1\"/></svg>"
      ],
      "text/plain": [
       "<IPython.core.display.SVG object>"
      ]
     },
     "metadata": {},
     "output_type": "display_data"
    },
    {
     "name": "stdout",
     "output_type": "stream",
     "text": [
      "nose 2.9865842\n"
     ]
    },
    {
     "data": {
      "image/svg+xml": [
       "<svg baseProfile=\"full\" height=\"100.0\" version=\"1.1\" width=\"111.875\" xmlns=\"http://www.w3.org/2000/svg\" xmlns:ev=\"http://www.w3.org/2001/xml-events\" xmlns:xlink=\"http://www.w3.org/1999/xlink\"><defs/><rect fill=\"white\" height=\"100.0\" width=\"111.875\" x=\"0\" y=\"0\"/><path d=\"M25,25.625 m0.0,0.0 l7.5,4.375 -7.5,6.875 m25.625,18.125 l-18.75,1.25 -4.375,3.75 l-0.625,7.5 10.0,6.25 l4.375,0.0 3.75,-2.5 l4.375,3.75 12.5,-1.25 m22.5,-48.75 l0.0,7.5 2.5,0.625 l-3.125,0.0 -1.25,2.5 l0.0,-1.875 -8.75,-0.625 l-0.625,-8.125 0.625,8.75 l-8.125,-1.25 -4.375,-4.375 l4.375,-3.125 \" fill=\"none\" stroke=\"black\" stroke-width=\"1\"/></svg>"
      ],
      "text/plain": [
       "<IPython.core.display.SVG object>"
      ]
     },
     "metadata": {},
     "output_type": "display_data"
    },
    {
     "name": "stdout",
     "output_type": "stream",
     "text": [
      "nose 1.5359329\n"
     ]
    },
    {
     "data": {
      "image/svg+xml": [
       "<svg baseProfile=\"full\" height=\"111.875\" version=\"1.1\" width=\"111.875\" xmlns=\"http://www.w3.org/2000/svg\" xmlns:ev=\"http://www.w3.org/2001/xml-events\" xmlns:xlink=\"http://www.w3.org/1999/xlink\"><defs/><rect fill=\"white\" height=\"111.875\" width=\"111.875\" x=\"0\" y=\"0\"/><path d=\"M25,54.375 m0.0,0.0 l11.875,0.625 m-11.875,18.125 l5.625,-1.875 3.125,3.75 l12.5,-1.25 m3.75,-48.75 l-4.375,3.125 4.375,4.375 l7.5,1.875 0.0,-9.375 l1.25,8.75 8.75,0.0 l-0.625,1.875 2.5,-6.25 l-0.625,-4.375 0.625,7.5 l5.0,-1.25 3.75,-6.25 m8.75,30.625 l-3.125,31.25 \" fill=\"none\" stroke=\"black\" stroke-width=\"1\"/></svg>"
      ],
      "text/plain": [
       "<IPython.core.display.SVG object>"
      ]
     },
     "metadata": {},
     "output_type": "display_data"
    },
    {
     "name": "stdout",
     "output_type": "stream",
     "text": [
      "nose 2.2000709\n"
     ]
    },
    {
     "data": {
      "image/svg+xml": [
       "<svg baseProfile=\"full\" height=\"111.875\" version=\"1.1\" width=\"99.375\" xmlns=\"http://www.w3.org/2000/svg\" xmlns:ev=\"http://www.w3.org/2001/xml-events\" xmlns:xlink=\"http://www.w3.org/1999/xlink\"><defs/><rect fill=\"white\" height=\"111.875\" width=\"99.375\" x=\"0\" y=\"0\"/><path d=\"M25,73.75 m0.0,0.0 l5.625,0.0 m3.75,-48.75 l-4.375,3.125 4.375,4.375 l7.5,1.875 0.0,-9.375 l1.25,8.75 8.75,0.0 l-0.625,1.875 2.5,-6.25 l-0.625,-4.375 0.625,7.5 l5.0,-1.25 3.75,-6.25 m11.875,2.5 l-6.25,59.375 \" fill=\"none\" stroke=\"black\" stroke-width=\"1\"/></svg>"
      ],
      "text/plain": [
       "<IPython.core.display.SVG object>"
      ]
     },
     "metadata": {},
     "output_type": "display_data"
    },
    {
     "name": "stdout",
     "output_type": "stream",
     "text": [
      "nose 6.2284102\n"
     ]
    },
    {
     "data": {
      "image/svg+xml": [
       "<svg baseProfile=\"full\" height=\"111.875\" version=\"1.1\" width=\"72.5\" xmlns=\"http://www.w3.org/2000/svg\" xmlns:ev=\"http://www.w3.org/2001/xml-events\" xmlns:xlink=\"http://www.w3.org/1999/xlink\"><defs/><rect fill=\"white\" height=\"111.875\" width=\"72.5\" x=\"0\" y=\"0\"/><path d=\"M25,25 m0.0,0.0 l1.25,10.625 8.75,26.875 l12.5,24.375 \" fill=\"none\" stroke=\"black\" stroke-width=\"1\"/></svg>"
      ],
      "text/plain": [
       "<IPython.core.display.SVG object>"
      ]
     },
     "metadata": {},
     "output_type": "display_data"
    },
    {
     "name": "stdout",
     "output_type": "stream",
     "text": [
      "nose 7.209126\n"
     ]
    },
    {
     "data": {
      "image/svg+xml": [
       "<svg baseProfile=\"full\" height=\"111.875\" version=\"1.1\" width=\"109.375\" xmlns=\"http://www.w3.org/2000/svg\" xmlns:ev=\"http://www.w3.org/2001/xml-events\" xmlns:xlink=\"http://www.w3.org/1999/xlink\"><defs/><rect fill=\"white\" height=\"111.875\" width=\"109.375\" x=\"0\" y=\"0\"/><path d=\"M25,25 m0.0,0.0 l1.25,10.625 8.75,26.875 l12.5,24.375 m36.875,-29.375 l-3.125,0.625 -7.5,-3.75 l-3.125,-5.625 1.25,-4.375 l4.375,-3.75 8.125,-0.625 m0.0,43.75 l-7.5,-1.25 -5.0,3.75 l3.125,0.625 1.875,-5.0 l7.5,-5.0 \" fill=\"none\" stroke=\"black\" stroke-width=\"1\"/></svg>"
      ],
      "text/plain": [
       "<IPython.core.display.SVG object>"
      ]
     },
     "metadata": {},
     "output_type": "display_data"
    },
    {
     "name": "stdout",
     "output_type": "stream",
     "text": [
      "nose 2.1410632\n"
     ]
    },
    {
     "data": {
      "image/svg+xml": [
       "<svg baseProfile=\"full\" height=\"97.5\" version=\"1.1\" width=\"111.875\" xmlns=\"http://www.w3.org/2000/svg\" xmlns:ev=\"http://www.w3.org/2001/xml-events\" xmlns:xlink=\"http://www.w3.org/1999/xlink\"><defs/><rect fill=\"white\" height=\"97.5\" width=\"111.875\" x=\"0\" y=\"0\"/><path d=\"M25,52.5 m0.0,0.0 l0.0,3.75 9.375,16.25 m47.5,-47.5 l-18.75,1.25 -4.375,3.75 l-0.625,7.5 10.0,6.25 l9.375,-2.5 3.125,3.75 l6.25,0.0 m-0.625,27.5 l-22.5,-4.375 -5.0,3.75 l3.125,0.625 1.875,-5.0 l9.375,-6.25 5.625,0.0 l3.125,3.75 5.0,0.625 \" fill=\"none\" stroke=\"black\" stroke-width=\"1\"/></svg>"
      ],
      "text/plain": [
       "<IPython.core.display.SVG object>"
      ]
     },
     "metadata": {},
     "output_type": "display_data"
    },
    {
     "name": "stdout",
     "output_type": "stream",
     "text": [
      "nose 2.4978151\n"
     ]
    },
    {
     "data": {
      "image/svg+xml": [
       "<svg baseProfile=\"full\" height=\"97.5\" version=\"1.1\" width=\"94.375\" xmlns=\"http://www.w3.org/2000/svg\" xmlns:ev=\"http://www.w3.org/2001/xml-events\" xmlns:xlink=\"http://www.w3.org/1999/xlink\"><defs/><rect fill=\"white\" height=\"97.5\" width=\"94.375\" x=\"0\" y=\"0\"/><path d=\"M48.75,25 m0.0,0.0 l-18.75,1.25 -4.375,3.75 l-0.625,7.5 10.0,6.25 l4.375,0.0 3.75,-2.5 l4.375,3.75 12.5,-1.25 m8.75,26.875 l-5.625,1.875 -16.25,0.0 l-16.25,-4.375 -5.0,3.75 l3.125,0.625 1.875,-5.0 l9.375,-6.25 5.625,0.0 l3.125,3.75 4.375,1.25 l11.25,-7.5 5.0,0.625 \" fill=\"none\" stroke=\"black\" stroke-width=\"1\"/></svg>"
      ],
      "text/plain": [
       "<IPython.core.display.SVG object>"
      ]
     },
     "metadata": {},
     "output_type": "display_data"
    },
    {
     "name": "stdout",
     "output_type": "stream",
     "text": [
      "nose 3.5656252\n"
     ]
    },
    {
     "data": {
      "image/svg+xml": [
       "<svg baseProfile=\"full\" height=\"97.5\" version=\"1.1\" width=\"105.0\" xmlns=\"http://www.w3.org/2000/svg\" xmlns:ev=\"http://www.w3.org/2001/xml-events\" xmlns:xlink=\"http://www.w3.org/1999/xlink\"><defs/><rect fill=\"white\" height=\"97.5\" width=\"105.0\" x=\"0\" y=\"0\"/><path d=\"M48.75,25 m0.0,0.0 l-18.75,1.25 -4.375,3.75 l-0.625,7.5 10.0,6.25 l4.375,0.0 3.75,-2.5 l4.375,3.75 12.5,-1.25 m15.0,23.75 l-11.875,5.0 -16.25,0.0 l-16.25,-4.375 -4.375,4.375 l2.5,0.0 1.875,-5.0 l6.875,-5.0 8.125,-1.25 l3.125,3.75 4.375,1.25 l3.125,-0.625 6.875,-6.25 l5.0,-1.25 11.875,6.25 \" fill=\"none\" stroke=\"black\" stroke-width=\"1\"/></svg>"
      ],
      "text/plain": [
       "<IPython.core.display.SVG object>"
      ]
     },
     "metadata": {},
     "output_type": "display_data"
    },
    {
     "name": "stdout",
     "output_type": "stream",
     "text": [
      "mouth 2.7442799\n"
     ]
    },
    {
     "data": {
      "image/svg+xml": [
       "<svg baseProfile=\"full\" height=\"98.125\" version=\"1.1\" width=\"111.875\" xmlns=\"http://www.w3.org/2000/svg\" xmlns:ev=\"http://www.w3.org/2001/xml-events\" xmlns:xlink=\"http://www.w3.org/1999/xlink\"><defs/><rect fill=\"white\" height=\"98.125\" width=\"111.875\" x=\"0\" y=\"0\"/><path d=\"M25,25 m0.0,0.0 l11.875,0.625 m-11.875,18.125 l5.625,-1.875 3.125,3.75 l12.5,-1.25 m-21.25,17.5 l6.875,0.0 3.125,3.75 l4.375,1.25 3.125,-0.625 l6.875,-6.25 5.0,-1.25 l11.875,6.25 m-41.25,5.0 l8.125,3.125 16.25,0.0 l11.875,-5.0 m25.625,-41.875 l-1.25,19.375 -5.625,27.5 \" fill=\"none\" stroke=\"black\" stroke-width=\"1\"/></svg>"
      ],
      "text/plain": [
       "<IPython.core.display.SVG object>"
      ]
     },
     "metadata": {},
     "output_type": "display_data"
    },
    {
     "name": "stdout",
     "output_type": "stream",
     "text": [
      "nose 7.0613537\n"
     ]
    },
    {
     "data": {
      "image/svg+xml": [
       "<svg baseProfile=\"full\" height=\"111.875\" version=\"1.1\" width=\"99.375\" xmlns=\"http://www.w3.org/2000/svg\" xmlns:ev=\"http://www.w3.org/2001/xml-events\" xmlns:xlink=\"http://www.w3.org/1999/xlink\"><defs/><rect fill=\"white\" height=\"111.875\" width=\"99.375\" x=\"0\" y=\"0\"/><path d=\"M25,58.125 m0.0,0.0 l5.625,0.0 m-5.625,21.25 l1.875,0.625 10.625,-7.5 l13.125,6.25 m-25.625,8.125 l11.875,-0.625 8.75,-4.375 m28.75,-56.875 l-10.0,61.875 \" fill=\"none\" stroke=\"black\" stroke-width=\"1\"/></svg>"
      ],
      "text/plain": [
       "<IPython.core.display.SVG object>"
      ]
     },
     "metadata": {},
     "output_type": "display_data"
    },
    {
     "name": "stdout",
     "output_type": "stream",
     "text": [
      "nose 7.487625\n"
     ]
    },
    {
     "data": {
      "image/svg+xml": [
       "<svg baseProfile=\"full\" height=\"111.875\" version=\"1.1\" width=\"80.0\" xmlns=\"http://www.w3.org/2000/svg\" xmlns:ev=\"http://www.w3.org/2001/xml-events\" xmlns:xlink=\"http://www.w3.org/1999/xlink\"><defs/><rect fill=\"white\" height=\"111.875\" width=\"80.0\" x=\"0\" y=\"0\"/><path d=\"M25,25 m0.0,0.0 l10.625,32.5 9.375,17.5 l10.0,11.875 \" fill=\"none\" stroke=\"black\" stroke-width=\"1\"/></svg>"
      ],
      "text/plain": [
       "<IPython.core.display.SVG object>"
      ]
     },
     "metadata": {},
     "output_type": "display_data"
    },
    {
     "name": "stdout",
     "output_type": "stream",
     "text": [
      "nose 7.16595\n"
     ]
    },
    {
     "data": {
      "image/svg+xml": [
       "<svg baseProfile=\"full\" height=\"111.875\" version=\"1.1\" width=\"105.625\" xmlns=\"http://www.w3.org/2000/svg\" xmlns:ev=\"http://www.w3.org/2001/xml-events\" xmlns:xlink=\"http://www.w3.org/1999/xlink\"><defs/><rect fill=\"white\" height=\"111.875\" width=\"105.625\" x=\"0\" y=\"0\"/><path d=\"M25,25 m0.0,0.0 l10.625,32.5 9.375,17.5 l10.0,11.875 m18.75,-61.875 l-5.625,3.75 -0.625,7.5 l6.875,5.0 6.25,1.25 m-1.25,19.375 l-6.25,5.0 7.5,2.5 l-8.125,-1.875 -4.375,3.125 l3.75,1.875 8.75,11.25 \" fill=\"none\" stroke=\"black\" stroke-width=\"1\"/></svg>"
      ],
      "text/plain": [
       "<IPython.core.display.SVG object>"
      ]
     },
     "metadata": {},
     "output_type": "display_data"
    },
    {
     "name": "stdout",
     "output_type": "stream",
     "text": [
      "nose 3.7296448\n"
     ]
    },
    {
     "data": {
      "image/svg+xml": [
       "<svg baseProfile=\"full\" height=\"111.875\" version=\"1.1\" width=\"111.875\" xmlns=\"http://www.w3.org/2000/svg\" xmlns:ev=\"http://www.w3.org/2001/xml-events\" xmlns:xlink=\"http://www.w3.org/1999/xlink\"><defs/><rect fill=\"white\" height=\"111.875\" width=\"111.875\" x=\"0\" y=\"0\"/><path d=\"M25,51.25 m0.0,0.0 l0.0,3.75 6.875,13.75 l13.75,18.125 m41.25,-44.375 l-6.25,1.25 -3.125,-3.75 l-9.375,2.5 -7.5,-3.75 l-3.125,-6.25 1.25,-3.75 l5.625,-3.75 m15.0,61.875 l-3.125,0.0 -6.25,-4.375 l-7.5,-10.0 -3.75,-1.875 l11.875,-9.375 8.125,-1.25 l3.125,3.75 5.0,1.25 l-22.5,2.5 22.5,4.375 \" fill=\"none\" stroke=\"black\" stroke-width=\"1\"/></svg>"
      ],
      "text/plain": [
       "<IPython.core.display.SVG object>"
      ]
     },
     "metadata": {},
     "output_type": "display_data"
    },
    {
     "name": "stdout",
     "output_type": "stream",
     "text": [
      "mouth 2.0386872\n"
     ]
    },
    {
     "data": {
      "image/svg+xml": [
       "<svg baseProfile=\"full\" height=\"111.875\" version=\"1.1\" width=\"111.875\" xmlns=\"http://www.w3.org/2000/svg\" xmlns:ev=\"http://www.w3.org/2001/xml-events\" xmlns:xlink=\"http://www.w3.org/1999/xlink\"><defs/><rect fill=\"white\" height=\"111.875\" width=\"111.875\" x=\"0\" y=\"0\"/><path d=\"M25,80.0 m0.0,0.0 l5.0,6.875 m18.75,-61.875 l-5.625,3.75 -1.25,3.75 l3.125,6.25 7.5,3.75 l4.375,0.0 3.75,-2.5 l4.375,3.75 12.5,-1.25 m-13.75,44.375 l-3.125,0.0 -6.25,-4.375 l-7.5,-10.0 -3.75,-1.875 l5.625,-5.0 8.75,-5.625 l5.625,0.0 6.25,5.0 l4.375,-0.625 6.875,-6.25 l6.25,-1.25 -38.125,10.625 l20.625,4.375 17.5,-2.5 m-3.75,17.5 l-3.75,0.0 7.5,-2.5 \" fill=\"none\" stroke=\"black\" stroke-width=\"1\"/></svg>"
      ],
      "text/plain": [
       "<IPython.core.display.SVG object>"
      ]
     },
     "metadata": {},
     "output_type": "display_data"
    },
    {
     "name": "stdout",
     "output_type": "stream",
     "text": [
      "mouth 3.9050617\n"
     ]
    },
    {
     "data": {
      "image/svg+xml": [
       "<svg baseProfile=\"full\" height=\"111.875\" version=\"1.1\" width=\"105.0\" xmlns=\"http://www.w3.org/2000/svg\" xmlns:ev=\"http://www.w3.org/2001/xml-events\" xmlns:xlink=\"http://www.w3.org/1999/xlink\"><defs/><rect fill=\"white\" height=\"111.875\" width=\"105.0\" x=\"0\" y=\"0\"/><path d=\"M31.875,25 m0.0,0.0 l-5.625,3.75 -1.25,3.75 l3.125,6.25 7.5,3.75 l4.375,0.0 3.75,-2.5 l4.375,3.75 12.5,-1.25 m19.375,20.625 l-12.5,-6.25 -10.625,7.5 l-4.375,0.625 -6.25,-5.0 l-5.625,0.0 -8.75,5.625 l0.625,2.5 20.0,3.75 l14.375,-1.25 8.75,-4.375 l-46.25,1.875 -3.125,2.5 l3.75,1.875 4.375,6.875 l9.375,7.5 3.125,0.0 \" fill=\"none\" stroke=\"black\" stroke-width=\"1\"/></svg>"
      ],
      "text/plain": [
       "<IPython.core.display.SVG object>"
      ]
     },
     "metadata": {},
     "output_type": "display_data"
    },
    {
     "name": "stdout",
     "output_type": "stream",
     "text": [
      "mouth 4.9346743\n"
     ]
    },
    {
     "data": {
      "image/svg+xml": [
       "<svg baseProfile=\"full\" height=\"111.25\" version=\"1.1\" width=\"111.875\" xmlns=\"http://www.w3.org/2000/svg\" xmlns:ev=\"http://www.w3.org/2001/xml-events\" xmlns:xlink=\"http://www.w3.org/1999/xlink\"><defs/><rect fill=\"white\" height=\"111.25\" width=\"111.875\" x=\"0\" y=\"0\"/><path d=\"M25,41.25 m0.0,0.0 l5.625,-1.875 3.125,3.75 l12.5,-1.25 m-21.25,17.5 l6.875,0.0 3.125,3.75 l4.375,1.25 3.125,-0.625 l6.875,-6.25 5.0,-1.25 l11.875,6.25 m-5.0,3.125 l-3.125,2.5 -13.75,3.125 l-19.375,-3.125 m0.0,14.375 l4.375,3.75 3.125,0.0 m39.375,0.0 l6.875,-12.5 4.375,-15.0 l3.75,-33.75 \" fill=\"none\" stroke=\"black\" stroke-width=\"1\"/></svg>"
      ],
      "text/plain": [
       "<IPython.core.display.SVG object>"
      ]
     },
     "metadata": {},
     "output_type": "display_data"
    },
    {
     "name": "stdout",
     "output_type": "stream",
     "text": [
      "nose 7.4593234\n"
     ]
    },
    {
     "data": {
      "image/svg+xml": [
       "<svg baseProfile=\"full\" height=\"111.875\" version=\"1.1\" width=\"97.5\" xmlns=\"http://www.w3.org/2000/svg\" xmlns:ev=\"http://www.w3.org/2001/xml-events\" xmlns:xlink=\"http://www.w3.org/1999/xlink\"><defs/><rect fill=\"white\" height=\"111.875\" width=\"97.5\" x=\"0\" y=\"0\"/><path d=\"M25,42.5 m0.0,0.0 l5.625,0.0 m-5.625,21.25 l1.875,0.625 10.625,-7.5 l13.125,6.25 m-25.625,8.125 l11.875,-0.625 8.125,-3.75 m11.25,20.0 l6.875,-12.5 4.375,-15.0 l5.0,-34.375 \" fill=\"none\" stroke=\"black\" stroke-width=\"1\"/></svg>"
      ],
      "text/plain": [
       "<IPython.core.display.SVG object>"
      ]
     },
     "metadata": {},
     "output_type": "display_data"
    },
    {
     "name": "stdout",
     "output_type": "stream",
     "text": [
      "nose 5.0815563\n"
     ]
    },
    {
     "data": {
      "image/svg+xml": [
       "<svg baseProfile=\"full\" height=\"107.5\" version=\"1.1\" width=\"85.625\" xmlns=\"http://www.w3.org/2000/svg\" xmlns:ev=\"http://www.w3.org/2001/xml-events\" xmlns:xlink=\"http://www.w3.org/1999/xlink\"><defs/><rect fill=\"white\" height=\"107.5\" width=\"85.625\" x=\"0\" y=\"0\"/><path d=\"M60.625,80.625 m0.0,0.0 l0.0,1.875 -10.625,-10.625 l-9.375,-12.5 -9.375,-17.5 l-6.25,-16.875 \" fill=\"none\" stroke=\"black\" stroke-width=\"1\"/></svg>"
      ],
      "text/plain": [
       "<IPython.core.display.SVG object>"
      ]
     },
     "metadata": {},
     "output_type": "display_data"
    },
    {
     "name": "stdout",
     "output_type": "stream",
     "text": [
      "nose 5.4367375\n"
     ]
    },
    {
     "data": {
      "image/svg+xml": [
       "<svg baseProfile=\"full\" height=\"111.875\" version=\"1.1\" width=\"101.875\" xmlns=\"http://www.w3.org/2000/svg\" xmlns:ev=\"http://www.w3.org/2001/xml-events\" xmlns:xlink=\"http://www.w3.org/1999/xlink\"><defs/><rect fill=\"white\" height=\"111.875\" width=\"101.875\" x=\"0\" y=\"0\"/><path d=\"M25,25 m0.0,0.0 l12.5,28.125 10.625,15.625 l14.375,14.375 8.75,3.75 m4.375,-40.625 l-6.25,5.0 7.5,2.5 l-8.125,-1.875 -4.375,3.125 l3.75,1.875 8.75,11.25 m-8.125,-43.125 l8.125,1.875 \" fill=\"none\" stroke=\"black\" stroke-width=\"1\"/></svg>"
      ],
      "text/plain": [
       "<IPython.core.display.SVG object>"
      ]
     },
     "metadata": {},
     "output_type": "display_data"
    },
    {
     "name": "stdout",
     "output_type": "stream",
     "text": [
      "nose 3.8753653\n"
     ]
    },
    {
     "data": {
      "image/svg+xml": [
       "<svg baseProfile=\"full\" height=\"111.875\" version=\"1.1\" width=\"111.875\" xmlns=\"http://www.w3.org/2000/svg\" xmlns:ev=\"http://www.w3.org/2001/xml-events\" xmlns:xlink=\"http://www.w3.org/1999/xlink\"><defs/><rect fill=\"white\" height=\"111.875\" width=\"111.875\" x=\"0\" y=\"0\"/><path d=\"M25,35.625 m0.0,0.0 l0.0,3.75 6.875,13.75 l10.625,15.625 14.375,14.375 l8.75,3.75 m21.25,-14.375 l-6.875,0.0 -7.5,-3.75 l-10.0,-11.875 -3.75,-1.875 l11.875,-9.375 8.125,-1.25 l3.125,3.75 5.0,1.25 l-22.5,2.5 22.5,3.75 m-23.75,-30.625 l5.0,1.875 8.125,-1.875 \" fill=\"none\" stroke=\"black\" stroke-width=\"1\"/></svg>"
      ],
      "text/plain": [
       "<IPython.core.display.SVG object>"
      ]
     },
     "metadata": {},
     "output_type": "display_data"
    },
    {
     "name": "stdout",
     "output_type": "stream",
     "text": [
      "mouth 5.957729\n"
     ]
    },
    {
     "data": {
      "image/svg+xml": [
       "<svg baseProfile=\"full\" height=\"111.875\" version=\"1.1\" width=\"111.875\" xmlns=\"http://www.w3.org/2000/svg\" xmlns:ev=\"http://www.w3.org/2001/xml-events\" xmlns:xlink=\"http://www.w3.org/1999/xlink\"><defs/><rect fill=\"white\" height=\"111.875\" width=\"111.875\" x=\"0\" y=\"0\"/><path d=\"M25,64.375 m0.0,0.0 l4.375,7.5 11.875,11.25 l8.75,3.75 m36.25,-45.0 l-4.375,0.0 -11.25,7.5 l-4.375,-1.25 -3.125,-3.75 l-5.625,0.0 -9.375,6.25 l1.25,1.875 20.0,3.75 l14.375,-1.25 3.125,-1.875 l-39.375,-1.25 -4.375,3.125 l3.75,1.875 7.5,10.0 l10.0,5.625 10.625,0.625 l11.875,-4.375 m-39.375,-43.75 l5.0,1.875 8.125,-1.875 \" fill=\"none\" stroke=\"black\" stroke-width=\"1\"/></svg>"
      ],
      "text/plain": [
       "<IPython.core.display.SVG object>"
      ]
     },
     "metadata": {},
     "output_type": "display_data"
    },
    {
     "name": "stdout",
     "output_type": "stream",
     "text": [
      "mouth 3.6303875\n"
     ]
    },
    {
     "data": {
      "image/svg+xml": [
       "<svg baseProfile=\"full\" height=\"111.875\" version=\"1.1\" width=\"111.875\" xmlns=\"http://www.w3.org/2000/svg\" xmlns:ev=\"http://www.w3.org/2001/xml-events\" xmlns:xlink=\"http://www.w3.org/1999/xlink\"><defs/><rect fill=\"white\" height=\"111.875\" width=\"111.875\" x=\"0\" y=\"0\"/><path d=\"M25,81.875 m0.0,0.0 l6.25,5.0 3.125,0.0 m45.0,-40.0 l-9.375,-5.625 -5.0,1.25 l-6.875,6.25 -3.125,0.625 l-4.375,-1.25 -3.125,-3.75 l-5.625,0.0 -8.75,5.625 l0.625,2.5 26.25,3.75 l15.625,-4.375 -43.75,0.0 l-4.375,3.125 16.875,15.625 l15.0,2.5 6.25,-1.25 l9.375,-6.25 3.75,-7.5 l0.625,-6.875 m-47.5,-26.25 l5.0,1.875 8.125,-1.875 m28.125,61.875 l3.125,0.0 10.625,-14.375 \" fill=\"none\" stroke=\"black\" stroke-width=\"1\"/></svg>"
      ],
      "text/plain": [
       "<IPython.core.display.SVG object>"
      ]
     },
     "metadata": {},
     "output_type": "display_data"
    },
    {
     "name": "stdout",
     "output_type": "stream",
     "text": [
      "mouth 2.9552777\n"
     ]
    },
    {
     "data": {
      "image/svg+xml": [
       "<svg baseProfile=\"full\" height=\"111.875\" version=\"1.1\" width=\"110.0\" xmlns=\"http://www.w3.org/2000/svg\" xmlns:ev=\"http://www.w3.org/2001/xml-events\" xmlns:xlink=\"http://www.w3.org/1999/xlink\"><defs/><rect fill=\"white\" height=\"111.875\" width=\"110.0\" x=\"0\" y=\"0\"/><path d=\"M25,26.25 m0.0,0.0 l4.375,-1.25 m-4.375,19.375 l6.875,0.0 3.125,3.75 l4.375,1.25 3.125,-0.625 l6.875,-6.25 5.0,-1.25 l11.875,6.25 m-41.25,5.0 l5.0,2.5 14.375,1.25 l8.125,-1.25 8.75,-4.375 m-3.75,36.25 l3.125,0.0 8.75,-10.625 l9.375,-17.5 4.375,-15.0 l1.875,-18.75 \" fill=\"none\" stroke=\"black\" stroke-width=\"1\"/></svg>"
      ],
      "text/plain": [
       "<IPython.core.display.SVG object>"
      ]
     },
     "metadata": {},
     "output_type": "display_data"
    },
    {
     "name": "stdout",
     "output_type": "stream",
     "text": [
      "nose 6.097567\n"
     ]
    },
    {
     "data": {
      "image/svg+xml": [
       "<svg baseProfile=\"full\" height=\"111.875\" version=\"1.1\" width=\"94.375\" xmlns=\"http://www.w3.org/2000/svg\" xmlns:ev=\"http://www.w3.org/2001/xml-events\" xmlns:xlink=\"http://www.w3.org/1999/xlink\"><defs/><rect fill=\"white\" height=\"111.875\" width=\"94.375\" x=\"0\" y=\"0\"/><path d=\"M25,26.875 m0.0,0.0 l5.625,0.0 m-5.625,21.25 l1.875,0.625 10.625,-7.5 l13.125,6.25 m-25.625,8.125 l11.875,-0.625 8.75,-4.375 m-3.75,36.25 l3.125,0.0 8.75,-10.625 l9.375,-17.5 4.375,-15.0 l1.875,-18.75 \" fill=\"none\" stroke=\"black\" stroke-width=\"1\"/></svg>"
      ],
      "text/plain": [
       "<IPython.core.display.SVG object>"
      ]
     },
     "metadata": {},
     "output_type": "display_data"
    },
    {
     "name": "stdout",
     "output_type": "stream",
     "text": [
      "nose 4.2174797\n"
     ]
    },
    {
     "data": {
      "image/svg+xml": [
       "<svg baseProfile=\"full\" height=\"91.875\" version=\"1.1\" width=\"78.75\" xmlns=\"http://www.w3.org/2000/svg\" xmlns:ev=\"http://www.w3.org/2001/xml-events\" xmlns:xlink=\"http://www.w3.org/1999/xlink\"><defs/><rect fill=\"white\" height=\"91.875\" width=\"78.75\" x=\"0\" y=\"0\"/><path d=\"M25,25 m0.0,0.0 l8.75,18.75 20.0,23.125 \" fill=\"none\" stroke=\"black\" stroke-width=\"1\"/></svg>"
      ],
      "text/plain": [
       "<IPython.core.display.SVG object>"
      ]
     },
     "metadata": {},
     "output_type": "display_data"
    },
    {
     "name": "stdout",
     "output_type": "stream",
     "text": [
      "nose 6.5310597\n"
     ]
    },
    {
     "data": {
      "image/svg+xml": [
       "<svg baseProfile=\"full\" height=\"99.375\" version=\"1.1\" width=\"94.375\" xmlns=\"http://www.w3.org/2000/svg\" xmlns:ev=\"http://www.w3.org/2001/xml-events\" xmlns:xlink=\"http://www.w3.org/1999/xlink\"><defs/><rect fill=\"white\" height=\"99.375\" width=\"94.375\" x=\"0\" y=\"0\"/><path d=\"M25,25 m0.0,0.0 l5.0,12.5 13.125,18.75 l14.375,13.125 11.875,5.0 m-1.25,-43.75 l-6.25,5.0 7.5,2.5 l-8.125,-1.875 -4.375,3.125 l3.75,1.875 8.75,11.25 \" fill=\"none\" stroke=\"black\" stroke-width=\"1\"/></svg>"
      ],
      "text/plain": [
       "<IPython.core.display.SVG object>"
      ]
     },
     "metadata": {},
     "output_type": "display_data"
    },
    {
     "name": "stdout",
     "output_type": "stream",
     "text": [
      "nose 4.947892\n"
     ]
    },
    {
     "data": {
      "image/svg+xml": [
       "<svg baseProfile=\"full\" height=\"101.875\" version=\"1.1\" width=\"110.0\" xmlns=\"http://www.w3.org/2000/svg\" xmlns:ev=\"http://www.w3.org/2001/xml-events\" xmlns:xlink=\"http://www.w3.org/1999/xlink\"><defs/><rect fill=\"white\" height=\"101.875\" width=\"110.0\" x=\"0\" y=\"0\"/><path d=\"M25,25 m0.0,0.0 l8.75,18.75 9.375,12.5 l11.875,11.25 18.125,9.375 l11.25,-0.625 m0.625,-19.375 l-6.875,0.0 -7.5,-3.75 l-10.0,-11.875 -3.75,-1.875 l11.875,-9.375 8.125,-1.25 l3.125,3.75 5.0,1.25 l-22.5,2.5 22.5,3.75 \" fill=\"none\" stroke=\"black\" stroke-width=\"1\"/></svg>"
      ],
      "text/plain": [
       "<IPython.core.display.SVG object>"
      ]
     },
     "metadata": {},
     "output_type": "display_data"
    },
    {
     "name": "stdout",
     "output_type": "stream",
     "text": [
      "mouth 4.8583755\n"
     ]
    },
    {
     "data": {
      "image/svg+xml": [
       "<svg baseProfile=\"full\" height=\"101.875\" version=\"1.1\" width=\"111.875\" xmlns=\"http://www.w3.org/2000/svg\" xmlns:ev=\"http://www.w3.org/2001/xml-events\" xmlns:xlink=\"http://www.w3.org/1999/xlink\"><defs/><rect fill=\"white\" height=\"101.875\" width=\"111.875\" x=\"0\" y=\"0\"/><path d=\"M25,48.75 m0.0,0.0 l4.375,7.5 11.875,11.25 l18.125,9.375 18.125,-0.625 l9.375,-3.125 m0.0,-20.625 l-8.125,4.375 -14.375,0.0 l-10.0,-5.625 -7.5,-10.0 l-3.75,-1.875 14.375,-10.625 l5.625,0.0 3.125,3.75 l4.375,1.25 13.75,-8.75 l-35.625,11.25 20.625,4.375 l14.375,-1.25 3.125,-1.875 \" fill=\"none\" stroke=\"black\" stroke-width=\"1\"/></svg>"
      ],
      "text/plain": [
       "<IPython.core.display.SVG object>"
      ]
     },
     "metadata": {},
     "output_type": "display_data"
    },
    {
     "name": "stdout",
     "output_type": "stream",
     "text": [
      "mouth 5.654743\n"
     ]
    },
    {
     "data": {
      "image/svg+xml": [
       "<svg baseProfile=\"full\" height=\"101.875\" version=\"1.1\" width=\"111.875\" xmlns=\"http://www.w3.org/2000/svg\" xmlns:ev=\"http://www.w3.org/2001/xml-events\" xmlns:xlink=\"http://www.w3.org/1999/xlink\"><defs/><rect fill=\"white\" height=\"101.875\" width=\"111.875\" x=\"0\" y=\"0\"/><path d=\"M25,66.25 m0.0,0.0 l18.75,10.625 18.125,-0.625 l14.375,-5.625 10.625,-13.75 m-5.0,-25.0 l-13.125,-6.875 -10.625,8.125 l-4.375,0.625 -6.25,-5.0 l-5.625,0.0 -9.375,6.875 l21.25,5.0 20.0,-3.125 l3.125,-2.5 -45.0,1.25 l-4.375,3.125 16.875,15.625 l15.0,2.5 6.25,-1.25 l9.375,-6.25 3.75,-7.5 l0.625,-6.875 \" fill=\"none\" stroke=\"black\" stroke-width=\"1\"/></svg>"
      ],
      "text/plain": [
       "<IPython.core.display.SVG object>"
      ]
     },
     "metadata": {},
     "output_type": "display_data"
    },
    {
     "name": "stdout",
     "output_type": "stream",
     "text": [
      "mouth 5.4663024\n"
     ]
    },
    {
     "data": {
      "image/svg+xml": [
       "<svg baseProfile=\"full\" height=\"101.875\" version=\"1.1\" width=\"108.125\" xmlns=\"http://www.w3.org/2000/svg\" xmlns:ev=\"http://www.w3.org/2001/xml-events\" xmlns:xlink=\"http://www.w3.org/1999/xlink\"><defs/><rect fill=\"white\" height=\"101.875\" width=\"108.125\" x=\"0\" y=\"0\"/><path d=\"M25,28.75 m0.0,0.0 l6.875,0.0 3.125,3.75 l4.375,1.25 15.0,-8.75 l11.875,6.875 m-41.25,5.0 l5.0,2.5 14.375,1.25 l8.125,-1.25 8.75,-4.375 m-36.25,39.375 l3.125,2.5 18.125,-0.625 l14.375,-5.625 10.625,-12.5 l7.5,-15.0 4.375,-18.125 \" fill=\"none\" stroke=\"black\" stroke-width=\"1\"/></svg>"
      ],
      "text/plain": [
       "<IPython.core.display.SVG object>"
      ]
     },
     "metadata": {},
     "output_type": "display_data"
    },
    {
     "name": "stdout",
     "output_type": "stream",
     "text": [
      "nose 3.0956178\n"
     ]
    },
    {
     "data": {
      "image/svg+xml": [
       "<svg baseProfile=\"full\" height=\"101.25\" version=\"1.1\" width=\"92.5\" xmlns=\"http://www.w3.org/2000/svg\" xmlns:ev=\"http://www.w3.org/2001/xml-events\" xmlns:xlink=\"http://www.w3.org/1999/xlink\"><defs/><rect fill=\"white\" height=\"101.25\" width=\"92.5\" x=\"0\" y=\"0\"/><path d=\"M25,32.5 m0.0,0.0 l1.875,0.625 10.625,-8.125 l13.125,6.875 m-25.625,8.125 l11.875,-0.625 8.75,-4.375 m-20.625,41.25 l5.625,0.0 10.625,-3.75 l7.5,-5.625 6.875,-8.75 l7.5,-15.0 4.375,-18.125 \" fill=\"none\" stroke=\"black\" stroke-width=\"1\"/></svg>"
      ],
      "text/plain": [
       "<IPython.core.display.SVG object>"
      ]
     },
     "metadata": {},
     "output_type": "display_data"
    },
    {
     "data": {
      "image/png": "[encoded data removed]",
      "text/plain": [
       "<matplotlib.figure.Figure at 0x11ce3b790>"
      ]
     },
     "metadata": {},
     "output_type": "display_data"
    },
    {
     "name": "stdout",
     "output_type": "stream",
     "text": [
      "INFO:tensorflow:Model using gpu.\n",
      "INFO:tensorflow:Loading model four_class_checkpoint/vector-110000.\n",
      "INFO:tensorflow:Restoring parameters from four_class_checkpoint/vector-110000\n",
      "nose 1.8083152\n"
     ]
    },
    {
     "data": {
      "image/svg+xml": [
       "<svg baseProfile=\"full\" height=\"93.125\" version=\"1.1\" width=\"95.625\" xmlns=\"http://www.w3.org/2000/svg\" xmlns:ev=\"http://www.w3.org/2001/xml-events\" xmlns:xlink=\"http://www.w3.org/1999/xlink\"><defs/><rect fill=\"white\" height=\"93.125\" width=\"95.625\" x=\"0\" y=\"0\"/><path d=\"M25,48.125 m0.0,0.0 l3.75,20.0 m8.75,-30.625 l10.0,-9.375 11.875,-3.125 l11.25,0.625 \" fill=\"none\" stroke=\"black\" stroke-width=\"1\"/></svg>"
      ],
      "text/plain": [
       "<IPython.core.display.SVG object>"
      ]
     },
     "metadata": {},
     "output_type": "display_data"
    },
    {
     "name": "stdout",
     "output_type": "stream",
     "text": [
      "eye 3.0749464\n"
     ]
    },
    {
     "data": {
      "image/svg+xml": [
       "<svg baseProfile=\"full\" height=\"93.125\" version=\"1.1\" width=\"111.875\" xmlns=\"http://www.w3.org/2000/svg\" xmlns:ev=\"http://www.w3.org/2001/xml-events\" xmlns:xlink=\"http://www.w3.org/1999/xlink\"><defs/><rect fill=\"white\" height=\"93.125\" width=\"111.875\" x=\"0\" y=\"0\"/><path d=\"M25,48.125 m0.0,0.0 l4.375,20.0 m8.75,-30.625 l10.0,-9.375 11.875,-3.125 l26.875,3.75 m-24.375,2.5 l9.375,-1.25 6.25,3.125 l1.875,11.875 -2.5,6.25 l-7.5,7.5 -4.375,1.25 l-7.5,0.0 -5.625,-3.125 l-4.375,-5.625 0.0,-6.25 l2.5,-5.625 10.625,-7.5 l5.625,4.375 0.0,7.5 l-4.375,3.125 -1.875,-1.25 l0.0,-5.625 1.25,1.25 l0.625,-1.875 2.5,4.375 l-1.875,-4.375 1.25,-1.25 l-1.875,0.0 -3.125,3.75 l0.625,5.625 3.125,-0.625 l0.0,3.125 4.375,1.875 l0.0,-7.5 \" fill=\"none\" stroke=\"black\" stroke-width=\"1\"/></svg>"
      ],
      "text/plain": [
       "<IPython.core.display.SVG object>"
      ]
     },
     "metadata": {},
     "output_type": "display_data"
    },
    {
     "name": "stdout",
     "output_type": "stream",
     "text": [
      "eye 3.8167038\n"
     ]
    },
    {
     "data": {
      "image/svg+xml": [
       "<svg baseProfile=\"full\" height=\"93.125\" version=\"1.1\" width=\"102.5\" xmlns=\"http://www.w3.org/2000/svg\" xmlns:ev=\"http://www.w3.org/2001/xml-events\" xmlns:xlink=\"http://www.w3.org/1999/xlink\"><defs/><rect fill=\"white\" height=\"93.125\" width=\"102.5\" x=\"0\" y=\"0\"/><path d=\"M25,34.375 m0.0,0.0 l0.0,1.875 7.5,-8.125 l11.875,-3.125 29.375,5.0 m-26.875,1.25 l9.375,-1.25 6.25,3.125 l1.875,11.875 -2.5,6.25 l-7.5,7.5 -4.375,1.25 l-7.5,0.0 -5.625,-3.125 l-4.375,-5.625 0.0,-6.25 l2.5,-5.625 10.625,-7.5 l5.625,4.375 0.0,7.5 l-4.375,3.125 -1.875,-1.25 l0.0,-5.625 1.25,1.25 l0.625,-1.875 2.5,4.375 l-1.875,-4.375 1.25,-1.25 l-1.875,0.0 -3.125,3.75 l0.625,5.625 3.125,-0.625 l0.0,3.125 4.375,1.875 l0.0,-7.5 m23.125,23.75 l0.0,-4.375 2.5,-2.5 \" fill=\"none\" stroke=\"black\" stroke-width=\"1\"/></svg>"
      ],
      "text/plain": [
       "<IPython.core.display.SVG object>"
      ]
     },
     "metadata": {},
     "output_type": "display_data"
    },
    {
     "name": "stdout",
     "output_type": "stream",
     "text": [
      "eye 1.3550234\n"
     ]
    },
    {
     "data": {
      "image/svg+xml": [
       "<svg baseProfile=\"full\" height=\"93.125\" version=\"1.1\" width=\"111.875\" xmlns=\"http://www.w3.org/2000/svg\" xmlns:ev=\"http://www.w3.org/2001/xml-events\" xmlns:xlink=\"http://www.w3.org/1999/xlink\"><defs/><rect fill=\"white\" height=\"93.125\" width=\"111.875\" x=\"0\" y=\"0\"/><path d=\"M25,25.625 m0.0,0.0 l18.125,0.625 15.0,3.75 m-33.125,28.125 l1.875,1.875 11.875,-1.25 l7.5,-7.5 2.5,-6.25 l-1.875,-11.875 -2.5,-2.5 l-8.75,-0.625 -5.0,1.875 l5.0,4.375 0.0,7.5 l-1.875,0.625 -2.5,-4.375 l1.25,-2.5 -4.375,3.75 l1.875,5.625 3.125,-1.875 l-1.25,5.0 1.875,1.875 l3.75,-1.25 -1.25,-6.25 l-11.25,1.875 0.0,2.5 l0.0,-5.0 6.25,-3.125 l-1.25,-8.75 -5.0,3.125 m34.375,33.125 l0.0,-4.375 2.5,-2.5 m15.625,-31.875 l9.375,-4.375 m0.0,11.875 l0.0,8.75 \" fill=\"none\" stroke=\"black\" stroke-width=\"1\"/></svg>"
      ],
      "text/plain": [
       "<IPython.core.display.SVG object>"
      ]
     },
     "metadata": {},
     "output_type": "display_data"
    },
    {
     "name": "stdout",
     "output_type": "stream",
     "text": [
      "nose 4.82004\n"
     ]
    },
    {
     "data": {
      "image/svg+xml": [
       "<svg baseProfile=\"full\" height=\"96.875\" version=\"1.1\" width=\"111.875\" xmlns=\"http://www.w3.org/2000/svg\" xmlns:ev=\"http://www.w3.org/2001/xml-events\" xmlns:xlink=\"http://www.w3.org/1999/xlink\"><defs/><rect fill=\"white\" height=\"96.875\" width=\"111.875\" x=\"0\" y=\"0\"/><path d=\"M25,29.375 m0.0,0.0 l17.5,4.375 m-17.5,9.375 l0.0,9.375 m18.75,19.375 l0.0,-4.375 2.5,-2.5 m15.625,-31.875 l14.375,-6.25 10.625,-1.875 \" fill=\"none\" stroke=\"black\" stroke-width=\"1\"/></svg>"
      ],
      "text/plain": [
       "<IPython.core.display.SVG object>"
      ]
     },
     "metadata": {},
     "output_type": "display_data"
    },
    {
     "name": "stdout",
     "output_type": "stream",
     "text": [
      "nose 6.048976\n"
     ]
    },
    {
     "data": {
      "image/svg+xml": [
       "<svg baseProfile=\"full\" height=\"97.5\" version=\"1.1\" width=\"111.875\" xmlns=\"http://www.w3.org/2000/svg\" xmlns:ev=\"http://www.w3.org/2001/xml-events\" xmlns:xlink=\"http://www.w3.org/1999/xlink\"><defs/><rect fill=\"white\" height=\"97.5\" width=\"111.875\" x=\"0\" y=\"0\"/><path d=\"M25,33.125 m0.0,0.0 l1.875,1.25 m1.25,38.125 l0.0,-4.375 2.5,-2.5 m15.625,-31.875 l23.125,-8.75 11.25,0.625 l5.625,8.75 0.625,-1.875 \" fill=\"none\" stroke=\"black\" stroke-width=\"1\"/></svg>"
      ],
      "text/plain": [
       "<IPython.core.display.SVG object>"
      ]
     },
     "metadata": {},
     "output_type": "display_data"
    },
    {
     "name": "stdout",
     "output_type": "stream",
     "text": [
      "nose 1.1381139\n"
     ]
    },
    {
     "data": {
      "image/svg+xml": [
       "<svg baseProfile=\"full\" height=\"97.5\" version=\"1.1\" width=\"93.75\" xmlns=\"http://www.w3.org/2000/svg\" xmlns:ev=\"http://www.w3.org/2001/xml-events\" xmlns:xlink=\"http://www.w3.org/1999/xlink\"><defs/><rect fill=\"white\" height=\"97.5\" width=\"93.75\" x=\"0\" y=\"0\"/><path d=\"M25,33.75 m0.0,0.0 l23.75,-8.75 10.625,0.625 l5.625,8.75 m3.75,8.75 l-1.875,29.375 \" fill=\"none\" stroke=\"black\" stroke-width=\"1\"/></svg>"
      ],
      "text/plain": [
       "<IPython.core.display.SVG object>"
      ]
     },
     "metadata": {},
     "output_type": "display_data"
    },
    {
     "name": "stdout",
     "output_type": "stream",
     "text": [
      "nose 3.5075774\n"
     ]
    },
    {
     "data": {
      "image/svg+xml": [
       "<svg baseProfile=\"full\" height=\"108.75\" version=\"1.1\" width=\"95.625\" xmlns=\"http://www.w3.org/2000/svg\" xmlns:ev=\"http://www.w3.org/2001/xml-events\" xmlns:xlink=\"http://www.w3.org/1999/xlink\"><defs/><rect fill=\"white\" height=\"108.75\" width=\"95.625\" x=\"0\" y=\"0\"/><path d=\"M25,48.125 m0.0,0.0 l4.375,21.25 6.25,14.375 m1.875,-46.25 l10.0,-9.375 11.875,-3.125 l11.25,0.625 \" fill=\"none\" stroke=\"black\" stroke-width=\"1\"/></svg>"
      ],
      "text/plain": [
       "<IPython.core.display.SVG object>"
      ]
     },
     "metadata": {},
     "output_type": "display_data"
    },
    {
     "name": "stdout",
     "output_type": "stream",
     "text": [
      "None 1.998868\n"
     ]
    },
    {
     "data": {
      "image/svg+xml": [
       "<svg baseProfile=\"full\" height=\"108.75\" version=\"1.1\" width=\"111.875\" xmlns=\"http://www.w3.org/2000/svg\" xmlns:ev=\"http://www.w3.org/2001/xml-events\" xmlns:xlink=\"http://www.w3.org/1999/xlink\"><defs/><rect fill=\"white\" height=\"108.75\" width=\"111.875\" x=\"0\" y=\"0\"/><path d=\"M25,48.125 m0.0,0.0 l5.0,21.25 6.25,14.375 m1.875,-46.25 l10.0,-9.375 11.875,-3.125 l26.875,3.75 m-24.375,2.5 l9.375,-1.25 6.25,3.125 l1.875,11.875 -2.5,6.25 l-7.5,7.5 -4.375,1.25 l-7.5,0.0 -5.625,-3.125 l-4.375,-5.625 0.0,-6.25 l2.5,-5.625 10.625,-7.5 l5.625,4.375 0.0,7.5 l-4.375,3.125 -1.875,-1.25 l0.0,-5.625 1.25,1.25 l0.625,-1.875 2.5,4.375 l-1.875,-4.375 1.25,-1.25 l-1.875,0.0 -3.125,3.75 l0.625,5.625 3.125,-0.625 l0.0,3.125 4.375,1.875 l0.0,-7.5 m18.125,39.375 l1.25,0.0 \" fill=\"none\" stroke=\"black\" stroke-width=\"1\"/></svg>"
      ],
      "text/plain": [
       "<IPython.core.display.SVG object>"
      ]
     },
     "metadata": {},
     "output_type": "display_data"
    },
    {
     "name": "stdout",
     "output_type": "stream",
     "text": [
      "no classification\n",
      "eye 3.5996113\n"
     ]
    },
    {
     "data": {
      "image/svg+xml": [
       "<svg baseProfile=\"full\" height=\"108.75\" version=\"1.1\" width=\"102.5\" xmlns=\"http://www.w3.org/2000/svg\" xmlns:ev=\"http://www.w3.org/2001/xml-events\" xmlns:xlink=\"http://www.w3.org/1999/xlink\"><defs/><rect fill=\"white\" height=\"108.75\" width=\"102.5\" x=\"0\" y=\"0\"/><path d=\"M25,34.375 m0.0,0.0 l0.0,1.875 7.5,-8.125 l11.875,-3.125 29.375,5.0 m-26.875,1.25 l9.375,-1.25 6.25,3.125 l1.875,11.875 -2.5,6.25 l-7.5,7.5 -4.375,1.25 l-7.5,0.0 -5.625,-3.125 l-4.375,-5.625 0.0,-6.25 l2.5,-5.625 10.625,-7.5 l5.625,4.375 0.0,7.5 l-4.375,3.125 -1.875,-1.25 l0.0,-5.625 1.25,1.25 l0.625,-1.875 2.5,4.375 l-1.875,-4.375 1.25,-1.25 l-1.875,0.0 -3.125,3.75 l0.625,5.625 3.125,-0.625 l0.0,3.125 4.375,1.875 l0.0,-7.5 m18.125,39.375 l5.625,-3.75 -0.625,-16.25 l2.5,-2.5 \" fill=\"none\" stroke=\"black\" stroke-width=\"1\"/></svg>"
      ],
      "text/plain": [
       "<IPython.core.display.SVG object>"
      ]
     },
     "metadata": {},
     "output_type": "display_data"
    },
    {
     "name": "stdout",
     "output_type": "stream",
     "text": [
      "eye 1.3576896\n"
     ]
    },
    {
     "data": {
      "image/svg+xml": [
       "<svg baseProfile=\"full\" height=\"108.75\" version=\"1.1\" width=\"111.875\" xmlns=\"http://www.w3.org/2000/svg\" xmlns:ev=\"http://www.w3.org/2001/xml-events\" xmlns:xlink=\"http://www.w3.org/1999/xlink\"><defs/><rect fill=\"white\" height=\"108.75\" width=\"111.875\" x=\"0\" y=\"0\"/><path d=\"M25,25.625 m0.0,0.0 l18.125,0.625 15.0,3.75 m-33.125,28.125 l1.875,1.875 11.875,-1.25 l7.5,-7.5 2.5,-6.25 l-1.875,-11.875 -2.5,-2.5 l-8.75,-0.625 -5.0,1.875 l5.0,4.375 0.0,7.5 l-1.875,0.625 -2.5,-4.375 l1.25,-2.5 -4.375,3.75 l1.875,5.625 3.125,-1.875 l-1.25,5.0 1.875,1.875 l3.75,-1.25 -1.25,-6.25 l-11.25,1.875 0.0,2.5 l0.0,-5.0 6.25,-3.125 l-1.25,-8.75 -5.0,3.125 m29.375,48.75 l5.625,-3.75 -0.625,-16.25 l2.5,-2.5 m15.625,-31.875 l9.375,-4.375 m0.0,11.875 l0.0,8.75 \" fill=\"none\" stroke=\"black\" stroke-width=\"1\"/></svg>"
      ],
      "text/plain": [
       "<IPython.core.display.SVG object>"
      ]
     },
     "metadata": {},
     "output_type": "display_data"
    },
    {
     "name": "stdout",
     "output_type": "stream",
     "text": [
      "nose 4.3915257\n"
     ]
    },
    {
     "data": {
      "image/svg+xml": [
       "<svg baseProfile=\"full\" height=\"111.875\" version=\"1.1\" width=\"108.125\" xmlns=\"http://www.w3.org/2000/svg\" xmlns:ev=\"http://www.w3.org/2001/xml-events\" xmlns:xlink=\"http://www.w3.org/1999/xlink\"><defs/><rect fill=\"white\" height=\"111.875\" width=\"108.125\" x=\"0\" y=\"0\"/><path d=\"M25,28.75 m0.0,0.0 l17.5,4.375 m-17.5,9.375 l0.0,9.375 m13.75,35.0 l5.625,-3.75 -0.625,-16.25 l2.5,-2.5 m15.625,-31.875 l21.25,-7.5 \" fill=\"none\" stroke=\"black\" stroke-width=\"1\"/></svg>"
      ],
      "text/plain": [
       "<IPython.core.display.SVG object>"
      ]
     },
     "metadata": {},
     "output_type": "display_data"
    },
    {
     "name": "stdout",
     "output_type": "stream",
     "text": [
      "nose 4.0294433\n"
     ]
    },
    {
     "data": {
      "image/svg+xml": [
       "<svg baseProfile=\"full\" height=\"111.875\" version=\"1.1\" width=\"111.875\" xmlns=\"http://www.w3.org/2000/svg\" xmlns:ev=\"http://www.w3.org/2001/xml-events\" xmlns:xlink=\"http://www.w3.org/1999/xlink\"><defs/><rect fill=\"white\" height=\"111.875\" width=\"111.875\" x=\"0\" y=\"0\"/><path d=\"M25,31.875 m0.0,0.0 l1.875,1.25 m-1.875,52.5 l3.75,-2.5 -0.625,-16.25 l2.5,-2.5 m15.625,-31.875 l21.25,-7.5 m13.125,0.0 l6.25,6.25 -0.625,1.875 m-1.25,53.75 l1.875,0.0 0.0,-11.875 \" fill=\"none\" stroke=\"black\" stroke-width=\"1\"/></svg>"
      ],
      "text/plain": [
       "<IPython.core.display.SVG object>"
      ]
     },
     "metadata": {},
     "output_type": "display_data"
    },
    {
     "name": "stdout",
     "output_type": "stream",
     "text": [
      "nose 2.0437274\n"
     ]
    },
    {
     "data": {
      "image/svg+xml": [
       "<svg baseProfile=\"full\" height=\"111.875\" version=\"1.1\" width=\"93.75\" xmlns=\"http://www.w3.org/2000/svg\" xmlns:ev=\"http://www.w3.org/2001/xml-events\" xmlns:xlink=\"http://www.w3.org/1999/xlink\"><defs/><rect fill=\"white\" height=\"111.875\" width=\"93.75\" x=\"0\" y=\"0\"/><path d=\"M25,32.5 m0.0,0.0 l21.25,-7.5 m13.125,0.0 l5.625,8.125 m3.75,10.625 l0.0,16.25 -4.375,26.875 \" fill=\"none\" stroke=\"black\" stroke-width=\"1\"/></svg>"
      ],
      "text/plain": [
       "<IPython.core.display.SVG object>"
      ]
     },
     "metadata": {},
     "output_type": "display_data"
    },
    {
     "name": "stdout",
     "output_type": "stream",
     "text": [
      "nose 0.6583402\n"
     ]
    },
    {
     "data": {
      "image/svg+xml": [
       "<svg baseProfile=\"full\" height=\"111.875\" version=\"1.1\" width=\"95.625\" xmlns=\"http://www.w3.org/2000/svg\" xmlns:ev=\"http://www.w3.org/2001/xml-events\" xmlns:xlink=\"http://www.w3.org/1999/xlink\"><defs/><rect fill=\"white\" height=\"111.875\" width=\"95.625\" x=\"0\" y=\"0\"/><path d=\"M25,35.625 m0.0,0.0 l4.375,21.25 11.875,30.0 m29.375,-42.5 l-2.5,2.5 -10.625,0.625 l-8.125,-5.625 -1.875,-9.375 l3.125,-7.5 1.875,0.0 m18.125,1.875 l0.0,5.625 -4.375,-1.875 l0.625,-5.625 -0.625,6.25 l-3.75,3.125 -3.125,0.625 l-0.625,-5.0 3.75,-3.125 l1.875,4.375 -1.875,-5.0 l1.875,-1.25 -3.125,0.0 l0.625,3.125 -2.5,1.25 l3.125,8.125 4.375,1.875 l1.25,-6.25 2.5,0.0 l0.0,4.375 m-33.125,-12.5 l1.25,0.0 \" fill=\"none\" stroke=\"black\" stroke-width=\"1\"/></svg>"
      ],
      "text/plain": [
       "<IPython.core.display.SVG object>"
      ]
     },
     "metadata": {},
     "output_type": "display_data"
    },
    {
     "name": "stdout",
     "output_type": "stream",
     "text": [
      "mouth 1.3617157\n"
     ]
    },
    {
     "data": {
      "image/svg+xml": [
       "<svg baseProfile=\"full\" height=\"111.875\" version=\"1.1\" width=\"111.875\" xmlns=\"http://www.w3.org/2000/svg\" xmlns:ev=\"http://www.w3.org/2001/xml-events\" xmlns:xlink=\"http://www.w3.org/1999/xlink\"><defs/><rect fill=\"white\" height=\"111.875\" width=\"111.875\" x=\"0\" y=\"0\"/><path d=\"M25,35.625 m0.0,0.0 l5.0,21.25 11.875,30.0 m11.25,-61.875 l-1.875,0.0 -3.125,7.5 l0.0,6.25 4.375,5.625 l5.625,3.125 10.625,-0.625 l8.75,-8.125 2.5,-6.25 l-0.625,-7.5 m-19.375,10.0 l1.25,-1.25 -1.875,-5.0 l3.75,-1.875 1.875,2.5 l0.0,2.5 -3.125,2.5 l1.25,3.125 1.875,1.875 l3.75,-1.25 0.0,-4.375 l-3.125,-1.875 1.875,-6.875 l-5.625,0.0 0.625,3.125 l-1.875,1.875 m26.25,40.625 l-6.25,8.125 1.25,2.5 l5.0,1.25 m-48.75,-57.5 l1.25,0.0 \" fill=\"none\" stroke=\"black\" stroke-width=\"1\"/></svg>"
      ],
      "text/plain": [
       "<IPython.core.display.SVG object>"
      ]
     },
     "metadata": {},
     "output_type": "display_data"
    },
    {
     "name": "stdout",
     "output_type": "stream",
     "text": [
      "mouth 1.5185115\n"
     ]
    },
    {
     "data": {
      "image/svg+xml": [
       "<svg baseProfile=\"full\" height=\"111.875\" version=\"1.1\" width=\"111.875\" xmlns=\"http://www.w3.org/2000/svg\" xmlns:ev=\"http://www.w3.org/2001/xml-events\" xmlns:xlink=\"http://www.w3.org/1999/xlink\"><defs/><rect fill=\"white\" height=\"111.875\" width=\"111.875\" x=\"0\" y=\"0\"/><path d=\"M25,83.125 m0.0,0.0 l0.625,3.75 m11.875,-61.875 l-1.875,0.0 -3.125,7.5 l0.0,6.25 4.375,5.625 l5.625,3.125 10.625,-0.625 l8.75,-8.125 2.5,-6.25 l-0.625,-7.5 m-19.375,10.0 l1.25,-1.25 -1.875,-5.0 l3.75,-1.875 1.875,2.5 l0.0,2.5 -3.125,2.5 l1.25,3.125 1.875,1.875 l3.75,-1.25 0.0,-4.375 l-3.125,-1.875 1.875,-6.875 l-5.625,0.0 0.625,3.125 l-1.875,1.875 m41.875,49.375 l-11.875,2.5 -7.5,0.0 l-2.5,-1.875 2.5,-5.625 l8.125,-6.875 -0.625,-16.25 l1.875,-1.875 \" fill=\"none\" stroke=\"black\" stroke-width=\"1\"/></svg>"
      ],
      "text/plain": [
       "<IPython.core.display.SVG object>"
      ]
     },
     "metadata": {},
     "output_type": "display_data"
    },
    {
     "name": "stdout",
     "output_type": "stream",
     "text": [
      "mouth 1.7114495\n"
     ]
    },
    {
     "data": {
      "image/svg+xml": [
       "<svg baseProfile=\"full\" height=\"106.875\" version=\"1.1\" width=\"111.875\" xmlns=\"http://www.w3.org/2000/svg\" xmlns:ev=\"http://www.w3.org/2001/xml-events\" xmlns:xlink=\"http://www.w3.org/1999/xlink\"><defs/><rect fill=\"white\" height=\"106.875\" width=\"111.875\" x=\"0\" y=\"0\"/><path d=\"M26.25,33.75 m0.0,0.0 l-1.25,-2.5 0.0,5.0 l3.75,-3.125 3.125,1.25 l1.875,5.0 2.5,0.0 l1.25,-5.625 -1.875,-2.5 l-1.875,0.625 -1.875,-6.875 l-1.25,1.25 3.125,-1.25 l-5.625,3.75 0.625,3.75 l-0.625,-3.125 3.125,-1.25 l1.875,4.375 -1.25,1.25 l3.75,-3.125 0.625,-5.625 m-11.25,20.625 l1.875,1.875 11.875,-1.25 l8.125,-8.75 1.875,-5.0 l-0.625,-7.5 m12.5,25.0 l-0.625,17.5 -8.125,6.875 l-2.5,5.625 2.5,1.875 l21.25,-1.875 m5.0,-55.0 l-0.625,8.125 2.5,4.375 l6.875,5.0 m0.0,-17.5 l0.0,8.125 \" fill=\"none\" stroke=\"black\" stroke-width=\"1\"/></svg>"
      ],
      "text/plain": [
       "<IPython.core.display.SVG object>"
      ]
     },
     "metadata": {},
     "output_type": "display_data"
    },
    {
     "name": "stdout",
     "output_type": "stream",
     "text": [
      "mouth 1.7650075\n"
     ]
    },
    {
     "data": {
      "image/svg+xml": [
       "<svg baseProfile=\"full\" height=\"106.875\" version=\"1.1\" width=\"111.875\" xmlns=\"http://www.w3.org/2000/svg\" xmlns:ev=\"http://www.w3.org/2001/xml-events\" xmlns:xlink=\"http://www.w3.org/1999/xlink\"><defs/><rect fill=\"white\" height=\"106.875\" width=\"111.875\" x=\"0\" y=\"0\"/><path d=\"M25,26.875 m0.0,0.0 l0.0,9.375 m7.5,-11.25 l0.625,7.5 -2.5,6.25 l-5.625,4.375 0.0,2.5 m20.0,4.375 l-0.625,17.5 -8.125,6.875 l-2.5,5.625 2.5,1.875 l21.25,-1.875 m29.375,-42.5 l-4.375,5.0 -10.0,0.625 l-5.625,-3.125 -5.0,-6.875 l1.875,-8.125 m15.0,10.0 l-3.125,-5.0 5.0,-5.0 l6.25,0.0 0.0,5.625 l-4.375,-5.0 -1.25,8.75 l-1.875,0.0 0.625,-9.375 l-5.0,0.0 -0.625,5.625 l-3.125,-5.625 1.875,0.0 \" fill=\"none\" stroke=\"black\" stroke-width=\"1\"/></svg>"
      ],
      "text/plain": [
       "<IPython.core.display.SVG object>"
      ]
     },
     "metadata": {},
     "output_type": "display_data"
    },
    {
     "name": "stdout",
     "output_type": "stream",
     "text": [
      "nose 1.7628106\n"
     ]
    },
    {
     "data": {
      "image/svg+xml": [
       "<svg baseProfile=\"full\" height=\"111.875\" version=\"1.1\" width=\"111.875\" xmlns=\"http://www.w3.org/2000/svg\" xmlns:ev=\"http://www.w3.org/2001/xml-events\" xmlns:xlink=\"http://www.w3.org/1999/xlink\"><defs/><rect fill=\"white\" height=\"111.875\" width=\"111.875\" x=\"0\" y=\"0\"/><path d=\"M25,70.0 m0.0,0.0 l3.75,-2.5 -0.625,-16.25 l2.5,-2.5 m-5.625,32.5 l16.875,-1.25 m5.0,-55.0 l0.625,10.625 9.375,7.5 l11.25,-1.25 8.125,-7.5 l1.875,-9.375 m-15.0,10.0 l-3.125,-5.0 5.0,-5.0 l7.5,0.0 -6.25,0.625 l-0.625,8.75 -1.875,0.0 l0.625,-9.375 -5.0,0.0 l-0.625,5.625 -3.125,-5.625 l1.875,0.0 m29.375,33.75 l-2.5,28.125 \" fill=\"none\" stroke=\"black\" stroke-width=\"1\"/></svg>"
      ],
      "text/plain": [
       "<IPython.core.display.SVG object>"
      ]
     },
     "metadata": {},
     "output_type": "display_data"
    },
    {
     "name": "stdout",
     "output_type": "stream",
     "text": [
      "mouth 3.4319198\n"
     ]
    },
    {
     "data": {
      "image/svg+xml": [
       "<svg baseProfile=\"full\" height=\"111.25\" version=\"1.1\" width=\"99.375\" xmlns=\"http://www.w3.org/2000/svg\" xmlns:ev=\"http://www.w3.org/2001/xml-events\" xmlns:xlink=\"http://www.w3.org/1999/xlink\"><defs/><rect fill=\"white\" height=\"111.25\" width=\"99.375\" x=\"0\" y=\"0\"/><path d=\"M31.25,25 m0.0,0.0 l0.625,10.625 9.375,7.5 l11.25,-1.25 8.125,-7.5 l1.875,-9.375 m-15.0,10.0 l-3.125,-5.0 5.0,-5.0 l7.5,0.0 -6.25,0.625 l-0.625,8.75 -1.875,0.0 l0.625,-9.375 -5.0,0.0 l-0.625,5.625 -3.125,-5.625 l1.875,0.0 m26.25,61.25 l6.25,-41.875 0.0,-17.5 m-49.375,52.5 l1.25,0.625 \" fill=\"none\" stroke=\"black\" stroke-width=\"1\"/></svg>"
      ],
      "text/plain": [
       "<IPython.core.display.SVG object>"
      ]
     },
     "metadata": {},
     "output_type": "display_data"
    },
    {
     "name": "stdout",
     "output_type": "stream",
     "text": [
      "nose 9.636528\n"
     ]
    },
    {
     "data": {
      "image/svg+xml": [
       "<svg baseProfile=\"full\" height=\"111.875\" version=\"1.1\" width=\"93.75\" xmlns=\"http://www.w3.org/2000/svg\" xmlns:ev=\"http://www.w3.org/2001/xml-events\" xmlns:xlink=\"http://www.w3.org/1999/xlink\"><defs/><rect fill=\"white\" height=\"111.875\" width=\"93.75\" x=\"0\" y=\"0\"/><path d=\"M25,25 m0.0,0.0 l0.0,6.875 5.0,16.875 l9.375,25.0 8.125,13.125 m21.25,-58.125 l-2.5,2.5 -10.625,0.625 l-8.125,-6.875 \" fill=\"none\" stroke=\"black\" stroke-width=\"1\"/></svg>"
      ],
      "text/plain": [
       "<IPython.core.display.SVG object>"
      ]
     },
     "metadata": {},
     "output_type": "display_data"
    },
    {
     "name": "stdout",
     "output_type": "stream",
     "text": [
      "nose 4.241472\n"
     ]
    },
    {
     "data": {
      "image/svg+xml": [
       "<svg baseProfile=\"full\" height=\"111.875\" version=\"1.1\" width=\"109.375\" xmlns=\"http://www.w3.org/2000/svg\" xmlns:ev=\"http://www.w3.org/2001/xml-events\" xmlns:xlink=\"http://www.w3.org/1999/xlink\"><defs/><rect fill=\"white\" height=\"111.875\" width=\"109.375\" x=\"0\" y=\"0\"/><path d=\"M25,25 m0.0,0.0 l0.0,6.875 5.0,16.875 l9.375,25.0 8.125,13.125 m-0.625,-61.875 l8.75,6.875 10.625,-0.625 l7.5,-6.25 m10.625,30.0 l-6.25,8.125 1.25,2.5 l5.0,1.25 m-5.625,20.0 l5.625,0.0 -1.875,-1.875 l1.875,-1.875 \" fill=\"none\" stroke=\"black\" stroke-width=\"1\"/></svg>"
      ],
      "text/plain": [
       "<IPython.core.display.SVG object>"
      ]
     },
     "metadata": {},
     "output_type": "display_data"
    },
    {
     "name": "stdout",
     "output_type": "stream",
     "text": [
      "nose 3.3662214\n"
     ]
    },
    {
     "data": {
      "image/svg+xml": [
       "<svg baseProfile=\"full\" height=\"111.875\" version=\"1.1\" width=\"111.875\" xmlns=\"http://www.w3.org/2000/svg\" xmlns:ev=\"http://www.w3.org/2001/xml-events\" xmlns:xlink=\"http://www.w3.org/1999/xlink\"><defs/><rect fill=\"white\" height=\"111.875\" width=\"111.875\" x=\"0\" y=\"0\"/><path d=\"M34.375,86.875 m0.0,0.0 l-9.375,-15.625 0.0,-3.75 l0.0,4.375 m8.75,-46.875 l8.75,6.875 10.625,-0.625 l7.5,-6.25 m26.25,38.75 l-11.875,2.5 -7.5,0.0 l-2.5,-1.875 2.5,-5.625 l8.125,-6.875 -0.625,-16.25 l1.875,-1.875 m-11.25,53.125 l2.5,0.0 8.125,-7.5 l4.375,0.625 6.25,-3.75 \" fill=\"none\" stroke=\"black\" stroke-width=\"1\"/></svg>"
      ],
      "text/plain": [
       "<IPython.core.display.SVG object>"
      ]
     },
     "metadata": {},
     "output_type": "display_data"
    },
    {
     "name": "stdout",
     "output_type": "stream",
     "text": [
      "nose 4.473801\n"
     ]
    },
    {
     "data": {
      "image/svg+xml": [
       "<svg baseProfile=\"full\" height=\"111.875\" version=\"1.1\" width=\"111.875\" xmlns=\"http://www.w3.org/2000/svg\" xmlns:ev=\"http://www.w3.org/2001/xml-events\" xmlns:xlink=\"http://www.w3.org/1999/xlink\"><defs/><rect fill=\"white\" height=\"111.875\" width=\"111.875\" x=\"0\" y=\"0\"/><path d=\"M25,30.0 m0.0,0.0 l1.875,1.875 10.625,-0.625 l7.5,-6.25 m15.625,9.375 l-0.625,17.5 -8.125,6.875 l-2.5,5.625 2.5,1.875 l21.25,-1.875 m-23.125,22.5 l2.5,0.0 8.125,-7.5 l4.375,0.625 6.25,-3.75 l5.625,0.0 8.75,3.75 l1.25,-1.25 0.0,1.875 l-8.75,0.625 -6.875,5.0 l-15.0,0.625 m26.875,-61.875 l3.75,0.625 m0.0,60.0 l0.0,1.25 \" fill=\"none\" stroke=\"black\" stroke-width=\"1\"/></svg>"
      ],
      "text/plain": [
       "<IPython.core.display.SVG object>"
      ]
     },
     "metadata": {},
     "output_type": "display_data"
    },
    {
     "name": "stdout",
     "output_type": "stream",
     "text": [
      "nose 3.4981036\n"
     ]
    },
    {
     "data": {
      "image/svg+xml": [
       "<svg baseProfile=\"full\" height=\"111.875\" version=\"1.1\" width=\"110.625\" xmlns=\"http://www.w3.org/2000/svg\" xmlns:ev=\"http://www.w3.org/2001/xml-events\" xmlns:xlink=\"http://www.w3.org/1999/xlink\"><defs/><rect fill=\"white\" height=\"111.875\" width=\"110.625\" x=\"0\" y=\"0\"/><path d=\"M25,27.5 m0.0,0.0 l0.0,2.5 2.5,-5.0 l1.875,0.0 m15.625,9.375 l-0.625,17.5 -8.125,6.875 l-2.5,5.625 2.5,1.875 l21.25,-1.875 m-23.125,22.5 l2.5,0.0 8.125,-7.5 l4.375,0.625 6.25,-3.75 l21.25,4.375 4.375,-2.5 l-9.375,8.75 -3.75,-6.875 l-5.625,1.25 -6.875,5.0 l-15.0,0.625 m26.875,-61.875 l5.0,2.5 10.0,-0.625 l3.125,-1.875 \" fill=\"none\" stroke=\"black\" stroke-width=\"1\"/></svg>"
      ],
      "text/plain": [
       "<IPython.core.display.SVG object>"
      ]
     },
     "metadata": {},
     "output_type": "display_data"
    },
    {
     "name": "stdout",
     "output_type": "stream",
     "text": [
      "nose 4.9854283\n"
     ]
    },
    {
     "data": {
      "image/svg+xml": [
       "<svg baseProfile=\"full\" height=\"111.875\" version=\"1.1\" width=\"111.875\" xmlns=\"http://www.w3.org/2000/svg\" xmlns:ev=\"http://www.w3.org/2001/xml-events\" xmlns:xlink=\"http://www.w3.org/1999/xlink\"><defs/><rect fill=\"white\" height=\"111.875\" width=\"111.875\" x=\"0\" y=\"0\"/><path d=\"M25,54.375 m0.0,0.0 l3.75,-2.5 -0.625,-16.25 l2.5,-2.5 m-5.625,32.5 l16.875,-1.25 m17.5,15.0 l1.875,1.25 -6.25,6.25 l10.625,-8.75 -11.25,1.875 l-8.75,-3.75 -5.625,0.0 l-6.25,3.75 -3.125,-1.25 l-5.625,4.375 26.875,-2.5 l-5.0,0.625 -6.875,5.0 l-14.375,0.625 m26.25,-61.875 l5.0,2.5 10.0,-0.625 l3.125,-1.875 m16.875,18.125 l0.0,13.75 -7.5,30.0 \" fill=\"none\" stroke=\"black\" stroke-width=\"1\"/></svg>"
      ],
      "text/plain": [
       "<IPython.core.display.SVG object>"
      ]
     },
     "metadata": {},
     "output_type": "display_data"
    },
    {
     "name": "stdout",
     "output_type": "stream",
     "text": [
      "nose 4.1556354\n"
     ]
    },
    {
     "data": {
      "image/svg+xml": [
       "<svg baseProfile=\"full\" height=\"111.875\" version=\"1.1\" width=\"99.375\" xmlns=\"http://www.w3.org/2000/svg\" xmlns:ev=\"http://www.w3.org/2001/xml-events\" xmlns:xlink=\"http://www.w3.org/1999/xlink\"><defs/><rect fill=\"white\" height=\"111.875\" width=\"99.375\" x=\"0\" y=\"0\"/><path d=\"M25,85.0 m0.0,0.0 l12.5,-5.625 -12.5,-3.75 l13.75,4.375 5.625,-0.625 l1.25,1.25 -6.25,6.25 l10.625,-8.75 m-13.75,-53.125 l5.0,2.5 10.0,-0.625 l3.125,-1.875 m8.75,61.875 l5.0,-13.125 6.25,-48.75 m-49.375,38.75 l1.25,0.625 \" fill=\"none\" stroke=\"black\" stroke-width=\"1\"/></svg>"
      ],
      "text/plain": [
       "<IPython.core.display.SVG object>"
      ]
     },
     "metadata": {},
     "output_type": "display_data"
    },
    {
     "name": "stdout",
     "output_type": "stream",
     "text": [
      "nose 7.460565\n"
     ]
    },
    {
     "data": {
      "image/svg+xml": [
       "<svg baseProfile=\"full\" height=\"111.875\" version=\"1.1\" width=\"80.625\" xmlns=\"http://www.w3.org/2000/svg\" xmlns:ev=\"http://www.w3.org/2001/xml-events\" xmlns:xlink=\"http://www.w3.org/1999/xlink\"><defs/><rect fill=\"white\" height=\"111.875\" width=\"80.625\" x=\"0\" y=\"0\"/><path d=\"M25,25 m0.0,0.0 l11.25,33.125 8.75,15.625 l10.625,13.125 \" fill=\"none\" stroke=\"black\" stroke-width=\"1\"/></svg>"
      ],
      "text/plain": [
       "<IPython.core.display.SVG object>"
      ]
     },
     "metadata": {},
     "output_type": "display_data"
    },
    {
     "name": "stdout",
     "output_type": "stream",
     "text": [
      "nose 7.565506\n"
     ]
    },
    {
     "data": {
      "image/svg+xml": [
       "<svg baseProfile=\"full\" height=\"111.875\" version=\"1.1\" width=\"106.25\" xmlns=\"http://www.w3.org/2000/svg\" xmlns:ev=\"http://www.w3.org/2001/xml-events\" xmlns:xlink=\"http://www.w3.org/1999/xlink\"><defs/><rect fill=\"white\" height=\"111.875\" width=\"106.25\" x=\"0\" y=\"0\"/><path d=\"M25,25 m0.0,0.0 l11.25,33.125 8.75,15.625 l10.625,13.125 m25.625,-8.125 l-10.0,-3.75 5.625,-2.5 l4.375,-5.625 -3.125,5.625 l3.125,-1.25 m0.0,-31.875 l-6.25,8.125 1.25,2.5 l5.0,1.25 \" fill=\"none\" stroke=\"black\" stroke-width=\"1\"/></svg>"
      ],
      "text/plain": [
       "<IPython.core.display.SVG object>"
      ]
     },
     "metadata": {},
     "output_type": "display_data"
    },
    {
     "name": "stdout",
     "output_type": "stream",
     "text": [
      "nose 2.138442\n"
     ]
    },
    {
     "data": {
      "image/svg+xml": [
       "<svg baseProfile=\"full\" height=\"111.875\" version=\"1.1\" width=\"111.875\" xmlns=\"http://www.w3.org/2000/svg\" xmlns:ev=\"http://www.w3.org/2001/xml-events\" xmlns:xlink=\"http://www.w3.org/1999/xlink\"><defs/><rect fill=\"white\" height=\"111.875\" width=\"111.875\" x=\"0\" y=\"0\"/><path d=\"M45.625,86.875 m0.0,0.0 l-12.5,-16.25 -8.125,-15.0 l0.0,-3.75 0.0,4.375 m61.875,3.75 l-6.25,4.375 -4.375,-0.625 l-9.375,8.75 -5.625,2.5 l11.25,4.375 14.375,-0.625 l-18.75,-6.25 18.75,-2.5 m-11.25,-45.0 l0.0,11.25 -8.125,6.875 l-2.5,5.625 2.5,1.875 l19.375,-1.875 m-14.375,37.5 l14.375,-0.625 \" fill=\"none\" stroke=\"black\" stroke-width=\"1\"/></svg>"
      ],
      "text/plain": [
       "<IPython.core.display.SVG object>"
      ]
     },
     "metadata": {},
     "output_type": "display_data"
    },
    {
     "name": "stdout",
     "output_type": "stream",
     "text": [
      "mouth 6.478424\n"
     ]
    },
    {
     "data": {
      "image/svg+xml": [
       "<svg baseProfile=\"full\" height=\"111.875\" version=\"1.1\" width=\"111.875\" xmlns=\"http://www.w3.org/2000/svg\" xmlns:ev=\"http://www.w3.org/2001/xml-events\" xmlns:xlink=\"http://www.w3.org/1999/xlink\"><defs/><rect fill=\"white\" height=\"111.875\" width=\"111.875\" x=\"0\" y=\"0\"/><path d=\"M25,80.0 m0.0,0.0 l5.0,6.875 m56.875,-16.875 l0.0,1.875 -6.25,4.375 l-6.875,2.5 -16.875,0.625 l-8.75,-2.5 -2.5,-1.875 l5.625,-2.5 5.625,-6.25 l14.375,-5.625 5.625,0.0 l8.75,3.75 1.25,-1.25 l0.0,1.875 -8.75,0.625 l-6.875,5.0 -18.75,1.875 m7.5,-47.5 l0.0,11.25 -8.125,6.875 l-2.5,5.625 2.5,1.875 l21.25,-1.875 m-16.25,37.5 l16.25,0.625 11.875,-3.75 \" fill=\"none\" stroke=\"black\" stroke-width=\"1\"/></svg>"
      ],
      "text/plain": [
       "<IPython.core.display.SVG object>"
      ]
     },
     "metadata": {},
     "output_type": "display_data"
    },
    {
     "name": "stdout",
     "output_type": "stream",
     "text": [
      "mouth 6.5063143\n"
     ]
    },
    {
     "data": {
      "image/svg+xml": [
       "<svg baseProfile=\"full\" height=\"111.875\" version=\"1.1\" width=\"100.625\" xmlns=\"http://www.w3.org/2000/svg\" xmlns:ev=\"http://www.w3.org/2001/xml-events\" xmlns:xlink=\"http://www.w3.org/1999/xlink\"><defs/><rect fill=\"white\" height=\"111.875\" width=\"100.625\" x=\"0\" y=\"0\"/><path d=\"M31.25,70.625 m0.0,0.0 l8.125,-6.875 4.375,0.625 l6.25,-3.75 5.625,0.0 l8.75,3.75 5.625,-0.625 l1.25,1.25 -6.875,7.5 l-11.875,6.25 -16.875,0.625 l-7.5,-1.875 -3.125,-3.125 l6.25,-3.125 2.5,1.25 l16.25,-1.875 6.875,-5.0 l18.75,-3.125 m-36.875,-37.5 l0.0,11.25 -8.125,6.875 l-2.5,5.625 2.5,1.875 l21.25,-1.875 m-16.25,37.5 l16.25,0.625 11.875,-3.75 \" fill=\"none\" stroke=\"black\" stroke-width=\"1\"/></svg>"
      ],
      "text/plain": [
       "<IPython.core.display.SVG object>"
      ]
     },
     "metadata": {},
     "output_type": "display_data"
    },
    {
     "name": "stdout",
     "output_type": "stream",
     "text": [
      "nose 2.1127772\n"
     ]
    },
    {
     "data": {
      "image/svg+xml": [
       "<svg baseProfile=\"full\" height=\"111.875\" version=\"1.1\" width=\"111.875\" xmlns=\"http://www.w3.org/2000/svg\" xmlns:ev=\"http://www.w3.org/2001/xml-events\" xmlns:xlink=\"http://www.w3.org/1999/xlink\"><defs/><rect fill=\"white\" height=\"111.875\" width=\"111.875\" x=\"0\" y=\"0\"/><path d=\"M25,38.75 m0.0,0.0 l3.75,-2.5 -0.625,-11.25 m-3.125,25.0 l16.875,-1.25 m-16.25,30.625 l-0.625,-1.25 20.625,0.0 l20.0,-15.625 -11.25,1.875 l-8.75,-3.75 -5.625,0.0 l-6.25,3.75 -3.125,-1.25 l-5.625,4.375 26.875,-2.5 l-5.0,0.625 -6.875,5.0 l-15.0,1.875 m0.625,13.75 l16.25,0.625 11.875,-3.75 m33.125,-55.625 l0.0,13.75 -3.125,16.875 l-10.625,28.75 \" fill=\"none\" stroke=\"black\" stroke-width=\"1\"/></svg>"
      ],
      "text/plain": [
       "<IPython.core.display.SVG object>"
      ]
     },
     "metadata": {},
     "output_type": "display_data"
    },
    {
     "name": "stdout",
     "output_type": "stream",
     "text": [
      "nose 2.2460213\n"
     ]
    },
    {
     "data": {
      "image/svg+xml": [
       "<svg baseProfile=\"full\" height=\"111.875\" version=\"1.1\" width=\"97.5\" xmlns=\"http://www.w3.org/2000/svg\" xmlns:ev=\"http://www.w3.org/2001/xml-events\" xmlns:xlink=\"http://www.w3.org/1999/xlink\"><defs/><rect fill=\"white\" height=\"111.875\" width=\"97.5\" x=\"0\" y=\"0\"/><path d=\"M50.0,62.5 m0.0,0.0 l-4.375,2.5 -6.875,-0.625 l-13.75,-4.375 11.875,4.375 l-8.125,2.5 -3.75,3.75 l20.0,-5.0 -11.25,10.625 l-8.75,2.5 m0.0,6.875 l1.25,1.25 11.875,-3.75 m34.375,-58.125 l-4.375,33.125 -10.625,28.75 m-32.5,-38.75 l1.25,0.625 \" fill=\"none\" stroke=\"black\" stroke-width=\"1\"/></svg>"
      ],
      "text/plain": [
       "<IPython.core.display.SVG object>"
      ]
     },
     "metadata": {},
     "output_type": "display_data"
    },
    {
     "name": "stdout",
     "output_type": "stream",
     "text": [
      "nose 9.301834\n"
     ]
    },
    {
     "data": {
      "image/svg+xml": [
       "<svg baseProfile=\"full\" height=\"105.625\" version=\"1.1\" width=\"85.0\" xmlns=\"http://www.w3.org/2000/svg\" xmlns:ev=\"http://www.w3.org/2001/xml-events\" xmlns:xlink=\"http://www.w3.org/1999/xlink\"><defs/><rect fill=\"white\" height=\"105.625\" width=\"85.0\" x=\"0\" y=\"0\"/><path d=\"M25,25 m0.0,0.0 l5.625,17.5 8.75,15.625 l10.0,13.125 10.625,9.375 \" fill=\"none\" stroke=\"black\" stroke-width=\"1\"/></svg>"
      ],
      "text/plain": [
       "<IPython.core.display.SVG object>"
      ]
     },
     "metadata": {},
     "output_type": "display_data"
    },
    {
     "name": "stdout",
     "output_type": "stream",
     "text": [
      "nose 5.8701396\n"
     ]
    },
    {
     "data": {
      "image/svg+xml": [
       "<svg baseProfile=\"full\" height=\"111.875\" version=\"1.1\" width=\"100.625\" xmlns=\"http://www.w3.org/2000/svg\" xmlns:ev=\"http://www.w3.org/2001/xml-events\" xmlns:xlink=\"http://www.w3.org/1999/xlink\"><defs/><rect fill=\"white\" height=\"111.875\" width=\"100.625\" x=\"0\" y=\"0\"/><path d=\"M25,25 m0.0,0.0 l5.625,17.5 8.75,15.625 l13.75,16.875 11.25,9.375 l6.875,2.5 m4.375,-23.75 l-10.0,-3.75 5.625,-2.5 l4.375,-5.625 -3.125,5.625 l3.125,-1.25 m-0.625,-30.625 l-5.625,8.125 6.25,2.5 \" fill=\"none\" stroke=\"black\" stroke-width=\"1\"/></svg>"
      ],
      "text/plain": [
       "<IPython.core.display.SVG object>"
      ]
     },
     "metadata": {},
     "output_type": "display_data"
    },
    {
     "name": "stdout",
     "output_type": "stream",
     "text": [
      "nose 4.1141357\n"
     ]
    },
    {
     "data": {
      "image/svg+xml": [
       "<svg baseProfile=\"full\" height=\"111.875\" version=\"1.1\" width=\"111.875\" xmlns=\"http://www.w3.org/2000/svg\" xmlns:ev=\"http://www.w3.org/2001/xml-events\" xmlns:xlink=\"http://www.w3.org/1999/xlink\"><defs/><rect fill=\"white\" height=\"111.875\" width=\"111.875\" x=\"0\" y=\"0\"/><path d=\"M26.25,41.25 m0.0,0.0 l-1.25,-5.0 0.0,4.375 l5.625,10.0 14.375,20.625 l15.0,13.125 6.875,2.5 m20.0,-42.5 l-6.25,4.375 -4.375,-0.625 l-9.375,8.75 -5.625,2.5 l11.25,4.375 14.375,-0.625 l-18.75,-6.25 18.75,-2.5 m-16.25,-29.375 l-5.625,6.875 1.25,2.5 l20.625,-1.25 m-14.375,37.5 l14.375,-0.625 \" fill=\"none\" stroke=\"black\" stroke-width=\"1\"/></svg>"
      ],
      "text/plain": [
       "<IPython.core.display.SVG object>"
      ]
     },
     "metadata": {},
     "output_type": "display_data"
    },
    {
     "name": "stdout",
     "output_type": "stream",
     "text": [
      "mouth 5.3943105\n"
     ]
    },
    {
     "data": {
      "image/svg+xml": [
       "<svg baseProfile=\"full\" height=\"111.875\" version=\"1.1\" width=\"111.875\" xmlns=\"http://www.w3.org/2000/svg\" xmlns:ev=\"http://www.w3.org/2001/xml-events\" xmlns:xlink=\"http://www.w3.org/1999/xlink\"><defs/><rect fill=\"white\" height=\"111.875\" width=\"111.875\" x=\"0\" y=\"0\"/><path d=\"M25,64.375 m0.0,0.0 l8.125,10.625 11.25,9.375 l6.875,2.5 m35.625,-32.5 l0.0,1.875 -6.25,4.375 l-6.875,2.5 -16.875,0.625 l-8.75,-2.5 -2.5,-1.875 l5.625,-2.5 5.625,-6.25 l14.375,-5.625 5.625,0.0 l8.75,3.75 1.25,-1.25 l0.0,1.875 -8.75,0.625 l-6.875,5.0 -18.75,1.875 m2.5,-31.875 l-5.625,6.875 2.5,3.125 l21.25,-1.875 m-16.25,37.5 l19.375,0.0 8.75,-3.125 \" fill=\"none\" stroke=\"black\" stroke-width=\"1\"/></svg>"
      ],
      "text/plain": [
       "<IPython.core.display.SVG object>"
      ]
     },
     "metadata": {},
     "output_type": "display_data"
    },
    {
     "name": "stdout",
     "output_type": "stream",
     "text": [
      "mouth 5.525449\n"
     ]
    },
    {
     "data": {
      "image/svg+xml": [
       "<svg baseProfile=\"full\" height=\"111.875\" version=\"1.1\" width=\"111.875\" xmlns=\"http://www.w3.org/2000/svg\" xmlns:ev=\"http://www.w3.org/2001/xml-events\" xmlns:xlink=\"http://www.w3.org/1999/xlink\"><defs/><rect fill=\"white\" height=\"111.875\" width=\"111.875\" x=\"0\" y=\"0\"/><path d=\"M25,80.0 m0.0,0.0 l3.75,4.375 6.875,2.5 m1.25,-31.875 l8.125,-6.875 4.375,0.625 l6.25,-3.75 5.625,0.0 l8.75,3.75 5.625,-0.625 l1.25,1.25 -6.875,7.5 l-11.875,6.25 -16.875,0.625 l-7.5,-1.875 -3.125,-3.125 l6.25,-3.125 2.5,1.25 l16.25,-1.875 6.875,-5.0 l18.75,-3.125 m-41.875,-21.875 l-5.625,6.875 2.5,3.125 l21.25,-1.875 m-16.25,37.5 l19.375,0.0 8.75,-3.125 m3.125,19.375 l3.75,0.0 10.625,-13.75 \" fill=\"none\" stroke=\"black\" stroke-width=\"1\"/></svg>"
      ],
      "text/plain": [
       "<IPython.core.display.SVG object>"
      ]
     },
     "metadata": {},
     "output_type": "display_data"
    },
    {
     "name": "stdout",
     "output_type": "stream",
     "text": [
      "mouth 1.5665655\n"
     ]
    },
    {
     "data": {
      "image/svg+xml": [
       "<svg baseProfile=\"full\" height=\"111.875\" version=\"1.1\" width=\"111.875\" xmlns=\"http://www.w3.org/2000/svg\" xmlns:ev=\"http://www.w3.org/2001/xml-events\" xmlns:xlink=\"http://www.w3.org/1999/xlink\"><defs/><rect fill=\"white\" height=\"111.875\" width=\"111.875\" x=\"0\" y=\"0\"/><path d=\"M25,34.375 m0.0,0.0 l16.875,-1.25 m-16.25,30.625 l-0.625,-1.25 20.625,0.0 l20.0,-15.625 -11.25,1.875 l-8.75,-3.75 -5.625,0.0 l-6.25,3.75 -3.125,-1.25 l-5.625,4.375 26.875,-2.5 l-5.0,0.625 -6.875,5.0 l-15.0,1.875 m0.625,13.75 l19.375,0.0 8.75,-3.125 m31.25,-42.5 l1.875,0.625 -3.125,16.875 l-5.625,17.5 -6.875,13.75 l-8.125,10.625 -2.5,2.5 l-3.125,0.0 \" fill=\"none\" stroke=\"black\" stroke-width=\"1\"/></svg>"
      ],
      "text/plain": [
       "<IPython.core.display.SVG object>"
      ]
     },
     "metadata": {},
     "output_type": "display_data"
    },
    {
     "name": "stdout",
     "output_type": "stream",
     "text": [
      "nose 2.3080401\n"
     ]
    },
    {
     "data": {
      "image/svg+xml": [
       "<svg baseProfile=\"full\" height=\"111.875\" version=\"1.1\" width=\"96.25\" xmlns=\"http://www.w3.org/2000/svg\" xmlns:ev=\"http://www.w3.org/2001/xml-events\" xmlns:xlink=\"http://www.w3.org/1999/xlink\"><defs/><rect fill=\"white\" height=\"111.875\" width=\"96.25\" x=\"0\" y=\"0\"/><path d=\"M50.0,46.875 m0.0,0.0 l-4.375,2.5 -6.875,-0.625 l-13.75,-4.375 11.875,4.375 l-8.125,2.5 -3.75,3.75 l20.0,-5.0 -11.25,10.625 l-8.75,2.5 m0.0,6.875 l4.375,0.625 8.75,-3.125 m3.125,19.375 l3.75,0.0 2.5,-2.5 l8.125,-10.625 6.875,-13.75 l5.625,-17.5 3.125,-17.5 l-1.875,0.0 m-44.375,7.5 l1.25,0.625 \" fill=\"none\" stroke=\"black\" stroke-width=\"1\"/></svg>"
      ],
      "text/plain": [
       "<IPython.core.display.SVG object>"
      ]
     },
     "metadata": {},
     "output_type": "display_data"
    },
    {
     "name": "stdout",
     "output_type": "stream",
     "text": [
      "nose 4.279788\n"
     ]
    },
    {
     "data": {
      "image/svg+xml": [
       "<svg baseProfile=\"full\" height=\"90.0\" version=\"1.1\" width=\"80.625\" xmlns=\"http://www.w3.org/2000/svg\" xmlns:ev=\"http://www.w3.org/2001/xml-events\" xmlns:xlink=\"http://www.w3.org/1999/xlink\"><defs/><rect fill=\"white\" height=\"90.0\" width=\"80.625\" x=\"0\" y=\"0\"/><path d=\"M25,25 m0.0,0.0 l17.5,27.5 13.125,12.5 \" fill=\"none\" stroke=\"black\" stroke-width=\"1\"/></svg>"
      ],
      "text/plain": [
       "<IPython.core.display.SVG object>"
      ]
     },
     "metadata": {},
     "output_type": "display_data"
    },
    {
     "name": "stdout",
     "output_type": "stream",
     "text": [
      "nose 7.4343324\n"
     ]
    },
    {
     "data": {
      "image/svg+xml": [
       "<svg baseProfile=\"full\" height=\"99.375\" version=\"1.1\" width=\"96.25\" xmlns=\"http://www.w3.org/2000/svg\" xmlns:ev=\"http://www.w3.org/2001/xml-events\" xmlns:xlink=\"http://www.w3.org/1999/xlink\"><defs/><rect fill=\"white\" height=\"99.375\" width=\"96.25\" x=\"0\" y=\"0\"/><path d=\"M25,25 m0.0,0.0 l20.0,30.625 15.0,13.125 l11.25,5.625 m0.0,-26.875 l-10.0,-3.75 5.625,-2.5 l4.375,-5.625 -3.125,5.625 l3.125,-1.25 \" fill=\"none\" stroke=\"black\" stroke-width=\"1\"/></svg>"
      ],
      "text/plain": [
       "<IPython.core.display.SVG object>"
      ]
     },
     "metadata": {},
     "output_type": "display_data"
    },
    {
     "name": "stdout",
     "output_type": "stream",
     "text": [
      "nose 5.3845186\n"
     ]
    },
    {
     "data": {
      "image/svg+xml": [
       "<svg baseProfile=\"full\" height=\"101.25\" version=\"1.1\" width=\"111.875\" xmlns=\"http://www.w3.org/2000/svg\" xmlns:ev=\"http://www.w3.org/2001/xml-events\" xmlns:xlink=\"http://www.w3.org/1999/xlink\"><defs/><rect fill=\"white\" height=\"101.25\" width=\"111.875\" x=\"0\" y=\"0\"/><path d=\"M25,25 m0.0,0.0 l10.0,17.5 18.125,20.625 l6.875,5.625 15.0,7.5 l11.875,0.0 m0.0,-47.5 l-6.25,4.375 -4.375,-0.625 l-9.375,8.75 -5.625,2.5 l11.25,4.375 14.375,-0.625 l-18.75,-6.25 18.75,-2.5 m-14.375,16.25 l14.375,-0.625 \" fill=\"none\" stroke=\"black\" stroke-width=\"1\"/></svg>"
      ],
      "text/plain": [
       "<IPython.core.display.SVG object>"
      ]
     },
     "metadata": {},
     "output_type": "display_data"
    },
    {
     "name": "stdout",
     "output_type": "stream",
     "text": [
      "mouth 4.207789\n"
     ]
    },
    {
     "data": {
      "image/svg+xml": [
       "<svg baseProfile=\"full\" height=\"96.875\" version=\"1.1\" width=\"111.875\" xmlns=\"http://www.w3.org/2000/svg\" xmlns:ev=\"http://www.w3.org/2001/xml-events\" xmlns:xlink=\"http://www.w3.org/1999/xlink\"><defs/><rect fill=\"white\" height=\"96.875\" width=\"111.875\" x=\"0\" y=\"0\"/><path d=\"M25,44.375 m0.0,0.0 l4.375,6.875 15.0,13.125 l15.0,7.5 18.125,0.0 l9.375,-3.75 m0.0,-33.75 l0.0,1.875 -6.25,4.375 l-6.875,2.5 -16.875,0.625 l-8.75,-2.5 -2.5,-1.875 l5.625,-2.5 5.625,-6.25 l14.375,-5.625 5.625,0.0 l8.75,3.75 1.25,-1.25 l0.0,1.875 -8.75,0.625 l-6.875,5.0 -18.75,1.875 m4.375,13.75 l19.375,0.0 8.75,-3.125 \" fill=\"none\" stroke=\"black\" stroke-width=\"1\"/></svg>"
      ],
      "text/plain": [
       "<IPython.core.display.SVG object>"
      ]
     },
     "metadata": {},
     "output_type": "display_data"
    },
    {
     "name": "stdout",
     "output_type": "stream",
     "text": [
      "mouth 6.4022336\n"
     ]
    },
    {
     "data": {
      "image/svg+xml": [
       "<svg baseProfile=\"full\" height=\"96.875\" version=\"1.1\" width=\"111.875\" xmlns=\"http://www.w3.org/2000/svg\" xmlns:ev=\"http://www.w3.org/2001/xml-events\" xmlns:xlink=\"http://www.w3.org/1999/xlink\"><defs/><rect fill=\"white\" height=\"96.875\" width=\"111.875\" x=\"0\" y=\"0\"/><path d=\"M25,60.0 m0.0,0.0 l3.75,4.375 15.0,7.5 l18.125,0.0 15.0,-5.625 l10.0,-13.125 m-50.0,-18.125 l8.125,-6.875 4.375,0.625 l6.25,-3.75 5.625,0.0 l8.75,3.75 5.625,-0.625 l1.25,1.25 -6.875,7.5 l-11.875,6.25 -16.875,0.625 l-7.5,-1.875 -3.125,-3.125 l6.25,-3.125 2.5,1.25 l16.25,-1.875 6.875,-5.0 l18.75,-3.125 m-40.0,23.75 l19.375,0.0 8.75,-3.125 \" fill=\"none\" stroke=\"black\" stroke-width=\"1\"/></svg>"
      ],
      "text/plain": [
       "<IPython.core.display.SVG object>"
      ]
     },
     "metadata": {},
     "output_type": "display_data"
    },
    {
     "name": "stdout",
     "output_type": "stream",
     "text": [
      "mouth 3.7939684\n"
     ]
    },
    {
     "data": {
      "image/svg+xml": [
       "<svg baseProfile=\"full\" height=\"101.25\" version=\"1.1\" width=\"108.125\" xmlns=\"http://www.w3.org/2000/svg\" xmlns:ev=\"http://www.w3.org/2001/xml-events\" xmlns:xlink=\"http://www.w3.org/1999/xlink\"><defs/><rect fill=\"white\" height=\"101.25\" width=\"108.125\" x=\"0\" y=\"0\"/><path d=\"M25.625,48.125 m0.0,0.0 l-0.625,-1.25 20.625,0.0 l20.0,-15.625 -11.25,1.875 l-8.75,-3.75 -5.625,0.0 l-6.25,3.75 -3.125,-1.25 l-5.625,4.375 26.875,-2.5 l-5.0,0.625 -6.875,5.0 l-15.0,1.875 m0.0,32.5 l3.125,2.5 18.125,0.0 l15.0,-5.625 10.0,-12.5 l6.875,-13.75 5.0,-19.375 m-57.5,30.0 l19.375,0.0 8.75,-3.125 \" fill=\"none\" stroke=\"black\" stroke-width=\"1\"/></svg>"
      ],
      "text/plain": [
       "<IPython.core.display.SVG object>"
      ]
     },
     "metadata": {},
     "output_type": "display_data"
    },
    {
     "name": "stdout",
     "output_type": "stream",
     "text": [
      "nose 3.294695\n"
     ]
    },
    {
     "data": {
      "image/svg+xml": [
       "<svg baseProfile=\"full\" height=\"100.625\" version=\"1.1\" width=\"93.75\" xmlns=\"http://www.w3.org/2000/svg\" xmlns:ev=\"http://www.w3.org/2001/xml-events\" xmlns:xlink=\"http://www.w3.org/1999/xlink\"><defs/><rect fill=\"white\" height=\"100.625\" width=\"93.75\" x=\"0\" y=\"0\"/><path d=\"M50.0,31.25 m0.0,0.0 l-4.375,2.5 -6.875,-0.625 l-13.75,-4.375 11.875,4.375 l-8.125,2.5 -3.75,3.75 l20.0,-5.0 -11.25,10.625 l-8.75,2.5 m0.0,6.875 l4.375,0.625 8.75,-3.125 m-13.125,23.75 l8.125,0.0 14.375,-6.875 l8.125,-10.625 6.875,-13.75 l6.25,-19.375 \" fill=\"none\" stroke=\"black\" stroke-width=\"1\"/></svg>"
      ],
      "text/plain": [
       "<IPython.core.display.SVG object>"
      ]
     },
     "metadata": {},
     "output_type": "display_data"
    },
    {
     "data": {
      "image/png": "[encoded data removed]",
      "text/plain": [
       "<matplotlib.figure.Figure at 0x119c37ed0>"
      ]
     },
     "metadata": {},
     "output_type": "display_data"
    },
    {
     "name": "stdout",
     "output_type": "stream",
     "text": [
      "INFO:tensorflow:Model using gpu.\n",
      "INFO:tensorflow:Loading model four_class_checkpoint/vector-110000.\n",
      "INFO:tensorflow:Restoring parameters from four_class_checkpoint/vector-110000\n",
      "nose 2.8079314\n"
     ]
    },
    {
     "data": {
      "image/svg+xml": [
       "<svg baseProfile=\"full\" height=\"90.0\" version=\"1.1\" width=\"85.625\" xmlns=\"http://www.w3.org/2000/svg\" xmlns:ev=\"http://www.w3.org/2001/xml-events\" xmlns:xlink=\"http://www.w3.org/1999/xlink\"><defs/><rect fill=\"white\" height=\"90.0\" width=\"85.625\" x=\"0\" y=\"0\"/><path d=\"M25,46.25 m0.0,0.0 l4.375,-11.25 10.625,-8.125 l9.375,-1.875 11.25,0.625 m0.0,35.0 l-6.875,3.75 -1.875,-1.25 l1.25,-6.25 7.5,1.25 l-15.625,-1.875 -1.875,5.625 l3.125,3.125 6.25,-0.625 l-16.875,-0.625 -2.5,-1.875 l3.125,-3.125 7.5,-2.5 \" fill=\"none\" stroke=\"black\" stroke-width=\"1\"/></svg>"
      ],
      "text/plain": [
       "<IPython.core.display.SVG object>"
      ]
     },
     "metadata": {},
     "output_type": "display_data"
    },
    {
     "name": "stdout",
     "output_type": "stream",
     "text": [
      "nose 2.2758708\n"
     ]
    },
    {
     "data": {
      "image/svg+xml": [
       "<svg baseProfile=\"full\" height=\"90.0\" version=\"1.1\" width=\"93.125\" xmlns=\"http://www.w3.org/2000/svg\" xmlns:ev=\"http://www.w3.org/2001/xml-events\" xmlns:xlink=\"http://www.w3.org/1999/xlink\"><defs/><rect fill=\"white\" height=\"90.0\" width=\"93.125\" x=\"0\" y=\"0\"/><path d=\"M25,46.25 m0.0,0.0 l4.375,-11.25 10.625,-8.125 l18.75,-1.875 9.375,2.5 m-14.375,36.875 l8.75,-5.0 1.875,0.625 l-13.125,-3.75 -6.25,0.0 l-1.875,5.625 3.125,3.125 l3.75,0.0 2.5,-1.875 l-0.625,-5.0 0.625,6.25 l-9.375,0.625 -8.75,-1.875 l-1.25,-1.25 3.125,-3.125 l7.5,-2.5 \" fill=\"none\" stroke=\"black\" stroke-width=\"1\"/></svg>"
      ],
      "text/plain": [
       "<IPython.core.display.SVG object>"
      ]
     },
     "metadata": {},
     "output_type": "display_data"
    },
    {
     "name": "stdout",
     "output_type": "stream",
     "text": [
      "eye 0.7918108\n"
     ]
    },
    {
     "data": {
      "image/svg+xml": [
       "<svg baseProfile=\"full\" height=\"90.0\" version=\"1.1\" width=\"111.875\" xmlns=\"http://www.w3.org/2000/svg\" xmlns:ev=\"http://www.w3.org/2001/xml-events\" xmlns:xlink=\"http://www.w3.org/1999/xlink\"><defs/><rect fill=\"white\" height=\"90.0\" width=\"111.875\" x=\"0\" y=\"0\"/><path d=\"M63.125,27.5 m0.0,0.0 l-9.375,-2.5 -15.0,0.625 l-13.75,8.125 0.0,2.5 m23.75,28.125 l8.75,-5.0 1.875,0.625 l-13.125,-3.75 -6.25,0.0 l-1.875,5.625 3.125,3.125 l3.75,0.0 2.5,-1.875 l-0.625,-5.0 0.625,6.25 l-9.375,0.625 -8.75,-1.875 l-1.25,-1.25 3.125,-3.125 l7.5,-2.5 m46.875,-28.125 l1.25,-0.625 \" fill=\"none\" stroke=\"black\" stroke-width=\"1\"/></svg>"
      ],
      "text/plain": [
       "<IPython.core.display.SVG object>"
      ]
     },
     "metadata": {},
     "output_type": "display_data"
    },
    {
     "name": "stdout",
     "output_type": "stream",
     "text": [
      "nose 1.7701229\n"
     ]
    },
    {
     "data": {
      "image/svg+xml": [
       "<svg baseProfile=\"full\" height=\"91.25\" version=\"1.1\" width=\"111.875\" xmlns=\"http://www.w3.org/2000/svg\" xmlns:ev=\"http://www.w3.org/2001/xml-events\" xmlns:xlink=\"http://www.w3.org/1999/xlink\"><defs/><rect fill=\"white\" height=\"91.25\" width=\"111.875\" x=\"0\" y=\"0\"/><path d=\"M25,25.625 m0.0,0.0 l13.125,0.0 9.375,2.5 m-21.25,37.5 l-1.25,-1.875 0.0,2.5 l8.75,-1.25 8.125,-5.0 l-16.875,-3.75 6.25,2.5 l0.0,5.0 12.5,-3.125 m26.25,-31.875 l10.625,-3.75 6.25,0.625 m-1.25,38.125 l-1.25,-5.0 2.5,-3.75 l-8.125,2.5 -5.0,4.375 l8.125,2.5 5.0,-1.25 l0.0,2.5 \" fill=\"none\" stroke=\"black\" stroke-width=\"1\"/></svg>"
      ],
      "text/plain": [
       "<IPython.core.display.SVG object>"
      ]
     },
     "metadata": {},
     "output_type": "display_data"
    },
    {
     "name": "stdout",
     "output_type": "stream",
     "text": [
      "nose 2.0209465\n"
     ]
    },
    {
     "data": {
      "image/svg+xml": [
       "<svg baseProfile=\"full\" height=\"90.0\" version=\"1.1\" width=\"111.875\" xmlns=\"http://www.w3.org/2000/svg\" xmlns:ev=\"http://www.w3.org/2001/xml-events\" xmlns:xlink=\"http://www.w3.org/1999/xlink\"><defs/><rect fill=\"white\" height=\"90.0\" width=\"111.875\" x=\"0\" y=\"0\"/><path d=\"M25,26.25 m0.0,0.0 l6.875,1.875 m-6.875,30.625 l0.625,0.625 m28.75,-30.625 l10.625,-3.75 6.875,0.0 l8.75,0.625 6.25,5.0 m-0.625,30.625 l-8.75,3.125 0.625,-7.5 l-6.875,-1.25 -2.5,3.125 l0.625,3.75 5.625,2.5 l-16.875,-3.125 8.75,-6.25 l20.0,2.5 \" fill=\"none\" stroke=\"black\" stroke-width=\"1\"/></svg>"
      ],
      "text/plain": [
       "<IPython.core.display.SVG object>"
      ]
     },
     "metadata": {},
     "output_type": "display_data"
    },
    {
     "name": "stdout",
     "output_type": "stream",
     "text": [
      "nose 1.1324003\n"
     ]
    },
    {
     "data": {
      "image/svg+xml": [
       "<svg baseProfile=\"full\" height=\"90.0\" version=\"1.1\" width=\"91.25\" xmlns=\"http://www.w3.org/2000/svg\" xmlns:ev=\"http://www.w3.org/2001/xml-events\" xmlns:xlink=\"http://www.w3.org/1999/xlink\"><defs/><rect fill=\"white\" height=\"90.0\" width=\"91.25\" x=\"0\" y=\"0\"/><path d=\"M25,28.75 m0.0,0.0 l10.625,-3.75 15.625,0.625 l11.25,8.125 3.75,11.875 m-6.25,14.375 l-11.875,4.375 0.625,-7.5 l-6.875,-1.25 -2.5,4.375 l3.75,5.0 -13.125,-1.875 l-1.25,-1.25 5.0,-4.375 l6.875,-1.875 -1.25,1.25 l11.875,0.0 10.0,2.5 \" fill=\"none\" stroke=\"black\" stroke-width=\"1\"/></svg>"
      ],
      "text/plain": [
       "<IPython.core.display.SVG object>"
      ]
     },
     "metadata": {},
     "output_type": "display_data"
    },
    {
     "name": "stdout",
     "output_type": "stream",
     "text": [
      "nose 1.2342137\n"
     ]
    },
    {
     "data": {
      "image/svg+xml": [
       "<svg baseProfile=\"full\" height=\"90.0\" version=\"1.1\" width=\"89.375\" xmlns=\"http://www.w3.org/2000/svg\" xmlns:ev=\"http://www.w3.org/2001/xml-events\" xmlns:xlink=\"http://www.w3.org/1999/xlink\"><defs/><rect fill=\"white\" height=\"90.0\" width=\"89.375\" x=\"0\" y=\"0\"/><path d=\"M25,28.125 m0.0,0.0 l8.75,-3.125 15.625,0.625 l11.25,8.125 3.75,11.875 m-6.25,14.375 l-11.875,4.375 0.625,-7.5 l-6.875,-1.25 -2.5,4.375 l3.75,5.0 -13.125,-1.875 l-1.25,-1.25 5.0,-4.375 l6.875,-1.875 -1.25,1.25 l11.875,0.0 10.0,2.5 \" fill=\"none\" stroke=\"black\" stroke-width=\"1\"/></svg>"
      ],
      "text/plain": [
       "<IPython.core.display.SVG object>"
      ]
     },
     "metadata": {},
     "output_type": "display_data"
    },
    {
     "name": "stdout",
     "output_type": "stream",
     "text": [
      "nose 2.2555223\n"
     ]
    },
    {
     "data": {
      "image/svg+xml": [
       "<svg baseProfile=\"full\" height=\"111.875\" version=\"1.1\" width=\"95.625\" xmlns=\"http://www.w3.org/2000/svg\" xmlns:ev=\"http://www.w3.org/2001/xml-events\" xmlns:xlink=\"http://www.w3.org/1999/xlink\"><defs/><rect fill=\"white\" height=\"111.875\" width=\"95.625\" x=\"0\" y=\"0\"/><path d=\"M25.625,85.0 m0.0,0.0 l-0.625,1.875 1.875,0.0 m8.125,-40.0 l4.375,-11.25 10.625,-8.125 l9.375,-2.5 11.25,0.625 m0.0,35.625 l-6.875,3.75 -1.875,-1.25 l1.25,-6.25 7.5,1.25 l-15.625,-1.875 -1.875,5.625 l3.125,3.125 6.25,-0.625 l-16.875,-0.625 -2.5,-1.875 l3.125,-3.125 7.5,-2.5 m14.375,15.625 l2.5,0.0 0.0,3.75 \" fill=\"none\" stroke=\"black\" stroke-width=\"1\"/></svg>"
      ],
      "text/plain": [
       "<IPython.core.display.SVG object>"
      ]
     },
     "metadata": {},
     "output_type": "display_data"
    },
    {
     "name": "stdout",
     "output_type": "stream",
     "text": [
      "nose 1.4767798\n"
     ]
    },
    {
     "data": {
      "image/svg+xml": [
       "<svg baseProfile=\"full\" height=\"111.875\" version=\"1.1\" width=\"106.25\" xmlns=\"http://www.w3.org/2000/svg\" xmlns:ev=\"http://www.w3.org/2001/xml-events\" xmlns:xlink=\"http://www.w3.org/1999/xlink\"><defs/><rect fill=\"white\" height=\"111.875\" width=\"106.25\" x=\"0\" y=\"0\"/><path d=\"M25.625,85.0 m0.0,0.0 l-0.625,1.875 1.875,0.0 m8.125,-40.0 l4.375,-11.25 10.625,-8.125 l18.75,-2.5 9.375,3.125 m-14.375,36.875 l8.75,-5.0 1.875,0.625 l-13.125,-3.75 -6.25,0.0 l-1.875,5.625 3.125,3.125 l3.75,0.0 2.5,-1.875 l-0.625,-5.0 0.625,6.25 l-9.375,0.625 -8.75,-1.875 l-1.25,-1.25 3.125,-3.125 l7.5,-2.5 m14.375,15.625 l6.25,9.375 -0.625,5.0 l1.875,0.0 -0.625,-5.0 l6.25,5.0 \" fill=\"none\" stroke=\"black\" stroke-width=\"1\"/></svg>"
      ],
      "text/plain": [
       "<IPython.core.display.SVG object>"
      ]
     },
     "metadata": {},
     "output_type": "display_data"
    },
    {
     "name": "stdout",
     "output_type": "stream",
     "text": [
      "eye 3.7301931\n"
     ]
    },
    {
     "data": {
      "image/svg+xml": [
       "<svg baseProfile=\"full\" height=\"111.875\" version=\"1.1\" width=\"111.875\" xmlns=\"http://www.w3.org/2000/svg\" xmlns:ev=\"http://www.w3.org/2001/xml-events\" xmlns:xlink=\"http://www.w3.org/1999/xlink\"><defs/><rect fill=\"white\" height=\"111.875\" width=\"111.875\" x=\"0\" y=\"0\"/><path d=\"M25,34.375 m0.0,0.0 l0.0,2.5 1.25,-3.125 l8.75,-6.25 9.375,-2.5 l9.375,0.0 9.375,3.125 m-14.375,36.875 l8.75,-5.0 1.875,0.625 l-13.125,-3.75 -6.25,0.0 l-1.875,5.625 3.125,3.125 l3.75,0.0 2.5,-1.875 l-0.625,-5.0 0.625,6.25 l-9.375,0.625 -8.75,-1.875 l-1.25,-1.25 3.125,-3.125 l7.5,-2.5 m14.375,15.625 l6.25,9.375 -0.625,5.0 l1.875,0.0 -0.625,-5.0 l6.25,5.0 m19.375,-58.125 l1.25,-0.625 \" fill=\"none\" stroke=\"black\" stroke-width=\"1\"/></svg>"
      ],
      "text/plain": [
       "<IPython.core.display.SVG object>"
      ]
     },
     "metadata": {},
     "output_type": "display_data"
    },
    {
     "name": "stdout",
     "output_type": "stream",
     "text": [
      "nose 1.7035017\n"
     ]
    },
    {
     "data": {
      "image/svg+xml": [
       "<svg baseProfile=\"full\" height=\"111.875\" version=\"1.1\" width=\"111.875\" xmlns=\"http://www.w3.org/2000/svg\" xmlns:ev=\"http://www.w3.org/2001/xml-events\" xmlns:xlink=\"http://www.w3.org/1999/xlink\"><defs/><rect fill=\"white\" height=\"111.875\" width=\"111.875\" x=\"0\" y=\"0\"/><path d=\"M25,25.625 m0.0,0.0 l12.5,-0.625 10.0,3.125 l-9.375,-3.125 m-11.875,40.625 l-1.25,-1.875 0.0,2.5 l8.75,-1.25 8.125,-5.0 l-16.875,-3.75 6.25,2.5 l0.0,5.0 12.5,-3.125 m-6.25,11.875 l6.25,9.375 -0.625,5.0 l1.875,0.0 -0.625,-5.0 l6.25,5.0 m19.375,-58.125 l8.125,-3.75 8.75,0.625 m-1.25,38.125 l-1.25,-5.0 2.5,-3.75 l-8.125,2.5 -5.0,4.375 l8.125,2.5 5.0,-1.25 l0.0,2.5 \" fill=\"none\" stroke=\"black\" stroke-width=\"1\"/></svg>"
      ],
      "text/plain": [
       "<IPython.core.display.SVG object>"
      ]
     },
     "metadata": {},
     "output_type": "display_data"
    },
    {
     "name": "stdout",
     "output_type": "stream",
     "text": [
      "nose 3.34833\n"
     ]
    },
    {
     "data": {
      "image/svg+xml": [
       "<svg baseProfile=\"full\" height=\"111.875\" version=\"1.1\" width=\"111.875\" xmlns=\"http://www.w3.org/2000/svg\" xmlns:ev=\"http://www.w3.org/2001/xml-events\" xmlns:xlink=\"http://www.w3.org/1999/xlink\"><defs/><rect fill=\"white\" height=\"111.875\" width=\"111.875\" x=\"0\" y=\"0\"/><path d=\"M25,26.25 m0.0,0.0 l6.875,1.875 m-6.875,30.625 l0.625,0.625 m-0.625,15.0 l0.0,3.75 3.125,3.75 l-0.625,5.0 1.875,0.0 l-0.625,-5.0 6.25,5.0 m19.375,-58.125 l8.125,-3.75 18.125,0.0 l6.25,5.0 m-0.625,31.25 l-8.75,3.125 0.625,-7.5 l-6.875,-1.25 -2.5,3.125 l0.625,3.75 5.625,2.5 l-16.875,-3.125 8.75,-6.25 l20.0,2.5 \" fill=\"none\" stroke=\"black\" stroke-width=\"1\"/></svg>"
      ],
      "text/plain": [
       "<IPython.core.display.SVG object>"
      ]
     },
     "metadata": {},
     "output_type": "display_data"
    },
    {
     "name": "stdout",
     "output_type": "stream",
     "text": [
      "nose 1.0560389\n"
     ]
    },
    {
     "data": {
      "image/svg+xml": [
       "<svg baseProfile=\"full\" height=\"90.0\" version=\"1.1\" width=\"91.25\" xmlns=\"http://www.w3.org/2000/svg\" xmlns:ev=\"http://www.w3.org/2001/xml-events\" xmlns:xlink=\"http://www.w3.org/1999/xlink\"><defs/><rect fill=\"white\" height=\"90.0\" width=\"91.25\" x=\"0\" y=\"0\"/><path d=\"M25,28.75 m0.0,0.0 l8.125,-3.75 18.125,0.0 l11.25,8.75 3.75,11.875 m-6.25,14.375 l-11.875,4.375 0.625,-7.5 l-6.875,-1.25 -2.5,4.375 l3.75,5.0 -13.125,-1.875 l-1.25,-1.25 5.0,-4.375 l6.875,-1.875 -1.25,1.25 l11.875,0.0 10.0,2.5 \" fill=\"none\" stroke=\"black\" stroke-width=\"1\"/></svg>"
      ],
      "text/plain": [
       "<IPython.core.display.SVG object>"
      ]
     },
     "metadata": {},
     "output_type": "display_data"
    },
    {
     "name": "stdout",
     "output_type": "stream",
     "text": [
      "nose 0.6325549\n"
     ]
    },
    {
     "data": {
      "image/svg+xml": [
       "<svg baseProfile=\"full\" height=\"111.875\" version=\"1.1\" width=\"99.375\" xmlns=\"http://www.w3.org/2000/svg\" xmlns:ev=\"http://www.w3.org/2001/xml-events\" xmlns:xlink=\"http://www.w3.org/1999/xlink\"><defs/><rect fill=\"white\" height=\"111.875\" width=\"99.375\" x=\"0\" y=\"0\"/><path d=\"M25,28.125 m0.0,0.0 l6.25,-3.125 18.125,0.0 l11.25,8.75 3.75,11.875 m-6.25,14.375 l-11.875,4.375 0.625,-7.5 l-6.875,-1.25 -2.5,4.375 l3.75,5.0 -13.125,-1.875 l-1.25,-1.25 5.0,-4.375 l6.875,-1.875 -1.25,1.25 l11.875,0.0 10.0,2.5 m14.375,16.875 l-1.25,10.625 1.875,0.0 \" fill=\"none\" stroke=\"black\" stroke-width=\"1\"/></svg>"
      ],
      "text/plain": [
       "<IPython.core.display.SVG object>"
      ]
     },
     "metadata": {},
     "output_type": "display_data"
    },
    {
     "name": "stdout",
     "output_type": "stream",
     "text": [
      "nose 2.1849895\n"
     ]
    },
    {
     "data": {
      "image/svg+xml": [
       "<svg baseProfile=\"full\" height=\"111.875\" version=\"1.1\" width=\"95.0\" xmlns=\"http://www.w3.org/2000/svg\" xmlns:ev=\"http://www.w3.org/2001/xml-events\" xmlns:xlink=\"http://www.w3.org/1999/xlink\"><defs/><rect fill=\"white\" height=\"111.875\" width=\"95.0\" x=\"0\" y=\"0\"/><path d=\"M25,69.375 m0.0,0.0 l5.0,17.5 m4.375,-55.625 l1.875,-6.25 m33.75,20.625 l-6.875,3.75 -1.875,-1.25 l1.25,-6.25 7.5,1.25 l-15.625,-1.875 -1.875,5.625 l3.125,3.125 6.25,-0.625 l-16.875,-0.625 -2.5,-1.875 l3.125,-3.125 7.5,-2.5 m14.375,15.625 l2.5,0.0 0.0,3.75 \" fill=\"none\" stroke=\"black\" stroke-width=\"1\"/></svg>"
      ],
      "text/plain": [
       "<IPython.core.display.SVG object>"
      ]
     },
     "metadata": {},
     "output_type": "display_data"
    },
    {
     "name": "stdout",
     "output_type": "stream",
     "text": [
      "mouth 0.65312207\n"
     ]
    },
    {
     "data": {
      "image/svg+xml": [
       "<svg baseProfile=\"full\" height=\"111.875\" version=\"1.1\" width=\"110.625\" xmlns=\"http://www.w3.org/2000/svg\" xmlns:ev=\"http://www.w3.org/2001/xml-events\" xmlns:xlink=\"http://www.w3.org/1999/xlink\"><defs/><rect fill=\"white\" height=\"111.875\" width=\"110.625\" x=\"0\" y=\"0\"/><path d=\"M25,69.375 m0.0,0.0 l5.0,17.5 m4.375,-55.625 l1.875,-6.25 m26.875,24.375 l8.75,-5.0 1.875,0.625 l-13.125,-3.75 -6.25,0.0 l-1.875,5.625 3.125,3.125 l3.75,0.0 2.5,-1.875 l-0.625,-5.0 0.625,6.25 l-9.375,0.625 -8.75,-1.875 l-1.25,-1.25 3.125,-3.125 l7.5,-2.5 m32.5,35.0 l-9.375,-10.0 -3.125,-0.625 l-5.625,-8.75 6.25,10.0 l0.625,20.0 1.25,-1.875 l10.0,-1.25 \" fill=\"none\" stroke=\"black\" stroke-width=\"1\"/></svg>"
      ],
      "text/plain": [
       "<IPython.core.display.SVG object>"
      ]
     },
     "metadata": {},
     "output_type": "display_data"
    },
    {
     "name": "stdout",
     "output_type": "stream",
     "text": [
      "eye 1.9825642\n"
     ]
    },
    {
     "data": {
      "image/svg+xml": [
       "<svg baseProfile=\"full\" height=\"95.625\" version=\"1.1\" width=\"106.875\" xmlns=\"http://www.w3.org/2000/svg\" xmlns:ev=\"http://www.w3.org/2001/xml-events\" xmlns:xlink=\"http://www.w3.org/1999/xlink\"><defs/><rect fill=\"white\" height=\"95.625\" width=\"106.875\" x=\"0\" y=\"0\"/><path d=\"M45.625,33.125 m0.0,0.0 l8.75,-5.0 1.875,0.625 l-13.125,-3.75 -6.25,0.0 l-1.875,5.625 3.125,3.125 l3.75,0.0 2.5,-1.875 l-0.625,-5.0 0.625,6.25 l-9.375,0.625 -8.75,-1.875 l-1.25,-1.25 3.125,-3.125 l7.5,-2.5 m46.25,40.625 l-0.625,-1.875 -8.75,0.0 l-6.875,-5.0 -6.875,-8.75 l-3.125,-0.625 -4.375,-8.75 l5.0,10.0 0.625,20.0 l1.25,-1.875 20.0,-3.125 \" fill=\"none\" stroke=\"black\" stroke-width=\"1\"/></svg>"
      ],
      "text/plain": [
       "<IPython.core.display.SVG object>"
      ]
     },
     "metadata": {},
     "output_type": "display_data"
    },
    {
     "name": "stdout",
     "output_type": "stream",
     "text": [
      "mouth 3.0677903\n"
     ]
    },
    {
     "data": {
      "image/svg+xml": [
       "<svg baseProfile=\"full\" height=\"97.5\" version=\"1.1\" width=\"111.875\" xmlns=\"http://www.w3.org/2000/svg\" xmlns:ev=\"http://www.w3.org/2001/xml-events\" xmlns:xlink=\"http://www.w3.org/1999/xlink\"><defs/><rect fill=\"white\" height=\"97.5\" width=\"111.875\" x=\"0\" y=\"0\"/><path d=\"M26.25,35.625 m0.0,0.0 l-1.25,-1.875 0.0,2.5 l8.75,-1.25 8.125,-5.0 l-16.875,-3.75 6.25,2.5 l0.0,5.0 12.5,-3.125 m25.625,36.875 l-0.625,-1.875 -8.75,0.0 l-6.875,-5.0 -6.875,-8.75 l-3.125,-0.625 -4.375,-8.75 l5.0,10.0 0.625,20.0 l1.25,-1.875 20.0,-3.125 m20.0,-33.75 l-1.25,-5.0 2.5,-3.75 l-8.125,2.5 -5.0,4.375 l8.125,2.5 5.0,-1.25 l0.0,2.5 \" fill=\"none\" stroke=\"black\" stroke-width=\"1\"/></svg>"
      ],
      "text/plain": [
       "<IPython.core.display.SVG object>"
      ]
     },
     "metadata": {},
     "output_type": "display_data"
    },
    {
     "name": "stdout",
     "output_type": "stream",
     "text": [
      "nose 5.1990485\n"
     ]
    },
    {
     "data": {
      "image/svg+xml": [
       "<svg baseProfile=\"full\" height=\"96.875\" version=\"1.1\" width=\"111.875\" xmlns=\"http://www.w3.org/2000/svg\" xmlns:ev=\"http://www.w3.org/2001/xml-events\" xmlns:xlink=\"http://www.w3.org/1999/xlink\"><defs/><rect fill=\"white\" height=\"96.875\" width=\"111.875\" x=\"0\" y=\"0\"/><path d=\"M25,28.125 m0.0,0.0 l0.625,0.625 m3.75,43.125 l0.0,-1.875 20.0,-2.5 l3.75,-2.5 1.25,1.25 l-11.25,-1.875 -12.5,-13.125 l-3.125,-0.625 -2.5,-6.875 l0.0,3.75 3.125,4.375 l1.25,17.5 m56.875,-38.75 l-8.75,3.125 0.625,-7.5 l-6.875,-1.25 -2.5,3.125 l0.625,3.75 5.625,2.5 l-16.875,-3.125 8.75,-6.25 l20.0,2.5 \" fill=\"none\" stroke=\"black\" stroke-width=\"1\"/></svg>"
      ],
      "text/plain": [
       "<IPython.core.display.SVG object>"
      ]
     },
     "metadata": {},
     "output_type": "display_data"
    },
    {
     "name": "stdout",
     "output_type": "stream",
     "text": [
      "mouth 1.9494053\n"
     ]
    },
    {
     "data": {
      "image/svg+xml": [
       "<svg baseProfile=\"full\" height=\"111.875\" version=\"1.1\" width=\"111.875\" xmlns=\"http://www.w3.org/2000/svg\" xmlns:ev=\"http://www.w3.org/2001/xml-events\" xmlns:xlink=\"http://www.w3.org/1999/xlink\"><defs/><rect fill=\"white\" height=\"111.875\" width=\"111.875\" x=\"0\" y=\"0\"/><path d=\"M38.125,81.875 m0.0,0.0 l-0.625,-1.875 -8.75,0.0 l-3.75,-3.75 9.375,5.625 l-9.375,1.875 m48.75,-39.375 l-11.875,4.375 0.625,-7.5 l-6.875,-1.25 -2.5,4.375 l3.75,5.0 -13.125,-1.875 l-1.25,-1.25 5.0,-4.375 l6.875,-1.875 -1.25,1.25 l11.875,0.0 10.0,2.5 m4.375,-18.75 l0.625,5.0 m6.875,51.875 l0.0,5.0 \" fill=\"none\" stroke=\"black\" stroke-width=\"1\"/></svg>"
      ],
      "text/plain": [
       "<IPython.core.display.SVG object>"
      ]
     },
     "metadata": {},
     "output_type": "display_data"
    },
    {
     "name": "stdout",
     "output_type": "stream",
     "text": [
      "mouth 2.55548\n"
     ]
    },
    {
     "data": {
      "image/svg+xml": [
       "<svg baseProfile=\"full\" height=\"111.875\" version=\"1.1\" width=\"96.875\" xmlns=\"http://www.w3.org/2000/svg\" xmlns:ev=\"http://www.w3.org/2001/xml-events\" xmlns:xlink=\"http://www.w3.org/1999/xlink\"><defs/><rect fill=\"white\" height=\"111.875\" width=\"96.875\" x=\"0\" y=\"0\"/><path d=\"M56.25,44.375 m0.0,0.0 l-11.875,4.375 0.625,-7.5 l-6.875,-1.25 -2.5,4.375 l3.75,5.0 -13.125,-1.875 l-1.25,-1.25 5.0,-4.375 l6.875,-1.875 -1.25,1.25 l11.875,0.0 10.0,2.5 m4.375,-18.75 l0.625,5.0 m9.375,30.625 l-1.875,26.25 \" fill=\"none\" stroke=\"black\" stroke-width=\"1\"/></svg>"
      ],
      "text/plain": [
       "<IPython.core.display.SVG object>"
      ]
     },
     "metadata": {},
     "output_type": "display_data"
    },
    {
     "name": "stdout",
     "output_type": "stream",
     "text": [
      "mouth 1.6021763\n"
     ]
    },
    {
     "data": {
      "image/svg+xml": [
       "<svg baseProfile=\"full\" height=\"111.875\" version=\"1.1\" width=\"95.0\" xmlns=\"http://www.w3.org/2000/svg\" xmlns:ev=\"http://www.w3.org/2001/xml-events\" xmlns:xlink=\"http://www.w3.org/1999/xlink\"><defs/><rect fill=\"white\" height=\"111.875\" width=\"95.0\" x=\"0\" y=\"0\"/><path d=\"M25,53.75 m0.0,0.0 l10.625,33.125 m17.5,-61.875 l-2.5,0.0 -8.125,6.25 l10.0,3.125 1.875,-1.25 l-1.875,-1.875 1.25,-6.25 l16.25,2.5 -8.75,0.0 l0.625,6.25 6.875,-1.875 l1.25,-1.875 -10.625,4.375 l-4.375,-0.625 m12.5,7.5 l2.5,0.0 0.0,3.75 \" fill=\"none\" stroke=\"black\" stroke-width=\"1\"/></svg>"
      ],
      "text/plain": [
       "<IPython.core.display.SVG object>"
      ]
     },
     "metadata": {},
     "output_type": "display_data"
    },
    {
     "name": "stdout",
     "output_type": "stream",
     "text": [
      "mouth 1.7749461\n"
     ]
    },
    {
     "data": {
      "image/svg+xml": [
       "<svg baseProfile=\"full\" height=\"111.875\" version=\"1.1\" width=\"110.625\" xmlns=\"http://www.w3.org/2000/svg\" xmlns:ev=\"http://www.w3.org/2001/xml-events\" xmlns:xlink=\"http://www.w3.org/1999/xlink\"><defs/><rect fill=\"white\" height=\"111.875\" width=\"110.625\" x=\"0\" y=\"0\"/><path d=\"M25,53.75 m0.0,0.0 l10.625,33.125 m18.125,-54.375 l0.0,-7.5 -3.125,0.0 l-8.125,6.25 1.25,1.25 l15.625,1.875 14.375,-5.0 l-11.875,-2.5 -1.25,-1.875 l-6.25,0.0 6.875,2.5 l0.0,4.375 m24.375,28.75 l-9.375,-10.0 -3.125,-0.625 l-5.625,-8.75 6.25,10.0 l0.625,20.0 1.25,-1.875 l10.0,-1.25 m-14.375,18.75 l8.75,-5.625 5.625,1.875 \" fill=\"none\" stroke=\"black\" stroke-width=\"1\"/></svg>"
      ],
      "text/plain": [
       "<IPython.core.display.SVG object>"
      ]
     },
     "metadata": {},
     "output_type": "display_data"
    },
    {
     "name": "stdout",
     "output_type": "stream",
     "text": [
      "mouth 4.7468586\n"
     ]
    },
    {
     "data": {
      "image/svg+xml": [
       "<svg baseProfile=\"full\" height=\"111.875\" version=\"1.1\" width=\"108.75\" xmlns=\"http://www.w3.org/2000/svg\" xmlns:ev=\"http://www.w3.org/2001/xml-events\" xmlns:xlink=\"http://www.w3.org/1999/xlink\"><defs/><rect fill=\"white\" height=\"111.875\" width=\"108.75\" x=\"0\" y=\"0\"/><path d=\"M36.25,32.5 m0.0,0.0 l0.0,-7.5 -3.125,0.0 l-8.125,6.25 1.25,1.25 l15.625,1.875 14.375,-5.0 l-11.875,-2.5 -1.25,-1.875 l-6.25,0.0 6.875,2.5 l0.0,4.375 m37.5,32.5 l0.625,1.875 -10.625,-2.5 l-12.5,-13.125 -3.125,-0.625 l-5.625,-8.75 6.25,10.0 l0.625,20.0 1.25,-1.875 l20.0,-3.125 m-24.375,20.625 l8.75,-5.625 7.5,2.5 l13.75,-0.625 \" fill=\"none\" stroke=\"black\" stroke-width=\"1\"/></svg>"
      ],
      "text/plain": [
       "<IPython.core.display.SVG object>"
      ]
     },
     "metadata": {},
     "output_type": "display_data"
    },
    {
     "name": "stdout",
     "output_type": "stream",
     "text": [
      "mouth 5.4555893\n"
     ]
    },
    {
     "data": {
      "image/svg+xml": [
       "<svg baseProfile=\"full\" height=\"111.875\" version=\"1.1\" width=\"111.875\" xmlns=\"http://www.w3.org/2000/svg\" xmlns:ev=\"http://www.w3.org/2001/xml-events\" xmlns:xlink=\"http://www.w3.org/1999/xlink\"><defs/><rect fill=\"white\" height=\"111.875\" width=\"111.875\" x=\"0\" y=\"0\"/><path d=\"M31.875,33.75 m0.0,0.0 l-0.625,-1.875 2.5,1.875 l8.125,-5.0 1.875,0.625 l-11.875,-2.5 -1.25,-1.875 l-5.625,0.0 6.875,3.75 l-2.5,5.625 -4.375,0.0 l0.0,-1.875 0.0,2.5 m43.75,29.375 l0.625,1.875 -10.625,-2.5 l-12.5,-13.125 -3.125,-0.625 l-5.625,-8.75 6.25,10.0 l0.625,20.0 1.25,-1.875 l20.0,-3.125 m-24.375,20.625 l8.75,-5.625 7.5,2.5 l10.0,0.0 10.625,-3.75 l5.625,0.625 3.125,2.5 l0.0,3.125 -19.375,0.625 m19.375,-61.875 l-2.5,2.5 2.5,6.875 l-13.125,-3.75 6.875,-5.625 l3.75,0.625 \" fill=\"none\" stroke=\"black\" stroke-width=\"1\"/></svg>"
      ],
      "text/plain": [
       "<IPython.core.display.SVG object>"
      ]
     },
     "metadata": {},
     "output_type": "display_data"
    },
    {
     "name": "stdout",
     "output_type": "stream",
     "text": [
      "nose 2.9141235\n"
     ]
    },
    {
     "data": {
      "image/svg+xml": [
       "<svg baseProfile=\"full\" height=\"111.875\" version=\"1.1\" width=\"111.875\" xmlns=\"http://www.w3.org/2000/svg\" xmlns:ev=\"http://www.w3.org/2001/xml-events\" xmlns:xlink=\"http://www.w3.org/1999/xlink\"><defs/><rect fill=\"white\" height=\"111.875\" width=\"111.875\" x=\"0\" y=\"0\"/><path d=\"M25,27.5 m0.0,0.0 l0.625,0.625 m24.375,36.875 l-5.625,-0.625 -6.875,-5.0 l-6.875,-8.75 -3.125,-0.625 l-2.5,-6.875 0.0,3.75 l3.125,4.375 0.625,20.0 l1.25,-1.875 19.375,-2.5 l3.75,-2.5 1.25,1.25 m-28.75,21.25 l8.75,-5.625 7.5,2.5 l10.0,0.0 10.625,-3.75 l4.375,0.0 10.625,6.875 l-25.625,0.0 m33.75,-56.25 l-8.125,2.5 0.625,-8.125 l-8.125,0.0 -1.25,2.5 l1.25,5.0 5.0,1.25 l-16.875,-3.125 6.875,-5.625 l15.625,0.0 6.25,1.875 \" fill=\"none\" stroke=\"black\" stroke-width=\"1\"/></svg>"
      ],
      "text/plain": [
       "<IPython.core.display.SVG object>"
      ]
     },
     "metadata": {},
     "output_type": "display_data"
    },
    {
     "name": "stdout",
     "output_type": "stream",
     "text": [
      "mouth 1.5224448\n"
     ]
    },
    {
     "data": {
      "image/svg+xml": [
       "<svg baseProfile=\"full\" height=\"111.875\" version=\"1.1\" width=\"111.875\" xmlns=\"http://www.w3.org/2000/svg\" xmlns:ev=\"http://www.w3.org/2001/xml-events\" xmlns:xlink=\"http://www.w3.org/1999/xlink\"><defs/><rect fill=\"white\" height=\"111.875\" width=\"111.875\" x=\"0\" y=\"0\"/><path d=\"M38.125,66.25 m0.0,0.0 l-0.625,-1.875 -8.75,0.0 l-3.75,-3.75 9.375,5.625 l-9.375,1.875 m0.0,14.375 l11.25,1.25 15.0,-3.75 l10.625,6.875 -25.625,0.0 m36.875,-57.5 l-11.25,3.75 0.625,-8.125 l-8.125,0.0 -0.625,6.25 l3.125,2.5 -13.125,-1.875 l-1.25,-1.25 3.125,-3.125 l3.75,-2.5 15.625,0.0 l10.0,3.125 m9.375,58.75 l2.5,-6.875 0.0,-13.125 \" fill=\"none\" stroke=\"black\" stroke-width=\"1\"/></svg>"
      ],
      "text/plain": [
       "<IPython.core.display.SVG object>"
      ]
     },
     "metadata": {},
     "output_type": "display_data"
    },
    {
     "name": "stdout",
     "output_type": "stream",
     "text": [
      "nose 5.6242805\n"
     ]
    },
    {
     "data": {
      "image/svg+xml": [
       "<svg baseProfile=\"full\" height=\"111.875\" version=\"1.1\" width=\"98.75\" xmlns=\"http://www.w3.org/2000/svg\" xmlns:ev=\"http://www.w3.org/2001/xml-events\" xmlns:xlink=\"http://www.w3.org/1999/xlink\"><defs/><rect fill=\"white\" height=\"111.875\" width=\"98.75\" x=\"0\" y=\"0\"/><path d=\"M25,82.5 m0.0,0.0 l10.625,-2.5 10.625,6.875 l-20.625,0.0 m31.875,-57.5 l-11.25,3.75 0.625,-8.125 l-8.125,0.0 -0.625,6.25 l3.125,2.5 -13.125,-1.875 l-1.25,-1.25 3.125,-3.125 l3.75,-2.5 15.625,0.0 l10.0,3.125 m9.375,58.75 l5.0,-41.25 \" fill=\"none\" stroke=\"black\" stroke-width=\"1\"/></svg>"
      ],
      "text/plain": [
       "<IPython.core.display.SVG object>"
      ]
     },
     "metadata": {},
     "output_type": "display_data"
    },
    {
     "name": "stdout",
     "output_type": "stream",
     "text": [
      "nose 7.3609447\n"
     ]
    },
    {
     "data": {
      "image/svg+xml": [
       "<svg baseProfile=\"full\" height=\"111.25\" version=\"1.1\" width=\"95.0\" xmlns=\"http://www.w3.org/2000/svg\" xmlns:ev=\"http://www.w3.org/2001/xml-events\" xmlns:xlink=\"http://www.w3.org/1999/xlink\"><defs/><rect fill=\"white\" height=\"111.25\" width=\"95.0\" x=\"0\" y=\"0\"/><path d=\"M25,37.5 m0.0,0.0 l11.875,40.0 5.625,8.75 m25.0,-61.25 l2.5,0.0 0.0,3.75 m0.0,42.5 l0.0,4.375 \" fill=\"none\" stroke=\"black\" stroke-width=\"1\"/></svg>"
      ],
      "text/plain": [
       "<IPython.core.display.SVG object>"
      ]
     },
     "metadata": {},
     "output_type": "display_data"
    },
    {
     "name": "stdout",
     "output_type": "stream",
     "text": [
      "nose 3.862598\n"
     ]
    },
    {
     "data": {
      "image/svg+xml": [
       "<svg baseProfile=\"full\" height=\"111.875\" version=\"1.1\" width=\"110.625\" xmlns=\"http://www.w3.org/2000/svg\" xmlns:ev=\"http://www.w3.org/2001/xml-events\" xmlns:xlink=\"http://www.w3.org/1999/xlink\"><defs/><rect fill=\"white\" height=\"111.875\" width=\"110.625\" x=\"0\" y=\"0\"/><path d=\"M25,38.125 m0.0,0.0 l11.875,40.0 5.625,8.75 m43.125,-41.875 l-9.375,-10.0 -3.125,-0.625 l-5.625,-8.75 1.25,-0.625 l5.0,10.625 0.625,20.0 l1.25,-1.875 10.0,-1.25 m0.0,30.625 l-10.625,-3.75 -5.625,-4.375 l10.625,-9.375 5.625,1.875 l-14.375,5.625 14.375,-0.625 \" fill=\"none\" stroke=\"black\" stroke-width=\"1\"/></svg>"
      ],
      "text/plain": [
       "<IPython.core.display.SVG object>"
      ]
     },
     "metadata": {},
     "output_type": "display_data"
    },
    {
     "name": "stdout",
     "output_type": "stream",
     "text": [
      "nose 3.238718\n"
     ]
    },
    {
     "data": {
      "image/svg+xml": [
       "<svg baseProfile=\"full\" height=\"111.875\" version=\"1.1\" width=\"111.875\" xmlns=\"http://www.w3.org/2000/svg\" xmlns:ev=\"http://www.w3.org/2001/xml-events\" xmlns:xlink=\"http://www.w3.org/1999/xlink\"><defs/><rect fill=\"white\" height=\"111.875\" width=\"111.875\" x=\"0\" y=\"0\"/><path d=\"M25,80.625 m0.0,0.0 l3.75,6.25 m56.25,-36.25 l-0.625,-1.875 -8.75,0.0 l-6.875,-5.0 -6.875,-8.75 l-3.125,-0.625 -5.625,-8.75 l1.25,-0.625 5.0,10.625 l0.625,20.0 1.25,-1.875 l20.0,-3.125 m5.625,35.0 l-16.875,-1.875 -15.0,-8.75 l10.625,-9.375 7.5,2.5 l13.75,-0.625 -29.375,6.25 l29.375,-1.25 \" fill=\"none\" stroke=\"black\" stroke-width=\"1\"/></svg>"
      ],
      "text/plain": [
       "<IPython.core.display.SVG object>"
      ]
     },
     "metadata": {},
     "output_type": "display_data"
    },
    {
     "name": "stdout",
     "output_type": "stream",
     "text": [
      "mouth 4.626226\n"
     ]
    },
    {
     "data": {
      "image/svg+xml": [
       "<svg baseProfile=\"full\" height=\"110.0\" version=\"1.1\" width=\"99.375\" xmlns=\"http://www.w3.org/2000/svg\" xmlns:ev=\"http://www.w3.org/2001/xml-events\" xmlns:xlink=\"http://www.w3.org/1999/xlink\"><defs/><rect fill=\"white\" height=\"110.0\" width=\"99.375\" x=\"0\" y=\"0\"/><path d=\"M56.875,50.625 m0.0,0.0 l-0.625,-1.875 -8.75,0.0 l-6.875,-5.0 -6.875,-8.75 l-3.125,-0.625 -5.625,-8.75 l1.25,-0.625 5.0,10.625 l0.625,20.0 1.25,-1.875 l20.0,-3.125 m20.625,29.375 l0.625,-1.875 -3.75,5.0 l-6.25,1.875 -17.5,0.0 l-14.375,-5.625 -5.625,-5.0 l10.625,-8.75 7.5,2.5 l10.0,0.0 15.0,-3.75 l4.375,4.375 -45.0,5.0 l45.0,-3.125 \" fill=\"none\" stroke=\"black\" stroke-width=\"1\"/></svg>"
      ],
      "text/plain": [
       "<IPython.core.display.SVG object>"
      ]
     },
     "metadata": {},
     "output_type": "display_data"
    },
    {
     "name": "stdout",
     "output_type": "stream",
     "text": [
      "mouth 2.6683388\n"
     ]
    },
    {
     "data": {
      "image/svg+xml": [
       "<svg baseProfile=\"full\" height=\"107.5\" version=\"1.1\" width=\"101.875\" xmlns=\"http://www.w3.org/2000/svg\" xmlns:ev=\"http://www.w3.org/2001/xml-events\" xmlns:xlink=\"http://www.w3.org/1999/xlink\"><defs/><rect fill=\"white\" height=\"107.5\" width=\"101.875\" x=\"0\" y=\"0\"/><path d=\"M50.0,46.875 m0.0,0.0 l-5.625,-0.625 -6.875,-5.0 l-6.875,-8.75 -3.125,-0.625 l-2.5,-6.875 0.0,3.75 l3.125,4.375 0.625,20.0 l1.25,-1.875 19.375,-2.5 l3.75,-2.5 1.25,1.25 m16.875,20.625 l-36.875,3.125 -8.125,0.0 l-1.25,-1.875 9.375,-6.25 l7.5,2.5 10.0,0.0 l15.0,-3.75 6.25,5.0 l-1.25,1.25 3.75,-0.625 l1.25,1.875 -9.375,11.25 l-6.25,1.875 -17.5,0.0 l-14.375,-5.625 -4.375,-5.625 l0.0,2.5 \" fill=\"none\" stroke=\"black\" stroke-width=\"1\"/></svg>"
      ],
      "text/plain": [
       "<IPython.core.display.SVG object>"
      ]
     },
     "metadata": {},
     "output_type": "display_data"
    },
    {
     "name": "stdout",
     "output_type": "stream",
     "text": [
      "mouth 0.7120241\n"
     ]
    },
    {
     "data": {
      "image/svg+xml": [
       "<svg baseProfile=\"full\" height=\"91.875\" version=\"1.1\" width=\"111.875\" xmlns=\"http://www.w3.org/2000/svg\" xmlns:ev=\"http://www.w3.org/2001/xml-events\" xmlns:xlink=\"http://www.w3.org/1999/xlink\"><defs/><rect fill=\"white\" height=\"91.875\" width=\"111.875\" x=\"0\" y=\"0\"/><path d=\"M38.125,30.625 m0.0,0.0 l-0.625,-1.875 -8.75,0.0 l-3.75,-3.75 9.375,5.625 l-9.375,1.875 m0.0,30.625 l3.125,1.875 20.625,-0.625 l3.125,-1.25 9.375,-11.25 l-8.75,-6.875 -5.625,-0.625 l-10.625,3.75 -11.25,-0.625 l31.25,3.125 -31.25,2.5 m61.875,-22.5 l0.0,13.75 -8.125,22.5 \" fill=\"none\" stroke=\"black\" stroke-width=\"1\"/></svg>"
      ],
      "text/plain": [
       "<IPython.core.display.SVG object>"
      ]
     },
     "metadata": {},
     "output_type": "display_data"
    },
    {
     "name": "stdout",
     "output_type": "stream",
     "text": [
      "nose 4.829839\n"
     ]
    },
    {
     "data": {
      "image/svg+xml": [
       "<svg baseProfile=\"full\" height=\"107.5\" version=\"1.1\" width=\"98.75\" xmlns=\"http://www.w3.org/2000/svg\" xmlns:ev=\"http://www.w3.org/2001/xml-events\" xmlns:xlink=\"http://www.w3.org/1999/xlink\"><defs/><rect fill=\"white\" height=\"107.5\" width=\"98.75\" x=\"0\" y=\"0\"/><path d=\"M26.25,80.625 m0.0,0.0 l10.0,-1.875 9.375,-11.875 l-10.0,-6.875 -4.375,0.0 l-6.25,2.5 16.25,3.125 l-16.25,1.875 m37.5,15.0 l3.125,-3.75 4.375,-14.375 l3.75,-39.375 \" fill=\"none\" stroke=\"black\" stroke-width=\"1\"/></svg>"
      ],
      "text/plain": [
       "<IPython.core.display.SVG object>"
      ]
     },
     "metadata": {},
     "output_type": "display_data"
    },
    {
     "name": "stdout",
     "output_type": "stream",
     "text": [
      "nose 9.033138\n"
     ]
    },
    {
     "data": {
      "image/svg+xml": [
       "<svg baseProfile=\"full\" height=\"111.875\" version=\"1.1\" width=\"93.75\" xmlns=\"http://www.w3.org/2000/svg\" xmlns:ev=\"http://www.w3.org/2001/xml-events\" xmlns:xlink=\"http://www.w3.org/1999/xlink\"><defs/><rect fill=\"white\" height=\"111.875\" width=\"93.75\" x=\"0\" y=\"0\"/><path d=\"M25,25 m0.0,0.0 l0.625,6.875 10.0,30.625 l9.375,14.375 6.25,6.25 l8.75,3.75 m8.75,-30.625 l0.0,4.375 \" fill=\"none\" stroke=\"black\" stroke-width=\"1\"/></svg>"
      ],
      "text/plain": [
       "<IPython.core.display.SVG object>"
      ]
     },
     "metadata": {},
     "output_type": "display_data"
    },
    {
     "name": "stdout",
     "output_type": "stream",
     "text": [
      "nose 3.2339702\n"
     ]
    },
    {
     "data": {
      "image/svg+xml": [
       "<svg baseProfile=\"full\" height=\"111.875\" version=\"1.1\" width=\"109.375\" xmlns=\"http://www.w3.org/2000/svg\" xmlns:ev=\"http://www.w3.org/2001/xml-events\" xmlns:xlink=\"http://www.w3.org/1999/xlink\"><defs/><rect fill=\"white\" height=\"111.875\" width=\"109.375\" x=\"0\" y=\"0\"/><path d=\"M25,25 m0.0,0.0 l0.625,6.875 10.0,30.625 l9.375,14.375 6.25,6.25 l8.75,3.75 m24.375,-19.375 l-10.625,-3.75 -5.625,-4.375 l10.625,-9.375 5.625,1.875 l-14.375,5.625 14.375,-0.625 m-11.875,-31.25 l1.25,-0.625 -0.625,15.0 l1.25,-1.875 10.0,-1.25 m-5.625,-11.875 l5.625,5.625 \" fill=\"none\" stroke=\"black\" stroke-width=\"1\"/></svg>"
      ],
      "text/plain": [
       "<IPython.core.display.SVG object>"
      ]
     },
     "metadata": {},
     "output_type": "display_data"
    },
    {
     "name": "stdout",
     "output_type": "stream",
     "text": [
      "mouth 3.6232998\n"
     ]
    },
    {
     "data": {
      "image/svg+xml": [
       "<svg baseProfile=\"full\" height=\"111.875\" version=\"1.1\" width=\"111.875\" xmlns=\"http://www.w3.org/2000/svg\" xmlns:ev=\"http://www.w3.org/2001/xml-events\" xmlns:xlink=\"http://www.w3.org/1999/xlink\"><defs/><rect fill=\"white\" height=\"111.875\" width=\"111.875\" x=\"0\" y=\"0\"/><path d=\"M25,65.0 m0.0,0.0 l6.875,11.875 6.25,6.25 l8.75,3.75 m40.0,-16.875 l-16.875,-1.875 -15.0,-8.75 l10.625,-9.375 7.5,2.5 l13.75,-0.625 -29.375,6.25 l29.375,-1.25 m-27.5,-31.25 l1.25,-0.625 -0.625,15.0 l1.25,-1.875 19.375,-2.5 l3.75,-2.5 1.25,1.25 l-10.0,-1.25 -9.375,-8.125 \" fill=\"none\" stroke=\"black\" stroke-width=\"1\"/></svg>"
      ],
      "text/plain": [
       "<IPython.core.display.SVG object>"
      ]
     },
     "metadata": {},
     "output_type": "display_data"
    },
    {
     "name": "stdout",
     "output_type": "stream",
     "text": [
      "mouth 5.4937725\n"
     ]
    },
    {
     "data": {
      "image/svg+xml": [
       "<svg baseProfile=\"full\" height=\"111.875\" version=\"1.1\" width=\"111.875\" xmlns=\"http://www.w3.org/2000/svg\" xmlns:ev=\"http://www.w3.org/2001/xml-events\" xmlns:xlink=\"http://www.w3.org/1999/xlink\"><defs/><rect fill=\"white\" height=\"111.875\" width=\"111.875\" x=\"0\" y=\"0\"/><path d=\"M25,83.75 m0.0,0.0 l6.25,3.125 m55.0,-22.5 l0.625,-1.875 -3.75,5.0 l-6.25,1.875 -17.5,0.0 l-14.375,-5.625 -5.625,-5.0 l10.625,-8.75 7.5,2.5 l10.0,0.0 15.0,-3.75 l4.375,4.375 -45.0,5.0 l45.0,-3.125 m-43.125,-29.375 l1.25,-0.625 -0.625,15.0 l1.25,-1.875 19.375,-2.5 l3.75,-2.5 1.25,1.25 l-10.0,-1.25 -9.375,-8.125 \" fill=\"none\" stroke=\"black\" stroke-width=\"1\"/></svg>"
      ],
      "text/plain": [
       "<IPython.core.display.SVG object>"
      ]
     },
     "metadata": {},
     "output_type": "display_data"
    },
    {
     "name": "stdout",
     "output_type": "stream",
     "text": [
      "mouth 7.606862\n"
     ]
    },
    {
     "data": {
      "image/svg+xml": [
       "<svg baseProfile=\"full\" height=\"111.875\" version=\"1.1\" width=\"111.875\" xmlns=\"http://www.w3.org/2000/svg\" xmlns:ev=\"http://www.w3.org/2001/xml-events\" xmlns:xlink=\"http://www.w3.org/1999/xlink\"><defs/><rect fill=\"white\" height=\"111.875\" width=\"111.875\" x=\"0\" y=\"0\"/><path d=\"M71.25,55.0 m0.0,0.0 l-36.875,3.125 -8.125,0.0 l-1.25,-1.875 9.375,-6.25 l7.5,2.5 10.0,0.0 l15.0,-3.75 6.25,5.0 l-1.25,1.25 3.75,-0.625 l1.25,1.875 -9.375,11.25 l-6.25,1.875 -17.5,0.0 l-14.375,-5.625 -4.375,-5.625 l0.0,2.5 m3.125,-35.0 l1.25,-0.625 -0.625,15.0 l1.25,-1.875 19.375,-2.5 l3.75,-2.5 1.25,1.25 l-10.0,-1.25 -9.375,-8.125 m39.375,61.875 l4.375,0.0 8.125,-5.625 \" fill=\"none\" stroke=\"black\" stroke-width=\"1\"/></svg>"
      ],
      "text/plain": [
       "<IPython.core.display.SVG object>"
      ]
     },
     "metadata": {},
     "output_type": "display_data"
    },
    {
     "name": "stdout",
     "output_type": "stream",
     "text": [
      "mouth 2.3144035\n"
     ]
    },
    {
     "data": {
      "image/svg+xml": [
       "<svg baseProfile=\"full\" height=\"107.5\" version=\"1.1\" width=\"111.875\" xmlns=\"http://www.w3.org/2000/svg\" xmlns:ev=\"http://www.w3.org/2001/xml-events\" xmlns:xlink=\"http://www.w3.org/1999/xlink\"><defs/><rect fill=\"white\" height=\"107.5\" width=\"111.875\" x=\"0\" y=\"0\"/><path d=\"M38.125,30.625 m0.0,0.0 l-0.625,-1.875 -8.75,0.0 l-3.75,-3.75 9.375,5.625 l-9.375,1.875 m0.0,30.625 l3.125,1.875 20.625,-0.625 l3.125,-1.25 9.375,-11.25 l-8.75,-6.875 -5.625,-0.625 l-10.625,3.75 -11.25,-0.625 l31.25,3.125 -31.25,2.5 m33.75,29.375 l8.125,-1.875 11.875,-12.5 l8.125,-23.75 0.0,-13.125 \" fill=\"none\" stroke=\"black\" stroke-width=\"1\"/></svg>"
      ],
      "text/plain": [
       "<IPython.core.display.SVG object>"
      ]
     },
     "metadata": {},
     "output_type": "display_data"
    },
    {
     "name": "stdout",
     "output_type": "stream",
     "text": [
      "nose 3.5528688\n"
     ]
    },
    {
     "data": {
      "image/svg+xml": [
       "<svg baseProfile=\"full\" height=\"111.875\" version=\"1.1\" width=\"97.5\" xmlns=\"http://www.w3.org/2000/svg\" xmlns:ev=\"http://www.w3.org/2001/xml-events\" xmlns:xlink=\"http://www.w3.org/1999/xlink\"><defs/><rect fill=\"white\" height=\"111.875\" width=\"97.5\" x=\"0\" y=\"0\"/><path d=\"M26.25,69.375 m0.0,0.0 l10.0,-1.875 9.375,-11.875 l-10.0,-6.875 -4.375,0.0 l-6.25,2.5 16.25,3.125 l-16.25,1.875 m18.125,30.625 l8.125,-1.875 7.5,-6.25 l6.875,-11.25 4.375,-14.375 l2.5,-28.125 \" fill=\"none\" stroke=\"black\" stroke-width=\"1\"/></svg>"
      ],
      "text/plain": [
       "<IPython.core.display.SVG object>"
      ]
     },
     "metadata": {},
     "output_type": "display_data"
    },
    {
     "name": "stdout",
     "output_type": "stream",
     "text": [
      "nose 9.192674\n"
     ]
    },
    {
     "data": {
      "image/svg+xml": [
       "<svg baseProfile=\"full\" height=\"99.375\" version=\"1.1\" width=\"89.375\" xmlns=\"http://www.w3.org/2000/svg\" xmlns:ev=\"http://www.w3.org/2001/xml-events\" xmlns:xlink=\"http://www.w3.org/1999/xlink\"><defs/><rect fill=\"white\" height=\"99.375\" width=\"89.375\" x=\"0\" y=\"0\"/><path d=\"M25,25 m0.0,0.0 l6.25,21.875 6.25,10.625 l11.25,11.25 15.625,5.625 m0.0,-33.75 l0.0,4.375 \" fill=\"none\" stroke=\"black\" stroke-width=\"1\"/></svg>"
      ],
      "text/plain": [
       "<IPython.core.display.SVG object>"
      ]
     },
     "metadata": {},
     "output_type": "display_data"
    },
    {
     "name": "stdout",
     "output_type": "stream",
     "text": [
      "nose 8.024394\n"
     ]
    },
    {
     "data": {
      "image/svg+xml": [
       "<svg baseProfile=\"full\" height=\"100.625\" version=\"1.1\" width=\"105.0\" xmlns=\"http://www.w3.org/2000/svg\" xmlns:ev=\"http://www.w3.org/2001/xml-events\" xmlns:xlink=\"http://www.w3.org/1999/xlink\"><defs/><rect fill=\"white\" height=\"100.625\" width=\"105.0\" x=\"0\" y=\"0\"/><path d=\"M25,25 m0.0,0.0 l6.25,21.875 6.25,10.625 l9.375,10.0 15.0,6.875 l18.125,1.25 m0.0,-23.75 l-10.625,-3.75 -5.625,-4.375 l10.625,-9.375 5.625,1.875 l-14.375,5.625 14.375,-0.625 \" fill=\"none\" stroke=\"black\" stroke-width=\"1\"/></svg>"
      ],
      "text/plain": [
       "<IPython.core.display.SVG object>"
      ]
     },
     "metadata": {},
     "output_type": "display_data"
    },
    {
     "name": "stdout",
     "output_type": "stream",
     "text": [
      "nose 2.3885593\n"
     ]
    },
    {
     "data": {
      "image/svg+xml": [
       "<svg baseProfile=\"full\" height=\"91.25\" version=\"1.1\" width=\"111.875\" xmlns=\"http://www.w3.org/2000/svg\" xmlns:ev=\"http://www.w3.org/2001/xml-events\" xmlns:xlink=\"http://www.w3.org/1999/xlink\"><defs/><rect fill=\"white\" height=\"91.25\" width=\"111.875\" x=\"0\" y=\"0\"/><path d=\"M25,40.0 m0.0,0.0 l6.875,11.875 6.25,6.25 l9.375,5.0 16.25,3.125 l23.125,-0.625 m0.0,-20.625 l-16.875,-1.875 -15.0,-8.75 l10.625,-9.375 7.5,2.5 l13.75,-0.625 -29.375,6.25 l29.375,-1.25 \" fill=\"none\" stroke=\"black\" stroke-width=\"1\"/></svg>"
      ],
      "text/plain": [
       "<IPython.core.display.SVG object>"
      ]
     },
     "metadata": {},
     "output_type": "display_data"
    },
    {
     "name": "stdout",
     "output_type": "stream",
     "text": [
      "mouth 3.6675029\n"
     ]
    },
    {
     "data": {
      "image/svg+xml": [
       "<svg baseProfile=\"full\" height=\"92.5\" version=\"1.1\" width=\"111.875\" xmlns=\"http://www.w3.org/2000/svg\" xmlns:ev=\"http://www.w3.org/2001/xml-events\" xmlns:xlink=\"http://www.w3.org/1999/xlink\"><defs/><rect fill=\"white\" height=\"92.5\" width=\"111.875\" x=\"0\" y=\"0\"/><path d=\"M86.875,63.75 m0.0,0.0 l-5.0,2.5 -33.75,1.25 l-13.125,-1.875 -10.0,-4.375 m61.25,-20.625 l0.625,-1.875 -3.75,5.0 l-6.25,1.875 -17.5,0.0 l-14.375,-5.625 -5.625,-5.0 l10.625,-8.75 7.5,2.5 l10.0,0.0 15.0,-3.75 l4.375,4.375 -45.0,5.0 l45.0,-3.125 \" fill=\"none\" stroke=\"black\" stroke-width=\"1\"/></svg>"
      ],
      "text/plain": [
       "<IPython.core.display.SVG object>"
      ]
     },
     "metadata": {},
     "output_type": "display_data"
    },
    {
     "name": "stdout",
     "output_type": "stream",
     "text": [
      "mouth 5.299953\n"
     ]
    },
    {
     "data": {
      "image/svg+xml": [
       "<svg baseProfile=\"full\" height=\"91.25\" version=\"1.1\" width=\"111.875\" xmlns=\"http://www.w3.org/2000/svg\" xmlns:ev=\"http://www.w3.org/2001/xml-events\" xmlns:xlink=\"http://www.w3.org/1999/xlink\"><defs/><rect fill=\"white\" height=\"91.25\" width=\"111.875\" x=\"0\" y=\"0\"/><path d=\"M71.25,31.25 m0.0,0.0 l-36.875,3.125 -8.125,0.0 l-1.25,-1.875 9.375,-6.25 l7.5,2.5 10.0,0.0 l15.0,-3.75 6.25,5.0 l-1.25,1.25 3.75,-0.625 l1.25,1.875 -9.375,11.25 l-6.25,1.875 -17.5,0.0 l-14.375,-5.625 -4.375,-5.625 l0.0,2.5 m61.875,20.0 l-6.875,5.625 -13.75,3.75 l-41.25,0.0 \" fill=\"none\" stroke=\"black\" stroke-width=\"1\"/></svg>"
      ],
      "text/plain": [
       "<IPython.core.display.SVG object>"
      ]
     },
     "metadata": {},
     "output_type": "display_data"
    },
    {
     "name": "stdout",
     "output_type": "stream",
     "text": [
      "mouth 3.9272509\n"
     ]
    },
    {
     "data": {
      "image/svg+xml": [
       "<svg baseProfile=\"full\" height=\"100.0\" version=\"1.1\" width=\"111.875\" xmlns=\"http://www.w3.org/2000/svg\" xmlns:ev=\"http://www.w3.org/2001/xml-events\" xmlns:xlink=\"http://www.w3.org/1999/xlink\"><defs/><rect fill=\"white\" height=\"100.0\" width=\"111.875\" x=\"0\" y=\"0\"/><path d=\"M25,51.875 m0.0,0.0 l3.125,1.875 20.625,-0.625 l3.125,-1.25 9.375,-11.25 l-8.75,-6.875 -5.625,-0.625 l-10.625,3.75 -11.25,-0.625 l31.25,3.125 -31.25,2.5 m0.0,33.125 l25.625,-0.625 16.25,-5.0 l9.375,-8.125 5.0,-9.375 l5.625,-19.375 -0.625,-7.5 l0.625,8.125 \" fill=\"none\" stroke=\"black\" stroke-width=\"1\"/></svg>"
      ],
      "text/plain": [
       "<IPython.core.display.SVG object>"
      ]
     },
     "metadata": {},
     "output_type": "display_data"
    },
    {
     "name": "stdout",
     "output_type": "stream",
     "text": [
      "nose 1.9636258\n"
     ]
    },
    {
     "data": {
      "image/svg+xml": [
       "<svg baseProfile=\"full\" height=\"99.375\" version=\"1.1\" width=\"95.625\" xmlns=\"http://www.w3.org/2000/svg\" xmlns:ev=\"http://www.w3.org/2001/xml-events\" xmlns:xlink=\"http://www.w3.org/1999/xlink\"><defs/><rect fill=\"white\" height=\"99.375\" width=\"95.625\" x=\"0\" y=\"0\"/><path d=\"M26.25,53.75 m0.0,0.0 l10.0,-1.875 9.375,-11.875 l-10.0,-6.875 -4.375,0.0 l-6.25,2.5 16.25,3.125 l-16.25,1.875 m0.0,33.75 l10.0,0.0 13.75,-3.75 l11.875,-9.375 8.75,-21.25 l1.25,-15.0 \" fill=\"none\" stroke=\"black\" stroke-width=\"1\"/></svg>"
      ],
      "text/plain": [
       "<IPython.core.display.SVG object>"
      ]
     },
     "metadata": {},
     "output_type": "display_data"
    },
    {
     "data": {
      "image/png": "[encoded data removed]",
      "text/plain": [
       "<matplotlib.figure.Figure at 0x1198aff90>"
      ]
     },
     "metadata": {},
     "output_type": "display_data"
    },
    {
     "name": "stdout",
     "output_type": "stream",
     "text": [
      "INFO:tensorflow:Model using gpu.\n",
      "INFO:tensorflow:Loading model four_class_checkpoint/vector-110000.\n",
      "INFO:tensorflow:Restoring parameters from four_class_checkpoint/vector-110000\n",
      "nose 5.0084515\n"
     ]
    },
    {
     "data": {
      "image/svg+xml": [
       "<svg baseProfile=\"full\" height=\"95.0\" version=\"1.1\" width=\"85.0\" xmlns=\"http://www.w3.org/2000/svg\" xmlns:ev=\"http://www.w3.org/2001/xml-events\" xmlns:xlink=\"http://www.w3.org/1999/xlink\"><defs/><rect fill=\"white\" height=\"95.0\" width=\"85.0\" x=\"0\" y=\"0\"/><path d=\"M25,46.25 m0.0,0.0 l5.625,-12.5 11.875,-8.125 l17.5,-0.625 m0.0,42.5 l-3.75,2.5 -10.625,0.0 l-8.125,-7.5 -1.875,-13.125 l3.125,-4.375 6.875,-1.25 m4.375,13.75 l1.875,0.0 \" fill=\"none\" stroke=\"black\" stroke-width=\"1\"/></svg>"
      ],
      "text/plain": [
       "<IPython.core.display.SVG object>"
      ]
     },
     "metadata": {},
     "output_type": "display_data"
    },
    {
     "name": "stdout",
     "output_type": "stream",
     "text": [
      "nose 0.7192534\n"
     ]
    },
    {
     "data": {
      "image/svg+xml": [
       "<svg baseProfile=\"full\" height=\"95.625\" version=\"1.1\" width=\"100.625\" xmlns=\"http://www.w3.org/2000/svg\" xmlns:ev=\"http://www.w3.org/2001/xml-events\" xmlns:xlink=\"http://www.w3.org/1999/xlink\"><defs/><rect fill=\"white\" height=\"95.625\" width=\"100.625\" x=\"0\" y=\"0\"/><path d=\"M25,46.875 m0.0,0.0 l5.625,-12.5 11.875,-8.125 l17.5,-1.25 12.5,3.125 m-28.125,14.375 l5.625,-0.625 11.25,5.0 l4.375,5.625 0.0,11.25 l-7.5,6.25 -12.5,0.625 l-8.125,-7.5 -1.875,-13.125 l3.125,-4.375 6.875,-1.25 m23.125,26.25 l6.875,-2.5 0.0,1.875 m-25.625,-11.875 l1.875,0.0 \" fill=\"none\" stroke=\"black\" stroke-width=\"1\"/></svg>"
      ],
      "text/plain": [
       "<IPython.core.display.SVG object>"
      ]
     },
     "metadata": {},
     "output_type": "display_data"
    },
    {
     "name": "stdout",
     "output_type": "stream",
     "text": [
      "mouth 1.2745653\n"
     ]
    },
    {
     "data": {
      "image/svg+xml": [
       "<svg baseProfile=\"full\" height=\"95.625\" version=\"1.1\" width=\"110.0\" xmlns=\"http://www.w3.org/2000/svg\" xmlns:ev=\"http://www.w3.org/2001/xml-events\" xmlns:xlink=\"http://www.w3.org/1999/xlink\"><defs/><rect fill=\"white\" height=\"95.625\" width=\"110.0\" x=\"0\" y=\"0\"/><path d=\"M25,36.25 m0.0,0.0 l0.0,3.125 1.25,-5.0 l11.875,-8.125 17.5,-1.25 l12.5,3.125 m-28.125,14.375 l5.625,-0.625 11.25,5.0 l4.375,5.625 0.0,11.25 l-7.5,6.25 -12.5,0.625 l-8.125,-7.5 -1.875,-13.125 l3.125,-4.375 6.875,-1.25 m32.5,24.375 l-9.375,1.875 9.375,0.0 l0.625,-1.875 10.625,1.875 m-39.375,-12.5 l1.875,0.0 \" fill=\"none\" stroke=\"black\" stroke-width=\"1\"/></svg>"
      ],
      "text/plain": [
       "<IPython.core.display.SVG object>"
      ]
     },
     "metadata": {},
     "output_type": "display_data"
    },
    {
     "name": "stdout",
     "output_type": "stream",
     "text": [
      "nose 3.4513707\n"
     ]
    },
    {
     "data": {
      "image/svg+xml": [
       "<svg baseProfile=\"full\" height=\"96.25\" version=\"1.1\" width=\"111.875\" xmlns=\"http://www.w3.org/2000/svg\" xmlns:ev=\"http://www.w3.org/2001/xml-events\" xmlns:xlink=\"http://www.w3.org/1999/xlink\"><defs/><rect fill=\"white\" height=\"96.25\" width=\"111.875\" x=\"0\" y=\"0\"/><path d=\"M25,26.25 m0.0,0.0 l15.0,-0.625 12.5,3.125 m-27.5,14.375 l5.0,-0.625 11.25,5.0 l4.375,5.625 0.625,6.25 l-1.25,6.25 -4.375,3.75 l-4.375,1.875 -11.25,-0.625 m33.125,-1.25 l-9.375,1.875 9.375,0.0 l0.625,-1.875 10.625,1.875 m5.625,-42.5 l11.875,-3.75 m0.0,15.625 l-6.875,1.875 -3.75,5.625 l1.875,11.875 8.75,8.125 m-56.875,-9.375 l1.875,0.0 \" fill=\"none\" stroke=\"black\" stroke-width=\"1\"/></svg>"
      ],
      "text/plain": [
       "<IPython.core.display.SVG object>"
      ]
     },
     "metadata": {},
     "output_type": "display_data"
    },
    {
     "name": "stdout",
     "output_type": "stream",
     "text": [
      "nose 2.9429789\n"
     ]
    },
    {
     "data": {
      "image/svg+xml": [
       "<svg baseProfile=\"full\" height=\"97.5\" version=\"1.1\" width=\"111.875\" xmlns=\"http://www.w3.org/2000/svg\" xmlns:ev=\"http://www.w3.org/2001/xml-events\" xmlns:xlink=\"http://www.w3.org/1999/xlink\"><defs/><rect fill=\"white\" height=\"97.5\" width=\"111.875\" x=\"0\" y=\"0\"/><path d=\"M25,26.875 m0.0,0.0 l11.875,3.125 m-11.875,18.125 l5.0,6.25 0.625,6.25 l-1.25,6.25 -4.375,3.75 m17.5,0.0 l-9.375,1.875 9.375,0.0 l0.625,-1.875 10.625,1.875 m5.625,-42.5 l12.5,-4.375 11.875,-0.625 l3.125,2.5 m0.0,39.375 l-5.0,2.5 -10.625,0.0 l-8.75,-8.125 -1.875,-10.625 l1.25,-4.375 3.75,-3.125 l6.875,-0.625 m2.5,14.375 l3.75,1.875 \" fill=\"none\" stroke=\"black\" stroke-width=\"1\"/></svg>"
      ],
      "text/plain": [
       "<IPython.core.display.SVG object>"
      ]
     },
     "metadata": {},
     "output_type": "display_data"
    },
    {
     "name": "stdout",
     "output_type": "stream",
     "text": [
      "nose 3.507938\n"
     ]
    },
    {
     "data": {
      "image/svg+xml": [
       "<svg baseProfile=\"full\" height=\"97.5\" version=\"1.1\" width=\"108.125\" xmlns=\"http://www.w3.org/2000/svg\" xmlns:ev=\"http://www.w3.org/2001/xml-events\" xmlns:xlink=\"http://www.w3.org/1999/xlink\"><defs/><rect fill=\"white\" height=\"97.5\" width=\"108.125\" x=\"0\" y=\"0\"/><path d=\"M25,70.0 m0.0,0.0 l0.625,2.5 1.25,-1.875 l11.25,1.875 m5.625,-42.5 l12.5,-4.375 11.875,-0.625 l11.25,6.875 3.75,10.625 m-29.375,-1.875 l8.125,0.0 9.375,4.375 l4.375,5.625 1.25,7.5 l-4.375,8.75 -6.25,2.5 l-10.625,0.0 -8.75,-8.125 l-1.875,-11.875 3.75,-5.625 l8.125,-1.25 m2.5,14.375 l3.75,1.875 \" fill=\"none\" stroke=\"black\" stroke-width=\"1\"/></svg>"
      ],
      "text/plain": [
       "<IPython.core.display.SVG object>"
      ]
     },
     "metadata": {},
     "output_type": "display_data"
    },
    {
     "name": "stdout",
     "output_type": "stream",
     "text": [
      "nose 1.7965659\n"
     ]
    },
    {
     "data": {
      "image/svg+xml": [
       "<svg baseProfile=\"full\" height=\"97.5\" version=\"1.1\" width=\"96.25\" xmlns=\"http://www.w3.org/2000/svg\" xmlns:ev=\"http://www.w3.org/2001/xml-events\" xmlns:xlink=\"http://www.w3.org/1999/xlink\"><defs/><rect fill=\"white\" height=\"97.5\" width=\"96.25\" x=\"0\" y=\"0\"/><path d=\"M25,30.0 m0.0,0.0 l12.5,-4.375 11.875,-0.625 l11.25,6.875 3.75,10.625 m-29.375,-1.875 l8.125,0.0 9.375,4.375 l4.375,5.625 1.25,7.5 l-4.375,8.75 -6.25,2.5 l-10.625,0.0 -8.75,-8.125 l-1.875,-11.875 3.75,-5.625 l8.125,-1.25 m2.5,14.375 l3.75,1.875 m26.875,1.875 l0.0,11.875 \" fill=\"none\" stroke=\"black\" stroke-width=\"1\"/></svg>"
      ],
      "text/plain": [
       "<IPython.core.display.SVG object>"
      ]
     },
     "metadata": {},
     "output_type": "display_data"
    },
    {
     "name": "stdout",
     "output_type": "stream",
     "text": [
      "nose 3.207559\n"
     ]
    },
    {
     "data": {
      "image/svg+xml": [
       "<svg baseProfile=\"full\" height=\"111.875\" version=\"1.1\" width=\"96.25\" xmlns=\"http://www.w3.org/2000/svg\" xmlns:ev=\"http://www.w3.org/2001/xml-events\" xmlns:xlink=\"http://www.w3.org/1999/xlink\"><defs/><rect fill=\"white\" height=\"111.875\" width=\"96.25\" x=\"0\" y=\"0\"/><path d=\"M25,74.375 m0.0,0.0 l5.0,12.5 m6.25,-39.375 l5.625,-12.5 11.875,-8.125 l11.875,-1.875 5.625,1.25 m0.0,42.5 l-4.375,2.5 -10.0,0.0 l-8.125,-7.5 -1.875,-13.125 l3.125,-4.375 6.875,-1.25 m4.375,13.75 l1.875,0.0 \" fill=\"none\" stroke=\"black\" stroke-width=\"1\"/></svg>"
      ],
      "text/plain": [
       "<IPython.core.display.SVG object>"
      ]
     },
     "metadata": {},
     "output_type": "display_data"
    },
    {
     "name": "stdout",
     "output_type": "stream",
     "text": [
      "mouth 2.3799443\n"
     ]
    },
    {
     "data": {
      "image/svg+xml": [
       "<svg baseProfile=\"full\" height=\"111.875\" version=\"1.1\" width=\"111.875\" xmlns=\"http://www.w3.org/2000/svg\" xmlns:ev=\"http://www.w3.org/2001/xml-events\" xmlns:xlink=\"http://www.w3.org/1999/xlink\"><defs/><rect fill=\"white\" height=\"111.875\" width=\"111.875\" x=\"0\" y=\"0\"/><path d=\"M25,73.75 m0.0,0.0 l5.0,13.125 m6.25,-39.375 l5.625,-12.5 11.875,-8.125 l17.5,-1.875 12.5,3.75 m-28.125,14.375 l5.625,-0.625 11.25,5.0 l4.375,5.625 0.0,11.25 l-7.5,6.25 -12.5,0.625 l-8.125,-7.5 -1.875,-13.125 l3.125,-4.375 6.875,-1.25 m18.125,41.875 l-0.625,-5.0 2.5,-6.25 l6.25,-5.625 3.75,-1.25 l0.0,1.875 m-5.0,5.625 l5.0,-1.25 m-25.625,-16.25 l1.875,0.0 \" fill=\"none\" stroke=\"black\" stroke-width=\"1\"/></svg>"
      ],
      "text/plain": [
       "<IPython.core.display.SVG object>"
      ]
     },
     "metadata": {},
     "output_type": "display_data"
    },
    {
     "name": "stdout",
     "output_type": "stream",
     "text": [
      "mouth 1.1600275\n"
     ]
    },
    {
     "data": {
      "image/svg+xml": [
       "<svg baseProfile=\"full\" height=\"111.875\" version=\"1.1\" width=\"111.875\" xmlns=\"http://www.w3.org/2000/svg\" xmlns:ev=\"http://www.w3.org/2001/xml-events\" xmlns:xlink=\"http://www.w3.org/1999/xlink\"><defs/><rect fill=\"white\" height=\"111.875\" width=\"111.875\" x=\"0\" y=\"0\"/><path d=\"M25,36.875 m0.0,0.0 l0.0,3.125 1.25,-5.0 l11.875,-8.125 17.5,-1.875 l12.5,3.75 m-28.125,14.375 l5.625,-0.625 11.25,5.0 l4.375,5.625 0.0,11.25 l-7.5,6.25 -12.5,0.625 l-8.125,-7.5 -1.875,-13.125 l3.125,-4.375 6.875,-1.25 m18.125,41.875 l-0.625,-5.0 5.625,-10.0 l3.125,-1.875 11.875,-0.625 l7.5,3.125 0.0,1.875 l-5.625,-0.625 m-15.0,2.5 l5.0,-0.625 m1.25,11.25 l4.375,-2.5 -1.25,-5.0 m-30.0,-20.625 l1.875,0.0 \" fill=\"none\" stroke=\"black\" stroke-width=\"1\"/></svg>"
      ],
      "text/plain": [
       "<IPython.core.display.SVG object>"
      ]
     },
     "metadata": {},
     "output_type": "display_data"
    },
    {
     "name": "stdout",
     "output_type": "stream",
     "text": [
      "nose 3.6910143\n"
     ]
    },
    {
     "data": {
      "image/svg+xml": [
       "<svg baseProfile=\"full\" height=\"111.875\" version=\"1.1\" width=\"111.875\" xmlns=\"http://www.w3.org/2000/svg\" xmlns:ev=\"http://www.w3.org/2001/xml-events\" xmlns:xlink=\"http://www.w3.org/1999/xlink\"><defs/><rect fill=\"white\" height=\"111.875\" width=\"111.875\" x=\"0\" y=\"0\"/><path d=\"M25,26.25 m0.0,0.0 l15.0,-1.25 12.5,3.75 m-27.5,14.375 l5.0,-0.625 11.25,5.0 l4.375,5.625 0.625,6.25 l-1.25,6.25 -4.375,3.75 l-5.0,1.875 -10.625,-0.625 m18.75,16.25 l-0.625,-5.0 4.375,-8.75 l4.375,-3.125 6.25,-0.625 l10.625,1.875 0.625,2.5 l-3.75,0.0 5.0,-0.625 l3.75,3.75 2.5,6.25 l-0.625,3.75 m-25.625,-10.625 l5.0,-0.625 m1.25,11.25 l4.375,-2.5 -1.25,-5.0 m8.75,-1.25 l1.875,0.0 m4.375,-49.375 l11.875,-3.75 m0.0,15.625 l-6.875,1.875 -3.75,5.625 l1.875,11.875 8.75,8.125 m-56.875,-9.375 l1.875,0.0 \" fill=\"none\" stroke=\"black\" stroke-width=\"1\"/></svg>"
      ],
      "text/plain": [
       "<IPython.core.display.SVG object>"
      ]
     },
     "metadata": {},
     "output_type": "display_data"
    },
    {
     "name": "stdout",
     "output_type": "stream",
     "text": [
      "nose 5.925245\n"
     ]
    },
    {
     "data": {
      "image/svg+xml": [
       "<svg baseProfile=\"full\" height=\"111.875\" version=\"1.1\" width=\"111.875\" xmlns=\"http://www.w3.org/2000/svg\" xmlns:ev=\"http://www.w3.org/2001/xml-events\" xmlns:xlink=\"http://www.w3.org/1999/xlink\"><defs/><rect fill=\"white\" height=\"111.875\" width=\"111.875\" x=\"0\" y=\"0\"/><path d=\"M25,25.625 m0.0,0.0 l11.875,3.125 m-11.875,18.125 l5.0,6.25 0.625,6.25 l-1.25,6.25 -4.375,3.75 m3.125,17.5 l-0.625,-5.0 4.375,-8.75 l4.375,-3.125 6.25,-0.625 l10.625,1.875 0.625,2.5 l-3.75,0.0 5.0,-0.625 l3.75,3.75 2.5,6.25 l-0.625,3.75 m-25.625,-10.625 l5.0,-0.625 m1.25,11.25 l4.375,-2.5 -1.25,-5.0 m8.75,-1.25 l1.875,0.0 m4.375,-49.375 l11.875,-3.75 m15.625,40.625 l-5.0,2.5 -10.625,0.0 l-8.75,-8.125 -1.875,-10.625 l1.25,-4.375 3.75,-3.125 l6.875,-0.625 m2.5,14.375 l3.75,1.875 m6.25,-32.5 l1.875,1.25 \" fill=\"none\" stroke=\"black\" stroke-width=\"1\"/></svg>"
      ],
      "text/plain": [
       "<IPython.core.display.SVG object>"
      ]
     },
     "metadata": {},
     "output_type": "display_data"
    },
    {
     "name": "stdout",
     "output_type": "stream",
     "text": [
      "nose 3.1709814\n"
     ]
    },
    {
     "data": {
      "image/svg+xml": [
       "<svg baseProfile=\"full\" height=\"111.875\" version=\"1.1\" width=\"108.125\" xmlns=\"http://www.w3.org/2000/svg\" xmlns:ev=\"http://www.w3.org/2001/xml-events\" xmlns:xlink=\"http://www.w3.org/1999/xlink\"><defs/><rect fill=\"white\" height=\"111.875\" width=\"108.125\" x=\"0\" y=\"0\"/><path d=\"M45.0,86.875 m0.0,0.0 l0.625,-3.75 -2.5,-6.25 l-4.375,-4.375 -4.375,1.25 l3.125,-2.5 -12.5,-2.5 l0.0,1.875 m0.0,5.0 l0.0,5.625 m0.625,5.625 l4.375,-2.5 -1.25,-5.0 m8.75,-1.25 l1.875,0.0 m4.375,-49.375 l11.875,-3.75 m-1.875,14.375 l8.125,0.0 9.375,4.375 l4.375,5.625 1.25,7.5 l-4.375,8.75 -6.25,2.5 l-10.625,0.0 -8.75,-8.125 l-1.875,-11.875 3.75,-5.625 l8.125,-1.25 m2.5,14.375 l3.75,1.875 m6.25,-32.5 l10.0,5.625 3.75,10.625 \" fill=\"none\" stroke=\"black\" stroke-width=\"1\"/></svg>"
      ],
      "text/plain": [
       "<IPython.core.display.SVG object>"
      ]
     },
     "metadata": {},
     "output_type": "display_data"
    },
    {
     "name": "stdout",
     "output_type": "stream",
     "text": [
      "nose 4.2006097\n"
     ]
    },
    {
     "data": {
      "image/svg+xml": [
       "<svg baseProfile=\"full\" height=\"111.875\" version=\"1.1\" width=\"99.375\" xmlns=\"http://www.w3.org/2000/svg\" xmlns:ev=\"http://www.w3.org/2001/xml-events\" xmlns:xlink=\"http://www.w3.org/1999/xlink\"><defs/><rect fill=\"white\" height=\"111.875\" width=\"99.375\" x=\"0\" y=\"0\"/><path d=\"M25,73.125 m0.0,0.0 l4.375,6.875 0.0,6.875 m-1.25,-58.125 l11.875,-3.75 m-1.875,14.375 l8.125,0.0 9.375,4.375 l4.375,5.625 1.25,7.5 l-4.375,8.75 -6.25,2.5 l-10.625,0.0 -8.75,-8.125 l-1.875,-11.875 3.75,-5.625 l8.125,-1.25 m2.5,14.375 l3.75,1.875 m6.25,-32.5 l10.0,5.625 3.75,10.625 m6.875,18.125 l-0.625,27.5 \" fill=\"none\" stroke=\"black\" stroke-width=\"1\"/></svg>"
      ],
      "text/plain": [
       "<IPython.core.display.SVG object>"
      ]
     },
     "metadata": {},
     "output_type": "display_data"
    },
    {
     "name": "stdout",
     "output_type": "stream",
     "text": [
      "nose 4.3642864\n"
     ]
    },
    {
     "data": {
      "image/svg+xml": [
       "<svg baseProfile=\"full\" height=\"111.875\" version=\"1.1\" width=\"96.25\" xmlns=\"http://www.w3.org/2000/svg\" xmlns:ev=\"http://www.w3.org/2001/xml-events\" xmlns:xlink=\"http://www.w3.org/1999/xlink\"><defs/><rect fill=\"white\" height=\"111.875\" width=\"96.25\" x=\"0\" y=\"0\"/><path d=\"M25,58.75 m0.0,0.0 l10.625,28.125 m0.625,-55.0 l3.75,-6.875 m31.25,28.125 l-4.375,2.5 -10.0,0.0 l-8.125,-7.5 -1.875,-13.125 l3.125,-4.375 6.875,-1.25 m4.375,13.75 l1.875,0.0 \" fill=\"none\" stroke=\"black\" stroke-width=\"1\"/></svg>"
      ],
      "text/plain": [
       "<IPython.core.display.SVG object>"
      ]
     },
     "metadata": {},
     "output_type": "display_data"
    },
    {
     "name": "stdout",
     "output_type": "stream",
     "text": [
      "mouth 1.5537997\n"
     ]
    },
    {
     "data": {
      "image/svg+xml": [
       "<svg baseProfile=\"full\" height=\"111.875\" version=\"1.1\" width=\"111.875\" xmlns=\"http://www.w3.org/2000/svg\" xmlns:ev=\"http://www.w3.org/2001/xml-events\" xmlns:xlink=\"http://www.w3.org/1999/xlink\"><defs/><rect fill=\"white\" height=\"111.875\" width=\"111.875\" x=\"0\" y=\"0\"/><path d=\"M25,58.125 m0.0,0.0 l10.625,28.75 m0.625,-55.0 l3.75,-6.875 m15.625,2.5 l5.625,-0.625 11.25,5.0 l4.375,5.625 0.0,11.25 l-7.5,6.25 -12.5,0.625 l-8.125,-7.5 -1.875,-13.125 l3.125,-4.375 6.875,-1.25 m30.0,55.0 l-4.375,-0.625 -5.0,-4.375 l-3.125,-8.125 2.5,-11.25 l3.125,-3.75 6.875,-2.5 m-5.0,6.875 l5.0,-1.25 m0.0,12.5 l0.0,5.625 m-25.625,-34.375 l1.875,0.0 \" fill=\"none\" stroke=\"black\" stroke-width=\"1\"/></svg>"
      ],
      "text/plain": [
       "<IPython.core.display.SVG object>"
      ]
     },
     "metadata": {},
     "output_type": "display_data"
    },
    {
     "name": "stdout",
     "output_type": "stream",
     "text": [
      "nose 1.5124235\n"
     ]
    },
    {
     "data": {
      "image/svg+xml": [
       "<svg baseProfile=\"full\" height=\"108.125\" version=\"1.1\" width=\"105.625\" xmlns=\"http://www.w3.org/2000/svg\" xmlns:ev=\"http://www.w3.org/2001/xml-events\" xmlns:xlink=\"http://www.w3.org/1999/xlink\"><defs/><rect fill=\"white\" height=\"108.125\" width=\"105.625\" x=\"0\" y=\"0\"/><path d=\"M33.75,25.625 m0.0,0.0 l5.625,-0.625 11.25,5.0 l4.375,5.625 0.0,11.25 l-7.5,6.25 -12.5,0.625 l-8.125,-7.5 -1.875,-13.125 l3.125,-4.375 6.875,-1.25 m45.625,50.0 l-5.625,4.375 -11.25,1.25 l-5.0,-2.5 -5.625,-8.125 l-0.625,-8.125 5.625,-10.0 l3.125,-1.875 11.875,-0.625 l7.5,3.125 0.0,1.875 l-5.625,-0.625 m-15.0,2.5 l5.0,-0.625 m5.625,5.625 l-1.25,-1.875 1.25,5.0 l-6.25,4.375 0.0,3.125 l4.375,3.125 5.625,-1.875 m-35.0,-34.375 l1.875,0.0 \" fill=\"none\" stroke=\"black\" stroke-width=\"1\"/></svg>"
      ],
      "text/plain": [
       "<IPython.core.display.SVG object>"
      ]
     },
     "metadata": {},
     "output_type": "display_data"
    },
    {
     "name": "stdout",
     "output_type": "stream",
     "text": [
      "nose 3.400661\n"
     ]
    },
    {
     "data": {
      "image/svg+xml": [
       "<svg baseProfile=\"full\" height=\"110.0\" version=\"1.1\" width=\"111.875\" xmlns=\"http://www.w3.org/2000/svg\" xmlns:ev=\"http://www.w3.org/2001/xml-events\" xmlns:xlink=\"http://www.w3.org/1999/xlink\"><defs/><rect fill=\"white\" height=\"110.0\" width=\"111.875\" x=\"0\" y=\"0\"/><path d=\"M25,27.5 m0.0,0.0 l5.0,-0.625 11.25,5.0 l4.375,5.625 0.625,6.25 l-1.25,6.25 -4.375,3.75 l-5.0,1.875 -10.625,-0.625 m40.625,3.125 l4.375,-1.25 -6.25,-3.125 l-11.875,0.625 -6.25,5.625 l-2.5,6.25 0.625,8.125 l2.5,5.0 8.125,5.625 l6.875,0.0 8.75,-3.75 l6.25,-7.5 0.0,-9.375 l-5.625,-6.875 m-20.0,3.125 l5.0,-0.625 m5.625,5.625 l-1.25,-1.875 1.25,5.0 l-6.25,4.375 0.0,3.125 l4.375,3.125 5.625,-1.875 m3.75,-15.0 l1.875,0.0 m16.25,-10.0 l-8.75,-8.125 -1.875,-10.625 l3.75,-6.875 3.125,-1.875 l3.75,0.625 m-56.875,17.5 l1.875,0.0 \" fill=\"none\" stroke=\"black\" stroke-width=\"1\"/></svg>"
      ],
      "text/plain": [
       "<IPython.core.display.SVG object>"
      ]
     },
     "metadata": {},
     "output_type": "display_data"
    },
    {
     "name": "stdout",
     "output_type": "stream",
     "text": [
      "nose 2.7369351\n"
     ]
    },
    {
     "data": {
      "image/svg+xml": [
       "<svg baseProfile=\"full\" height=\"110.0\" version=\"1.1\" width=\"111.875\" xmlns=\"http://www.w3.org/2000/svg\" xmlns:ev=\"http://www.w3.org/2001/xml-events\" xmlns:xlink=\"http://www.w3.org/1999/xlink\"><defs/><rect fill=\"white\" height=\"110.0\" width=\"111.875\" x=\"0\" y=\"0\"/><path d=\"M25,31.25 m0.0,0.0 l5.0,6.25 0.625,6.25 l-1.25,6.25 -4.375,3.75 m25.0,4.375 l4.375,-1.25 -6.25,-3.125 l-11.875,0.625 -6.25,5.625 l-2.5,6.25 0.625,8.125 l2.5,5.0 8.125,5.625 l6.875,0.0 8.75,-3.75 l6.25,-7.5 0.0,-9.375 l-5.625,-6.875 m-20.0,3.125 l5.0,-0.625 m5.625,5.625 l-1.25,-1.875 1.25,5.0 l-6.25,4.375 0.0,3.125 l4.375,3.125 5.625,-1.875 m3.75,-15.0 l1.875,0.0 m17.5,-36.875 l-5.0,-0.625 -5.625,4.375 l-1.25,4.375 1.875,10.625 l8.75,8.125 10.625,0.0 l5.0,-1.875 m-11.875,-10.625 l3.75,1.875 m0.625,-16.875 l3.125,0.0 4.375,3.75 \" fill=\"none\" stroke=\"black\" stroke-width=\"1\"/></svg>"
      ],
      "text/plain": [
       "<IPython.core.display.SVG object>"
      ]
     },
     "metadata": {},
     "output_type": "display_data"
    },
    {
     "name": "stdout",
     "output_type": "stream",
     "text": [
      "nose 1.3479071\n"
     ]
    },
    {
     "data": {
      "image/svg+xml": [
       "<svg baseProfile=\"full\" height=\"110.0\" version=\"1.1\" width=\"108.125\" xmlns=\"http://www.w3.org/2000/svg\" xmlns:ev=\"http://www.w3.org/2001/xml-events\" xmlns:xlink=\"http://www.w3.org/1999/xlink\"><defs/><rect fill=\"white\" height=\"110.0\" width=\"108.125\" x=\"0\" y=\"0\"/><path d=\"M25,84.375 m0.0,0.0 l5.0,0.625 8.75,-3.75 l5.625,-6.25 1.25,-4.375 l-2.5,-9.375 -3.75,-3.75 l-5.0,0.625 4.375,-1.25 l-1.25,-1.25 -12.5,-2.5 l0.0,1.875 m0.0,5.0 l0.0,5.625 m0.0,6.875 l5.0,-3.75 -1.25,-5.0 m-3.75,12.5 l0.0,1.875 3.125,1.25 l5.625,-1.875 m3.75,-15.0 l1.875,0.0 m17.5,-36.875 l-5.0,-0.625 -5.625,4.375 l-1.25,4.375 1.875,10.625 l8.75,8.125 10.625,0.0 l8.75,-5.0 1.875,-6.25 l-2.5,-10.0 -7.5,-6.25 l-3.125,0.0 m-4.375,15.0 l3.75,1.875 m18.75,-16.875 l1.25,0.625 \" fill=\"none\" stroke=\"black\" stroke-width=\"1\"/></svg>"
      ],
      "text/plain": [
       "<IPython.core.display.SVG object>"
      ]
     },
     "metadata": {},
     "output_type": "display_data"
    },
    {
     "name": "stdout",
     "output_type": "stream",
     "text": [
      "nose 2.223946\n"
     ]
    },
    {
     "data": {
      "image/svg+xml": [
       "<svg baseProfile=\"full\" height=\"111.25\" version=\"1.1\" width=\"99.375\" xmlns=\"http://www.w3.org/2000/svg\" xmlns:ev=\"http://www.w3.org/2001/xml-events\" xmlns:xlink=\"http://www.w3.org/1999/xlink\"><defs/><rect fill=\"white\" height=\"111.25\" width=\"99.375\" x=\"0\" y=\"0\"/><path d=\"M25,57.5 m0.0,0.0 l5.0,10.0 -0.625,6.25 l-4.375,6.25 m16.25,-54.375 l-5.0,-0.625 -5.625,4.375 l-1.25,4.375 1.875,10.625 l8.75,8.125 10.625,0.0 l8.75,-5.0 1.875,-6.25 l-2.5,-10.0 -7.5,-6.25 l-3.125,0.0 m-4.375,15.0 l3.75,1.875 m25.625,44.375 l1.25,-41.875 m-8.125,-19.375 l1.25,0.625 \" fill=\"none\" stroke=\"black\" stroke-width=\"1\"/></svg>"
      ],
      "text/plain": [
       "<IPython.core.display.SVG object>"
      ]
     },
     "metadata": {},
     "output_type": "display_data"
    },
    {
     "name": "stdout",
     "output_type": "stream",
     "text": [
      "nose 2.728466\n"
     ]
    },
    {
     "data": {
      "image/svg+xml": [
       "<svg baseProfile=\"full\" height=\"111.875\" version=\"1.1\" width=\"96.25\" xmlns=\"http://www.w3.org/2000/svg\" xmlns:ev=\"http://www.w3.org/2001/xml-events\" xmlns:xlink=\"http://www.w3.org/1999/xlink\"><defs/><rect fill=\"white\" height=\"111.875\" width=\"96.25\" x=\"0\" y=\"0\"/><path d=\"M25,43.125 m0.0,0.0 l16.25,43.75 m30.0,-49.375 l-4.375,2.5 -10.0,0.0 l-8.125,-7.5 -1.25,-7.5 m10.0,0.0 l4.375,0.0 0.625,1.875 l0.0,-1.875 4.375,0.0 \" fill=\"none\" stroke=\"black\" stroke-width=\"1\"/></svg>"
      ],
      "text/plain": [
       "<IPython.core.display.SVG object>"
      ]
     },
     "metadata": {},
     "output_type": "display_data"
    },
    {
     "name": "stdout",
     "output_type": "stream",
     "text": [
      "mouth 2.0845454\n"
     ]
    },
    {
     "data": {
      "image/svg+xml": [
       "<svg baseProfile=\"full\" height=\"111.875\" version=\"1.1\" width=\"111.875\" xmlns=\"http://www.w3.org/2000/svg\" xmlns:ev=\"http://www.w3.org/2001/xml-events\" xmlns:xlink=\"http://www.w3.org/1999/xlink\"><defs/><rect fill=\"white\" height=\"111.875\" width=\"111.875\" x=\"0\" y=\"0\"/><path d=\"M25,42.5 m0.0,0.0 l16.875,44.375 m5.625,-61.875 l1.25,7.5 8.125,7.5 l10.0,0.0 6.875,-3.125 l3.125,-3.75 0.625,-8.125 m-20.0,0.0 l4.375,0.0 0.625,1.875 l0.0,-1.875 4.375,0.0 m20.0,43.75 l-4.375,-0.625 -5.0,-4.375 l-3.125,-8.125 2.5,-11.25 l3.125,-3.75 6.875,-2.5 m-1.25,47.5 l-7.5,1.25 -1.875,-9.375 l1.25,1.875 9.375,0.0 m-5.0,-34.375 l5.0,-1.25 m0.0,12.5 l0.0,5.625 \" fill=\"none\" stroke=\"black\" stroke-width=\"1\"/></svg>"
      ],
      "text/plain": [
       "<IPython.core.display.SVG object>"
      ]
     },
     "metadata": {},
     "output_type": "display_data"
    },
    {
     "name": "stdout",
     "output_type": "stream",
     "text": [
      "mouth 2.5687742\n"
     ]
    },
    {
     "data": {
      "image/svg+xml": [
       "<svg baseProfile=\"full\" height=\"111.875\" version=\"1.1\" width=\"111.875\" xmlns=\"http://www.w3.org/2000/svg\" xmlns:ev=\"http://www.w3.org/2001/xml-events\" xmlns:xlink=\"http://www.w3.org/1999/xlink\"><defs/><rect fill=\"white\" height=\"111.875\" width=\"111.875\" x=\"0\" y=\"0\"/><path d=\"M25,83.75 m0.0,0.0 l1.25,3.125 m5.625,-61.875 l1.25,7.5 8.125,7.5 l10.0,0.0 6.875,-3.125 l3.125,-3.75 0.625,-8.125 m-20.0,0.0 l4.375,0.0 0.625,1.875 l0.0,-1.875 4.375,0.0 m35.625,38.75 l-5.625,4.375 -11.25,1.25 l-5.0,-2.5 -5.625,-8.125 l-0.625,-8.125 5.625,-10.0 l3.125,-1.875 11.875,-0.625 l7.5,3.125 0.0,1.875 l-5.625,-0.625 m4.375,36.875 l-24.375,0.0 -0.625,-1.875 l0.625,6.25 1.25,3.125 l10.0,-1.25 0.625,-5.0 l1.25,4.375 12.5,-0.625 m-20.625,-39.375 l5.0,-0.625 m5.625,5.625 l-1.25,-1.875 1.25,5.0 l-6.25,4.375 0.0,3.125 l4.375,3.125 5.625,-1.875 \" fill=\"none\" stroke=\"black\" stroke-width=\"1\"/></svg>"
      ],
      "text/plain": [
       "<IPython.core.display.SVG object>"
      ]
     },
     "metadata": {},
     "output_type": "display_data"
    },
    {
     "name": "stdout",
     "output_type": "stream",
     "text": [
      "mouth 5.3974967\n"
     ]
    },
    {
     "data": {
      "image/svg+xml": [
       "<svg baseProfile=\"full\" height=\"111.875\" version=\"1.1\" width=\"111.875\" xmlns=\"http://www.w3.org/2000/svg\" xmlns:ev=\"http://www.w3.org/2001/xml-events\" xmlns:xlink=\"http://www.w3.org/1999/xlink\"><defs/><rect fill=\"white\" height=\"111.875\" width=\"111.875\" x=\"0\" y=\"0\"/><path d=\"M25,38.75 m0.0,0.0 l10.625,1.25 5.0,-1.875 l5.0,-5.0 0.625,-8.125 m-20.0,0.0 l4.375,0.0 0.625,1.875 l0.0,-1.875 4.375,0.0 m30.0,17.5 l4.375,-1.25 -6.25,-3.125 l-11.875,0.625 -6.25,5.625 l-2.5,6.25 0.625,8.125 l2.5,5.0 8.125,5.625 l6.875,0.0 8.75,-3.75 l6.25,-7.5 0.0,-9.375 l-5.625,-6.875 m16.25,36.25 l-30.0,1.875 -11.25,-0.625 l-0.625,-1.875 1.875,9.375 l10.0,-1.25 0.625,-5.0 l1.25,4.375 13.75,-0.625 l1.25,-3.75 0.625,3.75 l12.5,0.625 m-36.25,-40.0 l5.0,-0.625 m5.625,5.625 l-1.25,-1.875 1.25,5.0 l-6.25,4.375 0.0,3.125 l4.375,3.125 5.625,-1.875 m3.75,-15.0 l1.875,0.0 m7.5,-21.875 l1.25,5.625 7.5,5.625 \" fill=\"none\" stroke=\"black\" stroke-width=\"1\"/></svg>"
      ],
      "text/plain": [
       "<IPython.core.display.SVG object>"
      ]
     },
     "metadata": {},
     "output_type": "display_data"
    },
    {
     "name": "stdout",
     "output_type": "stream",
     "text": [
      "mouth 7.049049\n"
     ]
    },
    {
     "data": {
      "image/svg+xml": [
       "<svg baseProfile=\"full\" height=\"111.875\" version=\"1.1\" width=\"111.875\" xmlns=\"http://www.w3.org/2000/svg\" xmlns:ev=\"http://www.w3.org/2001/xml-events\" xmlns:xlink=\"http://www.w3.org/1999/xlink\"><defs/><rect fill=\"white\" height=\"111.875\" width=\"111.875\" x=\"0\" y=\"0\"/><path d=\"M25,38.125 m0.0,0.0 l5.0,-5.0 0.625,-8.125 m19.375,17.5 l4.375,-1.25 -6.25,-3.125 l-11.875,0.625 -6.25,5.625 l-2.5,6.25 0.625,8.125 l2.5,5.0 8.125,5.625 l6.875,0.0 8.75,-3.75 l6.25,-7.5 0.0,-9.375 l-5.625,-6.875 m17.5,39.375 l1.875,4.375 5.625,1.25 l1.875,0.0 1.875,-6.875 l-3.125,-1.875 -39.375,1.875 l-11.25,-0.625 -0.625,-1.875 l1.875,9.375 10.0,-1.25 l0.625,-5.0 1.25,4.375 l13.75,-0.625 1.25,-3.75 l0.625,3.75 13.75,0.625 m-37.5,-40.0 l5.0,-0.625 m5.625,5.625 l-1.25,-1.875 1.25,5.0 l-6.25,4.375 0.0,3.125 l4.375,3.125 5.625,-1.875 m3.75,-15.0 l1.875,0.0 m31.875,-12.5 l-5.0,2.5 -10.625,0.0 l-7.5,-6.25 -1.25,-5.625 m9.375,0.0 l7.5,0.625 \" fill=\"none\" stroke=\"black\" stroke-width=\"1\"/></svg>"
      ],
      "text/plain": [
       "<IPython.core.display.SVG object>"
      ]
     },
     "metadata": {},
     "output_type": "display_data"
    },
    {
     "name": "stdout",
     "output_type": "stream",
     "text": [
      "mouth 0.9667667\n"
     ]
    },
    {
     "data": {
      "image/svg+xml": [
       "<svg baseProfile=\"full\" height=\"111.875\" version=\"1.1\" width=\"111.875\" xmlns=\"http://www.w3.org/2000/svg\" xmlns:ev=\"http://www.w3.org/2001/xml-events\" xmlns:xlink=\"http://www.w3.org/1999/xlink\"><defs/><rect fill=\"white\" height=\"111.875\" width=\"111.875\" x=\"0\" y=\"0\"/><path d=\"M25,68.75 m0.0,0.0 l5.0,0.625 8.75,-3.75 l5.625,-6.25 1.25,-4.375 l-2.5,-9.375 -3.75,-3.75 l-5.0,0.625 4.375,-1.25 l-1.25,-1.25 -12.5,-2.5 l0.0,1.875 m0.0,5.0 l0.0,5.625 m0.0,6.875 l5.0,-3.75 -1.25,-5.0 m-3.75,12.5 l0.0,1.875 3.125,1.25 l5.625,-1.875 m9.375,22.5 l13.75,0.625 0.0,-3.75 l1.875,4.375 7.5,1.25 l1.25,-8.125 -15.0,-1.25 l-25.625,1.875 0.625,5.625 l15.0,-1.25 0.0,-3.125 l-16.875,5.0 -0.625,-6.25 m12.5,-32.5 l1.875,0.0 m36.875,-21.875 l-1.25,6.875 -8.75,5.0 l-10.625,0.0 -3.125,-1.875 l-5.625,-6.25 0.0,-3.75 m9.375,0.0 l7.5,0.625 m21.875,61.25 l1.25,-6.875 \" fill=\"none\" stroke=\"black\" stroke-width=\"1\"/></svg>"
      ],
      "text/plain": [
       "<IPython.core.display.SVG object>"
      ]
     },
     "metadata": {},
     "output_type": "display_data"
    },
    {
     "name": "stdout",
     "output_type": "stream",
     "text": [
      "nose 6.4835505\n"
     ]
    },
    {
     "data": {
      "image/svg+xml": [
       "<svg baseProfile=\"full\" height=\"111.875\" version=\"1.1\" width=\"99.375\" xmlns=\"http://www.w3.org/2000/svg\" xmlns:ev=\"http://www.w3.org/2001/xml-events\" xmlns:xlink=\"http://www.w3.org/1999/xlink\"><defs/><rect fill=\"white\" height=\"111.875\" width=\"99.375\" x=\"0\" y=\"0\"/><path d=\"M25,41.875 m0.0,0.0 l5.0,10.0 -0.625,6.25 l-4.375,6.25 m3.125,20.0 l-1.25,-3.75 -1.875,3.75 l13.75,0.625 3.125,-0.625 l-0.625,-3.125 1.875,4.375 l7.5,1.25 1.875,-7.5 l-13.75,-1.875 -13.75,1.25 m35.625,-53.75 l-1.25,6.875 -8.75,5.0 l-10.625,0.0 -3.125,-1.875 l-5.625,-6.25 0.0,-3.75 m9.375,0.0 l7.5,0.625 m26.25,2.5 l-1.25,45.0 -2.5,13.75 \" fill=\"none\" stroke=\"black\" stroke-width=\"1\"/></svg>"
      ],
      "text/plain": [
       "<IPython.core.display.SVG object>"
      ]
     },
     "metadata": {},
     "output_type": "display_data"
    },
    {
     "name": "stdout",
     "output_type": "stream",
     "text": [
      "nose 6.913435\n"
     ]
    },
    {
     "data": {
      "image/svg+xml": [
       "<svg baseProfile=\"full\" height=\"109.375\" version=\"1.1\" width=\"77.5\" xmlns=\"http://www.w3.org/2000/svg\" xmlns:ev=\"http://www.w3.org/2001/xml-events\" xmlns:xlink=\"http://www.w3.org/1999/xlink\"><defs/><rect fill=\"white\" height=\"109.375\" width=\"77.5\" x=\"0\" y=\"0\"/><path d=\"M25,25 m0.0,0.0 l15.625,43.125 10.0,16.25 l1.875,0.0 \" fill=\"none\" stroke=\"black\" stroke-width=\"1\"/></svg>"
      ],
      "text/plain": [
       "<IPython.core.display.SVG object>"
      ]
     },
     "metadata": {},
     "output_type": "display_data"
    },
    {
     "name": "stdout",
     "output_type": "stream",
     "text": [
      "nose 4.959797\n"
     ]
    },
    {
     "data": {
      "image/svg+xml": [
       "<svg baseProfile=\"full\" height=\"111.875\" version=\"1.1\" width=\"111.875\" xmlns=\"http://www.w3.org/2000/svg\" xmlns:ev=\"http://www.w3.org/2001/xml-events\" xmlns:xlink=\"http://www.w3.org/1999/xlink\"><defs/><rect fill=\"white\" height=\"111.875\" width=\"111.875\" x=\"0\" y=\"0\"/><path d=\"M25,26.875 m0.0,0.0 l15.625,43.75 10.0,16.25 l1.875,0.0 m34.375,-33.75 l-6.25,-1.875 -5.625,-8.125 l0.625,-11.875 3.75,-6.25 l1.875,0.0 m5.625,53.75 l0.0,1.875 -9.375,-11.25 l-1.25,-7.5 1.25,1.875 l9.375,-0.625 -6.875,7.5 l6.875,-1.25 m-5.0,-40.0 l5.0,-1.25 m0.0,12.5 l0.0,5.625 \" fill=\"none\" stroke=\"black\" stroke-width=\"1\"/></svg>"
      ],
      "text/plain": [
       "<IPython.core.display.SVG object>"
      ]
     },
     "metadata": {},
     "output_type": "display_data"
    },
    {
     "name": "stdout",
     "output_type": "stream",
     "text": [
      "nose 4.1371284\n"
     ]
    },
    {
     "data": {
      "image/svg+xml": [
       "<svg baseProfile=\"full\" height=\"111.875\" version=\"1.1\" width=\"111.875\" xmlns=\"http://www.w3.org/2000/svg\" xmlns:ev=\"http://www.w3.org/2001/xml-events\" xmlns:xlink=\"http://www.w3.org/1999/xlink\"><defs/><rect fill=\"white\" height=\"111.875\" width=\"111.875\" x=\"0\" y=\"0\"/><path d=\"M25,68.125 m0.0,0.0 l0.0,3.75 10.0,15.0 l1.875,0.0 m50.0,-38.75 l-10.0,5.625 -6.875,0.0 l-8.125,-5.625 -2.5,-5.0 l-0.625,-8.125 5.0,-10.0 l1.875,0.0 m19.375,38.75 l-11.25,0.0 -1.25,6.25 l-8.75,1.25 -2.5,-3.125 l-0.625,-5.625 11.875,1.875 l-8.75,7.5 6.875,8.125 l6.875,-1.875 4.375,1.875 l5.0,-1.25 -5.625,2.5 l1.25,3.75 4.375,0.625 l-8.75,-1.25 -5.625,-3.75 l1.875,-11.25 12.5,-0.625 l0.0,-6.25 m-20.625,-33.125 l5.0,-0.625 m5.625,5.625 l-1.25,-1.875 1.25,5.0 l-6.25,4.375 0.0,3.125 l4.375,3.125 5.625,-1.875 m3.125,-21.25 l2.5,0.0 0.625,2.5 l-5.0,-0.625 \" fill=\"none\" stroke=\"black\" stroke-width=\"1\"/></svg>"
      ],
      "text/plain": [
       "<IPython.core.display.SVG object>"
      ]
     },
     "metadata": {},
     "output_type": "display_data"
    },
    {
     "name": "stdout",
     "output_type": "stream",
     "text": [
      "mouth 6.7596216\n"
     ]
    },
    {
     "data": {
      "image/svg+xml": [
       "<svg baseProfile=\"full\" height=\"111.875\" version=\"1.1\" width=\"93.75\" xmlns=\"http://www.w3.org/2000/svg\" xmlns:ev=\"http://www.w3.org/2001/xml-events\" xmlns:xlink=\"http://www.w3.org/1999/xlink\"><defs/><rect fill=\"white\" height=\"111.875\" width=\"93.75\" x=\"0\" y=\"0\"/><path d=\"M31.875,25 m0.0,0.0 l-1.875,0.0 -3.75,6.25 l-1.25,8.75 3.125,8.125 l8.125,5.625 11.25,-1.25 l10.625,-10.0 0.625,-6.25 l-2.5,-6.25 -3.75,-5.0 l-2.5,0.0 1.25,1.875 l-3.75,0.0 m21.25,35.0 l-28.75,1.875 -1.25,6.25 l-8.75,1.25 -2.5,-3.125 l-0.625,-6.25 1.25,1.875 l10.625,0.625 -8.75,7.5 l6.875,8.125 6.875,-1.875 l4.375,1.875 20.625,-1.25 l-1.875,1.875 1.875,6.25 l0.0,-3.125 -7.5,1.875 l-12.5,-0.625 -0.625,-4.375 l-1.25,3.75 -2.5,0.0 l-5.625,-3.75 1.875,-11.25 l13.75,-0.625 1.25,-3.75 l0.625,3.75 12.5,0.625 m-36.25,-40.0 l5.0,-0.625 m5.625,5.625 l-1.25,-1.875 1.25,5.0 l-6.25,4.375 0.0,3.125 l4.375,3.125 5.625,-1.875 m3.75,-15.0 l1.875,0.0 \" fill=\"none\" stroke=\"black\" stroke-width=\"1\"/></svg>"
      ],
      "text/plain": [
       "<IPython.core.display.SVG object>"
      ]
     },
     "metadata": {},
     "output_type": "display_data"
    },
    {
     "name": "stdout",
     "output_type": "stream",
     "text": [
      "mouth 9.566499\n"
     ]
    },
    {
     "data": {
      "image/svg+xml": [
       "<svg baseProfile=\"full\" height=\"111.875\" version=\"1.1\" width=\"106.25\" xmlns=\"http://www.w3.org/2000/svg\" xmlns:ev=\"http://www.w3.org/2001/xml-events\" xmlns:xlink=\"http://www.w3.org/1999/xlink\"><defs/><rect fill=\"white\" height=\"111.875\" width=\"106.25\" x=\"0\" y=\"0\"/><path d=\"M31.875,25 m0.0,0.0 l-1.875,0.0 -3.75,6.25 l-1.25,8.75 3.125,8.125 l8.125,5.625 11.25,-1.25 l10.625,-10.0 0.625,-6.25 l-2.5,-6.25 -3.75,-5.0 l-2.5,0.0 1.25,1.875 l-3.75,0.0 m-6.875,42.5 l13.75,-0.625 1.25,-3.75 l0.625,3.75 13.75,0.625 l0.0,-3.75 1.875,4.375 l6.875,1.25 2.5,-6.875 l-3.125,-1.875 -10.625,-0.625 l-27.5,1.875 -1.25,6.25 l-8.75,1.25 -2.5,-3.125 l-0.625,-6.25 1.25,1.875 l10.625,0.625 -8.75,7.5 l6.875,8.125 6.875,-1.875 l4.375,1.875 25.625,0.0 l5.0,-8.125 -5.625,8.75 l-5.625,3.75 1.25,2.5 l-1.875,-6.25 -0.625,4.375 l-5.0,0.625 -12.5,-0.625 l-0.625,-4.375 -1.25,3.75 l-2.5,0.0 -5.625,-3.75 m-6.25,-51.25 l5.0,-0.625 m5.625,5.625 l-1.25,-1.875 1.25,5.0 l-6.25,4.375 0.0,3.125 l4.375,3.125 5.625,-1.875 m3.75,-15.0 l1.875,0.0 \" fill=\"none\" stroke=\"black\" stroke-width=\"1\"/></svg>"
      ],
      "text/plain": [
       "<IPython.core.display.SVG object>"
      ]
     },
     "metadata": {},
     "output_type": "display_data"
    },
    {
     "name": "stdout",
     "output_type": "stream",
     "text": [
      "mouth 3.949133\n"
     ]
    },
    {
     "data": {
      "image/svg+xml": [
       "<svg baseProfile=\"full\" height=\"111.875\" version=\"1.1\" width=\"111.875\" xmlns=\"http://www.w3.org/2000/svg\" xmlns:ev=\"http://www.w3.org/2001/xml-events\" xmlns:xlink=\"http://www.w3.org/1999/xlink\"><defs/><rect fill=\"white\" height=\"111.875\" width=\"111.875\" x=\"0\" y=\"0\"/><path d=\"M25,28.75 m0.0,0.0 l0.0,5.625 m0.0,6.875 l5.0,-3.75 -1.25,-5.0 m-3.75,12.5 l0.0,1.875 3.125,1.25 l5.625,-1.875 m-8.75,6.875 l9.375,-0.625 10.625,-10.0 l-0.625,-10.625 -5.0,-6.875 l-4.375,1.875 m23.75,43.125 l6.875,1.875 -5.0,8.125 l-6.875,0.0 1.25,4.375 l5.0,-3.75 -6.875,4.375 l-5.0,0.625 -12.5,-0.625 l-0.625,-5.0 -4.375,-1.875 l-5.625,0.625 0.0,2.5 l8.75,3.125 2.5,-5.625 l16.25,0.625 3.125,7.5 l10.625,-16.25 1.25,-7.5 l-42.5,0.0 1.875,5.625 l-1.875,1.25 16.25,-1.25 l1.25,-3.75 0.625,3.75 l15.0,0.625 -1.25,-3.125 m-19.375,-35.0 l1.875,0.0 m41.25,55.625 l6.25,-13.125 0.0,-9.375 \" fill=\"none\" stroke=\"black\" stroke-width=\"1\"/></svg>"
      ],
      "text/plain": [
       "<IPython.core.display.SVG object>"
      ]
     },
     "metadata": {},
     "output_type": "display_data"
    },
    {
     "name": "stdout",
     "output_type": "stream",
     "text": [
      "nose 10.561351\n"
     ]
    },
    {
     "data": {
      "image/svg+xml": [
       "<svg baseProfile=\"full\" height=\"111.25\" version=\"1.1\" width=\"99.375\" xmlns=\"http://www.w3.org/2000/svg\" xmlns:ev=\"http://www.w3.org/2001/xml-events\" xmlns:xlink=\"http://www.w3.org/1999/xlink\"><defs/><rect fill=\"white\" height=\"111.25\" width=\"99.375\" x=\"0\" y=\"0\"/><path d=\"M25,25.625 m0.0,0.0 l5.0,10.0 -0.625,6.25 l-4.375,6.25 m0.0,14.375 l13.75,-1.25 13.75,1.875 l-2.5,8.125 -8.125,-3.125 l-16.875,-0.625 1.875,-0.625 l0.0,-2.5 15.0,3.125 l-0.625,-2.5 8.125,6.875 l-3.125,6.25 -6.875,5.625 l-2.5,-5.0 -11.875,-0.625 l19.375,0.625 -6.875,5.625 l-12.5,0.0 13.75,0.0 l1.25,1.875 m25.0,0.0 l3.75,-5.0 2.5,-10.625 l3.125,-45.625 \" fill=\"none\" stroke=\"black\" stroke-width=\"1\"/></svg>"
      ],
      "text/plain": [
       "<IPython.core.display.SVG object>"
      ]
     },
     "metadata": {},
     "output_type": "display_data"
    },
    {
     "name": "stdout",
     "output_type": "stream",
     "text": [
      "nose 9.34552\n"
     ]
    },
    {
     "data": {
      "image/svg+xml": [
       "<svg baseProfile=\"full\" height=\"111.25\" version=\"1.1\" width=\"91.875\" xmlns=\"http://www.w3.org/2000/svg\" xmlns:ev=\"http://www.w3.org/2001/xml-events\" xmlns:xlink=\"http://www.w3.org/1999/xlink\"><defs/><rect fill=\"white\" height=\"111.25\" width=\"91.875\" x=\"0\" y=\"0\"/><path d=\"M25,25 m0.0,0.0 l11.25,30.0 7.5,12.5 l11.25,11.875 11.875,6.875 \" fill=\"none\" stroke=\"black\" stroke-width=\"1\"/></svg>"
      ],
      "text/plain": [
       "<IPython.core.display.SVG object>"
      ]
     },
     "metadata": {},
     "output_type": "display_data"
    },
    {
     "name": "stdout",
     "output_type": "stream",
     "text": [
      "nose 4.350287\n"
     ]
    },
    {
     "data": {
      "image/svg+xml": [
       "<svg baseProfile=\"full\" height=\"111.875\" version=\"1.1\" width=\"107.5\" xmlns=\"http://www.w3.org/2000/svg\" xmlns:ev=\"http://www.w3.org/2001/xml-events\" xmlns:xlink=\"http://www.w3.org/1999/xlink\"><defs/><rect fill=\"white\" height=\"111.875\" width=\"107.5\" x=\"0\" y=\"0\"/><path d=\"M25,25 m0.0,0.0 l11.25,30.0 7.5,12.5 l11.25,11.875 12.5,7.5 l3.125,0.0 m0.625,-61.875 l1.875,7.5 9.375,5.625 m0.0,25.0 l0.0,1.875 -9.375,-11.25 l-1.25,-7.5 1.25,1.875 l9.375,-0.625 -6.875,7.5 l6.875,-1.25 m0.0,-28.75 l0.0,5.625 \" fill=\"none\" stroke=\"black\" stroke-width=\"1\"/></svg>"
      ],
      "text/plain": [
       "<IPython.core.display.SVG object>"
      ]
     },
     "metadata": {},
     "output_type": "display_data"
    },
    {
     "name": "stdout",
     "output_type": "stream",
     "text": [
      "mouth 2.7418008\n"
     ]
    },
    {
     "data": {
      "image/svg+xml": [
       "<svg baseProfile=\"full\" height=\"111.875\" version=\"1.1\" width=\"111.875\" xmlns=\"http://www.w3.org/2000/svg\" xmlns:ev=\"http://www.w3.org/2001/xml-events\" xmlns:xlink=\"http://www.w3.org/1999/xlink\"><defs/><rect fill=\"white\" height=\"111.875\" width=\"111.875\" x=\"0\" y=\"0\"/><path d=\"M25,52.5 m0.0,0.0 l0.0,3.75 9.375,13.75 l9.375,9.375 12.5,7.5 l3.125,0.0 m0.625,-61.875 l1.875,7.5 8.125,5.625 l9.375,-0.625 7.5,-4.375 m-1.875,15.0 l-11.25,0.0 -1.25,6.25 l-8.75,1.25 -2.5,-3.125 l-0.625,-5.625 11.875,1.875 l-8.75,7.5 6.875,8.125 l6.875,-1.875 4.375,1.875 l5.0,-1.25 -5.625,2.5 l1.25,3.75 4.375,0.625 l-8.75,-1.25 -5.625,-3.75 l1.875,-11.25 12.5,-0.625 l0.0,-6.25 m-13.75,-21.875 l-2.5,1.25 0.0,3.125 l2.5,2.5 7.5,-1.25 \" fill=\"none\" stroke=\"black\" stroke-width=\"1\"/></svg>"
      ],
      "text/plain": [
       "<IPython.core.display.SVG object>"
      ]
     },
     "metadata": {},
     "output_type": "display_data"
    },
    {
     "name": "stdout",
     "output_type": "stream",
     "text": [
      "mouth 5.8182073\n"
     ]
    },
    {
     "data": {
      "image/svg+xml": [
       "<svg baseProfile=\"full\" height=\"111.875\" version=\"1.1\" width=\"111.875\" xmlns=\"http://www.w3.org/2000/svg\" xmlns:ev=\"http://www.w3.org/2001/xml-events\" xmlns:xlink=\"http://www.w3.org/1999/xlink\"><defs/><rect fill=\"white\" height=\"111.875\" width=\"111.875\" x=\"0\" y=\"0\"/><path d=\"M25,75.625 m0.0,0.0 l5.0,5.0 13.125,6.25 m1.25,-61.875 l1.875,7.5 8.125,5.625 l6.875,0.0 8.75,-3.75 l6.875,-9.375 m10.0,21.25 l-28.75,1.875 -1.25,6.25 l-8.75,1.25 -2.5,-3.125 l-0.625,-6.25 1.25,1.875 l10.625,0.625 -8.75,7.5 l6.875,8.125 6.875,-1.875 l4.375,1.875 20.625,-1.25 l-1.875,1.875 1.875,6.875 l0.0,-3.75 -7.5,1.875 l-12.5,-0.625 -0.625,-4.375 l-1.25,3.75 -2.5,0.0 l-5.625,-3.75 1.875,-11.25 l13.75,-0.625 1.25,-3.75 l0.625,3.75 12.5,0.0 m-29.375,-28.125 l-2.5,1.25 0.0,3.125 l2.5,2.5 7.5,-1.25 \" fill=\"none\" stroke=\"black\" stroke-width=\"1\"/></svg>"
      ],
      "text/plain": [
       "<IPython.core.display.SVG object>"
      ]
     },
     "metadata": {},
     "output_type": "display_data"
    },
    {
     "name": "stdout",
     "output_type": "stream",
     "text": [
      "mouth 6.198519\n"
     ]
    },
    {
     "data": {
      "image/svg+xml": [
       "<svg baseProfile=\"full\" height=\"111.875\" version=\"1.1\" width=\"111.875\" xmlns=\"http://www.w3.org/2000/svg\" xmlns:ev=\"http://www.w3.org/2001/xml-events\" xmlns:xlink=\"http://www.w3.org/1999/xlink\"><defs/><rect fill=\"white\" height=\"111.875\" width=\"111.875\" x=\"0\" y=\"0\"/><path d=\"M25,85.625 m0.0,0.0 l3.125,1.25 m0.625,-61.875 l1.875,7.5 8.125,5.625 l6.875,0.0 8.75,-3.75 l6.875,-9.375 m-18.125,28.75 l13.75,-0.625 1.25,-3.75 l0.625,3.75 13.75,0.625 l0.0,-3.75 1.875,4.375 l6.875,1.25 2.5,-6.875 l-3.125,-1.875 -10.625,-0.625 l-27.5,1.875 -1.25,6.25 l-8.75,1.25 -2.5,-3.125 l-0.625,-6.25 1.25,1.875 l10.625,0.625 -8.75,7.5 l6.875,8.125 6.875,-1.875 l4.375,1.875 25.625,0.0 l5.0,-8.125 -5.625,8.75 l-5.625,3.75 0.625,3.125 l-1.25,-6.875 -0.625,4.375 l-5.0,0.625 -12.5,-0.625 l-0.625,-4.375 -1.25,3.75 l-2.5,0.0 -5.625,-3.75 m0.625,-40.0 l-2.5,1.25 0.0,3.125 l2.5,2.5 7.5,-1.25 m31.25,56.25 l-3.75,0.0 10.0,-4.375 \" fill=\"none\" stroke=\"black\" stroke-width=\"1\"/></svg>"
      ],
      "text/plain": [
       "<IPython.core.display.SVG object>"
      ]
     },
     "metadata": {},
     "output_type": "display_data"
    },
    {
     "name": "stdout",
     "output_type": "stream",
     "text": [
      "mouth 6.9370837\n"
     ]
    },
    {
     "data": {
      "image/svg+xml": [
       "<svg baseProfile=\"full\" height=\"111.875\" version=\"1.1\" width=\"111.875\" xmlns=\"http://www.w3.org/2000/svg\" xmlns:ev=\"http://www.w3.org/2001/xml-events\" xmlns:xlink=\"http://www.w3.org/1999/xlink\"><defs/><rect fill=\"white\" height=\"111.875\" width=\"111.875\" x=\"0\" y=\"0\"/><path d=\"M25,29.375 m0.0,0.0 l0.0,1.875 3.125,1.25 l5.625,-1.875 m-8.75,6.875 l5.0,0.625 8.75,-3.75 l6.875,-9.375 m13.125,29.375 l6.875,1.875 -5.0,8.125 l-6.875,0.0 1.25,4.375 l5.0,-3.75 -6.875,4.375 l-5.0,0.625 -12.5,-0.625 l-0.625,-5.0 -4.375,-1.875 l-5.625,0.625 0.0,2.5 l8.75,3.125 2.5,-5.625 l16.25,0.625 2.5,8.125 l11.25,-16.875 1.25,-7.5 l-42.5,0.0 1.875,5.625 l-1.875,1.25 16.25,-1.25 l1.25,-3.75 0.625,3.75 l15.0,0.625 -1.25,-3.125 m8.125,36.25 l-3.75,0.0 14.375,-7.5 l7.5,-10.625 3.75,-11.25 l0.0,-9.375 0.0,10.0 m-61.875,-32.5 l1.25,-0.625 \" fill=\"none\" stroke=\"black\" stroke-width=\"1\"/></svg>"
      ],
      "text/plain": [
       "<IPython.core.display.SVG object>"
      ]
     },
     "metadata": {},
     "output_type": "display_data"
    },
    {
     "name": "stdout",
     "output_type": "stream",
     "text": [
      "nose 8.913547\n"
     ]
    },
    {
     "data": {
      "image/svg+xml": [
       "<svg baseProfile=\"full\" height=\"111.875\" version=\"1.1\" width=\"98.125\" xmlns=\"http://www.w3.org/2000/svg\" xmlns:ev=\"http://www.w3.org/2001/xml-events\" xmlns:xlink=\"http://www.w3.org/1999/xlink\"><defs/><rect fill=\"white\" height=\"111.875\" width=\"98.125\" x=\"0\" y=\"0\"/><path d=\"M30.0,25 m0.0,0.0 l-5.0,8.125 m0.0,14.375 l13.75,-1.25 13.75,1.875 l-2.5,8.125 -8.125,-3.125 l-16.875,-0.625 1.875,-0.625 l0.0,-2.5 15.0,3.125 l-0.625,-2.5 8.125,6.875 l-3.125,6.25 -6.875,5.625 l-2.5,-5.0 -11.875,-0.625 l19.375,0.625 -6.875,5.625 l-12.5,0.0 13.75,0.0 l0.625,2.5 m6.25,15.0 l3.75,0.0 10.625,-7.5 l8.75,-13.125 4.375,-24.375 l-0.625,-16.875 \" fill=\"none\" stroke=\"black\" stroke-width=\"1\"/></svg>"
      ],
      "text/plain": [
       "<IPython.core.display.SVG object>"
      ]
     },
     "metadata": {},
     "output_type": "display_data"
    },
    {
     "name": "stdout",
     "output_type": "stream",
     "text": [
      "nose 9.215873\n"
     ]
    },
    {
     "data": {
      "image/svg+xml": [
       "<svg baseProfile=\"full\" height=\"95.625\" version=\"1.1\" width=\"86.25\" xmlns=\"http://www.w3.org/2000/svg\" xmlns:ev=\"http://www.w3.org/2001/xml-events\" xmlns:xlink=\"http://www.w3.org/1999/xlink\"><defs/><rect fill=\"white\" height=\"95.625\" width=\"86.25\" x=\"0\" y=\"0\"/><path d=\"M25,25 m0.0,0.0 l6.875,16.875 8.125,12.5 l9.375,9.375 11.875,6.875 \" fill=\"none\" stroke=\"black\" stroke-width=\"1\"/></svg>"
      ],
      "text/plain": [
       "<IPython.core.display.SVG object>"
      ]
     },
     "metadata": {},
     "output_type": "display_data"
    },
    {
     "name": "stdout",
     "output_type": "stream",
     "text": [
      "nose 5.94899\n"
     ]
    },
    {
     "data": {
      "image/svg+xml": [
       "<svg baseProfile=\"full\" height=\"100.625\" version=\"1.1\" width=\"101.875\" xmlns=\"http://www.w3.org/2000/svg\" xmlns:ev=\"http://www.w3.org/2001/xml-events\" xmlns:xlink=\"http://www.w3.org/1999/xlink\"><defs/><rect fill=\"white\" height=\"100.625\" width=\"101.875\" x=\"0\" y=\"0\"/><path d=\"M25,25 m0.0,0.0 l11.875,25.0 12.5,13.75 l13.75,8.125 13.75,3.75 m0.0,-28.125 l0.0,1.875 -9.375,-11.25 l-1.25,-7.5 1.25,1.875 l9.375,-0.625 -6.875,7.5 l6.875,-1.25 \" fill=\"none\" stroke=\"black\" stroke-width=\"1\"/></svg>"
      ],
      "text/plain": [
       "<IPython.core.display.SVG object>"
      ]
     },
     "metadata": {},
     "output_type": "display_data"
    },
    {
     "name": "stdout",
     "output_type": "stream",
     "text": [
      "nose 1.9708422\n"
     ]
    },
    {
     "data": {
      "image/svg+xml": [
       "<svg baseProfile=\"full\" height=\"95.0\" version=\"1.1\" width=\"111.875\" xmlns=\"http://www.w3.org/2000/svg\" xmlns:ev=\"http://www.w3.org/2001/xml-events\" xmlns:xlink=\"http://www.w3.org/1999/xlink\"><defs/><rect fill=\"white\" height=\"95.0\" width=\"111.875\" x=\"0\" y=\"0\"/><path d=\"M25,30.625 m0.0,0.0 l0.0,3.75 7.5,11.25 l13.125,13.125 17.5,8.75 l10.0,2.5 13.75,0.0 m-1.875,-43.75 l-11.25,0.0 -1.25,6.25 l-8.75,1.25 -2.5,-3.125 l-0.625,-5.625 11.875,1.875 l-8.75,7.5 6.875,8.125 l6.875,-1.875 4.375,1.875 l5.0,-1.25 -5.625,2.5 l1.25,3.75 4.375,0.625 l-8.75,-1.25 -5.625,-3.75 l1.875,-11.25 12.5,-0.625 l0.0,-6.25 \" fill=\"none\" stroke=\"black\" stroke-width=\"1\"/></svg>"
      ],
      "text/plain": [
       "<IPython.core.display.SVG object>"
      ]
     },
     "metadata": {},
     "output_type": "display_data"
    },
    {
     "name": "stdout",
     "output_type": "stream",
     "text": [
      "mouth 1.7593135\n"
     ]
    },
    {
     "data": {
      "image/svg+xml": [
       "<svg baseProfile=\"full\" height=\"95.625\" version=\"1.1\" width=\"111.875\" xmlns=\"http://www.w3.org/2000/svg\" xmlns:ev=\"http://www.w3.org/2001/xml-events\" xmlns:xlink=\"http://www.w3.org/1999/xlink\"><defs/><rect fill=\"white\" height=\"95.625\" width=\"111.875\" x=\"0\" y=\"0\"/><path d=\"M25,54.375 m0.0,0.0 l3.125,3.75 13.75,8.125 l15.625,4.375 29.375,-2.5 m0.0,-43.125 l-28.75,1.875 -1.25,6.25 l-8.75,1.25 -2.5,-3.125 l-0.625,-6.25 1.25,1.875 l10.625,0.625 -8.75,7.5 l6.875,8.125 6.875,-1.875 l4.375,1.875 20.625,-1.25 l-1.875,1.875 1.875,6.875 l0.0,-3.75 -7.5,1.875 l-12.5,-0.625 -0.625,-4.375 l-1.25,3.75 -2.5,0.0 l-5.625,-3.75 1.875,-11.25 l13.75,-0.625 1.25,-3.75 l0.625,3.75 12.5,0.0 \" fill=\"none\" stroke=\"black\" stroke-width=\"1\"/></svg>"
      ],
      "text/plain": [
       "<IPython.core.display.SVG object>"
      ]
     },
     "metadata": {},
     "output_type": "display_data"
    },
    {
     "name": "stdout",
     "output_type": "stream",
     "text": [
      "mouth 7.798\n"
     ]
    },
    {
     "data": {
      "image/svg+xml": [
       "<svg baseProfile=\"full\" height=\"95.625\" version=\"1.1\" width=\"111.875\" xmlns=\"http://www.w3.org/2000/svg\" xmlns:ev=\"http://www.w3.org/2001/xml-events\" xmlns:xlink=\"http://www.w3.org/1999/xlink\"><defs/><rect fill=\"white\" height=\"95.625\" width=\"111.875\" x=\"0\" y=\"0\"/><path d=\"M25,64.375 m0.0,0.0 l1.25,1.875 15.625,4.375 l10.0,0.0 22.5,-3.125 l12.5,-6.25 m-43.75,-28.75 l13.75,-0.625 1.25,-3.75 l0.625,3.75 13.75,0.625 l0.0,-3.75 1.875,4.375 l6.875,1.25 2.5,-6.875 l-3.125,-1.875 -10.625,-0.625 l-27.5,1.875 -1.25,6.25 l-8.75,1.25 -2.5,-3.125 l-0.625,-6.25 1.25,1.875 l10.625,0.625 -8.75,7.5 l6.875,8.125 6.875,-1.875 l4.375,1.875 25.625,0.0 l5.0,-8.125 -5.625,8.75 l-5.625,3.75 0.625,3.125 l-1.25,-6.875 -0.625,4.375 l-5.0,0.625 -12.5,-0.625 l-0.625,-4.375 -1.25,3.75 l-2.5,0.0 -5.625,-3.75 \" fill=\"none\" stroke=\"black\" stroke-width=\"1\"/></svg>"
      ],
      "text/plain": [
       "<IPython.core.display.SVG object>"
      ]
     },
     "metadata": {},
     "output_type": "display_data"
    },
    {
     "name": "stdout",
     "output_type": "stream",
     "text": [
      "mouth 7.452071\n"
     ]
    },
    {
     "data": {
      "image/svg+xml": [
       "<svg baseProfile=\"full\" height=\"93.75\" version=\"1.1\" width=\"111.875\" xmlns=\"http://www.w3.org/2000/svg\" xmlns:ev=\"http://www.w3.org/2001/xml-events\" xmlns:xlink=\"http://www.w3.org/1999/xlink\"><defs/><rect fill=\"white\" height=\"93.75\" width=\"111.875\" x=\"0\" y=\"0\"/><path d=\"M58.75,31.875 m0.0,0.0 l6.875,1.875 -5.0,8.125 l-6.875,0.0 1.25,4.375 l5.0,-3.75 -6.875,4.375 l-5.0,0.625 -12.5,-0.625 l-0.625,-5.0 -4.375,-1.875 l-5.625,0.625 0.0,2.5 l8.75,3.125 2.5,-5.625 l16.25,0.625 2.5,8.125 l11.25,-16.875 1.25,-7.5 l-42.5,0.0 1.875,5.625 l-1.875,1.25 16.25,-1.25 l1.25,-3.75 0.625,3.75 l15.0,0.625 -1.25,-3.125 m-31.875,40.0 l21.25,0.625 18.125,-4.375 l11.25,-7.5 7.5,-10.625 l3.75,-11.25 0.0,-9.375 l0.0,10.0 \" fill=\"none\" stroke=\"black\" stroke-width=\"1\"/></svg>"
      ],
      "text/plain": [
       "<IPython.core.display.SVG object>"
      ]
     },
     "metadata": {},
     "output_type": "display_data"
    },
    {
     "name": "stdout",
     "output_type": "stream",
     "text": [
      "mouth 6.3544526\n"
     ]
    },
    {
     "data": {
      "image/svg+xml": [
       "<svg baseProfile=\"full\" height=\"100.625\" version=\"1.1\" width=\"98.75\" xmlns=\"http://www.w3.org/2000/svg\" xmlns:ev=\"http://www.w3.org/2001/xml-events\" xmlns:xlink=\"http://www.w3.org/1999/xlink\"><defs/><rect fill=\"white\" height=\"100.625\" width=\"98.75\" x=\"0\" y=\"0\"/><path d=\"M25,31.875 m0.0,0.0 l13.75,-1.25 13.75,1.875 l-2.5,8.125 -8.125,-3.125 l-16.875,-0.625 1.875,-0.625 l0.0,-2.5 15.0,3.125 l-0.625,-2.5 8.125,6.875 l-3.125,6.25 -6.875,5.625 l-2.5,-5.0 -11.875,-0.625 l19.375,0.625 -6.875,5.625 l-12.5,0.0 13.75,0.0 l0.625,2.5 m-14.375,18.75 l5.625,0.625 16.875,-3.75 l13.75,-9.375 7.5,-11.875 l5.0,-25.625 \" fill=\"none\" stroke=\"black\" stroke-width=\"1\"/></svg>"
      ],
      "text/plain": [
       "<IPython.core.display.SVG object>"
      ]
     },
     "metadata": {},
     "output_type": "display_data"
    },
    {
     "data": {
      "image/png": "[encoded data removed]",
      "text/plain": [
       "<matplotlib.figure.Figure at 0x11a876dd0>"
      ]
     },
     "metadata": {},
     "output_type": "display_data"
    },
    {
     "name": "stdout",
     "output_type": "stream",
     "text": [
      "INFO:tensorflow:Model using gpu.\n",
      "INFO:tensorflow:Loading model four_class_checkpoint/vector-110000.\n",
      "INFO:tensorflow:Restoring parameters from four_class_checkpoint/vector-110000\n",
      "eye 1.221745\n"
     ]
    },
    {
     "data": {
      "image/svg+xml": [
       "<svg baseProfile=\"full\" height=\"90.625\" version=\"1.1\" width=\"96.25\" xmlns=\"http://www.w3.org/2000/svg\" xmlns:ev=\"http://www.w3.org/2001/xml-events\" xmlns:xlink=\"http://www.w3.org/1999/xlink\"><defs/><rect fill=\"white\" height=\"90.625\" width=\"96.25\" x=\"0\" y=\"0\"/><path d=\"M25,35.625 m0.0,0.0 l0.625,-5.0 5.625,-1.875 l16.25,4.375 m-18.125,21.875 l0.0,10.625 m25.0,-21.875 l-10.0,-1.875 -12.5,6.875 l5.625,3.125 13.75,0.0 l4.375,-2.5 1.875,-4.375 l-2.5,-0.625 4.375,0.625 l-11.875,5.625 0.0,-3.125 l-2.5,-1.875 -2.5,1.25 l0.0,3.125 1.25,-5.0 m18.75,-15.0 l8.75,-5.0 m-6.875,40.625 l2.5,-3.125 \" fill=\"none\" stroke=\"black\" stroke-width=\"1\"/></svg>"
      ],
      "text/plain": [
       "<IPython.core.display.SVG object>"
      ]
     },
     "metadata": {},
     "output_type": "display_data"
    },
    {
     "name": "stdout",
     "output_type": "stream",
     "text": [
      "eye 1.7852938\n"
     ]
    },
    {
     "data": {
      "image/svg+xml": [
       "<svg baseProfile=\"full\" height=\"97.5\" version=\"1.1\" width=\"111.875\" xmlns=\"http://www.w3.org/2000/svg\" xmlns:ev=\"http://www.w3.org/2001/xml-events\" xmlns:xlink=\"http://www.w3.org/1999/xlink\"><defs/><rect fill=\"white\" height=\"97.5\" width=\"111.875\" x=\"0\" y=\"0\"/><path d=\"M46.875,39.375 m0.0,0.0 l-8.75,-3.125 -10.625,0.0 l-2.5,0.625 0.0,7.5 m4.375,17.5 l0.0,10.625 m25.0,-21.875 l-10.0,-1.875 -12.5,6.875 l5.625,3.125 13.75,0.0 l4.375,-2.5 1.875,-4.375 l-2.5,-0.625 4.375,0.625 l-11.875,5.625 0.0,-3.125 l-2.5,-1.875 -2.5,1.25 l0.0,3.125 1.25,-5.0 m18.75,-15.0 l11.25,-6.875 13.125,-5.0 m-22.5,47.5 l2.5,-3.125 \" fill=\"none\" stroke=\"black\" stroke-width=\"1\"/></svg>"
      ],
      "text/plain": [
       "<IPython.core.display.SVG object>"
      ]
     },
     "metadata": {},
     "output_type": "display_data"
    },
    {
     "name": "stdout",
     "output_type": "stream",
     "text": [
      "nose 4.82698\n"
     ]
    },
    {
     "data": {
      "image/svg+xml": [
       "<svg baseProfile=\"full\" height=\"96.875\" version=\"1.1\" width=\"111.875\" xmlns=\"http://www.w3.org/2000/svg\" xmlns:ev=\"http://www.w3.org/2001/xml-events\" xmlns:xlink=\"http://www.w3.org/1999/xlink\"><defs/><rect fill=\"white\" height=\"96.875\" width=\"111.875\" x=\"0\" y=\"0\"/><path d=\"M25,36.25 m0.0,0.0 l6.875,3.125 m-6.875,9.375 l9.375,-0.625 7.5,3.125 l-4.375,6.25 -12.5,1.25 l2.5,-1.875 0.625,-5.0 l3.75,1.875 0.0,3.125 l-3.75,-6.25 15.625,0.625 m3.125,-15.0 l11.25,-6.875 13.125,-4.375 l15.625,1.875 m-38.125,45.0 l2.5,-3.125 m35.625,-27.5 l-2.5,3.125 2.5,6.25 l-13.75,-4.375 6.875,-5.625 l6.875,-2.5 \" fill=\"none\" stroke=\"black\" stroke-width=\"1\"/></svg>"
      ],
      "text/plain": [
       "<IPython.core.display.SVG object>"
      ]
     },
     "metadata": {},
     "output_type": "display_data"
    },
    {
     "name": "stdout",
     "output_type": "stream",
     "text": [
      "eye 5.591617\n"
     ]
    },
    {
     "data": {
      "image/svg+xml": [
       "<svg baseProfile=\"full\" height=\"96.875\" version=\"1.1\" width=\"111.875\" xmlns=\"http://www.w3.org/2000/svg\" xmlns:ev=\"http://www.w3.org/2001/xml-events\" xmlns:xlink=\"http://www.w3.org/1999/xlink\"><defs/><rect fill=\"white\" height=\"96.875\" width=\"111.875\" x=\"0\" y=\"0\"/><path d=\"M25,50.0 m0.0,0.0 l0.0,0.625 m6.25,-14.375 l11.25,-6.875 13.125,-4.375 l16.875,1.25 11.875,7.5 m-51.25,38.125 l2.5,-3.125 m39.375,-19.375 l6.25,-1.25 3.125,-5.625 l2.5,-0.625 -9.375,-3.125 l-13.125,1.875 -6.875,5.625 l6.875,3.125 5.0,0.0 l-0.625,-5.0 1.875,-2.5 l3.75,2.5 0.0,4.375 l-3.75,0.625 \" fill=\"none\" stroke=\"black\" stroke-width=\"1\"/></svg>"
      ],
      "text/plain": [
       "<IPython.core.display.SVG object>"
      ]
     },
     "metadata": {},
     "output_type": "display_data"
    },
    {
     "name": "stdout",
     "output_type": "stream",
     "text": [
      "eye 2.040875\n"
     ]
    },
    {
     "data": {
      "image/svg+xml": [
       "<svg baseProfile=\"full\" height=\"74.375\" version=\"1.1\" width=\"96.25\" xmlns=\"http://www.w3.org/2000/svg\" xmlns:ev=\"http://www.w3.org/2001/xml-events\" xmlns:xlink=\"http://www.w3.org/1999/xlink\"><defs/><rect fill=\"white\" height=\"74.375\" width=\"96.25\" x=\"0\" y=\"0\"/><path d=\"M68.125,33.125 m0.0,0.0 l-11.25,-6.875 -10.0,-1.25 l-6.875,0.0 -15.0,6.25 m34.375,18.125 l6.25,-1.25 3.125,-5.625 l2.5,-0.625 -9.375,-3.125 l-13.125,1.875 -6.875,5.625 l6.875,3.125 5.0,0.0 l-0.625,-5.0 1.875,-2.5 l3.75,2.5 0.0,4.375 l-3.75,0.625 \" fill=\"none\" stroke=\"black\" stroke-width=\"1\"/></svg>"
      ],
      "text/plain": [
       "<IPython.core.display.SVG object>"
      ]
     },
     "metadata": {},
     "output_type": "display_data"
    },
    {
     "name": "stdout",
     "output_type": "stream",
     "text": [
      "nose 2.368907\n"
     ]
    },
    {
     "data": {
      "image/svg+xml": [
       "<svg baseProfile=\"full\" height=\"75.0\" version=\"1.1\" width=\"80.625\" xmlns=\"http://www.w3.org/2000/svg\" xmlns:ev=\"http://www.w3.org/2001/xml-events\" xmlns:xlink=\"http://www.w3.org/1999/xlink\"><defs/><rect fill=\"white\" height=\"75.0\" width=\"80.625\" x=\"0\" y=\"0\"/><path d=\"M25,25 m0.0,0.0 l16.25,1.875 11.875,7.5 m-9.375,15.625 l6.25,-1.25 3.125,-5.625 l2.5,-0.625 -9.375,-3.125 l-13.125,1.875 -6.875,5.625 l6.875,3.125 5.0,0.0 l-0.625,-5.0 1.875,-2.5 l3.75,2.5 0.0,4.375 l-3.75,0.625 \" fill=\"none\" stroke=\"black\" stroke-width=\"1\"/></svg>"
      ],
      "text/plain": [
       "<IPython.core.display.SVG object>"
      ]
     },
     "metadata": {},
     "output_type": "display_data"
    },
    {
     "name": "stdout",
     "output_type": "stream",
     "text": [
      "nose 6.1055446\n"
     ]
    },
    {
     "data": {
      "image/svg+xml": [
       "<svg baseProfile=\"full\" height=\"96.25\" version=\"1.1\" width=\"100.0\" xmlns=\"http://www.w3.org/2000/svg\" xmlns:ev=\"http://www.w3.org/2001/xml-events\" xmlns:xlink=\"http://www.w3.org/1999/xlink\"><defs/><rect fill=\"white\" height=\"96.25\" width=\"100.0\" x=\"0\" y=\"0\"/><path d=\"M25,25 m0.0,0.0 l12.5,8.125 m-12.5,8.125 l0.0,1.875 2.5,0.625 l0.0,4.375 -2.5,1.875 l0.0,-2.5 9.375,0.0 l3.125,-5.625 2.5,-0.625 l-15.0,-3.125 m48.75,2.5 l1.25,30.625 \" fill=\"none\" stroke=\"black\" stroke-width=\"1\"/></svg>"
      ],
      "text/plain": [
       "<IPython.core.display.SVG object>"
      ]
     },
     "metadata": {},
     "output_type": "display_data"
    },
    {
     "name": "stdout",
     "output_type": "stream",
     "text": [
      "nose 0.5545628\n"
     ]
    },
    {
     "data": {
      "image/svg+xml": [
       "<svg baseProfile=\"full\" height=\"106.25\" version=\"1.1\" width=\"96.25\" xmlns=\"http://www.w3.org/2000/svg\" xmlns:ev=\"http://www.w3.org/2001/xml-events\" xmlns:xlink=\"http://www.w3.org/1999/xlink\"><defs/><rect fill=\"white\" height=\"106.25\" width=\"96.25\" x=\"0\" y=\"0\"/><path d=\"M25,35.625 m0.0,0.0 l0.625,-5.0 5.625,-1.875 l16.25,4.375 m-18.125,21.875 l0.625,13.75 4.375,12.5 m20.0,-37.5 l-10.0,-1.875 -12.5,6.875 l5.625,3.125 13.75,0.0 l4.375,-2.5 1.875,-4.375 l-2.5,-0.625 4.375,0.625 l-11.875,5.625 0.0,-3.125 l-2.5,-1.875 -2.5,1.25 l0.0,3.125 1.25,-5.0 m15.625,36.25 l7.5,-18.75 m-4.375,-32.5 l8.75,-5.0 \" fill=\"none\" stroke=\"black\" stroke-width=\"1\"/></svg>"
      ],
      "text/plain": [
       "<IPython.core.display.SVG object>"
      ]
     },
     "metadata": {},
     "output_type": "display_data"
    },
    {
     "name": "stdout",
     "output_type": "stream",
     "text": [
      "None 1.6016368\n"
     ]
    },
    {
     "data": {
      "image/svg+xml": [
       "<svg baseProfile=\"full\" height=\"111.875\" version=\"1.1\" width=\"111.25\" xmlns=\"http://www.w3.org/2000/svg\" xmlns:ev=\"http://www.w3.org/2001/xml-events\" xmlns:xlink=\"http://www.w3.org/1999/xlink\"><defs/><rect fill=\"white\" height=\"111.875\" width=\"111.25\" x=\"0\" y=\"0\"/><path d=\"M46.875,38.125 m0.0,0.0 l-8.75,-3.125 -10.625,0.0 l-2.5,0.625 0.0,7.5 m4.375,17.5 l0.625,13.75 4.375,12.5 m20.0,-37.5 l-10.0,-1.875 -12.5,6.875 l5.625,3.125 13.75,0.0 l4.375,-2.5 1.875,-4.375 l-2.5,-0.625 4.375,0.625 l-11.875,5.625 0.0,-3.125 l-2.5,-1.875 -2.5,1.25 l0.0,3.125 1.25,-5.0 m15.625,36.25 l7.5,-18.75 m-4.375,-32.5 l11.25,-6.875 12.5,-3.75 \" fill=\"none\" stroke=\"black\" stroke-width=\"1\"/></svg>"
      ],
      "text/plain": [
       "<IPython.core.display.SVG object>"
      ]
     },
     "metadata": {},
     "output_type": "display_data"
    },
    {
     "name": "stdout",
     "output_type": "stream",
     "text": [
      "no classification\n",
      "nose 4.509324\n"
     ]
    },
    {
     "data": {
      "image/svg+xml": [
       "<svg baseProfile=\"full\" height=\"111.875\" version=\"1.1\" width=\"111.875\" xmlns=\"http://www.w3.org/2000/svg\" xmlns:ev=\"http://www.w3.org/2001/xml-events\" xmlns:xlink=\"http://www.w3.org/1999/xlink\"><defs/><rect fill=\"white\" height=\"111.875\" width=\"111.875\" x=\"0\" y=\"0\"/><path d=\"M25,35.625 m0.0,0.0 l6.875,3.125 m-6.875,9.375 l9.375,-0.625 7.5,3.125 l-4.375,6.25 -12.5,1.25 l2.5,-1.875 0.625,-5.0 l3.75,1.875 0.0,3.125 l-3.75,-6.25 15.625,0.625 m0.0,36.25 l7.5,-18.75 m-4.375,-32.5 l11.25,-6.875 13.75,-3.75 m15.0,15.625 l-2.5,3.125 2.5,6.25 l-13.75,-4.375 6.875,-5.625 l6.875,-2.5 m-9.375,-12.5 l9.375,1.25 \" fill=\"none\" stroke=\"black\" stroke-width=\"1\"/></svg>"
      ],
      "text/plain": [
       "<IPython.core.display.SVG object>"
      ]
     },
     "metadata": {},
     "output_type": "display_data"
    },
    {
     "name": "stdout",
     "output_type": "stream",
     "text": [
      "None -0.27530375\n"
     ]
    },
    {
     "data": {
      "image/svg+xml": [
       "<svg baseProfile=\"full\" height=\"111.875\" version=\"1.1\" width=\"111.875\" xmlns=\"http://www.w3.org/2000/svg\" xmlns:ev=\"http://www.w3.org/2001/xml-events\" xmlns:xlink=\"http://www.w3.org/1999/xlink\"><defs/><rect fill=\"white\" height=\"111.875\" width=\"111.875\" x=\"0\" y=\"0\"/><path d=\"M25,49.375 m0.0,0.0 l0.0,0.625 m3.125,36.875 l7.5,-18.75 m-4.375,-32.5 l11.25,-6.875 13.75,-3.75 m18.75,23.75 l6.25,-1.25 3.125,-5.625 l2.5,-0.625 -9.375,-3.125 l-13.125,1.875 -6.875,5.625 l6.875,3.125 5.0,0.0 l-0.625,-5.0 1.875,-2.5 l3.75,2.5 0.0,4.375 l-3.75,0.625 m-8.75,-23.75 l10.625,0.0 11.875,8.125 \" fill=\"none\" stroke=\"black\" stroke-width=\"1\"/></svg>"
      ],
      "text/plain": [
       "<IPython.core.display.SVG object>"
      ]
     },
     "metadata": {},
     "output_type": "display_data"
    },
    {
     "name": "stdout",
     "output_type": "stream",
     "text": [
      "no classification\n",
      "mouth 1.1162602\n"
     ]
    },
    {
     "data": {
      "image/svg+xml": [
       "<svg baseProfile=\"full\" height=\"73.75\" version=\"1.1\" width=\"96.25\" xmlns=\"http://www.w3.org/2000/svg\" xmlns:ev=\"http://www.w3.org/2001/xml-events\" xmlns:xlink=\"http://www.w3.org/1999/xlink\"><defs/><rect fill=\"white\" height=\"73.75\" width=\"96.25\" x=\"0\" y=\"0\"/><path d=\"M25,29.375 m0.0,0.0 l15.625,-4.375 m18.75,23.75 l6.25,-1.25 3.125,-5.625 l2.5,-0.625 -9.375,-3.125 l-13.125,1.875 -6.875,5.625 l6.875,3.125 5.0,0.0 l-0.625,-5.0 1.875,-2.5 l3.75,2.5 0.0,4.375 l-3.75,0.625 m-8.75,-23.75 l10.625,0.0 11.875,8.125 \" fill=\"none\" stroke=\"black\" stroke-width=\"1\"/></svg>"
      ],
      "text/plain": [
       "<IPython.core.display.SVG object>"
      ]
     },
     "metadata": {},
     "output_type": "display_data"
    },
    {
     "name": "stdout",
     "output_type": "stream",
     "text": [
      "mouth 0.66157746\n"
     ]
    },
    {
     "data": {
      "image/svg+xml": [
       "<svg baseProfile=\"full\" height=\"73.75\" version=\"1.1\" width=\"79.375\" xmlns=\"http://www.w3.org/2000/svg\" xmlns:ev=\"http://www.w3.org/2001/xml-events\" xmlns:xlink=\"http://www.w3.org/1999/xlink\"><defs/><rect fill=\"white\" height=\"73.75\" width=\"79.375\" x=\"0\" y=\"0\"/><path d=\"M42.5,48.75 m0.0,0.0 l6.25,-1.25 3.125,-5.625 l2.5,-0.625 -9.375,-3.125 l-13.125,1.875 -6.875,5.625 l6.875,3.125 5.0,0.0 l-0.625,-5.0 1.875,-2.5 l3.75,2.5 0.0,4.375 l-3.75,0.625 m-8.75,-23.75 l10.625,0.0 11.875,8.125 \" fill=\"none\" stroke=\"black\" stroke-width=\"1\"/></svg>"
      ],
      "text/plain": [
       "<IPython.core.display.SVG object>"
      ]
     },
     "metadata": {},
     "output_type": "display_data"
    },
    {
     "name": "stdout",
     "output_type": "stream",
     "text": [
      "nose 0.9916806\n"
     ]
    },
    {
     "data": {
      "image/svg+xml": [
       "<svg baseProfile=\"full\" height=\"111.875\" version=\"1.1\" width=\"98.75\" xmlns=\"http://www.w3.org/2000/svg\" xmlns:ev=\"http://www.w3.org/2001/xml-events\" xmlns:xlink=\"http://www.w3.org/1999/xlink\"><defs/><rect fill=\"white\" height=\"111.875\" width=\"98.75\" x=\"0\" y=\"0\"/><path d=\"M25,26.25 m0.0,0.0 l0.625,-1.25 11.875,8.125 m-12.5,8.125 l0.0,1.875 2.5,0.625 l0.0,4.375 -2.5,1.875 l0.0,-2.5 9.375,0.0 l3.125,-5.625 2.5,-0.625 l-15.0,-3.125 m48.125,48.75 l0.625,-45.625 \" fill=\"none\" stroke=\"black\" stroke-width=\"1\"/></svg>"
      ],
      "text/plain": [
       "<IPython.core.display.SVG object>"
      ]
     },
     "metadata": {},
     "output_type": "display_data"
    },
    {
     "name": "stdout",
     "output_type": "stream",
     "text": [
      "nose 4.35306\n"
     ]
    },
    {
     "data": {
      "image/svg+xml": [
       "<svg baseProfile=\"full\" height=\"111.25\" version=\"1.1\" width=\"96.25\" xmlns=\"http://www.w3.org/2000/svg\" xmlns:ev=\"http://www.w3.org/2001/xml-events\" xmlns:xlink=\"http://www.w3.org/1999/xlink\"><defs/><rect fill=\"white\" height=\"111.25\" width=\"96.25\" x=\"0\" y=\"0\"/><path d=\"M25,25 m0.0,0.0 l0.0,1.875 m4.375,17.5 l3.125,24.375 6.875,17.5 m15.0,-53.125 l-10.0,-1.875 -12.5,6.875 l5.625,3.125 13.75,0.0 l4.375,-2.5 1.875,-4.375 l-2.5,-0.625 4.375,0.625 l-11.875,5.625 0.0,-3.125 l-2.5,-1.875 -2.5,1.25 l0.0,3.125 1.25,-5.0 m23.75,16.875 l-8.75,18.75 -1.25,10.0 l5.0,4.375 8.75,-0.625 \" fill=\"none\" stroke=\"black\" stroke-width=\"1\"/></svg>"
      ],
      "text/plain": [
       "<IPython.core.display.SVG object>"
      ]
     },
     "metadata": {},
     "output_type": "display_data"
    },
    {
     "name": "stdout",
     "output_type": "stream",
     "text": [
      "nose 4.3160043\n"
     ]
    },
    {
     "data": {
      "image/svg+xml": [
       "<svg baseProfile=\"full\" height=\"111.25\" version=\"1.1\" width=\"105.0\" xmlns=\"http://www.w3.org/2000/svg\" xmlns:ev=\"http://www.w3.org/2001/xml-events\" xmlns:xlink=\"http://www.w3.org/1999/xlink\"><defs/><rect fill=\"white\" height=\"111.25\" width=\"105.0\" x=\"0\" y=\"0\"/><path d=\"M25,25 m0.0,0.0 l0.0,1.875 m4.375,17.5 l3.125,24.375 6.875,17.5 m15.0,-53.125 l-10.0,-1.875 -12.5,6.875 l5.625,3.125 13.75,0.0 l4.375,-2.5 1.875,-4.375 l-2.5,-0.625 4.375,0.625 l-11.875,5.625 0.0,-3.125 l-2.5,-1.875 -2.5,1.25 l0.0,3.125 1.25,-5.0 m23.75,16.875 l-8.75,18.75 -1.25,10.0 l3.125,3.75 4.375,1.25 l15.0,-2.5 \" fill=\"none\" stroke=\"black\" stroke-width=\"1\"/></svg>"
      ],
      "text/plain": [
       "<IPython.core.display.SVG object>"
      ]
     },
     "metadata": {},
     "output_type": "display_data"
    },
    {
     "name": "stdout",
     "output_type": "stream",
     "text": [
      "nose 1.0232606\n"
     ]
    },
    {
     "data": {
      "image/svg+xml": [
       "<svg baseProfile=\"full\" height=\"110.625\" version=\"1.1\" width=\"111.875\" xmlns=\"http://www.w3.org/2000/svg\" xmlns:ev=\"http://www.w3.org/2001/xml-events\" xmlns:xlink=\"http://www.w3.org/1999/xlink\"><defs/><rect fill=\"white\" height=\"110.625\" width=\"111.875\" x=\"0\" y=\"0\"/><path d=\"M25,32.5 m0.0,0.0 l9.375,-0.625 7.5,3.125 l-4.375,6.25 -12.5,1.25 l2.5,-1.875 0.625,-5.0 l3.75,1.875 0.0,3.125 l-3.75,-6.25 15.625,0.625 m8.125,16.875 l-8.75,18.75 -1.25,10.0 l3.125,3.75 4.375,1.25 l15.0,-2.5 m15.625,-58.125 l-6.875,5.0 6.875,3.125 l5.0,0.0 -0.625,-5.0 l2.5,-3.125 0.0,8.75 \" fill=\"none\" stroke=\"black\" stroke-width=\"1\"/></svg>"
      ],
      "text/plain": [
       "<IPython.core.display.SVG object>"
      ]
     },
     "metadata": {},
     "output_type": "display_data"
    },
    {
     "name": "stdout",
     "output_type": "stream",
     "text": [
      "nose 4.2983203\n"
     ]
    },
    {
     "data": {
      "image/svg+xml": [
       "<svg baseProfile=\"full\" height=\"110.625\" version=\"1.1\" width=\"111.875\" xmlns=\"http://www.w3.org/2000/svg\" xmlns:ev=\"http://www.w3.org/2001/xml-events\" xmlns:xlink=\"http://www.w3.org/1999/xlink\"><defs/><rect fill=\"white\" height=\"110.625\" width=\"111.875\" x=\"0\" y=\"0\"/><path d=\"M25,33.75 m0.0,0.0 l0.0,0.625 m11.25,17.5 l-8.75,18.75 -1.25,10.0 l3.125,3.75 4.375,1.25 l15.0,-2.5 m15.625,-58.125 l-6.875,5.0 6.875,3.125 l5.625,-0.625 0.0,-7.5 l4.375,3.125 0.0,4.375 l-3.75,0.625 10.625,-1.25 l3.125,-6.875 2.5,0.625 l-4.375,-0.625 \" fill=\"none\" stroke=\"black\" stroke-width=\"1\"/></svg>"
      ],
      "text/plain": [
       "<IPython.core.display.SVG object>"
      ]
     },
     "metadata": {},
     "output_type": "display_data"
    },
    {
     "name": "stdout",
     "output_type": "stream",
     "text": [
      "nose 4.09873\n"
     ]
    },
    {
     "data": {
      "image/svg+xml": [
       "<svg baseProfile=\"full\" height=\"108.75\" version=\"1.1\" width=\"96.875\" xmlns=\"http://www.w3.org/2000/svg\" xmlns:ev=\"http://www.w3.org/2001/xml-events\" xmlns:xlink=\"http://www.w3.org/1999/xlink\"><defs/><rect fill=\"white\" height=\"108.75\" width=\"96.875\" x=\"0\" y=\"0\"/><path d=\"M25,83.75 m0.0,0.0 l8.125,-0.625 m15.625,-58.125 l-6.875,5.0 6.875,3.125 l5.625,-0.625 0.0,-7.5 l4.375,3.125 0.0,4.375 l-3.75,0.625 10.625,-1.25 l3.125,-6.875 3.125,0.0 l-5.0,0.0 \" fill=\"none\" stroke=\"black\" stroke-width=\"1\"/></svg>"
      ],
      "text/plain": [
       "<IPython.core.display.SVG object>"
      ]
     },
     "metadata": {},
     "output_type": "display_data"
    },
    {
     "name": "stdout",
     "output_type": "stream",
     "text": [
      "nose 3.9958158\n"
     ]
    },
    {
     "data": {
      "image/svg+xml": [
       "<svg baseProfile=\"full\" height=\"111.875\" version=\"1.1\" width=\"110.625\" xmlns=\"http://www.w3.org/2000/svg\" xmlns:ev=\"http://www.w3.org/2001/xml-events\" xmlns:xlink=\"http://www.w3.org/1999/xlink\"><defs/><rect fill=\"white\" height=\"111.875\" width=\"110.625\" x=\"0\" y=\"0\"/><path d=\"M31.875,25 m0.0,0.0 l-6.875,5.0 6.875,3.125 l5.625,-0.625 0.0,-7.5 l4.375,3.125 0.0,4.375 l-3.75,0.625 10.625,-1.25 l3.125,-6.875 3.125,0.0 l-5.0,0.0 m34.375,61.875 l1.25,-4.375 \" fill=\"none\" stroke=\"black\" stroke-width=\"1\"/></svg>"
      ],
      "text/plain": [
       "<IPython.core.display.SVG object>"
      ]
     },
     "metadata": {},
     "output_type": "display_data"
    },
    {
     "name": "stdout",
     "output_type": "stream",
     "text": [
      "nose 8.8983965\n"
     ]
    },
    {
     "data": {
      "image/svg+xml": [
       "<svg baseProfile=\"full\" height=\"111.875\" version=\"1.1\" width=\"99.375\" xmlns=\"http://www.w3.org/2000/svg\" xmlns:ev=\"http://www.w3.org/2001/xml-events\" xmlns:xlink=\"http://www.w3.org/1999/xlink\"><defs/><rect fill=\"white\" height=\"111.875\" width=\"99.375\" x=\"0\" y=\"0\"/><path d=\"M25,25.625 m0.0,0.0 l0.0,1.875 2.5,0.625 l0.0,4.375 -2.5,1.875 l0.0,-2.5 9.375,0.0 l3.125,-6.875 3.125,0.0 l-4.375,0.0 m34.375,61.875 l3.75,-16.875 0.0,-45.0 \" fill=\"none\" stroke=\"black\" stroke-width=\"1\"/></svg>"
      ],
      "text/plain": [
       "<IPython.core.display.SVG object>"
      ]
     },
     "metadata": {},
     "output_type": "display_data"
    },
    {
     "name": "stdout",
     "output_type": "stream",
     "text": [
      "nose 3.3963299\n"
     ]
    },
    {
     "data": {
      "image/svg+xml": [
       "<svg baseProfile=\"full\" height=\"111.875\" version=\"1.1\" width=\"91.875\" xmlns=\"http://www.w3.org/2000/svg\" xmlns:ev=\"http://www.w3.org/2001/xml-events\" xmlns:xlink=\"http://www.w3.org/1999/xlink\"><defs/><rect fill=\"white\" height=\"111.875\" width=\"91.875\" x=\"0\" y=\"0\"/><path d=\"M25,29.375 m0.0,0.0 l3.125,24.375 12.5,33.125 m-0.625,-61.875 l-10.625,0.0 10.625,1.875 l2.5,-1.875 8.75,0.0 m11.875,11.25 l-8.75,18.75 -1.25,10.0 l5.0,4.375 8.75,-0.625 m0.0,14.375 l-0.625,3.75 \" fill=\"none\" stroke=\"black\" stroke-width=\"1\"/></svg>"
      ],
      "text/plain": [
       "<IPython.core.display.SVG object>"
      ]
     },
     "metadata": {},
     "output_type": "display_data"
    },
    {
     "name": "stdout",
     "output_type": "stream",
     "text": [
      "nose 4.4038506\n"
     ]
    },
    {
     "data": {
      "image/svg+xml": [
       "<svg baseProfile=\"full\" height=\"111.875\" version=\"1.1\" width=\"107.5\" xmlns=\"http://www.w3.org/2000/svg\" xmlns:ev=\"http://www.w3.org/2001/xml-events\" xmlns:xlink=\"http://www.w3.org/1999/xlink\"><defs/><rect fill=\"white\" height=\"111.875\" width=\"107.5\" x=\"0\" y=\"0\"/><path d=\"M25,29.375 m0.0,0.0 l3.125,24.375 12.5,33.125 m-0.625,-61.875 l-10.625,0.0 10.625,1.875 l2.5,-1.875 8.75,0.0 m11.875,11.25 l-8.75,18.75 -1.25,10.0 l3.125,3.75 4.375,1.25 l15.0,-2.5 m6.875,11.875 l-2.5,7.5 -6.25,0.0 l-4.375,-3.75 -3.75,1.875 l0.625,1.875 \" fill=\"none\" stroke=\"black\" stroke-width=\"1\"/></svg>"
      ],
      "text/plain": [
       "<IPython.core.display.SVG object>"
      ]
     },
     "metadata": {},
     "output_type": "display_data"
    },
    {
     "name": "stdout",
     "output_type": "stream",
     "text": [
      "nose 1.6359019\n"
     ]
    },
    {
     "data": {
      "image/svg+xml": [
       "<svg baseProfile=\"full\" height=\"111.875\" version=\"1.1\" width=\"109.375\" xmlns=\"http://www.w3.org/2000/svg\" xmlns:ev=\"http://www.w3.org/2001/xml-events\" xmlns:xlink=\"http://www.w3.org/1999/xlink\"><defs/><rect fill=\"white\" height=\"111.875\" width=\"109.375\" x=\"0\" y=\"0\"/><path d=\"M40.0,25 m0.0,0.0 l-8.75,0.0 -1.25,1.875 l-3.75,-1.875 -1.25,1.875 m0.0,47.5 l0.0,4.375 4.375,8.125 m22.5,-50.625 l-8.75,18.75 -1.25,10.0 l3.125,3.75 4.375,1.25 l15.0,-2.5 m-10.0,18.75 l3.75,-3.125 4.375,3.75 l6.25,0.0 2.5,-6.875 l6.875,6.875 4.375,0.0 l1.875,-3.125 \" fill=\"none\" stroke=\"black\" stroke-width=\"1\"/></svg>"
      ],
      "text/plain": [
       "<IPython.core.display.SVG object>"
      ]
     },
     "metadata": {},
     "output_type": "display_data"
    },
    {
     "name": "stdout",
     "output_type": "stream",
     "text": [
      "nose 8.498766\n"
     ]
    },
    {
     "data": {
      "image/svg+xml": [
       "<svg baseProfile=\"full\" height=\"100.625\" version=\"1.1\" width=\"92.5\" xmlns=\"http://www.w3.org/2000/svg\" xmlns:ev=\"http://www.w3.org/2001/xml-events\" xmlns:xlink=\"http://www.w3.org/1999/xlink\"><defs/><rect fill=\"white\" height=\"100.625\" width=\"92.5\" x=\"0\" y=\"0\"/><path d=\"M35.0,25 m0.0,0.0 l-8.75,18.75 -1.25,10.0 l3.125,3.75 4.375,1.25 l15.0,-2.5 m-10.0,18.75 l3.75,-3.125 4.375,3.75 l6.25,0.0 2.5,-6.875 l6.875,6.875 4.375,0.0 l1.875,-3.125 \" fill=\"none\" stroke=\"black\" stroke-width=\"1\"/></svg>"
      ],
      "text/plain": [
       "<IPython.core.display.SVG object>"
      ]
     },
     "metadata": {},
     "output_type": "display_data"
    },
    {
     "name": "stdout",
     "output_type": "stream",
     "text": [
      "nose 7.459305\n"
     ]
    },
    {
     "data": {
      "image/svg+xml": [
       "<svg baseProfile=\"full\" height=\"69.375\" version=\"1.1\" width=\"78.125\" xmlns=\"http://www.w3.org/2000/svg\" xmlns:ev=\"http://www.w3.org/2001/xml-events\" xmlns:xlink=\"http://www.w3.org/1999/xlink\"><defs/><rect fill=\"white\" height=\"69.375\" width=\"78.125\" x=\"0\" y=\"0\"/><path d=\"M25,25.625 m0.0,0.0 l8.125,-0.625 m-8.125,16.25 l1.875,-0.625 4.375,3.75 l6.25,0.0 2.5,-6.875 l6.875,6.875 4.375,0.0 l1.875,-3.125 \" fill=\"none\" stroke=\"black\" stroke-width=\"1\"/></svg>"
      ],
      "text/plain": [
       "<IPython.core.display.SVG object>"
      ]
     },
     "metadata": {},
     "output_type": "display_data"
    },
    {
     "name": "stdout",
     "output_type": "stream",
     "text": [
      "nose 7.407107\n"
     ]
    },
    {
     "data": {
      "image/svg+xml": [
       "<svg baseProfile=\"full\" height=\"70.625\" version=\"1.1\" width=\"111.875\" xmlns=\"http://www.w3.org/2000/svg\" xmlns:ev=\"http://www.w3.org/2001/xml-events\" xmlns:xlink=\"http://www.w3.org/1999/xlink\"><defs/><rect fill=\"white\" height=\"70.625\" width=\"111.875\" x=\"0\" y=\"0\"/><path d=\"M25,38.125 m0.0,0.0 l6.25,7.5 4.375,0.0 l1.25,-2.5 m50.0,-18.125 l0.0,4.375 -8.75,16.25 \" fill=\"none\" stroke=\"black\" stroke-width=\"1\"/></svg>"
      ],
      "text/plain": [
       "<IPython.core.display.SVG object>"
      ]
     },
     "metadata": {},
     "output_type": "display_data"
    },
    {
     "name": "stdout",
     "output_type": "stream",
     "text": [
      "nose 4.3483133\n"
     ]
    },
    {
     "data": {
      "image/svg+xml": [
       "<svg baseProfile=\"full\" height=\"111.875\" version=\"1.1\" width=\"63.125\" xmlns=\"http://www.w3.org/2000/svg\" xmlns:ev=\"http://www.w3.org/2001/xml-events\" xmlns:xlink=\"http://www.w3.org/1999/xlink\"><defs/><rect fill=\"white\" height=\"111.875\" width=\"63.125\" x=\"0\" y=\"0\"/><path d=\"M25,86.875 m0.0,0.0 l10.625,-18.125 2.5,-14.375 l-0.625,-29.375 \" fill=\"none\" stroke=\"black\" stroke-width=\"1\"/></svg>"
      ],
      "text/plain": [
       "<IPython.core.display.SVG object>"
      ]
     },
     "metadata": {},
     "output_type": "display_data"
    },
    {
     "name": "stdout",
     "output_type": "stream",
     "text": [
      "nose 7.788447\n"
     ]
    },
    {
     "data": {
      "image/svg+xml": [
       "<svg baseProfile=\"full\" height=\"111.875\" version=\"1.1\" width=\"90.625\" xmlns=\"http://www.w3.org/2000/svg\" xmlns:ev=\"http://www.w3.org/2001/xml-events\" xmlns:xlink=\"http://www.w3.org/1999/xlink\"><defs/><rect fill=\"white\" height=\"111.875\" width=\"90.625\" x=\"0\" y=\"0\"/><path d=\"M25,25 m0.0,0.0 l1.875,13.125 6.25,19.375 l13.125,29.375 m1.25,-8.75 l4.375,1.875 9.375,0.0 l4.375,5.0 m-6.25,-60.0 l-7.5,18.125 0.0,6.25 l3.125,3.75 4.375,1.25 l6.25,-1.875 \" fill=\"none\" stroke=\"black\" stroke-width=\"1\"/></svg>"
      ],
      "text/plain": [
       "<IPython.core.display.SVG object>"
      ]
     },
     "metadata": {},
     "output_type": "display_data"
    },
    {
     "name": "stdout",
     "output_type": "stream",
     "text": [
      "nose 7.40563\n"
     ]
    },
    {
     "data": {
      "image/svg+xml": [
       "<svg baseProfile=\"full\" height=\"111.875\" version=\"1.1\" width=\"106.25\" xmlns=\"http://www.w3.org/2000/svg\" xmlns:ev=\"http://www.w3.org/2001/xml-events\" xmlns:xlink=\"http://www.w3.org/1999/xlink\"><defs/><rect fill=\"white\" height=\"111.875\" width=\"106.25\" x=\"0\" y=\"0\"/><path d=\"M25,25 m0.0,0.0 l1.875,13.125 6.25,19.375 l13.125,29.375 m1.25,-8.75 l4.375,1.875 9.375,0.0 l1.25,3.125 6.875,3.125 l7.5,0.0 4.375,-2.5 m-21.875,-58.75 l-7.5,18.125 0.0,6.25 l3.125,3.75 4.375,1.25 l15.0,-2.5 \" fill=\"none\" stroke=\"black\" stroke-width=\"1\"/></svg>"
      ],
      "text/plain": [
       "<IPython.core.display.SVG object>"
      ]
     },
     "metadata": {},
     "output_type": "display_data"
    },
    {
     "name": "stdout",
     "output_type": "stream",
     "text": [
      "mouth 5.80235\n"
     ]
    },
    {
     "data": {
      "image/svg+xml": [
       "<svg baseProfile=\"full\" height=\"111.875\" version=\"1.1\" width=\"109.375\" xmlns=\"http://www.w3.org/2000/svg\" xmlns:ev=\"http://www.w3.org/2001/xml-events\" xmlns:xlink=\"http://www.w3.org/1999/xlink\"><defs/><rect fill=\"white\" height=\"111.875\" width=\"109.375\" x=\"0\" y=\"0\"/><path d=\"M25,58.75 m0.0,0.0 l0.0,4.375 11.25,23.75 m1.25,-8.75 l4.375,1.875 9.375,0.0 l1.25,3.125 6.875,3.125 l7.5,0.0 8.75,-6.25 l1.875,-5.0 -25.625,4.375 l2.5,-10.0 3.75,-1.875 l5.0,3.75 4.375,0.0 l4.375,-6.875 7.5,7.5 l-1.25,2.5 6.25,-6.25 m-35.0,-43.125 l-7.5,18.125 0.0,6.25 l3.125,3.75 4.375,1.25 l15.0,-2.5 \" fill=\"none\" stroke=\"black\" stroke-width=\"1\"/></svg>"
      ],
      "text/plain": [
       "<IPython.core.display.SVG object>"
      ]
     },
     "metadata": {},
     "output_type": "display_data"
    },
    {
     "name": "stdout",
     "output_type": "stream",
     "text": [
      "mouth 7.690679\n"
     ]
    },
    {
     "data": {
      "image/svg+xml": [
       "<svg baseProfile=\"full\" height=\"111.25\" version=\"1.1\" width=\"93.75\" xmlns=\"http://www.w3.org/2000/svg\" xmlns:ev=\"http://www.w3.org/2001/xml-events\" xmlns:xlink=\"http://www.w3.org/1999/xlink\"><defs/><rect fill=\"white\" height=\"111.25\" width=\"93.75\" x=\"0\" y=\"0\"/><path d=\"M25,78.75 m0.0,0.0 l10.625,1.25 1.25,3.125 l6.875,3.125 7.5,0.0 l8.75,-6.25 1.875,-5.0 l-25.625,4.375 2.5,-10.0 l3.75,-1.875 5.0,3.75 l4.375,0.0 4.375,-6.875 l7.5,7.5 -1.25,2.5 l6.25,-6.25 m-35.0,-43.125 l-7.5,18.125 0.0,6.25 l3.125,3.75 4.375,1.25 l15.0,-2.5 \" fill=\"none\" stroke=\"black\" stroke-width=\"1\"/></svg>"
      ],
      "text/plain": [
       "<IPython.core.display.SVG object>"
      ]
     },
     "metadata": {},
     "output_type": "display_data"
    },
    {
     "name": "stdout",
     "output_type": "stream",
     "text": [
      "nose 3.2808223\n"
     ]
    },
    {
     "data": {
      "image/svg+xml": [
       "<svg baseProfile=\"full\" height=\"85.0\" version=\"1.1\" width=\"111.875\" xmlns=\"http://www.w3.org/2000/svg\" xmlns:ev=\"http://www.w3.org/2001/xml-events\" xmlns:xlink=\"http://www.w3.org/1999/xlink\"><defs/><rect fill=\"white\" height=\"85.0\" width=\"111.875\" x=\"0\" y=\"0\"/><path d=\"M25,25.625 m0.0,0.0 l8.125,-0.625 m-6.875,26.875 l20.0,-3.75 1.875,-3.125 l-7.5,-7.5 -4.375,6.875 l-4.375,0.0 -6.875,-3.75 l23.75,5.0 4.375,-4.375 l-8.75,11.875 -6.25,5.0 l-10.0,1.25 -3.125,-1.875 m52.5,2.5 l1.875,0.0 7.5,-8.75 \" fill=\"none\" stroke=\"black\" stroke-width=\"1\"/></svg>"
      ],
      "text/plain": [
       "<IPython.core.display.SVG object>"
      ]
     },
     "metadata": {},
     "output_type": "display_data"
    },
    {
     "name": "stdout",
     "output_type": "stream",
     "text": [
      "nose 4.423058\n"
     ]
    },
    {
     "data": {
      "image/svg+xml": [
       "<svg baseProfile=\"full\" height=\"85.625\" version=\"1.1\" width=\"111.875\" xmlns=\"http://www.w3.org/2000/svg\" xmlns:ev=\"http://www.w3.org/2001/xml-events\" xmlns:xlink=\"http://www.w3.org/1999/xlink\"><defs/><rect fill=\"white\" height=\"85.625\" width=\"111.875\" x=\"0\" y=\"0\"/><path d=\"M37.5,41.875 m0.0,0.0 l-5.0,4.375 -7.5,-8.75 l7.5,9.375 -1.875,1.875 l-5.625,0.0 5.625,0.625 l-5.625,8.125 m36.875,3.125 l1.875,0.0 15.625,-17.5 l7.5,-14.375 0.0,-3.75 \" fill=\"none\" stroke=\"black\" stroke-width=\"1\"/></svg>"
      ],
      "text/plain": [
       "<IPython.core.display.SVG object>"
      ]
     },
     "metadata": {},
     "output_type": "display_data"
    },
    {
     "name": "stdout",
     "output_type": "stream",
     "text": [
      "nose 4.593277\n"
     ]
    },
    {
     "data": {
      "image/svg+xml": [
       "<svg baseProfile=\"full\" height=\"111.875\" version=\"1.1\" width=\"78.125\" xmlns=\"http://www.w3.org/2000/svg\" xmlns:ev=\"http://www.w3.org/2001/xml-events\" xmlns:xlink=\"http://www.w3.org/1999/xlink\"><defs/><rect fill=\"white\" height=\"111.875\" width=\"78.125\" x=\"0\" y=\"0\"/><path d=\"M25,86.875 m0.0,0.0 l1.875,0.0 15.625,-17.5 l8.125,-16.25 2.5,-28.125 \" fill=\"none\" stroke=\"black\" stroke-width=\"1\"/></svg>"
      ],
      "text/plain": [
       "<IPython.core.display.SVG object>"
      ]
     },
     "metadata": {},
     "output_type": "display_data"
    },
    {
     "name": "stdout",
     "output_type": "stream",
     "text": [
      "nose 6.2096534\n"
     ]
    },
    {
     "data": {
      "image/svg+xml": [
       "<svg baseProfile=\"full\" height=\"111.875\" version=\"1.1\" width=\"86.875\" xmlns=\"http://www.w3.org/2000/svg\" xmlns:ev=\"http://www.w3.org/2001/xml-events\" xmlns:xlink=\"http://www.w3.org/1999/xlink\"><defs/><rect fill=\"white\" height=\"111.875\" width=\"86.875\" x=\"0\" y=\"0\"/><path d=\"M25,25 m0.0,0.0 l8.75,28.75 17.5,33.125 m-7.5,-24.375 l4.375,1.875 9.375,0.0 l4.375,5.0 m-11.875,-44.375 l-1.875,2.5 0.0,6.25 l1.875,2.5 5.625,2.5 l6.25,-1.875 \" fill=\"none\" stroke=\"black\" stroke-width=\"1\"/></svg>"
      ],
      "text/plain": [
       "<IPython.core.display.SVG object>"
      ]
     },
     "metadata": {},
     "output_type": "display_data"
    },
    {
     "name": "stdout",
     "output_type": "stream",
     "text": [
      "nose 5.2154746\n"
     ]
    },
    {
     "data": {
      "image/svg+xml": [
       "<svg baseProfile=\"full\" height=\"111.875\" version=\"1.1\" width=\"102.5\" xmlns=\"http://www.w3.org/2000/svg\" xmlns:ev=\"http://www.w3.org/2001/xml-events\" xmlns:xlink=\"http://www.w3.org/1999/xlink\"><defs/><rect fill=\"white\" height=\"111.875\" width=\"102.5\" x=\"0\" y=\"0\"/><path d=\"M25,25 m0.0,0.0 l8.75,28.75 17.5,33.125 m-7.5,-24.375 l4.375,1.875 9.375,0.0 l1.25,3.125 6.875,3.125 l7.5,0.0 4.375,-2.5 m-27.5,-43.125 l-1.875,2.5 0.0,6.25 l3.125,3.75 5.0,1.25 l14.375,-2.5 \" fill=\"none\" stroke=\"black\" stroke-width=\"1\"/></svg>"
      ],
      "text/plain": [
       "<IPython.core.display.SVG object>"
      ]
     },
     "metadata": {},
     "output_type": "display_data"
    },
    {
     "name": "stdout",
     "output_type": "stream",
     "text": [
      "mouth 3.041874\n"
     ]
    },
    {
     "data": {
      "image/svg+xml": [
       "<svg baseProfile=\"full\" height=\"111.875\" version=\"1.1\" width=\"111.875\" xmlns=\"http://www.w3.org/2000/svg\" xmlns:ev=\"http://www.w3.org/2001/xml-events\" xmlns:xlink=\"http://www.w3.org/1999/xlink\"><defs/><rect fill=\"white\" height=\"111.875\" width=\"111.875\" x=\"0\" y=\"0\"/><path d=\"M25,43.125 m0.0,0.0 l0.0,4.375 6.25,15.0 l13.75,24.375 m-7.5,-24.375 l4.375,1.875 9.375,0.0 l1.25,3.125 6.875,3.125 l7.5,0.0 8.75,-6.25 l1.875,-5.0 -25.625,4.375 l2.5,-10.0 3.75,-1.875 l5.0,3.75 4.375,0.0 l4.375,-6.875 7.5,7.5 l-1.25,2.5 6.25,-6.25 m-40.625,-27.5 l-1.875,2.5 0.0,6.25 l3.125,3.75 5.0,1.25 l14.375,-2.5 m17.5,50.625 l5.0,-1.25 \" fill=\"none\" stroke=\"black\" stroke-width=\"1\"/></svg>"
      ],
      "text/plain": [
       "<IPython.core.display.SVG object>"
      ]
     },
     "metadata": {},
     "output_type": "display_data"
    },
    {
     "name": "stdout",
     "output_type": "stream",
     "text": [
      "mouth 7.95773\n"
     ]
    },
    {
     "data": {
      "image/svg+xml": [
       "<svg baseProfile=\"full\" height=\"111.875\" version=\"1.1\" width=\"111.875\" xmlns=\"http://www.w3.org/2000/svg\" xmlns:ev=\"http://www.w3.org/2001/xml-events\" xmlns:xlink=\"http://www.w3.org/1999/xlink\"><defs/><rect fill=\"white\" height=\"111.875\" width=\"111.875\" x=\"0\" y=\"0\"/><path d=\"M25,63.125 m0.0,0.0 l10.625,1.25 1.25,3.125 l6.875,3.125 7.5,0.0 l8.75,-6.25 1.875,-5.0 l-25.625,4.375 2.5,-10.0 l3.75,-1.875 5.0,3.75 l4.375,0.0 4.375,-6.875 l7.5,7.5 -1.25,2.5 l6.25,-6.25 m-43.75,26.875 l4.375,7.5 m-1.25,-61.875 l-1.875,2.5 0.0,6.25 l3.125,3.75 5.0,1.25 l14.375,-2.5 m17.5,50.625 l13.125,-5.0 7.5,-5.625 \" fill=\"none\" stroke=\"black\" stroke-width=\"1\"/></svg>"
      ],
      "text/plain": [
       "<IPython.core.display.SVG object>"
      ]
     },
     "metadata": {},
     "output_type": "display_data"
    },
    {
     "name": "stdout",
     "output_type": "stream",
     "text": [
      "mouth 2.9909406\n"
     ]
    },
    {
     "data": {
      "image/svg+xml": [
       "<svg baseProfile=\"full\" height=\"100.625\" version=\"1.1\" width=\"111.875\" xmlns=\"http://www.w3.org/2000/svg\" xmlns:ev=\"http://www.w3.org/2001/xml-events\" xmlns:xlink=\"http://www.w3.org/1999/xlink\"><defs/><rect fill=\"white\" height=\"100.625\" width=\"111.875\" x=\"0\" y=\"0\"/><path d=\"M25,25.625 m0.0,0.0 l8.125,-0.625 m-6.875,26.875 l20.0,-3.75 1.875,-3.125 l-7.5,-7.5 -4.375,6.875 l-4.375,0.0 -6.875,-3.75 l23.75,5.0 4.375,-4.375 l-8.75,11.875 -6.25,5.0 l-10.0,1.25 -3.125,-1.875 m25.625,18.125 l3.125,0.0 13.75,-7.5 l13.125,-9.375 6.25,-7.5 \" fill=\"none\" stroke=\"black\" stroke-width=\"1\"/></svg>"
      ],
      "text/plain": [
       "<IPython.core.display.SVG object>"
      ]
     },
     "metadata": {},
     "output_type": "display_data"
    },
    {
     "name": "stdout",
     "output_type": "stream",
     "text": [
      "nose 3.4243445\n"
     ]
    },
    {
     "data": {
      "image/svg+xml": [
       "<svg baseProfile=\"full\" height=\"101.25\" version=\"1.1\" width=\"111.875\" xmlns=\"http://www.w3.org/2000/svg\" xmlns:ev=\"http://www.w3.org/2001/xml-events\" xmlns:xlink=\"http://www.w3.org/1999/xlink\"><defs/><rect fill=\"white\" height=\"101.25\" width=\"111.875\" x=\"0\" y=\"0\"/><path d=\"M37.5,41.875 m0.0,0.0 l-5.0,4.375 -7.5,-8.75 l7.5,9.375 -1.875,1.875 l-5.625,0.0 5.625,0.625 l-5.625,8.125 m10.0,18.75 l13.125,-5.0 16.875,-11.875 l14.375,-16.25 7.5,-14.375 l0.0,-3.75 \" fill=\"none\" stroke=\"black\" stroke-width=\"1\"/></svg>"
      ],
      "text/plain": [
       "<IPython.core.display.SVG object>"
      ]
     },
     "metadata": {},
     "output_type": "display_data"
    },
    {
     "name": "stdout",
     "output_type": "stream",
     "text": [
      "nose 2.8951726\n"
     ]
    },
    {
     "data": {
      "image/svg+xml": [
       "<svg baseProfile=\"full\" height=\"109.375\" version=\"1.1\" width=\"99.375\" xmlns=\"http://www.w3.org/2000/svg\" xmlns:ev=\"http://www.w3.org/2001/xml-events\" xmlns:xlink=\"http://www.w3.org/1999/xlink\"><defs/><rect fill=\"white\" height=\"109.375\" width=\"99.375\" x=\"0\" y=\"0\"/><path d=\"M25,84.375 m0.0,0.0 l7.5,-2.5 16.875,-11.875 l11.875,-13.125 10.625,-19.375 l2.5,-12.5 \" fill=\"none\" stroke=\"black\" stroke-width=\"1\"/></svg>"
      ],
      "text/plain": [
       "<IPython.core.display.SVG object>"
      ]
     },
     "metadata": {},
     "output_type": "display_data"
    },
    {
     "name": "stdout",
     "output_type": "stream",
     "text": [
      "nose 7.9146934\n"
     ]
    },
    {
     "data": {
      "image/svg+xml": [
       "<svg baseProfile=\"full\" height=\"101.25\" version=\"1.1\" width=\"81.875\" xmlns=\"http://www.w3.org/2000/svg\" xmlns:ev=\"http://www.w3.org/2001/xml-events\" xmlns:xlink=\"http://www.w3.org/1999/xlink\"><defs/><rect fill=\"white\" height=\"101.25\" width=\"81.875\" x=\"0\" y=\"0\"/><path d=\"M25,25 m0.0,0.0 l3.75,13.125 13.75,28.125 l6.25,8.125 8.125,1.875 m-18.125,-29.375 l4.375,1.875 9.375,0.0 l4.375,5.0 \" fill=\"none\" stroke=\"black\" stroke-width=\"1\"/></svg>"
      ],
      "text/plain": [
       "<IPython.core.display.SVG object>"
      ]
     },
     "metadata": {},
     "output_type": "display_data"
    },
    {
     "name": "stdout",
     "output_type": "stream",
     "text": [
      "mouth 3.1944294\n"
     ]
    },
    {
     "data": {
      "image/svg+xml": [
       "<svg baseProfile=\"full\" height=\"101.25\" version=\"1.1\" width=\"97.5\" xmlns=\"http://www.w3.org/2000/svg\" xmlns:ev=\"http://www.w3.org/2001/xml-events\" xmlns:xlink=\"http://www.w3.org/1999/xlink\"><defs/><rect fill=\"white\" height=\"101.25\" width=\"97.5\" x=\"0\" y=\"0\"/><path d=\"M72.5,74.375 m0.0,0.0 l-5.0,1.875 -11.25,0.0 l-7.5,-1.875 -3.125,-3.125 l-13.125,-24.375 -7.5,-21.875 m13.75,21.875 l4.375,1.875 9.375,0.0 l1.25,3.125 6.875,3.125 l7.5,0.0 4.375,-2.5 \" fill=\"none\" stroke=\"black\" stroke-width=\"1\"/></svg>"
      ],
      "text/plain": [
       "<IPython.core.display.SVG object>"
      ]
     },
     "metadata": {},
     "output_type": "display_data"
    },
    {
     "name": "stdout",
     "output_type": "stream",
     "text": [
      "mouth 0.42660055\n"
     ]
    },
    {
     "data": {
      "image/svg+xml": [
       "<svg baseProfile=\"full\" height=\"98.75\" version=\"1.1\" width=\"111.875\" xmlns=\"http://www.w3.org/2000/svg\" xmlns:ev=\"http://www.w3.org/2001/xml-events\" xmlns:xlink=\"http://www.w3.org/1999/xlink\"><defs/><rect fill=\"white\" height=\"98.75\" width=\"111.875\" x=\"0\" y=\"0\"/><path d=\"M25,25 m0.0,0.0 l0.0,4.375 6.25,15.0 l8.125,16.25 8.125,11.25 l18.75,1.875 11.25,-1.875 l9.375,-4.375 m-49.375,-23.125 l4.375,1.875 9.375,0.0 l1.25,3.125 6.875,3.125 l7.5,0.0 8.75,-6.25 l1.875,-5.0 -25.625,4.375 l2.5,-10.0 3.75,-1.875 l5.0,3.75 4.375,0.0 l4.375,-6.875 7.5,7.5 l-1.25,2.5 6.25,-6.25 \" fill=\"none\" stroke=\"black\" stroke-width=\"1\"/></svg>"
      ],
      "text/plain": [
       "<IPython.core.display.SVG object>"
      ]
     },
     "metadata": {},
     "output_type": "display_data"
    },
    {
     "name": "stdout",
     "output_type": "stream",
     "text": [
      "mouth 6.238993\n"
     ]
    },
    {
     "data": {
      "image/svg+xml": [
       "<svg baseProfile=\"full\" height=\"93.125\" version=\"1.1\" width=\"111.875\" xmlns=\"http://www.w3.org/2000/svg\" xmlns:ev=\"http://www.w3.org/2001/xml-events\" xmlns:xlink=\"http://www.w3.org/1999/xlink\"><defs/><rect fill=\"white\" height=\"93.125\" width=\"111.875\" x=\"0\" y=\"0\"/><path d=\"M25,39.375 m0.0,0.0 l10.625,1.25 1.25,3.125 l6.875,3.125 7.5,0.0 l8.75,-6.25 1.875,-5.0 l-25.625,4.375 2.5,-10.0 l3.75,-1.875 5.0,3.75 l4.375,0.0 4.375,-6.875 l7.5,7.5 -1.25,2.5 l6.25,-6.25 m-43.75,26.875 l6.875,10.625 18.75,1.875 l11.25,-1.875 17.5,-8.125 l7.5,-5.625 \" fill=\"none\" stroke=\"black\" stroke-width=\"1\"/></svg>"
      ],
      "text/plain": [
       "<IPython.core.display.SVG object>"
      ]
     },
     "metadata": {},
     "output_type": "display_data"
    },
    {
     "name": "stdout",
     "output_type": "stream",
     "text": [
      "mouth 0.84791005\n"
     ]
    },
    {
     "data": {
      "image/svg+xml": [
       "<svg baseProfile=\"full\" height=\"93.125\" version=\"1.1\" width=\"111.875\" xmlns=\"http://www.w3.org/2000/svg\" xmlns:ev=\"http://www.w3.org/2001/xml-events\" xmlns:xlink=\"http://www.w3.org/1999/xlink\"><defs/><rect fill=\"white\" height=\"93.125\" width=\"111.875\" x=\"0\" y=\"0\"/><path d=\"M26.25,39.375 m0.0,0.0 l20.0,-3.75 1.875,-3.125 l-7.5,-7.5 -4.375,6.875 l-4.375,0.0 -6.875,-3.75 l23.75,5.0 4.375,-4.375 l-8.75,11.875 -6.25,5.0 l-10.0,1.25 -3.125,-1.875 m61.875,-6.875 l-6.25,8.125 -21.875,14.375 l-12.5,5.625 -21.25,1.875 \" fill=\"none\" stroke=\"black\" stroke-width=\"1\"/></svg>"
      ],
      "text/plain": [
       "<IPython.core.display.SVG object>"
      ]
     },
     "metadata": {},
     "output_type": "display_data"
    },
    {
     "name": "stdout",
     "output_type": "stream",
     "text": [
      "nose 3.0735188\n"
     ]
    },
    {
     "data": {
      "image/svg+xml": [
       "<svg baseProfile=\"full\" height=\"99.375\" version=\"1.1\" width=\"111.25\" xmlns=\"http://www.w3.org/2000/svg\" xmlns:ev=\"http://www.w3.org/2001/xml-events\" xmlns:xlink=\"http://www.w3.org/1999/xlink\"><defs/><rect fill=\"white\" height=\"99.375\" width=\"111.25\" x=\"0\" y=\"0\"/><path d=\"M37.5,36.875 m0.0,0.0 l-5.0,4.375 -7.5,-8.75 l7.5,9.375 -1.875,1.875 l-5.625,0.0 5.625,0.625 l-5.625,8.125 m0.0,21.875 l5.625,0.0 12.5,-5.625 l21.875,-14.375 14.375,-16.25 l6.875,-13.125 \" fill=\"none\" stroke=\"black\" stroke-width=\"1\"/></svg>"
      ],
      "text/plain": [
       "<IPython.core.display.SVG object>"
      ]
     },
     "metadata": {},
     "output_type": "display_data"
    },
    {
     "name": "stdout",
     "output_type": "stream",
     "text": [
      "nose 1.8818642\n"
     ]
    },
    {
     "data": {
      "image/svg+xml": [
       "<svg baseProfile=\"full\" height=\"93.75\" version=\"1.1\" width=\"94.375\" xmlns=\"http://www.w3.org/2000/svg\" xmlns:ev=\"http://www.w3.org/2001/xml-events\" xmlns:xlink=\"http://www.w3.org/1999/xlink\"><defs/><rect fill=\"white\" height=\"93.75\" width=\"94.375\" x=\"0\" y=\"0\"/><path d=\"M25,68.75 m0.0,0.0 l7.5,-2.5 16.875,-11.875 l14.375,-16.25 5.625,-13.125 \" fill=\"none\" stroke=\"black\" stroke-width=\"1\"/></svg>"
      ],
      "text/plain": [
       "<IPython.core.display.SVG object>"
      ]
     },
     "metadata": {},
     "output_type": "display_data"
    },
    {
     "data": {
      "image/png": "[encoded data removed]",
      "text/plain": [
       "<matplotlib.figure.Figure at 0x119da3e10>"
      ]
     },
     "metadata": {},
     "output_type": "display_data"
    },
    {
     "name": "stdout",
     "output_type": "stream",
     "text": [
      "INFO:tensorflow:Model using gpu.\n",
      "INFO:tensorflow:Loading model four_class_checkpoint/vector-110000.\n",
      "INFO:tensorflow:Restoring parameters from four_class_checkpoint/vector-110000\n",
      "nose 4.3325577\n"
     ]
    },
    {
     "data": {
      "image/svg+xml": [
       "<svg baseProfile=\"full\" height=\"96.875\" version=\"1.1\" width=\"95.625\" xmlns=\"http://www.w3.org/2000/svg\" xmlns:ev=\"http://www.w3.org/2001/xml-events\" xmlns:xlink=\"http://www.w3.org/1999/xlink\"><defs/><rect fill=\"white\" height=\"96.875\" width=\"95.625\" x=\"0\" y=\"0\"/><path d=\"M25,58.75 m0.0,0.0 l3.75,13.125 m41.875,-46.875 l-13.125,5.0 -9.375,11.25 m22.5,2.5 l-5.625,3.75 1.875,6.875 l3.75,0.0 0.0,1.875 l-9.375,-0.625 -5.625,-2.5 l8.75,-6.25 \" fill=\"none\" stroke=\"black\" stroke-width=\"1\"/></svg>"
      ],
      "text/plain": [
       "<IPython.core.display.SVG object>"
      ]
     },
     "metadata": {},
     "output_type": "display_data"
    },
    {
     "name": "stdout",
     "output_type": "stream",
     "text": [
      "mouth 1.8662461\n"
     ]
    },
    {
     "data": {
      "image/svg+xml": [
       "<svg baseProfile=\"full\" height=\"96.25\" version=\"1.1\" width=\"111.25\" xmlns=\"http://www.w3.org/2000/svg\" xmlns:ev=\"http://www.w3.org/2001/xml-events\" xmlns:xlink=\"http://www.w3.org/1999/xlink\"><defs/><rect fill=\"white\" height=\"96.25\" width=\"111.25\" x=\"0\" y=\"0\"/><path d=\"M25,58.125 m0.0,0.0 l3.75,13.125 m57.5,-46.25 l-16.25,0.0 -6.875,1.875 l-5.625,2.5 -9.375,11.25 m18.75,12.5 l-1.875,-3.125 1.25,-3.125 l-1.875,-0.625 -8.75,6.25 l5.625,2.5 12.5,0.0 l12.5,-6.875 -15.0,-5.0 l-4.375,3.125 9.375,-0.625 l0.625,5.625 \" fill=\"none\" stroke=\"black\" stroke-width=\"1\"/></svg>"
      ],
      "text/plain": [
       "<IPython.core.display.SVG object>"
      ]
     },
     "metadata": {},
     "output_type": "display_data"
    },
    {
     "name": "stdout",
     "output_type": "stream",
     "text": [
      "eye 0.49816006\n"
     ]
    },
    {
     "data": {
      "image/svg+xml": [
       "<svg baseProfile=\"full\" height=\"96.25\" version=\"1.1\" width=\"103.75\" xmlns=\"http://www.w3.org/2000/svg\" xmlns:ev=\"http://www.w3.org/2001/xml-events\" xmlns:xlink=\"http://www.w3.org/1999/xlink\"><defs/><rect fill=\"white\" height=\"96.25\" width=\"103.75\" x=\"0\" y=\"0\"/><path d=\"M25,40.625 m0.0,0.0 l9.375,-11.25 12.5,-4.375 l19.375,0.625 12.5,3.125 m-35.0,24.375 l-1.875,-3.125 1.25,-3.125 l-1.875,-0.625 -8.75,6.25 l5.625,2.5 12.5,0.0 l11.875,-6.875 -14.375,-5.0 l-4.375,3.125 9.375,-0.625 l0.625,5.625 m18.125,14.375 l0.625,5.625 \" fill=\"none\" stroke=\"black\" stroke-width=\"1\"/></svg>"
      ],
      "text/plain": [
       "<IPython.core.display.SVG object>"
      ]
     },
     "metadata": {},
     "output_type": "display_data"
    },
    {
     "name": "stdout",
     "output_type": "stream",
     "text": [
      "eye 2.1240826\n"
     ]
    },
    {
     "data": {
      "image/svg+xml": [
       "<svg baseProfile=\"full\" height=\"96.25\" version=\"1.1\" width=\"111.875\" xmlns=\"http://www.w3.org/2000/svg\" xmlns:ev=\"http://www.w3.org/2001/xml-events\" xmlns:xlink=\"http://www.w3.org/1999/xlink\"><defs/><rect fill=\"white\" height=\"96.25\" width=\"111.875\" x=\"0\" y=\"0\"/><path d=\"M25,30.0 m0.0,0.0 l0.0,1.875 3.125,-3.125 l11.25,-3.75 19.375,0.625 l12.5,3.125 m-36.25,19.375 l1.25,5.625 2.5,1.25 l4.375,0.0 3.75,-3.125 l-0.625,-7.5 8.125,3.75 l-6.875,3.75 7.5,-3.75 l-14.375,-5.0 -5.625,4.375 l-1.25,-1.25 -8.75,5.0 l0.0,1.875 3.125,1.25 l7.5,0.0 m28.75,11.25 l0.625,5.625 m8.75,-6.25 l1.875,6.25 m11.25,-26.875 l-5.625,5.0 5.625,2.5 \" fill=\"none\" stroke=\"black\" stroke-width=\"1\"/></svg>"
      ],
      "text/plain": [
       "<IPython.core.display.SVG object>"
      ]
     },
     "metadata": {},
     "output_type": "display_data"
    },
    {
     "name": "stdout",
     "output_type": "stream",
     "text": [
      "nose 2.8643851\n"
     ]
    },
    {
     "data": {
      "image/svg+xml": [
       "<svg baseProfile=\"full\" height=\"96.875\" version=\"1.1\" width=\"111.875\" xmlns=\"http://www.w3.org/2000/svg\" xmlns:ev=\"http://www.w3.org/2001/xml-events\" xmlns:xlink=\"http://www.w3.org/1999/xlink\"><defs/><rect fill=\"white\" height=\"96.875\" width=\"111.875\" x=\"0\" y=\"0\"/><path d=\"M25,25 m0.0,0.0 l18.125,1.25 12.5,3.125 m-17.5,18.75 l-13.125,-5.0 5.0,3.125 l1.25,6.25 -3.75,3.125 l-2.5,-1.25 0.0,2.5 l14.375,-8.125 m9.375,17.5 l0.625,5.625 m8.75,-6.25 l1.875,6.25 m26.25,-29.375 l0.625,8.125 -2.5,1.875 l-13.75,0.0 -5.0,-2.5 l10.0,-6.25 -0.625,5.0 l1.875,1.875 1.25,-8.125 l4.375,-1.875 4.375,1.25 m-13.125,-11.25 l13.125,-4.375 \" fill=\"none\" stroke=\"black\" stroke-width=\"1\"/></svg>"
      ],
      "text/plain": [
       "<IPython.core.display.SVG object>"
      ]
     },
     "metadata": {},
     "output_type": "display_data"
    },
    {
     "name": "stdout",
     "output_type": "stream",
     "text": [
      "mouth 1.9388498\n"
     ]
    },
    {
     "data": {
      "image/svg+xml": [
       "<svg baseProfile=\"full\" height=\"96.875\" version=\"1.1\" width=\"111.875\" xmlns=\"http://www.w3.org/2000/svg\" xmlns:ev=\"http://www.w3.org/2001/xml-events\" xmlns:xlink=\"http://www.w3.org/1999/xlink\"><defs/><rect fill=\"white\" height=\"96.875\" width=\"111.875\" x=\"0\" y=\"0\"/><path d=\"M25,25.625 m0.0,0.0 l15.0,3.75 m-6.875,36.875 l0.625,5.625 m8.75,-6.25 l1.875,6.25 m26.875,-24.375 l0.0,-5.625 8.125,3.75 l-5.625,3.75 -2.5,-1.25 l-2.5,4.375 -13.75,0.0 l-5.0,-2.5 10.0,-6.25 l-0.625,5.0 1.875,1.875 l0.0,-6.875 5.625,-3.125 l13.125,5.0 m-21.875,-15.0 l10.0,-4.375 9.375,-1.25 l6.875,1.875 2.5,7.5 \" fill=\"none\" stroke=\"black\" stroke-width=\"1\"/></svg>"
      ],
      "text/plain": [
       "<IPython.core.display.SVG object>"
      ]
     },
     "metadata": {},
     "output_type": "display_data"
    },
    {
     "name": "stdout",
     "output_type": "stream",
     "text": [
      "mouth 3.3472655\n"
     ]
    },
    {
     "data": {
      "image/svg+xml": [
       "<svg baseProfile=\"full\" height=\"96.875\" version=\"1.1\" width=\"97.5\" xmlns=\"http://www.w3.org/2000/svg\" xmlns:ev=\"http://www.w3.org/2001/xml-events\" xmlns:xlink=\"http://www.w3.org/1999/xlink\"><defs/><rect fill=\"white\" height=\"96.875\" width=\"97.5\" x=\"0\" y=\"0\"/><path d=\"M25,65.625 m0.0,0.0 l1.875,6.25 m26.875,-24.375 l0.0,-5.625 8.125,3.75 l-5.625,3.75 -2.5,-1.25 l-2.5,4.375 -13.75,0.0 l-5.0,-2.5 10.0,-6.25 l-0.625,5.0 1.875,1.875 l0.0,-6.875 5.625,-3.125 l13.125,5.0 m-21.875,-15.0 l10.0,-4.375 9.375,-1.25 l6.875,1.875 3.125,7.5 m0.0,15.625 l2.5,21.875 \" fill=\"none\" stroke=\"black\" stroke-width=\"1\"/></svg>"
      ],
      "text/plain": [
       "<IPython.core.display.SVG object>"
      ]
     },
     "metadata": {},
     "output_type": "display_data"
    },
    {
     "name": "stdout",
     "output_type": "stream",
     "text": [
      "nose 3.2259989\n"
     ]
    },
    {
     "data": {
      "image/svg+xml": [
       "<svg baseProfile=\"full\" height=\"111.875\" version=\"1.1\" width=\"95.625\" xmlns=\"http://www.w3.org/2000/svg\" xmlns:ev=\"http://www.w3.org/2001/xml-events\" xmlns:xlink=\"http://www.w3.org/1999/xlink\"><defs/><rect fill=\"white\" height=\"111.875\" width=\"95.625\" x=\"0\" y=\"0\"/><path d=\"M25,58.125 m0.0,0.0 l6.875,28.75 m16.25,-46.25 l9.375,-11.25 10.0,-4.375 l3.125,0.625 m0.0,17.5 l-5.625,3.75 1.875,6.875 l3.75,0.0 0.0,1.875 l-9.375,-0.625 -5.625,-2.5 l8.75,-6.25 \" fill=\"none\" stroke=\"black\" stroke-width=\"1\"/></svg>"
      ],
      "text/plain": [
       "<IPython.core.display.SVG object>"
      ]
     },
     "metadata": {},
     "output_type": "display_data"
    },
    {
     "name": "stdout",
     "output_type": "stream",
     "text": [
      "mouth 0.92612576\n"
     ]
    },
    {
     "data": {
      "image/svg+xml": [
       "<svg baseProfile=\"full\" height=\"111.875\" version=\"1.1\" width=\"111.25\" xmlns=\"http://www.w3.org/2000/svg\" xmlns:ev=\"http://www.w3.org/2001/xml-events\" xmlns:xlink=\"http://www.w3.org/1999/xlink\"><defs/><rect fill=\"white\" height=\"111.875\" width=\"111.25\" x=\"0\" y=\"0\"/><path d=\"M25,58.125 m0.0,0.0 l6.875,28.75 m16.25,-46.25 l9.375,-11.25 10.0,-4.375 l18.75,0.625 m-19.375,27.5 l-1.875,-3.125 1.25,-3.125 l-1.875,-0.625 -8.75,6.25 l5.625,2.5 12.5,0.0 l12.5,-6.875 -15.0,-5.0 l-4.375,3.125 9.375,-0.625 l0.625,5.625 \" fill=\"none\" stroke=\"black\" stroke-width=\"1\"/></svg>"
      ],
      "text/plain": [
       "<IPython.core.display.SVG object>"
      ]
     },
     "metadata": {},
     "output_type": "display_data"
    },
    {
     "name": "stdout",
     "output_type": "stream",
     "text": [
      "eye 1.4988444\n"
     ]
    },
    {
     "data": {
      "image/svg+xml": [
       "<svg baseProfile=\"full\" height=\"111.875\" version=\"1.1\" width=\"103.75\" xmlns=\"http://www.w3.org/2000/svg\" xmlns:ev=\"http://www.w3.org/2001/xml-events\" xmlns:xlink=\"http://www.w3.org/1999/xlink\"><defs/><rect fill=\"white\" height=\"111.875\" width=\"103.75\" x=\"0\" y=\"0\"/><path d=\"M25,40.625 m0.0,0.0 l9.375,-11.25 10.0,-4.375 l21.875,0.0 12.5,3.75 m-35.0,24.375 l-1.875,-3.125 1.25,-3.125 l-1.875,-0.625 -8.75,6.25 l5.625,2.5 12.5,0.0 l11.875,-6.875 -14.375,-5.0 l-4.375,3.125 9.375,-0.625 l0.625,5.625 m18.125,14.375 l0.625,16.875 -4.375,2.5 l1.25,1.875 \" fill=\"none\" stroke=\"black\" stroke-width=\"1\"/></svg>"
      ],
      "text/plain": [
       "<IPython.core.display.SVG object>"
      ]
     },
     "metadata": {},
     "output_type": "display_data"
    },
    {
     "name": "stdout",
     "output_type": "stream",
     "text": [
      "eye 1.5473397\n"
     ]
    },
    {
     "data": {
      "image/svg+xml": [
       "<svg baseProfile=\"full\" height=\"111.875\" version=\"1.1\" width=\"111.875\" xmlns=\"http://www.w3.org/2000/svg\" xmlns:ev=\"http://www.w3.org/2001/xml-events\" xmlns:xlink=\"http://www.w3.org/1999/xlink\"><defs/><rect fill=\"white\" height=\"111.875\" width=\"111.875\" x=\"0\" y=\"0\"/><path d=\"M25,30.0 m0.0,0.0 l0.0,1.875 11.875,-6.875 l21.875,0.0 12.5,3.75 m-36.25,19.375 l1.25,5.625 2.5,1.25 l4.375,0.0 3.75,-3.125 l-0.625,-7.5 8.125,3.75 l-6.875,3.75 7.5,-3.75 l-14.375,-5.0 -5.625,4.375 l-1.25,-1.25 -8.75,5.0 l0.0,1.875 3.125,1.25 l7.5,0.0 m28.75,11.25 l0.625,16.875 -4.375,2.5 l1.25,1.875 m11.875,-21.875 l1.25,16.875 4.375,5.0 m7.5,-42.5 l-5.625,5.0 5.625,2.5 \" fill=\"none\" stroke=\"black\" stroke-width=\"1\"/></svg>"
      ],
      "text/plain": [
       "<IPython.core.display.SVG object>"
      ]
     },
     "metadata": {},
     "output_type": "display_data"
    },
    {
     "name": "stdout",
     "output_type": "stream",
     "text": [
      "nose 1.858591\n"
     ]
    },
    {
     "data": {
      "image/svg+xml": [
       "<svg baseProfile=\"full\" height=\"111.875\" version=\"1.1\" width=\"111.875\" xmlns=\"http://www.w3.org/2000/svg\" xmlns:ev=\"http://www.w3.org/2001/xml-events\" xmlns:xlink=\"http://www.w3.org/1999/xlink\"><defs/><rect fill=\"white\" height=\"111.875\" width=\"111.875\" x=\"0\" y=\"0\"/><path d=\"M25,25 m0.0,0.0 l18.125,0.0 12.5,3.75 m-17.5,18.75 l-13.125,-5.0 5.0,3.125 l1.25,6.25 -3.75,3.125 l-2.5,-1.25 0.0,2.5 l14.375,-8.125 m9.375,17.5 l0.625,16.875 -4.375,2.5 l1.25,1.875 m11.875,-21.875 l1.25,16.875 4.375,5.0 m22.5,-45.0 l0.625,8.125 -2.5,1.875 l-13.75,0.0 -5.0,-2.5 l10.0,-6.25 -0.625,5.0 l1.875,1.875 1.25,-8.125 l4.375,-1.875 4.375,1.25 m-13.125,-11.25 l10.0,-5.0 3.125,0.625 \" fill=\"none\" stroke=\"black\" stroke-width=\"1\"/></svg>"
      ],
      "text/plain": [
       "<IPython.core.display.SVG object>"
      ]
     },
     "metadata": {},
     "output_type": "display_data"
    },
    {
     "name": "stdout",
     "output_type": "stream",
     "text": [
      "nose 1.5392269\n"
     ]
    },
    {
     "data": {
      "image/svg+xml": [
       "<svg baseProfile=\"full\" height=\"111.875\" version=\"1.1\" width=\"105.0\" xmlns=\"http://www.w3.org/2000/svg\" xmlns:ev=\"http://www.w3.org/2001/xml-events\" xmlns:xlink=\"http://www.w3.org/1999/xlink\"><defs/><rect fill=\"white\" height=\"111.875\" width=\"105.0\" x=\"0\" y=\"0\"/><path d=\"M25,25.625 m0.0,0.0 l15.0,3.125 m-6.875,36.875 l0.625,16.875 -4.375,2.5 l1.25,1.875 m11.875,-21.875 l1.25,16.875 4.375,5.0 m23.125,-40.0 l0.0,-5.625 8.125,3.75 l-5.625,3.75 -2.5,-1.25 l-2.5,4.375 -13.75,0.0 l-5.0,-2.5 10.0,-6.25 l-0.625,5.0 1.875,1.875 l0.0,-6.875 5.625,-3.125 l13.125,5.0 m-21.875,-15.0 l10.0,-5.0 6.875,0.0 \" fill=\"none\" stroke=\"black\" stroke-width=\"1\"/></svg>"
      ],
      "text/plain": [
       "<IPython.core.display.SVG object>"
      ]
     },
     "metadata": {},
     "output_type": "display_data"
    },
    {
     "name": "stdout",
     "output_type": "stream",
     "text": [
      "mouth 2.1374125\n"
     ]
    },
    {
     "data": {
      "image/svg+xml": [
       "<svg baseProfile=\"full\" height=\"111.875\" version=\"1.1\" width=\"96.875\" xmlns=\"http://www.w3.org/2000/svg\" xmlns:ev=\"http://www.w3.org/2001/xml-events\" xmlns:xlink=\"http://www.w3.org/1999/xlink\"><defs/><rect fill=\"white\" height=\"111.875\" width=\"96.875\" x=\"0\" y=\"0\"/><path d=\"M25,65.0 m0.0,0.0 l1.25,16.875 4.375,5.0 m23.125,-40.0 l0.0,-5.625 8.125,3.75 l-5.625,3.75 -2.5,-1.25 l-2.5,4.375 -13.75,0.0 l-5.0,-2.5 10.0,-6.25 l-0.625,5.0 1.875,1.875 l0.0,-6.875 5.625,-3.125 l13.125,5.0 m-21.875,-15.0 l10.0,-5.0 6.875,0.0 m12.5,24.375 l1.875,7.5 -1.25,30.0 \" fill=\"none\" stroke=\"black\" stroke-width=\"1\"/></svg>"
      ],
      "text/plain": [
       "<IPython.core.display.SVG object>"
      ]
     },
     "metadata": {},
     "output_type": "display_data"
    },
    {
     "name": "stdout",
     "output_type": "stream",
     "text": [
      "nose 6.67695\n"
     ]
    },
    {
     "data": {
      "image/svg+xml": [
       "<svg baseProfile=\"full\" height=\"109.375\" version=\"1.1\" width=\"95.625\" xmlns=\"http://www.w3.org/2000/svg\" xmlns:ev=\"http://www.w3.org/2001/xml-events\" xmlns:xlink=\"http://www.w3.org/1999/xlink\"><defs/><rect fill=\"white\" height=\"109.375\" width=\"95.625\" x=\"0\" y=\"0\"/><path d=\"M25,40.0 m0.0,0.0 l6.25,28.75 5.625,15.625 m33.75,-59.375 l-5.625,3.75 1.875,6.875 l3.75,0.0 0.0,1.875 l-9.375,-0.625 -5.625,-2.5 l8.75,-6.25 \" fill=\"none\" stroke=\"black\" stroke-width=\"1\"/></svg>"
      ],
      "text/plain": [
       "<IPython.core.display.SVG object>"
      ]
     },
     "metadata": {},
     "output_type": "display_data"
    },
    {
     "name": "stdout",
     "output_type": "stream",
     "text": [
      "nose 1.3441324\n"
     ]
    },
    {
     "data": {
      "image/svg+xml": [
       "<svg baseProfile=\"full\" height=\"109.375\" version=\"1.1\" width=\"111.25\" xmlns=\"http://www.w3.org/2000/svg\" xmlns:ev=\"http://www.w3.org/2001/xml-events\" xmlns:xlink=\"http://www.w3.org/1999/xlink\"><defs/><rect fill=\"white\" height=\"109.375\" width=\"111.25\" x=\"0\" y=\"0\"/><path d=\"M25,40.0 m0.0,0.0 l6.25,28.75 5.625,15.625 m30.0,-49.375 l-1.875,-3.125 1.25,-3.125 l-1.875,-0.625 -8.75,6.25 l5.625,2.5 12.5,0.0 l12.5,-6.875 -15.0,-5.0 l-4.375,3.125 9.375,-0.625 l0.625,5.625 \" fill=\"none\" stroke=\"black\" stroke-width=\"1\"/></svg>"
      ],
      "text/plain": [
       "<IPython.core.display.SVG object>"
      ]
     },
     "metadata": {},
     "output_type": "display_data"
    },
    {
     "name": "stdout",
     "output_type": "stream",
     "text": [
      "None 1.5983112\n"
     ]
    },
    {
     "data": {
      "image/svg+xml": [
       "<svg baseProfile=\"full\" height=\"105.0\" version=\"1.1\" width=\"96.25\" xmlns=\"http://www.w3.org/2000/svg\" xmlns:ev=\"http://www.w3.org/2001/xml-events\" xmlns:xlink=\"http://www.w3.org/1999/xlink\"><defs/><rect fill=\"white\" height=\"105.0\" width=\"96.25\" x=\"0\" y=\"0\"/><path d=\"M36.25,35.0 m0.0,0.0 l-1.875,-3.125 1.25,-3.125 l-1.875,-0.625 -8.75,6.25 l5.625,2.5 12.5,0.0 l11.875,-6.875 -14.375,-5.0 l-4.375,3.125 9.375,-0.625 l0.625,5.625 m20.625,42.5 l0.0,-4.375 3.125,0.0 l-1.25,5.625 -1.875,-0.625 l1.875,3.75 2.5,-8.75 l-6.875,0.0 -3.75,-3.125 l4.375,-3.75 -0.625,-16.25 \" fill=\"none\" stroke=\"black\" stroke-width=\"1\"/></svg>"
      ],
      "text/plain": [
       "<IPython.core.display.SVG object>"
      ]
     },
     "metadata": {},
     "output_type": "display_data"
    },
    {
     "name": "stdout",
     "output_type": "stream",
     "text": [
      "no classification\n",
      "mouth 2.2820194\n"
     ]
    },
    {
     "data": {
      "image/svg+xml": [
       "<svg baseProfile=\"full\" height=\"109.375\" version=\"1.1\" width=\"111.875\" xmlns=\"http://www.w3.org/2000/svg\" xmlns:ev=\"http://www.w3.org/2001/xml-events\" xmlns:xlink=\"http://www.w3.org/1999/xlink\"><defs/><rect fill=\"white\" height=\"109.375\" width=\"111.875\" x=\"0\" y=\"0\"/><path d=\"M35.0,30.0 m0.0,0.0 l1.25,5.625 2.5,1.25 l4.375,0.0 3.75,-3.125 l-0.625,-7.5 8.125,3.75 l-6.875,3.75 7.5,-3.75 l-14.375,-5.0 -5.625,4.375 l-1.25,-1.25 -8.75,5.0 l0.0,1.875 3.125,1.25 l7.5,0.0 m28.75,11.25 l0.625,16.875 -4.375,3.75 l3.75,3.125 5.625,0.0 l-1.875,6.25 -1.25,-5.625 l1.875,8.125 1.875,-8.75 l2.5,1.25 1.25,-2.5 l4.375,-0.625 0.0,-2.5 l-3.75,-3.125 -1.25,-16.25 m5.625,36.875 l7.5,-1.25 m0.0,-56.875 l-5.625,5.0 5.625,2.5 \" fill=\"none\" stroke=\"black\" stroke-width=\"1\"/></svg>"
      ],
      "text/plain": [
       "<IPython.core.display.SVG object>"
      ]
     },
     "metadata": {},
     "output_type": "display_data"
    },
    {
     "name": "stdout",
     "output_type": "stream",
     "text": [
      "None 1.5245833\n"
     ]
    },
    {
     "data": {
      "image/svg+xml": [
       "<svg baseProfile=\"full\" height=\"111.875\" version=\"1.1\" width=\"111.875\" xmlns=\"http://www.w3.org/2000/svg\" xmlns:ev=\"http://www.w3.org/2001/xml-events\" xmlns:xlink=\"http://www.w3.org/1999/xlink\"><defs/><rect fill=\"white\" height=\"111.875\" width=\"111.875\" x=\"0\" y=\"0\"/><path d=\"M38.125,31.875 m0.0,0.0 l-13.125,-5.0 5.0,3.125 l1.25,6.25 -3.75,3.125 l-2.5,-1.25 0.0,2.5 l14.375,-8.125 m9.375,17.5 l0.625,16.875 -4.375,3.75 l3.75,3.125 5.625,0.0 l-1.875,6.25 -1.25,-5.625 l1.875,8.125 1.875,-8.75 l2.5,1.25 1.25,-2.5 l4.375,-0.625 0.0,-2.5 l-3.75,-3.125 -1.25,-16.25 m5.625,36.875 l13.75,0.0 m0.0,-51.25 l3.75,1.25 5.625,-2.5 l0.0,-9.375 -8.75,0.0 l-3.125,5.625 1.875,3.75 l-1.25,1.875 -10.0,-2.5 l10.0,-6.25 \" fill=\"none\" stroke=\"black\" stroke-width=\"1\"/></svg>"
      ],
      "text/plain": [
       "<IPython.core.display.SVG object>"
      ]
     },
     "metadata": {},
     "output_type": "display_data"
    },
    {
     "name": "stdout",
     "output_type": "stream",
     "text": [
      "no classification\n",
      "nose 3.08743\n"
     ]
    },
    {
     "data": {
      "image/svg+xml": [
       "<svg baseProfile=\"full\" height=\"111.875\" version=\"1.1\" width=\"107.5\" xmlns=\"http://www.w3.org/2000/svg\" xmlns:ev=\"http://www.w3.org/2001/xml-events\" xmlns:xlink=\"http://www.w3.org/1999/xlink\"><defs/><rect fill=\"white\" height=\"111.875\" width=\"107.5\" x=\"0\" y=\"0\"/><path d=\"M28.75,50.0 m0.0,0.0 l0.625,16.875 -4.375,3.75 l3.75,3.125 5.625,0.0 l-1.875,6.25 -1.25,-5.625 l1.875,8.125 1.875,-8.75 l2.5,1.25 1.25,-2.5 l4.375,-0.625 0.0,-2.5 l-3.75,-3.125 -1.25,-16.25 m5.625,36.875 l13.75,0.0 m9.375,-61.875 l6.875,3.125 1.25,1.25 l-1.875,1.875 -11.875,5.625 l-4.375,-1.875 -8.125,0.625 l-3.125,-1.875 8.75,-6.25 l1.875,0.625 -1.25,4.375 l1.875,1.875 1.25,-9.375 l8.125,0.0 1.25,7.5 l8.125,-3.125 m6.875,53.125 l0.0,4.375 \" fill=\"none\" stroke=\"black\" stroke-width=\"1\"/></svg>"
      ],
      "text/plain": [
       "<IPython.core.display.SVG object>"
      ]
     },
     "metadata": {},
     "output_type": "display_data"
    },
    {
     "name": "stdout",
     "output_type": "stream",
     "text": [
      "nose 2.0866432\n"
     ]
    },
    {
     "data": {
      "image/svg+xml": [
       "<svg baseProfile=\"full\" height=\"111.875\" version=\"1.1\" width=\"98.75\" xmlns=\"http://www.w3.org/2000/svg\" xmlns:ev=\"http://www.w3.org/2001/xml-events\" xmlns:xlink=\"http://www.w3.org/1999/xlink\"><defs/><rect fill=\"white\" height=\"111.875\" width=\"98.75\" x=\"0\" y=\"0\"/><path d=\"M26.875,49.375 m0.0,0.0 l1.25,16.875 3.75,3.125 l0.0,2.5 -6.875,3.125 m7.5,11.875 l13.75,0.0 m9.375,-61.875 l6.875,3.125 1.25,1.25 l-1.875,1.875 -11.875,5.625 l-4.375,-1.875 -8.125,0.625 l-3.125,-1.875 8.75,-6.25 l1.875,0.625 -1.25,4.375 l1.875,1.875 1.25,-9.375 l8.125,0.0 1.25,7.5 l8.125,-3.125 m7.5,4.375 l1.875,7.5 -1.875,45.625 \" fill=\"none\" stroke=\"black\" stroke-width=\"1\"/></svg>"
      ],
      "text/plain": [
       "<IPython.core.display.SVG object>"
      ]
     },
     "metadata": {},
     "output_type": "display_data"
    },
    {
     "name": "stdout",
     "output_type": "stream",
     "text": [
      "nose 6.015178\n"
     ]
    },
    {
     "data": {
      "image/svg+xml": [
       "<svg baseProfile=\"full\" height=\"110.0\" version=\"1.1\" width=\"70.0\" xmlns=\"http://www.w3.org/2000/svg\" xmlns:ev=\"http://www.w3.org/2001/xml-events\" xmlns:xlink=\"http://www.w3.org/1999/xlink\"><defs/><rect fill=\"white\" height=\"110.0\" width=\"70.0\" x=\"0\" y=\"0\"/><path d=\"M25,25 m0.0,0.0 l8.75,37.5 11.25,22.5 \" fill=\"none\" stroke=\"black\" stroke-width=\"1\"/></svg>"
      ],
      "text/plain": [
       "<IPython.core.display.SVG object>"
      ]
     },
     "metadata": {},
     "output_type": "display_data"
    },
    {
     "name": "stdout",
     "output_type": "stream",
     "text": [
      "nose 4.075289\n"
     ]
    },
    {
     "data": {
      "image/svg+xml": [
       "<svg baseProfile=\"full\" height=\"111.875\" version=\"1.1\" width=\"98.125\" xmlns=\"http://www.w3.org/2000/svg\" xmlns:ev=\"http://www.w3.org/2001/xml-events\" xmlns:xlink=\"http://www.w3.org/1999/xlink\"><defs/><rect fill=\"white\" height=\"111.875\" width=\"98.125\" x=\"0\" y=\"0\"/><path d=\"M25,26.875 m0.0,0.0 l8.75,37.5 11.25,22.5 m26.25,-61.875 l1.875,0.0 \" fill=\"none\" stroke=\"black\" stroke-width=\"1\"/></svg>"
      ],
      "text/plain": [
       "<IPython.core.display.SVG object>"
      ]
     },
     "metadata": {},
     "output_type": "display_data"
    },
    {
     "name": "stdout",
     "output_type": "stream",
     "text": [
      "nose 4.9969096\n"
     ]
    },
    {
     "data": {
      "image/svg+xml": [
       "<svg baseProfile=\"full\" height=\"111.875\" version=\"1.1\" width=\"111.875\" xmlns=\"http://www.w3.org/2000/svg\" xmlns:ev=\"http://www.w3.org/2001/xml-events\" xmlns:xlink=\"http://www.w3.org/1999/xlink\"><defs/><rect fill=\"white\" height=\"111.875\" width=\"111.875\" x=\"0\" y=\"0\"/><path d=\"M25,76.25 m0.0,0.0 l0.0,3.125 6.25,7.5 m41.25,-1.875 l4.375,-10.625 5.625,0.625 l4.375,5.0 m-4.375,-17.5 l0.0,-4.375 3.125,0.0 l-1.25,5.625 -1.875,-0.625 l1.875,3.75 2.5,-8.75 l-6.875,0.0 -3.75,-3.125 l4.375,-3.75 -0.625,-16.25 m-23.75,-10.0 l1.875,0.0 \" fill=\"none\" stroke=\"black\" stroke-width=\"1\"/></svg>"
      ],
      "text/plain": [
       "<IPython.core.display.SVG object>"
      ]
     },
     "metadata": {},
     "output_type": "display_data"
    },
    {
     "name": "stdout",
     "output_type": "stream",
     "text": [
      "nose 0.87897396\n"
     ]
    },
    {
     "data": {
      "image/svg+xml": [
       "<svg baseProfile=\"full\" height=\"110.0\" version=\"1.1\" width=\"96.25\" xmlns=\"http://www.w3.org/2000/svg\" xmlns:ev=\"http://www.w3.org/2001/xml-events\" xmlns:xlink=\"http://www.w3.org/1999/xlink\"><defs/><rect fill=\"white\" height=\"110.0\" width=\"96.25\" x=\"0\" y=\"0\"/><path d=\"M71.25,69.375 m0.0,0.0 l-5.0,0.625 -4.375,3.125 l-5.0,6.875 -5.625,-5.0 l-5.625,-0.625 -4.375,10.625 m7.5,-50.625 l0.625,16.875 -4.375,3.75 l3.75,3.125 5.625,0.0 l-1.875,6.25 -1.25,-5.625 l1.875,8.125 1.875,-8.75 l2.5,1.25 1.25,-2.5 l4.375,-0.625 0.0,-2.5 l-3.75,-3.125 -1.25,-16.25 m-33.125,-9.375 l1.875,0.0 \" fill=\"none\" stroke=\"black\" stroke-width=\"1\"/></svg>"
      ],
      "text/plain": [
       "<IPython.core.display.SVG object>"
      ]
     },
     "metadata": {},
     "output_type": "display_data"
    },
    {
     "name": "stdout",
     "output_type": "stream",
     "text": [
      "nose 2.622909\n"
     ]
    },
    {
     "data": {
      "image/svg+xml": [
       "<svg baseProfile=\"full\" height=\"110.0\" version=\"1.1\" width=\"108.125\" xmlns=\"http://www.w3.org/2000/svg\" xmlns:ev=\"http://www.w3.org/2001/xml-events\" xmlns:xlink=\"http://www.w3.org/1999/xlink\"><defs/><rect fill=\"white\" height=\"110.0\" width=\"108.125\" x=\"0\" y=\"0\"/><path d=\"M41.25,85.0 m0.0,0.0 l4.375,-10.625 5.625,0.625 l5.625,5.0 9.375,-10.0 l6.875,0.0 6.875,3.125 l2.5,2.5 0.625,7.5 l-3.75,-0.625 m-30.625,-48.125 l0.625,16.875 -4.375,3.75 l3.75,3.125 5.625,0.0 l-1.875,6.25 -1.25,-5.625 l1.875,8.125 1.875,-8.75 l2.5,1.25 1.25,-2.5 l4.375,-0.625 0.0,-2.5 l-3.75,-3.125 -1.25,-16.25 m-33.125,-9.375 l1.875,0.0 \" fill=\"none\" stroke=\"black\" stroke-width=\"1\"/></svg>"
      ],
      "text/plain": [
       "<IPython.core.display.SVG object>"
      ]
     },
     "metadata": {},
     "output_type": "display_data"
    },
    {
     "name": "stdout",
     "output_type": "stream",
     "text": [
      "nose 2.3551455\n"
     ]
    },
    {
     "data": {
      "image/svg+xml": [
       "<svg baseProfile=\"full\" height=\"102.5\" version=\"1.1\" width=\"111.25\" xmlns=\"http://www.w3.org/2000/svg\" xmlns:ev=\"http://www.w3.org/2001/xml-events\" xmlns:xlink=\"http://www.w3.org/1999/xlink\"><defs/><rect fill=\"white\" height=\"102.5\" width=\"111.25\" x=\"0\" y=\"0\"/><path d=\"M25,75.625 m0.0,0.0 l4.375,-10.625 5.625,0.625 l5.625,5.0 9.375,-10.0 l6.875,0.0 6.875,3.125 l2.5,2.5 0.625,7.5 l-3.75,-0.625 m-30.625,-48.125 l0.625,16.875 -4.375,3.75 l3.75,3.125 5.625,0.0 l-1.875,6.25 -1.25,-5.625 l1.875,8.125 1.875,-8.75 l2.5,1.25 1.25,-2.5 l4.375,-0.625 0.0,-2.5 l-3.75,-3.125 -1.25,-16.25 m44.375,32.5 l0.0,11.25 -2.5,8.75 \" fill=\"none\" stroke=\"black\" stroke-width=\"1\"/></svg>"
      ],
      "text/plain": [
       "<IPython.core.display.SVG object>"
      ]
     },
     "metadata": {},
     "output_type": "display_data"
    },
    {
     "name": "stdout",
     "output_type": "stream",
     "text": [
      "nose 10.42147\n"
     ]
    },
    {
     "data": {
      "image/svg+xml": [
       "<svg baseProfile=\"full\" height=\"111.875\" version=\"1.1\" width=\"98.75\" xmlns=\"http://www.w3.org/2000/svg\" xmlns:ev=\"http://www.w3.org/2001/xml-events\" xmlns:xlink=\"http://www.w3.org/1999/xlink\"><defs/><rect fill=\"white\" height=\"111.875\" width=\"98.75\" x=\"0\" y=\"0\"/><path d=\"M26.875,33.75 m0.0,0.0 l1.25,16.875 3.75,3.125 l0.0,2.5 -6.875,3.125 m23.125,23.125 l3.75,0.625 -0.625,-7.5 l-9.375,-5.625 -6.875,0.0 l-10.0,10.625 m48.125,-55.625 l0.625,25.625 -5.0,36.25 \" fill=\"none\" stroke=\"black\" stroke-width=\"1\"/></svg>"
      ],
      "text/plain": [
       "<IPython.core.display.SVG object>"
      ]
     },
     "metadata": {},
     "output_type": "display_data"
    },
    {
     "name": "stdout",
     "output_type": "stream",
     "text": [
      "nose 9.370228\n"
     ]
    },
    {
     "data": {
      "image/svg+xml": [
       "<svg baseProfile=\"full\" height=\"111.875\" version=\"1.1\" width=\"83.125\" xmlns=\"http://www.w3.org/2000/svg\" xmlns:ev=\"http://www.w3.org/2001/xml-events\" xmlns:xlink=\"http://www.w3.org/1999/xlink\"><defs/><rect fill=\"white\" height=\"111.875\" width=\"83.125\" x=\"0\" y=\"0\"/><path d=\"M25,25 m0.0,0.0 l5.0,23.75 7.5,16.875 l10.0,13.125 10.625,8.125 \" fill=\"none\" stroke=\"black\" stroke-width=\"1\"/></svg>"
      ],
      "text/plain": [
       "<IPython.core.display.SVG object>"
      ]
     },
     "metadata": {},
     "output_type": "display_data"
    },
    {
     "name": "stdout",
     "output_type": "stream",
     "text": [
      "nose 9.370228\n"
     ]
    },
    {
     "data": {
      "image/svg+xml": [
       "<svg baseProfile=\"full\" height=\"111.875\" version=\"1.1\" width=\"83.125\" xmlns=\"http://www.w3.org/2000/svg\" xmlns:ev=\"http://www.w3.org/2001/xml-events\" xmlns:xlink=\"http://www.w3.org/1999/xlink\"><defs/><rect fill=\"white\" height=\"111.875\" width=\"83.125\" x=\"0\" y=\"0\"/><path d=\"M25,25 m0.0,0.0 l5.0,23.75 7.5,16.875 l10.0,13.125 10.625,8.125 \" fill=\"none\" stroke=\"black\" stroke-width=\"1\"/></svg>"
      ],
      "text/plain": [
       "<IPython.core.display.SVG object>"
      ]
     },
     "metadata": {},
     "output_type": "display_data"
    },
    {
     "name": "stdout",
     "output_type": "stream",
     "text": [
      "mouth 1.7440478\n"
     ]
    },
    {
     "data": {
      "image/svg+xml": [
       "<svg baseProfile=\"full\" height=\"111.875\" version=\"1.1\" width=\"111.875\" xmlns=\"http://www.w3.org/2000/svg\" xmlns:ev=\"http://www.w3.org/2001/xml-events\" xmlns:xlink=\"http://www.w3.org/1999/xlink\"><defs/><rect fill=\"white\" height=\"111.875\" width=\"111.875\" x=\"0\" y=\"0\"/><path d=\"M25,60.625 m0.0,0.0 l0.0,3.125 11.25,15.0 l10.0,8.125 m26.25,-17.5 l4.375,-10.625 5.625,0.625 l4.375,5.0 m-14.375,10.625 l1.875,5.625 6.25,6.25 m0.0,-61.875 l0.0,10.625 -4.375,3.75 l3.75,3.125 5.625,0.0 l-1.25,8.75 -1.875,-8.125 l4.375,0.625 \" fill=\"none\" stroke=\"black\" stroke-width=\"1\"/></svg>"
      ],
      "text/plain": [
       "<IPython.core.display.SVG object>"
      ]
     },
     "metadata": {},
     "output_type": "display_data"
    },
    {
     "name": "stdout",
     "output_type": "stream",
     "text": [
      "nose 1.5697107\n"
     ]
    },
    {
     "data": {
      "image/svg+xml": [
       "<svg baseProfile=\"full\" height=\"111.875\" version=\"1.1\" width=\"111.875\" xmlns=\"http://www.w3.org/2000/svg\" xmlns:ev=\"http://www.w3.org/2001/xml-events\" xmlns:xlink=\"http://www.w3.org/1999/xlink\"><defs/><rect fill=\"white\" height=\"111.875\" width=\"111.875\" x=\"0\" y=\"0\"/><path d=\"M25,81.875 m0.0,0.0 l0.0,1.875 6.25,3.125 m55.625,-33.125 l-5.0,0.625 -4.375,3.125 l-5.0,6.875 -5.625,-5.0 l-5.625,-0.625 -4.375,10.625 m0.0,5.625 l1.875,5.625 6.25,6.25 m0.0,-61.875 l0.0,10.625 -4.375,3.75 l3.75,3.125 5.625,0.0 l-1.25,8.75 -1.875,-8.125 l6.25,0.625 1.25,-2.5 l4.375,-0.625 0.0,-2.5 l-3.75,-3.125 0.625,-10.0 \" fill=\"none\" stroke=\"black\" stroke-width=\"1\"/></svg>"
      ],
      "text/plain": [
       "<IPython.core.display.SVG object>"
      ]
     },
     "metadata": {},
     "output_type": "display_data"
    },
    {
     "name": "stdout",
     "output_type": "stream",
     "text": [
      "nose 1.5891465\n"
     ]
    },
    {
     "data": {
      "image/svg+xml": [
       "<svg baseProfile=\"full\" height=\"111.875\" version=\"1.1\" width=\"95.625\" xmlns=\"http://www.w3.org/2000/svg\" xmlns:ev=\"http://www.w3.org/2001/xml-events\" xmlns:xlink=\"http://www.w3.org/1999/xlink\"><defs/><rect fill=\"white\" height=\"111.875\" width=\"95.625\" x=\"0\" y=\"0\"/><path d=\"M25,69.375 m0.0,0.0 l4.375,-10.625 5.625,0.625 l5.625,5.0 9.375,-10.0 l6.875,0.0 6.875,3.125 l3.125,5.625 0.0,4.375 l-3.125,-0.625 m-38.75,8.125 l1.875,5.625 6.25,6.25 m0.0,-61.875 l0.0,10.625 -4.375,3.75 l3.75,3.125 5.625,0.0 l-1.25,8.75 -1.875,-8.125 l6.25,0.625 1.25,-2.5 l4.375,-0.625 0.0,-2.5 l-3.75,-3.125 0.625,-10.0 m18.125,61.875 l8.75,-3.125 \" fill=\"none\" stroke=\"black\" stroke-width=\"1\"/></svg>"
      ],
      "text/plain": [
       "<IPython.core.display.SVG object>"
      ]
     },
     "metadata": {},
     "output_type": "display_data"
    },
    {
     "name": "stdout",
     "output_type": "stream",
     "text": [
      "mouth 0.6121465\n"
     ]
    },
    {
     "data": {
      "image/svg+xml": [
       "<svg baseProfile=\"full\" height=\"111.875\" version=\"1.1\" width=\"111.25\" xmlns=\"http://www.w3.org/2000/svg\" xmlns:ev=\"http://www.w3.org/2001/xml-events\" xmlns:xlink=\"http://www.w3.org/1999/xlink\"><defs/><rect fill=\"white\" height=\"111.875\" width=\"111.25\" x=\"0\" y=\"0\"/><path d=\"M25,69.375 m0.0,0.0 l4.375,-10.625 5.625,0.625 l5.625,5.0 9.375,-10.0 l6.875,0.0 6.875,3.125 l2.5,2.5 0.625,7.5 l-3.75,-0.625 m-38.125,8.125 l1.875,5.625 6.25,6.25 m0.0,-61.875 l0.0,10.625 -4.375,3.75 l3.75,3.125 5.625,0.0 l-1.25,8.75 -1.875,-8.125 l6.25,0.625 1.25,-2.5 l4.375,-0.625 0.0,-2.5 l-3.75,-3.125 0.625,-10.0 m36.25,61.875 l6.25,-24.375 0.0,-10.625 \" fill=\"none\" stroke=\"black\" stroke-width=\"1\"/></svg>"
      ],
      "text/plain": [
       "<IPython.core.display.SVG object>"
      ]
     },
     "metadata": {},
     "output_type": "display_data"
    },
    {
     "name": "stdout",
     "output_type": "stream",
     "text": [
      "nose 3.9786916\n"
     ]
    },
    {
     "data": {
      "image/svg+xml": [
       "<svg baseProfile=\"full\" height=\"111.875\" version=\"1.1\" width=\"99.375\" xmlns=\"http://www.w3.org/2000/svg\" xmlns:ev=\"http://www.w3.org/2001/xml-events\" xmlns:xlink=\"http://www.w3.org/1999/xlink\"><defs/><rect fill=\"white\" height=\"111.875\" width=\"99.375\" x=\"0\" y=\"0\"/><path d=\"M25,43.125 m0.0,0.0 l6.875,-2.5 0.0,-2.5 l-3.75,-3.125 -0.625,-10.0 m-2.5,38.75 l10.0,-9.375 6.875,0.0 l9.375,5.625 0.625,7.5 l-3.125,-0.625 m16.25,20.0 l6.25,-28.125 3.125,-33.75 \" fill=\"none\" stroke=\"black\" stroke-width=\"1\"/></svg>"
      ],
      "text/plain": [
       "<IPython.core.display.SVG object>"
      ]
     },
     "metadata": {},
     "output_type": "display_data"
    },
    {
     "name": "stdout",
     "output_type": "stream",
     "text": [
      "nose 8.590907\n"
     ]
    },
    {
     "data": {
      "image/svg+xml": [
       "<svg baseProfile=\"full\" height=\"103.125\" version=\"1.1\" width=\"88.125\" xmlns=\"http://www.w3.org/2000/svg\" xmlns:ev=\"http://www.w3.org/2001/xml-events\" xmlns:xlink=\"http://www.w3.org/1999/xlink\"><defs/><rect fill=\"white\" height=\"103.125\" width=\"88.125\" x=\"0\" y=\"0\"/><path d=\"M25,25 m0.0,0.0 l1.25,8.125 7.5,16.875 l14.375,17.5 15.0,10.625 \" fill=\"none\" stroke=\"black\" stroke-width=\"1\"/></svg>"
      ],
      "text/plain": [
       "<IPython.core.display.SVG object>"
      ]
     },
     "metadata": {},
     "output_type": "display_data"
    },
    {
     "name": "stdout",
     "output_type": "stream",
     "text": [
      "nose 10.585907\n"
     ]
    },
    {
     "data": {
      "image/svg+xml": [
       "<svg baseProfile=\"full\" height=\"111.25\" version=\"1.1\" width=\"103.75\" xmlns=\"http://www.w3.org/2000/svg\" xmlns:ev=\"http://www.w3.org/2001/xml-events\" xmlns:xlink=\"http://www.w3.org/1999/xlink\"><defs/><rect fill=\"white\" height=\"111.25\" width=\"103.75\" x=\"0\" y=\"0\"/><path d=\"M25,25 m0.0,0.0 l1.25,8.125 7.5,16.875 l10.0,13.125 18.75,15.625 l16.25,7.5 \" fill=\"none\" stroke=\"black\" stroke-width=\"1\"/></svg>"
      ],
      "text/plain": [
       "<IPython.core.display.SVG object>"
      ]
     },
     "metadata": {},
     "output_type": "display_data"
    },
    {
     "name": "stdout",
     "output_type": "stream",
     "text": [
      "mouth 2.5164294\n"
     ]
    },
    {
     "data": {
      "image/svg+xml": [
       "<svg baseProfile=\"full\" height=\"111.875\" version=\"1.1\" width=\"111.875\" xmlns=\"http://www.w3.org/2000/svg\" xmlns:ev=\"http://www.w3.org/2001/xml-events\" xmlns:xlink=\"http://www.w3.org/1999/xlink\"><defs/><rect fill=\"white\" height=\"111.875\" width=\"111.875\" x=\"0\" y=\"0\"/><path d=\"M25,45.0 m0.0,0.0 l1.25,5.0 14.375,17.5 l14.375,11.25 15.0,8.125 l4.375,0.0 m-1.875,-33.125 l4.375,-10.625 5.625,0.625 l4.375,5.0 m-14.375,10.625 l1.875,5.625 12.5,11.25 m-10.0,-51.25 l5.625,1.25 1.875,9.375 l1.25,-8.75 -3.125,-1.875 l4.375,3.125 \" fill=\"none\" stroke=\"black\" stroke-width=\"1\"/></svg>"
      ],
      "text/plain": [
       "<IPython.core.display.SVG object>"
      ]
     },
     "metadata": {},
     "output_type": "display_data"
    },
    {
     "name": "stdout",
     "output_type": "stream",
     "text": [
      "mouth 2.5466118\n"
     ]
    },
    {
     "data": {
      "image/svg+xml": [
       "<svg baseProfile=\"full\" height=\"111.875\" version=\"1.1\" width=\"111.875\" xmlns=\"http://www.w3.org/2000/svg\" xmlns:ev=\"http://www.w3.org/2001/xml-events\" xmlns:xlink=\"http://www.w3.org/1999/xlink\"><defs/><rect fill=\"white\" height=\"111.875\" width=\"111.875\" x=\"0\" y=\"0\"/><path d=\"M25,66.25 m0.0,0.0 l0.0,1.875 14.375,10.625 l15.0,8.125 4.375,0.0 m28.125,-48.75 l-5.0,0.625 -4.375,3.125 l-5.0,6.875 -5.625,-5.0 l-5.625,-0.625 -4.375,10.625 m0.0,5.625 l1.875,5.625 10.625,10.625 l11.875,1.25 5.625,-2.5 m-25.625,-49.375 l5.625,1.25 1.875,9.375 l1.25,-8.75 -3.125,-1.875 l5.0,3.125 1.875,-0.625 l0.0,-2.5 5.625,0.0 \" fill=\"none\" stroke=\"black\" stroke-width=\"1\"/></svg>"
      ],
      "text/plain": [
       "<IPython.core.display.SVG object>"
      ]
     },
     "metadata": {},
     "output_type": "display_data"
    },
    {
     "name": "stdout",
     "output_type": "stream",
     "text": [
      "mouth 3.3137484\n"
     ]
    },
    {
     "data": {
      "image/svg+xml": [
       "<svg baseProfile=\"full\" height=\"111.875\" version=\"1.1\" width=\"111.875\" xmlns=\"http://www.w3.org/2000/svg\" xmlns:ev=\"http://www.w3.org/2001/xml-events\" xmlns:xlink=\"http://www.w3.org/1999/xlink\"><defs/><rect fill=\"white\" height=\"111.875\" width=\"111.875\" x=\"0\" y=\"0\"/><path d=\"M25,78.75 m0.0,0.0 l13.75,8.125 4.375,0.0 m-1.875,-33.125 l4.375,-10.625 5.625,0.625 l5.625,5.0 9.375,-10.0 l6.875,0.0 6.875,3.125 l3.125,5.625 0.0,4.375 l-3.125,-0.625 m-38.75,8.125 l5.625,10.0 10.625,7.5 l11.25,-0.625 18.125,-8.125 m-41.25,-43.125 l5.625,1.25 1.875,9.375 l1.25,-8.75 -3.125,-1.875 l5.0,3.125 1.875,-0.625 l0.0,-2.5 5.625,0.0 m18.75,61.875 l4.375,-1.875 \" fill=\"none\" stroke=\"black\" stroke-width=\"1\"/></svg>"
      ],
      "text/plain": [
       "<IPython.core.display.SVG object>"
      ]
     },
     "metadata": {},
     "output_type": "display_data"
    },
    {
     "name": "stdout",
     "output_type": "stream",
     "text": [
      "None -0.12326792\n"
     ]
    },
    {
     "data": {
      "image/svg+xml": [
       "<svg baseProfile=\"full\" height=\"111.875\" version=\"1.1\" width=\"111.875\" xmlns=\"http://www.w3.org/2000/svg\" xmlns:ev=\"http://www.w3.org/2001/xml-events\" xmlns:xlink=\"http://www.w3.org/1999/xlink\"><defs/><rect fill=\"white\" height=\"111.875\" width=\"111.875\" x=\"0\" y=\"0\"/><path d=\"M25,86.875 m0.0,0.0 l2.5,0.0 m-1.875,-33.125 l4.375,-10.625 5.625,0.625 l5.625,5.0 9.375,-10.0 l6.875,0.0 6.875,3.125 l3.125,5.625 0.0,4.375 l-3.125,-0.625 m-34.375,-26.25 l5.625,1.25 1.875,9.375 l1.25,-8.75 -3.125,-1.875 l5.0,3.125 1.875,-0.625 l0.0,-2.5 5.625,0.0 m38.75,10.625 l0.0,11.25 -5.0,23.75 l-6.25,11.875 -3.125,3.125 l-5.0,1.25 \" fill=\"none\" stroke=\"black\" stroke-width=\"1\"/></svg>"
      ],
      "text/plain": [
       "<IPython.core.display.SVG object>"
      ]
     },
     "metadata": {},
     "output_type": "display_data"
    },
    {
     "name": "stdout",
     "output_type": "stream",
     "text": [
      "no classification\n",
      "nose 3.2757478\n"
     ]
    },
    {
     "data": {
      "image/svg+xml": [
       "<svg baseProfile=\"full\" height=\"111.875\" version=\"1.1\" width=\"97.5\" xmlns=\"http://www.w3.org/2000/svg\" xmlns:ev=\"http://www.w3.org/2001/xml-events\" xmlns:xlink=\"http://www.w3.org/1999/xlink\"><defs/><rect fill=\"white\" height=\"111.875\" width=\"97.5\" x=\"0\" y=\"0\"/><path d=\"M32.5,25 m0.0,0.0 l-5.625,0.0 0.0,2.5 l-1.875,0.625 m23.75,23.125 l3.125,0.625 -0.625,-7.5 l-9.375,-5.625 -6.875,0.0 l-10.0,10.625 m26.25,37.5 l3.125,0.0 5.625,-4.375 l6.25,-11.875 6.25,-45.625 \" fill=\"none\" stroke=\"black\" stroke-width=\"1\"/></svg>"
      ],
      "text/plain": [
       "<IPython.core.display.SVG object>"
      ]
     },
     "metadata": {},
     "output_type": "display_data"
    },
    {
     "name": "stdout",
     "output_type": "stream",
     "text": [
      "nose 5.783949\n"
     ]
    },
    {
     "data": {
      "image/svg+xml": [
       "<svg baseProfile=\"full\" height=\"88.75\" version=\"1.1\" width=\"82.5\" xmlns=\"http://www.w3.org/2000/svg\" xmlns:ev=\"http://www.w3.org/2001/xml-events\" xmlns:xlink=\"http://www.w3.org/1999/xlink\"><defs/><rect fill=\"white\" height=\"88.75\" width=\"82.5\" x=\"0\" y=\"0\"/><path d=\"M25,25 m0.0,0.0 l3.125,9.375 10.0,13.125 l19.375,16.25 \" fill=\"none\" stroke=\"black\" stroke-width=\"1\"/></svg>"
      ],
      "text/plain": [
       "<IPython.core.display.SVG object>"
      ]
     },
     "metadata": {},
     "output_type": "display_data"
    },
    {
     "name": "stdout",
     "output_type": "stream",
     "text": [
      "nose 8.084501\n"
     ]
    },
    {
     "data": {
      "image/svg+xml": [
       "<svg baseProfile=\"full\" height=\"95.625\" version=\"1.1\" width=\"98.125\" xmlns=\"http://www.w3.org/2000/svg\" xmlns:ev=\"http://www.w3.org/2001/xml-events\" xmlns:xlink=\"http://www.w3.org/1999/xlink\"><defs/><rect fill=\"white\" height=\"95.625\" width=\"98.125\" x=\"0\" y=\"0\"/><path d=\"M25,25 m0.0,0.0 l3.125,9.375 14.375,17.5 l14.375,11.25 16.25,7.5 \" fill=\"none\" stroke=\"black\" stroke-width=\"1\"/></svg>"
      ],
      "text/plain": [
       "<IPython.core.display.SVG object>"
      ]
     },
     "metadata": {},
     "output_type": "display_data"
    },
    {
     "name": "stdout",
     "output_type": "stream",
     "text": [
      "nose 4.2319403\n"
     ]
    },
    {
     "data": {
      "image/svg+xml": [
       "<svg baseProfile=\"full\" height=\"97.5\" version=\"1.1\" width=\"111.875\" xmlns=\"http://www.w3.org/2000/svg\" xmlns:ev=\"http://www.w3.org/2001/xml-events\" xmlns:xlink=\"http://www.w3.org/1999/xlink\"><defs/><rect fill=\"white\" height=\"97.5\" width=\"111.875\" x=\"0\" y=\"0\"/><path d=\"M25,26.875 m0.0,0.0 l0.0,3.125 11.25,15.0 l16.875,14.375 18.75,10.0 l15.0,3.125 m-14.375,-36.875 l4.375,-10.625 5.625,0.625 l4.375,5.0 m-14.375,10.625 l1.875,5.625 12.5,11.25 \" fill=\"none\" stroke=\"black\" stroke-width=\"1\"/></svg>"
      ],
      "text/plain": [
       "<IPython.core.display.SVG object>"
      ]
     },
     "metadata": {},
     "output_type": "display_data"
    },
    {
     "name": "stdout",
     "output_type": "stream",
     "text": [
      "mouth 2.1576989\n"
     ]
    },
    {
     "data": {
      "image/svg+xml": [
       "<svg baseProfile=\"full\" height=\"101.25\" version=\"1.1\" width=\"111.875\" xmlns=\"http://www.w3.org/2000/svg\" xmlns:ev=\"http://www.w3.org/2001/xml-events\" xmlns:xlink=\"http://www.w3.org/1999/xlink\"><defs/><rect fill=\"white\" height=\"101.25\" width=\"111.875\" x=\"0\" y=\"0\"/><path d=\"M25,50.625 m0.0,0.0 l0.0,1.875 12.5,9.375 l18.75,10.0 15.625,4.375 l15.0,-1.25 m-30.0,-36.875 l4.375,-10.625 5.625,0.625 l5.625,5.0 5.625,-8.125 l2.5,0.0 m-23.75,18.75 l1.875,5.625 10.625,10.625 l11.875,1.25 5.625,-2.5 \" fill=\"none\" stroke=\"black\" stroke-width=\"1\"/></svg>"
      ],
      "text/plain": [
       "<IPython.core.display.SVG object>"
      ]
     },
     "metadata": {},
     "output_type": "display_data"
    },
    {
     "name": "stdout",
     "output_type": "stream",
     "text": [
      "mouth 3.226538\n"
     ]
    },
    {
     "data": {
      "image/svg+xml": [
       "<svg baseProfile=\"full\" height=\"88.75\" version=\"1.1\" width=\"111.875\" xmlns=\"http://www.w3.org/2000/svg\" xmlns:ev=\"http://www.w3.org/2001/xml-events\" xmlns:xlink=\"http://www.w3.org/1999/xlink\"><defs/><rect fill=\"white\" height=\"88.75\" width=\"111.875\" x=\"0\" y=\"0\"/><path d=\"M86.875,56.875 m0.0,0.0 l-10.625,5.625 -20.0,1.25 l-15.625,-4.375 -15.625,-8.125 m18.75,-24.375 l10.0,4.375 4.375,0.0 l20.625,-1.25 4.375,-5.0 l3.75,1.25 m-45.625,5.0 l5.625,10.0 10.625,7.5 l11.25,-0.625 18.125,-8.125 \" fill=\"none\" stroke=\"black\" stroke-width=\"1\"/></svg>"
      ],
      "text/plain": [
       "<IPython.core.display.SVG object>"
      ]
     },
     "metadata": {},
     "output_type": "display_data"
    },
    {
     "name": "stdout",
     "output_type": "stream",
     "text": [
      "mouth 3.669912\n"
     ]
    },
    {
     "data": {
      "image/svg+xml": [
       "<svg baseProfile=\"full\" height=\"101.25\" version=\"1.1\" width=\"111.875\" xmlns=\"http://www.w3.org/2000/svg\" xmlns:ev=\"http://www.w3.org/2001/xml-events\" xmlns:xlink=\"http://www.w3.org/1999/xlink\"><defs/><rect fill=\"white\" height=\"101.25\" width=\"111.875\" x=\"0\" y=\"0\"/><path d=\"M25,71.25 m0.0,0.0 l15.625,5.0 6.875,0.0 l13.125,-1.25 11.875,-5.0 l9.375,-15.0 5.0,-24.375 l-0.625,-5.625 0.625,6.25 m-61.25,6.875 l4.375,-10.625 5.625,0.625 l5.625,5.0 5.625,-8.125 l2.5,0.0 \" fill=\"none\" stroke=\"black\" stroke-width=\"1\"/></svg>"
      ],
      "text/plain": [
       "<IPython.core.display.SVG object>"
      ]
     },
     "metadata": {},
     "output_type": "display_data"
    },
    {
     "name": "stdout",
     "output_type": "stream",
     "text": [
      "nose 2.7764392\n"
     ]
    },
    {
     "data": {
      "image/svg+xml": [
       "<svg baseProfile=\"full\" height=\"101.25\" version=\"1.1\" width=\"96.875\" xmlns=\"http://www.w3.org/2000/svg\" xmlns:ev=\"http://www.w3.org/2001/xml-events\" xmlns:xlink=\"http://www.w3.org/1999/xlink\"><defs/><rect fill=\"white\" height=\"101.25\" width=\"96.875\" x=\"0\" y=\"0\"/><path d=\"M25,32.5 m0.0,0.0 l6.25,-7.5 2.5,0.0 m-8.75,18.125 l22.5,-0.625 4.375,-5.0 l6.875,1.875 1.875,2.5 l-1.875,8.125 -3.75,3.125 l-17.5,7.5 -12.5,0.625 m46.875,-36.25 l-5.625,30.0 -6.25,11.875 l-3.125,3.125 -11.875,5.0 l-20.0,1.25 \" fill=\"none\" stroke=\"black\" stroke-width=\"1\"/></svg>"
      ],
      "text/plain": [
       "<IPython.core.display.SVG object>"
      ]
     },
     "metadata": {},
     "output_type": "display_data"
    },
    {
     "data": {
      "image/png": "[encoded data removed]",
      "text/plain": [
       "<matplotlib.figure.Figure at 0x11addbf90>"
      ]
     },
     "metadata": {},
     "output_type": "display_data"
    },
    {
     "name": "stdout",
     "output_type": "stream",
     "text": [
      "INFO:tensorflow:Model using gpu.\n",
      "INFO:tensorflow:Loading model four_class_checkpoint/vector-110000.\n",
      "INFO:tensorflow:Restoring parameters from four_class_checkpoint/vector-110000\n",
      "nose 3.5110068\n"
     ]
    },
    {
     "data": {
      "image/svg+xml": [
       "<svg baseProfile=\"full\" height=\"95.625\" version=\"1.1\" width=\"96.875\" xmlns=\"http://www.w3.org/2000/svg\" xmlns:ev=\"http://www.w3.org/2001/xml-events\" xmlns:xlink=\"http://www.w3.org/1999/xlink\"><defs/><rect fill=\"white\" height=\"95.625\" width=\"96.875\" x=\"0\" y=\"0\"/><path d=\"M25,58.75 m0.0,0.0 l3.75,11.875 m42.5,-45.625 l-18.125,5.0 -8.75,11.875 m27.5,13.75 l-4.375,1.25 -13.125,-3.125 l4.375,-3.75 -1.25,-5.0 l1.875,5.0 5.0,0.0 l1.875,5.0 -5.625,-6.25 l0.625,-1.875 -6.25,4.375 l0.0,-1.875 \" fill=\"none\" stroke=\"black\" stroke-width=\"1\"/></svg>"
      ],
      "text/plain": [
       "<IPython.core.display.SVG object>"
      ]
     },
     "metadata": {},
     "output_type": "display_data"
    },
    {
     "name": "stdout",
     "output_type": "stream",
     "text": [
      "eye 2.5054939\n"
     ]
    },
    {
     "data": {
      "image/svg+xml": [
       "<svg baseProfile=\"full\" height=\"95.625\" version=\"1.1\" width=\"111.875\" xmlns=\"http://www.w3.org/2000/svg\" xmlns:ev=\"http://www.w3.org/2001/xml-events\" xmlns:xlink=\"http://www.w3.org/1999/xlink\"><defs/><rect fill=\"white\" height=\"95.625\" width=\"111.875\" x=\"0\" y=\"0\"/><path d=\"M25,58.75 m0.0,0.0 l3.125,11.875 m15.625,-28.75 l8.75,-11.875 11.875,-4.375 l17.5,-0.625 5.0,1.875 m-14.375,28.75 l11.25,-2.5 -5.625,-3.125 l-9.375,-0.625 -0.625,-3.75 l-0.625,3.75 -3.75,-1.25 l0.0,-1.875 5.0,6.25 l3.125,0.0 0.0,-1.875 l0.0,5.0 -1.875,1.25 l-16.25,-3.125 4.375,-3.75 l-1.25,-5.0 1.875,5.0 l5.0,0.0 1.875,5.0 l-5.625,-6.25 0.625,-1.875 l-6.25,4.375 0.0,-1.875 \" fill=\"none\" stroke=\"black\" stroke-width=\"1\"/></svg>"
      ],
      "text/plain": [
       "<IPython.core.display.SVG object>"
      ]
     },
     "metadata": {},
     "output_type": "display_data"
    },
    {
     "name": "stdout",
     "output_type": "stream",
     "text": [
      "eye 4.9454975\n"
     ]
    },
    {
     "data": {
      "image/svg+xml": [
       "<svg baseProfile=\"full\" height=\"95.625\" version=\"1.1\" width=\"103.125\" xmlns=\"http://www.w3.org/2000/svg\" xmlns:ev=\"http://www.w3.org/2001/xml-events\" xmlns:xlink=\"http://www.w3.org/1999/xlink\"><defs/><rect fill=\"white\" height=\"95.625\" width=\"103.125\" x=\"0\" y=\"0\"/><path d=\"M25,41.875 m0.0,0.0 l8.75,-11.875 14.375,-5.0 l15.0,0.0 15.0,5.0 m-24.375,25.625 l11.25,-2.5 -5.625,-3.125 l-9.375,-0.625 -0.625,-3.75 l-0.625,3.75 -3.75,-1.25 l0.0,-1.875 5.0,6.25 l3.125,0.0 0.0,-1.875 l0.0,5.0 -1.875,1.25 l-16.25,-3.125 4.375,-3.75 l-1.25,-5.0 1.875,5.0 l5.0,0.0 1.875,5.0 l-5.625,-6.25 0.625,-1.875 l-6.25,4.375 0.0,-1.875 m35.0,16.25 l1.25,5.0 \" fill=\"none\" stroke=\"black\" stroke-width=\"1\"/></svg>"
      ],
      "text/plain": [
       "<IPython.core.display.SVG object>"
      ]
     },
     "metadata": {},
     "output_type": "display_data"
    },
    {
     "name": "stdout",
     "output_type": "stream",
     "text": [
      "eye 1.8807986\n"
     ]
    },
    {
     "data": {
      "image/svg+xml": [
       "<svg baseProfile=\"full\" height=\"95.625\" version=\"1.1\" width=\"111.875\" xmlns=\"http://www.w3.org/2000/svg\" xmlns:ev=\"http://www.w3.org/2001/xml-events\" xmlns:xlink=\"http://www.w3.org/1999/xlink\"><defs/><rect fill=\"white\" height=\"95.625\" width=\"111.875\" x=\"0\" y=\"0\"/><path d=\"M25,28.125 m0.0,0.0 l10.625,-3.125 15.0,0.0 l15.0,5.0 m-36.25,16.875 l-0.625,2.5 3.75,0.625 l3.125,6.875 5.0,-1.25 l0.0,-3.125 -3.125,0.0 l0.0,-3.125 3.125,0.625 l0.0,1.875 1.25,-2.5 l10.625,3.75 -11.25,2.5 l-4.375,-6.875 0.0,-3.125 l-0.625,3.75 -3.125,0.0 l-0.625,-3.125 1.25,10.0 l-8.75,-1.25 3.125,-5.0 l-1.875,-0.625 -0.625,-4.375 l-0.625,6.875 m33.125,13.75 l1.25,5.0 m25.0,-30.0 l2.5,5.0 -5.0,2.5 l5.0,1.875 -5.625,-1.25 l0.0,-5.0 m5.0,-14.375 l0.625,0.0 \" fill=\"none\" stroke=\"black\" stroke-width=\"1\"/></svg>"
      ],
      "text/plain": [
       "<IPython.core.display.SVG object>"
      ]
     },
     "metadata": {},
     "output_type": "display_data"
    },
    {
     "name": "stdout",
     "output_type": "stream",
     "text": [
      "nose 1.7403381\n"
     ]
    },
    {
     "data": {
      "image/svg+xml": [
       "<svg baseProfile=\"full\" height=\"97.5\" version=\"1.1\" width=\"111.875\" xmlns=\"http://www.w3.org/2000/svg\" xmlns:ev=\"http://www.w3.org/2001/xml-events\" xmlns:xlink=\"http://www.w3.org/1999/xlink\"><defs/><rect fill=\"white\" height=\"97.5\" width=\"111.875\" x=\"0\" y=\"0\"/><path d=\"M25,26.25 m0.0,0.0 l10.0,0.625 15.0,5.0 m-25.0,18.75 l0.0,7.5 11.875,-3.125 l-11.25,-3.75 m16.875,16.25 l1.25,5.0 m37.5,-26.875 l-5.0,0.625 0.0,-3.75 l3.75,1.875 0.0,-1.875 l1.875,3.75 5.0,0.0 l-3.125,1.25 0.625,4.375 l2.5,0.625 -4.375,1.25 l-4.375,-0.625 -2.5,-6.25 l-3.75,-1.25 0.625,-1.875 l-2.5,3.125 -1.25,-4.375 l0.625,5.0 -3.125,2.5 l10.625,3.125 -11.25,-2.5 l0.0,-5.0 m5.0,-14.375 l16.25,-6.25 \" fill=\"none\" stroke=\"black\" stroke-width=\"1\"/></svg>"
      ],
      "text/plain": [
       "<IPython.core.display.SVG object>"
      ]
     },
     "metadata": {},
     "output_type": "display_data"
    },
    {
     "name": "stdout",
     "output_type": "stream",
     "text": [
      "nose 2.030663\n"
     ]
    },
    {
     "data": {
      "image/svg+xml": [
       "<svg baseProfile=\"full\" height=\"98.125\" version=\"1.1\" width=\"111.875\" xmlns=\"http://www.w3.org/2000/svg\" xmlns:ev=\"http://www.w3.org/2001/xml-events\" xmlns:xlink=\"http://www.w3.org/1999/xlink\"><defs/><rect fill=\"white\" height=\"98.125\" width=\"111.875\" x=\"0\" y=\"0\"/><path d=\"M25,28.75 m0.0,0.0 l8.75,3.125 m-6.875,36.25 l1.25,5.0 m53.125,-22.5 l-11.875,2.5 -2.5,-6.25 l-6.25,0.0 0.0,-3.75 l3.75,1.875 0.0,-1.875 l3.75,3.75 6.875,0.625 l5.625,3.125 -16.875,3.75 l-2.5,-1.875 -1.25,-5.0 l-3.75,-1.25 0.625,-1.875 l-2.5,3.125 -1.25,-4.375 l0.625,5.0 -3.125,2.5 l7.5,3.125 2.5,-0.625 l-10.625,-1.875 0.0,-5.0 m5.0,-14.375 l17.5,-6.875 9.375,0.0 l5.0,6.25 \" fill=\"none\" stroke=\"black\" stroke-width=\"1\"/></svg>"
      ],
      "text/plain": [
       "<IPython.core.display.SVG object>"
      ]
     },
     "metadata": {},
     "output_type": "display_data"
    },
    {
     "name": "stdout",
     "output_type": "stream",
     "text": [
      "mouth 2.1671588\n"
     ]
    },
    {
     "data": {
      "image/svg+xml": [
       "<svg baseProfile=\"full\" height=\"98.125\" version=\"1.1\" width=\"90.0\" xmlns=\"http://www.w3.org/2000/svg\" xmlns:ev=\"http://www.w3.org/2001/xml-events\" xmlns:xlink=\"http://www.w3.org/1999/xlink\"><defs/><rect fill=\"white\" height=\"98.125\" width=\"90.0\" x=\"0\" y=\"0\"/><path d=\"M56.25,50.625 m0.0,0.0 l-11.875,2.5 -2.5,-6.25 l-6.25,0.0 0.0,-3.75 l3.75,1.875 0.0,-1.875 l3.75,3.75 6.875,0.625 l5.625,3.125 -16.875,3.75 l-2.5,-1.875 -1.25,-5.0 l-3.75,-1.25 0.625,-1.875 l-2.5,3.125 -1.25,-4.375 l0.625,5.0 -3.125,2.5 l7.5,3.125 2.5,-0.625 l-10.625,-1.875 0.0,-5.0 m5.0,-14.375 l17.5,-6.875 9.375,0.0 l5.625,6.875 m1.875,16.25 l0.625,25.0 \" fill=\"none\" stroke=\"black\" stroke-width=\"1\"/></svg>"
      ],
      "text/plain": [
       "<IPython.core.display.SVG object>"
      ]
     },
     "metadata": {},
     "output_type": "display_data"
    },
    {
     "name": "stdout",
     "output_type": "stream",
     "text": [
      "nose 1.4623781\n"
     ]
    },
    {
     "data": {
      "image/svg+xml": [
       "<svg baseProfile=\"full\" height=\"111.875\" version=\"1.1\" width=\"96.875\" xmlns=\"http://www.w3.org/2000/svg\" xmlns:ev=\"http://www.w3.org/2001/xml-events\" xmlns:xlink=\"http://www.w3.org/1999/xlink\"><defs/><rect fill=\"white\" height=\"111.875\" width=\"96.875\" x=\"0\" y=\"0\"/><path d=\"M25,59.375 m0.0,0.0 l5.625,20.625 3.75,6.875 m10.0,-44.375 l8.75,-11.875 14.375,-5.625 l4.375,0.625 m0.0,30.625 l-4.375,1.25 -13.125,-3.125 l4.375,-3.75 -1.25,-5.0 l1.875,5.0 5.0,0.0 l1.875,5.0 -5.625,-6.25 l0.625,-1.875 -6.25,4.375 l0.0,-1.875 \" fill=\"none\" stroke=\"black\" stroke-width=\"1\"/></svg>"
      ],
      "text/plain": [
       "<IPython.core.display.SVG object>"
      ]
     },
     "metadata": {},
     "output_type": "display_data"
    },
    {
     "name": "stdout",
     "output_type": "stream",
     "text": [
      "eye 0.72995394\n"
     ]
    },
    {
     "data": {
      "image/svg+xml": [
       "<svg baseProfile=\"full\" height=\"111.875\" version=\"1.1\" width=\"111.875\" xmlns=\"http://www.w3.org/2000/svg\" xmlns:ev=\"http://www.w3.org/2001/xml-events\" xmlns:xlink=\"http://www.w3.org/1999/xlink\"><defs/><rect fill=\"white\" height=\"111.875\" width=\"111.875\" x=\"0\" y=\"0\"/><path d=\"M25,59.375 m0.0,0.0 l3.125,15.0 5.625,12.5 m10.0,-44.375 l8.75,-11.875 14.375,-5.625 l13.125,0.0 6.875,2.5 m-14.375,28.75 l11.25,-2.5 -5.625,-3.125 l-9.375,-0.625 -0.625,-3.75 l-0.625,3.75 -3.75,-1.25 l0.0,-1.875 5.0,6.25 l3.125,0.0 0.0,-1.875 l0.0,5.0 -1.875,1.25 l-16.25,-3.125 4.375,-3.75 l-1.25,-5.0 1.875,5.0 l5.0,0.0 1.875,5.0 l-5.625,-6.25 0.625,-1.875 l-6.25,4.375 0.0,-1.875 m31.25,36.875 l-1.875,0.0 -1.25,-4.375 l4.375,-0.625 \" fill=\"none\" stroke=\"black\" stroke-width=\"1\"/></svg>"
      ],
      "text/plain": [
       "<IPython.core.display.SVG object>"
      ]
     },
     "metadata": {},
     "output_type": "display_data"
    },
    {
     "name": "stdout",
     "output_type": "stream",
     "text": [
      "eye 4.460536\n"
     ]
    },
    {
     "data": {
      "image/svg+xml": [
       "<svg baseProfile=\"full\" height=\"111.875\" version=\"1.1\" width=\"103.125\" xmlns=\"http://www.w3.org/2000/svg\" xmlns:ev=\"http://www.w3.org/2001/xml-events\" xmlns:xlink=\"http://www.w3.org/1999/xlink\"><defs/><rect fill=\"white\" height=\"111.875\" width=\"103.125\" x=\"0\" y=\"0\"/><path d=\"M25,42.5 m0.0,0.0 l8.75,-11.875 14.375,-5.625 l13.125,0.0 16.875,5.625 m-24.375,25.625 l11.25,-2.5 -5.625,-3.125 l-9.375,-0.625 -0.625,-3.75 l-0.625,3.75 -3.75,-1.25 l0.0,-1.875 5.0,6.25 l3.125,0.0 0.0,-1.875 l0.0,5.0 -1.875,1.25 l-16.25,-3.125 4.375,-3.75 l-1.25,-5.0 1.875,5.0 l5.0,0.0 1.875,5.0 l-5.625,-6.25 0.625,-1.875 l-6.25,4.375 0.0,-1.875 m35.0,16.25 l-0.625,14.375 -6.25,1.875 l1.25,4.375 1.875,0.0 m8.125,-3.75 l0.0,3.75 2.5,0.0 \" fill=\"none\" stroke=\"black\" stroke-width=\"1\"/></svg>"
      ],
      "text/plain": [
       "<IPython.core.display.SVG object>"
      ]
     },
     "metadata": {},
     "output_type": "display_data"
    },
    {
     "name": "stdout",
     "output_type": "stream",
     "text": [
      "eye 2.0252647\n"
     ]
    },
    {
     "data": {
      "image/svg+xml": [
       "<svg baseProfile=\"full\" height=\"111.875\" version=\"1.1\" width=\"111.875\" xmlns=\"http://www.w3.org/2000/svg\" xmlns:ev=\"http://www.w3.org/2001/xml-events\" xmlns:xlink=\"http://www.w3.org/1999/xlink\"><defs/><rect fill=\"white\" height=\"111.875\" width=\"111.875\" x=\"0\" y=\"0\"/><path d=\"M25,28.75 m0.0,0.0 l10.625,-3.75 13.125,0.0 l16.875,5.625 m-36.25,16.875 l-0.625,2.5 3.75,0.625 l3.125,6.875 5.0,-1.25 l0.0,-3.125 -3.125,0.0 l0.0,-3.125 3.125,0.625 l0.0,1.875 1.25,-2.5 l10.625,3.75 -11.25,2.5 l-4.375,-6.875 0.0,-3.125 l-0.625,3.75 -3.125,0.0 l-0.625,-3.125 1.25,10.0 l-8.75,-1.25 3.125,-5.0 l-1.875,-0.625 -0.625,-4.375 l-0.625,6.875 m33.125,13.75 l-0.625,14.375 -6.25,1.875 l1.25,4.375 1.875,0.0 m8.125,-3.75 l0.0,3.75 2.5,0.0 m8.125,0.0 l3.125,0.0 -2.5,-0.625 l-1.25,-3.125 m11.875,-41.875 l2.5,5.0 -5.0,2.5 l5.0,1.875 -5.625,-1.25 l0.0,-5.0 m3.75,40.0 l0.625,2.5 m0.625,-56.875 l0.625,0.0 \" fill=\"none\" stroke=\"black\" stroke-width=\"1\"/></svg>"
      ],
      "text/plain": [
       "<IPython.core.display.SVG object>"
      ]
     },
     "metadata": {},
     "output_type": "display_data"
    },
    {
     "name": "stdout",
     "output_type": "stream",
     "text": [
      "mouth 1.78136\n"
     ]
    },
    {
     "data": {
      "image/svg+xml": [
       "<svg baseProfile=\"full\" height=\"111.875\" version=\"1.1\" width=\"111.875\" xmlns=\"http://www.w3.org/2000/svg\" xmlns:ev=\"http://www.w3.org/2001/xml-events\" xmlns:xlink=\"http://www.w3.org/1999/xlink\"><defs/><rect fill=\"white\" height=\"111.875\" width=\"111.875\" x=\"0\" y=\"0\"/><path d=\"M25,25.625 m0.0,0.0 l8.125,-0.625 16.875,5.625 m-25.0,18.75 l0.0,7.5 11.875,-3.125 l-11.25,-3.75 m16.875,16.25 l-0.625,14.375 -6.25,1.875 l1.25,4.375 1.875,0.0 m8.125,-3.75 l0.0,3.75 2.5,0.0 m8.125,0.0 l3.125,0.0 -2.5,-0.625 l-1.25,-3.125 m24.375,-38.75 l-5.0,0.625 0.0,-3.75 l3.75,1.875 0.0,-1.875 l1.875,3.75 5.0,0.0 l-3.125,1.25 0.625,4.375 l2.5,0.625 -4.375,1.25 l-4.375,-0.625 -2.5,-6.25 l-3.75,-1.25 0.625,-1.875 l-2.5,3.125 -1.25,-4.375 l0.625,5.0 -3.125,2.5 l10.625,3.125 -11.25,-2.5 l0.0,-5.0 m3.75,40.0 l0.625,2.5 m0.625,-56.875 l8.125,-5.0 3.75,0.0 \" fill=\"none\" stroke=\"black\" stroke-width=\"1\"/></svg>"
      ],
      "text/plain": [
       "<IPython.core.display.SVG object>"
      ]
     },
     "metadata": {},
     "output_type": "display_data"
    },
    {
     "name": "stdout",
     "output_type": "stream",
     "text": [
      "nose 2.5665236\n"
     ]
    },
    {
     "data": {
      "image/svg+xml": [
       "<svg baseProfile=\"full\" height=\"111.875\" version=\"1.1\" width=\"111.875\" xmlns=\"http://www.w3.org/2000/svg\" xmlns:ev=\"http://www.w3.org/2001/xml-events\" xmlns:xlink=\"http://www.w3.org/1999/xlink\"><defs/><rect fill=\"white\" height=\"111.875\" width=\"111.875\" x=\"0\" y=\"0\"/><path d=\"M25,26.875 m0.0,0.0 l8.75,3.125 m-8.75,51.875 l2.5,-5.625 -0.625,-10.0 m4.375,16.875 l0.0,3.75 2.5,0.0 m8.125,0.0 l3.125,0.0 -2.5,-0.625 l-1.25,-3.125 m40.0,-34.375 l-11.875,2.5 -2.5,-6.25 l-6.25,0.0 0.0,-3.75 l3.75,1.875 0.0,-1.875 l3.75,3.75 6.875,0.625 l5.625,3.125 -16.875,3.75 l-2.5,-1.875 -1.25,-5.0 l-3.75,-1.25 0.625,-1.875 l-2.5,3.125 -1.25,-4.375 l0.625,5.0 -3.125,2.5 l7.5,3.125 2.5,-0.625 l-10.625,-1.875 0.0,-5.0 m3.75,40.0 l0.625,2.5 m0.625,-56.875 l8.125,-5.0 3.75,0.0 m17.5,0.0 l2.5,5.0 \" fill=\"none\" stroke=\"black\" stroke-width=\"1\"/></svg>"
      ],
      "text/plain": [
       "<IPython.core.display.SVG object>"
      ]
     },
     "metadata": {},
     "output_type": "display_data"
    },
    {
     "name": "stdout",
     "output_type": "stream",
     "text": [
      "mouth 1.3997315\n"
     ]
    },
    {
     "data": {
      "image/svg+xml": [
       "<svg baseProfile=\"full\" height=\"111.875\" version=\"1.1\" width=\"99.375\" xmlns=\"http://www.w3.org/2000/svg\" xmlns:ev=\"http://www.w3.org/2001/xml-events\" xmlns:xlink=\"http://www.w3.org/1999/xlink\"><defs/><rect fill=\"white\" height=\"111.875\" width=\"99.375\" x=\"0\" y=\"0\"/><path d=\"M26.25,86.875 m0.0,0.0 l3.125,0.0 -4.375,-3.75 m40.625,-34.375 l-11.875,2.5 -2.5,-6.25 l-6.25,0.0 0.0,-3.75 l3.75,1.875 0.0,-1.875 l3.75,3.75 6.875,0.625 l5.625,3.125 -16.875,3.75 l-2.5,-1.875 -1.25,-5.0 l-3.75,-1.25 0.625,-1.875 l-2.5,3.125 -1.25,-4.375 l0.625,5.0 -3.125,2.5 l7.5,3.125 2.5,-0.625 l-10.625,-1.875 0.0,-5.0 m3.75,40.0 l0.625,2.5 m0.625,-56.875 l8.125,-5.0 3.75,0.0 m17.5,0.0 l3.125,5.625 m1.875,15.625 l0.625,40.625 \" fill=\"none\" stroke=\"black\" stroke-width=\"1\"/></svg>"
      ],
      "text/plain": [
       "<IPython.core.display.SVG object>"
      ]
     },
     "metadata": {},
     "output_type": "display_data"
    },
    {
     "name": "stdout",
     "output_type": "stream",
     "text": [
      "nose 2.9482589\n"
     ]
    },
    {
     "data": {
      "image/svg+xml": [
       "<svg baseProfile=\"full\" height=\"111.25\" version=\"1.1\" width=\"96.875\" xmlns=\"http://www.w3.org/2000/svg\" xmlns:ev=\"http://www.w3.org/2001/xml-events\" xmlns:xlink=\"http://www.w3.org/1999/xlink\"><defs/><rect fill=\"white\" height=\"111.25\" width=\"96.875\" x=\"0\" y=\"0\"/><path d=\"M25,43.125 m0.0,0.0 l5.625,20.625 10.0,22.5 m3.75,-61.25 l0.0,1.25 m27.5,13.75 l-4.375,1.25 -13.125,-3.125 l4.375,-3.75 -1.25,-5.0 l1.875,5.0 5.0,0.0 l1.875,5.0 -5.625,-6.25 l0.625,-1.875 -6.25,4.375 l0.0,-1.875 \" fill=\"none\" stroke=\"black\" stroke-width=\"1\"/></svg>"
      ],
      "text/plain": [
       "<IPython.core.display.SVG object>"
      ]
     },
     "metadata": {},
     "output_type": "display_data"
    },
    {
     "name": "stdout",
     "output_type": "stream",
     "text": [
      "nose 1.0960408\n"
     ]
    },
    {
     "data": {
      "image/svg+xml": [
       "<svg baseProfile=\"full\" height=\"111.25\" version=\"1.1\" width=\"111.875\" xmlns=\"http://www.w3.org/2000/svg\" xmlns:ev=\"http://www.w3.org/2001/xml-events\" xmlns:xlink=\"http://www.w3.org/1999/xlink\"><defs/><rect fill=\"white\" height=\"111.25\" width=\"111.875\" x=\"0\" y=\"0\"/><path d=\"M25,43.125 m0.0,0.0 l5.0,20.625 10.0,22.5 m3.75,-61.25 l0.0,1.25 m28.75,13.75 l11.25,-2.5 -5.625,-3.125 l-9.375,-0.625 -0.625,-3.75 l-0.625,3.75 -3.75,-1.25 l0.0,-1.875 5.0,6.25 l3.125,0.0 0.0,-1.875 l0.0,5.0 -1.875,1.25 l-16.25,-3.125 4.375,-3.75 l-1.25,-5.0 1.875,5.0 l5.0,0.0 1.875,5.0 l-5.625,-6.25 0.625,-1.875 l-6.25,4.375 0.0,-1.875 m32.5,31.25 l-4.375,1.25 0.625,3.125 l3.75,3.125 \" fill=\"none\" stroke=\"black\" stroke-width=\"1\"/></svg>"
      ],
      "text/plain": [
       "<IPython.core.display.SVG object>"
      ]
     },
     "metadata": {},
     "output_type": "display_data"
    },
    {
     "name": "stdout",
     "output_type": "stream",
     "text": [
      "mouth 1.4255946\n"
     ]
    },
    {
     "data": {
      "image/svg+xml": [
       "<svg baseProfile=\"full\" height=\"106.875\" version=\"1.1\" width=\"108.75\" xmlns=\"http://www.w3.org/2000/svg\" xmlns:ev=\"http://www.w3.org/2001/xml-events\" xmlns:xlink=\"http://www.w3.org/1999/xlink\"><defs/><rect fill=\"white\" height=\"106.875\" width=\"108.75\" x=\"0\" y=\"0\"/><path d=\"M25,25 m0.0,0.0 l0.0,1.25 m28.75,13.75 l11.25,-2.5 -5.625,-3.125 l-9.375,-0.625 -0.625,-3.75 l-0.625,3.75 -3.75,-1.25 l0.0,-1.875 5.0,6.25 l3.125,0.0 0.0,-1.875 l0.0,5.0 -1.875,1.25 l-16.25,-3.125 4.375,-3.75 l-1.25,-5.0 1.875,5.0 l5.0,0.0 1.875,5.0 l-5.625,-6.25 0.625,-1.875 l-6.25,4.375 0.0,-1.875 m39.375,33.125 l8.75,15.0 -8.125,-10.625 l-1.25,1.875 -4.375,0.0 l-6.25,-5.0 0.625,-2.5 l5.625,-1.25 0.625,-13.75 \" fill=\"none\" stroke=\"black\" stroke-width=\"1\"/></svg>"
      ],
      "text/plain": [
       "<IPython.core.display.SVG object>"
      ]
     },
     "metadata": {},
     "output_type": "display_data"
    },
    {
     "name": "stdout",
     "output_type": "stream",
     "text": [
      "mouth 3.0337179\n"
     ]
    },
    {
     "data": {
      "image/svg+xml": [
       "<svg baseProfile=\"full\" height=\"106.875\" version=\"1.1\" width=\"111.875\" xmlns=\"http://www.w3.org/2000/svg\" xmlns:ev=\"http://www.w3.org/2001/xml-events\" xmlns:xlink=\"http://www.w3.org/1999/xlink\"><defs/><rect fill=\"white\" height=\"106.875\" width=\"111.875\" x=\"0\" y=\"0\"/><path d=\"M29.375,31.875 m0.0,0.0 l-0.625,2.5 3.75,0.625 l3.125,6.875 5.0,-1.25 l0.0,-3.125 -3.125,0.0 l0.0,-3.125 3.125,0.625 l0.0,1.875 1.25,-2.5 l10.625,3.75 -11.25,2.5 l-4.375,-6.875 0.0,-3.125 l-0.625,3.75 -3.125,0.0 l-0.625,-3.125 1.25,10.0 l-8.75,-1.25 3.125,-5.0 l-1.875,-0.625 -0.625,-4.375 l-0.625,6.875 m33.125,13.75 l-0.625,14.375 -6.25,1.875 l2.5,5.0 8.125,1.875 l1.875,-2.5 4.375,7.5 l4.375,3.125 2.5,-4.375 l-0.625,-6.25 8.125,3.125 l2.5,-2.5 0.0,-3.125 l-10.625,1.875 -2.5,-3.125 l-8.125,3.125 -1.25,-3.125 m24.375,-33.125 l-5.625,-0.625 4.375,-3.75 l-0.625,-5.0 1.875,5.625 l-5.0,0.625 -0.625,-2.5 \" fill=\"none\" stroke=\"black\" stroke-width=\"1\"/></svg>"
      ],
      "text/plain": [
       "<IPython.core.display.SVG object>"
      ]
     },
     "metadata": {},
     "output_type": "display_data"
    },
    {
     "name": "stdout",
     "output_type": "stream",
     "text": [
      "mouth 5.080951\n"
     ]
    },
    {
     "data": {
      "image/svg+xml": [
       "<svg baseProfile=\"full\" height=\"106.875\" version=\"1.1\" width=\"111.875\" xmlns=\"http://www.w3.org/2000/svg\" xmlns:ev=\"http://www.w3.org/2001/xml-events\" xmlns:xlink=\"http://www.w3.org/1999/xlink\"><defs/><rect fill=\"white\" height=\"106.875\" width=\"111.875\" x=\"0\" y=\"0\"/><path d=\"M25,33.75 m0.0,0.0 l0.0,7.5 11.875,-3.125 l-11.25,-3.75 m16.875,16.25 l-0.625,14.375 -6.25,1.875 l2.5,5.0 8.125,1.875 l1.875,-2.5 4.375,7.5 l4.375,3.125 2.5,-4.375 l-0.625,-6.25 8.125,3.125 l2.5,-2.5 0.0,-3.125 l-10.625,1.875 -2.5,-3.125 l-8.125,3.125 -1.25,-3.125 m18.75,-33.75 l16.875,3.125 1.875,-1.875 l-1.25,-5.0 3.75,-0.625 l-5.0,0.0 -1.875,-1.875 l0.625,-2.5 -0.625,3.75 l-3.75,0.625 0.0,-3.75 l8.75,10.0 1.875,0.0 l-10.0,-0.625 -1.25,-5.0 l-3.75,-1.25 0.625,-1.875 l-0.625,2.5 -5.625,3.75 l-1.25,-5.0 5.0,1.25 l-1.25,-4.375 \" fill=\"none\" stroke=\"black\" stroke-width=\"1\"/></svg>"
      ],
      "text/plain": [
       "<IPython.core.display.SVG object>"
      ]
     },
     "metadata": {},
     "output_type": "display_data"
    },
    {
     "name": "stdout",
     "output_type": "stream",
     "text": [
      "mouth 1.8983339\n"
     ]
    },
    {
     "data": {
      "image/svg+xml": [
       "<svg baseProfile=\"full\" height=\"106.875\" version=\"1.1\" width=\"106.25\" xmlns=\"http://www.w3.org/2000/svg\" xmlns:ev=\"http://www.w3.org/2001/xml-events\" xmlns:xlink=\"http://www.w3.org/1999/xlink\"><defs/><rect fill=\"white\" height=\"106.875\" width=\"106.25\" x=\"0\" y=\"0\"/><path d=\"M25,66.25 m0.0,0.0 l2.5,-5.625 -0.625,-10.0 m-1.875,21.875 l5.625,1.25 1.875,-2.5 l-1.25,-3.75 5.625,11.25 l4.375,3.125 2.5,-4.375 l-0.625,-6.875 -2.5,-3.125 l7.5,6.875 4.375,-0.625 l1.25,-4.375 m6.25,-33.125 l-10.0,-2.5 4.375,-3.75 l-1.25,-5.0 1.875,5.0 l5.0,0.0 1.25,6.25 l5.625,0.625 1.875,-1.875 l0.0,-6.25 12.5,4.375 l-11.875,2.5 -5.0,-8.125 l0.625,-2.5 -1.25,4.375 l-3.125,0.0 0.0,-3.75 l-10.0,5.625 -0.625,-2.5 \" fill=\"none\" stroke=\"black\" stroke-width=\"1\"/></svg>"
      ],
      "text/plain": [
       "<IPython.core.display.SVG object>"
      ]
     },
     "metadata": {},
     "output_type": "display_data"
    },
    {
     "name": "stdout",
     "output_type": "stream",
     "text": [
      "mouth 0.6576636\n"
     ]
    },
    {
     "data": {
      "image/svg+xml": [
       "<svg baseProfile=\"full\" height=\"111.875\" version=\"1.1\" width=\"99.375\" xmlns=\"http://www.w3.org/2000/svg\" xmlns:ev=\"http://www.w3.org/2001/xml-events\" xmlns:xlink=\"http://www.w3.org/1999/xlink\"><defs/><rect fill=\"white\" height=\"111.875\" width=\"99.375\" x=\"0\" y=\"0\"/><path d=\"M38.125,68.75 m0.0,0.0 l-0.625,4.375 -5.0,1.25 l-7.5,-7.5 3.125,10.625 l-3.125,5.0 m19.375,-46.25 l-10.0,-2.5 4.375,-3.75 l-1.25,-5.0 1.875,5.0 l5.0,0.0 1.25,6.25 l5.625,0.625 1.875,-1.875 l0.0,-6.25 12.5,4.375 l-11.875,2.5 -5.0,-8.125 l0.625,-2.5 -1.25,4.375 l-3.125,0.0 0.0,-3.75 l-10.0,5.625 -0.625,-2.5 m39.375,1.875 l0.625,56.25 \" fill=\"none\" stroke=\"black\" stroke-width=\"1\"/></svg>"
      ],
      "text/plain": [
       "<IPython.core.display.SVG object>"
      ]
     },
     "metadata": {},
     "output_type": "display_data"
    },
    {
     "name": "stdout",
     "output_type": "stream",
     "text": [
      "nose 5.9506307\n"
     ]
    },
    {
     "data": {
      "image/svg+xml": [
       "<svg baseProfile=\"full\" height=\"111.875\" version=\"1.1\" width=\"96.875\" xmlns=\"http://www.w3.org/2000/svg\" xmlns:ev=\"http://www.w3.org/2001/xml-events\" xmlns:xlink=\"http://www.w3.org/1999/xlink\"><defs/><rect fill=\"white\" height=\"111.875\" width=\"96.875\" x=\"0\" y=\"0\"/><path d=\"M25,28.125 m0.0,0.0 l9.375,30.625 9.375,20.625 l5.625,7.5 m10.625,-61.875 l11.875,0.625 \" fill=\"none\" stroke=\"black\" stroke-width=\"1\"/></svg>"
      ],
      "text/plain": [
       "<IPython.core.display.SVG object>"
      ]
     },
     "metadata": {},
     "output_type": "display_data"
    },
    {
     "name": "stdout",
     "output_type": "stream",
     "text": [
      "nose 8.599904\n"
     ]
    },
    {
     "data": {
      "image/svg+xml": [
       "<svg baseProfile=\"full\" height=\"111.875\" version=\"1.1\" width=\"111.875\" xmlns=\"http://www.w3.org/2000/svg\" xmlns:ev=\"http://www.w3.org/2001/xml-events\" xmlns:xlink=\"http://www.w3.org/1999/xlink\"><defs/><rect fill=\"white\" height=\"111.875\" width=\"111.875\" x=\"0\" y=\"0\"/><path d=\"M25,28.125 m0.0,0.0 l8.75,30.625 9.375,20.625 l5.625,7.5 m10.625,-61.875 l16.25,0.0 m11.25,25.0 l-4.375,1.25 0.625,3.125 l3.75,3.125 m0.0,23.125 l0.0,6.25 \" fill=\"none\" stroke=\"black\" stroke-width=\"1\"/></svg>"
      ],
      "text/plain": [
       "<IPython.core.display.SVG object>"
      ]
     },
     "metadata": {},
     "output_type": "display_data"
    },
    {
     "name": "stdout",
     "output_type": "stream",
     "text": [
      "nose 6.314789\n"
     ]
    },
    {
     "data": {
      "image/svg+xml": [
       "<svg baseProfile=\"full\" height=\"111.875\" version=\"1.1\" width=\"111.875\" xmlns=\"http://www.w3.org/2000/svg\" xmlns:ev=\"http://www.w3.org/2001/xml-events\" xmlns:xlink=\"http://www.w3.org/1999/xlink\"><defs/><rect fill=\"white\" height=\"111.875\" width=\"111.875\" x=\"0\" y=\"0\"/><path d=\"M25,71.875 m0.0,0.0 l2.5,7.5 6.25,7.5 m10.0,-61.875 l16.25,0.0 m18.125,26.875 l8.75,15.0 -8.125,-10.625 l-1.25,1.875 -4.375,0.0 l-6.25,-5.0 0.625,-2.5 l5.625,-1.25 0.625,-13.75 m-3.125,45.0 l0.0,6.25 16.25,-1.25 \" fill=\"none\" stroke=\"black\" stroke-width=\"1\"/></svg>"
      ],
      "text/plain": [
       "<IPython.core.display.SVG object>"
      ]
     },
     "metadata": {},
     "output_type": "display_data"
    },
    {
     "name": "stdout",
     "output_type": "stream",
     "text": [
      "nose 1.8680843\n"
     ]
    },
    {
     "data": {
      "image/svg+xml": [
       "<svg baseProfile=\"full\" height=\"111.875\" version=\"1.1\" width=\"108.75\" xmlns=\"http://www.w3.org/2000/svg\" xmlns:ev=\"http://www.w3.org/2001/xml-events\" xmlns:xlink=\"http://www.w3.org/1999/xlink\"><defs/><rect fill=\"white\" height=\"111.875\" width=\"108.75\" x=\"0\" y=\"0\"/><path d=\"M25,25 m0.0,0.0 l16.25,0.0 m13.75,10.0 l-0.625,14.375 -6.25,1.875 l2.5,5.0 8.125,1.875 l1.875,-2.5 4.375,7.5 l4.375,3.125 2.5,-4.375 l-0.625,-6.25 8.125,3.125 l2.5,-2.5 0.0,-3.125 l-10.625,1.875 -2.5,-3.125 l-8.125,3.125 -1.25,-3.125 m-7.5,28.75 l0.0,6.25 15.625,0.0 l16.25,-3.125 -1.25,3.125 l-6.25,0.0 \" fill=\"none\" stroke=\"black\" stroke-width=\"1\"/></svg>"
      ],
      "text/plain": [
       "<IPython.core.display.SVG object>"
      ]
     },
     "metadata": {},
     "output_type": "display_data"
    },
    {
     "name": "stdout",
     "output_type": "stream",
     "text": [
      "nose 3.5588708\n"
     ]
    },
    {
     "data": {
      "image/svg+xml": [
       "<svg baseProfile=\"full\" height=\"111.875\" version=\"1.1\" width=\"111.875\" xmlns=\"http://www.w3.org/2000/svg\" xmlns:ev=\"http://www.w3.org/2001/xml-events\" xmlns:xlink=\"http://www.w3.org/1999/xlink\"><defs/><rect fill=\"white\" height=\"111.875\" width=\"111.875\" x=\"0\" y=\"0\"/><path d=\"M25,25.625 m0.0,0.0 l3.75,-0.625 m13.75,10.0 l-0.625,14.375 -6.25,1.875 l2.5,5.0 8.125,1.875 l1.875,-2.5 4.375,7.5 l4.375,3.125 2.5,-4.375 l-0.625,-6.25 8.125,3.125 l2.5,-2.5 0.0,-3.125 l-10.625,1.875 -2.5,-3.125 l-8.125,3.125 -1.25,-3.125 m-7.5,28.75 l0.0,6.25 15.625,0.0 l31.875,-5.0 -5.625,2.5 l0.625,2.5 -6.875,-1.875 l0.625,1.875 -11.875,0.0 \" fill=\"none\" stroke=\"black\" stroke-width=\"1\"/></svg>"
      ],
      "text/plain": [
       "<IPython.core.display.SVG object>"
      ]
     },
     "metadata": {},
     "output_type": "display_data"
    },
    {
     "name": "stdout",
     "output_type": "stream",
     "text": [
      "nose 2.2103367\n"
     ]
    },
    {
     "data": {
      "image/svg+xml": [
       "<svg baseProfile=\"full\" height=\"101.875\" version=\"1.1\" width=\"111.875\" xmlns=\"http://www.w3.org/2000/svg\" xmlns:ev=\"http://www.w3.org/2001/xml-events\" xmlns:xlink=\"http://www.w3.org/1999/xlink\"><defs/><rect fill=\"white\" height=\"101.875\" width=\"111.875\" x=\"0\" y=\"0\"/><path d=\"M25,40.625 m0.0,0.0 l2.5,-5.625 -0.625,-10.0 m-1.875,21.875 l5.625,1.25 1.875,-2.5 l-1.25,-3.75 5.625,11.25 l4.375,3.125 2.5,-4.375 l-0.625,-6.875 -2.5,-3.125 l7.5,6.875 4.375,-0.625 l1.25,-4.375 m-28.125,26.875 l49.375,-5.0 0.625,6.25 l-31.875,3.125 -4.375,1.875 l-14.375,0.0 29.375,0.0 l5.0,-1.875 0.625,1.875 l5.625,-2.5 0.625,2.5 l9.375,-4.375 0.625,4.375 m10.625,-4.375 l0.0,4.375 \" fill=\"none\" stroke=\"black\" stroke-width=\"1\"/></svg>"
      ],
      "text/plain": [
       "<IPython.core.display.SVG object>"
      ]
     },
     "metadata": {},
     "output_type": "display_data"
    },
    {
     "name": "stdout",
     "output_type": "stream",
     "text": [
      "nose 6.245266\n"
     ]
    },
    {
     "data": {
      "image/svg+xml": [
       "<svg baseProfile=\"full\" height=\"111.875\" version=\"1.1\" width=\"99.375\" xmlns=\"http://www.w3.org/2000/svg\" xmlns:ev=\"http://www.w3.org/2001/xml-events\" xmlns:xlink=\"http://www.w3.org/1999/xlink\"><defs/><rect fill=\"white\" height=\"111.875\" width=\"99.375\" x=\"0\" y=\"0\"/><path d=\"M38.125,53.125 m0.0,0.0 l-0.625,4.375 -5.0,1.25 l-7.5,-7.5 3.125,10.625 l-3.125,5.0 m0.0,11.875 l34.375,-3.125 1.25,11.25 l-1.25,-5.0 -14.375,1.25 l-0.625,3.75 -1.25,-3.125 l-4.375,0.625 0.0,2.5 l-1.25,-2.5 -12.5,0.625 l7.5,1.875 17.5,-2.5 l0.0,2.5 m24.375,-61.875 l-0.625,49.375 -1.875,12.5 \" fill=\"none\" stroke=\"black\" stroke-width=\"1\"/></svg>"
      ],
      "text/plain": [
       "<IPython.core.display.SVG object>"
      ]
     },
     "metadata": {},
     "output_type": "display_data"
    },
    {
     "name": "stdout",
     "output_type": "stream",
     "text": [
      "nose 8.395222\n"
     ]
    },
    {
     "data": {
      "image/svg+xml": [
       "<svg baseProfile=\"full\" height=\"111.875\" version=\"1.1\" width=\"84.375\" xmlns=\"http://www.w3.org/2000/svg\" xmlns:ev=\"http://www.w3.org/2001/xml-events\" xmlns:xlink=\"http://www.w3.org/1999/xlink\"><defs/><rect fill=\"white\" height=\"111.875\" width=\"84.375\" x=\"0\" y=\"0\"/><path d=\"M25,25 m0.0,0.0 l1.25,8.125 13.125,30.625 l9.375,13.75 10.625,9.375 \" fill=\"none\" stroke=\"black\" stroke-width=\"1\"/></svg>"
      ],
      "text/plain": [
       "<IPython.core.display.SVG object>"
      ]
     },
     "metadata": {},
     "output_type": "display_data"
    },
    {
     "name": "stdout",
     "output_type": "stream",
     "text": [
      "nose 10.124288\n"
     ]
    },
    {
     "data": {
      "image/svg+xml": [
       "<svg baseProfile=\"full\" height=\"111.875\" version=\"1.1\" width=\"108.125\" xmlns=\"http://www.w3.org/2000/svg\" xmlns:ev=\"http://www.w3.org/2001/xml-events\" xmlns:xlink=\"http://www.w3.org/1999/xlink\"><defs/><rect fill=\"white\" height=\"111.875\" width=\"108.125\" x=\"0\" y=\"0\"/><path d=\"M25,25 m0.0,0.0 l1.25,8.125 13.125,30.625 l9.375,13.75 10.625,9.375 m23.75,-52.5 l-4.375,1.25 0.625,3.125 l3.75,3.125 m0.0,23.125 l0.0,8.125 \" fill=\"none\" stroke=\"black\" stroke-width=\"1\"/></svg>"
      ],
      "text/plain": [
       "<IPython.core.display.SVG object>"
      ]
     },
     "metadata": {},
     "output_type": "display_data"
    },
    {
     "name": "stdout",
     "output_type": "stream",
     "text": [
      "nose 2.8223004\n"
     ]
    },
    {
     "data": {
      "image/svg+xml": [
       "<svg baseProfile=\"full\" height=\"111.875\" version=\"1.1\" width=\"111.875\" xmlns=\"http://www.w3.org/2000/svg\" xmlns:ev=\"http://www.w3.org/2001/xml-events\" xmlns:xlink=\"http://www.w3.org/1999/xlink\"><defs/><rect fill=\"white\" height=\"111.875\" width=\"111.875\" x=\"0\" y=\"0\"/><path d=\"M25,56.25 m0.0,0.0 l2.5,7.5 9.375,13.75 l10.625,9.375 m26.25,-61.875 l-0.625,8.75 -5.625,1.25 l-0.625,2.5 6.25,5.0 l4.375,0.0 1.875,-2.5 l-1.25,-3.75 8.75,15.0 m-0.625,33.75 l-7.5,-2.5 -4.375,-4.375 l-3.125,-5.625 -0.625,-7.5 l1.25,5.625 14.375,0.0 l-1.25,3.125 -10.625,1.25 l3.75,-2.5 8.75,1.25 l0.0,-3.125 \" fill=\"none\" stroke=\"black\" stroke-width=\"1\"/></svg>"
      ],
      "text/plain": [
       "<IPython.core.display.SVG object>"
      ]
     },
     "metadata": {},
     "output_type": "display_data"
    },
    {
     "name": "stdout",
     "output_type": "stream",
     "text": [
      "mouth 4.1951895\n"
     ]
    },
    {
     "data": {
      "image/svg+xml": [
       "<svg baseProfile=\"full\" height=\"111.875\" version=\"1.1\" width=\"111.875\" xmlns=\"http://www.w3.org/2000/svg\" xmlns:ev=\"http://www.w3.org/2001/xml-events\" xmlns:xlink=\"http://www.w3.org/1999/xlink\"><defs/><rect fill=\"white\" height=\"111.875\" width=\"111.875\" x=\"0\" y=\"0\"/><path d=\"M25,80.625 m0.0,0.0 l6.875,6.25 m26.25,-61.875 l-0.625,8.75 -6.25,1.875 l2.5,5.0 8.125,1.875 l1.875,-2.5 -1.25,-3.75 l5.625,11.25 4.375,3.125 l2.5,-4.375 -0.625,-6.25 l5.0,3.125 3.125,0.0 l2.5,-2.5 0.0,-3.125 l-10.625,1.875 -1.875,-3.125 m14.375,48.75 l-9.375,1.25 -14.375,-3.75 l-4.375,-4.375 -3.75,-8.125 l0.0,-5.0 1.25,5.625 l14.375,0.0 -1.25,3.125 l-10.625,1.25 3.75,-2.5 l21.875,1.25 2.5,-5.625 l-6.875,0.625 -1.25,3.125 l-0.625,-2.5 -6.875,0.625 l15.625,5.0 \" fill=\"none\" stroke=\"black\" stroke-width=\"1\"/></svg>"
      ],
      "text/plain": [
       "<IPython.core.display.SVG object>"
      ]
     },
     "metadata": {},
     "output_type": "display_data"
    },
    {
     "name": "stdout",
     "output_type": "stream",
     "text": [
      "mouth 6.9126506\n"
     ]
    },
    {
     "data": {
      "image/svg+xml": [
       "<svg baseProfile=\"full\" height=\"111.25\" version=\"1.1\" width=\"101.25\" xmlns=\"http://www.w3.org/2000/svg\" xmlns:ev=\"http://www.w3.org/2001/xml-events\" xmlns:xlink=\"http://www.w3.org/1999/xlink\"><defs/><rect fill=\"white\" height=\"111.25\" width=\"101.25\" x=\"0\" y=\"0\"/><path d=\"M31.875,25 m0.0,0.0 l-0.625,8.75 -6.25,1.875 l2.5,5.0 8.125,1.875 l1.875,-2.5 -1.25,-3.75 l5.625,11.25 4.375,3.125 l2.5,-4.375 -0.625,-6.25 l5.0,3.125 3.125,0.0 l2.5,-2.5 0.0,-3.125 l-10.625,1.875 -1.875,-3.125 m30.0,42.5 l0.0,1.875 -6.25,3.125 l-13.125,2.5 -13.125,-1.25 l-6.875,-2.5 -4.375,-4.375 l-3.125,-5.625 -0.625,-7.5 l1.25,5.625 14.375,0.0 l-1.25,3.125 -10.625,1.25 l3.75,-2.5 21.875,1.25 l0.625,-4.375 2.5,-1.25 l2.5,0.0 0.625,5.0 l3.125,0.625 3.125,-1.25 l0.625,-5.0 5.0,-1.25 l-11.25,1.875 6.25,5.625 l5.0,0.0 -17.5,0.625 l-0.625,-5.625 -4.375,0.0 l-1.25,3.125 -0.625,-2.5 l-6.875,0.625 \" fill=\"none\" stroke=\"black\" stroke-width=\"1\"/></svg>"
      ],
      "text/plain": [
       "<IPython.core.display.SVG object>"
      ]
     },
     "metadata": {},
     "output_type": "display_data"
    },
    {
     "name": "stdout",
     "output_type": "stream",
     "text": [
      "mouth 7.630382\n"
     ]
    },
    {
     "data": {
      "image/svg+xml": [
       "<svg baseProfile=\"full\" height=\"111.875\" version=\"1.1\" width=\"111.875\" xmlns=\"http://www.w3.org/2000/svg\" xmlns:ev=\"http://www.w3.org/2001/xml-events\" xmlns:xlink=\"http://www.w3.org/1999/xlink\"><defs/><rect fill=\"white\" height=\"111.875\" width=\"111.875\" x=\"0\" y=\"0\"/><path d=\"M25,35.0 m0.0,0.0 l2.5,-5.625 -0.625,-4.375 m-1.875,16.25 l5.625,1.25 1.875,-2.5 l-1.25,-3.75 5.625,11.25 l4.375,3.125 2.5,-4.375 l-0.625,-6.875 -2.5,-3.125 l7.5,6.875 4.375,-0.625 l1.25,-4.375 m5.0,30.0 l-4.375,0.625 -1.25,5.0 l-13.125,0.0 -1.25,-3.75 l-7.5,1.875 -6.25,-1.875 l0.0,5.0 6.875,7.5 l10.0,3.125 10.0,0.625 l15.625,-3.125 6.875,-8.125 l1.25,-8.75 -9.375,1.25 l-1.875,5.625 -10.625,1.25 l5.625,-1.875 1.25,-5.0 l4.375,0.0 1.25,6.25 l5.0,0.0 4.375,-8.125 l-0.625,-5.625 -49.375,5.0 l1.875,10.0 3.75,-2.5 l6.875,1.25 1.875,-3.75 l3.75,-0.625 9.375,-0.625 l-5.625,1.875 0.0,1.875 m35.0,14.375 l4.375,-13.125 0.0,-6.25 \" fill=\"none\" stroke=\"black\" stroke-width=\"1\"/></svg>"
      ],
      "text/plain": [
       "<IPython.core.display.SVG object>"
      ]
     },
     "metadata": {},
     "output_type": "display_data"
    },
    {
     "name": "stdout",
     "output_type": "stream",
     "text": [
      "mouth 3.863233\n"
     ]
    },
    {
     "data": {
      "image/svg+xml": [
       "<svg baseProfile=\"full\" height=\"111.875\" version=\"1.1\" width=\"100.0\" xmlns=\"http://www.w3.org/2000/svg\" xmlns:ev=\"http://www.w3.org/2001/xml-events\" xmlns:xlink=\"http://www.w3.org/1999/xlink\"><defs/><rect fill=\"white\" height=\"111.875\" width=\"100.0\" x=\"0\" y=\"0\"/><path d=\"M38.125,37.5 m0.0,0.0 l-0.625,4.375 -5.0,1.25 l-7.5,-7.5 3.125,10.625 l-3.125,5.0 m0.0,33.125 l11.25,1.875 15.625,-3.125 l8.125,-11.875 0.0,-5.0 l-3.125,0.0 -6.25,1.25 l-0.625,5.0 -3.125,1.25 l-21.875,0.0 6.875,-1.25 l1.25,-3.75 4.375,0.0 l0.625,4.375 0.625,-4.375 l1.875,-0.625 3.125,0.625 l0.0,3.75 1.25,-5.0 l-20.0,2.5 30.625,3.75 l4.375,-8.125 -0.625,-5.625 l-34.375,4.375 m41.875,22.5 l6.875,-28.125 1.25,-33.75 \" fill=\"none\" stroke=\"black\" stroke-width=\"1\"/></svg>"
      ],
      "text/plain": [
       "<IPython.core.display.SVG object>"
      ]
     },
     "metadata": {},
     "output_type": "display_data"
    },
    {
     "name": "stdout",
     "output_type": "stream",
     "text": [
      "nose 6.777851\n"
     ]
    },
    {
     "data": {
      "image/svg+xml": [
       "<svg baseProfile=\"full\" height=\"103.75\" version=\"1.1\" width=\"88.125\" xmlns=\"http://www.w3.org/2000/svg\" xmlns:ev=\"http://www.w3.org/2001/xml-events\" xmlns:xlink=\"http://www.w3.org/1999/xlink\"><defs/><rect fill=\"white\" height=\"103.75\" width=\"88.125\" x=\"0\" y=\"0\"/><path d=\"M25,25 m0.0,0.0 l10.0,23.125 9.375,13.75 l18.75,16.875 \" fill=\"none\" stroke=\"black\" stroke-width=\"1\"/></svg>"
      ],
      "text/plain": [
       "<IPython.core.display.SVG object>"
      ]
     },
     "metadata": {},
     "output_type": "display_data"
    },
    {
     "name": "stdout",
     "output_type": "stream",
     "text": [
      "nose 11.91914\n"
     ]
    },
    {
     "data": {
      "image/svg+xml": [
       "<svg baseProfile=\"full\" height=\"111.875\" version=\"1.1\" width=\"103.75\" xmlns=\"http://www.w3.org/2000/svg\" xmlns:ev=\"http://www.w3.org/2001/xml-events\" xmlns:xlink=\"http://www.w3.org/1999/xlink\"><defs/><rect fill=\"white\" height=\"111.875\" width=\"103.75\" x=\"0\" y=\"0\"/><path d=\"M25,25 m0.0,0.0 l10.0,23.125 9.375,13.75 l17.5,16.25 16.875,8.75 m-1.875,-61.875 l1.875,1.25 m0.0,23.125 l0.0,8.125 \" fill=\"none\" stroke=\"black\" stroke-width=\"1\"/></svg>"
      ],
      "text/plain": [
       "<IPython.core.display.SVG object>"
      ]
     },
     "metadata": {},
     "output_type": "display_data"
    },
    {
     "name": "stdout",
     "output_type": "stream",
     "text": [
      "nose 3.046565\n"
     ]
    },
    {
     "data": {
      "image/svg+xml": [
       "<svg baseProfile=\"full\" height=\"111.875\" version=\"1.1\" width=\"111.875\" xmlns=\"http://www.w3.org/2000/svg\" xmlns:ev=\"http://www.w3.org/2001/xml-events\" xmlns:xlink=\"http://www.w3.org/1999/xlink\"><defs/><rect fill=\"white\" height=\"111.875\" width=\"111.875\" x=\"0\" y=\"0\"/><path d=\"M25,40.625 m0.0,0.0 l5.0,11.25 15.625,18.75 l8.75,7.5 14.375,8.75 l3.125,0.0 m-2.5,-61.875 l3.75,1.875 7.5,-1.875 l6.25,10.625 m-0.625,33.75 l-7.5,-2.5 -4.375,-4.375 l-3.125,-5.625 -0.625,-7.5 l1.25,5.625 14.375,0.0 l-1.25,3.125 -10.625,1.25 l3.75,-2.5 8.75,1.25 l0.0,-3.125 \" fill=\"none\" stroke=\"black\" stroke-width=\"1\"/></svg>"
      ],
      "text/plain": [
       "<IPython.core.display.SVG object>"
      ]
     },
     "metadata": {},
     "output_type": "display_data"
    },
    {
     "name": "stdout",
     "output_type": "stream",
     "text": [
      "mouth 3.144103\n"
     ]
    },
    {
     "data": {
      "image/svg+xml": [
       "<svg baseProfile=\"full\" height=\"111.875\" version=\"1.1\" width=\"111.875\" xmlns=\"http://www.w3.org/2000/svg\" xmlns:ev=\"http://www.w3.org/2001/xml-events\" xmlns:xlink=\"http://www.w3.org/1999/xlink\"><defs/><rect fill=\"white\" height=\"111.875\" width=\"111.875\" x=\"0\" y=\"0\"/><path d=\"M25,65.0 m0.0,0.0 l13.75,13.125 14.375,8.75 l3.125,0.0 m-2.5,-61.875 l3.75,1.875 7.5,-1.875 l6.25,10.0 3.75,-4.375 l-1.25,-5.625 3.75,0.0 l1.875,2.5 6.25,-2.5 m1.25,44.375 l-9.375,1.25 -14.375,-3.75 l-4.375,-4.375 -3.75,-8.125 l0.0,-5.0 1.25,5.625 l14.375,0.0 -1.25,3.125 l-10.625,1.25 3.75,-2.5 l21.875,1.25 2.5,-5.625 l-6.875,0.625 -1.25,3.125 l-0.625,-2.5 -6.875,0.625 l15.625,5.0 \" fill=\"none\" stroke=\"black\" stroke-width=\"1\"/></svg>"
      ],
      "text/plain": [
       "<IPython.core.display.SVG object>"
      ]
     },
     "metadata": {},
     "output_type": "display_data"
    },
    {
     "name": "stdout",
     "output_type": "stream",
     "text": [
      "mouth 5.6980414\n"
     ]
    },
    {
     "data": {
      "image/svg+xml": [
       "<svg baseProfile=\"full\" height=\"111.875\" version=\"1.1\" width=\"111.875\" xmlns=\"http://www.w3.org/2000/svg\" xmlns:ev=\"http://www.w3.org/2001/xml-events\" xmlns:xlink=\"http://www.w3.org/1999/xlink\"><defs/><rect fill=\"white\" height=\"111.875\" width=\"111.875\" x=\"0\" y=\"0\"/><path d=\"M25,78.125 m0.0,0.0 l12.5,8.75 3.125,0.0 m-2.5,-61.875 l3.75,1.875 7.5,-1.875 l6.25,10.0 3.75,-4.375 l-1.25,-5.625 3.75,0.0 l1.875,2.5 6.25,-2.5 m16.875,38.125 l0.0,1.875 -6.25,3.125 l-13.125,2.5 -13.125,-1.25 l-6.875,-2.5 -4.375,-4.375 l-3.125,-5.625 -0.625,-7.5 l1.25,5.625 14.375,0.0 l-1.25,3.125 -10.625,1.25 l3.75,-2.5 21.875,1.25 l0.625,-4.375 2.5,-1.25 l2.5,0.0 0.625,5.0 l3.125,0.625 3.125,-1.25 l0.625,-5.0 5.0,-1.25 l-11.25,1.875 6.25,5.625 l5.0,0.0 -17.5,0.625 l-0.625,-5.625 -4.375,0.0 l-1.25,3.125 -0.625,-2.5 l-6.875,0.625 m27.5,32.5 l3.75,-1.875 \" fill=\"none\" stroke=\"black\" stroke-width=\"1\"/></svg>"
      ],
      "text/plain": [
       "<IPython.core.display.SVG object>"
      ]
     },
     "metadata": {},
     "output_type": "display_data"
    },
    {
     "name": "stdout",
     "output_type": "stream",
     "text": [
      "mouth 9.704199\n"
     ]
    },
    {
     "data": {
      "image/svg+xml": [
       "<svg baseProfile=\"full\" height=\"111.875\" version=\"1.1\" width=\"111.875\" xmlns=\"http://www.w3.org/2000/svg\" xmlns:ev=\"http://www.w3.org/2001/xml-events\" xmlns:xlink=\"http://www.w3.org/1999/xlink\"><defs/><rect fill=\"white\" height=\"111.875\" width=\"111.875\" x=\"0\" y=\"0\"/><path d=\"M25,25.625 m0.0,0.0 l5.625,1.25 0.625,-1.875 l2.5,0.0 3.125,6.875 l4.375,3.125 2.5,-4.375 l-0.625,-5.625 3.125,0.0 l1.875,2.5 6.25,-2.5 l-11.875,0.0 m16.25,27.5 l-4.375,0.625 -1.25,5.0 l-13.125,0.0 -1.25,-3.75 l-7.5,1.875 -6.25,-1.875 l0.0,5.0 6.875,7.5 l10.0,3.125 10.0,0.625 l15.625,-3.125 6.875,-8.125 l1.25,-8.75 -9.375,1.25 l-1.875,5.625 -10.625,1.25 l5.625,-1.875 1.25,-5.0 l4.375,0.0 1.25,6.25 l5.0,0.0 4.375,-8.125 l-0.625,-5.625 -49.375,5.0 l1.875,10.0 3.75,-2.5 l6.875,1.25 1.875,-3.75 l3.75,-0.625 9.375,-0.625 l-5.625,1.875 0.0,1.875 m20.0,30.0 l6.875,-2.5 7.5,-11.875 l5.0,-14.375 0.0,-6.25 \" fill=\"none\" stroke=\"black\" stroke-width=\"1\"/></svg>"
      ],
      "text/plain": [
       "<IPython.core.display.SVG object>"
      ]
     },
     "metadata": {},
     "output_type": "display_data"
    },
    {
     "name": "stdout",
     "output_type": "stream",
     "text": [
      "mouth 2.7925346\n"
     ]
    },
    {
     "data": {
      "image/svg+xml": [
       "<svg baseProfile=\"full\" height=\"111.875\" version=\"1.1\" width=\"98.75\" xmlns=\"http://www.w3.org/2000/svg\" xmlns:ev=\"http://www.w3.org/2001/xml-events\" xmlns:xlink=\"http://www.w3.org/1999/xlink\"><defs/><rect fill=\"white\" height=\"111.875\" width=\"98.75\" x=\"0\" y=\"0\"/><path d=\"M25,35.625 m0.0,0.0 l3.125,-5.0 -1.25,-5.625 l3.75,0.0 1.875,2.5 l6.25,-2.5 m-13.75,43.75 l11.25,1.875 15.625,-3.125 l8.125,-11.875 0.0,-5.0 l-3.125,0.0 -6.25,1.25 l-0.625,5.0 -3.125,1.25 l-21.875,0.0 6.875,-1.25 l1.25,-3.75 4.375,0.0 l0.625,4.375 0.625,-4.375 l1.875,-0.625 3.125,0.625 l0.0,3.75 1.25,-5.0 l-20.0,2.5 30.625,3.75 l4.375,-8.125 -0.625,-5.625 l-34.375,4.375 m26.875,38.125 l7.5,-3.125 8.75,-16.25 l5.625,-24.375 0.0,-18.125 \" fill=\"none\" stroke=\"black\" stroke-width=\"1\"/></svg>"
      ],
      "text/plain": [
       "<IPython.core.display.SVG object>"
      ]
     },
     "metadata": {},
     "output_type": "display_data"
    },
    {
     "name": "stdout",
     "output_type": "stream",
     "text": [
      "nose 3.911902\n"
     ]
    },
    {
     "data": {
      "image/svg+xml": [
       "<svg baseProfile=\"full\" height=\"88.125\" version=\"1.1\" width=\"81.875\" xmlns=\"http://www.w3.org/2000/svg\" xmlns:ev=\"http://www.w3.org/2001/xml-events\" xmlns:xlink=\"http://www.w3.org/1999/xlink\"><defs/><rect fill=\"white\" height=\"88.125\" width=\"81.875\" x=\"0\" y=\"0\"/><path d=\"M25,25 m0.0,0.0 l13.125,21.25 18.75,16.875 \" fill=\"none\" stroke=\"black\" stroke-width=\"1\"/></svg>"
      ],
      "text/plain": [
       "<IPython.core.display.SVG object>"
      ]
     },
     "metadata": {},
     "output_type": "display_data"
    },
    {
     "name": "stdout",
     "output_type": "stream",
     "text": [
      "nose 8.489072\n"
     ]
    },
    {
     "data": {
      "image/svg+xml": [
       "<svg baseProfile=\"full\" height=\"96.875\" version=\"1.1\" width=\"97.5\" xmlns=\"http://www.w3.org/2000/svg\" xmlns:ev=\"http://www.w3.org/2001/xml-events\" xmlns:xlink=\"http://www.w3.org/1999/xlink\"><defs/><rect fill=\"white\" height=\"96.875\" width=\"97.5\" x=\"0\" y=\"0\"/><path d=\"M25,25 m0.0,0.0 l13.125,21.25 8.75,8.75 l8.75,7.5 16.875,9.375 m0.0,-38.125 l0.0,8.125 \" fill=\"none\" stroke=\"black\" stroke-width=\"1\"/></svg>"
      ],
      "text/plain": [
       "<IPython.core.display.SVG object>"
      ]
     },
     "metadata": {},
     "output_type": "display_data"
    },
    {
     "name": "stdout",
     "output_type": "stream",
     "text": [
      "nose 4.8954563\n"
     ]
    },
    {
     "data": {
      "image/svg+xml": [
       "<svg baseProfile=\"full\" height=\"101.875\" version=\"1.1\" width=\"111.875\" xmlns=\"http://www.w3.org/2000/svg\" xmlns:ev=\"http://www.w3.org/2001/xml-events\" xmlns:xlink=\"http://www.w3.org/1999/xlink\"><defs/><rect fill=\"white\" height=\"101.875\" width=\"111.875\" x=\"0\" y=\"0\"/><path d=\"M25,25 m0.0,0.0 l2.5,7.5 9.375,13.75 l14.375,13.75 18.125,11.25 l17.5,5.625 m-0.625,-23.125 l-7.5,-2.5 -4.375,-4.375 l-3.125,-5.625 -0.625,-7.5 l1.25,5.625 14.375,0.0 l-1.25,3.125 -10.625,1.25 l3.75,-2.5 8.75,1.25 l0.0,-3.125 \" fill=\"none\" stroke=\"black\" stroke-width=\"1\"/></svg>"
      ],
      "text/plain": [
       "<IPython.core.display.SVG object>"
      ]
     },
     "metadata": {},
     "output_type": "display_data"
    },
    {
     "name": "stdout",
     "output_type": "stream",
     "text": [
      "mouth 3.230146\n"
     ]
    },
    {
     "data": {
      "image/svg+xml": [
       "<svg baseProfile=\"full\" height=\"93.75\" version=\"1.1\" width=\"111.875\" xmlns=\"http://www.w3.org/2000/svg\" xmlns:ev=\"http://www.w3.org/2001/xml-events\" xmlns:xlink=\"http://www.w3.org/1999/xlink\"><defs/><rect fill=\"white\" height=\"93.75\" width=\"111.875\" x=\"0\" y=\"0\"/><path d=\"M25,40.625 m0.0,0.0 l13.75,13.125 15.0,8.75 l20.0,6.25 13.125,-1.875 m0.0,-21.875 l-9.375,1.25 -14.375,-3.75 l-4.375,-4.375 -3.75,-8.125 l0.0,-5.0 1.25,5.625 l14.375,0.0 -1.25,3.125 l-10.625,1.25 3.75,-2.5 l21.875,1.25 2.5,-5.625 l-6.875,0.625 -1.25,3.125 l-0.625,-2.5 -6.875,0.625 l15.625,5.0 \" fill=\"none\" stroke=\"black\" stroke-width=\"1\"/></svg>"
      ],
      "text/plain": [
       "<IPython.core.display.SVG object>"
      ]
     },
     "metadata": {},
     "output_type": "display_data"
    },
    {
     "name": "stdout",
     "output_type": "stream",
     "text": [
      "mouth 7.758806\n"
     ]
    },
    {
     "data": {
      "image/svg+xml": [
       "<svg baseProfile=\"full\" height=\"93.75\" version=\"1.1\" width=\"111.875\" xmlns=\"http://www.w3.org/2000/svg\" xmlns:ev=\"http://www.w3.org/2001/xml-events\" xmlns:xlink=\"http://www.w3.org/1999/xlink\"><defs/><rect fill=\"white\" height=\"93.75\" width=\"111.875\" x=\"0\" y=\"0\"/><path d=\"M25,53.75 m0.0,0.0 l13.125,8.75 20.0,6.25 l19.375,-2.5 9.375,-5.0 m0.0,-22.5 l0.0,1.875 -6.25,3.125 l-13.125,2.5 -13.125,-1.25 l-6.875,-2.5 -4.375,-4.375 l-3.125,-5.625 -0.625,-7.5 l1.25,5.625 14.375,0.0 l-1.25,3.125 -10.625,1.25 l3.75,-2.5 21.875,1.25 l0.625,-4.375 2.5,-1.25 l2.5,0.0 0.625,5.0 l3.125,0.625 3.125,-1.25 l0.625,-5.0 5.0,-1.25 l-11.25,1.875 6.25,5.625 l5.0,0.0 -17.5,0.625 l-0.625,-5.625 -4.375,0.0 l-1.25,3.125 -0.625,-2.5 l-6.875,0.625 \" fill=\"none\" stroke=\"black\" stroke-width=\"1\"/></svg>"
      ],
      "text/plain": [
       "<IPython.core.display.SVG object>"
      ]
     },
     "metadata": {},
     "output_type": "display_data"
    },
    {
     "name": "stdout",
     "output_type": "stream",
     "text": [
      "mouth 4.344005\n"
     ]
    },
    {
     "data": {
      "image/svg+xml": [
       "<svg baseProfile=\"full\" height=\"98.75\" version=\"1.1\" width=\"111.875\" xmlns=\"http://www.w3.org/2000/svg\" xmlns:ev=\"http://www.w3.org/2001/xml-events\" xmlns:xlink=\"http://www.w3.org/1999/xlink\"><defs/><rect fill=\"white\" height=\"98.75\" width=\"111.875\" x=\"0\" y=\"0\"/><path d=\"M58.75,33.125 m0.0,0.0 l-4.375,0.625 -1.25,5.0 l-13.125,0.0 -1.25,-3.75 l-7.5,1.875 -6.25,-1.875 l0.0,5.0 6.875,7.5 l10.0,3.125 10.0,0.625 l15.625,-3.125 6.875,-8.125 l1.25,-8.75 -9.375,1.25 l-1.875,5.625 -10.625,1.25 l5.625,-1.875 1.25,-5.0 l4.375,0.0 1.25,6.25 l5.0,0.0 4.375,-8.125 l-0.625,-5.625 -49.375,5.0 l1.875,10.0 3.75,-2.5 l6.875,1.25 1.875,-3.75 l3.75,-0.625 9.375,-0.625 l-5.625,1.875 0.0,1.875 m-22.5,30.0 l18.125,6.25 18.75,-2.5 l12.5,-6.25 7.5,-11.875 l5.0,-14.375 0.0,-6.25 \" fill=\"none\" stroke=\"black\" stroke-width=\"1\"/></svg>"
      ],
      "text/plain": [
       "<IPython.core.display.SVG object>"
      ]
     },
     "metadata": {},
     "output_type": "display_data"
    },
    {
     "name": "stdout",
     "output_type": "stream",
     "text": [
      "mouth 5.73441\n"
     ]
    },
    {
     "data": {
      "image/svg+xml": [
       "<svg baseProfile=\"full\" height=\"102.5\" version=\"1.1\" width=\"99.375\" xmlns=\"http://www.w3.org/2000/svg\" xmlns:ev=\"http://www.w3.org/2001/xml-events\" xmlns:xlink=\"http://www.w3.org/1999/xlink\"><defs/><rect fill=\"white\" height=\"102.5\" width=\"99.375\" x=\"0\" y=\"0\"/><path d=\"M25,53.125 m0.0,0.0 l11.25,1.875 15.625,-3.125 l8.125,-11.875 0.0,-5.0 l-3.125,0.0 -6.25,1.25 l-0.625,5.0 -3.125,1.25 l-21.875,0.0 6.875,-1.25 l1.25,-3.75 4.375,0.0 l0.625,4.375 0.625,-4.375 l1.875,-0.625 3.125,0.625 l0.0,3.75 1.25,-5.0 l-20.0,2.5 30.625,3.75 l4.375,-8.125 -0.625,-5.625 l-34.375,4.375 m0.0,43.125 l2.5,1.25 18.75,-2.5 l13.125,-6.875 8.75,-16.25 l6.25,-26.875 \" fill=\"none\" stroke=\"black\" stroke-width=\"1\"/></svg>"
      ],
      "text/plain": [
       "<IPython.core.display.SVG object>"
      ]
     },
     "metadata": {},
     "output_type": "display_data"
    },
    {
     "data": {
      "image/png": "[encoded data removed]",
      "text/plain": [
       "<matplotlib.figure.Figure at 0x11cdc0ad0>"
      ]
     },
     "metadata": {},
     "output_type": "display_data"
    },
    {
     "name": "stdout",
     "output_type": "stream",
     "text": [
      "INFO:tensorflow:Model using gpu.\n",
      "INFO:tensorflow:Loading model four_class_checkpoint/vector-110000.\n",
      "INFO:tensorflow:Restoring parameters from four_class_checkpoint/vector-110000\n",
      "nose 4.799871\n"
     ]
    },
    {
     "data": {
      "image/svg+xml": [
       "<svg baseProfile=\"full\" height=\"90.625\" version=\"1.1\" width=\"96.25\" xmlns=\"http://www.w3.org/2000/svg\" xmlns:ev=\"http://www.w3.org/2001/xml-events\" xmlns:xlink=\"http://www.w3.org/1999/xlink\"><defs/><rect fill=\"white\" height=\"90.625\" width=\"96.25\" x=\"0\" y=\"0\"/><path d=\"M49.375,31.875 m0.0,0.0 l-18.75,-3.75 -5.0,2.5 l-0.625,6.875 m8.125,17.5 l0.625,10.625 m29.375,-36.875 l8.125,-3.75 \" fill=\"none\" stroke=\"black\" stroke-width=\"1\"/></svg>"
      ],
      "text/plain": [
       "<IPython.core.display.SVG object>"
      ]
     },
     "metadata": {},
     "output_type": "display_data"
    },
    {
     "name": "stdout",
     "output_type": "stream",
     "text": [
      "nose 5.049116\n"
     ]
    },
    {
     "data": {
      "image/svg+xml": [
       "<svg baseProfile=\"full\" height=\"96.875\" version=\"1.1\" width=\"111.875\" xmlns=\"http://www.w3.org/2000/svg\" xmlns:ev=\"http://www.w3.org/2001/xml-events\" xmlns:xlink=\"http://www.w3.org/1999/xlink\"><defs/><rect fill=\"white\" height=\"96.875\" width=\"111.875\" x=\"0\" y=\"0\"/><path d=\"M49.375,38.125 m0.0,0.0 l-18.75,-3.75 -5.0,2.5 l-0.625,6.875 m8.125,17.5 l0.625,10.625 m29.375,-36.875 l23.75,-10.0 \" fill=\"none\" stroke=\"black\" stroke-width=\"1\"/></svg>"
      ],
      "text/plain": [
       "<IPython.core.display.SVG object>"
      ]
     },
     "metadata": {},
     "output_type": "display_data"
    },
    {
     "name": "stdout",
     "output_type": "stream",
     "text": [
      "nose 1.312916\n"
     ]
    },
    {
     "data": {
      "image/svg+xml": [
       "<svg baseProfile=\"full\" height=\"97.5\" version=\"1.1\" width=\"111.875\" xmlns=\"http://www.w3.org/2000/svg\" xmlns:ev=\"http://www.w3.org/2001/xml-events\" xmlns:xlink=\"http://www.w3.org/1999/xlink\"><defs/><rect fill=\"white\" height=\"97.5\" width=\"111.875\" x=\"0\" y=\"0\"/><path d=\"M25,35.625 m0.0,0.0 l8.125,3.75 m-6.25,3.75 l-1.875,10.0 6.25,-1.875 l10.0,0.625 0.625,-6.25 l0.625,6.25 2.5,-4.375 l-1.25,5.0 2.5,2.5 l0.0,3.125 -3.125,6.875 l-18.125,2.5 m22.5,-31.875 l26.25,-10.625 13.125,1.875 m0.0,30.625 l-8.75,0.625 -2.5,-4.375 l1.25,-13.75 1.25,5.625 l5.0,-3.75 3.75,0.0 l-4.375,-0.625 1.25,-6.875 m-31.875,38.125 l35.0,-34.375 \" fill=\"none\" stroke=\"black\" stroke-width=\"1\"/></svg>"
      ],
      "text/plain": [
       "<IPython.core.display.SVG object>"
      ]
     },
     "metadata": {},
     "output_type": "display_data"
    },
    {
     "name": "stdout",
     "output_type": "stream",
     "text": [
      "nose 3.103033\n"
     ]
    },
    {
     "data": {
      "image/svg+xml": [
       "<svg baseProfile=\"full\" height=\"90.0\" version=\"1.1\" width=\"110.625\" xmlns=\"http://www.w3.org/2000/svg\" xmlns:ev=\"http://www.w3.org/2001/xml-events\" xmlns:xlink=\"http://www.w3.org/1999/xlink\"><defs/><rect fill=\"white\" height=\"90.0\" width=\"110.625\" x=\"0\" y=\"0\"/><path d=\"M25,65.0 m0.0,0.0 l3.75,-1.25 1.875,-5.625 l0.0,-3.125 -3.125,-3.125 l1.875,-4.375 -2.5,4.375 l-0.625,-6.25 0.625,5.0 l-1.875,1.875 m6.875,-16.875 l26.25,-10.625 16.25,2.5 l11.25,6.25 \" fill=\"none\" stroke=\"black\" stroke-width=\"1\"/></svg>"
      ],
      "text/plain": [
       "<IPython.core.display.SVG object>"
      ]
     },
     "metadata": {},
     "output_type": "display_data"
    },
    {
     "name": "stdout",
     "output_type": "stream",
     "text": [
      "nose 3.6589403\n"
     ]
    },
    {
     "data": {
      "image/svg+xml": [
       "<svg baseProfile=\"full\" height=\"58.75\" version=\"1.1\" width=\"95.0\" xmlns=\"http://www.w3.org/2000/svg\" xmlns:ev=\"http://www.w3.org/2001/xml-events\" xmlns:xlink=\"http://www.w3.org/1999/xlink\"><defs/><rect fill=\"white\" height=\"58.75\" width=\"95.0\" x=\"0\" y=\"0\"/><path d=\"M70.0,33.75 m0.0,0.0 l-11.25,-6.25 -14.375,-2.5 l-14.375,3.75 -5.0,3.125 \" fill=\"none\" stroke=\"black\" stroke-width=\"1\"/></svg>"
      ],
      "text/plain": [
       "<IPython.core.display.SVG object>"
      ]
     },
     "metadata": {},
     "output_type": "display_data"
    },
    {
     "name": "stdout",
     "output_type": "stream",
     "text": [
      "mouth 1.0554591\n"
     ]
    },
    {
     "data": {
      "image/svg+xml": [
       "<svg baseProfile=\"full\" height=\"58.75\" version=\"1.1\" width=\"79.375\" xmlns=\"http://www.w3.org/2000/svg\" xmlns:ev=\"http://www.w3.org/2001/xml-events\" xmlns:xlink=\"http://www.w3.org/1999/xlink\"><defs/><rect fill=\"white\" height=\"58.75\" width=\"79.375\" x=\"0\" y=\"0\"/><path d=\"M25,25 m0.0,0.0 l18.125,2.5 11.25,6.25 \" fill=\"none\" stroke=\"black\" stroke-width=\"1\"/></svg>"
      ],
      "text/plain": [
       "<IPython.core.display.SVG object>"
      ]
     },
     "metadata": {},
     "output_type": "display_data"
    },
    {
     "name": "stdout",
     "output_type": "stream",
     "text": [
      "nose 7.6165867\n"
     ]
    },
    {
     "data": {
      "image/svg+xml": [
       "<svg baseProfile=\"full\" height=\"81.875\" version=\"1.1\" width=\"98.75\" xmlns=\"http://www.w3.org/2000/svg\" xmlns:ev=\"http://www.w3.org/2001/xml-events\" xmlns:xlink=\"http://www.w3.org/1999/xlink\"><defs/><rect fill=\"white\" height=\"81.875\" width=\"98.75\" x=\"0\" y=\"0\"/><path d=\"M25,37.5 m0.0,0.0 l3.125,1.25 2.5,-1.875 l-0.625,-5.0 -5.0,-0.625 m48.75,-6.25 l0.0,31.875 \" fill=\"none\" stroke=\"black\" stroke-width=\"1\"/></svg>"
      ],
      "text/plain": [
       "<IPython.core.display.SVG object>"
      ]
     },
     "metadata": {},
     "output_type": "display_data"
    },
    {
     "name": "stdout",
     "output_type": "stream",
     "text": [
      "None 2.5466752\n"
     ]
    },
    {
     "data": {
      "image/svg+xml": [
       "<svg baseProfile=\"full\" height=\"106.25\" version=\"1.1\" width=\"96.25\" xmlns=\"http://www.w3.org/2000/svg\" xmlns:ev=\"http://www.w3.org/2001/xml-events\" xmlns:xlink=\"http://www.w3.org/1999/xlink\"><defs/><rect fill=\"white\" height=\"106.25\" width=\"96.25\" x=\"0\" y=\"0\"/><path d=\"M49.375,31.875 m0.0,0.0 l-18.75,-3.75 -5.0,2.5 l-0.625,6.875 m8.125,17.5 l0.0,13.125 3.125,13.125 m15.625,-14.375 l1.25,14.375 m10.0,-52.5 l8.125,-3.75 m-3.75,41.25 l1.25,8.125 2.5,0.625 \" fill=\"none\" stroke=\"black\" stroke-width=\"1\"/></svg>"
      ],
      "text/plain": [
       "<IPython.core.display.SVG object>"
      ]
     },
     "metadata": {},
     "output_type": "display_data"
    },
    {
     "name": "stdout",
     "output_type": "stream",
     "text": [
      "no classification\n",
      "None 2.1441712\n"
     ]
    },
    {
     "data": {
      "image/svg+xml": [
       "<svg baseProfile=\"full\" height=\"111.875\" version=\"1.1\" width=\"111.875\" xmlns=\"http://www.w3.org/2000/svg\" xmlns:ev=\"http://www.w3.org/2001/xml-events\" xmlns:xlink=\"http://www.w3.org/1999/xlink\"><defs/><rect fill=\"white\" height=\"111.875\" width=\"111.875\" x=\"0\" y=\"0\"/><path d=\"M49.375,37.5 m0.0,0.0 l-18.75,-3.75 -5.0,2.5 l-0.625,6.875 m8.125,17.5 l0.0,13.125 3.125,13.125 m15.625,-14.375 l1.25,14.375 m10.0,-52.5 l13.75,-6.875 10.0,-2.5 m-19.375,46.875 l2.5,9.375 6.25,0.0 l6.875,5.625 \" fill=\"none\" stroke=\"black\" stroke-width=\"1\"/></svg>"
      ],
      "text/plain": [
       "<IPython.core.display.SVG object>"
      ]
     },
     "metadata": {},
     "output_type": "display_data"
    },
    {
     "name": "stdout",
     "output_type": "stream",
     "text": [
      "no classification\n",
      "nose 2.2279367\n"
     ]
    },
    {
     "data": {
      "image/svg+xml": [
       "<svg baseProfile=\"full\" height=\"111.875\" version=\"1.1\" width=\"111.875\" xmlns=\"http://www.w3.org/2000/svg\" xmlns:ev=\"http://www.w3.org/2001/xml-events\" xmlns:xlink=\"http://www.w3.org/1999/xlink\"><defs/><rect fill=\"white\" height=\"111.875\" width=\"111.875\" x=\"0\" y=\"0\"/><path d=\"M25,34.375 m0.0,0.0 l8.125,3.75 m-6.25,3.75 l-1.875,10.0 6.25,-1.875 l10.0,0.625 0.625,-6.25 l0.625,6.25 2.5,-4.375 l-1.25,5.0 2.5,2.5 l0.0,3.125 -3.125,6.875 l-18.125,2.5 m11.25,6.25 l1.25,14.375 m10.0,-52.5 l13.75,-6.875 11.25,-2.5 m-20.625,46.875 l2.5,9.375 6.25,0.0 l6.875,5.625 m19.375,-30.625 l-8.75,0.625 -2.5,-4.375 l1.25,-13.75 1.25,5.625 l5.0,-3.75 3.75,0.0 l-4.375,-0.625 1.25,-6.875 m-5.625,-8.125 l8.75,1.25 \" fill=\"none\" stroke=\"black\" stroke-width=\"1\"/></svg>"
      ],
      "text/plain": [
       "<IPython.core.display.SVG object>"
      ]
     },
     "metadata": {},
     "output_type": "display_data"
    },
    {
     "name": "stdout",
     "output_type": "stream",
     "text": [
      "nose 3.575623\n"
     ]
    },
    {
     "data": {
      "image/svg+xml": [
       "<svg baseProfile=\"full\" height=\"111.875\" version=\"1.1\" width=\"111.875\" xmlns=\"http://www.w3.org/2000/svg\" xmlns:ev=\"http://www.w3.org/2001/xml-events\" xmlns:xlink=\"http://www.w3.org/1999/xlink\"><defs/><rect fill=\"white\" height=\"111.875\" width=\"111.875\" x=\"0\" y=\"0\"/><path d=\"M25,63.75 m0.0,0.0 l3.75,-1.25 1.875,-5.625 l0.0,-3.125 -3.125,-3.125 l1.875,-4.375 -2.5,4.375 l-0.625,-6.25 0.625,5.0 l-1.875,1.875 m6.875,-16.875 l13.75,-6.875 11.25,-2.5 m-20.625,46.875 l2.5,9.375 6.25,0.0 l6.875,5.625 m35.0,-35.625 l-1.875,3.75 -22.5,1.875 l-2.5,-4.375 1.25,-13.75 l1.25,5.625 5.0,-3.75 l8.75,-0.625 4.375,-7.5 l-3.125,7.5 6.875,1.875 l2.5,-1.875 0.0,-4.375 l-3.75,4.375 1.25,-4.375 l-17.5,4.375 1.25,-6.875 \" fill=\"none\" stroke=\"black\" stroke-width=\"1\"/></svg>"
      ],
      "text/plain": [
       "<IPython.core.display.SVG object>"
      ]
     },
     "metadata": {},
     "output_type": "display_data"
    },
    {
     "name": "stdout",
     "output_type": "stream",
     "text": [
      "nose 2.905881\n"
     ]
    },
    {
     "data": {
      "image/svg+xml": [
       "<svg baseProfile=\"full\" height=\"111.875\" version=\"1.1\" width=\"98.125\" xmlns=\"http://www.w3.org/2000/svg\" xmlns:ev=\"http://www.w3.org/2001/xml-events\" xmlns:xlink=\"http://www.w3.org/1999/xlink\"><defs/><rect fill=\"white\" height=\"111.875\" width=\"98.125\" x=\"0\" y=\"0\"/><path d=\"M25,29.375 m0.0,0.0 l16.25,-4.375 m-16.25,55.0 l8.125,3.125 3.125,3.75 m35.0,-50.625 l-1.875,5.625 -1.875,-1.25 l1.25,-5.0 -1.875,5.625 l-3.125,0.0 -2.5,-3.125 l3.75,-5.625 -4.375,7.5 l-8.125,1.25 0.0,-8.75 l-1.25,8.75 -5.0,3.125 l-1.25,-3.75 1.25,4.375 l-1.875,7.5 2.5,4.375 l22.5,-1.875 3.75,-8.125 l-2.5,-5.0 \" fill=\"none\" stroke=\"black\" stroke-width=\"1\"/></svg>"
      ],
      "text/plain": [
       "<IPython.core.display.SVG object>"
      ]
     },
     "metadata": {},
     "output_type": "display_data"
    },
    {
     "name": "stdout",
     "output_type": "stream",
     "text": [
      "mouth 3.3736415\n"
     ]
    },
    {
     "data": {
      "image/svg+xml": [
       "<svg baseProfile=\"full\" height=\"74.375\" version=\"1.1\" width=\"78.75\" xmlns=\"http://www.w3.org/2000/svg\" xmlns:ev=\"http://www.w3.org/2001/xml-events\" xmlns:xlink=\"http://www.w3.org/1999/xlink\"><defs/><rect fill=\"white\" height=\"74.375\" width=\"78.75\" x=\"0\" y=\"0\"/><path d=\"M51.875,28.75 m0.0,0.0 l-1.875,5.625 -1.875,-1.25 l1.25,-5.0 -1.875,5.625 l-3.125,0.0 -2.5,-3.125 l3.75,-5.625 -4.375,7.5 l-8.125,1.25 0.0,-8.75 l-1.25,8.75 -5.0,3.125 l-1.25,-3.75 1.25,4.375 l-1.875,7.5 2.5,4.375 l22.5,-1.875 3.75,-8.125 l-2.5,-5.0 \" fill=\"none\" stroke=\"black\" stroke-width=\"1\"/></svg>"
      ],
      "text/plain": [
       "<IPython.core.display.SVG object>"
      ]
     },
     "metadata": {},
     "output_type": "display_data"
    },
    {
     "name": "stdout",
     "output_type": "stream",
     "text": [
      "nose 7.146293\n"
     ]
    },
    {
     "data": {
      "image/svg+xml": [
       "<svg baseProfile=\"full\" height=\"97.5\" version=\"1.1\" width=\"99.375\" xmlns=\"http://www.w3.org/2000/svg\" xmlns:ev=\"http://www.w3.org/2001/xml-events\" xmlns:xlink=\"http://www.w3.org/1999/xlink\"><defs/><rect fill=\"white\" height=\"97.5\" width=\"99.375\" x=\"0\" y=\"0\"/><path d=\"M25,37.5 m0.0,0.0 l3.125,1.25 2.5,-1.875 l-0.625,-5.0 -5.0,-0.625 m48.75,-6.25 l0.625,47.5 \" fill=\"none\" stroke=\"black\" stroke-width=\"1\"/></svg>"
      ],
      "text/plain": [
       "<IPython.core.display.SVG object>"
      ]
     },
     "metadata": {},
     "output_type": "display_data"
    },
    {
     "name": "stdout",
     "output_type": "stream",
     "text": [
      "nose 7.6783924\n"
     ]
    },
    {
     "data": {
      "image/svg+xml": [
       "<svg baseProfile=\"full\" height=\"111.875\" version=\"1.1\" width=\"96.25\" xmlns=\"http://www.w3.org/2000/svg\" xmlns:ev=\"http://www.w3.org/2001/xml-events\" xmlns:xlink=\"http://www.w3.org/1999/xlink\"><defs/><rect fill=\"white\" height=\"111.875\" width=\"96.25\" x=\"0\" y=\"0\"/><path d=\"M25.625,25 m0.0,0.0 l-0.625,2.5 m8.125,17.5 l1.875,22.5 6.875,19.375 m10.0,-30.0 l2.5,26.25 3.75,1.25 l13.125,-3.125 m-3.75,-25.0 l1.25,8.125 2.5,0.625 \" fill=\"none\" stroke=\"black\" stroke-width=\"1\"/></svg>"
      ],
      "text/plain": [
       "<IPython.core.display.SVG object>"
      ]
     },
     "metadata": {},
     "output_type": "display_data"
    },
    {
     "name": "stdout",
     "output_type": "stream",
     "text": [
      "nose 7.8287024\n"
     ]
    },
    {
     "data": {
      "image/svg+xml": [
       "<svg baseProfile=\"full\" height=\"111.875\" version=\"1.1\" width=\"108.75\" xmlns=\"http://www.w3.org/2000/svg\" xmlns:ev=\"http://www.w3.org/2001/xml-events\" xmlns:xlink=\"http://www.w3.org/1999/xlink\"><defs/><rect fill=\"white\" height=\"111.875\" width=\"108.75\" x=\"0\" y=\"0\"/><path d=\"M25.625,25 m0.0,0.0 l-0.625,2.5 m8.125,17.5 l1.875,22.5 6.875,19.375 m10.0,-30.0 l2.5,26.25 3.75,1.25 l18.125,-4.375 7.5,-5.0 l0.0,-4.375 -1.875,-1.875 l-13.125,-4.375 -1.25,-8.125 \" fill=\"none\" stroke=\"black\" stroke-width=\"1\"/></svg>"
      ],
      "text/plain": [
       "<IPython.core.display.SVG object>"
      ]
     },
     "metadata": {},
     "output_type": "display_data"
    },
    {
     "name": "stdout",
     "output_type": "stream",
     "text": [
      "nose 4.243663\n"
     ]
    },
    {
     "data": {
      "image/svg+xml": [
       "<svg baseProfile=\"full\" height=\"111.875\" version=\"1.1\" width=\"111.875\" xmlns=\"http://www.w3.org/2000/svg\" xmlns:ev=\"http://www.w3.org/2001/xml-events\" xmlns:xlink=\"http://www.w3.org/1999/xlink\"><defs/><rect fill=\"white\" height=\"111.875\" width=\"111.875\" x=\"0\" y=\"0\"/><path d=\"M26.875,26.25 m0.0,0.0 l-1.875,10.0 6.25,-1.875 l10.0,0.625 0.625,-6.25 l0.625,6.25 2.5,-4.375 l-1.25,5.0 2.5,2.5 l0.0,3.125 -3.125,6.875 l-18.125,2.5 m0.0,33.125 l1.25,3.125 m10.0,-30.0 l2.5,26.25 3.75,1.25 l18.125,-4.375 7.5,-5.0 l0.0,-4.375 -1.875,-1.875 l-13.125,-4.375 -1.25,-8.125 m33.125,-15.0 l-6.875,0.0 -1.875,-1.875 l1.25,-11.25 -1.875,-3.125 l1.875,0.0 0.625,3.75 l4.375,-3.75 4.375,0.0 \" fill=\"none\" stroke=\"black\" stroke-width=\"1\"/></svg>"
      ],
      "text/plain": [
       "<IPython.core.display.SVG object>"
      ]
     },
     "metadata": {},
     "output_type": "display_data"
    },
    {
     "name": "stdout",
     "output_type": "stream",
     "text": [
      "nose 5.7667756\n"
     ]
    },
    {
     "data": {
      "image/svg+xml": [
       "<svg baseProfile=\"full\" height=\"109.375\" version=\"1.1\" width=\"111.875\" xmlns=\"http://www.w3.org/2000/svg\" xmlns:ev=\"http://www.w3.org/2001/xml-events\" xmlns:xlink=\"http://www.w3.org/1999/xlink\"><defs/><rect fill=\"white\" height=\"109.375\" width=\"111.875\" x=\"0\" y=\"0\"/><path d=\"M25,48.125 m0.0,0.0 l3.75,-1.25 1.875,-5.625 l0.0,-3.125 -3.125,-3.125 l1.875,-4.375 -2.5,4.375 l-0.625,-6.25 0.625,5.0 l-1.875,1.875 m11.25,20.625 l1.25,8.125 13.125,4.375 l1.875,1.875 0.0,4.375 l-7.5,5.0 -20.0,4.375 m61.875,-48.75 l-1.875,3.75 -22.5,1.875 l-2.5,-4.375 1.875,-7.5 l-1.875,-4.375 1.875,0.0 l0.625,3.75 4.375,-3.75 l8.75,0.0 \" fill=\"none\" stroke=\"black\" stroke-width=\"1\"/></svg>"
      ],
      "text/plain": [
       "<IPython.core.display.SVG object>"
      ]
     },
     "metadata": {},
     "output_type": "display_data"
    },
    {
     "name": "stdout",
     "output_type": "stream",
     "text": [
      "nose 2.39993\n"
     ]
    },
    {
     "data": {
      "image/svg+xml": [
       "<svg baseProfile=\"full\" height=\"106.25\" version=\"1.1\" width=\"98.125\" xmlns=\"http://www.w3.org/2000/svg\" xmlns:ev=\"http://www.w3.org/2001/xml-events\" xmlns:xlink=\"http://www.w3.org/1999/xlink\"><defs/><rect fill=\"white\" height=\"106.25\" width=\"98.125\" x=\"0\" y=\"0\"/><path d=\"M25,64.375 m0.0,0.0 l11.875,6.25 0.0,4.375 l-1.875,1.875 -10.0,4.375 m36.875,-56.25 l8.75,0.0 2.5,6.25 l-3.75,8.125 -10.625,1.875 l-11.875,0.0 -1.875,-1.875 l1.25,-11.25 -1.875,-3.125 l1.875,0.0 0.625,3.75 l4.375,-3.75 8.75,0.0 \" fill=\"none\" stroke=\"black\" stroke-width=\"1\"/></svg>"
      ],
      "text/plain": [
       "<IPython.core.display.SVG object>"
      ]
     },
     "metadata": {},
     "output_type": "display_data"
    },
    {
     "name": "stdout",
     "output_type": "stream",
     "text": [
      "nose 3.093598\n"
     ]
    },
    {
     "data": {
      "image/svg+xml": [
       "<svg baseProfile=\"full\" height=\"111.875\" version=\"1.1\" width=\"108.125\" xmlns=\"http://www.w3.org/2000/svg\" xmlns:ev=\"http://www.w3.org/2001/xml-events\" xmlns:xlink=\"http://www.w3.org/1999/xlink\"><defs/><rect fill=\"white\" height=\"111.875\" width=\"108.125\" x=\"0\" y=\"0\"/><path d=\"M42.5,25 m0.0,0.0 l8.75,0.0 2.5,6.25 l-3.75,8.125 -10.625,1.875 l-11.875,0.0 -1.875,-1.875 l1.25,-11.25 -1.875,-3.125 l1.875,0.0 0.625,3.75 l4.375,-3.75 8.75,0.0 m42.5,55.0 l-0.625,6.875 \" fill=\"none\" stroke=\"black\" stroke-width=\"1\"/></svg>"
      ],
      "text/plain": [
       "<IPython.core.display.SVG object>"
      ]
     },
     "metadata": {},
     "output_type": "display_data"
    },
    {
     "name": "stdout",
     "output_type": "stream",
     "text": [
      "nose 6.382969\n"
     ]
    },
    {
     "data": {
      "image/svg+xml": [
       "<svg baseProfile=\"full\" height=\"111.875\" version=\"1.1\" width=\"99.375\" xmlns=\"http://www.w3.org/2000/svg\" xmlns:ev=\"http://www.w3.org/2001/xml-events\" xmlns:xlink=\"http://www.w3.org/1999/xlink\"><defs/><rect fill=\"white\" height=\"111.875\" width=\"99.375\" x=\"0\" y=\"0\"/><path d=\"M25,25 m0.0,0.0 l3.125,0.0 m41.25,61.875 l2.5,-4.375 2.5,-16.25 l-1.25,-41.25 \" fill=\"none\" stroke=\"black\" stroke-width=\"1\"/></svg>"
      ],
      "text/plain": [
       "<IPython.core.display.SVG object>"
      ]
     },
     "metadata": {},
     "output_type": "display_data"
    },
    {
     "name": "stdout",
     "output_type": "stream",
     "text": [
      "nose 6.3126307\n"
     ]
    },
    {
     "data": {
      "image/svg+xml": [
       "<svg baseProfile=\"full\" height=\"107.5\" version=\"1.1\" width=\"88.125\" xmlns=\"http://www.w3.org/2000/svg\" xmlns:ev=\"http://www.w3.org/2001/xml-events\" xmlns:xlink=\"http://www.w3.org/1999/xlink\"><defs/><rect fill=\"white\" height=\"107.5\" width=\"88.125\" x=\"0\" y=\"0\"/><path d=\"M25,25 m0.0,0.0 l1.875,22.5 12.5,35.0 m4.375,-45.625 l2.5,26.25 3.75,1.25 l13.125,-3.125 m-18.125,21.25 l8.75,-1.25 9.375,-5.0 m-3.75,-40.0 l1.25,8.125 2.5,0.625 \" fill=\"none\" stroke=\"black\" stroke-width=\"1\"/></svg>"
      ],
      "text/plain": [
       "<IPython.core.display.SVG object>"
      ]
     },
     "metadata": {},
     "output_type": "display_data"
    },
    {
     "name": "stdout",
     "output_type": "stream",
     "text": [
      "nose 4.0618453\n"
     ]
    },
    {
     "data": {
      "image/svg+xml": [
       "<svg baseProfile=\"full\" height=\"107.5\" version=\"1.1\" width=\"103.75\" xmlns=\"http://www.w3.org/2000/svg\" xmlns:ev=\"http://www.w3.org/2001/xml-events\" xmlns:xlink=\"http://www.w3.org/1999/xlink\"><defs/><rect fill=\"white\" height=\"107.5\" width=\"103.75\" x=\"0\" y=\"0\"/><path d=\"M25,25 m0.0,0.0 l1.875,22.5 12.5,35.0 m4.375,-45.625 l2.5,26.25 3.75,1.25 l18.125,-4.375 7.5,-5.0 l0.0,-4.375 -1.875,-1.875 l-13.125,-4.375 -1.25,-8.125 m-14.375,46.25 l6.875,-0.625 10.625,-5.0 l7.5,1.875 5.0,-3.125 l3.75,0.0 m-2.5,6.875 l2.5,0.0 \" fill=\"none\" stroke=\"black\" stroke-width=\"1\"/></svg>"
      ],
      "text/plain": [
       "<IPython.core.display.SVG object>"
      ]
     },
     "metadata": {},
     "output_type": "display_data"
    },
    {
     "name": "stdout",
     "output_type": "stream",
     "text": [
      "mouth 2.8836746\n"
     ]
    },
    {
     "data": {
      "image/svg+xml": [
       "<svg baseProfile=\"full\" height=\"111.875\" version=\"1.1\" width=\"111.875\" xmlns=\"http://www.w3.org/2000/svg\" xmlns:ev=\"http://www.w3.org/2001/xml-events\" xmlns:xlink=\"http://www.w3.org/1999/xlink\"><defs/><rect fill=\"white\" height=\"111.875\" width=\"111.875\" x=\"0\" y=\"0\"/><path d=\"M25,34.375 m0.0,0.0 l18.125,-1.875 3.125,-7.5 m-21.25,43.125 l6.25,18.75 m5.0,-45.625 l2.5,26.25 3.75,1.25 l18.125,-4.375 7.5,-5.0 l0.0,-4.375 -1.875,-1.875 l-13.125,-4.375 -1.25,-8.125 m-14.375,46.25 l6.875,-0.625 10.625,-5.0 l7.5,1.875 6.875,-3.75 l13.125,-0.625 3.125,8.125 l-1.875,-1.875 -14.375,1.875 m7.5,-61.875 l10.0,1.25 \" fill=\"none\" stroke=\"black\" stroke-width=\"1\"/></svg>"
      ],
      "text/plain": [
       "<IPython.core.display.SVG object>"
      ]
     },
     "metadata": {},
     "output_type": "display_data"
    },
    {
     "name": "stdout",
     "output_type": "stream",
     "text": [
      "nose 4.467317\n"
     ]
    },
    {
     "data": {
      "image/svg+xml": [
       "<svg baseProfile=\"full\" height=\"111.875\" version=\"1.1\" width=\"102.5\" xmlns=\"http://www.w3.org/2000/svg\" xmlns:ev=\"http://www.w3.org/2001/xml-events\" xmlns:xlink=\"http://www.w3.org/1999/xlink\"><defs/><rect fill=\"white\" height=\"111.875\" width=\"102.5\" x=\"0\" y=\"0\"/><path d=\"M25,32.5 m0.0,0.0 l3.75,-1.25 2.5,-6.25 m5.0,15.625 l1.25,8.125 13.125,4.375 l1.875,1.875 0.0,4.375 l-7.5,5.0 -20.0,4.375 m0.0,16.875 l3.75,0.625 10.625,-5.0 l7.5,1.875 6.875,-3.75 l13.125,-0.625 1.875,6.25 l-15.625,1.875 15.625,-1.25 m-7.5,-60.625 l16.25,0.0 \" fill=\"none\" stroke=\"black\" stroke-width=\"1\"/></svg>"
      ],
      "text/plain": [
       "<IPython.core.display.SVG object>"
      ]
     },
     "metadata": {},
     "output_type": "display_data"
    },
    {
     "name": "stdout",
     "output_type": "stream",
     "text": [
      "nose 4.2456827\n"
     ]
    },
    {
     "data": {
      "image/svg+xml": [
       "<svg baseProfile=\"full\" height=\"111.875\" version=\"1.1\" width=\"86.875\" xmlns=\"http://www.w3.org/2000/svg\" xmlns:ev=\"http://www.w3.org/2001/xml-events\" xmlns:xlink=\"http://www.w3.org/1999/xlink\"><defs/><rect fill=\"white\" height=\"111.875\" width=\"86.875\" x=\"0\" y=\"0\"/><path d=\"M25,48.75 m0.0,0.0 l11.875,6.25 0.0,4.375 l-1.875,1.875 -10.0,4.375 m0.0,15.0 l6.25,2.5 6.875,-3.75 l13.75,-0.625 1.25,6.25 l-15.625,1.875 15.625,-1.25 m-7.5,-60.625 l16.25,0.0 \" fill=\"none\" stroke=\"black\" stroke-width=\"1\"/></svg>"
      ],
      "text/plain": [
       "<IPython.core.display.SVG object>"
      ]
     },
     "metadata": {},
     "output_type": "display_data"
    },
    {
     "name": "stdout",
     "output_type": "stream",
     "text": [
      "nose 4.6194797\n"
     ]
    },
    {
     "data": {
      "image/svg+xml": [
       "<svg baseProfile=\"full\" height=\"111.875\" version=\"1.1\" width=\"111.875\" xmlns=\"http://www.w3.org/2000/svg\" xmlns:ev=\"http://www.w3.org/2001/xml-events\" xmlns:xlink=\"http://www.w3.org/1999/xlink\"><defs/><rect fill=\"white\" height=\"111.875\" width=\"111.875\" x=\"0\" y=\"0\"/><path d=\"M25,86.875 m0.0,0.0 l13.125,-2.5 -1.875,-5.625 l-11.25,1.25 m5.0,-55.0 l16.25,0.0 m30.0,61.875 l10.625,-16.875 0.0,-5.0 \" fill=\"none\" stroke=\"black\" stroke-width=\"1\"/></svg>"
      ],
      "text/plain": [
       "<IPython.core.display.SVG object>"
      ]
     },
     "metadata": {},
     "output_type": "display_data"
    },
    {
     "name": "stdout",
     "output_type": "stream",
     "text": [
      "nose 5.749341\n"
     ]
    },
    {
     "data": {
      "image/svg+xml": [
       "<svg baseProfile=\"full\" height=\"111.875\" version=\"1.1\" width=\"99.375\" xmlns=\"http://www.w3.org/2000/svg\" xmlns:ev=\"http://www.w3.org/2001/xml-events\" xmlns:xlink=\"http://www.w3.org/1999/xlink\"><defs/><rect fill=\"white\" height=\"111.875\" width=\"99.375\" x=\"0\" y=\"0\"/><path d=\"M25,25.625 m0.0,0.0 l5.625,-0.625 m30.0,61.875 l11.25,-20.0 2.5,-16.25 l0.0,-25.625 \" fill=\"none\" stroke=\"black\" stroke-width=\"1\"/></svg>"
      ],
      "text/plain": [
       "<IPython.core.display.SVG object>"
      ]
     },
     "metadata": {},
     "output_type": "display_data"
    },
    {
     "name": "stdout",
     "output_type": "stream",
     "text": [
      "nose 5.3118606\n"
     ]
    },
    {
     "data": {
      "image/svg+xml": [
       "<svg baseProfile=\"full\" height=\"111.875\" version=\"1.1\" width=\"87.5\" xmlns=\"http://www.w3.org/2000/svg\" xmlns:ev=\"http://www.w3.org/2001/xml-events\" xmlns:xlink=\"http://www.w3.org/1999/xlink\"><defs/><rect fill=\"white\" height=\"111.875\" width=\"87.5\" x=\"0\" y=\"0\"/><path d=\"M25,25 m0.0,0.0 l5.625,26.875 12.5,33.75 l1.875,1.25 m-1.25,-61.875 l1.875,26.875 3.75,1.25 l13.125,-3.75 m0.0,36.25 l-9.375,-1.875 -3.75,-3.125 l13.125,-3.75 0.0,-3.75 l-16.25,0.625 -0.625,1.875 l3.125,4.375 -4.375,-7.5 l1.25,-2.5 5.625,0.625 l11.25,-5.0 m0.0,-32.5 l-2.5,0.0 -0.625,-8.125 \" fill=\"none\" stroke=\"black\" stroke-width=\"1\"/></svg>"
      ],
      "text/plain": [
       "<IPython.core.display.SVG object>"
      ]
     },
     "metadata": {},
     "output_type": "display_data"
    },
    {
     "name": "stdout",
     "output_type": "stream",
     "text": [
      "nose 2.8147178\n"
     ]
    },
    {
     "data": {
      "image/svg+xml": [
       "<svg baseProfile=\"full\" height=\"111.875\" version=\"1.1\" width=\"103.125\" xmlns=\"http://www.w3.org/2000/svg\" xmlns:ev=\"http://www.w3.org/2001/xml-events\" xmlns:xlink=\"http://www.w3.org/1999/xlink\"><defs/><rect fill=\"white\" height=\"111.875\" width=\"103.125\" x=\"0\" y=\"0\"/><path d=\"M25,25 m0.0,0.0 l5.625,26.875 12.5,33.75 l1.875,1.25 m-1.25,-61.875 l-0.625,8.75 3.75,19.375 l20.625,-4.375 7.5,-5.0 l0.0,-4.375 -1.875,-1.875 l-13.125,-4.375 -0.625,-8.125 m18.75,59.375 l-14.375,2.5 -10.625,-3.125 l-3.75,-3.125 13.75,-5.0 l6.25,5.625 -6.25,-6.875 l15.0,-3.125 -15.625,2.5 l-16.25,0.0 -0.625,1.875 l3.125,4.375 -4.375,-7.5 l1.25,-2.5 5.625,0.625 l10.625,-5.0 7.5,1.875 l5.0,-3.125 3.75,0.0 \" fill=\"none\" stroke=\"black\" stroke-width=\"1\"/></svg>"
      ],
      "text/plain": [
       "<IPython.core.display.SVG object>"
      ]
     },
     "metadata": {},
     "output_type": "display_data"
    },
    {
     "name": "stdout",
     "output_type": "stream",
     "text": [
      "nose 2.4798322\n"
     ]
    },
    {
     "data": {
      "image/svg+xml": [
       "<svg baseProfile=\"full\" height=\"111.875\" version=\"1.1\" width=\"110.0\" xmlns=\"http://www.w3.org/2000/svg\" xmlns:ev=\"http://www.w3.org/2001/xml-events\" xmlns:xlink=\"http://www.w3.org/1999/xlink\"><defs/><rect fill=\"white\" height=\"111.875\" width=\"110.0\" x=\"0\" y=\"0\"/><path d=\"M25,52.5 m0.0,0.0 l0.0,3.75 13.125,30.625 m-1.25,-61.875 l-0.625,8.75 3.75,19.375 l20.625,-4.375 7.5,-5.0 l0.0,-4.375 -1.875,-1.875 l-13.125,-4.375 -0.625,-8.125 m31.25,44.375 l-26.25,3.75 -3.125,4.375 l-10.625,1.875 -1.25,1.25 l3.75,3.125 13.125,3.125 l18.125,-3.125 7.5,-4.375 l0.0,-11.25 -1.875,-5.0 l-13.75,0.625 -6.875,3.75 l-7.5,-1.875 -10.625,5.0 l-5.625,-0.625 -1.25,2.5 l4.375,7.5 -2.5,-6.25 l16.25,0.0 3.75,6.25 l3.125,1.25 \" fill=\"none\" stroke=\"black\" stroke-width=\"1\"/></svg>"
      ],
      "text/plain": [
       "<IPython.core.display.SVG object>"
      ]
     },
     "metadata": {},
     "output_type": "display_data"
    },
    {
     "name": "stdout",
     "output_type": "stream",
     "text": [
      "mouth 5.651457\n"
     ]
    },
    {
     "data": {
      "image/svg+xml": [
       "<svg baseProfile=\"full\" height=\"111.875\" version=\"1.1\" width=\"95.0\" xmlns=\"http://www.w3.org/2000/svg\" xmlns:ev=\"http://www.w3.org/2001/xml-events\" xmlns:xlink=\"http://www.w3.org/1999/xlink\"><defs/><rect fill=\"white\" height=\"111.875\" width=\"95.0\" x=\"0\" y=\"0\"/><path d=\"M25,52.5 m0.0,0.0 l20.0,-3.75 7.5,-5.0 l0.0,-4.375 -1.875,-1.875 l-13.125,-4.375 -0.625,-8.125 m-11.875,45.0 l3.75,0.625 10.625,-5.0 l7.5,1.875 6.875,-3.75 l13.75,-0.625 2.5,15.625 l-8.125,5.0 -18.125,3.125 l-13.125,-3.125 -5.625,-5.0 l0.0,1.875 0.0,-4.375 l2.5,3.75 13.125,-4.375 l6.25,5.625 -6.875,-7.5 l-15.0,-0.625 16.25,0.625 l26.875,-4.375 \" fill=\"none\" stroke=\"black\" stroke-width=\"1\"/></svg>"
      ],
      "text/plain": [
       "<IPython.core.display.SVG object>"
      ]
     },
     "metadata": {},
     "output_type": "display_data"
    },
    {
     "name": "stdout",
     "output_type": "stream",
     "text": [
      "nose 6.4489756\n"
     ]
    },
    {
     "data": {
      "image/svg+xml": [
       "<svg baseProfile=\"full\" height=\"103.75\" version=\"1.1\" width=\"111.875\" xmlns=\"http://www.w3.org/2000/svg\" xmlns:ev=\"http://www.w3.org/2001/xml-events\" xmlns:xlink=\"http://www.w3.org/1999/xlink\"><defs/><rect fill=\"white\" height=\"103.75\" width=\"111.875\" x=\"0\" y=\"0\"/><path d=\"M25,25 m0.0,0.0 l11.875,6.25 0.0,4.375 l-1.875,1.875 -10.0,4.375 m0.0,15.0 l6.25,2.5 6.875,-3.75 l13.75,-0.625 1.25,2.5 l0.0,4.375 -28.125,3.125 l0.0,3.125 5.0,5.0 l23.75,-10.625 0.625,3.125 l0.0,5.0 -8.125,5.0 l-21.25,2.5 m51.25,0.625 l1.875,0.0 8.75,-10.0 \" fill=\"none\" stroke=\"black\" stroke-width=\"1\"/></svg>"
      ],
      "text/plain": [
       "<IPython.core.display.SVG object>"
      ]
     },
     "metadata": {},
     "output_type": "display_data"
    },
    {
     "name": "stdout",
     "output_type": "stream",
     "text": [
      "nose 5.1852784\n"
     ]
    },
    {
     "data": {
      "image/svg+xml": [
       "<svg baseProfile=\"full\" height=\"88.125\" version=\"1.1\" width=\"111.875\" xmlns=\"http://www.w3.org/2000/svg\" xmlns:ev=\"http://www.w3.org/2001/xml-events\" xmlns:xlink=\"http://www.w3.org/1999/xlink\"><defs/><rect fill=\"white\" height=\"88.125\" width=\"111.875\" x=\"0\" y=\"0\"/><path d=\"M25,39.375 m0.0,0.0 l11.25,0.0 1.875,5.0 l-0.625,1.875 -12.5,1.875 l13.125,-1.25 0.625,3.125 l-0.625,5.625 -13.125,6.25 m61.875,-36.875 l0.0,5.625 -8.125,14.375 l-18.125,18.125 1.875,0.0 \" fill=\"none\" stroke=\"black\" stroke-width=\"1\"/></svg>"
      ],
      "text/plain": [
       "<IPython.core.display.SVG object>"
      ]
     },
     "metadata": {},
     "output_type": "display_data"
    },
    {
     "name": "stdout",
     "output_type": "stream",
     "text": [
      "nose 4.5582137\n"
     ]
    },
    {
     "data": {
      "image/svg+xml": [
       "<svg baseProfile=\"full\" height=\"111.875\" version=\"1.1\" width=\"80.0\" xmlns=\"http://www.w3.org/2000/svg\" xmlns:ev=\"http://www.w3.org/2001/xml-events\" xmlns:xlink=\"http://www.w3.org/1999/xlink\"><defs/><rect fill=\"white\" height=\"111.875\" width=\"80.0\" x=\"0\" y=\"0\"/><path d=\"M25,86.875 m0.0,0.0 l1.875,0.0 15.0,-16.25 l9.375,-17.5 3.75,-28.125 \" fill=\"none\" stroke=\"black\" stroke-width=\"1\"/></svg>"
      ],
      "text/plain": [
       "<IPython.core.display.SVG object>"
      ]
     },
     "metadata": {},
     "output_type": "display_data"
    },
    {
     "name": "stdout",
     "output_type": "stream",
     "text": [
      "nose 3.3184633\n"
     ]
    },
    {
     "data": {
      "image/svg+xml": [
       "<svg baseProfile=\"full\" height=\"111.875\" version=\"1.1\" width=\"85.0\" xmlns=\"http://www.w3.org/2000/svg\" xmlns:ev=\"http://www.w3.org/2001/xml-events\" xmlns:xlink=\"http://www.w3.org/1999/xlink\"><defs/><rect fill=\"white\" height=\"111.875\" width=\"85.0\" x=\"0\" y=\"0\"/><path d=\"M25,25 m0.0,0.0 l17.5,50.0 6.875,11.875 m-6.25,-61.875 l1.25,12.5 15.625,-3.75 m0.0,36.25 l-9.375,-1.875 -3.75,-3.125 l13.125,-3.75 0.0,-3.75 l-16.25,0.625 -0.625,1.875 l3.125,4.375 -4.375,-7.5 l1.25,-2.5 5.625,0.625 l11.25,-5.0 \" fill=\"none\" stroke=\"black\" stroke-width=\"1\"/></svg>"
      ],
      "text/plain": [
       "<IPython.core.display.SVG object>"
      ]
     },
     "metadata": {},
     "output_type": "display_data"
    },
    {
     "name": "stdout",
     "output_type": "stream",
     "text": [
      "mouth 2.6358\n"
     ]
    },
    {
     "data": {
      "image/svg+xml": [
       "<svg baseProfile=\"full\" height=\"111.875\" version=\"1.1\" width=\"100.625\" xmlns=\"http://www.w3.org/2000/svg\" xmlns:ev=\"http://www.w3.org/2001/xml-events\" xmlns:xlink=\"http://www.w3.org/1999/xlink\"><defs/><rect fill=\"white\" height=\"111.875\" width=\"100.625\" x=\"0\" y=\"0\"/><path d=\"M25,25 m0.0,0.0 l17.5,50.0 6.875,11.875 m-6.25,-61.875 l1.25,12.5 20.625,-4.375 l5.625,-3.125 2.5,-5.0 m2.5,43.75 l-14.375,2.5 -10.625,-3.125 l-3.75,-3.125 13.75,-5.0 l6.25,5.625 -6.25,-6.875 l15.0,-3.125 -15.625,2.5 l-16.25,0.0 -0.625,1.875 l3.125,4.375 -4.375,-7.5 l1.25,-2.5 5.625,0.625 l10.625,-5.0 7.5,1.875 l5.0,-3.125 3.75,0.0 \" fill=\"none\" stroke=\"black\" stroke-width=\"1\"/></svg>"
      ],
      "text/plain": [
       "<IPython.core.display.SVG object>"
      ]
     },
     "metadata": {},
     "output_type": "display_data"
    },
    {
     "name": "stdout",
     "output_type": "stream",
     "text": [
      "nose 2.5486069\n"
     ]
    },
    {
     "data": {
      "image/svg+xml": [
       "<svg baseProfile=\"full\" height=\"111.875\" version=\"1.1\" width=\"111.875\" xmlns=\"http://www.w3.org/2000/svg\" xmlns:ev=\"http://www.w3.org/2001/xml-events\" xmlns:xlink=\"http://www.w3.org/1999/xlink\"><defs/><rect fill=\"white\" height=\"111.875\" width=\"111.875\" x=\"0\" y=\"0\"/><path d=\"M25,36.875 m0.0,0.0 l13.125,38.125 6.875,11.875 m-6.25,-61.875 l1.25,12.5 20.625,-4.375 l5.625,-3.125 2.5,-5.0 m15.0,28.75 l-26.25,3.75 -3.125,4.375 l-10.625,1.875 -1.25,1.25 l3.75,3.125 12.5,3.125 l14.375,-1.875 11.875,-5.625 l0.0,-11.25 -1.875,-5.0 l-13.75,0.625 -6.875,3.75 l-7.5,-1.875 -10.625,5.0 l-5.625,-0.625 -1.25,2.5 l4.375,7.5 -2.5,-6.25 l16.25,0.0 3.75,6.25 l3.125,1.25 m19.375,21.25 l5.0,-1.875 \" fill=\"none\" stroke=\"black\" stroke-width=\"1\"/></svg>"
      ],
      "text/plain": [
       "<IPython.core.display.SVG object>"
      ]
     },
     "metadata": {},
     "output_type": "display_data"
    },
    {
     "name": "stdout",
     "output_type": "stream",
     "text": [
      "mouth 6.4006867\n"
     ]
    },
    {
     "data": {
      "image/svg+xml": [
       "<svg baseProfile=\"full\" height=\"111.875\" version=\"1.1\" width=\"111.875\" xmlns=\"http://www.w3.org/2000/svg\" xmlns:ev=\"http://www.w3.org/2001/xml-events\" xmlns:xlink=\"http://www.w3.org/1999/xlink\"><defs/><rect fill=\"white\" height=\"111.875\" width=\"111.875\" x=\"0\" y=\"0\"/><path d=\"M25,36.875 m0.0,0.0 l20.0,-3.75 7.5,-5.0 l-0.625,-3.125 m-26.875,29.375 l3.75,0.625 10.625,-5.0 l7.5,1.875 6.875,-3.75 l13.75,-0.625 1.875,5.0 l0.0,11.25 -7.5,4.375 l-18.75,3.125 -12.5,-3.125 l-5.625,-5.0 0.0,1.875 l0.0,-4.375 2.5,3.75 l13.125,-4.375 6.25,5.625 l-6.875,-7.5 -15.0,-0.625 l16.25,0.625 26.875,-4.375 m-43.125,25.0 l4.375,8.125 m36.875,0.0 l12.5,-5.0 8.125,-6.25 \" fill=\"none\" stroke=\"black\" stroke-width=\"1\"/></svg>"
      ],
      "text/plain": [
       "<IPython.core.display.SVG object>"
      ]
     },
     "metadata": {},
     "output_type": "display_data"
    },
    {
     "name": "stdout",
     "output_type": "stream",
     "text": [
      "mouth 4.052666\n"
     ]
    },
    {
     "data": {
      "image/svg+xml": [
       "<svg baseProfile=\"full\" height=\"111.875\" version=\"1.1\" width=\"111.875\" xmlns=\"http://www.w3.org/2000/svg\" xmlns:ev=\"http://www.w3.org/2001/xml-events\" xmlns:xlink=\"http://www.w3.org/1999/xlink\"><defs/><rect fill=\"white\" height=\"111.875\" width=\"111.875\" x=\"0\" y=\"0\"/><path d=\"M25,33.125 m0.0,0.0 l4.375,0.0 5.625,-3.125 l1.875,-1.875 -0.625,-3.125 m-11.25,24.375 l6.25,2.5 6.875,-3.75 l13.75,-0.625 1.25,2.5 l0.0,4.375 -28.125,3.125 l0.0,3.125 5.0,5.0 l23.75,-10.625 0.625,3.125 l0.0,5.0 -8.125,5.0 l-21.25,2.5 m25.625,16.25 l14.375,-6.25 12.5,-9.375 l9.375,-10.0 \" fill=\"none\" stroke=\"black\" stroke-width=\"1\"/></svg>"
      ],
      "text/plain": [
       "<IPython.core.display.SVG object>"
      ]
     },
     "metadata": {},
     "output_type": "display_data"
    },
    {
     "name": "stdout",
     "output_type": "stream",
     "text": [
      "nose 4.4355636\n"
     ]
    },
    {
     "data": {
      "image/svg+xml": [
       "<svg baseProfile=\"full\" height=\"103.75\" version=\"1.1\" width=\"111.875\" xmlns=\"http://www.w3.org/2000/svg\" xmlns:ev=\"http://www.w3.org/2001/xml-events\" xmlns:xlink=\"http://www.w3.org/1999/xlink\"><defs/><rect fill=\"white\" height=\"103.75\" width=\"111.875\" x=\"0\" y=\"0\"/><path d=\"M25,39.375 m0.0,0.0 l11.25,0.0 1.875,5.0 l-0.625,1.875 -12.5,1.875 l13.125,-1.25 0.625,3.125 l-0.625,5.625 -13.125,6.25 m61.875,-36.875 l0.0,5.625 -8.125,14.375 l-9.375,10.625 -20.0,16.875 l-13.75,6.25 \" fill=\"none\" stroke=\"black\" stroke-width=\"1\"/></svg>"
      ],
      "text/plain": [
       "<IPython.core.display.SVG object>"
      ]
     },
     "metadata": {},
     "output_type": "display_data"
    },
    {
     "name": "stdout",
     "output_type": "stream",
     "text": [
      "nose 2.9446583\n"
     ]
    },
    {
     "data": {
      "image/svg+xml": [
       "<svg baseProfile=\"full\" height=\"109.375\" version=\"1.1\" width=\"98.75\" xmlns=\"http://www.w3.org/2000/svg\" xmlns:ev=\"http://www.w3.org/2001/xml-events\" xmlns:xlink=\"http://www.w3.org/1999/xlink\"><defs/><rect fill=\"white\" height=\"109.375\" width=\"98.75\" x=\"0\" y=\"0\"/><path d=\"M25,84.375 m0.0,0.0 l6.875,-2.5 14.375,-10.625 l15.625,-16.25 9.375,-17.5 l2.5,-12.5 \" fill=\"none\" stroke=\"black\" stroke-width=\"1\"/></svg>"
      ],
      "text/plain": [
       "<IPython.core.display.SVG object>"
      ]
     },
     "metadata": {},
     "output_type": "display_data"
    },
    {
     "name": "stdout",
     "output_type": "stream",
     "text": [
      "nose 4.4269285\n"
     ]
    },
    {
     "data": {
      "image/svg+xml": [
       "<svg baseProfile=\"full\" height=\"100.0\" version=\"1.1\" width=\"80.625\" xmlns=\"http://www.w3.org/2000/svg\" xmlns:ev=\"http://www.w3.org/2001/xml-events\" xmlns:xlink=\"http://www.w3.org/1999/xlink\"><defs/><rect fill=\"white\" height=\"100.0\" width=\"80.625\" x=\"0\" y=\"0\"/><path d=\"M25,25 m0.0,0.0 l19.375,46.875 2.5,2.5 l8.75,0.625 m0.0,-20.625 l-9.375,-1.875 -3.75,-3.125 l13.125,-3.75 0.0,-3.75 l-16.25,0.625 -0.625,1.875 l3.125,4.375 -4.375,-7.5 l1.25,-2.5 5.625,0.625 l11.25,-5.0 \" fill=\"none\" stroke=\"black\" stroke-width=\"1\"/></svg>"
      ],
      "text/plain": [
       "<IPython.core.display.SVG object>"
      ]
     },
     "metadata": {},
     "output_type": "display_data"
    },
    {
     "name": "stdout",
     "output_type": "stream",
     "text": [
      "mouth 2.0925941\n"
     ]
    },
    {
     "data": {
      "image/svg+xml": [
       "<svg baseProfile=\"full\" height=\"101.25\" version=\"1.1\" width=\"96.25\" xmlns=\"http://www.w3.org/2000/svg\" xmlns:ev=\"http://www.w3.org/2001/xml-events\" xmlns:xlink=\"http://www.w3.org/1999/xlink\"><defs/><rect fill=\"white\" height=\"101.25\" width=\"96.25\" x=\"0\" y=\"0\"/><path d=\"M25,25 m0.0,0.0 l19.375,46.875 2.5,2.5 l11.25,1.875 13.125,-1.25 m0.0,-21.875 l-14.375,2.5 -10.625,-3.125 l-3.75,-3.125 13.75,-5.0 l6.25,5.625 -6.25,-6.875 l15.0,-3.125 -15.625,2.5 l-16.25,0.0 -0.625,1.875 l3.125,4.375 -4.375,-7.5 l1.25,-2.5 5.625,0.625 l10.625,-5.0 7.5,1.875 l5.0,-3.125 3.75,0.0 \" fill=\"none\" stroke=\"black\" stroke-width=\"1\"/></svg>"
      ],
      "text/plain": [
       "<IPython.core.display.SVG object>"
      ]
     },
     "metadata": {},
     "output_type": "display_data"
    },
    {
     "name": "stdout",
     "output_type": "stream",
     "text": [
      "mouth 2.0144\n"
     ]
    },
    {
     "data": {
      "image/svg+xml": [
       "<svg baseProfile=\"full\" height=\"100.625\" version=\"1.1\" width=\"111.875\" xmlns=\"http://www.w3.org/2000/svg\" xmlns:ev=\"http://www.w3.org/2001/xml-events\" xmlns:xlink=\"http://www.w3.org/1999/xlink\"><defs/><rect fill=\"white\" height=\"100.625\" width=\"111.875\" x=\"0\" y=\"0\"/><path d=\"M25,25 m0.0,0.0 l14.375,37.5 7.5,11.875 l21.875,1.25 8.125,-1.25 l10.0,-5.0 m-3.125,-31.25 l-26.25,3.75 -3.125,4.375 l-10.625,1.875 -1.25,1.25 l3.75,3.125 12.5,3.125 l14.375,-1.875 11.875,-5.625 l0.0,-11.25 -1.875,-5.0 l-13.75,0.625 -6.875,3.75 l-7.5,-1.875 -10.625,5.0 l-5.625,-0.625 -1.25,2.5 l4.375,7.5 -2.5,-6.25 l16.25,0.0 3.75,6.25 l3.125,1.25 \" fill=\"none\" stroke=\"black\" stroke-width=\"1\"/></svg>"
      ],
      "text/plain": [
       "<IPython.core.display.SVG object>"
      ]
     },
     "metadata": {},
     "output_type": "display_data"
    },
    {
     "name": "stdout",
     "output_type": "stream",
     "text": [
      "mouth 8.8163805\n"
     ]
    },
    {
     "data": {
      "image/svg+xml": [
       "<svg baseProfile=\"full\" height=\"94.375\" version=\"1.1\" width=\"111.875\" xmlns=\"http://www.w3.org/2000/svg\" xmlns:ev=\"http://www.w3.org/2001/xml-events\" xmlns:xlink=\"http://www.w3.org/1999/xlink\"><defs/><rect fill=\"white\" height=\"94.375\" width=\"111.875\" x=\"0\" y=\"0\"/><path d=\"M25,31.875 m0.0,0.0 l3.75,0.625 10.625,-5.0 l7.5,1.875 6.875,-3.75 l13.75,-0.625 1.875,5.0 l0.0,11.25 -7.5,4.375 l-18.75,3.125 -12.5,-3.125 l-5.625,-5.0 0.0,1.875 l0.0,-4.375 2.5,3.75 l13.125,-4.375 6.25,5.625 l-6.875,-7.5 -15.0,-0.625 l16.25,0.625 26.875,-4.375 m-43.125,25.0 l6.25,11.25 11.875,1.875 l18.125,-1.875 17.5,-8.125 l8.125,-6.25 \" fill=\"none\" stroke=\"black\" stroke-width=\"1\"/></svg>"
      ],
      "text/plain": [
       "<IPython.core.display.SVG object>"
      ]
     },
     "metadata": {},
     "output_type": "display_data"
    },
    {
     "name": "stdout",
     "output_type": "stream",
     "text": [
      "mouth 3.9478903\n"
     ]
    },
    {
     "data": {
      "image/svg+xml": [
       "<svg baseProfile=\"full\" height=\"94.375\" version=\"1.1\" width=\"111.875\" xmlns=\"http://www.w3.org/2000/svg\" xmlns:ev=\"http://www.w3.org/2001/xml-events\" xmlns:xlink=\"http://www.w3.org/1999/xlink\"><defs/><rect fill=\"white\" height=\"94.375\" width=\"111.875\" x=\"0\" y=\"0\"/><path d=\"M25,26.875 m0.0,0.0 l6.25,2.5 6.875,-3.75 l13.75,-0.625 1.25,2.5 l0.0,4.375 -28.125,3.125 l0.0,3.125 5.0,5.0 l23.75,-10.625 0.625,3.125 l0.0,5.0 -8.125,5.0 l-21.25,2.5 m0.0,20.0 l2.5,1.25 18.125,-1.875 l11.25,-5.0 20.625,-13.75 l9.375,-10.0 \" fill=\"none\" stroke=\"black\" stroke-width=\"1\"/></svg>"
      ],
      "text/plain": [
       "<IPython.core.display.SVG object>"
      ]
     },
     "metadata": {},
     "output_type": "display_data"
    },
    {
     "name": "stdout",
     "output_type": "stream",
     "text": [
      "nose 2.092299\n"
     ]
    },
    {
     "data": {
      "image/svg+xml": [
       "<svg baseProfile=\"full\" height=\"99.375\" version=\"1.1\" width=\"110.625\" xmlns=\"http://www.w3.org/2000/svg\" xmlns:ev=\"http://www.w3.org/2001/xml-events\" xmlns:xlink=\"http://www.w3.org/1999/xlink\"><defs/><rect fill=\"white\" height=\"99.375\" width=\"110.625\" x=\"0\" y=\"0\"/><path d=\"M25,31.875 m0.0,0.0 l11.25,0.0 1.875,5.0 l-0.625,1.875 -12.5,1.875 l13.125,-1.25 0.625,3.125 l-0.625,5.625 -13.125,6.25 m0.0,20.0 l5.0,0.0 17.5,-8.125 l14.375,-10.625 15.625,-16.25 l8.125,-14.375 \" fill=\"none\" stroke=\"black\" stroke-width=\"1\"/></svg>"
      ],
      "text/plain": [
       "<IPython.core.display.SVG object>"
      ]
     },
     "metadata": {},
     "output_type": "display_data"
    },
    {
     "name": "stdout",
     "output_type": "stream",
     "text": [
      "nose 1.8002726\n"
     ]
    },
    {
     "data": {
      "image/svg+xml": [
       "<svg baseProfile=\"full\" height=\"93.75\" version=\"1.1\" width=\"95.0\" xmlns=\"http://www.w3.org/2000/svg\" xmlns:ev=\"http://www.w3.org/2001/xml-events\" xmlns:xlink=\"http://www.w3.org/1999/xlink\"><defs/><rect fill=\"white\" height=\"93.75\" width=\"95.0\" x=\"0\" y=\"0\"/><path d=\"M25,68.75 m0.0,0.0 l6.875,-2.5 14.375,-10.625 l15.625,-16.25 8.125,-14.375 \" fill=\"none\" stroke=\"black\" stroke-width=\"1\"/></svg>"
      ],
      "text/plain": [
       "<IPython.core.display.SVG object>"
      ]
     },
     "metadata": {},
     "output_type": "display_data"
    },
    {
     "data": {
      "image/png": "[encoded data removed]",
      "text/plain": [
       "<matplotlib.figure.Figure at 0x11a89a890>"
      ]
     },
     "metadata": {},
     "output_type": "display_data"
    },
    {
     "name": "stdout",
     "output_type": "stream",
     "text": [
      "INFO:tensorflow:Model using gpu.\n",
      "INFO:tensorflow:Loading model four_class_checkpoint/vector-110000.\n",
      "INFO:tensorflow:Restoring parameters from four_class_checkpoint/vector-110000\n",
      "eye 0.06808424\n"
     ]
    },
    {
     "data": {
      "image/svg+xml": [
       "<svg baseProfile=\"full\" height=\"93.125\" version=\"1.1\" width=\"95.0\" xmlns=\"http://www.w3.org/2000/svg\" xmlns:ev=\"http://www.w3.org/2001/xml-events\" xmlns:xlink=\"http://www.w3.org/1999/xlink\"><defs/><rect fill=\"white\" height=\"93.125\" width=\"95.0\" x=\"0\" y=\"0\"/><path d=\"M25,59.375 m0.0,0.0 l0.625,8.75 1.875,0.0 m3.125,-25.625 l4.375,-10.625 11.875,-6.875 l15.0,0.0 8.125,2.5 m-11.875,14.375 l4.375,-0.625 1.25,2.5 l-7.5,-1.25 -8.75,5.625 l1.25,1.875 -1.875,0.625 l0.0,2.5 3.125,5.625 l-5.0,-0.625 -4.375,-3.75 l6.25,-6.875 4.375,11.25 l6.25,0.625 5.625,-1.875 l6.25,-5.625 0.625,1.875 l-1.25,-6.875 -3.75,-3.75 l5.0,3.125 -3.125,7.5 l-3.75,-2.5 1.25,-2.5 l-15.625,-1.875 \" fill=\"none\" stroke=\"black\" stroke-width=\"1\"/></svg>"
      ],
      "text/plain": [
       "<IPython.core.display.SVG object>"
      ]
     },
     "metadata": {},
     "output_type": "display_data"
    },
    {
     "name": "stdout",
     "output_type": "stream",
     "text": [
      "None 0.93318224\n"
     ]
    },
    {
     "data": {
      "image/svg+xml": [
       "<svg baseProfile=\"full\" height=\"93.125\" version=\"1.1\" width=\"110.625\" xmlns=\"http://www.w3.org/2000/svg\" xmlns:ev=\"http://www.w3.org/2001/xml-events\" xmlns:xlink=\"http://www.w3.org/1999/xlink\"><defs/><rect fill=\"white\" height=\"93.125\" width=\"110.625\" x=\"0\" y=\"0\"/><path d=\"M25,59.375 m0.0,0.0 l0.625,8.75 1.875,0.0 m3.125,-25.625 l4.375,-10.625 11.875,-6.875 l15.0,0.0 11.25,3.75 m-9.375,28.125 l-6.25,2.5 -10.625,-0.625 l-6.25,-4.375 5.0,-5.625 l5.0,8.75 -3.125,-9.375 l8.75,-5.625 7.5,1.25 l0.0,-1.875 -5.625,0.0 l6.875,1.25 3.75,3.75 l0.625,5.0 1.875,-2.5 l-1.875,-2.5 -0.625,5.625 l-3.75,3.75 1.875,-2.5 l-3.75,-2.5 1.25,-2.5 l-15.625,-1.875 -2.5,1.25 m39.375,16.25 l0.0,3.125 m-13.125,-0.625 l0.625,1.25 \" fill=\"none\" stroke=\"black\" stroke-width=\"1\"/></svg>"
      ],
      "text/plain": [
       "<IPython.core.display.SVG object>"
      ]
     },
     "metadata": {},
     "output_type": "display_data"
    },
    {
     "name": "stdout",
     "output_type": "stream",
     "text": [
      "no classification\n",
      "eye 2.0592508\n"
     ]
    },
    {
     "data": {
      "image/svg+xml": [
       "<svg baseProfile=\"full\" height=\"93.125\" version=\"1.1\" width=\"111.875\" xmlns=\"http://www.w3.org/2000/svg\" xmlns:ev=\"http://www.w3.org/2001/xml-events\" xmlns:xlink=\"http://www.w3.org/1999/xlink\"><defs/><rect fill=\"white\" height=\"93.125\" width=\"111.875\" x=\"0\" y=\"0\"/><path d=\"M25,28.125 m0.0,0.0 l7.5,-3.125 15.0,0.0 l10.625,3.125 m-8.75,28.75 l-6.25,2.5 -10.625,-0.625 l-6.25,-4.375 5.0,-5.625 l5.0,8.75 -3.125,-9.375 l8.75,-5.625 7.5,1.25 l0.0,-1.875 -5.625,0.0 l6.875,1.25 3.75,3.75 l0.625,5.0 1.875,-2.5 l-1.875,-2.5 -0.625,5.625 l-3.75,3.75 1.875,-2.5 l-3.75,-2.5 1.25,-2.5 l-15.625,-1.875 -2.5,1.25 m39.375,16.875 l1.25,3.125 m7.5,-39.375 l6.875,-3.125 m-28.75,41.25 l0.625,1.25 28.125,-16.25 \" fill=\"none\" stroke=\"black\" stroke-width=\"1\"/></svg>"
      ],
      "text/plain": [
       "<IPython.core.display.SVG object>"
      ]
     },
     "metadata": {},
     "output_type": "display_data"
    },
    {
     "name": "stdout",
     "output_type": "stream",
     "text": [
      "nose 2.784274\n"
     ]
    },
    {
     "data": {
      "image/svg+xml": [
       "<svg baseProfile=\"full\" height=\"96.25\" version=\"1.1\" width=\"111.875\" xmlns=\"http://www.w3.org/2000/svg\" xmlns:ev=\"http://www.w3.org/2001/xml-events\" xmlns:xlink=\"http://www.w3.org/1999/xlink\"><defs/><rect fill=\"white\" height=\"96.25\" width=\"111.875\" x=\"0\" y=\"0\"/><path d=\"M25,27.5 m0.0,0.0 l18.125,4.375 m-18.125,29.375 l0.0,1.875 10.0,-3.75 l1.875,-2.5 -3.75,-2.5 l1.25,-2.5 3.125,5.0 l1.875,-1.875 -0.625,-5.0 l-4.375,-4.375 -6.25,1.25 l-3.125,-1.875 0.0,2.5 l3.125,-2.5 5.625,0.0 l6.875,6.25 -0.625,3.75 m15.625,13.125 l1.25,3.125 m7.5,-39.375 l11.875,-5.625 10.625,-1.25 m-0.625,18.125 l-6.875,6.25 0.0,-3.75 l-7.5,9.375 6.25,3.75 l8.75,-0.625 0.0,1.875 l-6.25,-3.75 -3.125,-6.875 m-35.0,20.625 l0.625,1.25 \" fill=\"none\" stroke=\"black\" stroke-width=\"1\"/></svg>"
      ],
      "text/plain": [
       "<IPython.core.display.SVG object>"
      ]
     },
     "metadata": {},
     "output_type": "display_data"
    },
    {
     "name": "stdout",
     "output_type": "stream",
     "text": [
      "mouth 1.7898191\n"
     ]
    },
    {
     "data": {
      "image/svg+xml": [
       "<svg baseProfile=\"full\" height=\"96.25\" version=\"1.1\" width=\"111.875\" xmlns=\"http://www.w3.org/2000/svg\" xmlns:ev=\"http://www.w3.org/2001/xml-events\" xmlns:xlink=\"http://www.w3.org/1999/xlink\"><defs/><rect fill=\"white\" height=\"96.25\" width=\"111.875\" x=\"0\" y=\"0\"/><path d=\"M25,30.0 m0.0,0.0 l2.5,1.875 m-2.5,18.125 l0.0,5.625 m15.0,12.5 l1.25,3.125 m7.5,-39.375 l11.875,-5.625 8.75,-1.25 l6.25,0.0 11.25,4.375 m-13.125,13.75 l8.125,0.0 3.125,3.125 l0.625,6.25 1.25,-6.25 l0.0,6.25 -6.25,0.0 l0.0,-3.75 2.5,5.625 l-5.625,3.75 -6.25,1.25 l-6.25,-3.125 -3.75,-7.5 l-5.0,5.0 1.875,3.125 l7.5,1.875 -3.125,-11.875 l3.125,-0.625 -1.875,3.125 l3.125,-4.375 8.75,-4.375 l6.25,1.875 m-55.0,27.5 l0.625,1.25 \" fill=\"none\" stroke=\"black\" stroke-width=\"1\"/></svg>"
      ],
      "text/plain": [
       "<IPython.core.display.SVG object>"
      ]
     },
     "metadata": {},
     "output_type": "display_data"
    },
    {
     "name": "stdout",
     "output_type": "stream",
     "text": [
      "nose 2.2699237\n"
     ]
    },
    {
     "data": {
      "image/svg+xml": [
       "<svg baseProfile=\"full\" height=\"96.25\" version=\"1.1\" width=\"102.5\" xmlns=\"http://www.w3.org/2000/svg\" xmlns:ev=\"http://www.w3.org/2001/xml-events\" xmlns:xlink=\"http://www.w3.org/1999/xlink\"><defs/><rect fill=\"white\" height=\"96.25\" width=\"102.5\" x=\"0\" y=\"0\"/><path d=\"M25,67.5 m0.0,0.0 l0.625,3.75 m7.5,-39.375 l11.875,-5.625 15.0,-1.25 l11.25,3.75 6.25,10.0 m-19.375,4.375 l8.125,0.0 3.125,3.125 l0.0,5.625 2.5,-1.25 l-1.875,-3.75 -0.625,5.625 l-1.875,1.25 -3.75,-2.5 l1.25,-2.5 2.5,5.625 l-5.625,3.75 -6.25,1.25 l-6.25,-3.125 -3.75,-7.5 l-5.0,5.0 1.875,3.125 l7.5,1.875 -3.125,-11.875 l3.125,-0.625 -1.875,3.125 l3.125,-4.375 8.75,-4.375 l6.25,1.875 \" fill=\"none\" stroke=\"black\" stroke-width=\"1\"/></svg>"
      ],
      "text/plain": [
       "<IPython.core.display.SVG object>"
      ]
     },
     "metadata": {},
     "output_type": "display_data"
    },
    {
     "name": "stdout",
     "output_type": "stream",
     "text": [
      "mouth 3.812953\n"
     ]
    },
    {
     "data": {
      "image/svg+xml": [
       "<svg baseProfile=\"full\" height=\"96.25\" version=\"1.1\" width=\"98.125\" xmlns=\"http://www.w3.org/2000/svg\" xmlns:ev=\"http://www.w3.org/2001/xml-events\" xmlns:xlink=\"http://www.w3.org/1999/xlink\"><defs/><rect fill=\"white\" height=\"96.25\" width=\"98.125\" x=\"0\" y=\"0\"/><path d=\"M25,27.5 m0.0,0.0 l13.125,-2.5 10.625,1.25 l6.875,2.5 6.25,10.0 m-8.75,6.875 l-3.75,-4.375 -5.0,-0.625 l-1.875,2.5 7.5,0.625 l-9.375,-1.25 -5.0,2.5 l-3.125,4.375 0.0,-3.75 l-7.5,7.5 0.0,2.5 l6.25,3.125 13.125,0.0 l11.875,-8.125 -2.5,-4.375 l0.0,5.625 -4.375,0.625 l0.0,-3.75 -15.0,8.125 l-3.75,-7.5 m40.625,21.875 l1.875,0.0 0.0,-15.625 \" fill=\"none\" stroke=\"black\" stroke-width=\"1\"/></svg>"
      ],
      "text/plain": [
       "<IPython.core.display.SVG object>"
      ]
     },
     "metadata": {},
     "output_type": "display_data"
    },
    {
     "name": "stdout",
     "output_type": "stream",
     "text": [
      "mouth 0.52157676\n"
     ]
    },
    {
     "data": {
      "image/svg+xml": [
       "<svg baseProfile=\"full\" height=\"108.75\" version=\"1.1\" width=\"95.0\" xmlns=\"http://www.w3.org/2000/svg\" xmlns:ev=\"http://www.w3.org/2001/xml-events\" xmlns:xlink=\"http://www.w3.org/1999/xlink\"><defs/><rect fill=\"white\" height=\"108.75\" width=\"95.0\" x=\"0\" y=\"0\"/><path d=\"M25,59.375 m0.0,0.0 l5.0,24.375 m0.625,-41.25 l4.375,-10.625 11.875,-6.875 l15.0,0.0 8.125,2.5 m-11.875,14.375 l4.375,-0.625 1.25,2.5 l-7.5,-1.25 -8.75,5.625 l1.25,1.875 -1.875,0.625 l0.0,2.5 3.125,5.625 l-5.0,-0.625 -4.375,-3.75 l6.25,-6.875 4.375,11.25 l6.25,0.625 5.625,-1.875 l6.25,-5.625 0.625,1.875 l-1.25,-6.875 -3.75,-3.75 l5.0,3.125 -3.125,7.5 l-3.75,-2.5 1.25,-2.5 l-15.625,-1.875 \" fill=\"none\" stroke=\"black\" stroke-width=\"1\"/></svg>"
      ],
      "text/plain": [
       "<IPython.core.display.SVG object>"
      ]
     },
     "metadata": {},
     "output_type": "display_data"
    },
    {
     "name": "stdout",
     "output_type": "stream",
     "text": [
      "eye 1.1656437\n"
     ]
    },
    {
     "data": {
      "image/svg+xml": [
       "<svg baseProfile=\"full\" height=\"108.75\" version=\"1.1\" width=\"110.625\" xmlns=\"http://www.w3.org/2000/svg\" xmlns:ev=\"http://www.w3.org/2001/xml-events\" xmlns:xlink=\"http://www.w3.org/1999/xlink\"><defs/><rect fill=\"white\" height=\"108.75\" width=\"110.625\" x=\"0\" y=\"0\"/><path d=\"M25,59.375 m0.0,0.0 l5.0,24.375 m0.625,-41.25 l4.375,-10.625 11.875,-6.875 l15.0,0.0 11.25,3.75 m-9.375,28.125 l-6.25,2.5 -10.625,-0.625 l-6.25,-4.375 5.0,-5.625 l5.0,8.75 -3.125,-9.375 l8.75,-5.625 7.5,1.25 l0.0,-1.875 -5.625,0.0 l6.875,1.25 3.75,3.75 l0.625,5.0 1.875,-2.5 l-1.875,-2.5 -0.625,5.625 l-3.75,3.75 1.875,-2.5 l-3.75,-2.5 1.25,-2.5 l-15.625,-1.875 -2.5,1.25 m26.25,18.75 l1.25,15.625 -2.5,1.25 l1.875,0.0 m12.5,-19.375 l0.0,3.125 \" fill=\"none\" stroke=\"black\" stroke-width=\"1\"/></svg>"
      ],
      "text/plain": [
       "<IPython.core.display.SVG object>"
      ]
     },
     "metadata": {},
     "output_type": "display_data"
    },
    {
     "name": "stdout",
     "output_type": "stream",
     "text": [
      "mouth 1.4203745\n"
     ]
    },
    {
     "data": {
      "image/svg+xml": [
       "<svg baseProfile=\"full\" height=\"108.75\" version=\"1.1\" width=\"111.875\" xmlns=\"http://www.w3.org/2000/svg\" xmlns:ev=\"http://www.w3.org/2001/xml-events\" xmlns:xlink=\"http://www.w3.org/1999/xlink\"><defs/><rect fill=\"white\" height=\"108.75\" width=\"111.875\" x=\"0\" y=\"0\"/><path d=\"M25,28.125 m0.0,0.0 l7.5,-3.125 15.0,0.0 l10.625,3.125 m-8.75,28.75 l-6.25,2.5 -10.625,-0.625 l-6.25,-4.375 5.0,-5.625 l5.0,8.75 -3.125,-9.375 l8.75,-5.625 7.5,1.25 l0.0,-1.875 -5.625,0.0 l6.875,1.25 3.75,3.75 l0.625,5.0 1.875,-2.5 l-1.875,-2.5 -0.625,5.625 l-3.75,3.75 1.875,-2.5 l-3.75,-2.5 1.25,-2.5 l-15.625,-1.875 -2.5,1.25 m26.25,18.75 l1.25,15.625 -2.5,1.25 l1.875,0.0 m12.5,-18.75 l1.25,18.75 m7.5,-55.0 l6.875,-3.125 \" fill=\"none\" stroke=\"black\" stroke-width=\"1\"/></svg>"
      ],
      "text/plain": [
       "<IPython.core.display.SVG object>"
      ]
     },
     "metadata": {},
     "output_type": "display_data"
    },
    {
     "name": "stdout",
     "output_type": "stream",
     "text": [
      "nose 1.820506\n"
     ]
    },
    {
     "data": {
      "image/svg+xml": [
       "<svg baseProfile=\"full\" height=\"111.875\" version=\"1.1\" width=\"111.875\" xmlns=\"http://www.w3.org/2000/svg\" xmlns:ev=\"http://www.w3.org/2001/xml-events\" xmlns:xlink=\"http://www.w3.org/1999/xlink\"><defs/><rect fill=\"white\" height=\"111.875\" width=\"111.875\" x=\"0\" y=\"0\"/><path d=\"M25,27.5 m0.0,0.0 l18.125,4.375 m-18.125,29.375 l0.0,1.875 10.0,-3.75 l1.875,-2.5 -3.75,-2.5 l1.25,-2.5 3.125,5.0 l1.875,-1.875 -0.625,-5.0 l-4.375,-4.375 -6.25,1.25 l-3.125,-1.875 0.0,2.5 l3.125,-2.5 5.625,0.0 l6.875,6.25 -0.625,3.75 m2.5,15.0 l1.25,15.625 -2.5,1.25 l1.875,0.0 m12.5,-18.75 l1.25,18.75 m7.5,-55.0 l11.875,-5.625 10.625,-1.25 m-0.625,18.125 l-6.875,6.25 0.0,-3.75 l-7.5,9.375 6.25,3.75 l8.75,-0.625 0.0,1.875 l-6.25,-3.75 -3.125,-6.875 \" fill=\"none\" stroke=\"black\" stroke-width=\"1\"/></svg>"
      ],
      "text/plain": [
       "<IPython.core.display.SVG object>"
      ]
     },
     "metadata": {},
     "output_type": "display_data"
    },
    {
     "name": "stdout",
     "output_type": "stream",
     "text": [
      "nose 1.3201065\n"
     ]
    },
    {
     "data": {
      "image/svg+xml": [
       "<svg baseProfile=\"full\" height=\"111.875\" version=\"1.1\" width=\"111.875\" xmlns=\"http://www.w3.org/2000/svg\" xmlns:ev=\"http://www.w3.org/2001/xml-events\" xmlns:xlink=\"http://www.w3.org/1999/xlink\"><defs/><rect fill=\"white\" height=\"111.875\" width=\"111.875\" x=\"0\" y=\"0\"/><path d=\"M25,30.0 m0.0,0.0 l2.5,1.875 m-2.5,18.125 l0.0,5.625 m1.875,14.375 l1.25,15.625 -2.5,1.25 l1.875,0.0 m12.5,-18.75 l1.25,18.75 m7.5,-55.0 l18.125,-6.875 10.0,0.0 l10.0,5.0 0.0,-1.875 m-13.125,15.0 l8.125,0.0 3.125,3.125 l0.625,6.25 1.25,-6.25 l0.0,6.25 -6.25,0.0 l0.0,-3.75 2.5,5.625 l-5.625,3.75 -6.25,1.25 l-6.25,-3.125 -3.75,-7.5 l-5.0,5.0 1.875,3.125 l7.5,1.875 -3.125,-11.875 l3.125,-0.625 -1.875,3.125 l3.125,-4.375 8.75,-4.375 l6.25,1.875 \" fill=\"none\" stroke=\"black\" stroke-width=\"1\"/></svg>"
      ],
      "text/plain": [
       "<IPython.core.display.SVG object>"
      ]
     },
     "metadata": {},
     "output_type": "display_data"
    },
    {
     "name": "stdout",
     "output_type": "stream",
     "text": [
      "nose 1.1691107\n"
     ]
    },
    {
     "data": {
      "image/svg+xml": [
       "<svg baseProfile=\"full\" height=\"111.875\" version=\"1.1\" width=\"111.875\" xmlns=\"http://www.w3.org/2000/svg\" xmlns:ev=\"http://www.w3.org/2001/xml-events\" xmlns:xlink=\"http://www.w3.org/1999/xlink\"><defs/><rect fill=\"white\" height=\"111.875\" width=\"111.875\" x=\"0\" y=\"0\"/><path d=\"M25,67.5 m0.0,0.0 l0.0,19.375 m8.125,-55.0 l11.875,-5.625 16.25,-1.25 l10.0,3.75 6.25,10.0 m-19.375,4.375 l8.125,0.0 3.125,3.125 l0.0,5.625 2.5,-1.25 l-1.875,-3.75 -0.625,5.625 l-1.875,1.25 -3.75,-2.5 l1.25,-2.5 2.5,5.625 l-5.625,3.75 -6.25,1.25 l-6.25,-3.125 -3.75,-7.5 l-5.0,5.0 1.875,3.125 l7.5,1.875 -3.125,-11.875 l3.125,-0.625 -1.875,3.125 l3.125,-4.375 8.75,-4.375 l6.25,1.875 m19.375,44.375 l1.25,-15.0 \" fill=\"none\" stroke=\"black\" stroke-width=\"1\"/></svg>"
      ],
      "text/plain": [
       "<IPython.core.display.SVG object>"
      ]
     },
     "metadata": {},
     "output_type": "display_data"
    },
    {
     "name": "stdout",
     "output_type": "stream",
     "text": [
      "nose 1.79535\n"
     ]
    },
    {
     "data": {
      "image/svg+xml": [
       "<svg baseProfile=\"full\" height=\"111.875\" version=\"1.1\" width=\"98.125\" xmlns=\"http://www.w3.org/2000/svg\" xmlns:ev=\"http://www.w3.org/2001/xml-events\" xmlns:xlink=\"http://www.w3.org/1999/xlink\"><defs/><rect fill=\"white\" height=\"111.875\" width=\"98.125\" x=\"0\" y=\"0\"/><path d=\"M25,27.5 m0.0,0.0 l20.625,-2.5 10.0,3.75 l6.25,10.0 m-8.75,6.875 l-3.75,-4.375 -5.0,-0.625 l-1.875,2.5 7.5,0.625 l-9.375,-1.25 -5.0,2.5 l-3.125,4.375 0.0,-3.75 l-7.5,7.5 0.0,2.5 l6.25,3.125 13.125,0.0 l11.875,-8.125 -2.5,-4.375 l0.0,5.625 -4.375,0.625 l0.0,-3.75 -15.0,8.125 l-3.75,-7.5 m42.5,5.625 l-3.125,31.875 \" fill=\"none\" stroke=\"black\" stroke-width=\"1\"/></svg>"
      ],
      "text/plain": [
       "<IPython.core.display.SVG object>"
      ]
     },
     "metadata": {},
     "output_type": "display_data"
    },
    {
     "name": "stdout",
     "output_type": "stream",
     "text": [
      "mouth 0.6279042\n"
     ]
    },
    {
     "data": {
      "image/svg+xml": [
       "<svg baseProfile=\"full\" height=\"111.875\" version=\"1.1\" width=\"95.0\" xmlns=\"http://www.w3.org/2000/svg\" xmlns:ev=\"http://www.w3.org/2001/xml-events\" xmlns:xlink=\"http://www.w3.org/1999/xlink\"><defs/><rect fill=\"white\" height=\"111.875\" width=\"95.0\" x=\"0\" y=\"0\"/><path d=\"M25,46.875 m0.0,0.0 l10.0,40.0 m-4.375,-56.875 l1.875,-5.0 m25.625,4.375 l4.375,-0.625 1.25,2.5 l-7.5,-1.25 -8.75,5.625 l1.25,1.875 -1.875,0.625 l0.0,2.5 3.125,5.625 l-5.0,-0.625 -4.375,-3.75 l6.25,-6.875 4.375,11.25 l6.25,0.625 5.625,-1.875 l6.25,-5.625 0.625,1.875 l-1.25,-6.875 -3.75,-3.75 l5.0,3.125 -3.125,7.5 l-3.75,-2.5 1.25,-2.5 l-15.625,-1.875 \" fill=\"none\" stroke=\"black\" stroke-width=\"1\"/></svg>"
      ],
      "text/plain": [
       "<IPython.core.display.SVG object>"
      ]
     },
     "metadata": {},
     "output_type": "display_data"
    },
    {
     "name": "stdout",
     "output_type": "stream",
     "text": [
      "mouth 0.8863976\n"
     ]
    },
    {
     "data": {
      "image/svg+xml": [
       "<svg baseProfile=\"full\" height=\"111.875\" version=\"1.1\" width=\"110.625\" xmlns=\"http://www.w3.org/2000/svg\" xmlns:ev=\"http://www.w3.org/2001/xml-events\" xmlns:xlink=\"http://www.w3.org/1999/xlink\"><defs/><rect fill=\"white\" height=\"111.875\" width=\"110.625\" x=\"0\" y=\"0\"/><path d=\"M25,46.875 m0.0,0.0 l10.0,40.0 m-4.375,-56.875 l1.875,-5.0 m31.25,19.375 l-6.25,2.5 -10.625,-0.625 l-6.25,-4.375 5.0,-5.625 l5.0,8.75 -3.125,-9.375 l8.75,-5.625 7.5,1.25 l0.0,-1.875 -5.625,0.0 l6.875,1.25 3.75,3.75 l0.625,5.0 1.875,-2.5 l-1.875,-2.5 -0.625,5.625 l-3.75,3.75 1.875,-2.5 l-3.75,-2.5 1.25,-2.5 l-15.625,-1.875 -2.5,1.25 m26.25,18.75 l1.25,15.625 -2.5,3.125 l0.0,5.625 3.75,4.375 m6.875,-1.25 l3.75,-1.875 m0.0,-28.125 l0.0,3.125 \" fill=\"none\" stroke=\"black\" stroke-width=\"1\"/></svg>"
      ],
      "text/plain": [
       "<IPython.core.display.SVG object>"
      ]
     },
     "metadata": {},
     "output_type": "display_data"
    },
    {
     "name": "stdout",
     "output_type": "stream",
     "text": [
      "mouth 1.6052186\n"
     ]
    },
    {
     "data": {
      "image/svg+xml": [
       "<svg baseProfile=\"full\" height=\"106.25\" version=\"1.1\" width=\"100.625\" xmlns=\"http://www.w3.org/2000/svg\" xmlns:ev=\"http://www.w3.org/2001/xml-events\" xmlns:xlink=\"http://www.w3.org/1999/xlink\"><defs/><rect fill=\"white\" height=\"106.25\" width=\"100.625\" x=\"0\" y=\"0\"/><path d=\"M48.125,40.0 m0.0,0.0 l-6.25,2.5 -10.625,-0.625 l-6.25,-4.375 5.0,-5.625 l5.0,8.75 -3.125,-9.375 l8.75,-5.625 7.5,1.25 l0.0,-1.875 -5.625,0.0 l6.875,1.25 3.75,3.75 l0.625,5.0 1.875,-2.5 l-1.875,-2.5 -0.625,5.625 l-3.75,3.75 1.875,-2.5 l-3.75,-2.5 1.25,-2.5 l-15.625,-1.875 -2.5,1.25 m26.25,18.75 l1.25,15.625 -2.5,3.125 l0.0,5.625 3.75,4.375 m6.875,-1.25 l4.375,-1.25 3.125,5.0 l-2.5,-5.625 4.375,-3.125 l0.0,-3.125 -5.0,-2.5 l-0.625,-18.75 \" fill=\"none\" stroke=\"black\" stroke-width=\"1\"/></svg>"
      ],
      "text/plain": [
       "<IPython.core.display.SVG object>"
      ]
     },
     "metadata": {},
     "output_type": "display_data"
    },
    {
     "name": "stdout",
     "output_type": "stream",
     "text": [
      "nose 1.2942146\n"
     ]
    },
    {
     "data": {
      "image/svg+xml": [
       "<svg baseProfile=\"full\" height=\"108.125\" version=\"1.1\" width=\"111.875\" xmlns=\"http://www.w3.org/2000/svg\" xmlns:ev=\"http://www.w3.org/2001/xml-events\" xmlns:xlink=\"http://www.w3.org/1999/xlink\"><defs/><rect fill=\"white\" height=\"108.125\" width=\"111.875\" x=\"0\" y=\"0\"/><path d=\"M25,43.125 m0.0,0.0 l0.0,1.875 10.0,-3.75 l1.875,-2.5 -3.75,-2.5 l1.25,-2.5 3.125,5.0 l1.875,-1.875 -0.625,-5.0 l-4.375,-4.375 -6.25,1.25 l-3.125,-1.875 0.0,2.5 l3.125,-2.5 5.625,0.0 l6.875,6.25 -0.625,3.75 m2.5,15.0 l1.25,15.625 -2.5,3.125 l0.0,5.625 3.75,4.375 m6.875,-1.25 l4.375,-1.25 3.125,5.0 l-2.5,-5.625 4.375,-3.125 l0.0,-3.125 -5.0,-2.5 l-0.625,-18.75 m30.625,-25.0 l-6.875,6.25 0.0,-3.75 l-7.5,9.375 6.25,3.75 l8.75,-0.625 0.0,1.875 l-6.25,-3.75 -3.125,-6.875 \" fill=\"none\" stroke=\"black\" stroke-width=\"1\"/></svg>"
      ],
      "text/plain": [
       "<IPython.core.display.SVG object>"
      ]
     },
     "metadata": {},
     "output_type": "display_data"
    },
    {
     "name": "stdout",
     "output_type": "stream",
     "text": [
      "nose 2.8562403\n"
     ]
    },
    {
     "data": {
      "image/svg+xml": [
       "<svg baseProfile=\"full\" height=\"110.625\" version=\"1.1\" width=\"111.875\" xmlns=\"http://www.w3.org/2000/svg\" xmlns:ev=\"http://www.w3.org/2001/xml-events\" xmlns:xlink=\"http://www.w3.org/1999/xlink\"><defs/><rect fill=\"white\" height=\"110.625\" width=\"111.875\" x=\"0\" y=\"0\"/><path d=\"M25,34.375 m0.0,0.0 l0.0,5.625 m1.875,14.375 l1.25,15.625 -3.125,2.5 l0.0,6.25 5.0,4.375 m6.25,-1.25 l4.375,-1.25 3.125,5.0 l-2.5,-5.625 4.375,-3.125 l0.0,-3.125 -5.0,-2.5 l-0.625,-18.75 m33.125,-26.25 l7.5,-1.25 4.375,5.625 l0.0,6.25 1.875,-0.625 l0.0,-5.625 0.0,6.25 l-6.25,0.0 0.0,-3.75 l2.5,5.625 -5.625,3.75 l-6.25,1.25 -6.25,-3.125 l-3.75,-7.5 -5.0,5.0 l1.875,3.125 7.5,1.875 l-3.125,-11.875 3.125,-0.625 l-1.875,3.125 3.125,-4.375 l5.0,-2.5 9.375,1.25 l-1.875,-2.5 \" fill=\"none\" stroke=\"black\" stroke-width=\"1\"/></svg>"
      ],
      "text/plain": [
       "<IPython.core.display.SVG object>"
      ]
     },
     "metadata": {},
     "output_type": "display_data"
    },
    {
     "name": "stdout",
     "output_type": "stream",
     "text": [
      "nose 3.442555\n"
     ]
    },
    {
     "data": {
      "image/svg+xml": [
       "<svg baseProfile=\"full\" height=\"111.875\" version=\"1.1\" width=\"111.875\" xmlns=\"http://www.w3.org/2000/svg\" xmlns:ev=\"http://www.w3.org/2001/xml-events\" xmlns:xlink=\"http://www.w3.org/1999/xlink\"><defs/><rect fill=\"white\" height=\"111.875\" width=\"111.875\" x=\"0\" y=\"0\"/><path d=\"M25,51.875 m0.0,0.0 l0.0,20.625 5.0,1.25 l0.0,3.125 -5.0,2.5 l3.125,6.25 -3.125,-3.125 m32.5,-56.25 l7.5,-1.25 4.375,5.625 l0.0,6.25 2.5,-1.875 l-1.875,-3.75 -2.5,6.875 l-3.75,-2.5 1.25,-2.5 l2.5,5.625 -5.625,3.75 l-6.25,1.25 -6.25,-3.125 l-3.75,-7.5 -5.0,5.0 l1.875,3.125 7.5,1.875 l-3.125,-11.875 3.125,-0.625 l-1.875,3.125 3.125,-4.375 l5.0,-2.5 9.375,1.25 l-1.875,-2.5 m19.375,61.25 l3.75,-20.625 0.0,-10.625 l0.0,11.875 \" fill=\"none\" stroke=\"black\" stroke-width=\"1\"/></svg>"
      ],
      "text/plain": [
       "<IPython.core.display.SVG object>"
      ]
     },
     "metadata": {},
     "output_type": "display_data"
    },
    {
     "name": "stdout",
     "output_type": "stream",
     "text": [
      "mouth 3.5646925\n"
     ]
    },
    {
     "data": {
      "image/svg+xml": [
       "<svg baseProfile=\"full\" height=\"111.875\" version=\"1.1\" width=\"98.125\" xmlns=\"http://www.w3.org/2000/svg\" xmlns:ev=\"http://www.w3.org/2001/xml-events\" xmlns:xlink=\"http://www.w3.org/1999/xlink\"><defs/><rect fill=\"white\" height=\"111.875\" width=\"98.125\" x=\"0\" y=\"0\"/><path d=\"M50.625,26.875 m0.0,0.0 l-1.25,-1.875 -7.5,0.0 l0.625,2.5 5.625,0.0 l0.0,-1.875 0.625,2.5 l1.875,-0.625 3.125,3.125 l0.625,6.25 1.875,-3.75 l-1.875,-1.875 -1.875,6.875 l-4.375,-2.5 1.25,-2.5 l2.5,5.625 -3.125,2.5 l-10.625,2.5 -3.125,-1.875 l-3.75,1.25 -6.25,-3.75 l7.5,-9.375 1.875,0.625 l-1.875,3.125 3.125,-4.375 l5.625,-2.5 -10.625,6.875 l3.75,7.5 -9.375,-1.25 m48.125,-0.625 l-0.625,16.25 -5.0,31.25 \" fill=\"none\" stroke=\"black\" stroke-width=\"1\"/></svg>"
      ],
      "text/plain": [
       "<IPython.core.display.SVG object>"
      ]
     },
     "metadata": {},
     "output_type": "display_data"
    },
    {
     "name": "stdout",
     "output_type": "stream",
     "text": [
      "nose 2.6615925\n"
     ]
    },
    {
     "data": {
      "image/svg+xml": [
       "<svg baseProfile=\"full\" height=\"111.875\" version=\"1.1\" width=\"95.0\" xmlns=\"http://www.w3.org/2000/svg\" xmlns:ev=\"http://www.w3.org/2001/xml-events\" xmlns:xlink=\"http://www.w3.org/1999/xlink\"><defs/><rect fill=\"white\" height=\"111.875\" width=\"95.0\" x=\"0\" y=\"0\"/><path d=\"M25,31.25 m0.0,0.0 l10.0,42.5 6.25,13.125 m-0.625,-61.25 l1.25,-0.625 -1.25,1.25 l3.125,3.125 6.25,1.25 l-2.5,-5.625 5.625,6.25 l10.0,-1.875 4.375,-3.75 l-3.125,-0.625 5.625,0.625 m-5.0,55.0 l4.375,1.875 0.625,-1.875 l0.0,4.375 m-4.375,-0.625 l1.25,2.5 \" fill=\"none\" stroke=\"black\" stroke-width=\"1\"/></svg>"
      ],
      "text/plain": [
       "<IPython.core.display.SVG object>"
      ]
     },
     "metadata": {},
     "output_type": "display_data"
    },
    {
     "name": "stdout",
     "output_type": "stream",
     "text": [
      "nose 1.5800518\n"
     ]
    },
    {
     "data": {
      "image/svg+xml": [
       "<svg baseProfile=\"full\" height=\"111.875\" version=\"1.1\" width=\"110.625\" xmlns=\"http://www.w3.org/2000/svg\" xmlns:ev=\"http://www.w3.org/2001/xml-events\" xmlns:xlink=\"http://www.w3.org/1999/xlink\"><defs/><rect fill=\"white\" height=\"111.875\" width=\"110.625\" x=\"0\" y=\"0\"/><path d=\"M25,31.25 m0.0,0.0 l10.0,42.5 6.25,13.125 m-0.625,-61.25 l1.25,-0.625 -1.25,1.25 l4.375,3.75 5.625,0.0 l-3.125,-5.0 3.75,5.625 l6.25,0.625 7.5,-3.125 l2.5,-2.5 -3.125,-0.625 l5.625,0.0 m1.875,58.75 l-1.875,-2.5 -0.625,1.25 l-4.375,-1.875 5.625,3.75 l0.0,2.5 1.875,-2.5 l5.625,2.5 m-12.5,-2.5 l1.25,2.5 m5.625,-48.125 l1.25,15.625 -2.5,3.125 l0.0,5.625 3.75,4.375 m6.875,-1.25 l3.75,-1.875 m0.0,-28.125 l0.0,3.125 \" fill=\"none\" stroke=\"black\" stroke-width=\"1\"/></svg>"
      ],
      "text/plain": [
       "<IPython.core.display.SVG object>"
      ]
     },
     "metadata": {},
     "output_type": "display_data"
    },
    {
     "name": "stdout",
     "output_type": "stream",
     "text": [
      "nose 3.2357898\n"
     ]
    },
    {
     "data": {
      "image/svg+xml": [
       "<svg baseProfile=\"full\" height=\"111.875\" version=\"1.1\" width=\"101.875\" xmlns=\"http://www.w3.org/2000/svg\" xmlns:ev=\"http://www.w3.org/2001/xml-events\" xmlns:xlink=\"http://www.w3.org/1999/xlink\"><defs/><rect fill=\"white\" height=\"111.875\" width=\"101.875\" x=\"0\" y=\"0\"/><path d=\"M25,82.5 m0.0,0.0 l0.0,3.75 1.875,0.625 m-0.625,-61.25 l1.25,-0.625 -1.25,1.25 l4.375,3.75 5.625,0.0 l-3.125,-5.0 3.75,5.625 l6.25,0.625 7.5,-3.125 l2.5,-2.5 -3.125,-0.625 l5.625,0.0 m1.875,58.75 l-1.875,-2.5 -0.625,1.25 l-4.375,-1.875 5.625,3.75 l0.0,2.5 1.875,-2.5 l5.625,2.5 m-12.5,-2.5 l1.25,2.5 m5.625,-48.125 l1.25,15.625 -2.5,3.125 l0.0,5.625 3.75,4.375 m6.875,-1.25 l4.375,-1.25 3.125,5.0 l-2.5,-5.625 4.375,-3.125 l0.0,-3.125 -5.0,-2.5 l-0.625,-18.75 \" fill=\"none\" stroke=\"black\" stroke-width=\"1\"/></svg>"
      ],
      "text/plain": [
       "<IPython.core.display.SVG object>"
      ]
     },
     "metadata": {},
     "output_type": "display_data"
    },
    {
     "name": "stdout",
     "output_type": "stream",
     "text": [
      "nose 4.6548157\n"
     ]
    },
    {
     "data": {
      "image/svg+xml": [
       "<svg baseProfile=\"full\" height=\"111.875\" version=\"1.1\" width=\"111.875\" xmlns=\"http://www.w3.org/2000/svg\" xmlns:ev=\"http://www.w3.org/2001/xml-events\" xmlns:xlink=\"http://www.w3.org/1999/xlink\"><defs/><rect fill=\"white\" height=\"111.875\" width=\"111.875\" x=\"0\" y=\"0\"/><path d=\"M25,30.0 m0.0,0.0 l0.0,1.875 2.5,-0.625 l7.5,-3.125 2.5,-2.5 l-3.125,-0.625 5.625,0.0 m1.875,58.75 l-1.875,-2.5 -0.625,1.25 l-4.375,-1.875 5.625,3.75 l0.0,2.5 1.875,-2.5 l5.625,2.5 m-12.5,-2.5 l1.25,2.5 m5.625,-48.125 l1.25,15.625 -2.5,3.125 l0.0,5.625 3.75,4.375 m6.875,-1.25 l4.375,-1.25 3.125,5.0 l-2.5,-5.625 4.375,-3.125 l0.0,-3.125 -5.0,-2.5 l-0.625,-18.75 m16.875,-11.875 l5.625,2.5 3.125,0.0 l0.625,-2.5 -1.875,0.0 l3.125,2.5 3.75,0.0 m-7.5,59.375 l3.125,0.0 1.25,-2.5 l1.875,2.5 -1.875,-3.125 l0.625,-3.75 \" fill=\"none\" stroke=\"black\" stroke-width=\"1\"/></svg>"
      ],
      "text/plain": [
       "<IPython.core.display.SVG object>"
      ]
     },
     "metadata": {},
     "output_type": "display_data"
    },
    {
     "name": "stdout",
     "output_type": "stream",
     "text": [
      "nose 4.4443264\n"
     ]
    },
    {
     "data": {
      "image/svg+xml": [
       "<svg baseProfile=\"full\" height=\"111.875\" version=\"1.1\" width=\"107.5\" xmlns=\"http://www.w3.org/2000/svg\" xmlns:ev=\"http://www.w3.org/2001/xml-events\" xmlns:xlink=\"http://www.w3.org/1999/xlink\"><defs/><rect fill=\"white\" height=\"111.875\" width=\"107.5\" x=\"0\" y=\"0\"/><path d=\"M26.875,38.75 m0.0,0.0 l1.25,15.625 -3.125,2.5 l0.0,6.25 5.0,4.375 m1.875,19.375 l-6.875,-3.125 0.0,-2.5 l1.25,5.625 m10.0,-20.625 l4.375,-1.25 3.125,5.0 l-2.5,-5.625 4.375,-3.125 l0.0,-3.125 -5.0,-2.5 l-0.625,-18.75 m16.875,-11.875 l5.625,2.5 3.125,0.0 l0.625,-2.5 -1.875,0.0 l5.0,3.125 13.125,-3.125 m-18.75,61.875 l3.125,0.0 1.25,-2.5 l1.875,2.5 -1.875,-3.125 l0.625,-3.75 \" fill=\"none\" stroke=\"black\" stroke-width=\"1\"/></svg>"
      ],
      "text/plain": [
       "<IPython.core.display.SVG object>"
      ]
     },
     "metadata": {},
     "output_type": "display_data"
    },
    {
     "name": "stdout",
     "output_type": "stream",
     "text": [
      "nose 4.6110625\n"
     ]
    },
    {
     "data": {
      "image/svg+xml": [
       "<svg baseProfile=\"full\" height=\"111.875\" version=\"1.1\" width=\"111.875\" xmlns=\"http://www.w3.org/2000/svg\" xmlns:ev=\"http://www.w3.org/2001/xml-events\" xmlns:xlink=\"http://www.w3.org/1999/xlink\"><defs/><rect fill=\"white\" height=\"111.875\" width=\"111.875\" x=\"0\" y=\"0\"/><path d=\"M25,36.25 m0.0,0.0 l0.0,20.625 5.0,1.25 l0.0,3.125 -5.0,2.5 l3.125,6.25 -3.125,-3.125 m16.25,-41.875 l5.625,2.5 3.125,0.0 l0.625,-2.5 -1.875,0.0 l5.0,3.125 13.125,-3.125 m-18.75,61.875 l3.125,0.0 1.25,-2.5 l1.875,2.5 -1.875,-3.125 l0.625,-3.75 m33.125,-28.125 l0.625,-11.875 0.0,11.875 l-8.125,35.0 \" fill=\"none\" stroke=\"black\" stroke-width=\"1\"/></svg>"
      ],
      "text/plain": [
       "<IPython.core.display.SVG object>"
      ]
     },
     "metadata": {},
     "output_type": "display_data"
    },
    {
     "name": "stdout",
     "output_type": "stream",
     "text": [
      "nose 5.2947965\n"
     ]
    },
    {
     "data": {
      "image/svg+xml": [
       "<svg baseProfile=\"full\" height=\"111.875\" version=\"1.1\" width=\"98.125\" xmlns=\"http://www.w3.org/2000/svg\" xmlns:ev=\"http://www.w3.org/2001/xml-events\" xmlns:xlink=\"http://www.w3.org/1999/xlink\"><defs/><rect fill=\"white\" height=\"111.875\" width=\"98.125\" x=\"0\" y=\"0\"/><path d=\"M25,25 m0.0,0.0 l5.625,2.5 3.125,0.0 l0.625,-2.5 -1.875,0.0 l5.0,3.125 13.125,-3.125 m-18.75,61.875 l3.125,0.0 1.25,-2.5 l1.875,2.5 -1.875,-3.125 l0.625,-3.75 m36.25,-55.0 l-4.375,36.25 -6.25,25.625 \" fill=\"none\" stroke=\"black\" stroke-width=\"1\"/></svg>"
      ],
      "text/plain": [
       "<IPython.core.display.SVG object>"
      ]
     },
     "metadata": {},
     "output_type": "display_data"
    },
    {
     "name": "stdout",
     "output_type": "stream",
     "text": [
      "nose 9.049961\n"
     ]
    },
    {
     "data": {
      "image/svg+xml": [
       "<svg baseProfile=\"full\" height=\"111.875\" version=\"1.1\" width=\"92.5\" xmlns=\"http://www.w3.org/2000/svg\" xmlns:ev=\"http://www.w3.org/2001/xml-events\" xmlns:xlink=\"http://www.w3.org/1999/xlink\"><defs/><rect fill=\"white\" height=\"111.875\" width=\"92.5\" x=\"0\" y=\"0\"/><path d=\"M25,25 m0.0,0.0 l0.0,5.625 8.75,31.25 l5.625,13.125 8.75,11.875 m14.375,-21.875 l4.375,1.875 0.625,-1.875 l0.0,4.375 m-4.375,-0.625 l4.375,16.875 \" fill=\"none\" stroke=\"black\" stroke-width=\"1\"/></svg>"
      ],
      "text/plain": [
       "<IPython.core.display.SVG object>"
      ]
     },
     "metadata": {},
     "output_type": "display_data"
    },
    {
     "name": "stdout",
     "output_type": "stream",
     "text": [
      "nose 4.786774\n"
     ]
    },
    {
     "data": {
      "image/svg+xml": [
       "<svg baseProfile=\"full\" height=\"111.875\" version=\"1.1\" width=\"108.125\" xmlns=\"http://www.w3.org/2000/svg\" xmlns:ev=\"http://www.w3.org/2001/xml-events\" xmlns:xlink=\"http://www.w3.org/1999/xlink\"><defs/><rect fill=\"white\" height=\"111.875\" width=\"108.125\" x=\"0\" y=\"0\"/><path d=\"M25,25 m0.0,0.0 l0.0,5.625 8.75,31.25 l5.625,13.125 8.75,11.875 m30.625,-12.5 l-11.25,-8.75 -0.625,1.25 l-4.375,-1.875 5.625,3.75 l1.875,5.625 3.125,2.5 l3.75,0.0 3.125,-2.5 l3.125,1.875 0.0,2.5 m-20.0,-10.0 l3.75,15.625 2.5,2.5 m0.625,-61.875 l1.25,13.75 -2.5,3.125 l0.0,5.625 4.375,4.375 m2.5,35.0 l1.875,-1.875 5.625,1.25 m-3.75,-35.625 l3.75,-1.875 \" fill=\"none\" stroke=\"black\" stroke-width=\"1\"/></svg>"
      ],
      "text/plain": [
       "<IPython.core.display.SVG object>"
      ]
     },
     "metadata": {},
     "output_type": "display_data"
    },
    {
     "name": "stdout",
     "output_type": "stream",
     "text": [
      "nose 2.67666\n"
     ]
    },
    {
     "data": {
      "image/svg+xml": [
       "<svg baseProfile=\"full\" height=\"111.875\" version=\"1.1\" width=\"111.875\" xmlns=\"http://www.w3.org/2000/svg\" xmlns:ev=\"http://www.w3.org/2001/xml-events\" xmlns:xlink=\"http://www.w3.org/1999/xlink\"><defs/><rect fill=\"white\" height=\"111.875\" width=\"111.875\" x=\"0\" y=\"0\"/><path d=\"M25,66.875 m0.0,0.0 l0.0,3.75 11.25,16.25 m30.625,-12.5 l-11.25,-8.75 -0.625,1.25 l-4.375,-1.875 5.625,3.75 l0.625,3.75 4.375,4.375 l3.75,0.0 3.125,-2.5 l5.0,5.0 4.375,1.25 l-2.5,1.25 -1.875,-1.875 l5.625,0.625 0.625,-2.5 l1.25,3.75 6.25,-0.625 l0.0,-2.5 m-35.625,-10.0 l3.75,15.625 2.5,2.5 m0.625,-61.875 l1.25,13.75 -2.5,3.125 l0.0,5.625 4.375,4.375 m2.5,35.0 l1.875,-1.875 5.625,1.875 m-3.75,-36.25 l4.375,-1.25 3.125,5.0 l-2.5,-5.625 4.375,-3.125 l0.0,-3.125 -5.0,-2.5 l0.0,-15.0 m8.125,61.875 l4.375,0.0 \" fill=\"none\" stroke=\"black\" stroke-width=\"1\"/></svg>"
      ],
      "text/plain": [
       "<IPython.core.display.SVG object>"
      ]
     },
     "metadata": {},
     "output_type": "display_data"
    },
    {
     "name": "stdout",
     "output_type": "stream",
     "text": [
      "mouth 6.9495683\n"
     ]
    },
    {
     "data": {
      "image/svg+xml": [
       "<svg baseProfile=\"full\" height=\"111.875\" version=\"1.1\" width=\"100.0\" xmlns=\"http://www.w3.org/2000/svg\" xmlns:ev=\"http://www.w3.org/2001/xml-events\" xmlns:xlink=\"http://www.w3.org/1999/xlink\"><defs/><rect fill=\"white\" height=\"111.875\" width=\"100.0\" x=\"0\" y=\"0\"/><path d=\"M68.125,86.875 m0.0,0.0 l5.0,0.0 1.875,-5.0 l-1.25,-13.125 -4.375,5.625 l-0.625,7.5 -2.5,1.875 l-4.375,-3.75 -6.875,1.875 l-1.875,-1.25 0.625,-2.5 l-1.25,2.5 -5.0,-1.25 l-17.5,-13.75 -0.625,1.25 l-4.375,-1.875 5.625,3.75 l3.75,7.5 5.0,0.625 l1.875,-1.875 10.0,6.875 l9.375,-3.125 3.125,1.25 l7.5,-6.25 2.5,0.625 l0.625,-10.0 m-48.75,4.375 l3.75,15.625 2.5,2.5 m0.625,-61.875 l1.25,13.75 -2.5,3.125 l0.0,5.625 4.375,4.375 m2.5,35.0 l1.875,-1.875 5.625,1.875 m-3.75,-36.25 l4.375,-1.25 3.125,5.0 l-2.5,-5.625 4.375,-3.125 l0.0,-3.125 -5.0,-2.5 l0.0,-15.0 m8.125,61.875 l4.375,0.0 \" fill=\"none\" stroke=\"black\" stroke-width=\"1\"/></svg>"
      ],
      "text/plain": [
       "<IPython.core.display.SVG object>"
      ]
     },
     "metadata": {},
     "output_type": "display_data"
    },
    {
     "name": "stdout",
     "output_type": "stream",
     "text": [
      "nose 2.8806438\n"
     ]
    },
    {
     "data": {
      "image/svg+xml": [
       "<svg baseProfile=\"full\" height=\"111.875\" version=\"1.1\" width=\"111.875\" xmlns=\"http://www.w3.org/2000/svg\" xmlns:ev=\"http://www.w3.org/2001/xml-events\" xmlns:xlink=\"http://www.w3.org/1999/xlink\"><defs/><rect fill=\"white\" height=\"111.875\" width=\"111.875\" x=\"0\" y=\"0\"/><path d=\"M26.875,25 m0.0,0.0 l1.25,13.75 -3.125,2.5 l0.0,6.25 4.375,4.375 m14.375,26.875 l3.75,1.875 0.625,-2.5 l0.0,3.125 4.375,0.625 l3.75,-1.875 -1.25,-1.25 l2.5,1.875 5.625,-3.75 l1.875,-3.75 3.75,1.25 l-0.625,-5.625 -3.125,3.75 l3.75,-8.125 0.625,17.5 l-2.5,5.0 -4.375,0.0 l5.0,0.0 -3.75,-9.375 l-2.5,6.25 -3.125,-2.5 l-14.375,0.625 -1.875,-1.875 l1.25,-1.25 -18.125,-10.625 l0.0,-2.5 0.0,6.875 l3.75,3.75 5.0,0.625 l1.875,-1.875 m-10.625,10.0 l1.25,1.875 m6.25,0.0 l1.875,-1.875 5.625,1.875 m-3.75,-36.25 l4.375,-1.25 3.125,5.0 l-2.5,-5.625 4.375,-3.125 l0.0,-3.125 -5.0,-2.5 l0.0,-15.0 m8.125,61.875 l4.375,0.0 m31.25,0.0 l2.5,-3.125 \" fill=\"none\" stroke=\"black\" stroke-width=\"1\"/></svg>"
      ],
      "text/plain": [
       "<IPython.core.display.SVG object>"
      ]
     },
     "metadata": {},
     "output_type": "display_data"
    },
    {
     "name": "stdout",
     "output_type": "stream",
     "text": [
      "nose 8.149307\n"
     ]
    },
    {
     "data": {
      "image/svg+xml": [
       "<svg baseProfile=\"full\" height=\"111.875\" version=\"1.1\" width=\"111.875\" xmlns=\"http://www.w3.org/2000/svg\" xmlns:ev=\"http://www.w3.org/2001/xml-events\" xmlns:xlink=\"http://www.w3.org/1999/xlink\"><defs/><rect fill=\"white\" height=\"111.875\" width=\"111.875\" x=\"0\" y=\"0\"/><path d=\"M25.625,25 m0.0,0.0 l-0.625,16.25 5.0,1.25 l0.0,3.125 -5.0,2.5 l2.5,6.25 m19.375,32.5 l5.0,0.0 1.875,-5.0 l-1.25,-13.125 -4.375,5.625 l-0.625,7.5 -1.875,1.875 l-5.0,-3.75 -6.875,1.875 l-1.875,-1.25 0.625,-2.5 l-1.875,2.5 -4.375,-1.25 l-1.25,-2.5 0.0,2.5 l3.125,2.5 11.25,-3.125 l3.125,1.25 7.5,-6.25 l2.5,0.625 0.625,-10.0 m-20.0,22.5 l4.375,0.0 m49.375,-61.875 l0.0,11.25 -5.0,23.75 l-3.75,11.25 -9.375,15.625 \" fill=\"none\" stroke=\"black\" stroke-width=\"1\"/></svg>"
      ],
      "text/plain": [
       "<IPython.core.display.SVG object>"
      ]
     },
     "metadata": {},
     "output_type": "display_data"
    },
    {
     "name": "stdout",
     "output_type": "stream",
     "text": [
      "nose 6.900104\n"
     ]
    },
    {
     "data": {
      "image/svg+xml": [
       "<svg baseProfile=\"full\" height=\"111.875\" version=\"1.1\" width=\"97.5\" xmlns=\"http://www.w3.org/2000/svg\" xmlns:ev=\"http://www.w3.org/2001/xml-events\" xmlns:xlink=\"http://www.w3.org/1999/xlink\"><defs/><rect fill=\"white\" height=\"111.875\" width=\"97.5\" x=\"0\" y=\"0\"/><path d=\"M35.625,86.25 m0.0,0.0 l-4.375,0.625 5.0,0.0 l1.875,-5.0 -1.25,-13.125 l-4.375,5.625 -0.625,7.5 l-1.875,1.875 -3.75,-3.125 l5.0,-3.75 -5.625,3.75 l-0.625,-2.5 0.0,3.125 l9.375,-7.5 2.5,0.625 l0.625,-10.0 m15.0,22.5 l3.75,-3.125 7.5,-15.625 l8.75,-43.125 \" fill=\"none\" stroke=\"black\" stroke-width=\"1\"/></svg>"
      ],
      "text/plain": [
       "<IPython.core.display.SVG object>"
      ]
     },
     "metadata": {},
     "output_type": "display_data"
    },
    {
     "name": "stdout",
     "output_type": "stream",
     "text": [
      "nose 8.678253\n"
     ]
    },
    {
     "data": {
      "image/svg+xml": [
       "<svg baseProfile=\"full\" height=\"111.875\" version=\"1.1\" width=\"88.75\" xmlns=\"http://www.w3.org/2000/svg\" xmlns:ev=\"http://www.w3.org/2001/xml-events\" xmlns:xlink=\"http://www.w3.org/1999/xlink\"><defs/><rect fill=\"white\" height=\"111.875\" width=\"88.75\" x=\"0\" y=\"0\"/><path d=\"M25,25 m0.0,0.0 l5.0,21.25 11.875,23.125 l11.875,13.125 10.0,4.375 m-5.0,-37.5 l4.375,1.875 0.625,-1.875 l0.0,4.375 m-4.375,-0.625 l4.375,16.875 \" fill=\"none\" stroke=\"black\" stroke-width=\"1\"/></svg>"
      ],
      "text/plain": [
       "<IPython.core.display.SVG object>"
      ]
     },
     "metadata": {},
     "output_type": "display_data"
    },
    {
     "name": "stdout",
     "output_type": "stream",
     "text": [
      "mouth 2.4092674\n"
     ]
    },
    {
     "data": {
      "image/svg+xml": [
       "<svg baseProfile=\"full\" height=\"111.875\" version=\"1.1\" width=\"104.375\" xmlns=\"http://www.w3.org/2000/svg\" xmlns:ev=\"http://www.w3.org/2001/xml-events\" xmlns:xlink=\"http://www.w3.org/1999/xlink\"><defs/><rect fill=\"white\" height=\"111.875\" width=\"104.375\" x=\"0\" y=\"0\"/><path d=\"M25,25 m0.0,0.0 l5.0,21.25 11.875,23.125 l11.875,13.125 10.0,4.375 m11.25,-28.125 l-11.25,-8.75 -0.625,1.25 l-4.375,-1.875 5.625,3.75 l1.875,5.625 3.125,2.5 l3.75,0.0 3.125,-2.5 l3.125,1.875 0.0,2.5 m-20.0,-10.0 l3.75,15.625 5.625,6.875 l5.0,-6.25 5.625,1.875 l0.0,2.5 0.0,-3.125 l-10.0,5.625 10.0,5.625 m-14.375,-56.25 l0.0,6.25 4.375,4.375 m6.25,-1.25 l3.75,-1.875 \" fill=\"none\" stroke=\"black\" stroke-width=\"1\"/></svg>"
      ],
      "text/plain": [
       "<IPython.core.display.SVG object>"
      ]
     },
     "metadata": {},
     "output_type": "display_data"
    },
    {
     "name": "stdout",
     "output_type": "stream",
     "text": [
      "mouth 4.4213853\n"
     ]
    },
    {
     "data": {
      "image/svg+xml": [
       "<svg baseProfile=\"full\" height=\"111.875\" version=\"1.1\" width=\"111.875\" xmlns=\"http://www.w3.org/2000/svg\" xmlns:ev=\"http://www.w3.org/2001/xml-events\" xmlns:xlink=\"http://www.w3.org/1999/xlink\"><defs/><rect fill=\"white\" height=\"111.875\" width=\"111.875\" x=\"0\" y=\"0\"/><path d=\"M25,51.25 m0.0,0.0 l0.0,3.75 10.625,16.875 l10.0,10.625 10.0,4.375 m11.25,-28.125 l-11.25,-8.75 -0.625,1.25 l-4.375,-1.875 5.625,3.75 l0.625,3.75 4.375,4.375 l3.75,0.0 3.125,-2.5 l5.0,5.0 4.375,1.25 l-2.5,1.25 -1.875,-1.875 l5.625,0.625 0.625,-2.5 l1.25,3.75 6.25,-0.625 l0.0,-2.5 m-35.625,-10.0 l3.75,15.625 5.625,6.875 l5.0,-6.25 3.125,0.0 l2.5,3.125 2.5,5.625 l-12.5,-1.875 1.875,1.875 l8.75,3.75 13.75,-1.25 l1.25,-6.875 -3.125,-3.125 l-4.375,2.5 -1.25,5.625 l8.75,1.875 m-30.0,-55.0 l0.0,6.25 4.375,4.375 m6.25,-1.25 l4.375,-1.25 3.125,5.0 l-2.5,-5.625 4.375,-3.125 l0.0,-3.125 -5.0,-1.875 \" fill=\"none\" stroke=\"black\" stroke-width=\"1\"/></svg>"
      ],
      "text/plain": [
       "<IPython.core.display.SVG object>"
      ]
     },
     "metadata": {},
     "output_type": "display_data"
    },
    {
     "name": "stdout",
     "output_type": "stream",
     "text": [
      "mouth 7.3390307\n"
     ]
    },
    {
     "data": {
      "image/svg+xml": [
       "<svg baseProfile=\"full\" height=\"111.875\" version=\"1.1\" width=\"111.875\" xmlns=\"http://www.w3.org/2000/svg\" xmlns:ev=\"http://www.w3.org/2001/xml-events\" xmlns:xlink=\"http://www.w3.org/1999/xlink\"><defs/><rect fill=\"white\" height=\"111.875\" width=\"111.875\" x=\"0\" y=\"0\"/><path d=\"M25,76.25 m0.0,0.0 l5.0,6.25 10.0,4.375 m-4.375,-33.75 l3.75,15.625 5.625,6.875 l5.0,-6.25 3.125,0.0 l2.5,3.125 2.5,5.625 l-12.5,-1.875 1.875,1.875 l8.75,3.75 8.75,0.0 l10.625,-3.75 4.375,-8.125 l1.875,1.875 -3.125,3.125 l5.625,-1.875 -1.875,-2.5 l2.5,-4.375 -0.625,-8.125 l-3.75,-0.625 -1.875,3.75 l-5.625,3.75 -2.5,-1.875 l0.0,2.5 -11.25,0.625 l-6.875,-7.5 -10.625,-6.25 l-1.25,2.5 3.75,5.625 l5.0,0.625 1.875,-1.875 l-11.25,-9.375 -0.625,1.25 l-4.375,-1.875 23.125,13.75 l5.0,1.25 0.625,-1.875 l13.125,5.625 7.5,-19.375 l0.625,8.75 -13.125,21.25 l-3.75,-8.125 -4.375,2.5 l-1.25,5.625 m-21.25,-53.125 l0.0,6.25 4.375,4.375 m6.25,-1.25 l4.375,-1.25 3.125,5.0 l-2.5,-5.625 4.375,-3.125 l0.0,-3.125 -5.0,-1.875 m23.75,61.875 l6.875,-2.5 \" fill=\"none\" stroke=\"black\" stroke-width=\"1\"/></svg>"
      ],
      "text/plain": [
       "<IPython.core.display.SVG object>"
      ]
     },
     "metadata": {},
     "output_type": "display_data"
    },
    {
     "name": "stdout",
     "output_type": "stream",
     "text": [
      "mouth 4.3914886\n"
     ]
    },
    {
     "data": {
      "image/svg+xml": [
       "<svg baseProfile=\"full\" height=\"111.875\" version=\"1.1\" width=\"111.875\" xmlns=\"http://www.w3.org/2000/svg\" xmlns:ev=\"http://www.w3.org/2001/xml-events\" xmlns:xlink=\"http://www.w3.org/1999/xlink\"><defs/><rect fill=\"white\" height=\"111.875\" width=\"111.875\" x=\"0\" y=\"0\"/><path d=\"M25,26.25 m0.0,0.0 l1.875,-1.25 -1.875,1.875 l0.0,5.0 5.0,4.375 m16.875,45.625 l13.125,-3.75 4.375,-8.125 l4.375,3.125 -3.125,-0.625 l-2.5,2.5 5.625,-6.875 l0.0,-10.0 -5.0,0.625 l-0.625,7.5 -1.875,1.875 l-5.625,-5.0 -0.625,2.5 l-11.25,0.625 -6.875,-7.5 l-11.875,-6.25 0.0,-2.5 l0.0,6.875 5.0,4.375 l5.625,-1.875 10.0,5.0 l2.5,-1.875 10.0,1.875 l8.75,-9.375 1.875,-6.25 l0.625,8.75 -13.125,21.25 l-1.875,-6.25 -3.75,-1.875 l-3.75,5.0 -0.625,6.25 l-5.625,0.0 -11.25,-6.25 l5.0,-6.25 3.125,0.0 l5.0,8.75 -13.75,-3.125 l-3.75,-5.0 m11.25,-35.0 l4.375,-1.25 3.125,5.0 l-2.5,-5.625 4.375,-3.125 l0.0,-3.125 -5.0,-1.875 m23.75,61.875 l13.125,-6.875 9.375,-11.875 \" fill=\"none\" stroke=\"black\" stroke-width=\"1\"/></svg>"
      ],
      "text/plain": [
       "<IPython.core.display.SVG object>"
      ]
     },
     "metadata": {},
     "output_type": "display_data"
    },
    {
     "name": "stdout",
     "output_type": "stream",
     "text": [
      "nose 5.8490953\n"
     ]
    },
    {
     "data": {
      "image/svg+xml": [
       "<svg baseProfile=\"full\" height=\"111.875\" version=\"1.1\" width=\"110.625\" xmlns=\"http://www.w3.org/2000/svg\" xmlns:ev=\"http://www.w3.org/2001/xml-events\" xmlns:xlink=\"http://www.w3.org/1999/xlink\"><defs/><rect fill=\"white\" height=\"111.875\" width=\"110.625\" x=\"0\" y=\"0\"/><path d=\"M25,35.0 m0.0,0.0 l3.125,3.75 -3.125,-3.125 l0.0,-3.125 5.0,-2.5 l-1.875,-5.0 -3.125,0.625 m0.0,35.625 l0.0,2.5 m0.0,8.75 l1.875,5.625 -1.875,-1.25 m23.75,10.0 l13.125,-6.875 10.0,-11.875 l7.5,-15.625 6.25,-27.5 \" fill=\"none\" stroke=\"black\" stroke-width=\"1\"/></svg>"
      ],
      "text/plain": [
       "<IPython.core.display.SVG object>"
      ]
     },
     "metadata": {},
     "output_type": "display_data"
    },
    {
     "name": "stdout",
     "output_type": "stream",
     "text": [
      "nose 6.4811034\n"
     ]
    },
    {
     "data": {
      "image/svg+xml": [
       "<svg baseProfile=\"full\" height=\"111.875\" version=\"1.1\" width=\"95.0\" xmlns=\"http://www.w3.org/2000/svg\" xmlns:ev=\"http://www.w3.org/2001/xml-events\" xmlns:xlink=\"http://www.w3.org/1999/xlink\"><defs/><rect fill=\"white\" height=\"111.875\" width=\"95.0\" x=\"0\" y=\"0\"/><path d=\"M25,78.125 m0.0,0.0 l0.0,2.5 3.75,-2.5 l4.375,-8.125 1.875,1.875 l-3.125,3.125 5.625,-1.875 l-1.875,-2.5 3.125,-8.75 l-1.875,-8.75 -4.375,5.625 l-0.625,7.5 -2.5,1.875 l-3.125,-3.125 5.0,-3.75 l-6.25,3.75 0.0,-2.5 l0.0,3.125 9.375,-7.5 l1.875,0.625 1.25,-9.375 m-4.375,37.5 l13.125,-6.875 10.0,-11.875 l7.5,-15.625 6.25,-27.5 \" fill=\"none\" stroke=\"black\" stroke-width=\"1\"/></svg>"
      ],
      "text/plain": [
       "<IPython.core.display.SVG object>"
      ]
     },
     "metadata": {},
     "output_type": "display_data"
    },
    {
     "name": "stdout",
     "output_type": "stream",
     "text": [
      "nose 7.3606386\n"
     ]
    },
    {
     "data": {
      "image/svg+xml": [
       "<svg baseProfile=\"full\" height=\"96.25\" version=\"1.1\" width=\"84.375\" xmlns=\"http://www.w3.org/2000/svg\" xmlns:ev=\"http://www.w3.org/2001/xml-events\" xmlns:xlink=\"http://www.w3.org/1999/xlink\"><defs/><rect fill=\"white\" height=\"96.25\" width=\"84.375\" x=\"0\" y=\"0\"/><path d=\"M25,25 m0.0,0.0 l5.0,16.25 7.5,12.5 l11.875,13.125 10.0,4.375 m-5.0,-37.5 l4.375,1.875 0.625,-1.875 l0.0,4.375 m-4.375,-0.625 l4.375,16.875 \" fill=\"none\" stroke=\"black\" stroke-width=\"1\"/></svg>"
      ],
      "text/plain": [
       "<IPython.core.display.SVG object>"
      ]
     },
     "metadata": {},
     "output_type": "display_data"
    },
    {
     "name": "stdout",
     "output_type": "stream",
     "text": [
      "None 0.46577212\n"
     ]
    },
    {
     "data": {
      "image/svg+xml": [
       "<svg baseProfile=\"full\" height=\"99.375\" version=\"1.1\" width=\"100.0\" xmlns=\"http://www.w3.org/2000/svg\" xmlns:ev=\"http://www.w3.org/2001/xml-events\" xmlns:xlink=\"http://www.w3.org/1999/xlink\"><defs/><rect fill=\"white\" height=\"99.375\" width=\"100.0\" x=\"0\" y=\"0\"/><path d=\"M75.0,74.375 m0.0,0.0 l-11.25,0.0 -14.375,-7.5 l-10.0,-10.625 -8.125,-12.5 l-6.25,-18.75 m45.625,18.125 l-11.25,-8.75 -0.625,1.25 l-4.375,-1.875 5.625,3.75 l1.875,5.625 3.125,2.5 l3.75,0.0 3.125,-2.5 l3.125,1.875 0.0,2.5 m-20.0,-10.0 l3.75,15.625 5.625,6.875 l5.0,-6.25 5.625,1.875 l0.0,2.5 0.0,-3.125 l-10.0,5.625 10.0,5.625 \" fill=\"none\" stroke=\"black\" stroke-width=\"1\"/></svg>"
      ],
      "text/plain": [
       "<IPython.core.display.SVG object>"
      ]
     },
     "metadata": {},
     "output_type": "display_data"
    },
    {
     "name": "stdout",
     "output_type": "stream",
     "text": [
      "no classification\n",
      "nose 1.4125483\n"
     ]
    },
    {
     "data": {
      "image/svg+xml": [
       "<svg baseProfile=\"full\" height=\"91.875\" version=\"1.1\" width=\"111.875\" xmlns=\"http://www.w3.org/2000/svg\" xmlns:ev=\"http://www.w3.org/2001/xml-events\" xmlns:xlink=\"http://www.w3.org/1999/xlink\"><defs/><rect fill=\"white\" height=\"91.875\" width=\"111.875\" x=\"0\" y=\"0\"/><path d=\"M25,26.875 m0.0,0.0 l0.0,3.75 8.75,14.375 l13.75,14.375 16.875,6.875 l13.75,0.625 8.75,-2.5 m-20.0,-30.0 l-11.25,-8.75 -0.625,1.25 l-4.375,-1.875 5.625,3.75 l0.625,3.75 4.375,4.375 l3.75,0.0 3.125,-2.5 l5.0,5.0 4.375,1.25 l-2.5,1.25 -1.875,-1.875 l5.625,0.625 0.625,-2.5 l1.25,3.75 6.25,-0.625 l0.0,-2.5 m-35.625,-10.0 l3.75,15.625 5.625,6.875 l5.0,-6.25 3.125,0.0 l2.5,3.125 2.5,5.625 l-12.5,-1.875 1.875,1.875 l8.75,3.75 13.75,-1.25 l1.25,-6.875 -3.125,-3.125 l-4.375,2.5 -1.25,5.625 l8.75,1.875 \" fill=\"none\" stroke=\"black\" stroke-width=\"1\"/></svg>"
      ],
      "text/plain": [
       "<IPython.core.display.SVG object>"
      ]
     },
     "metadata": {},
     "output_type": "display_data"
    },
    {
     "name": "stdout",
     "output_type": "stream",
     "text": [
      "mouth 6.402194\n"
     ]
    },
    {
     "data": {
      "image/svg+xml": [
       "<svg baseProfile=\"full\" height=\"92.5\" version=\"1.1\" width=\"111.875\" xmlns=\"http://www.w3.org/2000/svg\" xmlns:ev=\"http://www.w3.org/2001/xml-events\" xmlns:xlink=\"http://www.w3.org/1999/xlink\"><defs/><rect fill=\"white\" height=\"92.5\" width=\"111.875\" x=\"0\" y=\"0\"/><path d=\"M25,52.5 m0.0,0.0 l0.0,1.875 6.875,5.625 l16.875,6.875 13.75,0.625 l13.125,-1.875 11.25,-6.25 m-51.25,-30.0 l3.75,15.625 5.625,6.875 l5.0,-6.25 3.125,0.0 l2.5,3.125 2.5,5.625 l-12.5,-1.875 1.875,1.875 l8.75,3.75 8.75,0.0 l10.625,-3.75 4.375,-8.125 l1.875,1.875 -3.125,3.125 l5.625,-1.875 -1.875,-2.5 l2.5,-4.375 -0.625,-8.125 l-3.75,-0.625 -1.875,3.75 l-5.625,3.75 -2.5,-1.875 l0.0,2.5 -11.25,0.625 l-6.875,-7.5 -10.625,-6.25 l-1.25,2.5 3.75,5.625 l5.0,0.625 1.875,-1.875 l-11.25,-9.375 -0.625,1.25 l-4.375,-1.875 23.125,13.75 l5.0,1.25 0.625,-1.875 l13.125,5.625 7.5,-19.375 l0.625,8.75 -13.125,21.25 l-3.75,-8.125 -4.375,2.5 l-1.25,5.625 \" fill=\"none\" stroke=\"black\" stroke-width=\"1\"/></svg>"
      ],
      "text/plain": [
       "<IPython.core.display.SVG object>"
      ]
     },
     "metadata": {},
     "output_type": "display_data"
    },
    {
     "name": "stdout",
     "output_type": "stream",
     "text": [
      "mouth 5.777864\n"
     ]
    },
    {
     "data": {
      "image/svg+xml": [
       "<svg baseProfile=\"full\" height=\"92.5\" version=\"1.1\" width=\"111.875\" xmlns=\"http://www.w3.org/2000/svg\" xmlns:ev=\"http://www.w3.org/2001/xml-events\" xmlns:xlink=\"http://www.w3.org/1999/xlink\"><defs/><rect fill=\"white\" height=\"92.5\" width=\"111.875\" x=\"0\" y=\"0\"/><path d=\"M46.875,58.125 m0.0,0.0 l13.125,-3.75 4.375,-8.125 l4.375,3.125 -3.125,-0.625 l-2.5,2.5 5.625,-6.875 l0.0,-10.0 -5.0,0.625 l-0.625,7.5 -1.875,1.875 l-5.625,-5.0 -0.625,2.5 l-11.25,0.625 -6.875,-7.5 l-11.875,-6.25 0.0,-2.5 l0.0,6.875 5.0,4.375 l5.625,-1.875 10.0,5.0 l2.5,-1.875 10.0,1.875 l8.75,-9.375 1.875,-6.25 l0.625,8.75 -13.125,21.25 l-1.875,-6.25 -3.75,-1.875 l-3.75,5.0 -0.625,6.25 l-5.625,0.0 -11.25,-6.25 l5.0,-6.25 3.125,0.0 l5.0,8.75 -13.75,-3.125 l-3.75,-5.0 m0.0,17.5 l3.75,2.5 15.0,1.25 l19.375,-2.5 14.375,-8.75 l9.375,-12.5 \" fill=\"none\" stroke=\"black\" stroke-width=\"1\"/></svg>"
      ],
      "text/plain": [
       "<IPython.core.display.SVG object>"
      ]
     },
     "metadata": {},
     "output_type": "display_data"
    },
    {
     "name": "stdout",
     "output_type": "stream",
     "text": [
      "nose 8.80801\n"
     ]
    },
    {
     "data": {
      "image/svg+xml": [
       "<svg baseProfile=\"full\" height=\"100.625\" version=\"1.1\" width=\"108.125\" xmlns=\"http://www.w3.org/2000/svg\" xmlns:ev=\"http://www.w3.org/2001/xml-events\" xmlns:xlink=\"http://www.w3.org/1999/xlink\"><defs/><rect fill=\"white\" height=\"100.625\" width=\"108.125\" x=\"0\" y=\"0\"/><path d=\"M25,45.625 m0.0,0.0 l0.0,2.5 m0.0,8.75 l1.875,5.625 -1.875,-1.25 m0.0,13.125 l6.25,1.25 16.25,-2.5 l14.375,-8.75 10.0,-11.875 l11.25,-27.5 \" fill=\"none\" stroke=\"black\" stroke-width=\"1\"/></svg>"
      ],
      "text/plain": [
       "<IPython.core.display.SVG object>"
      ]
     },
     "metadata": {},
     "output_type": "display_data"
    },
    {
     "name": "stdout",
     "output_type": "stream",
     "text": [
      "nose 5.391225\n"
     ]
    },
    {
     "data": {
      "image/svg+xml": [
       "<svg baseProfile=\"full\" height=\"98.125\" version=\"1.1\" width=\"92.5\" xmlns=\"http://www.w3.org/2000/svg\" xmlns:ev=\"http://www.w3.org/2001/xml-events\" xmlns:xlink=\"http://www.w3.org/1999/xlink\"><defs/><rect fill=\"white\" height=\"98.125\" width=\"92.5\" x=\"0\" y=\"0\"/><path d=\"M25,62.5 m0.0,0.0 l0.0,2.5 3.75,-2.5 l4.375,-8.125 1.875,1.875 l-3.125,3.125 5.625,-1.875 l-1.875,-2.5 3.125,-8.75 l-1.875,-8.75 -4.375,5.625 l-0.625,7.5 -2.5,1.875 l-3.125,-3.125 5.0,-3.75 l-6.25,3.75 0.0,-2.5 l0.0,3.125 9.375,-7.5 l1.875,0.625 1.25,-9.375 m-12.5,39.375 l6.875,0.0 15.0,-9.375 l9.375,-11.25 11.25,-27.5 \" fill=\"none\" stroke=\"black\" stroke-width=\"1\"/></svg>"
      ],
      "text/plain": [
       "<IPython.core.display.SVG object>"
      ]
     },
     "metadata": {},
     "output_type": "display_data"
    },
    {
     "data": {
      "image/png": "[encoded data removed]",
      "text/plain": [
       "<matplotlib.figure.Figure at 0x11a64a810>"
      ]
     },
     "metadata": {},
     "output_type": "display_data"
    },
    {
     "name": "stdout",
     "output_type": "stream",
     "text": [
      "INFO:tensorflow:Model using gpu.\n",
      "INFO:tensorflow:Loading model four_class_checkpoint/vector-110000.\n",
      "INFO:tensorflow:Restoring parameters from four_class_checkpoint/vector-110000\n",
      "eye 2.37597\n"
     ]
    },
    {
     "data": {
      "image/svg+xml": [
       "<svg baseProfile=\"full\" height=\"91.875\" version=\"1.1\" width=\"96.25\" xmlns=\"http://www.w3.org/2000/svg\" xmlns:ev=\"http://www.w3.org/2001/xml-events\" xmlns:xlink=\"http://www.w3.org/1999/xlink\"><defs/><rect fill=\"white\" height=\"91.875\" width=\"96.25\" x=\"0\" y=\"0\"/><path d=\"M25.625,36.25 m0.0,0.0 l-0.625,-4.375 4.375,-2.5 l17.5,3.125 m-14.375,24.375 l0.625,10.0 m19.375,-19.375 l0.0,4.375 2.5,0.0 l5.625,-5.0 -1.875,-1.875 l-5.625,-1.875 -0.625,3.75 l-1.875,-3.75 -5.625,0.625 l-2.5,2.5 0.625,3.125 l4.375,3.75 4.375,-0.625 l-10.625,1.25 -6.25,-2.5 l6.875,-5.625 m20.0,-15.625 l9.375,-5.0 m-7.5,41.875 l0.625,-4.375 \" fill=\"none\" stroke=\"black\" stroke-width=\"1\"/></svg>"
      ],
      "text/plain": [
       "<IPython.core.display.SVG object>"
      ]
     },
     "metadata": {},
     "output_type": "display_data"
    },
    {
     "name": "stdout",
     "output_type": "stream",
     "text": [
      "eye 2.096459\n"
     ]
    },
    {
     "data": {
      "image/svg+xml": [
       "<svg baseProfile=\"full\" height=\"96.875\" version=\"1.1\" width=\"111.875\" xmlns=\"http://www.w3.org/2000/svg\" xmlns:ev=\"http://www.w3.org/2001/xml-events\" xmlns:xlink=\"http://www.w3.org/1999/xlink\"><defs/><rect fill=\"white\" height=\"96.875\" width=\"111.875\" x=\"0\" y=\"0\"/><path d=\"M46.25,37.5 m0.0,0.0 l-11.25,-3.125 -10.0,1.25 l0.625,8.125 m6.875,18.125 l0.625,10.0 m19.375,-19.375 l0.0,4.375 2.5,0.0 l5.625,-5.0 -1.875,-1.875 l-5.625,-1.875 -0.625,3.75 l-1.875,-3.75 -5.625,0.625 l-2.5,2.5 0.625,3.125 l4.375,3.75 4.375,-0.625 l-10.625,1.25 -6.25,-2.5 l6.875,-5.625 m20.0,-15.625 l13.75,-6.875 11.25,-3.125 m-23.125,46.875 l0.625,-4.375 \" fill=\"none\" stroke=\"black\" stroke-width=\"1\"/></svg>"
      ],
      "text/plain": [
       "<IPython.core.display.SVG object>"
      ]
     },
     "metadata": {},
     "output_type": "display_data"
    },
    {
     "name": "stdout",
     "output_type": "stream",
     "text": [
      "nose 4.237404\n"
     ]
    },
    {
     "data": {
      "image/svg+xml": [
       "<svg baseProfile=\"full\" height=\"96.875\" version=\"1.1\" width=\"111.875\" xmlns=\"http://www.w3.org/2000/svg\" xmlns:ev=\"http://www.w3.org/2001/xml-events\" xmlns:xlink=\"http://www.w3.org/1999/xlink\"><defs/><rect fill=\"white\" height=\"96.875\" width=\"111.875\" x=\"0\" y=\"0\"/><path d=\"M25,35.625 m0.0,0.0 l6.25,1.875 m5.625,11.25 l8.125,3.125 -3.75,3.75 l-5.625,2.5 -5.625,-1.25 l-5.0,-6.25 5.625,-2.5 l5.625,1.25 0.625,6.875 l-6.875,2.5 -5.0,-0.625 m21.25,-23.125 l13.75,-6.875 11.25,-3.125 l15.625,1.875 m-38.75,45.0 l0.625,-4.375 m38.125,-21.25 l-1.875,-0.625 1.875,-6.875 l-11.875,9.375 11.875,1.875 \" fill=\"none\" stroke=\"black\" stroke-width=\"1\"/></svg>"
      ],
      "text/plain": [
       "<IPython.core.display.SVG object>"
      ]
     },
     "metadata": {},
     "output_type": "display_data"
    },
    {
     "name": "stdout",
     "output_type": "stream",
     "text": [
      "eye 3.7605863\n"
     ]
    },
    {
     "data": {
      "image/svg+xml": [
       "<svg baseProfile=\"full\" height=\"96.875\" version=\"1.1\" width=\"111.875\" xmlns=\"http://www.w3.org/2000/svg\" xmlns:ev=\"http://www.w3.org/2001/xml-events\" xmlns:xlink=\"http://www.w3.org/1999/xlink\"><defs/><rect fill=\"white\" height=\"96.875\" width=\"111.875\" x=\"0\" y=\"0\"/><path d=\"M25,48.75 m0.0,0.0 l4.375,3.125 -4.375,4.375 m5.625,-21.25 l13.75,-6.875 11.25,-3.125 l18.75,1.875 10.625,6.25 m-52.5,38.75 l0.625,-4.375 m46.25,-24.375 l0.625,5.0 6.875,-3.75 l0.0,-3.75 -6.875,-1.875 l-0.625,3.75 -1.875,-3.75 l-3.75,0.0 -7.5,3.125 l-6.875,6.25 10.0,1.875 l9.375,-1.875 -6.25,0.0 l-3.125,-2.5 0.0,-3.75 \" fill=\"none\" stroke=\"black\" stroke-width=\"1\"/></svg>"
      ],
      "text/plain": [
       "<IPython.core.display.SVG object>"
      ]
     },
     "metadata": {},
     "output_type": "display_data"
    },
    {
     "name": "stdout",
     "output_type": "stream",
     "text": [
      "eye 0.10468459\n"
     ]
    },
    {
     "data": {
      "image/svg+xml": [
       "<svg baseProfile=\"full\" height=\"75.0\" version=\"1.1\" width=\"96.875\" xmlns=\"http://www.w3.org/2000/svg\" xmlns:ev=\"http://www.w3.org/2001/xml-events\" xmlns:xlink=\"http://www.w3.org/1999/xlink\"><defs/><rect fill=\"white\" height=\"75.0\" width=\"96.875\" x=\"0\" y=\"0\"/><path d=\"M25,29.375 m0.0,0.0 l15.0,-4.375 7.5,0.0 l11.25,1.875 11.25,6.25 m-6.25,10.0 l0.625,5.0 7.5,-5.0 l-1.25,-2.5 -6.25,-1.875 l-0.625,3.75 -1.875,-3.75 l-3.75,0.0 -7.5,3.125 l-6.875,6.25 10.0,1.875 l9.375,-1.875 -6.25,0.0 l-3.125,-2.5 0.0,-3.75 \" fill=\"none\" stroke=\"black\" stroke-width=\"1\"/></svg>"
      ],
      "text/plain": [
       "<IPython.core.display.SVG object>"
      ]
     },
     "metadata": {},
     "output_type": "display_data"
    },
    {
     "name": "stdout",
     "output_type": "stream",
     "text": [
      "nose 1.1554306\n"
     ]
    },
    {
     "data": {
      "image/svg+xml": [
       "<svg baseProfile=\"full\" height=\"75.625\" version=\"1.1\" width=\"81.25\" xmlns=\"http://www.w3.org/2000/svg\" xmlns:ev=\"http://www.w3.org/2001/xml-events\" xmlns:xlink=\"http://www.w3.org/1999/xlink\"><defs/><rect fill=\"white\" height=\"75.625\" width=\"81.25\" x=\"0\" y=\"0\"/><path d=\"M25,25 m0.0,0.0 l18.125,2.5 11.25,6.25 m-6.25,10.0 l0.625,5.0 7.5,-5.0 l-1.25,-2.5 -6.25,-1.875 l-0.625,3.75 -1.875,-3.75 l-3.75,0.0 -7.5,3.125 l-6.875,6.25 10.0,1.875 l9.375,-1.875 -6.25,0.0 l-3.125,-2.5 0.0,-3.75 \" fill=\"none\" stroke=\"black\" stroke-width=\"1\"/></svg>"
      ],
      "text/plain": [
       "<IPython.core.display.SVG object>"
      ]
     },
     "metadata": {},
     "output_type": "display_data"
    },
    {
     "name": "stdout",
     "output_type": "stream",
     "text": [
      "nose 5.349627\n"
     ]
    },
    {
     "data": {
      "image/svg+xml": [
       "<svg baseProfile=\"full\" height=\"95.625\" version=\"1.1\" width=\"100.0\" xmlns=\"http://www.w3.org/2000/svg\" xmlns:ev=\"http://www.w3.org/2001/xml-events\" xmlns:xlink=\"http://www.w3.org/1999/xlink\"><defs/><rect fill=\"white\" height=\"95.625\" width=\"100.0\" x=\"0\" y=\"0\"/><path d=\"M25,25 m0.0,0.0 l13.75,6.875 m-6.25,13.75 l3.125,0.0 5.0,-5.0 l-4.375,-2.5 -11.25,-0.625 l6.875,1.875 0.625,1.875 l-0.625,5.625 -4.375,1.25 l-2.5,-2.5 0.0,3.125 m48.75,-9.375 l1.25,31.25 \" fill=\"none\" stroke=\"black\" stroke-width=\"1\"/></svg>"
      ],
      "text/plain": [
       "<IPython.core.display.SVG object>"
      ]
     },
     "metadata": {},
     "output_type": "display_data"
    },
    {
     "name": "stdout",
     "output_type": "stream",
     "text": [
      "nose 1.4902164\n"
     ]
    },
    {
     "data": {
      "image/svg+xml": [
       "<svg baseProfile=\"full\" height=\"107.5\" version=\"1.1\" width=\"96.25\" xmlns=\"http://www.w3.org/2000/svg\" xmlns:ev=\"http://www.w3.org/2001/xml-events\" xmlns:xlink=\"http://www.w3.org/1999/xlink\"><defs/><rect fill=\"white\" height=\"107.5\" width=\"96.25\" x=\"0\" y=\"0\"/><path d=\"M25.625,36.25 m0.0,0.0 l-0.625,-4.375 4.375,-2.5 l17.5,3.125 m-14.375,24.375 l0.0,13.125 3.75,12.5 m16.25,-35.0 l0.0,4.375 2.5,0.0 l5.625,-5.0 -1.875,-1.875 l-5.625,-1.875 -0.625,3.75 l-1.875,-3.75 -5.625,0.625 l-2.5,2.5 0.625,3.125 l4.375,3.75 4.375,-0.625 l-10.625,1.25 -6.25,-2.5 l6.875,-5.625 m22.5,16.875 l-5.625,20.0 m3.125,-52.5 l9.375,-5.0 \" fill=\"none\" stroke=\"black\" stroke-width=\"1\"/></svg>"
      ],
      "text/plain": [
       "<IPython.core.display.SVG object>"
      ]
     },
     "metadata": {},
     "output_type": "display_data"
    },
    {
     "name": "stdout",
     "output_type": "stream",
     "text": [
      "None 1.188471\n"
     ]
    },
    {
     "data": {
      "image/svg+xml": [
       "<svg baseProfile=\"full\" height=\"111.875\" version=\"1.1\" width=\"111.875\" xmlns=\"http://www.w3.org/2000/svg\" xmlns:ev=\"http://www.w3.org/2001/xml-events\" xmlns:xlink=\"http://www.w3.org/1999/xlink\"><defs/><rect fill=\"white\" height=\"111.875\" width=\"111.875\" x=\"0\" y=\"0\"/><path d=\"M46.25,36.875 m0.0,0.0 l-11.25,-3.125 -10.0,1.25 l0.625,8.125 m6.875,18.125 l0.0,13.125 3.75,12.5 m16.25,-35.0 l0.0,4.375 2.5,0.0 l5.625,-5.0 -1.875,-1.875 l-5.625,-1.875 -0.625,3.75 l-1.875,-3.75 -5.625,0.625 l-2.5,2.5 0.625,3.125 l4.375,3.75 4.375,-0.625 l-10.625,1.25 -6.25,-2.5 l6.875,-5.625 m22.5,16.875 l-5.625,20.0 m3.125,-52.5 l13.75,-6.875 11.25,-2.5 \" fill=\"none\" stroke=\"black\" stroke-width=\"1\"/></svg>"
      ],
      "text/plain": [
       "<IPython.core.display.SVG object>"
      ]
     },
     "metadata": {},
     "output_type": "display_data"
    },
    {
     "name": "stdout",
     "output_type": "stream",
     "text": [
      "no classification\n",
      "nose 3.6622033\n"
     ]
    },
    {
     "data": {
      "image/svg+xml": [
       "<svg baseProfile=\"full\" height=\"111.875\" version=\"1.1\" width=\"111.875\" xmlns=\"http://www.w3.org/2000/svg\" xmlns:ev=\"http://www.w3.org/2001/xml-events\" xmlns:xlink=\"http://www.w3.org/1999/xlink\"><defs/><rect fill=\"white\" height=\"111.875\" width=\"111.875\" x=\"0\" y=\"0\"/><path d=\"M25,35.0 m0.0,0.0 l6.25,1.875 m5.625,11.25 l8.125,3.125 -3.75,3.75 l-5.625,2.5 -5.625,-1.25 l-5.0,-6.25 5.625,-2.5 l5.625,1.25 0.625,6.875 l-6.875,2.5 -5.0,-0.625 m23.75,9.375 l-5.625,20.0 m3.125,-52.5 l13.75,-6.875 12.5,-2.5 m14.375,20.625 l-1.875,-0.625 1.875,-6.875 l-11.875,9.375 11.875,1.875 \" fill=\"none\" stroke=\"black\" stroke-width=\"1\"/></svg>"
      ],
      "text/plain": [
       "<IPython.core.display.SVG object>"
      ]
     },
     "metadata": {},
     "output_type": "display_data"
    },
    {
     "name": "stdout",
     "output_type": "stream",
     "text": [
      "nose 1.0368552\n"
     ]
    },
    {
     "data": {
      "image/svg+xml": [
       "<svg baseProfile=\"full\" height=\"111.875\" version=\"1.1\" width=\"111.875\" xmlns=\"http://www.w3.org/2000/svg\" xmlns:ev=\"http://www.w3.org/2001/xml-events\" xmlns:xlink=\"http://www.w3.org/1999/xlink\"><defs/><rect fill=\"white\" height=\"111.875\" width=\"111.875\" x=\"0\" y=\"0\"/><path d=\"M25,48.125 m0.0,0.0 l4.375,3.125 -4.375,4.375 m8.125,11.25 l-5.625,20.0 m3.125,-52.5 l13.75,-6.875 12.5,-2.5 m22.5,17.5 l0.625,5.0 6.875,-3.75 l0.0,-3.75 -6.875,-1.875 l-0.625,3.75 -1.875,-3.75 l-3.75,0.0 -7.5,3.125 l-6.875,6.25 10.0,1.875 l9.375,-1.875 -6.25,0.0 l-3.125,-2.5 0.0,-3.75 \" fill=\"none\" stroke=\"black\" stroke-width=\"1\"/></svg>"
      ],
      "text/plain": [
       "<IPython.core.display.SVG object>"
      ]
     },
     "metadata": {},
     "output_type": "display_data"
    },
    {
     "name": "stdout",
     "output_type": "stream",
     "text": [
      "mouth 0.8499055\n"
     ]
    },
    {
     "data": {
      "image/svg+xml": [
       "<svg baseProfile=\"full\" height=\"74.375\" version=\"1.1\" width=\"96.875\" xmlns=\"http://www.w3.org/2000/svg\" xmlns:ev=\"http://www.w3.org/2001/xml-events\" xmlns:xlink=\"http://www.w3.org/1999/xlink\"><defs/><rect fill=\"white\" height=\"74.375\" width=\"96.875\" x=\"0\" y=\"0\"/><path d=\"M25,28.75 m0.0,0.0 l16.25,-3.75 m22.5,17.5 l0.625,5.0 7.5,-5.0 l-1.25,-2.5 -6.25,-1.875 l-0.625,3.75 -1.875,-3.75 l-3.75,0.0 -7.5,3.125 l-6.875,6.25 10.0,1.875 l9.375,-1.875 -6.25,0.0 l-3.125,-2.5 0.0,-3.75 \" fill=\"none\" stroke=\"black\" stroke-width=\"1\"/></svg>"
      ],
      "text/plain": [
       "<IPython.core.display.SVG object>"
      ]
     },
     "metadata": {},
     "output_type": "display_data"
    },
    {
     "name": "stdout",
     "output_type": "stream",
     "text": [
      "nose 0.91585565\n"
     ]
    },
    {
     "data": {
      "image/svg+xml": [
       "<svg baseProfile=\"full\" height=\"74.375\" version=\"1.1\" width=\"81.25\" xmlns=\"http://www.w3.org/2000/svg\" xmlns:ev=\"http://www.w3.org/2001/xml-events\" xmlns:xlink=\"http://www.w3.org/1999/xlink\"><defs/><rect fill=\"white\" height=\"74.375\" width=\"81.25\" x=\"0\" y=\"0\"/><path d=\"M25,25 m0.0,0.0 l18.125,1.25 11.25,6.25 m-6.25,10.0 l0.625,5.0 7.5,-5.0 l-1.25,-2.5 -6.25,-1.875 l-0.625,3.75 -1.875,-3.75 l-3.75,0.0 -7.5,3.125 l-6.875,6.25 10.0,1.875 l9.375,-1.875 -6.25,0.0 l-3.125,-2.5 0.0,-3.75 \" fill=\"none\" stroke=\"black\" stroke-width=\"1\"/></svg>"
      ],
      "text/plain": [
       "<IPython.core.display.SVG object>"
      ]
     },
     "metadata": {},
     "output_type": "display_data"
    },
    {
     "name": "stdout",
     "output_type": "stream",
     "text": [
      "nose 5.2658143\n"
     ]
    },
    {
     "data": {
      "image/svg+xml": [
       "<svg baseProfile=\"full\" height=\"111.25\" version=\"1.1\" width=\"99.375\" xmlns=\"http://www.w3.org/2000/svg\" xmlns:ev=\"http://www.w3.org/2001/xml-events\" xmlns:xlink=\"http://www.w3.org/1999/xlink\"><defs/><rect fill=\"white\" height=\"111.25\" width=\"99.375\" x=\"0\" y=\"0\"/><path d=\"M25,25 m0.0,0.0 l13.75,6.875 m-6.25,13.75 l3.125,0.0 5.0,-5.0 l-4.375,-2.5 -11.25,-0.625 l6.875,1.875 0.625,1.875 l-0.625,5.625 -4.375,1.25 l-2.5,-2.5 0.0,3.125 m48.75,-9.375 l0.625,46.875 \" fill=\"none\" stroke=\"black\" stroke-width=\"1\"/></svg>"
      ],
      "text/plain": [
       "<IPython.core.display.SVG object>"
      ]
     },
     "metadata": {},
     "output_type": "display_data"
    },
    {
     "name": "stdout",
     "output_type": "stream",
     "text": [
      "nose 1.6947914\n"
     ]
    },
    {
     "data": {
      "image/svg+xml": [
       "<svg baseProfile=\"full\" height=\"111.875\" version=\"1.1\" width=\"95.625\" xmlns=\"http://www.w3.org/2000/svg\" xmlns:ev=\"http://www.w3.org/2001/xml-events\" xmlns:xlink=\"http://www.w3.org/1999/xlink\"><defs/><rect fill=\"white\" height=\"111.875\" width=\"95.625\" x=\"0\" y=\"0\"/><path d=\"M25.625,25 m0.0,0.0 l-0.625,2.5 m6.875,18.125 l0.0,13.125 8.125,28.125 m11.875,-50.625 l0.0,4.375 2.5,0.0 l5.625,-5.0 -1.875,-1.875 l-5.625,-1.875 -0.625,3.75 l-1.875,-3.75 -5.625,0.625 l-2.5,2.5 0.625,3.125 l4.375,3.75 4.375,-0.625 l-10.625,1.25 -6.25,-2.5 l6.875,-5.625 m22.5,16.875 l-5.625,22.5 3.125,5.625 l9.375,-1.25 m-23.125,-41.875 l23.125,48.125 \" fill=\"none\" stroke=\"black\" stroke-width=\"1\"/></svg>"
      ],
      "text/plain": [
       "<IPython.core.display.SVG object>"
      ]
     },
     "metadata": {},
     "output_type": "display_data"
    },
    {
     "name": "stdout",
     "output_type": "stream",
     "text": [
      "nose 3.002616\n"
     ]
    },
    {
     "data": {
      "image/svg+xml": [
       "<svg baseProfile=\"full\" height=\"111.875\" version=\"1.1\" width=\"101.875\" xmlns=\"http://www.w3.org/2000/svg\" xmlns:ev=\"http://www.w3.org/2001/xml-events\" xmlns:xlink=\"http://www.w3.org/1999/xlink\"><defs/><rect fill=\"white\" height=\"111.875\" width=\"101.875\" x=\"0\" y=\"0\"/><path d=\"M25.625,25 m0.0,0.0 l-0.625,2.5 m6.875,18.125 l0.0,13.125 8.125,28.125 m11.875,-50.625 l0.0,4.375 2.5,0.0 l5.625,-5.0 -1.875,-1.875 l-5.625,-1.875 -0.625,3.75 l-1.875,-3.75 -5.625,0.625 l-2.5,2.5 0.625,3.125 l4.375,3.75 4.375,-0.625 l-10.625,1.25 -6.25,-2.5 l6.875,-5.625 m22.5,16.875 l-5.625,17.5 1.25,8.75 l2.5,1.875 10.625,-2.5 m-1.875,7.5 l6.25,-1.25 \" fill=\"none\" stroke=\"black\" stroke-width=\"1\"/></svg>"
      ],
      "text/plain": [
       "<IPython.core.display.SVG object>"
      ]
     },
     "metadata": {},
     "output_type": "display_data"
    },
    {
     "name": "stdout",
     "output_type": "stream",
     "text": [
      "nose 2.9492664\n"
     ]
    },
    {
     "data": {
      "image/svg+xml": [
       "<svg baseProfile=\"full\" height=\"111.875\" version=\"1.1\" width=\"111.875\" xmlns=\"http://www.w3.org/2000/svg\" xmlns:ev=\"http://www.w3.org/2001/xml-events\" xmlns:xlink=\"http://www.w3.org/1999/xlink\"><defs/><rect fill=\"white\" height=\"111.875\" width=\"111.875\" x=\"0\" y=\"0\"/><path d=\"M36.875,32.5 m0.0,0.0 l8.125,3.125 -3.75,3.75 l-5.625,2.5 -5.625,-1.25 l-5.0,-6.25 5.625,-2.5 l5.625,1.25 0.625,6.875 l-6.875,2.5 -5.0,-0.625 m23.75,9.375 l-5.625,17.5 1.25,8.75 l2.5,1.875 10.625,-2.5 m-1.875,7.5 l6.25,-1.25 m25.0,-50.0 l-11.875,-1.25 6.875,-6.875 l3.75,0.0 -0.625,4.375 l1.875,1.875 m-61.875,55.625 l8.125,-50.0 \" fill=\"none\" stroke=\"black\" stroke-width=\"1\"/></svg>"
      ],
      "text/plain": [
       "<IPython.core.display.SVG object>"
      ]
     },
     "metadata": {},
     "output_type": "display_data"
    },
    {
     "name": "stdout",
     "output_type": "stream",
     "text": [
      "nose 5.636431\n"
     ]
    },
    {
     "data": {
      "image/svg+xml": [
       "<svg baseProfile=\"full\" height=\"109.375\" version=\"1.1\" width=\"111.875\" xmlns=\"http://www.w3.org/2000/svg\" xmlns:ev=\"http://www.w3.org/2001/xml-events\" xmlns:xlink=\"http://www.w3.org/1999/xlink\"><defs/><rect fill=\"white\" height=\"109.375\" width=\"111.875\" x=\"0\" y=\"0\"/><path d=\"M25,32.5 m0.0,0.0 l4.375,3.125 -4.375,4.375 m8.125,11.25 l-5.625,17.5 1.25,8.75 l2.5,1.875 10.625,-2.5 m-1.875,7.5 l6.25,-1.25 m40.625,-56.25 l-4.375,3.75 -8.125,2.5 l-5.0,-3.75 0.625,-4.375 l-3.75,0.0 -6.875,6.875 l12.5,1.875 7.5,-3.125 l0.0,-5.625 \" fill=\"none\" stroke=\"black\" stroke-width=\"1\"/></svg>"
      ],
      "text/plain": [
       "<IPython.core.display.SVG object>"
      ]
     },
     "metadata": {},
     "output_type": "display_data"
    },
    {
     "name": "stdout",
     "output_type": "stream",
     "text": [
      "nose 2.998711\n"
     ]
    },
    {
     "data": {
      "image/svg+xml": [
       "<svg baseProfile=\"full\" height=\"108.125\" version=\"1.1\" width=\"97.5\" xmlns=\"http://www.w3.org/2000/svg\" xmlns:ev=\"http://www.w3.org/2001/xml-events\" xmlns:xlink=\"http://www.w3.org/1999/xlink\"><defs/><rect fill=\"white\" height=\"108.125\" width=\"97.5\" x=\"0\" y=\"0\"/><path d=\"M25,76.875 m0.0,0.0 l1.25,0.0 m-1.25,6.25 l5.625,0.0 m41.25,-56.875 l0.625,-1.25 -1.875,0.0 l1.25,1.875 -5.0,3.75 l-8.125,2.5 -5.0,-3.75 l0.625,-4.375 -3.75,0.0 l-6.875,6.875 10.0,1.875 l10.0,-3.125 0.0,-5.625 \" fill=\"none\" stroke=\"black\" stroke-width=\"1\"/></svg>"
      ],
      "text/plain": [
       "<IPython.core.display.SVG object>"
      ]
     },
     "metadata": {},
     "output_type": "display_data"
    },
    {
     "name": "stdout",
     "output_type": "stream",
     "text": [
      "nose 2.7951078\n"
     ]
    },
    {
     "data": {
      "image/svg+xml": [
       "<svg baseProfile=\"full\" height=\"111.25\" version=\"1.1\" width=\"108.75\" xmlns=\"http://www.w3.org/2000/svg\" xmlns:ev=\"http://www.w3.org/2001/xml-events\" xmlns:xlink=\"http://www.w3.org/1999/xlink\"><defs/><rect fill=\"white\" height=\"111.25\" width=\"108.75\" x=\"0\" y=\"0\"/><path d=\"M53.125,26.25 m0.0,0.0 l0.625,-1.25 -1.875,0.0 l1.25,1.875 -5.0,3.75 l-8.125,2.5 -5.0,-3.75 l0.625,-4.375 -3.75,0.0 l-6.875,6.875 10.0,1.875 l10.0,-3.125 0.0,-5.625 m37.5,61.25 l1.25,-5.0 \" fill=\"none\" stroke=\"black\" stroke-width=\"1\"/></svg>"
      ],
      "text/plain": [
       "<IPython.core.display.SVG object>"
      ]
     },
     "metadata": {},
     "output_type": "display_data"
    },
    {
     "name": "stdout",
     "output_type": "stream",
     "text": [
      "nose 7.8480554\n"
     ]
    },
    {
     "data": {
      "image/svg+xml": [
       "<svg baseProfile=\"full\" height=\"111.875\" version=\"1.1\" width=\"99.375\" xmlns=\"http://www.w3.org/2000/svg\" xmlns:ev=\"http://www.w3.org/2001/xml-events\" xmlns:xlink=\"http://www.w3.org/1999/xlink\"><defs/><rect fill=\"white\" height=\"111.875\" width=\"99.375\" x=\"0\" y=\"0\"/><path d=\"M25,30.625 m0.0,0.0 l0.0,3.125 6.25,-1.25 l1.25,-7.5 0.625,6.875 l8.125,-6.875 m33.125,0.0 l0.0,41.875 -3.75,20.0 \" fill=\"none\" stroke=\"black\" stroke-width=\"1\"/></svg>"
      ],
      "text/plain": [
       "<IPython.core.display.SVG object>"
      ]
     },
     "metadata": {},
     "output_type": "display_data"
    },
    {
     "name": "stdout",
     "output_type": "stream",
     "text": [
      "nose 3.7145667\n"
     ]
    },
    {
     "data": {
      "image/svg+xml": [
       "<svg baseProfile=\"full\" height=\"111.875\" version=\"1.1\" width=\"88.75\" xmlns=\"http://www.w3.org/2000/svg\" xmlns:ev=\"http://www.w3.org/2001/xml-events\" xmlns:xlink=\"http://www.w3.org/1999/xlink\"><defs/><rect fill=\"white\" height=\"111.875\" width=\"88.75\" x=\"0\" y=\"0\"/><path d=\"M25,30.0 m0.0,0.0 l1.875,22.5 11.875,34.375 m-12.5,-61.875 l7.5,1.875 4.375,0.0 l1.875,-1.875 -2.5,0.0 l10.0,0.0 m9.375,10.625 l-5.625,22.5 3.125,5.625 l9.375,-1.25 \" fill=\"none\" stroke=\"black\" stroke-width=\"1\"/></svg>"
      ],
      "text/plain": [
       "<IPython.core.display.SVG object>"
      ]
     },
     "metadata": {},
     "output_type": "display_data"
    },
    {
     "name": "stdout",
     "output_type": "stream",
     "text": [
      "nose 1.3690414\n"
     ]
    },
    {
     "data": {
      "image/svg+xml": [
       "<svg baseProfile=\"full\" height=\"111.875\" version=\"1.1\" width=\"104.375\" xmlns=\"http://www.w3.org/2000/svg\" xmlns:ev=\"http://www.w3.org/2001/xml-events\" xmlns:xlink=\"http://www.w3.org/1999/xlink\"><defs/><rect fill=\"white\" height=\"111.875\" width=\"104.375\" x=\"0\" y=\"0\"/><path d=\"M25,30.0 m0.0,0.0 l1.875,22.5 11.875,34.375 m-12.5,-61.875 l7.5,1.875 4.375,0.0 l1.875,-1.875 -2.5,0.0 l10.0,0.0 m9.375,10.625 l-5.625,17.5 1.25,8.75 l2.5,1.875 10.625,-2.5 m-1.875,7.5 l6.25,-1.25 m-3.125,19.375 l12.5,-8.125 \" fill=\"none\" stroke=\"black\" stroke-width=\"1\"/></svg>"
      ],
      "text/plain": [
       "<IPython.core.display.SVG object>"
      ]
     },
     "metadata": {},
     "output_type": "display_data"
    },
    {
     "name": "stdout",
     "output_type": "stream",
     "text": [
      "nose 3.5337768\n"
     ]
    },
    {
     "data": {
      "image/svg+xml": [
       "<svg baseProfile=\"full\" height=\"111.875\" version=\"1.1\" width=\"105.0\" xmlns=\"http://www.w3.org/2000/svg\" xmlns:ev=\"http://www.w3.org/2001/xml-events\" xmlns:xlink=\"http://www.w3.org/1999/xlink\"><defs/><rect fill=\"white\" height=\"111.875\" width=\"105.0\" x=\"0\" y=\"0\"/><path d=\"M25,25.625 m0.0,0.0 l5.0,1.25 1.875,-1.875 l-2.5,0.0 10.0,0.0 m-14.375,45.625 l5.625,16.25 m18.125,-51.25 l-5.625,17.5 1.25,8.75 l2.5,1.875 10.625,-2.5 m-1.875,7.5 l6.25,-1.25 m-3.125,19.375 l9.375,-7.5 11.875,-2.5 \" fill=\"none\" stroke=\"black\" stroke-width=\"1\"/></svg>"
      ],
      "text/plain": [
       "<IPython.core.display.SVG object>"
      ]
     },
     "metadata": {},
     "output_type": "display_data"
    },
    {
     "name": "stdout",
     "output_type": "stream",
     "text": [
      "nose 11.025978\n"
     ]
    },
    {
     "data": {
      "image/svg+xml": [
       "<svg baseProfile=\"full\" height=\"101.25\" version=\"1.1\" width=\"86.875\" xmlns=\"http://www.w3.org/2000/svg\" xmlns:ev=\"http://www.w3.org/2001/xml-events\" xmlns:xlink=\"http://www.w3.org/1999/xlink\"><defs/><rect fill=\"white\" height=\"101.25\" width=\"86.875\" x=\"0\" y=\"0\"/><path d=\"M30.625,25 m0.0,0.0 l-5.625,17.5 1.25,8.75 l2.5,1.875 10.625,-2.5 m-1.875,7.5 l6.25,-1.25 m-3.125,19.375 l9.375,-7.5 11.875,-2.5 \" fill=\"none\" stroke=\"black\" stroke-width=\"1\"/></svg>"
      ],
      "text/plain": [
       "<IPython.core.display.SVG object>"
      ]
     },
     "metadata": {},
     "output_type": "display_data"
    },
    {
     "name": "stdout",
     "output_type": "stream",
     "text": [
      "nose 9.647563\n"
     ]
    },
    {
     "data": {
      "image/svg+xml": [
       "<svg baseProfile=\"full\" height=\"75.625\" version=\"1.1\" width=\"73.75\" xmlns=\"http://www.w3.org/2000/svg\" xmlns:ev=\"http://www.w3.org/2001/xml-events\" xmlns:xlink=\"http://www.w3.org/1999/xlink\"><defs/><rect fill=\"white\" height=\"75.625\" width=\"73.75\" x=\"0\" y=\"0\"/><path d=\"M25,25 m0.0,0.0 l1.25,0.0 m-1.25,6.25 l5.625,0.0 m-3.125,19.375 l9.375,-7.5 11.875,-2.5 \" fill=\"none\" stroke=\"black\" stroke-width=\"1\"/></svg>"
      ],
      "text/plain": [
       "<IPython.core.display.SVG object>"
      ]
     },
     "metadata": {},
     "output_type": "display_data"
    },
    {
     "name": "stdout",
     "output_type": "stream",
     "text": [
      "nose 1.9499401\n"
     ]
    },
    {
     "data": {
      "image/svg+xml": [
       "<svg baseProfile=\"full\" height=\"71.875\" version=\"1.1\" width=\"111.875\" xmlns=\"http://www.w3.org/2000/svg\" xmlns:ev=\"http://www.w3.org/2001/xml-events\" xmlns:xlink=\"http://www.w3.org/1999/xlink\"><defs/><rect fill=\"white\" height=\"71.875\" width=\"111.875\" x=\"0\" y=\"0\"/><path d=\"M25,38.75 m0.0,0.0 l8.125,-1.875 m43.75,10.0 l10.0,-17.5 0.0,-4.375 \" fill=\"none\" stroke=\"black\" stroke-width=\"1\"/></svg>"
      ],
      "text/plain": [
       "<IPython.core.display.SVG object>"
      ]
     },
     "metadata": {},
     "output_type": "display_data"
    },
    {
     "name": "stdout",
     "output_type": "stream",
     "text": [
      "nose 4.3702397\n"
     ]
    },
    {
     "data": {
      "image/svg+xml": [
       "<svg baseProfile=\"full\" height=\"111.875\" version=\"1.1\" width=\"63.75\" xmlns=\"http://www.w3.org/2000/svg\" xmlns:ev=\"http://www.w3.org/2001/xml-events\" xmlns:xlink=\"http://www.w3.org/1999/xlink\"><defs/><rect fill=\"white\" height=\"111.875\" width=\"63.75\" x=\"0\" y=\"0\"/><path d=\"M25,86.875 m0.0,0.0 l11.25,-19.375 2.5,-16.25 l-0.625,-26.25 \" fill=\"none\" stroke=\"black\" stroke-width=\"1\"/></svg>"
      ],
      "text/plain": [
       "<IPython.core.display.SVG object>"
      ]
     },
     "metadata": {},
     "output_type": "display_data"
    },
    {
     "name": "stdout",
     "output_type": "stream",
     "text": [
      "nose 6.670171\n"
     ]
    },
    {
     "data": {
      "image/svg+xml": [
       "<svg baseProfile=\"full\" height=\"111.875\" version=\"1.1\" width=\"88.125\" xmlns=\"http://www.w3.org/2000/svg\" xmlns:ev=\"http://www.w3.org/2001/xml-events\" xmlns:xlink=\"http://www.w3.org/1999/xlink\"><defs/><rect fill=\"white\" height=\"111.875\" width=\"88.125\" x=\"0\" y=\"0\"/><path d=\"M25,25 m0.0,0.0 l3.75,21.875 15.0,40.0 m19.375,-13.125 l-11.25,-0.625 -5.625,8.75 l1.875,3.125 15.0,-2.5 l-15.0,4.375 m6.875,-61.875 l-4.375,12.5 1.25,8.75 l1.875,1.875 9.375,-1.25 m0.0,5.625 l0.0,34.375 \" fill=\"none\" stroke=\"black\" stroke-width=\"1\"/></svg>"
      ],
      "text/plain": [
       "<IPython.core.display.SVG object>"
      ]
     },
     "metadata": {},
     "output_type": "display_data"
    },
    {
     "name": "stdout",
     "output_type": "stream",
     "text": [
      "nose 7.8820367\n"
     ]
    },
    {
     "data": {
      "image/svg+xml": [
       "<svg baseProfile=\"full\" height=\"111.875\" version=\"1.1\" width=\"103.75\" xmlns=\"http://www.w3.org/2000/svg\" xmlns:ev=\"http://www.w3.org/2001/xml-events\" xmlns:xlink=\"http://www.w3.org/1999/xlink\"><defs/><rect fill=\"white\" height=\"111.875\" width=\"103.75\" x=\"0\" y=\"0\"/><path d=\"M25,25 m0.0,0.0 l3.75,21.875 15.0,40.0 m33.75,-23.125 l-4.375,1.875 -8.125,8.75 l-13.125,-1.25 -5.625,9.375 l1.875,2.5 15.0,-2.5 l15.625,-5.625 -30.625,10.0 m6.875,-61.875 l-4.375,12.5 1.25,8.75 l1.875,1.875 10.625,-1.875 m-1.25,6.875 l6.25,-1.25 \" fill=\"none\" stroke=\"black\" stroke-width=\"1\"/></svg>"
      ],
      "text/plain": [
       "<IPython.core.display.SVG object>"
      ]
     },
     "metadata": {},
     "output_type": "display_data"
    },
    {
     "name": "stdout",
     "output_type": "stream",
     "text": [
      "mouth 2.858158\n"
     ]
    },
    {
     "data": {
      "image/svg+xml": [
       "<svg baseProfile=\"full\" height=\"111.875\" version=\"1.1\" width=\"108.125\" xmlns=\"http://www.w3.org/2000/svg\" xmlns:ev=\"http://www.w3.org/2001/xml-events\" xmlns:xlink=\"http://www.w3.org/1999/xlink\"><defs/><rect fill=\"white\" height=\"111.875\" width=\"108.125\" x=\"0\" y=\"0\"/><path d=\"M25,55.0 m0.0,0.0 l11.25,31.875 m4.375,0.0 l-1.875,-5.0 5.625,-8.75 l13.125,1.25 10.625,-10.625 l11.875,-2.5 -38.75,23.125 l23.75,-4.375 16.25,-9.375 l1.875,0.625 -0.625,5.0 l-7.5,7.5 -5.0,1.875 l-10.0,-1.25 -5.0,2.5 l28.125,-16.875 0.0,-4.375 l-1.875,-1.875 m-33.75,-38.75 l-4.375,12.5 1.25,8.75 l1.875,1.875 10.625,-1.875 m-1.25,6.875 l6.25,-1.25 \" fill=\"none\" stroke=\"black\" stroke-width=\"1\"/></svg>"
      ],
      "text/plain": [
       "<IPython.core.display.SVG object>"
      ]
     },
     "metadata": {},
     "output_type": "display_data"
    },
    {
     "name": "stdout",
     "output_type": "stream",
     "text": [
      "nose 5.1443334\n"
     ]
    },
    {
     "data": {
      "image/svg+xml": [
       "<svg baseProfile=\"full\" height=\"105.625\" version=\"1.1\" width=\"89.375\" xmlns=\"http://www.w3.org/2000/svg\" xmlns:ev=\"http://www.w3.org/2001/xml-events\" xmlns:xlink=\"http://www.w3.org/1999/xlink\"><defs/><rect fill=\"white\" height=\"105.625\" width=\"89.375\" x=\"0\" y=\"0\"/><path d=\"M64.375,61.25 m0.0,0.0 l-11.875,2.5 -10.625,10.625 l-13.125,-1.25 -3.75,3.75 l0.0,3.75 m6.875,-55.625 l-4.375,12.5 1.25,8.75 l1.875,1.875 10.625,-1.875 m-1.25,6.875 l6.25,-1.25 \" fill=\"none\" stroke=\"black\" stroke-width=\"1\"/></svg>"
      ],
      "text/plain": [
       "<IPython.core.display.SVG object>"
      ]
     },
     "metadata": {},
     "output_type": "display_data"
    },
    {
     "name": "stdout",
     "output_type": "stream",
     "text": [
      "nose 9.421115\n"
     ]
    },
    {
     "data": {
      "image/svg+xml": [
       "<svg baseProfile=\"full\" height=\"91.25\" version=\"1.1\" width=\"111.875\" xmlns=\"http://www.w3.org/2000/svg\" xmlns:ev=\"http://www.w3.org/2001/xml-events\" xmlns:xlink=\"http://www.w3.org/1999/xlink\"><defs/><rect fill=\"white\" height=\"91.25\" width=\"111.875\" x=\"0\" y=\"0\"/><path d=\"M25,25 m0.0,0.0 l1.25,0.0 m-1.25,6.25 l5.625,0.0 m-5.625,21.875 l1.25,0.625 10.625,-10.625 l11.25,-1.875 m38.75,14.375 l-8.75,10.625 \" fill=\"none\" stroke=\"black\" stroke-width=\"1\"/></svg>"
      ],
      "text/plain": [
       "<IPython.core.display.SVG object>"
      ]
     },
     "metadata": {},
     "output_type": "display_data"
    },
    {
     "name": "stdout",
     "output_type": "stream",
     "text": [
      "nose 2.755692\n"
     ]
    },
    {
     "data": {
      "image/svg+xml": [
       "<svg baseProfile=\"full\" height=\"87.5\" version=\"1.1\" width=\"111.875\" xmlns=\"http://www.w3.org/2000/svg\" xmlns:ev=\"http://www.w3.org/2001/xml-events\" xmlns:xlink=\"http://www.w3.org/1999/xlink\"><defs/><rect fill=\"white\" height=\"87.5\" width=\"111.875\" x=\"0\" y=\"0\"/><path d=\"M25,38.75 m0.0,0.0 l8.125,-1.875 m53.75,-11.875 l0.0,4.375 -8.75,16.25 l-15.625,16.875 \" fill=\"none\" stroke=\"black\" stroke-width=\"1\"/></svg>"
      ],
      "text/plain": [
       "<IPython.core.display.SVG object>"
      ]
     },
     "metadata": {},
     "output_type": "display_data"
    },
    {
     "name": "stdout",
     "output_type": "stream",
     "text": [
      "nose 4.4049673\n"
     ]
    },
    {
     "data": {
      "image/svg+xml": [
       "<svg baseProfile=\"full\" height=\"111.875\" version=\"1.1\" width=\"78.75\" xmlns=\"http://www.w3.org/2000/svg\" xmlns:ev=\"http://www.w3.org/2001/xml-events\" xmlns:xlink=\"http://www.w3.org/1999/xlink\"><defs/><rect fill=\"white\" height=\"111.875\" width=\"78.75\" x=\"0\" y=\"0\"/><path d=\"M25,86.875 m0.0,0.0 l16.875,-16.875 9.375,-18.125 l2.5,-26.875 \" fill=\"none\" stroke=\"black\" stroke-width=\"1\"/></svg>"
      ],
      "text/plain": [
       "<IPython.core.display.SVG object>"
      ]
     },
     "metadata": {},
     "output_type": "display_data"
    },
    {
     "name": "stdout",
     "output_type": "stream",
     "text": [
      "nose 4.7002115\n"
     ]
    },
    {
     "data": {
      "image/svg+xml": [
       "<svg baseProfile=\"full\" height=\"111.875\" version=\"1.1\" width=\"85.0\" xmlns=\"http://www.w3.org/2000/svg\" xmlns:ev=\"http://www.w3.org/2001/xml-events\" xmlns:xlink=\"http://www.w3.org/1999/xlink\"><defs/><rect fill=\"white\" height=\"111.875\" width=\"85.0\" x=\"0\" y=\"0\"/><path d=\"M25,25 m0.0,0.0 l0.625,6.25 15.0,42.5 l7.5,13.125 m10.625,-28.75 l-10.0,-0.625 -5.625,9.375 l1.875,2.5 15.0,-3.125 l-15.0,3.75 3.75,4.375 l7.5,0.0 3.75,-3.125 m-11.875,-46.25 l2.5,7.5 9.375,-1.25 \" fill=\"none\" stroke=\"black\" stroke-width=\"1\"/></svg>"
      ],
      "text/plain": [
       "<IPython.core.display.SVG object>"
      ]
     },
     "metadata": {},
     "output_type": "display_data"
    },
    {
     "name": "stdout",
     "output_type": "stream",
     "text": [
      "nose 4.8007207\n"
     ]
    },
    {
     "data": {
      "image/svg+xml": [
       "<svg baseProfile=\"full\" height=\"111.875\" version=\"1.1\" width=\"100.625\" xmlns=\"http://www.w3.org/2000/svg\" xmlns:ev=\"http://www.w3.org/2001/xml-events\" xmlns:xlink=\"http://www.w3.org/1999/xlink\"><defs/><rect fill=\"white\" height=\"111.875\" width=\"100.625\" x=\"0\" y=\"0\"/><path d=\"M25,25 m0.0,0.0 l0.625,6.25 15.0,42.5 l7.5,13.125 m27.5,-40.0 l-5.625,3.125 -8.125,8.75 l-13.125,-1.25 -5.625,8.75 l1.875,3.125 15.0,-2.5 l15.625,-6.25 -30.625,9.375 l1.875,3.125 5.625,1.875 l11.875,-6.25 11.25,0.625 m-27.5,-44.375 l2.5,7.5 11.25,-2.5 m-1.875,7.5 l6.25,-1.25 \" fill=\"none\" stroke=\"black\" stroke-width=\"1\"/></svg>"
      ],
      "text/plain": [
       "<IPython.core.display.SVG object>"
      ]
     },
     "metadata": {},
     "output_type": "display_data"
    },
    {
     "name": "stdout",
     "output_type": "stream",
     "text": [
      "nose 4.6207786\n"
     ]
    },
    {
     "data": {
      "image/svg+xml": [
       "<svg baseProfile=\"full\" height=\"111.875\" version=\"1.1\" width=\"111.875\" xmlns=\"http://www.w3.org/2000/svg\" xmlns:ev=\"http://www.w3.org/2001/xml-events\" xmlns:xlink=\"http://www.w3.org/1999/xlink\"><defs/><rect fill=\"white\" height=\"111.875\" width=\"111.875\" x=\"0\" y=\"0\"/><path d=\"M25,39.375 m0.0,0.0 l11.25,34.375 7.5,13.125 m36.25,-41.25 l-11.875,2.5 -10.625,10.625 l-13.125,-1.25 -5.625,8.75 l1.875,3.125 24.375,-5.0 l17.5,-9.375 1.25,-2.5 l-2.5,-4.375 1.25,12.5 l-7.5,7.5 -5.0,1.875 l-10.0,-1.25 -11.875,6.25 l-3.75,-0.625 -3.75,-4.375 m3.125,-45.0 l2.5,7.5 11.25,-2.5 m-1.875,7.5 l6.25,-1.25 m20.0,50.625 l5.0,-1.875 \" fill=\"none\" stroke=\"black\" stroke-width=\"1\"/></svg>"
      ],
      "text/plain": [
       "<IPython.core.display.SVG object>"
      ]
     },
     "metadata": {},
     "output_type": "display_data"
    },
    {
     "name": "stdout",
     "output_type": "stream",
     "text": [
      "nose 4.4059176\n"
     ]
    },
    {
     "data": {
      "image/svg+xml": [
       "<svg baseProfile=\"full\" height=\"111.875\" version=\"1.1\" width=\"111.875\" xmlns=\"http://www.w3.org/2000/svg\" xmlns:ev=\"http://www.w3.org/2001/xml-events\" xmlns:xlink=\"http://www.w3.org/1999/xlink\"><defs/><rect fill=\"white\" height=\"111.875\" width=\"111.875\" x=\"0\" y=\"0\"/><path d=\"M63.75,46.25 m0.0,0.0 l-11.25,1.875 -10.625,10.625 l-13.125,-1.25 -3.75,3.75 l0.0,3.75 m0.0,15.625 l3.125,6.25 m0.0,-61.875 l2.5,7.5 11.25,-2.5 m-1.875,7.5 l6.25,-1.25 m20.0,50.625 l10.625,-3.75 10.0,-7.5 \" fill=\"none\" stroke=\"black\" stroke-width=\"1\"/></svg>"
      ],
      "text/plain": [
       "<IPython.core.display.SVG object>"
      ]
     },
     "metadata": {},
     "output_type": "display_data"
    },
    {
     "name": "stdout",
     "output_type": "stream",
     "text": [
      "nose 8.019599\n"
     ]
    },
    {
     "data": {
      "image/svg+xml": [
       "<svg baseProfile=\"full\" height=\"106.875\" version=\"1.1\" width=\"111.875\" xmlns=\"http://www.w3.org/2000/svg\" xmlns:ev=\"http://www.w3.org/2001/xml-events\" xmlns:xlink=\"http://www.w3.org/1999/xlink\"><defs/><rect fill=\"white\" height=\"106.875\" width=\"111.875\" x=\"0\" y=\"0\"/><path d=\"M25,25 m0.0,0.0 l1.25,0.0 m-1.25,6.25 l5.625,0.0 m-5.625,22.5 l11.875,-10.625 11.25,-1.875 m2.5,40.625 l14.375,-6.25 14.375,-10.625 l7.5,-8.75 \" fill=\"none\" stroke=\"black\" stroke-width=\"1\"/></svg>"
      ],
      "text/plain": [
       "<IPython.core.display.SVG object>"
      ]
     },
     "metadata": {},
     "output_type": "display_data"
    },
    {
     "name": "stdout",
     "output_type": "stream",
     "text": [
      "nose 3.7715917\n"
     ]
    },
    {
     "data": {
      "image/svg+xml": [
       "<svg baseProfile=\"full\" height=\"103.125\" version=\"1.1\" width=\"111.875\" xmlns=\"http://www.w3.org/2000/svg\" xmlns:ev=\"http://www.w3.org/2001/xml-events\" xmlns:xlink=\"http://www.w3.org/1999/xlink\"><defs/><rect fill=\"white\" height=\"103.125\" width=\"111.875\" x=\"0\" y=\"0\"/><path d=\"M25,38.75 m0.0,0.0 l8.125,-1.875 m53.75,-11.875 l0.0,4.375 -8.75,16.25 l-11.875,13.125 -20.625,15.625 l-10.0,3.75 \" fill=\"none\" stroke=\"black\" stroke-width=\"1\"/></svg>"
      ],
      "text/plain": [
       "<IPython.core.display.SVG object>"
      ]
     },
     "metadata": {},
     "output_type": "display_data"
    },
    {
     "name": "stdout",
     "output_type": "stream",
     "text": [
      "nose 2.9978476\n"
     ]
    },
    {
     "data": {
      "image/svg+xml": [
       "<svg baseProfile=\"full\" height=\"109.375\" version=\"1.1\" width=\"99.375\" xmlns=\"http://www.w3.org/2000/svg\" xmlns:ev=\"http://www.w3.org/2001/xml-events\" xmlns:xlink=\"http://www.w3.org/1999/xlink\"><defs/><rect fill=\"white\" height=\"109.375\" width=\"99.375\" x=\"0\" y=\"0\"/><path d=\"M25,84.375 m0.0,0.0 l5.0,-1.25 15.0,-10.625 l17.5,-18.125 9.375,-18.125 l2.5,-11.25 \" fill=\"none\" stroke=\"black\" stroke-width=\"1\"/></svg>"
      ],
      "text/plain": [
       "<IPython.core.display.SVG object>"
      ]
     },
     "metadata": {},
     "output_type": "display_data"
    },
    {
     "name": "stdout",
     "output_type": "stream",
     "text": [
      "nose 7.5213046\n"
     ]
    },
    {
     "data": {
      "image/svg+xml": [
       "<svg baseProfile=\"full\" height=\"101.25\" version=\"1.1\" width=\"80.0\" xmlns=\"http://www.w3.org/2000/svg\" xmlns:ev=\"http://www.w3.org/2001/xml-events\" xmlns:xlink=\"http://www.w3.org/1999/xlink\"><defs/><rect fill=\"white\" height=\"101.25\" width=\"80.0\" x=\"0\" y=\"0\"/><path d=\"M25,25 m0.0,0.0 l10.625,33.125 7.5,14.375 l11.875,3.75 m-1.25,-33.75 l-10.0,-0.625 -5.625,9.375 l1.875,2.5 15.0,-3.125 l-15.0,3.75 3.75,4.375 l7.5,0.0 3.75,-3.125 \" fill=\"none\" stroke=\"black\" stroke-width=\"1\"/></svg>"
      ],
      "text/plain": [
       "<IPython.core.display.SVG object>"
      ]
     },
     "metadata": {},
     "output_type": "display_data"
    },
    {
     "name": "stdout",
     "output_type": "stream",
     "text": [
      "nose 5.674015\n"
     ]
    },
    {
     "data": {
      "image/svg+xml": [
       "<svg baseProfile=\"full\" height=\"101.25\" version=\"1.1\" width=\"95.625\" xmlns=\"http://www.w3.org/2000/svg\" xmlns:ev=\"http://www.w3.org/2001/xml-events\" xmlns:xlink=\"http://www.w3.org/1999/xlink\"><defs/><rect fill=\"white\" height=\"101.25\" width=\"95.625\" x=\"0\" y=\"0\"/><path d=\"M25,25 m0.0,0.0 l10.625,33.125 7.5,14.375 l12.5,3.75 15.0,-0.625 m0.0,-44.375 l-5.625,3.125 -8.125,8.75 l-13.125,-1.25 -5.625,8.75 l1.875,3.125 15.0,-2.5 l15.625,-6.25 -30.625,9.375 l1.875,3.125 5.625,1.875 l11.875,-6.25 11.25,0.625 \" fill=\"none\" stroke=\"black\" stroke-width=\"1\"/></svg>"
      ],
      "text/plain": [
       "<IPython.core.display.SVG object>"
      ]
     },
     "metadata": {},
     "output_type": "display_data"
    },
    {
     "name": "stdout",
     "output_type": "stream",
     "text": [
      "mouth 3.7104166\n"
     ]
    },
    {
     "data": {
      "image/svg+xml": [
       "<svg baseProfile=\"full\" height=\"101.25\" version=\"1.1\" width=\"111.875\" xmlns=\"http://www.w3.org/2000/svg\" xmlns:ev=\"http://www.w3.org/2001/xml-events\" xmlns:xlink=\"http://www.w3.org/1999/xlink\"><defs/><rect fill=\"white\" height=\"101.25\" width=\"111.875\" x=\"0\" y=\"0\"/><path d=\"M86.875,68.75 m0.0,0.0 l-15.0,6.875 -15.625,0.625 l-11.25,-2.5 -8.75,-15.625 l-11.25,-30.625 0.625,-2.5 m54.375,5.0 l-11.875,2.5 -10.625,10.625 l-13.125,-1.25 -5.625,8.75 l1.875,3.125 24.375,-5.0 l17.5,-9.375 1.25,-2.5 l-2.5,-4.375 1.25,12.5 l-7.5,7.5 -5.0,1.875 l-10.0,-1.25 -11.875,6.25 l-3.75,-0.625 -3.75,-4.375 \" fill=\"none\" stroke=\"black\" stroke-width=\"1\"/></svg>"
      ],
      "text/plain": [
       "<IPython.core.display.SVG object>"
      ]
     },
     "metadata": {},
     "output_type": "display_data"
    },
    {
     "name": "stdout",
     "output_type": "stream",
     "text": [
      "nose 7.7177157\n"
     ]
    },
    {
     "data": {
      "image/svg+xml": [
       "<svg baseProfile=\"full\" height=\"95.625\" version=\"1.1\" width=\"111.875\" xmlns=\"http://www.w3.org/2000/svg\" xmlns:ev=\"http://www.w3.org/2001/xml-events\" xmlns:xlink=\"http://www.w3.org/1999/xlink\"><defs/><rect fill=\"white\" height=\"95.625\" width=\"111.875\" x=\"0\" y=\"0\"/><path d=\"M63.75,25 m0.0,0.0 l-11.25,1.875 -10.625,10.625 l-13.125,-1.25 -3.75,3.75 l0.0,3.75 m0.0,15.625 l4.375,8.75 11.25,2.5 l15.625,-0.625 20.625,-8.125 l10.0,-7.5 \" fill=\"none\" stroke=\"black\" stroke-width=\"1\"/></svg>"
      ],
      "text/plain": [
       "<IPython.core.display.SVG object>"
      ]
     },
     "metadata": {},
     "output_type": "display_data"
    },
    {
     "name": "stdout",
     "output_type": "stream",
     "text": [
      "nose 2.3994112\n"
     ]
    },
    {
     "data": {
      "image/svg+xml": [
       "<svg baseProfile=\"full\" height=\"95.625\" version=\"1.1\" width=\"111.875\" xmlns=\"http://www.w3.org/2000/svg\" xmlns:ev=\"http://www.w3.org/2001/xml-events\" xmlns:xlink=\"http://www.w3.org/1999/xlink\"><defs/><rect fill=\"white\" height=\"95.625\" width=\"111.875\" x=\"0\" y=\"0\"/><path d=\"M25,37.5 m0.0,0.0 l11.875,-10.625 11.25,-1.875 m38.75,14.375 l-7.5,9.375 -18.125,13.125 l-16.875,7.5 -19.375,1.25 \" fill=\"none\" stroke=\"black\" stroke-width=\"1\"/></svg>"
      ],
      "text/plain": [
       "<IPython.core.display.SVG object>"
      ]
     },
     "metadata": {},
     "output_type": "display_data"
    },
    {
     "name": "stdout",
     "output_type": "stream",
     "text": [
      "nose 5.4467573\n"
     ]
    },
    {
     "data": {
      "image/svg+xml": [
       "<svg baseProfile=\"full\" height=\"100.625\" version=\"1.1\" width=\"110.625\" xmlns=\"http://www.w3.org/2000/svg\" xmlns:ev=\"http://www.w3.org/2001/xml-events\" xmlns:xlink=\"http://www.w3.org/1999/xlink\"><defs/><rect fill=\"white\" height=\"100.625\" width=\"110.625\" x=\"0\" y=\"0\"/><path d=\"M25,31.875 m0.0,0.0 l8.125,-1.875 m-8.125,45.625 l20.625,-8.125 18.125,-13.125 l14.375,-15.625 7.5,-13.75 \" fill=\"none\" stroke=\"black\" stroke-width=\"1\"/></svg>"
      ],
      "text/plain": [
       "<IPython.core.display.SVG object>"
      ]
     },
     "metadata": {},
     "output_type": "display_data"
    },
    {
     "name": "stdout",
     "output_type": "stream",
     "text": [
      "nose 2.0637445\n"
     ]
    },
    {
     "data": {
      "image/svg+xml": [
       "<svg baseProfile=\"full\" height=\"93.75\" version=\"1.1\" width=\"95.0\" xmlns=\"http://www.w3.org/2000/svg\" xmlns:ev=\"http://www.w3.org/2001/xml-events\" xmlns:xlink=\"http://www.w3.org/1999/xlink\"><defs/><rect fill=\"white\" height=\"93.75\" width=\"95.0\" x=\"0\" y=\"0\"/><path d=\"M25,68.75 m0.0,0.0 l5.0,-1.25 18.125,-13.125 l14.375,-15.625 7.5,-13.75 \" fill=\"none\" stroke=\"black\" stroke-width=\"1\"/></svg>"
      ],
      "text/plain": [
       "<IPython.core.display.SVG object>"
      ]
     },
     "metadata": {},
     "output_type": "display_data"
    },
    {
     "data": {
      "image/png": "[encoded data removed]",
      "text/plain": [
       "<matplotlib.figure.Figure at 0x11af5b990>"
      ]
     },
     "metadata": {},
     "output_type": "display_data"
    }
   ],
   "source": [
    "import classification\n",
    "classification = reload(classification)\n",
    "from classification import classify\n",
    "\n",
    "# window parameters\n",
    "window_size = 100\n",
    "shift_size = 25\n",
    "\n",
    "# scale the strokes\n",
    "scale_factor = 8\n",
    "\n",
    "# how many faces do you want to use?\n",
    "num_faces = 10\n",
    "\n",
    "for face in load_faces(n=num_faces):\n",
    "    im = cv2.imread(face, 0)\n",
    "    \n",
    "    # documentation is in classification.py\n",
    "    # thresh is minimum confidence\n",
    "    # eyes, noses, mouths take the confident bounding boxes\n",
    "    # verbose shows each window classification and accuracy\n",
    "    classify(im,\n",
    "             window_size=window_size,\n",
    "             shift_size=shift_size,\n",
    "             scale_factor=scale_factor,\n",
    "             thresh=0.5,\n",
    "             eyes=2, noses=1, mouths=1,\n",
    "             verbose=True)\n"
   ]
  },
  {
   "cell_type": "code",
   "execution_count": null,
   "metadata": {},
   "outputs": [],
   "source": []
  },
  {
   "cell_type": "code",
   "execution_count": null,
   "metadata": {},
   "outputs": [],
   "source": []
  }
 ],
 "metadata": {
  "kernelspec": {
   "display_name": "Python 2",
   "language": "python",
   "name": "python2"
  },
  "language_info": {
   "codemirror_mode": {
    "name": "ipython",
    "version": 2
   },
   "file_extension": ".py",
   "mimetype": "text/x-python",
   "name": "python",
   "nbconvert_exporter": "python",
   "pygments_lexer": "ipython2",
   "version": "2.7.10"
  }
 },
 "nbformat": 4,
 "nbformat_minor": 2
}
