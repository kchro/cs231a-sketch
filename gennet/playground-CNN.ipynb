{
 "cells": [
  {
   "cell_type": "markdown",
   "metadata": {},
   "source": [
    "# CNN Encoder + LSTM Decoder"
   ]
  },
  {
   "cell_type": "code",
   "execution_count": 1,
   "metadata": {},
   "outputs": [],
   "source": [
    "# import the required libraries\n",
    "import numpy as np\n",
    "import time\n",
    "import random\n",
    "import cPickle\n",
    "import codecs\n",
    "import collections\n",
    "import os\n",
    "import math\n",
    "import json\n",
    "import tensorflow as tf\n",
    "from six.moves import xrange\n",
    "#os.environ[\"CUDA_VISIBLE_DEVICES\"]=\"1\"\n",
    "from IPython.display import SVG, display\n",
    "import svgwrite # conda install -c omnia svgwrite=1.1.6\n",
    "import PIL\n",
    "from PIL import Image\n",
    "import matplotlib.pyplot as plt\n",
    "np.set_printoptions(precision=8, edgeitems=6, linewidth=200, suppress=True)"
   ]
  },
  {
   "cell_type": "code",
   "execution_count": 3,
   "metadata": {},
   "outputs": [],
   "source": [
    "# import our command line tools\n",
    "from sketch_rnn_train_cnn_tf import *\n",
    "from model_cnn_tf import *\n",
    "from utils_cnn import *\n",
    "from rnn import *\n",
    "from cnn_tf import *"
   ]
  },
  {
   "cell_type": "code",
   "execution_count": 6,
   "metadata": {},
   "outputs": [],
   "source": [
    "# HELPER FUNCTION\n",
    "def draw_strokes(data, color=\"black\", doGradient=False, endColor=\"black\", factor=0.2, svg_filename = 'svg/sample.svg'):\n",
    "    tf.gfile.MakeDirs(os.path.dirname(svg_filename))\n",
    "    min_x, max_x, min_y, max_y = get_bounds(data, factor)\n",
    "    dims = (50 + max_x - min_x, 50 + max_y - min_y)\n",
    "    dwg = svgwrite.Drawing(svg_filename, size=dims)\n",
    "    dwg.add(dwg.rect(insert=(0, 0), size=dims,fill='white'))\n",
    "    lift_pen = 1\n",
    "    abs_x = 25 - min_x \n",
    "    abs_y = 25 - min_y\n",
    "    p = \"M%s,%s \" % (abs_x, abs_y)\n",
    "    command = \"m\"\n",
    "    for i in xrange(len(data)):\n",
    "        if (lift_pen == 1):\n",
    "            command = \"m\"\n",
    "        elif (command != \"l\"):\n",
    "            command = \"l\"\n",
    "        else:\n",
    "            command = \"\"\n",
    "        x = float(data[i,0])/factor\n",
    "        y = float(data[i,1])/factor\n",
    "        #print(x)\n",
    "        #print(y)\n",
    "        lift_pen = data[i, 2]\n",
    "        p += command+str(x)+\",\"+str(y)+\" \"\n",
    "    np.save(\"data_tester.npy\",data)\n",
    "    the_color = color\n",
    "    stroke_width = 1\n",
    "    dwg.add(dwg.path(p).stroke(the_color,stroke_width).fill(\"none\"))\n",
    "    dwg.save()\n",
    "    display(SVG(dwg.tostring()))\n",
    "    \n",
    "# generate a 2D grid of many vector drawings\n",
    "def make_grid_svg(s_list, grid_space=10.0, grid_space_x=16.0):\n",
    "  def get_start_and_end(x):\n",
    "    x = np.array(x)\n",
    "    x = x[:, 0:2]\n",
    "    x_start = x[0]\n",
    "    x_end = x.sum(axis=0)\n",
    "    x = x.cumsum(axis=0)\n",
    "    x_max = x.max(axis=0)\n",
    "    x_min = x.min(axis=0)\n",
    "    center_loc = (x_max+x_min)*0.5\n",
    "    return x_start-center_loc, x_end\n",
    "  x_pos = 0.0\n",
    "  y_pos = 0.0\n",
    "  result = [[x_pos, y_pos, 1]]\n",
    "\n",
    "  #for each reconstruction\n",
    "  for sample in s_list:\n",
    "    s = sample[0]\n",
    "    grid_loc = sample[1]\n",
    "    grid_y = grid_loc[0]*grid_space+grid_space*0.5\n",
    "    grid_x = grid_loc[1]*grid_space_x+grid_space_x*0.5\n",
    "    start_loc, delta_pos = get_start_and_end(s)\n",
    "\n",
    "    loc_x = start_loc[0]\n",
    "    loc_y = start_loc[1]\n",
    "    new_x_pos = grid_x+loc_x\n",
    "    new_y_pos = grid_y+loc_y\n",
    "    result.append([new_x_pos-x_pos, new_y_pos-y_pos, 0])\n",
    "\n",
    "    result += s.tolist()\n",
    "    result[-1][2] = 1\n",
    "    x_pos = new_x_pos+delta_pos[0]\n",
    "    y_pos = new_y_pos+delta_pos[1]\n",
    "  return np.array(result)\n",
    "def encode(input_strokes):\n",
    "  strokes = to_big_strokes(input_strokes).tolist()\n",
    "  strokes.insert(0, [0, 0, 1, 0, 0])\n",
    "  seq_len = [len(input_strokes)]\n",
    "  print(seq_len)\n",
    "  draw_strokes(to_normal_strokes(np.array(strokes)))\n",
    "  return sess.run(eval_model.batch_z, feed_dict={eval_model.input_data: [strokes], eval_model.sequence_lengths: seq_len})[0]\n",
    "def encode_cnn(input_ims):\n",
    "  return sess.run(eval_model.batch_z, feed_dict={eval_model.input_ims: [input_ims]})[0]\n",
    "#latent vector to stroke\n",
    "def decode(z_input=None, draw_mode=True, temperature=0.1, factor=0.2):\n",
    "  z = None\n",
    "  if z_input is not None:\n",
    "    z = [z_input]\n",
    "  sample_strokes, m, _, _ = sample(sess, sample_model, seq_len=eval_model.hps.max_seq_len, temperature=temperature, z=z)\n",
    "  strokes = to_normal_strokes(sample_strokes)\n",
    "  if draw_mode:\n",
    "    draw_strokes(strokes, factor=factor)\n",
    "  return strokes"
   ]
  },
  {
   "cell_type": "markdown",
   "metadata": {},
   "source": [
    "## Multi-Class Models"
   ]
  },
  {
   "cell_type": "code",
   "execution_count": 7,
   "metadata": {},
   "outputs": [
    {
     "name": "stdout",
     "output_type": "stream",
     "text": [
      "INFO:tensorflow:Model using gpu.\n",
      "INFO:tensorflow:Input dropout mode = False.\n",
      "INFO:tensorflow:Output dropout mode = False.\n",
      "INFO:tensorflow:Recurrent dropout mode = True.\n",
      "INFO:tensorflow:Model using gpu.\n",
      "INFO:tensorflow:Input dropout mode = 0.\n",
      "INFO:tensorflow:Output dropout mode = 0.\n",
      "INFO:tensorflow:Recurrent dropout mode = 0.\n",
      "INFO:tensorflow:Model using gpu.\n",
      "INFO:tensorflow:Input dropout mode = 0.\n",
      "INFO:tensorflow:Output dropout mode = 0.\n",
      "INFO:tensorflow:Recurrent dropout mode = 0.\n",
      "INFO:tensorflow:Loading model gen/vector-70000.\n",
      "INFO:tensorflow:Restoring parameters from gen/vector-70000\n"
     ]
    }
   ],
   "source": [
    "model_dir = 'gen/'\n",
    "[hps_model, eval_hps_model, sample_hps_model] = load_model(model_dir)\n",
    "# construct the sketch-rnn model here:\n",
    "reset_graph()\n",
    "model = Model(hps_model)\n",
    "eval_model = Model(eval_hps_model, reuse=True)\n",
    "sample_model = Model(sample_hps_model, reuse=True)\n",
    "sess = tf.InteractiveSession()\n",
    "sess.run(tf.global_variables_initializer())\n",
    "# loads the weights from checkpoint into our model\n",
    "load_checkpoint(sess, model_dir)"
   ]
  },
  {
   "cell_type": "code",
   "execution_count": 8,
   "metadata": {},
   "outputs": [
    {
     "name": "stdout",
     "output_type": "stream",
     "text": [
      "INFO:tensorflow:Loaded 45000/2500/2500 from ear_cnn.npz\n",
      "INFO:tensorflow:Loaded 45000/2500/2500 from eye_cnn.npz\n",
      "INFO:tensorflow:Loaded 45000/2500/2500 from mouth_cnn.npz\n",
      "INFO:tensorflow:Loaded 45000/2500/2500 from nose_cnn.npz\n",
      "INFO:tensorflow:Dataset combined: 200000 (180000/10000/10000), avg len 36\n",
      "INFO:tensorflow:model_params.max_seq_len 125.\n",
      "total images <= max_seq_len is 180000\n",
      "total images <= max_seq_len is 10000\n",
      "total images <= max_seq_len is 10000\n",
      "INFO:tensorflow:normalizing_scale_factor 45.8366.\n",
      "INFO:tensorflow:Loaded 45000/2500/2500 from ear_cnn.npy\n",
      "INFO:tensorflow:Loaded 45000/2500/2500 from eye_cnn.npy\n",
      "INFO:tensorflow:Loaded 45000/2500/2500 from mouth_cnn.npy\n",
      "INFO:tensorflow:Loaded 45000/2500/2500 from nose_cnn.npy\n"
     ]
    }
   ],
   "source": [
    "# load datasets\n",
    "data_dir = 'datasets/'\n",
    "[train_set, valid_set, test_set, hps_model, eval_hps_model, sample_hps_model] = load_env(data_dir, model_dir)\n",
    "[train_ims, valid_ims, test_ims] = load_env_ims(data_dir, model_dir)"
   ]
  },
  {
   "cell_type": "code",
   "execution_count": 532,
   "metadata": {},
   "outputs": [
    {
     "name": "stdout",
     "output_type": "stream",
     "text": [
      "8814\n"
     ]
    },
    {
     "data": {
      "image/svg+xml": [
       "<svg baseProfile=\"full\" height=\"79.7796719149\" version=\"1.1\" width=\"68.6532010883\" xmlns=\"http://www.w3.org/2000/svg\" xmlns:ev=\"http://www.w3.org/2001/xml-events\" xmlns:xlink=\"http://www.w3.org/1999/xlink\"><defs/><rect fill=\"white\" height=\"79.7796719149\" width=\"68.6532010883\" x=\"0\" y=\"0\"/><path d=\"M43.6532010883,25 m-0.327249132097,1.09083048999 l-2.39982709289,2.72707611322 -7.0903980732,5.45415222645 l-2.50891000032,2.39982709289 -1.09083048999,1.63624569774 l-2.18166097999,4.90873724222 -0.872664377093,3.27249139547 l-1.74532875419,4.36332195997 -0.436332188547,2.18166097999 l1.41807958484,1.41807958484 1.63624569774,0.327249132097 l8.72664391994,-0.654498264194 5.9995675087,0.109083047137 \" fill=\"none\" stroke=\"black\" stroke-width=\"1\"/></svg>"
      ],
      "text/plain": [
       "<IPython.core.display.SVG object>"
      ]
     },
     "metadata": {},
     "output_type": "display_data"
    }
   ],
   "source": [
    "# First random samples\n",
    "#i = np.random.randint(7500,10000)\n",
    "i = 8814\n",
    "#i = np.random.randint(2500,5000)\n",
    "print(i)\n",
    "stroke_0 = np.copy(test_set.strokes[i])\n",
    "draw_strokes(stroke_0)\n",
    "im_0 = np.copy(test_ims[i,:,:]).astype('float32')\n",
    "z_0 = encode_cnn(im_0)\n"
   ]
  },
  {
   "cell_type": "code",
   "execution_count": 537,
   "metadata": {},
   "outputs": [
    {
     "name": "stdout",
     "output_type": "stream",
     "text": [
      "9303\n"
     ]
    },
    {
     "data": {
      "image/svg+xml": [
       "<svg baseProfile=\"full\" height=\"82.61583101\" version=\"1.1\" width=\"62.2173013911\" xmlns=\"http://www.w3.org/2000/svg\" xmlns:ev=\"http://www.w3.org/2001/xml-events\" xmlns:xlink=\"http://www.w3.org/1999/xlink\"><defs/><rect fill=\"white\" height=\"82.61583101\" width=\"62.2173013911\" x=\"0\" y=\"0\"/><path d=\"M26.3089967612,25 m1.19991354644,4.03607279062 l0.0,2.94524222612 -1.19991354644,5.67231833935 l0.545415244997,4.14515584707 1.74532875419,3.05432528257 l1.96349486709,1.63624569774 5.5632352829,2.83615916967 l0.981747433543,0.981747433543 0.109083047137,1.19991354644 l-0.545415244997,1.63624569774 -3.38157445192,2.18166097999 l-4.69057112932,1.74532875419 -3.59974056482,0.545415244997 \" fill=\"none\" stroke=\"black\" stroke-width=\"1\"/></svg>"
      ],
      "text/plain": [
       "<IPython.core.display.SVG object>"
      ]
     },
     "metadata": {},
     "output_type": "display_data"
    }
   ],
   "source": [
    "# Second random sample\n",
    "#i = np.random.randint(7500,10000)\n",
    "i = np.random.randint(7500,10000)\n",
    "#i = 6555\n",
    "print(i)\n",
    "stroke_1 = np.copy(test_set.strokes[i])\n",
    "draw_strokes(stroke_1)\n",
    "im_1 = np.copy(test_ims[i,:,:]).astype('float32')\n",
    "z_1 = encode_cnn(im_1)"
   ]
  },
  {
   "cell_type": "code",
   "execution_count": 538,
   "metadata": {},
   "outputs": [
    {
     "data": {
      "image/svg+xml": [
       "<svg baseProfile=\"full\" height=\"562.149870768\" version=\"1.1\" width=\"334.847481549\" xmlns=\"http://www.w3.org/2000/svg\" xmlns:ev=\"http://www.w3.org/2001/xml-events\" xmlns:xlink=\"http://www.w3.org/1999/xlink\"><defs/><rect fill=\"white\" height=\"562.149870768\" width=\"334.847481549\" x=\"0\" y=\"0\"/><path d=\"M297.133402526,25 m-37.9602581263,51.3374328613 l-95.7836270332,102.345228195 -77.3800492287,118.39107275 l-43.85432899,119.658029079 -17.1551391482,101.233577728 l13.3050784469,14.4137248397 46.6198056936,4.77080531418 l196.200323105,-11.1186496913 28.7222743034,6.06363080442 \" fill=\"none\" stroke=\"black\" stroke-width=\"1\"/></svg>"
      ],
      "text/plain": [
       "<IPython.core.display.SVG object>"
      ]
     },
     "metadata": {},
     "output_type": "display_data"
    },
    {
     "data": {
      "image/svg+xml": [
       "<svg baseProfile=\"full\" height=\"609.95664373\" version=\"1.1\" width=\"347.59381786\" xmlns=\"http://www.w3.org/2000/svg\" xmlns:ev=\"http://www.w3.org/2001/xml-events\" xmlns:xlink=\"http://www.w3.org/1999/xlink\"><defs/><rect fill=\"white\" height=\"609.95664373\" width=\"347.59381786\" x=\"0\" y=\"0\"/><path d=\"M268.835476041,25 m-43.3954596519,65.6033575535 l-87.6717925072,120.633852482 -63.2438421249,129.686248302 l-35.3567898273,125.017166138 -14.1675919294,93.9613819122 l7.01569095254,17.2993421555 38.3704960346,7.75529518723 l204.040503502,-15.3414696455 48.1671273708,5.53843416274 \" fill=\"none\" stroke=\"black\" stroke-width=\"1\"/></svg>"
      ],
      "text/plain": [
       "<IPython.core.display.SVG object>"
      ]
     },
     "metadata": {},
     "output_type": "display_data"
    },
    {
     "data": {
      "image/svg+xml": [
       "<svg baseProfile=\"full\" height=\"692.860785055\" version=\"1.1\" width=\"357.779172808\" xmlns=\"http://www.w3.org/2000/svg\" xmlns:ev=\"http://www.w3.org/2001/xml-events\" xmlns:xlink=\"http://www.w3.org/1999/xlink\"><defs/><rect fill=\"white\" height=\"692.860785055\" width=\"357.779172808\" x=\"0\" y=\"0\"/><path d=\"M239.456523955,25 m-45.9464728832,74.9192774296 l-82.303839922,153.716599941 -51.1770367622,144.067430496 l-23.6146181822,113.392782211 -11.4145562053,80.5176794529 l7.04935863614,14.8475244641 36.011198163,7.66255930066 l207.415175438,-14.6855309606 57.3034405708,0.968767236918 m-199.931025505,-74.3984878063 l10.5819091201,1.86113491654 7.26448819041,1.29453847185 l9.15001928806,-0.00245347800956 -8.73124822974,-0.100055744406 l7.54602476954,1.56867280602 -1.19712855667,-4.1597276926 l-10.4811936617,0.134947535116 10.441313684,1.55825717375 l0.105364632327,-2.88562010974 -10.0812777877,0.394622329623 l6.45596235991,2.90480591357 4.47769649327,-1.63536798209 l-6.99531137943,-2.94687021524 -0.280102714896,4.92554344237 l5.21537475288,1.07506103814 2.82254144549,-3.74013595283 l-10.6002017856,-1.46148325875 -0.187429902144,7.1231469512 l7.82866254449,-0.449793972075 -5.74104934931,-5.17619438469 l-6.81448802352,7.62138813734 10.3779628873,1.03605752811 l6.10242895782,-9.83586013317 -13.470171392,0.567062851042 l-3.70907373726,8.71350392699 10.8464412391,0.541749643162 l6.1062105,-10.6273010373 -14.7809028625,0.738626718521 l-5.2115522325,10.6821216643 12.8177672625,-1.43231414258 l-5.2480597049,-7.61187076569 -9.76460725069,9.95476543903 l3.22733260691,11.9131907821 13.9415815473,-7.25235641003 l-9.54212993383,-6.47661015391 -8.62358734012,7.70895704627 l0.931717269123,12.0535224676 15.8429831266,-5.75020201504 l-7.51008912921,-9.31487753987 -10.710825026,9.99071151018 l1.14663857967,13.1505325437 15.7347351313,-6.95485621691 l-7.81574621797,-8.83383080363 -9.53096151352,8.36654230952 l1.49950934574,13.3475035429 16.1368623376,-7.67856016755 l-9.15592610836,-8.66276547313 -9.57059189677,10.2732270956 l1.0234022513,13.4873434901 16.4925292134,-6.91813081503 l-7.04908743501,-7.99167379737 -12.6196220517,4.35432121158 l-1.96763258427,13.2064893842 17.6194816828,-5.9010013938 l-6.47584050894,-8.27743187547 -9.15442705154,8.90373438597 l0.965809635818,13.3453533053 16.2479832768,-7.68473297358 l-8.41820016503,-6.5216742456 -11.9001537561,9.83022153378 l0.459555489942,13.473932445 18.671014905,-8.82689133286 l-8.76941233873,-11.1061125994 -11.8963994086,8.3624817431 l-0.283397897147,14.2178580165 11.3165609539,5.10030053556 l6.95070028305,-9.66027155519 -13.4685948491,-7.00223445892 l-10.4165382683,6.67767375708 0.0477046036394,13.6293634772 l11.3703563809,5.87948411703 7.72748589516,-8.62907543778 l-10.4450434446,-10.9444580972 -11.7459014058,3.70405390859 l-1.64815094322,14.372099936 11.2160332501,6.71214461327 l7.70506858826,-8.69199186563 -11.3642260432,-10.0840047002 l-8.686760813,10.9401106834 2.43438929319,14.5956769586 l15.1307597756,-10.8644597232 -7.37112239003,-8.73606950045 l-12.152647227,3.98196056485 -2.36528795213,14.5150274038 l10.8030818403,6.49061799049 7.27255120873,-9.22761932015 l-10.9604910016,-9.53145176172 -10.9478250146,5.00606410205 l-1.43586974591,14.6811634302 10.3350885212,5.94875104725 l7.25557729602,-8.84795114398 -10.5018101633,-10.1043269038 l-6.67307078838,11.9314678013 7.9065233469,8.01476538181 l12.8724128008,-9.2552959919 -9.88806337118,-8.02384391427 l-9.07896012068,11.6852462292 1.23718194664,16.0759270191 l11.1981905997,5.20598627627 6.75001218915,-9.27299261093 l-11.8139967322,-13.7270689011 -13.3656591177,2.82814260572 l-2.5873074308,14.52806741 9.01707932353,7.14319124818 l12.5848308206,-10.4155927896 -10.1896338165,-7.81297013164 l-12.038706243,4.97755222023 -2.66412179917,15.0641903281 l10.1594828069,6.79551362991 7.43485838175,-9.57168191671 l-9.29135382175,-12.5044092536 -12.0481878519,3.99575605989 l-2.20357887447,15.3986021876 10.5736166239,6.41587972641 l7.97180533409,-8.87402445078 \" fill=\"none\" stroke=\"black\" stroke-width=\"1\"/></svg>"
      ],
      "text/plain": [
       "<IPython.core.display.SVG object>"
      ]
     },
     "metadata": {},
     "output_type": "display_data"
    },
    {
     "data": {
      "image/svg+xml": [
       "<svg baseProfile=\"full\" height=\"908.989726007\" version=\"1.1\" width=\"476.984122396\" xmlns=\"http://www.w3.org/2000/svg\" xmlns:ev=\"http://www.w3.org/2001/xml-events\" xmlns:xlink=\"http://www.w3.org/1999/xlink\"><defs/><rect fill=\"white\" height=\"908.989726007\" width=\"476.984122396\" x=\"0\" y=\"0\"/><path d=\"M262.628681213,25 m-41.6669726372,87.5873327255 l-64.1039788723,167.062592506 -35.0136727095,148.408794403 l-20.3162550926,103.077960014 -16.2291765213,76.1350035667 l-11.2009391189,53.6744773388 -11.9757652283,46.1704701185 l-14.6609723568,43.9291715622 -14.5285755396,47.1651136875 l-7.93237313628,47.2488284111 4.53903675079,16.5565952659 l19.6396321058,14.0711829066 41.9953137636,7.90220350027 l209.670233727,-8.42098593712 104.821968079,-6.53236880898 l46.3179379702,-6.13754577935 m-268.601465225,-107.374334335 l-5.71528896689,11.6536960006 8.84458422661,9.40837115049 l16.036054492,-3.04758884013 -5.46199083328,-12.4797739089 l-13.6300265789,2.50638797879 -2.92734671384,12.4575488269 l18.9335897565,-5.90659976006 6.54028505087,-14.8044094443 l-17.9069504142,1.13640911877 -3.62810902297,12.5294297934 l16.501571238,-2.38486286253 6.74200430512,-13.323007524 l-18.1754603982,2.51279361546 -4.10090982914,11.787057668 l16.0816892982,-3.5442315042 6.44688457251,-14.0097483993 l-18.7665387988,3.02207116038 -4.76919300854,13.0175352097 l18.2147681713,-2.92970705777 7.34806358814,-14.2293572426 l-17.5161853433,1.94851327688 -4.88825924695,13.2156997919 l10.8741819859,6.51505738497 8.40616226196,-8.99168178439 l-14.2837911844,-5.09875379503 -6.0631390661,8.52189287543 l15.5308529735,-1.06344874948 2.68620606512,-14.8748919368 l-18.2783782482,3.5541985184 -3.14788706601,15.2419120073 l18.6056911945,-4.24551777542 6.89842775464,-14.4989386201 l-8.44238623977,-8.70470032096 -11.8176192045,5.00222034752 l-3.981699422,16.2022009492 10.1549118757,7.55928754807 l8.1093095243,-7.81900212169 -10.5463378131,-8.37482735515 l-13.3499220014,5.21307401359 -1.7903001979,14.5923987031 l11.3500468433,6.38388320804 7.90147408843,-8.44567939639 l-9.84565019608,-9.74026173353 -12.6403898001,4.42178435624 l-1.68578438461,15.0014564395 11.3988853991,6.42609074712 l7.82724022865,-8.80317538977 -9.97591242194,-10.2117344737 l-12.6570671797,4.24355976284 -2.3907314986,15.1456519961 l10.6038287282,6.82176947594 7.68587067723,-8.82447883487 l-10.2151244879,-11.8751518428 -12.4234542251,4.27411161363 l-0.877841655165,13.6755749583 11.299739778,6.64076507092 l7.07261860371,-8.83063748479 -11.0496707261,-10.10915488 l-12.9058375955,3.85499559343 -1.42561299726,14.446772635 l10.9680972993,6.24826960266 8.7679117918,-8.51105973125 l-9.71543565392,-11.9633421302 -13.4783223271,3.51472944021 l-2.34773308039,15.5777707696 10.4084052145,7.0899233222 l7.45608434081,-8.56803804636 -8.14046114683,-12.7713948488 l-11.8467159569,3.20175103843 -1.36777833104,14.111764729 l11.2382277846,6.13217540085 7.80028477311,-8.85785743594 l-10.8095094562,-13.0146801472 -12.169457972,3.95971871912 l-1.9059471786,16.0387009382 10.5781286955,7.43985250592 l7.8929759562,-8.46255198121 -9.71484780312,-13.072296977 l-12.3776473105,3.3224452287 -0.75783804059,16.0754978657 l11.2123981118,6.97141513228 8.04377347231,-8.46056640148 l-10.1106122136,-16.194717586 -13.8138443232,1.55166722834 l-3.48743163049,17.3005342484 10.4035638273,7.61459171772 l8.13972875476,-8.65129306912 -8.83418023586,-12.0820917189 l-11.8612103164,4.31003049016 -0.978817604482,18.0958837271 l10.6920272112,7.521199435 8.13562572002,-9.07500758767 l-8.27035680413,-13.640114665 -13.244767487,1.09040550888 l-3.47709953785,16.6656732559 10.7958637178,7.84356668591 l8.18308442831,-8.35056677461 -8.779707551,-13.1488412619 l-13.4195178747,2.38256100565 -2.42788996547,17.2189727426 l10.308059305,7.67718479037 8.34215059876,-8.24676603079 l-7.64872804284,-13.3758425713 -12.5162139535,2.08978597075 l-2.24026869982,16.1457195878 10.0359983742,7.25861340761 l7.88716524839,-8.8787317276 -9.48356240988,-12.0337732136 \" fill=\"none\" stroke=\"black\" stroke-width=\"1\"/></svg>"
      ],
      "text/plain": [
       "<IPython.core.display.SVG object>"
      ]
     },
     "metadata": {},
     "output_type": "display_data"
    },
    {
     "data": {
      "image/svg+xml": [
       "<svg baseProfile=\"full\" height=\"698.515815753\" version=\"1.1\" width=\"345.046807826\" xmlns=\"http://www.w3.org/2000/svg\" xmlns:ev=\"http://www.w3.org/2001/xml-events\" xmlns:xlink=\"http://www.w3.org/1999/xlink\"><defs/><rect fill=\"white\" height=\"698.515815753\" width=\"345.046807826\" x=\"0\" y=\"0\"/><path d=\"M181.118324395,25 m-21.4768081903,76.9543945789 l-50.2680420876,191.370725632 -16.6436910629,123.681712151 l-5.16305565834,72.7097392082 73.7354755402,5.24897761643 l73.059874773,11.8527702987 55.5098891258,30.3478270769 l30.1640957594,33.4479510784 0.0107452317025,46.4155942202 l-15.2300134301,17.2386705875 -35.2828741074,16.5091887116 l-192.44351387,21.8842938542 -52.0904064178,0.85397073999 l0.131070287898,-16.3360089064 \" fill=\"none\" stroke=\"black\" stroke-width=\"1\"/></svg>"
      ],
      "text/plain": [
       "<IPython.core.display.SVG object>"
      ]
     },
     "metadata": {},
     "output_type": "display_data"
    },
    {
     "data": {
      "image/svg+xml": [
       "<svg baseProfile=\"full\" height=\"644.311669096\" version=\"1.1\" width=\"307.462192141\" xmlns=\"http://www.w3.org/2000/svg\" xmlns:ev=\"http://www.w3.org/2001/xml-events\" xmlns:xlink=\"http://www.w3.org/1999/xlink\"><defs/><rect fill=\"white\" height=\"644.311669096\" width=\"307.462192141\" x=\"0\" y=\"0\"/><path d=\"M127.379027568,25 m-12.5063583255,74.926251173 l-34.823307395,169.899141788 -5.11241406202,117.518818378 l64.0315175056,27.8832614422 61.7419540882,22.812564671 l44.9372053146,35.1691991091 36.8145674467,49.1954088211 l-1.57095845789,35.6613874435 -46.353623271,29.5354932547 l-160.041725636,29.5011103153 -49.4958847761,2.20903269947 \" fill=\"none\" stroke=\"black\" stroke-width=\"1\"/></svg>"
      ],
      "text/plain": [
       "<IPython.core.display.SVG object>"
      ]
     },
     "metadata": {},
     "output_type": "display_data"
    },
    {
     "data": {
      "image/svg+xml": [
       "<svg baseProfile=\"full\" height=\"638.259119168\" version=\"1.1\" width=\"259.741894156\" xmlns=\"http://www.w3.org/2000/svg\" xmlns:ev=\"http://www.w3.org/2001/xml-events\" xmlns:xlink=\"http://www.w3.org/1999/xlink\"><defs/><rect fill=\"white\" height=\"638.259119168\" width=\"259.741894156\" x=\"0\" y=\"0\"/><path d=\"M83.1643871963,25 m-9.98132154346,70.7390427589 l-22.5524097681,178.146755695 9.83917191625,102.68573761 l84.1953635216,36.5547448397 53.7937283516,30.9851527214 l28.3799052238,40.8530563116 7.90306925774,38.9591604471 l-7.5306750834,19.2621320486 -49.4132578373,34.5908761024 l-99.2266833782,29.6729892492 -53.5712778568,5.80947138369 \" fill=\"none\" stroke=\"black\" stroke-width=\"1\"/></svg>"
      ],
      "text/plain": [
       "<IPython.core.display.SVG object>"
      ]
     },
     "metadata": {},
     "output_type": "display_data"
    },
    {
     "data": {
      "image/svg+xml": [
       "<svg baseProfile=\"full\" height=\"702.316620201\" version=\"1.1\" width=\"294.346027821\" xmlns=\"http://www.w3.org/2000/svg\" xmlns:ev=\"http://www.w3.org/2001/xml-events\" xmlns:xlink=\"http://www.w3.org/1999/xlink\"><defs/><rect fill=\"white\" height=\"702.316620201\" width=\"294.346027821\" x=\"0\" y=\"0\"/><path d=\"M51.1799352244,25 m23.9982709289,80.7214558125 l0.0,58.9048445225 -23.9982709289,113.446366787 l10.9083048999,82.9031169415 34.9065750837,61.0865056515 l39.2698973417,32.7249139547 111.264705658,56.7231833935 l19.6349486709,19.6349486709 2.18166094273,23.9982709289 l-10.9083048999,32.7249139547 -67.6314890385,43.6332195997 l-93.8114225864,34.9065750837 -71.9948112965,10.9083048999 \" fill=\"none\" stroke=\"black\" stroke-width=\"1\"/></svg>"
      ],
      "text/plain": [
       "<IPython.core.display.SVG object>"
      ]
     },
     "metadata": {},
     "output_type": "display_data"
    }
   ],
   "source": [
    "# interpolation\n",
    "z_list = [] # interpolate spherically between z0 and z1\n",
    "N = 8\n",
    "for t in np.linspace(0, 1, N):\n",
    "  z_list.append(slerp(z_0, z_1, t))\n",
    "\n",
    "# for every latent vector in z_list, sample a vector image\n",
    "reconstructions = []\n",
    "reconstructions.append([stroke_0, [0, 0]])\n",
    "outfile = \"nose/nose9_\"\n",
    "for i in range(1,N):\n",
    "    decoded = decode(z_list[i],draw_mode=False)\n",
    "    draw_strokes(decoded,svg_filename = outfile+str(i)+\".svg\",factor=0.01)\n",
    "    #reconstructions.append([decode(z_list[i], draw_mode=False), [0, i]])\n",
    "draw_strokes(stroke_1,svg_filename = outfile+str(i+1)+\".svg\",factor=0.01)\n",
    "#reconstructions.append([stroke_1, [0, N]])\n",
    "\n",
    "#stroke_grid = make_grid_svg(reconstructions)\n",
    "#draw_strokes(stroke_grid,factor=0.2, svg_filename = 'svg/cnn_interp_1.svg')"
   ]
  },
  {
   "cell_type": "code",
   "execution_count": null,
   "metadata": {},
   "outputs": [],
   "source": []
  }
 ],
 "metadata": {
  "kernelspec": {
   "display_name": "Python 2",
   "language": "python",
   "name": "python2"
  },
  "language_info": {
   "codemirror_mode": {
    "name": "ipython",
    "version": 2
   },
   "file_extension": ".py",
   "mimetype": "text/x-python",
   "name": "python",
   "nbconvert_exporter": "python",
   "pygments_lexer": "ipython2",
   "version": "2.7.10"
  }
 },
 "nbformat": 4,
 "nbformat_minor": 1
}
